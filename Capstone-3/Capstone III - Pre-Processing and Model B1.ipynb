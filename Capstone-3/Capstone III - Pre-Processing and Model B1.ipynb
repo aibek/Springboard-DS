{
 "cells": [
  {
   "cell_type": "markdown",
   "metadata": {},
   "source": [
    "# Capstone Data Wrangling and EDA"
   ]
  },
  {
   "cell_type": "markdown",
   "metadata": {},
   "source": [
    "## Imports"
   ]
  },
  {
   "cell_type": "code",
   "execution_count": 1,
   "metadata": {},
   "outputs": [],
   "source": [
    "import pandas as pd\n",
    "import seaborn as sns\n",
    "import matplotlib.pyplot as plt"
   ]
  },
  {
   "cell_type": "code",
   "execution_count": 2,
   "metadata": {
    "scrolled": false
   },
   "outputs": [],
   "source": [
    "import spacy\n",
    "import scattertext"
   ]
  },
  {
   "cell_type": "code",
   "execution_count": 3,
   "metadata": {},
   "outputs": [],
   "source": [
    "from nltk import corpus"
   ]
  },
  {
   "cell_type": "code",
   "execution_count": 4,
   "metadata": {},
   "outputs": [],
   "source": [
    "import numpy as np\n",
    "from glob import glob"
   ]
  },
  {
   "cell_type": "code",
   "execution_count": 5,
   "metadata": {},
   "outputs": [],
   "source": [
    "from sklearn.model_selection import train_test_split\n",
    "from sklearn.feature_extraction.text import CountVectorizer\n",
    "from sklearn import svm\n",
    "from sklearn.metrics import f1_score"
   ]
  },
  {
   "cell_type": "code",
   "execution_count": 6,
   "metadata": {},
   "outputs": [],
   "source": [
    "from sklearn.pipeline import Pipeline\n",
    "from sklearn.ensemble import RandomForestClassifier\n",
    "from sklearn.feature_extraction.text import TfidfVectorizer"
   ]
  },
  {
   "cell_type": "code",
   "execution_count": 7,
   "metadata": {},
   "outputs": [],
   "source": [
    "from sklearn.metrics import accuracy_score, confusion_matrix, classification_report\n",
    "%matplotlib inline"
   ]
  },
  {
   "cell_type": "code",
   "execution_count": 8,
   "metadata": {},
   "outputs": [],
   "source": [
    "from sklearn.linear_model import SGDClassifier"
   ]
  },
  {
   "cell_type": "markdown",
   "metadata": {},
   "source": [
    "# 1. Load Data"
   ]
  },
  {
   "cell_type": "code",
   "execution_count": 9,
   "metadata": {},
   "outputs": [],
   "source": [
    "# Load the data\n",
    "data = pd.read_excel('data/Yelp_Restaurant_Reviews_DF_1M_7Y.xlsx')"
   ]
  },
  {
   "cell_type": "code",
   "execution_count": 10,
   "metadata": {
    "scrolled": true
   },
   "outputs": [
    {
     "data": {
      "text/html": [
       "<div>\n",
       "<style scoped>\n",
       "    .dataframe tbody tr th:only-of-type {\n",
       "        vertical-align: middle;\n",
       "    }\n",
       "\n",
       "    .dataframe tbody tr th {\n",
       "        vertical-align: top;\n",
       "    }\n",
       "\n",
       "    .dataframe thead th {\n",
       "        text-align: right;\n",
       "    }\n",
       "</style>\n",
       "<table border=\"1\" class=\"dataframe\">\n",
       "  <thead>\n",
       "    <tr style=\"text-align: right;\">\n",
       "      <th></th>\n",
       "      <th>name</th>\n",
       "      <th>city</th>\n",
       "      <th>state</th>\n",
       "      <th>stars</th>\n",
       "      <th>review_count</th>\n",
       "      <th>categories</th>\n",
       "      <th>review_stars</th>\n",
       "      <th>is_funny</th>\n",
       "      <th>funny_count</th>\n",
       "      <th>cool</th>\n",
       "      <th>text</th>\n",
       "      <th>date</th>\n",
       "    </tr>\n",
       "  </thead>\n",
       "  <tbody>\n",
       "    <tr>\n",
       "      <th>0</th>\n",
       "      <td>Community Q BBQ</td>\n",
       "      <td>Decatur</td>\n",
       "      <td>GA</td>\n",
       "      <td>4.0</td>\n",
       "      <td>886</td>\n",
       "      <td>Barbeque, American (Traditional), Restaurants,...</td>\n",
       "      <td>3</td>\n",
       "      <td>1</td>\n",
       "      <td>264</td>\n",
       "      <td>348</td>\n",
       "      <td>[ DISCLAIMER ] \\nI'm not a complainer. Never h...</td>\n",
       "      <td>2020-01-23 17:35:16</td>\n",
       "    </tr>\n",
       "    <tr>\n",
       "      <th>1</th>\n",
       "      <td>Land of a Thousand Hills Coffee Co.</td>\n",
       "      <td>Lynn</td>\n",
       "      <td>MA</td>\n",
       "      <td>4.5</td>\n",
       "      <td>52</td>\n",
       "      <td>Event Planning &amp; Services, Coffee &amp; Tea, Glute...</td>\n",
       "      <td>5</td>\n",
       "      <td>1</td>\n",
       "      <td>230</td>\n",
       "      <td>0</td>\n",
       "      <td>Service good and friendly. Coffee choices grea...</td>\n",
       "      <td>2016-06-18 23:28:31</td>\n",
       "    </tr>\n",
       "    <tr>\n",
       "      <th>2</th>\n",
       "      <td>Community Q BBQ</td>\n",
       "      <td>Decatur</td>\n",
       "      <td>GA</td>\n",
       "      <td>4.0</td>\n",
       "      <td>886</td>\n",
       "      <td>Barbeque, American (Traditional), Restaurants,...</td>\n",
       "      <td>5</td>\n",
       "      <td>1</td>\n",
       "      <td>184</td>\n",
       "      <td>239</td>\n",
       "      <td>I want to apologize to the owners of Community...</td>\n",
       "      <td>2018-04-04 23:39:19</td>\n",
       "    </tr>\n",
       "    <tr>\n",
       "      <th>3</th>\n",
       "      <td>Ponce City Market</td>\n",
       "      <td>Atlanta</td>\n",
       "      <td>GA</td>\n",
       "      <td>4.0</td>\n",
       "      <td>1139</td>\n",
       "      <td>Food Court, Shopping Centers, Home Services, R...</td>\n",
       "      <td>5</td>\n",
       "      <td>1</td>\n",
       "      <td>172</td>\n",
       "      <td>220</td>\n",
       "      <td>I am totally in love with this place! This is ...</td>\n",
       "      <td>2017-09-15 14:47:18</td>\n",
       "    </tr>\n",
       "    <tr>\n",
       "      <th>4</th>\n",
       "      <td>Meatballerz Restaurant</td>\n",
       "      <td>Atlanta</td>\n",
       "      <td>GA</td>\n",
       "      <td>4.5</td>\n",
       "      <td>77</td>\n",
       "      <td>Food Trucks, Food, Italian, Breakfast &amp; Brunch...</td>\n",
       "      <td>3</td>\n",
       "      <td>1</td>\n",
       "      <td>171</td>\n",
       "      <td>186</td>\n",
       "      <td>Their company motto is: \"You won't regret putt...</td>\n",
       "      <td>2019-03-25 12:33:20</td>\n",
       "    </tr>\n",
       "  </tbody>\n",
       "</table>\n",
       "</div>"
      ],
      "text/plain": [
       "                                  name     city state  stars  review_count  \\\n",
       "0                      Community Q BBQ  Decatur    GA    4.0           886   \n",
       "1  Land of a Thousand Hills Coffee Co.     Lynn    MA    4.5            52   \n",
       "2                      Community Q BBQ  Decatur    GA    4.0           886   \n",
       "3                    Ponce City Market  Atlanta    GA    4.0          1139   \n",
       "4               Meatballerz Restaurant  Atlanta    GA    4.5            77   \n",
       "\n",
       "                                          categories  review_stars  is_funny  \\\n",
       "0  Barbeque, American (Traditional), Restaurants,...             3         1   \n",
       "1  Event Planning & Services, Coffee & Tea, Glute...             5         1   \n",
       "2  Barbeque, American (Traditional), Restaurants,...             5         1   \n",
       "3  Food Court, Shopping Centers, Home Services, R...             5         1   \n",
       "4  Food Trucks, Food, Italian, Breakfast & Brunch...             3         1   \n",
       "\n",
       "   funny_count  cool                                               text  \\\n",
       "0          264   348  [ DISCLAIMER ] \\nI'm not a complainer. Never h...   \n",
       "1          230     0  Service good and friendly. Coffee choices grea...   \n",
       "2          184   239  I want to apologize to the owners of Community...   \n",
       "3          172   220  I am totally in love with this place! This is ...   \n",
       "4          171   186  Their company motto is: \"You won't regret putt...   \n",
       "\n",
       "                 date  \n",
       "0 2020-01-23 17:35:16  \n",
       "1 2016-06-18 23:28:31  \n",
       "2 2018-04-04 23:39:19  \n",
       "3 2017-09-15 14:47:18  \n",
       "4 2019-03-25 12:33:20  "
      ]
     },
     "execution_count": 10,
     "metadata": {},
     "output_type": "execute_result"
    }
   ],
   "source": [
    "data.head()"
   ]
  },
  {
   "cell_type": "markdown",
   "metadata": {},
   "source": [
    "# 2. Data Wrangling"
   ]
  },
  {
   "cell_type": "markdown",
   "metadata": {},
   "source": [
    "## 2.1 Clean the data\n",
    "Let's drop some columns that don't add anything to our purpose:"
   ]
  },
  {
   "cell_type": "code",
   "execution_count": 11,
   "metadata": {},
   "outputs": [],
   "source": [
    "df = data.copy()"
   ]
  },
  {
   "cell_type": "code",
   "execution_count": 12,
   "metadata": {
    "scrolled": true
   },
   "outputs": [
    {
     "name": "stdout",
     "output_type": "stream",
     "text": [
      "<class 'pandas.core.frame.DataFrame'>\n",
      "RangeIndex: 573657 entries, 0 to 573656\n",
      "Data columns (total 12 columns):\n",
      " #   Column        Non-Null Count   Dtype         \n",
      "---  ------        --------------   -----         \n",
      " 0   name          573657 non-null  object        \n",
      " 1   city          573657 non-null  object        \n",
      " 2   state         573657 non-null  object        \n",
      " 3   stars         573657 non-null  float64       \n",
      " 4   review_count  573657 non-null  int64         \n",
      " 5   categories    573657 non-null  object        \n",
      " 6   review_stars  573657 non-null  int64         \n",
      " 7   is_funny      573657 non-null  int64         \n",
      " 8   funny_count   573657 non-null  int64         \n",
      " 9   cool          573657 non-null  int64         \n",
      " 10  text          573638 non-null  object        \n",
      " 11  date          573657 non-null  datetime64[ns]\n",
      "dtypes: datetime64[ns](1), float64(1), int64(5), object(5)\n",
      "memory usage: 52.5+ MB\n"
     ]
    }
   ],
   "source": [
    "df.info()"
   ]
  },
  {
   "cell_type": "markdown",
   "metadata": {},
   "source": [
    "Assign to a new dataframe df, after dropping the date field"
   ]
  },
  {
   "cell_type": "code",
   "execution_count": 13,
   "metadata": {},
   "outputs": [],
   "source": [
    "# Drop the following columns: business_id, address, latitude, longitude, is_open, attributes, categories, hours, user_id, date\n",
    "df.drop(df.columns[[0,1,2,5,9,11]], axis=1, inplace=True)"
   ]
  },
  {
   "cell_type": "code",
   "execution_count": 14,
   "metadata": {},
   "outputs": [],
   "source": [
    "df = df.dropna()"
   ]
  },
  {
   "cell_type": "code",
   "execution_count": 15,
   "metadata": {},
   "outputs": [
    {
     "name": "stdout",
     "output_type": "stream",
     "text": [
      "<class 'pandas.core.frame.DataFrame'>\n",
      "Int64Index: 573638 entries, 0 to 573656\n",
      "Data columns (total 6 columns):\n",
      " #   Column        Non-Null Count   Dtype  \n",
      "---  ------        --------------   -----  \n",
      " 0   stars         573638 non-null  float64\n",
      " 1   review_count  573638 non-null  int64  \n",
      " 2   review_stars  573638 non-null  int64  \n",
      " 3   is_funny      573638 non-null  int64  \n",
      " 4   funny_count   573638 non-null  int64  \n",
      " 5   text          573638 non-null  object \n",
      "dtypes: float64(1), int64(4), object(1)\n",
      "memory usage: 30.6+ MB\n"
     ]
    }
   ],
   "source": [
    "df.info()"
   ]
  },
  {
   "cell_type": "code",
   "execution_count": 16,
   "metadata": {},
   "outputs": [
    {
     "data": {
      "text/html": [
       "<div>\n",
       "<style scoped>\n",
       "    .dataframe tbody tr th:only-of-type {\n",
       "        vertical-align: middle;\n",
       "    }\n",
       "\n",
       "    .dataframe tbody tr th {\n",
       "        vertical-align: top;\n",
       "    }\n",
       "\n",
       "    .dataframe thead th {\n",
       "        text-align: right;\n",
       "    }\n",
       "</style>\n",
       "<table border=\"1\" class=\"dataframe\">\n",
       "  <thead>\n",
       "    <tr style=\"text-align: right;\">\n",
       "      <th></th>\n",
       "      <th>stars</th>\n",
       "      <th>review_count</th>\n",
       "      <th>review_stars</th>\n",
       "      <th>is_funny</th>\n",
       "      <th>funny_count</th>\n",
       "      <th>text</th>\n",
       "    </tr>\n",
       "  </thead>\n",
       "  <tbody>\n",
       "    <tr>\n",
       "      <th>0</th>\n",
       "      <td>4.0</td>\n",
       "      <td>886</td>\n",
       "      <td>3</td>\n",
       "      <td>1</td>\n",
       "      <td>264</td>\n",
       "      <td>[ DISCLAIMER ] \\nI'm not a complainer. Never h...</td>\n",
       "    </tr>\n",
       "    <tr>\n",
       "      <th>1</th>\n",
       "      <td>4.5</td>\n",
       "      <td>52</td>\n",
       "      <td>5</td>\n",
       "      <td>1</td>\n",
       "      <td>230</td>\n",
       "      <td>Service good and friendly. Coffee choices grea...</td>\n",
       "    </tr>\n",
       "    <tr>\n",
       "      <th>2</th>\n",
       "      <td>4.0</td>\n",
       "      <td>886</td>\n",
       "      <td>5</td>\n",
       "      <td>1</td>\n",
       "      <td>184</td>\n",
       "      <td>I want to apologize to the owners of Community...</td>\n",
       "    </tr>\n",
       "    <tr>\n",
       "      <th>3</th>\n",
       "      <td>4.0</td>\n",
       "      <td>1139</td>\n",
       "      <td>5</td>\n",
       "      <td>1</td>\n",
       "      <td>172</td>\n",
       "      <td>I am totally in love with this place! This is ...</td>\n",
       "    </tr>\n",
       "    <tr>\n",
       "      <th>4</th>\n",
       "      <td>4.5</td>\n",
       "      <td>77</td>\n",
       "      <td>3</td>\n",
       "      <td>1</td>\n",
       "      <td>171</td>\n",
       "      <td>Their company motto is: \"You won't regret putt...</td>\n",
       "    </tr>\n",
       "  </tbody>\n",
       "</table>\n",
       "</div>"
      ],
      "text/plain": [
       "   stars  review_count  review_stars  is_funny  funny_count  \\\n",
       "0    4.0           886             3         1          264   \n",
       "1    4.5            52             5         1          230   \n",
       "2    4.0           886             5         1          184   \n",
       "3    4.0          1139             5         1          172   \n",
       "4    4.5            77             3         1          171   \n",
       "\n",
       "                                                text  \n",
       "0  [ DISCLAIMER ] \\nI'm not a complainer. Never h...  \n",
       "1  Service good and friendly. Coffee choices grea...  \n",
       "2  I want to apologize to the owners of Community...  \n",
       "3  I am totally in love with this place! This is ...  \n",
       "4  Their company motto is: \"You won't regret putt...  "
      ]
     },
     "execution_count": 16,
     "metadata": {},
     "output_type": "execute_result"
    }
   ],
   "source": [
    "df.head()"
   ]
  },
  {
   "cell_type": "markdown",
   "metadata": {},
   "source": [
    "The dataframe looks a lot cleaner now too. Let's move on."
   ]
  },
  {
   "cell_type": "markdown",
   "metadata": {},
   "source": [
    "## 2.2 Visualize distribution of initial data"
   ]
  },
  {
   "cell_type": "markdown",
   "metadata": {},
   "source": [
    "### Distribution of Business Ratings"
   ]
  },
  {
   "cell_type": "code",
   "execution_count": 19,
   "metadata": {},
   "outputs": [
    {
     "data": {
      "image/png": "[encoded data removed]",
      "text/plain": [
       "<Figure size 432x288 with 1 Axes>"
      ]
     },
     "metadata": {
      "needs_background": "light"
     },
     "output_type": "display_data"
    }
   ],
   "source": [
    "sns.distplot(df['stars']);"
   ]
  },
  {
   "cell_type": "code",
   "execution_count": 22,
   "metadata": {},
   "outputs": [
    {
     "data": {
      "text/plain": [
       "<matplotlib.axes._subplots.AxesSubplot at 0x14a80ae1280>"
      ]
     },
     "execution_count": 22,
     "metadata": {},
     "output_type": "execute_result"
    },
    {
     "data": {
      "image/png": "[encoded data removed]",
      "text/plain": [
       "<Figure size 864x504 with 1 Axes>"
      ]
     },
     "metadata": {
      "needs_background": "light"
     },
     "output_type": "display_data"
    }
   ],
   "source": [
    "plt.figure(figsize=(12,7))\n",
    "sns.scatterplot(x='stars', y='funny_count', hue='is_funny', data=df)"
   ]
  },
  {
   "cell_type": "markdown",
   "metadata": {},
   "source": [
    "### Distribution of Review Ratings"
   ]
  },
  {
   "cell_type": "code",
   "execution_count": 17,
   "metadata": {},
   "outputs": [
    {
     "data": {
      "image/png": "[encoded data removed]",
      "text/plain": [
       "<Figure size 432x288 with 1 Axes>"
      ]
     },
     "metadata": {
      "needs_background": "light"
     },
     "output_type": "display_data"
    }
   ],
   "source": [
    "sns.distplot(df['review_stars']);"
   ]
  },
  {
   "cell_type": "code",
   "execution_count": 23,
   "metadata": {},
   "outputs": [
    {
     "data": {
      "text/plain": [
       "<matplotlib.axes._subplots.AxesSubplot at 0x14acd79f940>"
      ]
     },
     "execution_count": 23,
     "metadata": {},
     "output_type": "execute_result"
    },
    {
     "data": {
      "image/png": "[encoded data removed]",
      "text/plain": [
       "<Figure size 864x504 with 1 Axes>"
      ]
     },
     "metadata": {
      "needs_background": "light"
     },
     "output_type": "display_data"
    }
   ],
   "source": [
    "plt.figure(figsize=(12,7))\n",
    "sns.scatterplot(x='review_stars', y='funny_count', hue='is_funny', data=df)"
   ]
  },
  {
   "cell_type": "markdown",
   "metadata": {},
   "source": [
    "## 2.3 Data Wrangling"
   ]
  },
  {
   "cell_type": "markdown",
   "metadata": {},
   "source": [
    "### Assign \"rating\" groups to Low and High"
   ]
  },
  {
   "cell_type": "code",
   "execution_count": 24,
   "metadata": {},
   "outputs": [],
   "source": [
    "df['rating'] = df['stars'].replace(\n",
    "                {1: 'Low Rating', 1.5: 'Low Rating', 2: 'Low Rating', 2.5: 'Low Rating', 3: 'Low Rating', 3.5: 'Low Rating',\n",
    "                 4: 'High Rating', 4.5: 'High Rating', 5: 'High Rating'})"
   ]
  },
  {
   "cell_type": "code",
   "execution_count": 25,
   "metadata": {},
   "outputs": [],
   "source": [
    "df['fun_meter'] = df['is_funny'].replace(\n",
    "                    {0: 'Not Funny', 1: 'Funny'})"
   ]
  },
  {
   "cell_type": "code",
   "execution_count": 26,
   "metadata": {
    "scrolled": true
   },
   "outputs": [
    {
     "data": {
      "text/html": [
       "<div>\n",
       "<style scoped>\n",
       "    .dataframe tbody tr th:only-of-type {\n",
       "        vertical-align: middle;\n",
       "    }\n",
       "\n",
       "    .dataframe tbody tr th {\n",
       "        vertical-align: top;\n",
       "    }\n",
       "\n",
       "    .dataframe thead th {\n",
       "        text-align: right;\n",
       "    }\n",
       "</style>\n",
       "<table border=\"1\" class=\"dataframe\">\n",
       "  <thead>\n",
       "    <tr style=\"text-align: right;\">\n",
       "      <th></th>\n",
       "      <th>stars</th>\n",
       "      <th>review_count</th>\n",
       "      <th>review_stars</th>\n",
       "      <th>is_funny</th>\n",
       "      <th>funny_count</th>\n",
       "      <th>text</th>\n",
       "      <th>rating</th>\n",
       "      <th>fun_meter</th>\n",
       "    </tr>\n",
       "  </thead>\n",
       "  <tbody>\n",
       "    <tr>\n",
       "      <th>0</th>\n",
       "      <td>4.0</td>\n",
       "      <td>886</td>\n",
       "      <td>3</td>\n",
       "      <td>1</td>\n",
       "      <td>264</td>\n",
       "      <td>[ DISCLAIMER ] \\nI'm not a complainer. Never h...</td>\n",
       "      <td>High Rating</td>\n",
       "      <td>Funny</td>\n",
       "    </tr>\n",
       "    <tr>\n",
       "      <th>1</th>\n",
       "      <td>4.5</td>\n",
       "      <td>52</td>\n",
       "      <td>5</td>\n",
       "      <td>1</td>\n",
       "      <td>230</td>\n",
       "      <td>Service good and friendly. Coffee choices grea...</td>\n",
       "      <td>High Rating</td>\n",
       "      <td>Funny</td>\n",
       "    </tr>\n",
       "    <tr>\n",
       "      <th>2</th>\n",
       "      <td>4.0</td>\n",
       "      <td>886</td>\n",
       "      <td>5</td>\n",
       "      <td>1</td>\n",
       "      <td>184</td>\n",
       "      <td>I want to apologize to the owners of Community...</td>\n",
       "      <td>High Rating</td>\n",
       "      <td>Funny</td>\n",
       "    </tr>\n",
       "    <tr>\n",
       "      <th>3</th>\n",
       "      <td>4.0</td>\n",
       "      <td>1139</td>\n",
       "      <td>5</td>\n",
       "      <td>1</td>\n",
       "      <td>172</td>\n",
       "      <td>I am totally in love with this place! This is ...</td>\n",
       "      <td>High Rating</td>\n",
       "      <td>Funny</td>\n",
       "    </tr>\n",
       "    <tr>\n",
       "      <th>4</th>\n",
       "      <td>4.5</td>\n",
       "      <td>77</td>\n",
       "      <td>3</td>\n",
       "      <td>1</td>\n",
       "      <td>171</td>\n",
       "      <td>Their company motto is: \"You won't regret putt...</td>\n",
       "      <td>High Rating</td>\n",
       "      <td>Funny</td>\n",
       "    </tr>\n",
       "  </tbody>\n",
       "</table>\n",
       "</div>"
      ],
      "text/plain": [
       "   stars  review_count  review_stars  is_funny  funny_count  \\\n",
       "0    4.0           886             3         1          264   \n",
       "1    4.5            52             5         1          230   \n",
       "2    4.0           886             5         1          184   \n",
       "3    4.0          1139             5         1          172   \n",
       "4    4.5            77             3         1          171   \n",
       "\n",
       "                                                text       rating fun_meter  \n",
       "0  [ DISCLAIMER ] \\nI'm not a complainer. Never h...  High Rating     Funny  \n",
       "1  Service good and friendly. Coffee choices grea...  High Rating     Funny  \n",
       "2  I want to apologize to the owners of Community...  High Rating     Funny  \n",
       "3  I am totally in love with this place! This is ...  High Rating     Funny  \n",
       "4  Their company motto is: \"You won't regret putt...  High Rating     Funny  "
      ]
     },
     "execution_count": 26,
     "metadata": {},
     "output_type": "execute_result"
    }
   ],
   "source": [
    "df.head()"
   ]
  },
  {
   "cell_type": "markdown",
   "metadata": {},
   "source": [
    "### For fun, let's look at restaurants that have 'Low Ratings'"
   ]
  },
  {
   "cell_type": "code",
   "execution_count": 27,
   "metadata": {},
   "outputs": [],
   "source": [
    "df_low_rests = df[df['rating']=='Low Rating']"
   ]
  },
  {
   "cell_type": "code",
   "execution_count": 28,
   "metadata": {},
   "outputs": [
    {
     "data": {
      "text/plain": [
       "((573638, 8), (216750, 8))"
      ]
     },
     "execution_count": 28,
     "metadata": {},
     "output_type": "execute_result"
    }
   ],
   "source": [
    "df.shape, df_low_rests.shape"
   ]
  },
  {
   "cell_type": "code",
   "execution_count": 29,
   "metadata": {},
   "outputs": [],
   "source": [
    "low_rating_rests = round(100*len(df_low_rests)/len(df),2)"
   ]
  },
  {
   "cell_type": "code",
   "execution_count": 30,
   "metadata": {},
   "outputs": [
    {
     "name": "stdout",
     "output_type": "stream",
     "text": [
      "37.79 % of restaurants have low ratings\n"
     ]
    }
   ],
   "source": [
    "print(low_rating_rests, \"% of restaurants have low ratings\")"
   ]
  },
  {
   "cell_type": "markdown",
   "metadata": {},
   "source": [
    "#### Business Ratings and Count of Reviews"
   ]
  },
  {
   "cell_type": "code",
   "execution_count": 37,
   "metadata": {},
   "outputs": [
    {
     "data": {
      "text/plain": [
       "<matplotlib.axes._subplots.AxesSubplot at 0x14a8315e580>"
      ]
     },
     "execution_count": 37,
     "metadata": {},
     "output_type": "execute_result"
    },
    {
     "data": {
      "image/png": "[encoded data removed]",
      "text/plain": [
       "<Figure size 864x504 with 1 Axes>"
      ]
     },
     "metadata": {
      "needs_background": "light"
     },
     "output_type": "display_data"
    }
   ],
   "source": [
    "plt.figure(figsize=(12,7))\n",
    "sns.scatterplot(x='stars', y='review_count', hue='rating', data=df)"
   ]
  },
  {
   "cell_type": "markdown",
   "metadata": {},
   "source": [
    "# 3. Exploratory Data Analysis"
   ]
  },
  {
   "cell_type": "markdown",
   "metadata": {},
   "source": [
    "## 3.1. Correlations"
   ]
  },
  {
   "cell_type": "markdown",
   "metadata": {},
   "source": [
    "### Vizualize correlation between Business Rating Scores and 'Funny' Reviews"
   ]
  },
  {
   "cell_type": "markdown",
   "metadata": {},
   "source": [
    "#### Let's take a look at restaurant 'stars' and 'funny' correlation:"
   ]
  },
  {
   "cell_type": "code",
   "execution_count": 31,
   "metadata": {},
   "outputs": [
    {
     "data": {
      "text/plain": [
       "<seaborn.axisgrid.FacetGrid at 0x14acb8ef1f0>"
      ]
     },
     "execution_count": 31,
     "metadata": {},
     "output_type": "execute_result"
    },
    {
     "data": {
      "image/png": "[encoded data removed]",
      "text/plain": [
       "<Figure size 462.125x360 with 1 Axes>"
      ]
     },
     "metadata": {
      "needs_background": "light"
     },
     "output_type": "display_data"
    }
   ],
   "source": [
    "sns.relplot(x='stars',\n",
    "            y='funny_count',\n",
    "            data=df,\n",
    "            kind='scatter',\n",
    "            size='review_count',\n",
    "            hue='fun_meter')"
   ]
  },
  {
   "cell_type": "code",
   "execution_count": 43,
   "metadata": {},
   "outputs": [
    {
     "data": {
      "text/plain": [
       "<matplotlib.axes._subplots.AxesSubplot at 0x14a83dd2370>"
      ]
     },
     "execution_count": 43,
     "metadata": {},
     "output_type": "execute_result"
    },
    {
     "data": {
      "image/png": "[encoded data removed]",
      "text/plain": [
       "<Figure size 720x432 with 1 Axes>"
      ]
     },
     "metadata": {
      "needs_background": "light"
     },
     "output_type": "display_data"
    }
   ],
   "source": [
    "plt.figure(figsize=(10,6))\n",
    "sns.scatterplot(x='stars', y='funny_count', hue='fun_meter', size='review_count', data=df)"
   ]
  },
  {
   "cell_type": "markdown",
   "metadata": {},
   "source": [
    "It looks like the higher the star rating of a restaurant, the higher chance there is a funny review."
   ]
  },
  {
   "cell_type": "markdown",
   "metadata": {},
   "source": [
    "#### Another chart to confirm the correlation:"
   ]
  },
  {
   "cell_type": "code",
   "execution_count": 26,
   "metadata": {
    "scrolled": false
   },
   "outputs": [
    {
     "data": {
      "image/png": "[encoded data removed]",
      "text/plain": [
       "<Figure size 432x432 with 3 Axes>"
      ]
     },
     "metadata": {
      "needs_background": "light"
     },
     "output_type": "display_data"
    }
   ],
   "source": [
    "sns.jointplot(x=df['funny_count'], y=df['stars'], color='Red');"
   ]
  },
  {
   "cell_type": "markdown",
   "metadata": {},
   "source": [
    "#### Let's take a look at review 'ratings' and 'funny' correlation:"
   ]
  },
  {
   "cell_type": "code",
   "execution_count": 44,
   "metadata": {},
   "outputs": [
    {
     "data": {
      "text/plain": [
       "<matplotlib.axes._subplots.AxesSubplot at 0x14a84b33700>"
      ]
     },
     "execution_count": 44,
     "metadata": {},
     "output_type": "execute_result"
    },
    {
     "data": {
      "image/png": "[encoded data removed]",
      "text/plain": [
       "<Figure size 720x432 with 1 Axes>"
      ]
     },
     "metadata": {
      "needs_background": "light"
     },
     "output_type": "display_data"
    }
   ],
   "source": [
    "plt.figure(figsize=(10,6))\n",
    "sns.scatterplot(x='review_stars', y='funny_count', hue='fun_meter', size='review_count', data=df)"
   ]
  },
  {
   "cell_type": "markdown",
   "metadata": {},
   "source": [
    "## 3.2. Is dataset balanced?"
   ]
  },
  {
   "cell_type": "code",
   "execution_count": 45,
   "metadata": {},
   "outputs": [],
   "source": [
    "funny_count = len(df.loc[df.fun_meter=='Funny'])\n",
    "not_funny_count = len(df.loc[df.fun_meter=='Not Funny'])"
   ]
  },
  {
   "cell_type": "code",
   "execution_count": 46,
   "metadata": {},
   "outputs": [
    {
     "name": "stdout",
     "output_type": "stream",
     "text": [
      "The ratio of Funny to Not Funny in the dataset is Funny: 79672  to Not Funny:  493966\n",
      "or  16.13 % to 100%\n"
     ]
    }
   ],
   "source": [
    "print('The ratio of Funny to Not Funny in the dataset is Funny:', funny_count, ' to Not Funny: ', not_funny_count)\n",
    "print('or ', round(100*funny_count/not_funny_count, 2), \"% to 100%\")"
   ]
  },
  {
   "cell_type": "markdown",
   "metadata": {},
   "source": [
    "This will means the intial dataset is going to lead to skewed results and needs rebalancing"
   ]
  },
  {
   "cell_type": "markdown",
   "metadata": {},
   "source": [
    "### Let's balance the source dataset"
   ]
  },
  {
   "cell_type": "markdown",
   "metadata": {},
   "source": [
    "#### First, split into 'Funny' and 'Not Funny' dataframes"
   ]
  },
  {
   "cell_type": "code",
   "execution_count": 47,
   "metadata": {},
   "outputs": [
    {
     "data": {
      "text/html": [
       "<div>\n",
       "<style scoped>\n",
       "    .dataframe tbody tr th:only-of-type {\n",
       "        vertical-align: middle;\n",
       "    }\n",
       "\n",
       "    .dataframe tbody tr th {\n",
       "        vertical-align: top;\n",
       "    }\n",
       "\n",
       "    .dataframe thead th {\n",
       "        text-align: right;\n",
       "    }\n",
       "</style>\n",
       "<table border=\"1\" class=\"dataframe\">\n",
       "  <thead>\n",
       "    <tr style=\"text-align: right;\">\n",
       "      <th></th>\n",
       "      <th>stars</th>\n",
       "      <th>review_count</th>\n",
       "      <th>review_stars</th>\n",
       "      <th>is_funny</th>\n",
       "      <th>funny_count</th>\n",
       "      <th>text</th>\n",
       "      <th>rating</th>\n",
       "      <th>fun_meter</th>\n",
       "    </tr>\n",
       "  </thead>\n",
       "  <tbody>\n",
       "    <tr>\n",
       "      <th>0</th>\n",
       "      <td>4.0</td>\n",
       "      <td>886</td>\n",
       "      <td>3</td>\n",
       "      <td>1</td>\n",
       "      <td>264</td>\n",
       "      <td>[ DISCLAIMER ] \\nI'm not a complainer. Never h...</td>\n",
       "      <td>High Rating</td>\n",
       "      <td>Funny</td>\n",
       "    </tr>\n",
       "    <tr>\n",
       "      <th>1</th>\n",
       "      <td>4.5</td>\n",
       "      <td>52</td>\n",
       "      <td>5</td>\n",
       "      <td>1</td>\n",
       "      <td>230</td>\n",
       "      <td>Service good and friendly. Coffee choices grea...</td>\n",
       "      <td>High Rating</td>\n",
       "      <td>Funny</td>\n",
       "    </tr>\n",
       "  </tbody>\n",
       "</table>\n",
       "</div>"
      ],
      "text/plain": [
       "   stars  review_count  review_stars  is_funny  funny_count  \\\n",
       "0    4.0           886             3         1          264   \n",
       "1    4.5            52             5         1          230   \n",
       "\n",
       "                                                text       rating fun_meter  \n",
       "0  [ DISCLAIMER ] \\nI'm not a complainer. Never h...  High Rating     Funny  \n",
       "1  Service good and friendly. Coffee choices grea...  High Rating     Funny  "
      ]
     },
     "execution_count": 47,
     "metadata": {},
     "output_type": "execute_result"
    }
   ],
   "source": [
    "df_funny = df.loc[df.fun_meter=='Funny']\n",
    "df_funny = df_funny.reset_index(drop=True)\n",
    "df_funny.head(2)"
   ]
  },
  {
   "cell_type": "code",
   "execution_count": 48,
   "metadata": {},
   "outputs": [
    {
     "data": {
      "text/html": [
       "<div>\n",
       "<style scoped>\n",
       "    .dataframe tbody tr th:only-of-type {\n",
       "        vertical-align: middle;\n",
       "    }\n",
       "\n",
       "    .dataframe tbody tr th {\n",
       "        vertical-align: top;\n",
       "    }\n",
       "\n",
       "    .dataframe thead th {\n",
       "        text-align: right;\n",
       "    }\n",
       "</style>\n",
       "<table border=\"1\" class=\"dataframe\">\n",
       "  <thead>\n",
       "    <tr style=\"text-align: right;\">\n",
       "      <th></th>\n",
       "      <th>stars</th>\n",
       "      <th>review_count</th>\n",
       "      <th>review_stars</th>\n",
       "      <th>is_funny</th>\n",
       "      <th>funny_count</th>\n",
       "      <th>text</th>\n",
       "      <th>rating</th>\n",
       "      <th>fun_meter</th>\n",
       "    </tr>\n",
       "  </thead>\n",
       "  <tbody>\n",
       "    <tr>\n",
       "      <th>0</th>\n",
       "      <td>4.5</td>\n",
       "      <td>7219</td>\n",
       "      <td>1</td>\n",
       "      <td>0</td>\n",
       "      <td>0</td>\n",
       "      <td>This place had become predatory since COVID, b...</td>\n",
       "      <td>High Rating</td>\n",
       "      <td>Not Funny</td>\n",
       "    </tr>\n",
       "    <tr>\n",
       "      <th>1</th>\n",
       "      <td>4.5</td>\n",
       "      <td>7219</td>\n",
       "      <td>1</td>\n",
       "      <td>0</td>\n",
       "      <td>0</td>\n",
       "      <td>Way over priced, the \"cat head chicken sandwic...</td>\n",
       "      <td>High Rating</td>\n",
       "      <td>Not Funny</td>\n",
       "    </tr>\n",
       "  </tbody>\n",
       "</table>\n",
       "</div>"
      ],
      "text/plain": [
       "   stars  review_count  review_stars  is_funny  funny_count  \\\n",
       "0    4.5          7219             1         0            0   \n",
       "1    4.5          7219             1         0            0   \n",
       "\n",
       "                                                text       rating  fun_meter  \n",
       "0  This place had become predatory since COVID, b...  High Rating  Not Funny  \n",
       "1  Way over priced, the \"cat head chicken sandwic...  High Rating  Not Funny  "
      ]
     },
     "execution_count": 48,
     "metadata": {},
     "output_type": "execute_result"
    }
   ],
   "source": [
    "df_not_funny = df.loc[df.fun_meter=='Not Funny']\n",
    "df_not_funny = df_not_funny.reset_index(drop=True)\n",
    "df_not_funny.head(2)"
   ]
  },
  {
   "cell_type": "markdown",
   "metadata": {},
   "source": [
    "#### Second, balance the dataframe sizes"
   ]
  },
  {
   "cell_type": "code",
   "execution_count": 49,
   "metadata": {},
   "outputs": [
    {
     "name": "stdout",
     "output_type": "stream",
     "text": [
      "Number of rows in Not Funny before trimming to match the number of rows in Funny: 493966\n",
      "Number of rows in Not Funny after trimming to match the number of rows in Funny: 79673\n"
     ]
    }
   ],
   "source": [
    "# Now, set the number of 'Not Funny' observations to those of 'Funny' ones\n",
    "print('Number of rows in Not Funny before trimming to match the number of rows in Funny:', len(df_not_funny))\n",
    "df_not_funny = df_not_funny.loc[:len(df_funny)]\n",
    "print('Number of rows in Not Funny after trimming to match the number of rows in Funny:', len(df_not_funny))"
   ]
  },
  {
   "cell_type": "markdown",
   "metadata": {},
   "source": [
    "#### Finally, concatenate the 'Funny' and 'Not Funny' dataframes back into one - name it 'df_set'"
   ]
  },
  {
   "cell_type": "code",
   "execution_count": 50,
   "metadata": {},
   "outputs": [
    {
     "data": {
      "text/html": [
       "<div>\n",
       "<style scoped>\n",
       "    .dataframe tbody tr th:only-of-type {\n",
       "        vertical-align: middle;\n",
       "    }\n",
       "\n",
       "    .dataframe tbody tr th {\n",
       "        vertical-align: top;\n",
       "    }\n",
       "\n",
       "    .dataframe thead th {\n",
       "        text-align: right;\n",
       "    }\n",
       "</style>\n",
       "<table border=\"1\" class=\"dataframe\">\n",
       "  <thead>\n",
       "    <tr style=\"text-align: right;\">\n",
       "      <th></th>\n",
       "      <th>stars</th>\n",
       "      <th>review_count</th>\n",
       "      <th>review_stars</th>\n",
       "      <th>is_funny</th>\n",
       "      <th>funny_count</th>\n",
       "      <th>text</th>\n",
       "      <th>rating</th>\n",
       "      <th>fun_meter</th>\n",
       "    </tr>\n",
       "  </thead>\n",
       "  <tbody>\n",
       "    <tr>\n",
       "      <th>0</th>\n",
       "      <td>4.0</td>\n",
       "      <td>886</td>\n",
       "      <td>3</td>\n",
       "      <td>1</td>\n",
       "      <td>264</td>\n",
       "      <td>[ DISCLAIMER ] \\nI'm not a complainer. Never h...</td>\n",
       "      <td>High Rating</td>\n",
       "      <td>Funny</td>\n",
       "    </tr>\n",
       "    <tr>\n",
       "      <th>1</th>\n",
       "      <td>4.5</td>\n",
       "      <td>52</td>\n",
       "      <td>5</td>\n",
       "      <td>1</td>\n",
       "      <td>230</td>\n",
       "      <td>Service good and friendly. Coffee choices grea...</td>\n",
       "      <td>High Rating</td>\n",
       "      <td>Funny</td>\n",
       "    </tr>\n",
       "  </tbody>\n",
       "</table>\n",
       "</div>"
      ],
      "text/plain": [
       "   stars  review_count  review_stars  is_funny  funny_count  \\\n",
       "0    4.0           886             3         1          264   \n",
       "1    4.5            52             5         1          230   \n",
       "\n",
       "                                                text       rating fun_meter  \n",
       "0  [ DISCLAIMER ] \\nI'm not a complainer. Never h...  High Rating     Funny  \n",
       "1  Service good and friendly. Coffee choices grea...  High Rating     Funny  "
      ]
     },
     "execution_count": 50,
     "metadata": {},
     "output_type": "execute_result"
    }
   ],
   "source": [
    "df_set = pd.concat([df_funny, df_not_funny], axis=0)\n",
    "df_set = df_set.reset_index(drop=True)\n",
    "df_set.head(2)"
   ]
  },
  {
   "cell_type": "code",
   "execution_count": 51,
   "metadata": {},
   "outputs": [
    {
     "data": {
      "text/plain": [
       "159345"
      ]
     },
     "execution_count": 51,
     "metadata": {},
     "output_type": "execute_result"
    }
   ],
   "source": [
    "len(df_set)"
   ]
  },
  {
   "cell_type": "markdown",
   "metadata": {},
   "source": [
    "Looks good, the total number of rows is now the double of 'Not Funny' subset, so we're good."
   ]
  },
  {
   "cell_type": "markdown",
   "metadata": {},
   "source": [
    "## 3.3. Data optimization"
   ]
  },
  {
   "cell_type": "markdown",
   "metadata": {},
   "source": [
    "### Drop random rows from df_set dataframe to optimize for the laptop's limited memory - reduce to 10%"
   ]
  },
  {
   "cell_type": "code",
   "execution_count": 52,
   "metadata": {
    "scrolled": true
   },
   "outputs": [],
   "source": [
    "df_reviews = df_set.sample(frac=0.1, replace=True, random_state=1)"
   ]
  },
  {
   "cell_type": "code",
   "execution_count": 53,
   "metadata": {},
   "outputs": [
    {
     "data": {
      "text/plain": [
       "(15934, 8)"
      ]
     },
     "execution_count": 53,
     "metadata": {},
     "output_type": "execute_result"
    }
   ],
   "source": [
    "df_reviews.shape"
   ]
  },
  {
   "cell_type": "code",
   "execution_count": 54,
   "metadata": {},
   "outputs": [
    {
     "name": "stdout",
     "output_type": "stream",
     "text": [
      "<class 'pandas.core.frame.DataFrame'>\n",
      "Int64Index: 15934 entries, 128037 to 3871\n",
      "Data columns (total 8 columns):\n",
      " #   Column        Non-Null Count  Dtype  \n",
      "---  ------        --------------  -----  \n",
      " 0   stars         15934 non-null  float64\n",
      " 1   review_count  15934 non-null  int64  \n",
      " 2   review_stars  15934 non-null  int64  \n",
      " 3   is_funny      15934 non-null  int64  \n",
      " 4   funny_count   15934 non-null  int64  \n",
      " 5   text          15934 non-null  object \n",
      " 6   rating        15934 non-null  object \n",
      " 7   fun_meter     15934 non-null  object \n",
      "dtypes: float64(1), int64(4), object(3)\n",
      "memory usage: 1.1+ MB\n"
     ]
    }
   ],
   "source": [
    "df_reviews.info()"
   ]
  },
  {
   "cell_type": "markdown",
   "metadata": {},
   "source": [
    "## 3.4 NLP Analysis with Scattertext and spaCy"
   ]
  },
  {
   "cell_type": "code",
   "execution_count": 55,
   "metadata": {},
   "outputs": [],
   "source": [
    "nlp = spacy.load('en_core_web_sm')"
   ]
  },
  {
   "cell_type": "markdown",
   "metadata": {},
   "source": [
    "### Term Frequency Function"
   ]
  },
  {
   "cell_type": "code",
   "execution_count": 56,
   "metadata": {},
   "outputs": [],
   "source": [
    "def term_freq(df_yelp):\n",
    "    corpus = (scattertext.CorpusFromPandas(df_yelp,\n",
    "                                           category_col='fun_meter', \n",
    "                                           text_col='text',\n",
    "                                           nlp=nlp)\n",
    "              .build()\n",
    "              .remove_terms(nlp.Defaults.stop_words, ignore_absences=True)\n",
    "              )\n",
    "    df = corpus.get_term_freq_df()\n",
    "    df['Funny_Score'] = corpus.get_scaled_f_scores('Funny')\n",
    "    df['Not_Funny_Score'] = corpus.get_scaled_f_scores('Not Funny')\n",
    "    df['Funny_Score'] = round(df['Funny_Score'], 2)\n",
    "    df['Not_Funny_Score'] = round(df['Not_Funny_Score'], 2)\n",
    "    \n",
    "    df_high = df.sort_values(by='Funny freq', \n",
    "                             ascending = False).reset_index()\n",
    "    df_low = df.sort_values(by='Not Funny freq', \n",
    "                            ascending=False).reset_index()\n",
    "    return df_high, df_low"
   ]
  },
  {
   "cell_type": "code",
   "execution_count": 58,
   "metadata": {},
   "outputs": [],
   "source": [
    "funny_reviews, meh_reviews = term_freq(df_reviews)"
   ]
  },
  {
   "cell_type": "code",
   "execution_count": 59,
   "metadata": {},
   "outputs": [
    {
     "name": "stdout",
     "output_type": "stream",
     "text": [
      "<class 'pandas.core.frame.DataFrame'>\n",
      "RangeIndex: 405272 entries, 0 to 405271\n",
      "Data columns (total 5 columns):\n",
      " #   Column           Non-Null Count   Dtype  \n",
      "---  ------           --------------   -----  \n",
      " 0   term             405272 non-null  object \n",
      " 1   Not Funny freq   405272 non-null  int32  \n",
      " 2   Funny freq       405272 non-null  int32  \n",
      " 3   Funny_Score      405272 non-null  float64\n",
      " 4   Not_Funny_Score  405272 non-null  float64\n",
      "dtypes: float64(2), int32(2), object(1)\n",
      "memory usage: 12.4+ MB\n"
     ]
    }
   ],
   "source": [
    "funny_reviews.info()"
   ]
  },
  {
   "cell_type": "code",
   "execution_count": 60,
   "metadata": {
    "scrolled": false
   },
   "outputs": [
    {
     "data": {
      "text/html": [
       "<div>\n",
       "<style scoped>\n",
       "    .dataframe tbody tr th:only-of-type {\n",
       "        vertical-align: middle;\n",
       "    }\n",
       "\n",
       "    .dataframe tbody tr th {\n",
       "        vertical-align: top;\n",
       "    }\n",
       "\n",
       "    .dataframe thead th {\n",
       "        text-align: right;\n",
       "    }\n",
       "</style>\n",
       "<table border=\"1\" class=\"dataframe\">\n",
       "  <thead>\n",
       "    <tr style=\"text-align: right;\">\n",
       "      <th></th>\n",
       "      <th>term</th>\n",
       "      <th>Not Funny freq</th>\n",
       "      <th>Funny freq</th>\n",
       "      <th>Funny_Score</th>\n",
       "      <th>Not_Funny_Score</th>\n",
       "    </tr>\n",
       "  </thead>\n",
       "  <tbody>\n",
       "    <tr>\n",
       "      <th>483</th>\n",
       "      <td>chinese</td>\n",
       "      <td>29</td>\n",
       "      <td>360</td>\n",
       "      <td>1.00</td>\n",
       "      <td>0.00</td>\n",
       "    </tr>\n",
       "    <tr>\n",
       "      <th>2483</th>\n",
       "      <td>chinese food</td>\n",
       "      <td>6</td>\n",
       "      <td>85</td>\n",
       "      <td>0.99</td>\n",
       "      <td>0.01</td>\n",
       "    </tr>\n",
       "    <tr>\n",
       "      <th>1959</th>\n",
       "      <td>airport</td>\n",
       "      <td>17</td>\n",
       "      <td>106</td>\n",
       "      <td>0.98</td>\n",
       "      <td>0.02</td>\n",
       "    </tr>\n",
       "    <tr>\n",
       "      <th>2006</th>\n",
       "      <td>looks like</td>\n",
       "      <td>14</td>\n",
       "      <td>103</td>\n",
       "      <td>0.98</td>\n",
       "      <td>0.02</td>\n",
       "    </tr>\n",
       "    <tr>\n",
       "      <th>1126</th>\n",
       "      <td>pot</td>\n",
       "      <td>32</td>\n",
       "      <td>178</td>\n",
       "      <td>0.98</td>\n",
       "      <td>0.02</td>\n",
       "    </tr>\n",
       "    <tr>\n",
       "      <th>2502</th>\n",
       "      <td>bagel</td>\n",
       "      <td>9</td>\n",
       "      <td>84</td>\n",
       "      <td>0.98</td>\n",
       "      <td>0.02</td>\n",
       "    </tr>\n",
       "    <tr>\n",
       "      <th>2983</th>\n",
       "      <td>naan</td>\n",
       "      <td>5</td>\n",
       "      <td>71</td>\n",
       "      <td>0.97</td>\n",
       "      <td>0.03</td>\n",
       "    </tr>\n",
       "    <tr>\n",
       "      <th>2435</th>\n",
       "      <td>website</td>\n",
       "      <td>13</td>\n",
       "      <td>86</td>\n",
       "      <td>0.97</td>\n",
       "      <td>0.03</td>\n",
       "    </tr>\n",
       "    <tr>\n",
       "      <th>1224</th>\n",
       "      <td>indian</td>\n",
       "      <td>35</td>\n",
       "      <td>165</td>\n",
       "      <td>0.97</td>\n",
       "      <td>0.03</td>\n",
       "    </tr>\n",
       "    <tr>\n",
       "      <th>2298</th>\n",
       "      <td>the drive</td>\n",
       "      <td>13</td>\n",
       "      <td>91</td>\n",
       "      <td>0.97</td>\n",
       "      <td>0.03</td>\n",
       "    </tr>\n",
       "    <tr>\n",
       "      <th>1958</th>\n",
       "      <td>fast food</td>\n",
       "      <td>19</td>\n",
       "      <td>106</td>\n",
       "      <td>0.97</td>\n",
       "      <td>0.03</td>\n",
       "    </tr>\n",
       "    <tr>\n",
       "      <th>863</th>\n",
       "      <td>lettuce</td>\n",
       "      <td>45</td>\n",
       "      <td>222</td>\n",
       "      <td>0.97</td>\n",
       "      <td>0.03</td>\n",
       "    </tr>\n",
       "    <tr>\n",
       "      <th>529</th>\n",
       "      <td>this location</td>\n",
       "      <td>86</td>\n",
       "      <td>335</td>\n",
       "      <td>0.96</td>\n",
       "      <td>0.04</td>\n",
       "    </tr>\n",
       "    <tr>\n",
       "      <th>1442</th>\n",
       "      <td>i told</td>\n",
       "      <td>36</td>\n",
       "      <td>141</td>\n",
       "      <td>0.96</td>\n",
       "      <td>0.04</td>\n",
       "    </tr>\n",
       "    <tr>\n",
       "      <th>609</th>\n",
       "      <td>the owner</td>\n",
       "      <td>67</td>\n",
       "      <td>301</td>\n",
       "      <td>0.96</td>\n",
       "      <td>0.04</td>\n",
       "    </tr>\n",
       "    <tr>\n",
       "      <th>3235</th>\n",
       "      <td>mcdonald 's</td>\n",
       "      <td>4</td>\n",
       "      <td>66</td>\n",
       "      <td>0.96</td>\n",
       "      <td>0.04</td>\n",
       "    </tr>\n",
       "    <tr>\n",
       "      <th>862</th>\n",
       "      <td>milk</td>\n",
       "      <td>51</td>\n",
       "      <td>222</td>\n",
       "      <td>0.96</td>\n",
       "      <td>0.04</td>\n",
       "    </tr>\n",
       "    <tr>\n",
       "      <th>3092</th>\n",
       "      <td>mcdonald</td>\n",
       "      <td>4</td>\n",
       "      <td>68</td>\n",
       "      <td>0.96</td>\n",
       "      <td>0.04</td>\n",
       "    </tr>\n",
       "    <tr>\n",
       "      <th>1031</th>\n",
       "      <td>delivery</td>\n",
       "      <td>44</td>\n",
       "      <td>190</td>\n",
       "      <td>0.96</td>\n",
       "      <td>0.04</td>\n",
       "    </tr>\n",
       "    <tr>\n",
       "      <th>1708</th>\n",
       "      <td>sub</td>\n",
       "      <td>30</td>\n",
       "      <td>120</td>\n",
       "      <td>0.96</td>\n",
       "      <td>0.04</td>\n",
       "    </tr>\n",
       "  </tbody>\n",
       "</table>\n",
       "</div>"
      ],
      "text/plain": [
       "               term  Not Funny freq  Funny freq  Funny_Score  Not_Funny_Score\n",
       "483         chinese              29         360         1.00             0.00\n",
       "2483   chinese food               6          85         0.99             0.01\n",
       "1959        airport              17         106         0.98             0.02\n",
       "2006     looks like              14         103         0.98             0.02\n",
       "1126            pot              32         178         0.98             0.02\n",
       "2502          bagel               9          84         0.98             0.02\n",
       "2983           naan               5          71         0.97             0.03\n",
       "2435        website              13          86         0.97             0.03\n",
       "1224         indian              35         165         0.97             0.03\n",
       "2298      the drive              13          91         0.97             0.03\n",
       "1958      fast food              19         106         0.97             0.03\n",
       "863         lettuce              45         222         0.97             0.03\n",
       "529   this location              86         335         0.96             0.04\n",
       "1442         i told              36         141         0.96             0.04\n",
       "609       the owner              67         301         0.96             0.04\n",
       "3235    mcdonald 's               4          66         0.96             0.04\n",
       "862            milk              51         222         0.96             0.04\n",
       "3092       mcdonald               4          68         0.96             0.04\n",
       "1031       delivery              44         190         0.96             0.04\n",
       "1708            sub              30         120         0.96             0.04"
      ]
     },
     "execution_count": 60,
     "metadata": {},
     "output_type": "execute_result"
    }
   ],
   "source": [
    "funny_reviews.sort_values(by='Funny_Score', ascending = False).head(20)"
   ]
  },
  {
   "cell_type": "code",
   "execution_count": 61,
   "metadata": {},
   "outputs": [
    {
     "name": "stdout",
     "output_type": "stream",
     "text": [
      "<class 'pandas.core.frame.DataFrame'>\n",
      "RangeIndex: 405272 entries, 0 to 405271\n",
      "Data columns (total 5 columns):\n",
      " #   Column           Non-Null Count   Dtype  \n",
      "---  ------           --------------   -----  \n",
      " 0   term             405272 non-null  object \n",
      " 1   Not Funny freq   405272 non-null  int32  \n",
      " 2   Funny freq       405272 non-null  int32  \n",
      " 3   Funny_Score      405272 non-null  float64\n",
      " 4   Not_Funny_Score  405272 non-null  float64\n",
      "dtypes: float64(2), int32(2), object(1)\n",
      "memory usage: 12.4+ MB\n"
     ]
    }
   ],
   "source": [
    "meh_reviews.info()"
   ]
  },
  {
   "cell_type": "code",
   "execution_count": 62,
   "metadata": {
    "scrolled": true
   },
   "outputs": [
    {
     "data": {
      "text/html": [
       "<div>\n",
       "<style scoped>\n",
       "    .dataframe tbody tr th:only-of-type {\n",
       "        vertical-align: middle;\n",
       "    }\n",
       "\n",
       "    .dataframe tbody tr th {\n",
       "        vertical-align: top;\n",
       "    }\n",
       "\n",
       "    .dataframe thead th {\n",
       "        text-align: right;\n",
       "    }\n",
       "</style>\n",
       "<table border=\"1\" class=\"dataframe\">\n",
       "  <thead>\n",
       "    <tr style=\"text-align: right;\">\n",
       "      <th></th>\n",
       "      <th>term</th>\n",
       "      <th>Not Funny freq</th>\n",
       "      <th>Funny freq</th>\n",
       "      <th>Funny_Score</th>\n",
       "      <th>Not_Funny_Score</th>\n",
       "    </tr>\n",
       "  </thead>\n",
       "  <tbody>\n",
       "    <tr>\n",
       "      <th>667</th>\n",
       "      <td>books</td>\n",
       "      <td>181</td>\n",
       "      <td>39</td>\n",
       "      <td>0.00</td>\n",
       "      <td>1.00</td>\n",
       "    </tr>\n",
       "    <tr>\n",
       "      <th>1419</th>\n",
       "      <td>great atmosphere</td>\n",
       "      <td>91</td>\n",
       "      <td>22</td>\n",
       "      <td>0.00</td>\n",
       "      <td>1.00</td>\n",
       "    </tr>\n",
       "    <tr>\n",
       "      <th>935</th>\n",
       "      <td>lobster roll</td>\n",
       "      <td>135</td>\n",
       "      <td>42</td>\n",
       "      <td>0.01</td>\n",
       "      <td>0.99</td>\n",
       "    </tr>\n",
       "    <tr>\n",
       "      <th>1578</th>\n",
       "      <td>screen door</td>\n",
       "      <td>83</td>\n",
       "      <td>28</td>\n",
       "      <td>0.01</td>\n",
       "      <td>0.99</td>\n",
       "    </tr>\n",
       "    <tr>\n",
       "      <th>1236</th>\n",
       "      <td>oyster</td>\n",
       "      <td>103</td>\n",
       "      <td>37</td>\n",
       "      <td>0.01</td>\n",
       "      <td>0.99</td>\n",
       "    </tr>\n",
       "  </tbody>\n",
       "</table>\n",
       "</div>"
      ],
      "text/plain": [
       "                  term  Not Funny freq  Funny freq  Funny_Score  \\\n",
       "667              books             181          39         0.00   \n",
       "1419  great atmosphere              91          22         0.00   \n",
       "935       lobster roll             135          42         0.01   \n",
       "1578       screen door              83          28         0.01   \n",
       "1236            oyster             103          37         0.01   \n",
       "\n",
       "      Not_Funny_Score  \n",
       "667              1.00  \n",
       "1419             1.00  \n",
       "935              0.99  \n",
       "1578             0.99  \n",
       "1236             0.99  "
      ]
     },
     "execution_count": 62,
     "metadata": {},
     "output_type": "execute_result"
    }
   ],
   "source": [
    "meh_reviews.sort_values(by='Not_Funny_Score', ascending=False).head()"
   ]
  },
  {
   "cell_type": "markdown",
   "metadata": {},
   "source": [
    "# 4. Pre-processing and Modeling"
   ]
  },
  {
   "cell_type": "markdown",
   "metadata": {},
   "source": [
    "### Split Data into Train and Validation partitions"
   ]
  },
  {
   "cell_type": "code",
   "execution_count": 63,
   "metadata": {},
   "outputs": [],
   "source": [
    "# Split by default Test 25/Train 75\n",
    "X_train, x_test, y_train, y_test = train_test_split(df_reviews.text, df_reviews.fun_meter, train_size=0.75, random_state=42)"
   ]
  },
  {
   "cell_type": "code",
   "execution_count": 64,
   "metadata": {},
   "outputs": [
    {
     "data": {
      "text/plain": [
       "(3984, 11950)"
      ]
     },
     "execution_count": 64,
     "metadata": {},
     "output_type": "execute_result"
    }
   ],
   "source": [
    "len(x_test), len(X_train)"
   ]
  },
  {
   "cell_type": "markdown",
   "metadata": {},
   "source": [
    "## 4.1. Model 1 - Linear SVM Classifier"
   ]
  },
  {
   "cell_type": "markdown",
   "metadata": {},
   "source": [
    "The first model we will use is Support Vector Machine, a linear model for classification problem."
   ]
  },
  {
   "cell_type": "markdown",
   "metadata": {},
   "source": [
    "### 4.1.1. CountVectorizer"
   ]
  },
  {
   "cell_type": "code",
   "execution_count": 65,
   "metadata": {},
   "outputs": [],
   "source": [
    "# Create an array of words per each sentence\n",
    "v = CountVectorizer()\n",
    "x_train_vector = v.fit_transform(X_train)\n",
    "x_test_vector = v.transform(x_test)"
   ]
  },
  {
   "cell_type": "markdown",
   "metadata": {},
   "source": [
    "Now that we have the numerical data, we can feed it into a classification model"
   ]
  },
  {
   "cell_type": "markdown",
   "metadata": {},
   "source": [
    "### 4.1.2. Classification Model - Linear SVM"
   ]
  },
  {
   "cell_type": "code",
   "execution_count": 66,
   "metadata": {},
   "outputs": [
    {
     "data": {
      "text/plain": [
       "SVC(kernel='linear')"
      ]
     },
     "execution_count": 66,
     "metadata": {},
     "output_type": "execute_result"
    }
   ],
   "source": [
    "# create an instance of SVM\n",
    "clf_svm = svm.SVC(kernel = 'linear')\n",
    "clf_svm.fit(x_train_vector, y_train)"
   ]
  },
  {
   "cell_type": "markdown",
   "metadata": {},
   "source": [
    "### 4.1.3. Evaluate Linear SVM"
   ]
  },
  {
   "cell_type": "markdown",
   "metadata": {},
   "source": [
    "#### Evaluate performance on the train dataset"
   ]
  },
  {
   "cell_type": "code",
   "execution_count": 67,
   "metadata": {},
   "outputs": [
    {
     "data": {
      "text/plain": [
       "0.9834309623430962"
      ]
     },
     "execution_count": 67,
     "metadata": {},
     "output_type": "execute_result"
    }
   ],
   "source": [
    "clf_svm.score(x_train_vector, y_train)"
   ]
  },
  {
   "cell_type": "markdown",
   "metadata": {},
   "source": [
    "#### Evaluate performance on test dataset"
   ]
  },
  {
   "cell_type": "code",
   "execution_count": 68,
   "metadata": {},
   "outputs": [
    {
     "data": {
      "text/plain": [
       "0.7105923694779116"
      ]
     },
     "execution_count": 68,
     "metadata": {},
     "output_type": "execute_result"
    }
   ],
   "source": [
    "clf_svm.score(x_test_vector, y_test)"
   ]
  },
  {
   "cell_type": "code",
   "execution_count": 69,
   "metadata": {},
   "outputs": [
    {
     "data": {
      "text/plain": [
       "array([0.69745474, 0.72263652])"
      ]
     },
     "execution_count": 69,
     "metadata": {},
     "output_type": "execute_result"
    }
   ],
   "source": [
    "f1_score(y_test, clf_svm.predict(x_test_vector), average=None)"
   ]
  },
  {
   "cell_type": "code",
   "execution_count": 70,
   "metadata": {
    "scrolled": true
   },
   "outputs": [],
   "source": [
    "# Linear SVM - predict and analyze the results\n",
    "y_pred_SVM = clf_svm.predict(x_test_vector)\n",
    "yt_pred_SVM = clf_svm.predict(x_train_vector)"
   ]
  },
  {
   "cell_type": "code",
   "execution_count": 71,
   "metadata": {},
   "outputs": [
    {
     "name": "stdout",
     "output_type": "stream",
     "text": [
      "Confusion Matrix :\n",
      " [[1329  651]\n",
      " [ 502 1502]]\n",
      "\n",
      "Test Set Accuracy Score :\n",
      " 0.7105923694779116\n",
      "\n",
      "Train Set Accuracy Score :\n",
      " 0.9834309623430962\n",
      "\n",
      "Classification Report :\n",
      "               precision    recall  f1-score   support\n",
      "\n",
      "       Funny       0.73      0.67      0.70      1980\n",
      "   Not Funny       0.70      0.75      0.72      2004\n",
      "\n",
      "    accuracy                           0.71      3984\n",
      "   macro avg       0.71      0.71      0.71      3984\n",
      "weighted avg       0.71      0.71      0.71      3984\n",
      "\n"
     ]
    }
   ],
   "source": [
    "# Linear SVM Model results - Confusion Matrix\n",
    "\n",
    "cm_SVM = confusion_matrix(y_test, y_pred_SVM)\n",
    "print(f'Confusion Matrix :\\n {cm_SVM}\\n')\n",
    "print(f'Test Set Accuracy Score :\\n {accuracy_score(y_test, y_pred_SVM)}\\n')\n",
    "print(f'Train Set Accuracy Score :\\n {accuracy_score(y_train, yt_pred_SVM)}\\n')\n",
    "print(f'Classification Report :\\n {classification_report(y_test, y_pred_SVM)}')"
   ]
  },
  {
   "cell_type": "markdown",
   "metadata": {},
   "source": [
    "### 4.1.3. Model 1 - Confusion Matrix Vizualization"
   ]
  },
  {
   "cell_type": "code",
   "execution_count": 72,
   "metadata": {
    "scrolled": false
   },
   "outputs": [
    {
     "data": {
      "image/png": "[encoded data removed]",
      "text/plain": [
       "<Figure size 504x360 with 2 Axes>"
      ]
     },
     "metadata": {
      "needs_background": "light"
     },
     "output_type": "display_data"
    }
   ],
   "source": [
    "# View confusion matrix for test data and predictions\n",
    "# Get and reshape confusion matrix data\n",
    "matrix = confusion_matrix(y_test, y_pred_SVM)\n",
    "matrix = matrix.astype('float') / matrix.sum(axis=1)[:, np.newaxis]\n",
    "\n",
    "# Build the plot\n",
    "plt.figure(figsize=(7,5))\n",
    "sns.set(font_scale=1.0)\n",
    "sns.heatmap(matrix, annot=True, annot_kws={'size':10},\n",
    "            cmap=plt.cm.Oranges, linewidths=0.2)\n",
    "\n",
    "# Add labels to the plot\n",
    "class_names = ['Funny', 'Not Funny']\n",
    "tick_marks = np.arange(len(class_names))\n",
    "tick_marks2 = tick_marks + 0.5\n",
    "plt.xticks(tick_marks, class_names, rotation=25)\n",
    "plt.yticks(tick_marks2, class_names, rotation=0)\n",
    "plt.xlabel('Predicted label')\n",
    "plt.ylabel('True label')\n",
    "plt.title('Confusion Matrix for Linear SVM Classifier')\n",
    "plt.show()"
   ]
  },
  {
   "cell_type": "markdown",
   "metadata": {},
   "source": [
    "### 4.1.4. Predict on input review text, using Linear SVM model:"
   ]
  },
  {
   "cell_type": "markdown",
   "metadata": {},
   "source": [
    "#### Looking for funny output here:"
   ]
  },
  {
   "cell_type": "code",
   "execution_count": 73,
   "metadata": {},
   "outputs": [
    {
     "data": {
      "text/plain": [
       "'Funny'"
      ]
     },
     "execution_count": 73,
     "metadata": {},
     "output_type": "execute_result"
    }
   ],
   "source": [
    "my_review = [\"The place is truly a tourist trap dump! \\\n",
    "mochi doughnuts do that security ham like baby sound like like Like what\\\n",
    "jay dim sum offerings words of wisdom\"]\n",
    "               \n",
    "my_review_vector = v.transform(my_review)\n",
    "clf_svm.predict(my_review_vector)[0]"
   ]
  },
  {
   "cell_type": "markdown",
   "metadata": {},
   "source": [
    "#### Looking for not funny output here:"
   ]
  },
  {
   "cell_type": "code",
   "execution_count": 74,
   "metadata": {},
   "outputs": [
    {
     "data": {
      "text/plain": [
       "'Not Funny'"
      ]
     },
     "execution_count": 74,
     "metadata": {},
     "output_type": "execute_result"
    }
   ],
   "source": [
    "not_funny_review = [\"This restaurant is not very good. Giving this 3.5 stars and not coming back.\"]\n",
    "my_review_vector = v.transform(not_funny_review)\n",
    "clf_svm.predict(my_review_vector)[0]"
   ]
  },
  {
   "cell_type": "markdown",
   "metadata": {},
   "source": [
    "### 4.1.5. Make 4 input text examples to test out the model - to be also used on the models further down:"
   ]
  },
  {
   "cell_type": "code",
   "execution_count": 122,
   "metadata": {},
   "outputs": [
    {
     "data": {
      "text/plain": [
       "'Funny'"
      ]
     },
     "execution_count": 122,
     "metadata": {},
     "output_type": "execute_result"
    }
   ],
   "source": [
    "# Example 1:\n",
    "my_review_1 = [\"The place is truly a touristic trap dump! It looks like a restaurant, but it is not!\"]\n",
    "my_review_vector_1 = v.transform(my_review_1)\n",
    "clf_svm.predict(my_review_vector_1)[0]"
   ]
  },
  {
   "cell_type": "code",
   "execution_count": 123,
   "metadata": {},
   "outputs": [
    {
     "data": {
      "text/plain": [
       "'Not Funny'"
      ]
     },
     "execution_count": 123,
     "metadata": {},
     "output_type": "execute_result"
    }
   ],
   "source": [
    "# Example 2:\n",
    "my_review_2 = [\"I told the owner that mochi and doughnuts were speaking to me the words of wisdom\"]\n",
    "my_review_vector_2 = v.transform(my_review_2)\n",
    "clf_svm.predict(my_review_vector_2)[0]"
   ]
  },
  {
   "cell_type": "code",
   "execution_count": 124,
   "metadata": {},
   "outputs": [
    {
     "data": {
      "text/plain": [
       "'Not Funny'"
      ]
     },
     "execution_count": 124,
     "metadata": {},
     "output_type": "execute_result"
    }
   ],
   "source": [
    "# Example 3:\n",
    "my_review_3 = [\"Can't even explain how much I love this place\"]\n",
    "my_review_vector_3 = v.transform(my_review_3)\n",
    "clf_svm.predict(my_review_vector_3)[0]"
   ]
  },
  {
   "cell_type": "code",
   "execution_count": 78,
   "metadata": {},
   "outputs": [
    {
     "data": {
      "text/plain": [
       "'Not Funny'"
      ]
     },
     "execution_count": 78,
     "metadata": {},
     "output_type": "execute_result"
    }
   ],
   "source": [
    "# Example 4:\n",
    "my_review_4 = [\"This restaurant is not very good. Giving this 3.5 stars and not coming back.\"]\n",
    "my_review_vector_4 = v.transform(my_review_4)\n",
    "clf_svm.predict(my_review_vector_4)[0]"
   ]
  },
  {
   "cell_type": "markdown",
   "metadata": {},
   "source": [
    "## 4.2. Model 2 - Random Forest Classifier (Version A)"
   ]
  },
  {
   "cell_type": "markdown",
   "metadata": {},
   "source": [
    "Version A of the Random Forest Classifier with bootstrap=False, criterion='enrropy', and n_estimators=100"
   ]
  },
  {
   "cell_type": "markdown",
   "metadata": {},
   "source": [
    "### 4.2.1. Classifier Model - Random Forest (version A)"
   ]
  },
  {
   "cell_type": "code",
   "execution_count": 79,
   "metadata": {},
   "outputs": [],
   "source": [
    "# Random Forest\n",
    "classifier_rf = Pipeline([('tfidf',TfidfVectorizer()),\n",
    "                     ('clf',RandomForestClassifier(bootstrap= False, criterion= 'entropy', n_estimators= 100))])"
   ]
  },
  {
   "cell_type": "code",
   "execution_count": 80,
   "metadata": {},
   "outputs": [
    {
     "data": {
      "text/plain": [
       "Pipeline(steps=[('tfidf', TfidfVectorizer()),\n",
       "                ('clf',\n",
       "                 RandomForestClassifier(bootstrap=False, criterion='entropy'))])"
      ]
     },
     "execution_count": 80,
     "metadata": {},
     "output_type": "execute_result"
    }
   ],
   "source": [
    "# Feeding the data\n",
    "classifier_rf.fit(X_train, y_train)"
   ]
  },
  {
   "cell_type": "markdown",
   "metadata": {},
   "source": [
    "### 4.2.2. Evaluate Random Forest Model (version A)"
   ]
  },
  {
   "cell_type": "markdown",
   "metadata": {},
   "source": [
    "#### Predict"
   ]
  },
  {
   "cell_type": "code",
   "execution_count": 81,
   "metadata": {},
   "outputs": [],
   "source": [
    "# Random Forest - predict and analyze the results\n",
    "y_pred = classifier_rf.predict(x_test)\n",
    "yt_pred = classifier_rf.predict(X_train)"
   ]
  },
  {
   "cell_type": "markdown",
   "metadata": {},
   "source": [
    "#### Evaluate performance - Confusion Matrix and Test Accuracy Scores"
   ]
  },
  {
   "cell_type": "code",
   "execution_count": 82,
   "metadata": {},
   "outputs": [
    {
     "data": {
      "text/plain": [
       "0.7201305220883534"
      ]
     },
     "execution_count": 82,
     "metadata": {},
     "output_type": "execute_result"
    }
   ],
   "source": [
    "classifier_rf.score(x_test, y_test)"
   ]
  },
  {
   "cell_type": "code",
   "execution_count": 83,
   "metadata": {},
   "outputs": [
    {
     "data": {
      "text/plain": [
       "array([0.72325639, 0.71693323])"
      ]
     },
     "execution_count": 83,
     "metadata": {},
     "output_type": "execute_result"
    }
   ],
   "source": [
    "f1_score(y_test, classifier_rf.predict(x_test), average=None)"
   ]
  },
  {
   "cell_type": "code",
   "execution_count": 84,
   "metadata": {},
   "outputs": [
    {
     "name": "stdout",
     "output_type": "stream",
     "text": [
      "Confusion Matrix :\n",
      " [[1457  523]\n",
      " [ 592 1412]]\n",
      "\n",
      "Test Set Accuracy Score :\n",
      " 0.7201305220883534\n",
      "\n",
      "Train Set Accuracy Score :\n",
      " 1.0\n",
      "\n",
      "Classification Report :\n",
      "               precision    recall  f1-score   support\n",
      "\n",
      "       Funny       0.71      0.74      0.72      1980\n",
      "   Not Funny       0.73      0.70      0.72      2004\n",
      "\n",
      "    accuracy                           0.72      3984\n",
      "   macro avg       0.72      0.72      0.72      3984\n",
      "weighted avg       0.72      0.72      0.72      3984\n",
      "\n"
     ]
    }
   ],
   "source": [
    "# Random Forest Model A results - Confusion Matrix\n",
    "\n",
    "cm = confusion_matrix(y_test, y_pred)\n",
    "print(f'Confusion Matrix :\\n {cm}\\n')\n",
    "print(f'Test Set Accuracy Score :\\n {accuracy_score(y_test,y_pred)}\\n')\n",
    "print(f'Train Set Accuracy Score :\\n {accuracy_score(y_train,yt_pred)}\\n')\n",
    "print(f'Classification Report :\\n {classification_report(y_test,y_pred)}')"
   ]
  },
  {
   "cell_type": "markdown",
   "metadata": {},
   "source": [
    "### 4.2.3. Model 2 - Confusion Matrix Vizualization"
   ]
  },
  {
   "cell_type": "code",
   "execution_count": 85,
   "metadata": {
    "scrolled": false
   },
   "outputs": [
    {
     "data": {
      "image/png": "[encoded data removed]",
      "text/plain": [
       "<Figure size 504x360 with 2 Axes>"
      ]
     },
     "metadata": {},
     "output_type": "display_data"
    }
   ],
   "source": [
    "# View confusion matrix for test data and predictions\n",
    "# Get and reshape confusion matrix data\n",
    "matrix = confusion_matrix(y_test, y_pred)\n",
    "matrix = matrix.astype('float') / matrix.sum(axis=1)[:, np.newaxis]\n",
    "\n",
    "# Build the plot\n",
    "plt.figure(figsize=(7,5))\n",
    "sns.set(font_scale=1.0)\n",
    "sns.heatmap(matrix, annot=True, annot_kws={'size':10},\n",
    "            cmap=plt.cm.Greens, linewidths=0.2)\n",
    "\n",
    "# Add labels to the plot\n",
    "class_names = ['Funny', 'Not Funny']\n",
    "tick_marks = np.arange(len(class_names))\n",
    "tick_marks2 = tick_marks + 0.5\n",
    "plt.xticks(tick_marks, class_names, rotation=25)\n",
    "plt.yticks(tick_marks2, class_names, rotation=0)\n",
    "plt.xlabel('Predicted label')\n",
    "plt.ylabel('True label')\n",
    "plt.title('Confusion Matrix for Random Forest Model')\n",
    "plt.show()"
   ]
  },
  {
   "cell_type": "markdown",
   "metadata": {},
   "source": [
    "### 4.2.4 Predict on input review text, using Random Forest model (version A)"
   ]
  },
  {
   "cell_type": "markdown",
   "metadata": {},
   "source": [
    "#### Using the same 4 examples as prepared earlier:"
   ]
  },
  {
   "cell_type": "code",
   "execution_count": 128,
   "metadata": {},
   "outputs": [
    {
     "data": {
      "text/plain": [
       "'Not Funny'"
      ]
     },
     "execution_count": 128,
     "metadata": {},
     "output_type": "execute_result"
    }
   ],
   "source": [
    "# Example 1:\n",
    "my_review_1 = [\"The place is truly a touristic trap dump! It looks like a restaurant, but it is not!\"]\n",
    "classifier_rf.predict(my_review_1)[0]"
   ]
  },
  {
   "cell_type": "code",
   "execution_count": 129,
   "metadata": {},
   "outputs": [
    {
     "data": {
      "text/plain": [
       "'Funny'"
      ]
     },
     "execution_count": 129,
     "metadata": {},
     "output_type": "execute_result"
    }
   ],
   "source": [
    "# Example 2:\n",
    "my_review_2 = [\"I told the owner that mochi and doughnuts were speaking to me the words of wisdom\"]\n",
    "classifier_rf.predict(my_review_2)[0]"
   ]
  },
  {
   "cell_type": "code",
   "execution_count": 130,
   "metadata": {},
   "outputs": [
    {
     "data": {
      "text/plain": [
       "'Not Funny'"
      ]
     },
     "execution_count": 130,
     "metadata": {},
     "output_type": "execute_result"
    }
   ],
   "source": [
    "# Example 3:\n",
    "my_review_3 = [\"Can't even explain how much I love this place\"]        \n",
    "classifier_rf.predict(my_review_3)[0]"
   ]
  },
  {
   "cell_type": "code",
   "execution_count": 131,
   "metadata": {},
   "outputs": [
    {
     "data": {
      "text/plain": [
       "'Not Funny'"
      ]
     },
     "execution_count": 131,
     "metadata": {},
     "output_type": "execute_result"
    }
   ],
   "source": [
    "# Example 4:\n",
    "my_review_4 = [\"This restaurant is not very good. Giving this 3.5 stars and not coming back.\"]\n",
    "classifier_rf.predict(my_review_4)[0]"
   ]
  },
  {
   "cell_type": "markdown",
   "metadata": {},
   "source": [
    "## 4.3. Model 3 - Random Forest Classifier (Version B)"
   ]
  },
  {
   "cell_type": "markdown",
   "metadata": {},
   "source": [
    "Version B of the Random Forest Classifier default parameters, and tfidf vectorizer parameter ngram_range=(1,1)"
   ]
  },
  {
   "cell_type": "markdown",
   "metadata": {},
   "source": [
    "### 4.3.1. Classifier Model - Random Forest (version B)"
   ]
  },
  {
   "cell_type": "code",
   "execution_count": 91,
   "metadata": {},
   "outputs": [],
   "source": [
    "# Instances for pipeline\n",
    "# Term frequency (TF) - Inverse Document Frequency (IDF)\n",
    "rfc = RandomForestClassifier()\n",
    "vect = TfidfVectorizer(stop_words='english', ngram_range=(1,1))"
   ]
  },
  {
   "cell_type": "code",
   "execution_count": 92,
   "metadata": {},
   "outputs": [],
   "source": [
    "# Specify the pipeline\n",
    "pipe_rfc = Pipeline([('vect', vect), ('rfc', rfc)])"
   ]
  },
  {
   "cell_type": "code",
   "execution_count": 93,
   "metadata": {},
   "outputs": [
    {
     "data": {
      "text/plain": [
       "Pipeline(steps=[('vect', TfidfVectorizer(stop_words='english')),\n",
       "                ('rfc', RandomForestClassifier())])"
      ]
     },
     "execution_count": 93,
     "metadata": {},
     "output_type": "execute_result"
    }
   ],
   "source": [
    "# Fit the Random Forest Classifier Version B on the training data\n",
    "pipe_rfc.fit(X_train, y_train)"
   ]
  },
  {
   "cell_type": "markdown",
   "metadata": {},
   "source": [
    "### 4.3.2. Evaluate Random Forest Model (version B)"
   ]
  },
  {
   "cell_type": "markdown",
   "metadata": {},
   "source": [
    "#### Predict"
   ]
  },
  {
   "cell_type": "code",
   "execution_count": 94,
   "metadata": {},
   "outputs": [],
   "source": [
    "# Random Forest model Version B - predict and aanalyze the results\n",
    "y_pred_rfc = pipe_rfc.predict(x_test)\n",
    "yt_pred_rfc = pipe_rfc.predict(X_train)"
   ]
  },
  {
   "cell_type": "markdown",
   "metadata": {},
   "source": [
    "#### Evaluate performance - Confusion Matrix and Test Accuracy Scores"
   ]
  },
  {
   "cell_type": "code",
   "execution_count": 95,
   "metadata": {},
   "outputs": [
    {
     "data": {
      "text/plain": [
       "0.7238955823293173"
      ]
     },
     "execution_count": 95,
     "metadata": {},
     "output_type": "execute_result"
    }
   ],
   "source": [
    "pipe_rfc.score(x_test, y_test)"
   ]
  },
  {
   "cell_type": "code",
   "execution_count": 96,
   "metadata": {},
   "outputs": [
    {
     "data": {
      "text/plain": [
       "array([0.72458688, 0.72320081])"
      ]
     },
     "execution_count": 96,
     "metadata": {},
     "output_type": "execute_result"
    }
   ],
   "source": [
    "f1_score(y_test, pipe_rfc.predict(x_test), average=None)"
   ]
  },
  {
   "cell_type": "code",
   "execution_count": 97,
   "metadata": {},
   "outputs": [
    {
     "name": "stdout",
     "output_type": "stream",
     "text": [
      "Confusion Matrix :\n",
      " [[1447  533]\n",
      " [ 567 1437]]\n",
      "\n",
      "Test Set Accuracy Score :\n",
      " 0.7238955823293173\n",
      "\n",
      "Train Set Accuracy Score :\n",
      " 1.0\n",
      "\n",
      "Classification Report :\n",
      "               precision    recall  f1-score   support\n",
      "\n",
      "       Funny       0.72      0.73      0.72      1980\n",
      "   Not Funny       0.73      0.72      0.72      2004\n",
      "\n",
      "    accuracy                           0.72      3984\n",
      "   macro avg       0.72      0.72      0.72      3984\n",
      "weighted avg       0.72      0.72      0.72      3984\n",
      "\n"
     ]
    }
   ],
   "source": [
    "# Random Forest Model Version B results - Confusion Matrix\n",
    "\n",
    "cm_rfc = confusion_matrix(y_test, y_pred_rfc)\n",
    "print(f'Confusion Matrix :\\n {cm_rfc}\\n')\n",
    "print(f'Test Set Accuracy Score :\\n {accuracy_score(y_test, y_pred_rfc)}\\n')\n",
    "print(f'Train Set Accuracy Score :\\n {accuracy_score(y_train, yt_pred_rfc)}\\n')\n",
    "print(f'Classification Report :\\n {classification_report(y_test, y_pred_rfc)}')"
   ]
  },
  {
   "cell_type": "markdown",
   "metadata": {},
   "source": [
    "### 4.3.3. Model 3 - Confusion Matrix Vizualization"
   ]
  },
  {
   "cell_type": "code",
   "execution_count": 98,
   "metadata": {},
   "outputs": [
    {
     "data": {
      "image/png": "[encoded data removed]",
      "text/plain": [
       "<Figure size 504x360 with 2 Axes>"
      ]
     },
     "metadata": {},
     "output_type": "display_data"
    }
   ],
   "source": [
    "# View confusion matrix for test data and predictions\n",
    "# Get and reshape confusion matrix data\n",
    "matrix = confusion_matrix(y_test, y_pred_rfc)\n",
    "matrix = matrix.astype('float') / matrix.sum(axis=1)[:, np.newaxis]\n",
    "\n",
    "# Build the plot\n",
    "plt.figure(figsize=(7,5))\n",
    "sns.set(font_scale=1.0)\n",
    "sns.heatmap(matrix, annot=True, annot_kws={'size':10},\n",
    "            cmap=plt.cm.Blues, linewidths=0.2)\n",
    "\n",
    "# Add labels to the plot\n",
    "class_names = ['Funny', 'Not Funny']\n",
    "tick_marks = np.arange(len(class_names))\n",
    "tick_marks2 = tick_marks + 0.5\n",
    "plt.xticks(tick_marks, class_names, rotation=25)\n",
    "plt.yticks(tick_marks2, class_names, rotation=0)\n",
    "plt.xlabel('Predicted label')\n",
    "plt.ylabel('True label')\n",
    "plt.title('Confusion Matrix for Random Forest Model Version B')\n",
    "plt.show()"
   ]
  },
  {
   "cell_type": "markdown",
   "metadata": {},
   "source": [
    "### 4.3.4. Predict on input review text, using Random Forest Model (version B)"
   ]
  },
  {
   "cell_type": "markdown",
   "metadata": {},
   "source": [
    "#### Using the same 4 examples as prepared earlier:"
   ]
  },
  {
   "cell_type": "code",
   "execution_count": 132,
   "metadata": {
    "scrolled": true
   },
   "outputs": [
    {
     "data": {
      "text/plain": [
       "'Not Funny'"
      ]
     },
     "execution_count": 132,
     "metadata": {},
     "output_type": "execute_result"
    }
   ],
   "source": [
    "# Example 1:\n",
    "my_review_1 = [\"The place is truly a touristic trap dump! It looks like a restaurant, but it is not!\"]\n",
    "pipe_rfc.predict(my_review_1)[0]"
   ]
  },
  {
   "cell_type": "code",
   "execution_count": 133,
   "metadata": {},
   "outputs": [
    {
     "data": {
      "text/plain": [
       "'Funny'"
      ]
     },
     "execution_count": 133,
     "metadata": {},
     "output_type": "execute_result"
    }
   ],
   "source": [
    "# Example 2:\n",
    "my_review_2 = [\"I told the owner that mochi and doughnuts were speaking to me the words of wisdom\"]\n",
    "pipe_rfc.predict(my_review_2)[0]"
   ]
  },
  {
   "cell_type": "code",
   "execution_count": 134,
   "metadata": {},
   "outputs": [
    {
     "data": {
      "text/plain": [
       "'Not Funny'"
      ]
     },
     "execution_count": 134,
     "metadata": {},
     "output_type": "execute_result"
    }
   ],
   "source": [
    "# Example 3:\n",
    "my_review_3 = [\"Can't even explain how much I love this place\"]\n",
    "#This restaurant is not very good. Giving this 3.5 stars and not coming back.               \n",
    "pipe_rfc.predict(my_review_3)[0]"
   ]
  },
  {
   "cell_type": "code",
   "execution_count": 135,
   "metadata": {
    "scrolled": true
   },
   "outputs": [
    {
     "data": {
      "text/plain": [
       "'Not Funny'"
      ]
     },
     "execution_count": 135,
     "metadata": {},
     "output_type": "execute_result"
    }
   ],
   "source": [
    "# Example 4:\n",
    "my_review_4 = [\"This restaurant is not very good. Giving this 3.5 stars and not coming back.\"]\n",
    "pipe_rfc.predict(my_review_4)[0]"
   ]
  },
  {
   "cell_type": "markdown",
   "metadata": {},
   "source": [
    "## 4.4. Model 4 - Linear SGD Classifier"
   ]
  },
  {
   "cell_type": "markdown",
   "metadata": {},
   "source": [
    "This is a Linear classifier with stochastic gradient descent (SGD) learning"
   ]
  },
  {
   "cell_type": "markdown",
   "metadata": {},
   "source": [
    "### 4.4.1. Linear Classifier with SGD learning"
   ]
  },
  {
   "cell_type": "code",
   "execution_count": 103,
   "metadata": {},
   "outputs": [],
   "source": [
    "# Instances for pipeline\n",
    "sgdc = SGDClassifier()\n",
    "vect = TfidfVectorizer(stop_words='english', ngram_range=(1,1))"
   ]
  },
  {
   "cell_type": "code",
   "execution_count": 116,
   "metadata": {},
   "outputs": [],
   "source": [
    "# Define Pipeline\n",
    "pipe_sgd = Pipeline([('vect', vect), ('clf', sgdc)])"
   ]
  },
  {
   "cell_type": "code",
   "execution_count": 105,
   "metadata": {},
   "outputs": [
    {
     "data": {
      "text/plain": [
       "Pipeline(steps=[('vect', TfidfVectorizer(stop_words='english')),\n",
       "                ('clf', SGDClassifier())])"
      ]
     },
     "execution_count": 105,
     "metadata": {},
     "output_type": "execute_result"
    }
   ],
   "source": [
    "# Fit the SGD model on the training data\n",
    "pipe_sgd.fit(X_train, y_train)"
   ]
  },
  {
   "cell_type": "markdown",
   "metadata": {},
   "source": [
    "### 4.4.2. Evaluate Linear SGD Model"
   ]
  },
  {
   "cell_type": "markdown",
   "metadata": {},
   "source": [
    "#### Predcit"
   ]
  },
  {
   "cell_type": "code",
   "execution_count": 106,
   "metadata": {},
   "outputs": [],
   "source": [
    "# Linear SGD - predict and analayze the results\n",
    "y_pred_sgd = pipe_sgd.predict(x_test)\n",
    "yt_pred_sgd = pipe_sgd.predict(X_train)"
   ]
  },
  {
   "cell_type": "markdown",
   "metadata": {},
   "source": [
    "#### Evaluate performance - Confusion Matrix and Test Accuracy Scores"
   ]
  },
  {
   "cell_type": "code",
   "execution_count": 107,
   "metadata": {},
   "outputs": [
    {
     "data": {
      "text/plain": [
       "0.7377008032128514"
      ]
     },
     "execution_count": 107,
     "metadata": {},
     "output_type": "execute_result"
    }
   ],
   "source": [
    "pipe_sgd.score(x_test, y_test)"
   ]
  },
  {
   "cell_type": "code",
   "execution_count": 108,
   "metadata": {},
   "outputs": [
    {
     "data": {
      "text/plain": [
       "array([0.73644388, 0.73894579])"
      ]
     },
     "execution_count": 108,
     "metadata": {},
     "output_type": "execute_result"
    }
   ],
   "source": [
    "f1_score(y_test, pipe_sgd.predict(x_test), average=None)"
   ]
  },
  {
   "cell_type": "code",
   "execution_count": 109,
   "metadata": {},
   "outputs": [
    {
     "name": "stdout",
     "output_type": "stream",
     "text": [
      "Confusion Matrix :\n",
      " [[1460  520]\n",
      " [ 525 1479]]\n",
      "\n",
      "Test Set Accuracy Score :\n",
      " 0.7377008032128514\n",
      "\n",
      "Train Set Accuracy Score :\n",
      " 0.8638493723849372\n",
      "\n",
      "Classification Report :\n",
      "               precision    recall  f1-score   support\n",
      "\n",
      "       Funny       0.74      0.74      0.74      1980\n",
      "   Not Funny       0.74      0.74      0.74      2004\n",
      "\n",
      "    accuracy                           0.74      3984\n",
      "   macro avg       0.74      0.74      0.74      3984\n",
      "weighted avg       0.74      0.74      0.74      3984\n",
      "\n"
     ]
    }
   ],
   "source": [
    "# Linear SGD Model results - Confusion Matrix\n",
    "\n",
    "cm_sgd = confusion_matrix(y_test, y_pred_sgd)\n",
    "print(f'Confusion Matrix :\\n {cm_sgd}\\n')\n",
    "print(f'Test Set Accuracy Score :\\n {accuracy_score(y_test, y_pred_sgd)}\\n')\n",
    "print(f'Train Set Accuracy Score :\\n {accuracy_score(y_train, yt_pred_sgd)}\\n')\n",
    "print(f'Classification Report :\\n {classification_report(y_test, y_pred_sgd)}')"
   ]
  },
  {
   "cell_type": "markdown",
   "metadata": {},
   "source": [
    "### 4.4.3. Model 4 - Confusion Matrix Vizualization"
   ]
  },
  {
   "cell_type": "code",
   "execution_count": 110,
   "metadata": {},
   "outputs": [
    {
     "data": {
      "image/png": "[encoded data removed]",
      "text/plain": [
       "<Figure size 504x360 with 2 Axes>"
      ]
     },
     "metadata": {},
     "output_type": "display_data"
    }
   ],
   "source": [
    "# View confusion matrix for test data and predictions\n",
    "# Get and reshape confusion matrix data\n",
    "matrix = confusion_matrix(y_test, y_pred_sgd)\n",
    "matrix = matrix.astype('float') / matrix.sum(axis=1)[:, np.newaxis]\n",
    "\n",
    "# Build the plot\n",
    "plt.figure(figsize=(7,5))\n",
    "sns.set(font_scale=1.0)\n",
    "sns.heatmap(matrix, annot=True, annot_kws={'size':10},\n",
    "            cmap=plt.cm.Reds, linewidths=0.2)\n",
    "\n",
    "# Add labels to the plot\n",
    "class_names = ['Funny', 'Not Funny']\n",
    "tick_marks = np.arange(len(class_names))\n",
    "tick_marks2 = tick_marks + 0.5\n",
    "plt.xticks(tick_marks, class_names, rotation=25)\n",
    "plt.yticks(tick_marks2, class_names, rotation=0)\n",
    "plt.xlabel('Predicted label')\n",
    "plt.ylabel('True label')\n",
    "plt.title('Confusion Matrix for Linear SGD Model')\n",
    "plt.show()"
   ]
  },
  {
   "cell_type": "markdown",
   "metadata": {},
   "source": [
    "### 4.4.4. Predict on input review text using Linear SGD model:"
   ]
  },
  {
   "cell_type": "markdown",
   "metadata": {},
   "source": [
    "#### Using the same 4 examples as prepared earlier:"
   ]
  },
  {
   "cell_type": "code",
   "execution_count": 118,
   "metadata": {
    "scrolled": true
   },
   "outputs": [
    {
     "data": {
      "text/plain": [
       "'Funny'"
      ]
     },
     "execution_count": 118,
     "metadata": {},
     "output_type": "execute_result"
    }
   ],
   "source": [
    "# Example 1:\n",
    "my_review_1 = [\"The place is truly a touristic trap dump! It looks like a restaurant, but it is not!\"]\n",
    "pipe_sgd.predict(my_review_1)[0]"
   ]
  },
  {
   "cell_type": "code",
   "execution_count": 119,
   "metadata": {},
   "outputs": [
    {
     "data": {
      "text/plain": [
       "'Funny'"
      ]
     },
     "execution_count": 119,
     "metadata": {},
     "output_type": "execute_result"
    }
   ],
   "source": [
    "# Example 2:\n",
    "my_review_2 = [\"I told the owner that mochi and doughnuts were speaking to me the words of wisdom\"]\n",
    "pipe_sgd.predict(my_review_2)[0]"
   ]
  },
  {
   "cell_type": "code",
   "execution_count": 120,
   "metadata": {},
   "outputs": [
    {
     "data": {
      "text/plain": [
       "'Not Funny'"
      ]
     },
     "execution_count": 120,
     "metadata": {},
     "output_type": "execute_result"
    }
   ],
   "source": [
    "# Example 3:\n",
    "my_review_3 = [\"Can't even explain how much I love this place\"]\n",
    "pipe_sgd.predict(my_review_3)[0]"
   ]
  },
  {
   "cell_type": "code",
   "execution_count": 121,
   "metadata": {},
   "outputs": [
    {
     "data": {
      "text/plain": [
       "'Not Funny'"
      ]
     },
     "execution_count": 121,
     "metadata": {},
     "output_type": "execute_result"
    }
   ],
   "source": [
    "# Example 4:\n",
    "my_review_4 = [\"This restaurant is not very good. Giving this 3.5 stars and not coming back.\"]\n",
    "pipe_sgd.predict(my_review_4)[0]"
   ]
  },
  {
   "cell_type": "markdown",
   "metadata": {},
   "source": [
    "# 5. Pickle the models"
   ]
  },
  {
   "cell_type": "code",
   "execution_count": 115,
   "metadata": {},
   "outputs": [],
   "source": [
    "import pickle\n",
    "pickle.dump(clf_svm, open('Model_01_svm.pkl', 'wb'))\n",
    "pickle.dump(classifier_rf, open('Model_02_RF_A.pkl', 'wb'))\n",
    "pickle.dump(pipe_rfc, open('Model_03_RF_B.pkl', 'wb'))\n",
    "pickle.dump(pipe_sgd, open('Model_04_SGD.pkl', 'wb'))"
   ]
  },
  {
   "cell_type": "markdown",
   "metadata": {},
   "source": [
    "# 6. Summary and Conclusions"
   ]
  },
  {
   "cell_type": "markdown",
   "metadata": {},
   "source": [
    "## 6.1. Metrics"
   ]
  },
  {
   "cell_type": "markdown",
   "metadata": {},
   "source": [
    "Here is how the models have performed:\n",
    "- Model 1:\n",
    "        Accuracy Score: 0.7105923694779116\n",
    "        f1_score: [0.69745474, 0.72263652]\n",
    "\n",
    "- Model 2:\n",
    "        Accuracy Score: 0.7213855421686747\n",
    "        f1_score: [0.72277722, 0.71997982]\n",
    "        \n",
    "- Model 3:\n",
    "        Accuracy Score: 0.7319277108433735\n",
    "        f1_score: [0.73419612, 0.72962025]\n",
    "        \n",
    "- Model 4:\n",
    "        Accuracy Score: 0.7374497991967871\n",
    "        f1_score: [0.73411286, 0.74070402]"
   ]
  },
  {
   "cell_type": "markdown",
   "metadata": {},
   "source": [
    "## 6.2. Summary"
   ]
  },
  {
   "cell_type": "markdown",
   "metadata": {},
   "source": [
    "Model 1 was a Linear SVM classifier - when fed an review texts, using the Term Frequency Tables as a reference, whem selecting words, which would theoretically influence the prediction of the outcome, the model labeled the following text as 'Funny':\n",
    "    \n",
    "    \"The place is truly a tourist trap dump! mochi doughnuts do that security ham like baby sound like like Like what jay dim sum offerings words of wisdom\"\n",
    "\n",
    "and this text as 'Not Funny':\n",
    "\n",
    "    \"This restaurant is not very good. Giving this 3.5 stars and not coming back.\"\n",
    "\n",
    "Well, you be the judge of how well those two instance have been assessed!"
   ]
  },
  {
   "cell_type": "markdown",
   "metadata": {},
   "source": [
    "However, to keep the testing consistent - the following four arbitrary Examples have been used, i.e. same for all 4 Models:\n",
    "\n",
    "- Example 1 Review Text:\n",
    "\n",
    "        \"The place is truly a touristic trap dump! It looks like a restaurant, but it is not!\"\n",
    "        \n",
    "- Example 2 Review Text:\n",
    "\n",
    "        \"I told the owner that mochi and doughnuts were speaking to me the words of wisdom\"\n",
    "        \n",
    "- Example 3 Review Text:\n",
    "\n",
    "        \"I told the owner that mochi and doughnuts were speaking to me the words of wisdom\"\n",
    "\n",
    "- Example 4 Review Text:\n",
    "\n",
    "        \"This restaurant is not very good. Giving this 3.5 stars and not coming back.\""
   ]
  },
  {
   "cell_type": "markdown",
   "metadata": {},
   "source": [
    "And this is how the Models labeled them:\n",
    "- Model 1:\n",
    "\n",
    "            - Example 1 - Funny\n",
    "            - Example 2 - Not Funny\n",
    "            - Example 3 - Not Funny\n",
    "            - Example 4 - Not Funny\n",
    "            \n",
    "- Model 2:\n",
    "\n",
    "            - Example 1 - Not Funny\n",
    "            - Example 2 - Not Funny\n",
    "            - Example 3 - Not Funny\n",
    "            - Example 4 - Not Funny\n",
    "\n",
    "- Model 3:\n",
    "\n",
    "            - Example 1 - Funny\n",
    "            - Example 2 - Not Funny\n",
    "            - Example 3 - Not Funny\n",
    "            - Example 4 - Not Funny\n",
    "\n",
    "- Model 4:\n",
    "\n",
    "            - Example 1 - Funny\n",
    "            - Example 2 - Funny\n",
    "            - Example 3 - Not Funny\n",
    "            - Example 4 - Not Funny"
   ]
  },
  {
   "cell_type": "markdown",
   "metadata": {},
   "source": [
    "## 6.3. Conclusion"
   ]
  },
  {
   "cell_type": "markdown",
   "metadata": {},
   "source": [
    "As we can see, judging by performance evaluations, we would be better off sticking with Model 4 - after all it seems to have the best sense of humor!!!\n",
    "\n",
    "Also, let us not forget that the 'funniness' of the texts is always going to be subjective - at least by us, the humans."
   ]
  }
 ],
 "metadata": {
  "kernelspec": {
   "display_name": "Python 3",
   "language": "python",
   "name": "python3"
  },
  "language_info": {
   "codemirror_mode": {
    "name": "ipython",
    "version": 3
   },
   "file_extension": ".py",
   "mimetype": "text/x-python",
   "name": "python",
   "nbconvert_exporter": "python",
   "pygments_lexer": "ipython3",
   "version": "3.8.3"
  }
 },
 "nbformat": 4,
 "nbformat_minor": 4
}
