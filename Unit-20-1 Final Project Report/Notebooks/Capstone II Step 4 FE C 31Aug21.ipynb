{
 "cells": [
  {
   "cell_type": "markdown",
   "metadata": {},
   "source": [
    "# 4 Capstone II Preprocessing and Training"
   ]
  },
  {
   "cell_type": "markdown",
   "metadata": {},
   "source": [
    "## Introduction"
   ]
  },
  {
   "cell_type": "markdown",
   "metadata": {},
   "source": [
    "Create and assess models."
   ]
  },
  {
   "cell_type": "markdown",
   "metadata": {},
   "source": [
    "Validate"
   ]
  },
  {
   "cell_type": "markdown",
   "metadata": {},
   "source": [
    "# 4.1 Imports"
   ]
  },
  {
   "cell_type": "code",
   "execution_count": 1,
   "metadata": {},
   "outputs": [],
   "source": [
    "import os\n",
    "from library.sb_utils import save_file\n",
    "\n",
    "import pandas as pd\n",
    "import numpy as np\n",
    "\n",
    "import datetime\n",
    "import pickle\n",
    "import matplotlib.pyplot as plt\n",
    "import seaborn as sns\n",
    "\n",
    "from sklearn import __version__ as sklearn_version\n",
    "\n",
    "from sklearn.preprocessing import scale\n",
    "from sklearn.preprocessing import StandardScaler, MinMaxScaler\n",
    "from sklearn.preprocessing import scale\n",
    "from sklearn.decomposition import PCA\n",
    "\n",
    "from sklearn.dummy import DummyRegressor\n",
    "from sklearn.ensemble import RandomForestRegressor\n",
    "from sklearn.feature_selection import SelectKBest, f_regression\n",
    "from sklearn.impute import SimpleImputer\n",
    "from sklearn.linear_model import LinearRegression\n",
    "from sklearn.metrics import r2_score, mean_squared_error, mean_absolute_error\n",
    "from sklearn.model_selection import train_test_split, cross_validate, GridSearchCV, learning_curve\n",
    "from sklearn.pipeline import make_pipeline"
   ]
  },
  {
   "cell_type": "markdown",
   "metadata": {},
   "source": [
    "# 4.2 Load The Data"
   ]
  },
  {
   "cell_type": "markdown",
   "metadata": {},
   "source": [
    "## 4.2.1 Profiles Data"
   ]
  },
  {
   "cell_type": "code",
   "execution_count": 2,
   "metadata": {},
   "outputs": [],
   "source": [
    "# Load the data\n",
    "full_data = pd.read_csv('../data/data_step3_features.csv')"
   ]
  },
  {
   "cell_type": "code",
   "execution_count": 3,
   "metadata": {
    "scrolled": true
   },
   "outputs": [
    {
     "name": "stdout",
     "output_type": "stream",
     "text": [
      "<class 'pandas.core.frame.DataFrame'>\n",
      "RangeIndex: 969 entries, 0 to 968\n",
      "Data columns (total 86 columns):\n",
      " #   Column              Non-Null Count  Dtype  \n",
      "---  ------              --------------  -----  \n",
      " 0   RFY-PADD            969 non-null    object \n",
      " 1   RFY-PAD-Sub         969 non-null    object \n",
      " 2   RFY-PAD-District    969 non-null    object \n",
      " 3   RFY_ID              969 non-null    object \n",
      " 4   RFY_BPCD            969 non-null    int64  \n",
      " 5   CATCRKRECYL         969 non-null    float64\n",
      " 6   CATHYDRCRCK         969 non-null    float64\n",
      " 7   CATHYDTRMT          969 non-null    float64\n",
      " 8   CATLREFORM          969 non-null    float64\n",
      " 9   CATLYTCRCK          969 non-null    float64\n",
      " 10  COKING              969 non-null    float64\n",
      " 11  FUELSOLDEASP        969 non-null    float64\n",
      " 12  THERMCRCK           969 non-null    float64\n",
      " 13  VACMDIST            969 non-null    float64\n",
      " 14  Crude_API           969 non-null    float64\n",
      " 15  NG_Yield_PAD        969 non-null    float64\n",
      " 16  GSL_Yield_PAD       969 non-null    float64\n",
      " 17  DSL_Yield_PAD       969 non-null    float64\n",
      " 18  RESID_Yield_PAD     969 non-null    float64\n",
      " 19  WTI_Price           969 non-null    float64\n",
      " 20  WTI_Diff            969 non-null    float64\n",
      " 21  WTI_Acq_Cost        969 non-null    float64\n",
      " 22  Brent_Price         969 non-null    float64\n",
      " 23  Brent_Diff          969 non-null    float64\n",
      " 24  CRCK_WTI_PAD-1A     969 non-null    float64\n",
      " 25  CRCK_WTI_PAD-1B     969 non-null    float64\n",
      " 26  CRCK_WTI_PAD-1C     969 non-null    float64\n",
      " 27  CRCK_WTI_PAD-2      969 non-null    float64\n",
      " 28  CRCK_WTI_PAD-3      969 non-null    float64\n",
      " 29  CRCK_WTI_PAD-4      969 non-null    float64\n",
      " 30  CRCK_WTI_PAD-5      969 non-null    float64\n",
      " 31  SPECF_CRCK_PAD-1A   969 non-null    float64\n",
      " 32  SPECF_CRCK_PAD-1B   969 non-null    float64\n",
      " 33  SPECF_CRCK_PAD-1C   969 non-null    float64\n",
      " 34  SPECF_CRCK_PAD-2    969 non-null    float64\n",
      " 35  SPECF_CRCK_PAD-3    969 non-null    float64\n",
      " 36  SPECF_CRCK_PAD-4    969 non-null    float64\n",
      " 37  SPECF_CRCK_PAD-5    969 non-null    float64\n",
      " 38  SPECF_RFY_CRCK      969 non-null    float64\n",
      " 39  Dist_PAD-1A         969 non-null    float64\n",
      " 40  Dist_PAD-1B         969 non-null    float64\n",
      " 41  Dist_PAD-1C         969 non-null    float64\n",
      " 42  Dist_PAD-2          969 non-null    float64\n",
      " 43  Dist_PAD-3          969 non-null    float64\n",
      " 44  Dist_PAD-4          969 non-null    float64\n",
      " 45  Dist_PAD-5          969 non-null    float64\n",
      " 46  RFY_Press_PAD-1A    969 non-null    float64\n",
      " 47  RFY_Press_PAD-1B    969 non-null    float64\n",
      " 48  RFY_Press_PAD-1C    969 non-null    float64\n",
      " 49  RFY_Press_PAD-2     969 non-null    float64\n",
      " 50  RFY_Press_PAD-3     969 non-null    float64\n",
      " 51  RFY_Press_PAD-4     969 non-null    float64\n",
      " 52  RFY_Press_PAD-5     969 non-null    float64\n",
      " 53  PAD-1-1             969 non-null    int64  \n",
      " 54  PAD-1-2             969 non-null    int64  \n",
      " 55  PAD-2-1             969 non-null    int64  \n",
      " 56  PAD-2-2             969 non-null    int64  \n",
      " 57  PAD-2-3             969 non-null    int64  \n",
      " 58  PAD-3-2             969 non-null    int64  \n",
      " 59  PAD-3-3             969 non-null    int64  \n",
      " 60  PAD-3-4             969 non-null    int64  \n",
      " 61  PAD-3-5             969 non-null    int64  \n",
      " 62  PAD-4               969 non-null    int64  \n",
      " 63  PAD-5               969 non-null    int64  \n",
      " 64  BPD_DENS_PAD-1A     969 non-null    float64\n",
      " 65  BPD_DENS_PAD-1B     969 non-null    float64\n",
      " 66  BPD_DENS_PAD-1C     969 non-null    float64\n",
      " 67  BPD_DENS_PAD-2      969 non-null    float64\n",
      " 68  BPD_DENS_PAD-3      969 non-null    float64\n",
      " 69  BPD_DENS_PAD-4      969 non-null    float64\n",
      " 70  BPD_DENS_PAD-5      969 non-null    float64\n",
      " 71  BPD_DENS_SPECF      969 non-null    float64\n",
      " 72  MRKT_RESIST_PAD-1A  969 non-null    float64\n",
      " 73  MRKT_RESIST_PAD-1B  969 non-null    float64\n",
      " 74  MRKT_RESIST_PAD-1C  969 non-null    float64\n",
      " 75  MRKT_RESIST_PAD-2   969 non-null    float64\n",
      " 76  MRKT_RESIST_PAD-3   969 non-null    float64\n",
      " 77  MRKT_RESIST_PAD-4   969 non-null    float64\n",
      " 78  MRKT_RESIST_PAD-5   969 non-null    float64\n",
      " 79  REVNUE_PAD-1A       969 non-null    float64\n",
      " 80  REVNUE_PAD-1B       969 non-null    float64\n",
      " 81  REVNUE_PAD-1C       969 non-null    float64\n",
      " 82  REVNUE_PAD-2        969 non-null    float64\n",
      " 83  REVNUE_PAD-3        969 non-null    float64\n",
      " 84  REVNUE_PAD-4        969 non-null    float64\n",
      " 85  REVNUE_PAD-5        969 non-null    float64\n",
      "dtypes: float64(70), int64(12), object(4)\n",
      "memory usage: 651.2+ KB\n"
     ]
    }
   ],
   "source": [
    "full_data.info()"
   ]
  },
  {
   "cell_type": "code",
   "execution_count": 7,
   "metadata": {},
   "outputs": [],
   "source": [
    "data = full_data.iloc[:, np.r_[2:5, 14:24, 71, 38, 53:64]]"
   ]
  },
  {
   "cell_type": "code",
   "execution_count": 8,
   "metadata": {},
   "outputs": [
    {
     "data": {
      "text/html": [
       "<div>\n",
       "<style scoped>\n",
       "    .dataframe tbody tr th:only-of-type {\n",
       "        vertical-align: middle;\n",
       "    }\n",
       "\n",
       "    .dataframe tbody tr th {\n",
       "        vertical-align: top;\n",
       "    }\n",
       "\n",
       "    .dataframe thead th {\n",
       "        text-align: right;\n",
       "    }\n",
       "</style>\n",
       "<table border=\"1\" class=\"dataframe\">\n",
       "  <thead>\n",
       "    <tr style=\"text-align: right;\">\n",
       "      <th></th>\n",
       "      <th>0</th>\n",
       "      <th>1</th>\n",
       "      <th>2</th>\n",
       "      <th>3</th>\n",
       "      <th>4</th>\n",
       "    </tr>\n",
       "  </thead>\n",
       "  <tbody>\n",
       "    <tr>\n",
       "      <th>RFY-PAD-District</th>\n",
       "      <td>PAD-3-3</td>\n",
       "      <td>PAD-3-3</td>\n",
       "      <td>PAD-3-3</td>\n",
       "      <td>PAD-3-4</td>\n",
       "      <td>PAD-3-4</td>\n",
       "    </tr>\n",
       "    <tr>\n",
       "      <th>RFY_ID</th>\n",
       "      <td>RFY-001</td>\n",
       "      <td>RFY-002</td>\n",
       "      <td>RFY-003</td>\n",
       "      <td>RFY-009</td>\n",
       "      <td>RFY-010</td>\n",
       "    </tr>\n",
       "    <tr>\n",
       "      <th>RFY_BPCD</th>\n",
       "      <td>87500</td>\n",
       "      <td>48000</td>\n",
       "      <td>4100</td>\n",
       "      <td>83000</td>\n",
       "      <td>7500</td>\n",
       "    </tr>\n",
       "    <tr>\n",
       "      <th>Crude_API</th>\n",
       "      <td>30.1708</td>\n",
       "      <td>30.1708</td>\n",
       "      <td>30.1708</td>\n",
       "      <td>29.845</td>\n",
       "      <td>29.845</td>\n",
       "    </tr>\n",
       "    <tr>\n",
       "      <th>NG_Yield_PAD</th>\n",
       "      <td>9.08333</td>\n",
       "      <td>9.08333</td>\n",
       "      <td>9.08333</td>\n",
       "      <td>3.925</td>\n",
       "      <td>3.925</td>\n",
       "    </tr>\n",
       "    <tr>\n",
       "      <th>GSL_Yield_PAD</th>\n",
       "      <td>43.775</td>\n",
       "      <td>43.775</td>\n",
       "      <td>43.775</td>\n",
       "      <td>30.075</td>\n",
       "      <td>30.075</td>\n",
       "    </tr>\n",
       "    <tr>\n",
       "      <th>DSL_Yield_PAD</th>\n",
       "      <td>41.5917</td>\n",
       "      <td>41.5917</td>\n",
       "      <td>41.5917</td>\n",
       "      <td>36.295</td>\n",
       "      <td>36.295</td>\n",
       "    </tr>\n",
       "    <tr>\n",
       "      <th>RESID_Yield_PAD</th>\n",
       "      <td>11.825</td>\n",
       "      <td>11.825</td>\n",
       "      <td>11.825</td>\n",
       "      <td>29.4512</td>\n",
       "      <td>29.4512</td>\n",
       "    </tr>\n",
       "    <tr>\n",
       "      <th>WTI_Price</th>\n",
       "      <td>97.9058</td>\n",
       "      <td>97.9058</td>\n",
       "      <td>97.9058</td>\n",
       "      <td>97.9058</td>\n",
       "      <td>97.9058</td>\n",
       "    </tr>\n",
       "    <tr>\n",
       "      <th>WTI_Diff</th>\n",
       "      <td>3.64583</td>\n",
       "      <td>3.64583</td>\n",
       "      <td>3.64583</td>\n",
       "      <td>3.64583</td>\n",
       "      <td>3.64583</td>\n",
       "    </tr>\n",
       "    <tr>\n",
       "      <th>WTI_Acq_Cost</th>\n",
       "      <td>101.552</td>\n",
       "      <td>101.552</td>\n",
       "      <td>101.552</td>\n",
       "      <td>101.552</td>\n",
       "      <td>101.552</td>\n",
       "    </tr>\n",
       "    <tr>\n",
       "      <th>Brent_Price</th>\n",
       "      <td>108.638</td>\n",
       "      <td>108.638</td>\n",
       "      <td>108.638</td>\n",
       "      <td>108.638</td>\n",
       "      <td>108.638</td>\n",
       "    </tr>\n",
       "    <tr>\n",
       "      <th>Brent_Diff</th>\n",
       "      <td>-3.89583</td>\n",
       "      <td>-3.89583</td>\n",
       "      <td>-3.89583</td>\n",
       "      <td>-3.89583</td>\n",
       "      <td>-3.89583</td>\n",
       "    </tr>\n",
       "    <tr>\n",
       "      <th>BPD_DENS_SPECF</th>\n",
       "      <td>1.96626</td>\n",
       "      <td>1.17944</td>\n",
       "      <td>0.0924648</td>\n",
       "      <td>1.98309</td>\n",
       "      <td>0.177452</td>\n",
       "    </tr>\n",
       "    <tr>\n",
       "      <th>SPECF_RFY_CRCK</th>\n",
       "      <td>22.5753</td>\n",
       "      <td>22.5676</td>\n",
       "      <td>22.5715</td>\n",
       "      <td>14.761</td>\n",
       "      <td>14.7603</td>\n",
       "    </tr>\n",
       "    <tr>\n",
       "      <th>PAD-1-1</th>\n",
       "      <td>0</td>\n",
       "      <td>0</td>\n",
       "      <td>0</td>\n",
       "      <td>0</td>\n",
       "      <td>0</td>\n",
       "    </tr>\n",
       "    <tr>\n",
       "      <th>PAD-1-2</th>\n",
       "      <td>0</td>\n",
       "      <td>0</td>\n",
       "      <td>0</td>\n",
       "      <td>0</td>\n",
       "      <td>0</td>\n",
       "    </tr>\n",
       "    <tr>\n",
       "      <th>PAD-2-1</th>\n",
       "      <td>0</td>\n",
       "      <td>0</td>\n",
       "      <td>0</td>\n",
       "      <td>0</td>\n",
       "      <td>0</td>\n",
       "    </tr>\n",
       "    <tr>\n",
       "      <th>PAD-2-2</th>\n",
       "      <td>0</td>\n",
       "      <td>0</td>\n",
       "      <td>0</td>\n",
       "      <td>0</td>\n",
       "      <td>0</td>\n",
       "    </tr>\n",
       "    <tr>\n",
       "      <th>PAD-2-3</th>\n",
       "      <td>0</td>\n",
       "      <td>0</td>\n",
       "      <td>0</td>\n",
       "      <td>0</td>\n",
       "      <td>0</td>\n",
       "    </tr>\n",
       "    <tr>\n",
       "      <th>PAD-3-2</th>\n",
       "      <td>0</td>\n",
       "      <td>0</td>\n",
       "      <td>0</td>\n",
       "      <td>0</td>\n",
       "      <td>0</td>\n",
       "    </tr>\n",
       "    <tr>\n",
       "      <th>PAD-3-3</th>\n",
       "      <td>1</td>\n",
       "      <td>1</td>\n",
       "      <td>1</td>\n",
       "      <td>0</td>\n",
       "      <td>0</td>\n",
       "    </tr>\n",
       "    <tr>\n",
       "      <th>PAD-3-4</th>\n",
       "      <td>0</td>\n",
       "      <td>0</td>\n",
       "      <td>0</td>\n",
       "      <td>1</td>\n",
       "      <td>1</td>\n",
       "    </tr>\n",
       "    <tr>\n",
       "      <th>PAD-3-5</th>\n",
       "      <td>0</td>\n",
       "      <td>0</td>\n",
       "      <td>0</td>\n",
       "      <td>0</td>\n",
       "      <td>0</td>\n",
       "    </tr>\n",
       "    <tr>\n",
       "      <th>PAD-4</th>\n",
       "      <td>0</td>\n",
       "      <td>0</td>\n",
       "      <td>0</td>\n",
       "      <td>0</td>\n",
       "      <td>0</td>\n",
       "    </tr>\n",
       "    <tr>\n",
       "      <th>PAD-5</th>\n",
       "      <td>0</td>\n",
       "      <td>0</td>\n",
       "      <td>0</td>\n",
       "      <td>0</td>\n",
       "      <td>0</td>\n",
       "    </tr>\n",
       "  </tbody>\n",
       "</table>\n",
       "</div>"
      ],
      "text/plain": [
       "                        0        1          2        3         4\n",
       "RFY-PAD-District  PAD-3-3  PAD-3-3    PAD-3-3  PAD-3-4   PAD-3-4\n",
       "RFY_ID            RFY-001  RFY-002    RFY-003  RFY-009   RFY-010\n",
       "RFY_BPCD            87500    48000       4100    83000      7500\n",
       "Crude_API         30.1708  30.1708    30.1708   29.845    29.845\n",
       "NG_Yield_PAD      9.08333  9.08333    9.08333    3.925     3.925\n",
       "GSL_Yield_PAD      43.775   43.775     43.775   30.075    30.075\n",
       "DSL_Yield_PAD     41.5917  41.5917    41.5917   36.295    36.295\n",
       "RESID_Yield_PAD    11.825   11.825     11.825  29.4512   29.4512\n",
       "WTI_Price         97.9058  97.9058    97.9058  97.9058   97.9058\n",
       "WTI_Diff          3.64583  3.64583    3.64583  3.64583   3.64583\n",
       "WTI_Acq_Cost      101.552  101.552    101.552  101.552   101.552\n",
       "Brent_Price       108.638  108.638    108.638  108.638   108.638\n",
       "Brent_Diff       -3.89583 -3.89583   -3.89583 -3.89583  -3.89583\n",
       "BPD_DENS_SPECF    1.96626  1.17944  0.0924648  1.98309  0.177452\n",
       "SPECF_RFY_CRCK    22.5753  22.5676    22.5715   14.761   14.7603\n",
       "PAD-1-1                 0        0          0        0         0\n",
       "PAD-1-2                 0        0          0        0         0\n",
       "PAD-2-1                 0        0          0        0         0\n",
       "PAD-2-2                 0        0          0        0         0\n",
       "PAD-2-3                 0        0          0        0         0\n",
       "PAD-3-2                 0        0          0        0         0\n",
       "PAD-3-3                 1        1          1        0         0\n",
       "PAD-3-4                 0        0          0        1         1\n",
       "PAD-3-5                 0        0          0        0         0\n",
       "PAD-4                   0        0          0        0         0\n",
       "PAD-5                   0        0          0        0         0"
      ]
     },
     "execution_count": 8,
     "metadata": {},
     "output_type": "execute_result"
    }
   ],
   "source": [
    "data.head().T"
   ]
  },
  {
   "cell_type": "code",
   "execution_count": 9,
   "metadata": {
    "scrolled": false
   },
   "outputs": [
    {
     "data": {
      "text/html": [
       "<div>\n",
       "<style scoped>\n",
       "    .dataframe tbody tr th:only-of-type {\n",
       "        vertical-align: middle;\n",
       "    }\n",
       "\n",
       "    .dataframe tbody tr th {\n",
       "        vertical-align: top;\n",
       "    }\n",
       "\n",
       "    .dataframe thead th {\n",
       "        text-align: right;\n",
       "    }\n",
       "</style>\n",
       "<table border=\"1\" class=\"dataframe\">\n",
       "  <thead>\n",
       "    <tr style=\"text-align: right;\">\n",
       "      <th></th>\n",
       "      <th>968</th>\n",
       "    </tr>\n",
       "  </thead>\n",
       "  <tbody>\n",
       "    <tr>\n",
       "      <th>RFY-PAD-District</th>\n",
       "      <td>PAD-2-2</td>\n",
       "    </tr>\n",
       "    <tr>\n",
       "      <th>RFY_ID</th>\n",
       "      <td>RFY-201</td>\n",
       "    </tr>\n",
       "    <tr>\n",
       "      <th>RFY_BPCD</th>\n",
       "      <td>50000</td>\n",
       "    </tr>\n",
       "    <tr>\n",
       "      <th>Crude_API</th>\n",
       "      <td>26.1155</td>\n",
       "    </tr>\n",
       "    <tr>\n",
       "      <th>NG_Yield_PAD</th>\n",
       "      <td>2.55</td>\n",
       "    </tr>\n",
       "    <tr>\n",
       "      <th>GSL_Yield_PAD</th>\n",
       "      <td>41.75</td>\n",
       "    </tr>\n",
       "    <tr>\n",
       "      <th>DSL_Yield_PAD</th>\n",
       "      <td>50.88</td>\n",
       "    </tr>\n",
       "    <tr>\n",
       "      <th>RESID_Yield_PAD</th>\n",
       "      <td>6.77</td>\n",
       "    </tr>\n",
       "    <tr>\n",
       "      <th>WTI_Price</th>\n",
       "      <td>38.5191</td>\n",
       "    </tr>\n",
       "    <tr>\n",
       "      <th>WTI_Diff</th>\n",
       "      <td>-6.04909</td>\n",
       "    </tr>\n",
       "    <tr>\n",
       "      <th>WTI_Acq_Cost</th>\n",
       "      <td>32.47</td>\n",
       "    </tr>\n",
       "    <tr>\n",
       "      <th>Brent_Price</th>\n",
       "      <td>41.0109</td>\n",
       "    </tr>\n",
       "    <tr>\n",
       "      <th>Brent_Diff</th>\n",
       "      <td>-2.07818</td>\n",
       "    </tr>\n",
       "    <tr>\n",
       "      <th>BPD_DENS_SPECF</th>\n",
       "      <td>0.875046</td>\n",
       "    </tr>\n",
       "    <tr>\n",
       "      <th>SPECF_RFY_CRCK</th>\n",
       "      <td>26.481</td>\n",
       "    </tr>\n",
       "    <tr>\n",
       "      <th>PAD-1-1</th>\n",
       "      <td>0</td>\n",
       "    </tr>\n",
       "    <tr>\n",
       "      <th>PAD-1-2</th>\n",
       "      <td>0</td>\n",
       "    </tr>\n",
       "    <tr>\n",
       "      <th>PAD-2-1</th>\n",
       "      <td>0</td>\n",
       "    </tr>\n",
       "    <tr>\n",
       "      <th>PAD-2-2</th>\n",
       "      <td>1</td>\n",
       "    </tr>\n",
       "    <tr>\n",
       "      <th>PAD-2-3</th>\n",
       "      <td>0</td>\n",
       "    </tr>\n",
       "    <tr>\n",
       "      <th>PAD-3-2</th>\n",
       "      <td>0</td>\n",
       "    </tr>\n",
       "    <tr>\n",
       "      <th>PAD-3-3</th>\n",
       "      <td>0</td>\n",
       "    </tr>\n",
       "    <tr>\n",
       "      <th>PAD-3-4</th>\n",
       "      <td>0</td>\n",
       "    </tr>\n",
       "    <tr>\n",
       "      <th>PAD-3-5</th>\n",
       "      <td>0</td>\n",
       "    </tr>\n",
       "    <tr>\n",
       "      <th>PAD-4</th>\n",
       "      <td>0</td>\n",
       "    </tr>\n",
       "    <tr>\n",
       "      <th>PAD-5</th>\n",
       "      <td>0</td>\n",
       "    </tr>\n",
       "  </tbody>\n",
       "</table>\n",
       "</div>"
      ],
      "text/plain": [
       "                       968\n",
       "RFY-PAD-District   PAD-2-2\n",
       "RFY_ID             RFY-201\n",
       "RFY_BPCD             50000\n",
       "Crude_API          26.1155\n",
       "NG_Yield_PAD          2.55\n",
       "GSL_Yield_PAD        41.75\n",
       "DSL_Yield_PAD        50.88\n",
       "RESID_Yield_PAD       6.77\n",
       "WTI_Price          38.5191\n",
       "WTI_Diff          -6.04909\n",
       "WTI_Acq_Cost         32.47\n",
       "Brent_Price        41.0109\n",
       "Brent_Diff        -2.07818\n",
       "BPD_DENS_SPECF    0.875046\n",
       "SPECF_RFY_CRCK      26.481\n",
       "PAD-1-1                  0\n",
       "PAD-1-2                  0\n",
       "PAD-2-1                  0\n",
       "PAD-2-2                  1\n",
       "PAD-2-3                  0\n",
       "PAD-3-2                  0\n",
       "PAD-3-3                  0\n",
       "PAD-3-4                  0\n",
       "PAD-3-5                  0\n",
       "PAD-4                    0\n",
       "PAD-5                    0"
      ]
     },
     "execution_count": 9,
     "metadata": {},
     "output_type": "execute_result"
    }
   ],
   "source": [
    "# Get the row index of the fictional observation for the FALCON refinery, with 'RFY_ID': 'RFY-201':\n",
    "data[data['RFY_ID'] == 'RFY-201'].T"
   ]
  },
  {
   "cell_type": "markdown",
   "metadata": {},
   "source": [
    "## 4.2.2 Prepare source data for training/test split"
   ]
  },
  {
   "cell_type": "code",
   "execution_count": 10,
   "metadata": {
    "scrolled": false
   },
   "outputs": [],
   "source": [
    "# Separate the fictional observations into its own dataframe\n",
    "falcon_data = data[data['RFY_ID'] == 'RFY-201']"
   ]
  },
  {
   "cell_type": "code",
   "execution_count": 11,
   "metadata": {},
   "outputs": [],
   "source": [
    "# Separate the actual observations into another dataframe\n",
    "rfy_data = data.iloc[np.r_[0:968], :]"
   ]
  },
  {
   "cell_type": "code",
   "execution_count": 12,
   "metadata": {},
   "outputs": [
    {
     "data": {
      "text/html": [
       "<div>\n",
       "<style scoped>\n",
       "    .dataframe tbody tr th:only-of-type {\n",
       "        vertical-align: middle;\n",
       "    }\n",
       "\n",
       "    .dataframe tbody tr th {\n",
       "        vertical-align: top;\n",
       "    }\n",
       "\n",
       "    .dataframe thead th {\n",
       "        text-align: right;\n",
       "    }\n",
       "</style>\n",
       "<table border=\"1\" class=\"dataframe\">\n",
       "  <thead>\n",
       "    <tr style=\"text-align: right;\">\n",
       "      <th></th>\n",
       "      <th>RFY-PAD-District</th>\n",
       "      <th>RFY_ID</th>\n",
       "      <th>RFY_BPCD</th>\n",
       "      <th>Crude_API</th>\n",
       "      <th>NG_Yield_PAD</th>\n",
       "      <th>GSL_Yield_PAD</th>\n",
       "      <th>DSL_Yield_PAD</th>\n",
       "      <th>RESID_Yield_PAD</th>\n",
       "      <th>WTI_Price</th>\n",
       "      <th>WTI_Diff</th>\n",
       "      <th>...</th>\n",
       "      <th>PAD-1-2</th>\n",
       "      <th>PAD-2-1</th>\n",
       "      <th>PAD-2-2</th>\n",
       "      <th>PAD-2-3</th>\n",
       "      <th>PAD-3-2</th>\n",
       "      <th>PAD-3-3</th>\n",
       "      <th>PAD-3-4</th>\n",
       "      <th>PAD-3-5</th>\n",
       "      <th>PAD-4</th>\n",
       "      <th>PAD-5</th>\n",
       "    </tr>\n",
       "  </thead>\n",
       "  <tbody>\n",
       "  </tbody>\n",
       "</table>\n",
       "<p>0 rows × 26 columns</p>\n",
       "</div>"
      ],
      "text/plain": [
       "Empty DataFrame\n",
       "Columns: [RFY-PAD-District, RFY_ID, RFY_BPCD, Crude_API, NG_Yield_PAD, GSL_Yield_PAD, DSL_Yield_PAD, RESID_Yield_PAD, WTI_Price, WTI_Diff, WTI_Acq_Cost, Brent_Price, Brent_Diff, BPD_DENS_SPECF, SPECF_RFY_CRCK, PAD-1-1, PAD-1-2, PAD-2-1, PAD-2-2, PAD-2-3, PAD-3-2, PAD-3-3, PAD-3-4, PAD-3-5, PAD-4, PAD-5]\n",
       "Index: []\n",
       "\n",
       "[0 rows x 26 columns]"
      ]
     },
     "execution_count": 12,
     "metadata": {},
     "output_type": "execute_result"
    }
   ],
   "source": [
    "# Check that no fictional observations are left in the actual observations data set\n",
    "rfy_data[rfy_data['RFY_ID'] == 'RFY-201']"
   ]
  },
  {
   "cell_type": "markdown",
   "metadata": {},
   "source": [
    "# 4.3 Split Data into Train/Test partitions"
   ]
  },
  {
   "cell_type": "markdown",
   "metadata": {},
   "source": [
    "## 4.3.1 Split 70/30"
   ]
  },
  {
   "cell_type": "code",
   "execution_count": 13,
   "metadata": {},
   "outputs": [
    {
     "data": {
      "text/plain": [
       "(678, 290)"
      ]
     },
     "execution_count": 13,
     "metadata": {},
     "output_type": "execute_result"
    }
   ],
   "source": [
    "# estimate partition sizes\n",
    "round(len(rfy_data)*.7), round(len(rfy_data)*.3)"
   ]
  },
  {
   "cell_type": "code",
   "execution_count": 15,
   "metadata": {},
   "outputs": [],
   "source": [
    "# Train/Test split\n",
    "# remove object variables, keep only numerical\n",
    "X_train, X_test, y_train, y_test = train_test_split(rfy_data.drop(columns=['SPECF_RFY_CRCK','RFY-PAD-District',\n",
    "                                                                           'RFY_ID']),\n",
    "                                                   rfy_data['SPECF_RFY_CRCK'], test_size=0.3, random_state=47)"
   ]
  },
  {
   "cell_type": "code",
   "execution_count": 16,
   "metadata": {},
   "outputs": [
    {
     "data": {
      "text/plain": [
       "((677, 23), (291, 23))"
      ]
     },
     "execution_count": 16,
     "metadata": {},
     "output_type": "execute_result"
    }
   ],
   "source": [
    "X_train.shape, X_test.shape"
   ]
  },
  {
   "cell_type": "code",
   "execution_count": 17,
   "metadata": {},
   "outputs": [
    {
     "data": {
      "text/plain": [
       "((677,), (291,))"
      ]
     },
     "execution_count": 17,
     "metadata": {},
     "output_type": "execute_result"
    }
   ],
   "source": [
    "y_train.shape, y_test.shape"
   ]
  },
  {
   "cell_type": "markdown",
   "metadata": {},
   "source": [
    "## 4.3.2 Metrics"
   ]
  },
  {
   "cell_type": "markdown",
   "metadata": {},
   "source": [
    "### 4.3.2.1 Dummy Regressor"
   ]
  },
  {
   "cell_type": "code",
   "execution_count": 18,
   "metadata": {
    "scrolled": true
   },
   "outputs": [
    {
     "data": {
      "text/plain": [
       "25.28032322500826"
      ]
     },
     "execution_count": 18,
     "metadata": {},
     "output_type": "execute_result"
    }
   ],
   "source": [
    "# calculate the mean of 'y_train'\n",
    "train_mean = y_train.mean()\n",
    "train_mean"
   ]
  },
  {
   "cell_type": "code",
   "execution_count": 19,
   "metadata": {},
   "outputs": [
    {
     "data": {
      "text/plain": [
       "array([[25.28032323]])"
      ]
     },
     "execution_count": 19,
     "metadata": {},
     "output_type": "execute_result"
    }
   ],
   "source": [
    "# Fit dummy regressor on training data\n",
    "d_reg = DummyRegressor(strategy='mean')\n",
    "d_reg.fit(X_train, y_train)\n",
    "d_reg.constant_"
   ]
  },
  {
   "cell_type": "markdown",
   "metadata": {},
   "source": [
    "### 4.3.2.2 sklearn Metrics"
   ]
  },
  {
   "cell_type": "code",
   "execution_count": 20,
   "metadata": {
    "scrolled": true
   },
   "outputs": [
    {
     "data": {
      "text/plain": [
       "array([25.28032323, 25.28032323, 25.28032323, 25.28032323, 25.28032323])"
      ]
     },
     "execution_count": 20,
     "metadata": {},
     "output_type": "execute_result"
    }
   ],
   "source": [
    "# Use dummy regressor to create an array of the training set length, populated with its mean value\n",
    "y_tr_pred = d_reg.predict(X_train)\n",
    "y_tr_pred[:5]"
   ]
  },
  {
   "cell_type": "code",
   "execution_count": 21,
   "metadata": {},
   "outputs": [
    {
     "data": {
      "text/plain": [
       "array([25.28032323, 25.28032323, 25.28032323, 25.28032323, 25.28032323])"
      ]
     },
     "execution_count": 21,
     "metadata": {},
     "output_type": "execute_result"
    }
   ],
   "source": [
    "# create an array of the test set length, but populated with the training set mean value:\n",
    "y_test_pred = train_mean * np.ones(len(y_test))\n",
    "y_test_pred[:5]"
   ]
  },
  {
   "cell_type": "markdown",
   "metadata": {},
   "source": [
    "#### Calculate the R-squared score on the training set:"
   ]
  },
  {
   "cell_type": "code",
   "execution_count": 22,
   "metadata": {},
   "outputs": [
    {
     "data": {
      "text/plain": [
       "0.0"
      ]
     },
     "execution_count": 22,
     "metadata": {},
     "output_type": "execute_result"
    }
   ],
   "source": [
    "r2_score(y_train, y_tr_pred)"
   ]
  },
  {
   "cell_type": "markdown",
   "metadata": {},
   "source": [
    "#### Calculate the R-squared score on the test set:"
   ]
  },
  {
   "cell_type": "code",
   "execution_count": 23,
   "metadata": {},
   "outputs": [
    {
     "data": {
      "text/plain": [
       "-0.008641972051672386"
      ]
     },
     "execution_count": 23,
     "metadata": {},
     "output_type": "execute_result"
    }
   ],
   "source": [
    "r2_score(y_test, y_test_pred)"
   ]
  },
  {
   "cell_type": "markdown",
   "metadata": {},
   "source": [
    "As expected, the performance of R-squared score on a test set is slightly worse than on the training set."
   ]
  },
  {
   "cell_type": "markdown",
   "metadata": {},
   "source": [
    "#### Mean Absolute Error (MAE) - on the training and the test sets:"
   ]
  },
  {
   "cell_type": "code",
   "execution_count": 24,
   "metadata": {},
   "outputs": [
    {
     "data": {
      "text/plain": [
       "(4.924188646289532, 4.723307597813835)"
      ]
     },
     "execution_count": 24,
     "metadata": {},
     "output_type": "execute_result"
    }
   ],
   "source": [
    "mean_absolute_error(y_train, y_tr_pred), mean_absolute_error(y_test, y_test_pred)"
   ]
  },
  {
   "cell_type": "markdown",
   "metadata": {},
   "source": [
    "# 4.4. Models"
   ]
  },
  {
   "cell_type": "markdown",
   "metadata": {},
   "source": [
    "#### Make initial predictions:\n",
    "* scale the features\n",
    "* train a model\n",
    "* assess model performance"
   ]
  },
  {
   "cell_type": "markdown",
   "metadata": {},
   "source": [
    "## 4.4.1 Initial predictions"
   ]
  },
  {
   "cell_type": "markdown",
   "metadata": {},
   "source": [
    "### 4.4.1.1 Scale the features"
   ]
  },
  {
   "cell_type": "code",
   "execution_count": 25,
   "metadata": {},
   "outputs": [],
   "source": [
    "# Fit the scaler on the training data\n",
    "# Use 'transofrm()' method to apply the scaling on the train and test split\n",
    "scaler = StandardScaler()\n",
    "scaler.fit(X_train)\n",
    "\n",
    "X_tr_scaled = scaler.transform(X_train)\n",
    "X_test_scaled = scaler.transform(X_test)"
   ]
  },
  {
   "cell_type": "markdown",
   "metadata": {},
   "source": [
    "#### 3.4.1.2 Verify Scaling"
   ]
  },
  {
   "cell_type": "markdown",
   "metadata": {},
   "source": [
    "Verify and compare scaling for the training and test sets - mean (is close to zero?), standard deviation (is close to 1?)"
   ]
  },
  {
   "cell_type": "code",
   "execution_count": 26,
   "metadata": {
    "scrolled": true
   },
   "outputs": [
    {
     "data": {
      "text/plain": [
       "(-1.9530684664139932e-16, 0.9999999999999999)"
      ]
     },
     "execution_count": 26,
     "metadata": {},
     "output_type": "execute_result"
    }
   ],
   "source": [
    "X_tr_scaled.mean(), X_tr_scaled.std()"
   ]
  },
  {
   "cell_type": "code",
   "execution_count": 27,
   "metadata": {
    "scrolled": true
   },
   "outputs": [
    {
     "data": {
      "text/plain": [
       "(-0.01237761514211575, 0.9875803298405648)"
      ]
     },
     "execution_count": 27,
     "metadata": {},
     "output_type": "execute_result"
    }
   ],
   "source": [
    "X_test_scaled.mean(), X_test_scaled.std()"
   ]
  },
  {
   "cell_type": "markdown",
   "metadata": {},
   "source": [
    "### 4.4.1.2 Train the model on the train split"
   ]
  },
  {
   "cell_type": "code",
   "execution_count": 28,
   "metadata": {},
   "outputs": [],
   "source": [
    "lm = LinearRegression().fit(X_tr_scaled, y_train)"
   ]
  },
  {
   "cell_type": "markdown",
   "metadata": {},
   "source": [
    "### 4.4.1.3 Make prediciotns using the model on the train and test splits:"
   ]
  },
  {
   "cell_type": "code",
   "execution_count": 29,
   "metadata": {},
   "outputs": [],
   "source": [
    "# Call the 'predict()' method of the 'lm' model on the scaled train and test splits:\n",
    "y_tr_pred = lm.predict(X_tr_scaled)\n",
    "y_test_pred = lm.predict(X_test_scaled)"
   ]
  },
  {
   "cell_type": "markdown",
   "metadata": {},
   "source": [
    "### 4.4.1.4 Assess model performance:"
   ]
  },
  {
   "cell_type": "markdown",
   "metadata": {},
   "source": [
    "#### R-squared scores:"
   ]
  },
  {
   "cell_type": "code",
   "execution_count": 30,
   "metadata": {
    "scrolled": true
   },
   "outputs": [
    {
     "data": {
      "text/plain": [
       "(0.9737099054205977, 0.9624671808356309)"
      ]
     },
     "execution_count": 30,
     "metadata": {},
     "output_type": "execute_result"
    }
   ],
   "source": [
    "# R-squared scores on the training and test data:\n",
    "median_r2 = r2_score(y_train, y_tr_pred), r2_score(y_test, y_test_pred)\n",
    "median_r2"
   ]
  },
  {
   "cell_type": "markdown",
   "metadata": {},
   "source": [
    "It looks like the 'lm' linear regresion model explains 96%+ of the variance on both the training and test data sets."
   ]
  },
  {
   "cell_type": "markdown",
   "metadata": {},
   "source": [
    "#### Mean Absolute Error scores:"
   ]
  },
  {
   "cell_type": "code",
   "execution_count": 31,
   "metadata": {},
   "outputs": [
    {
     "data": {
      "text/plain": [
       "(0.9194906683078388, 1.0491480402993367)"
      ]
     },
     "execution_count": 31,
     "metadata": {},
     "output_type": "execute_result"
    }
   ],
   "source": [
    "# Mean absolue error scores on the train and test splits:\n",
    "median_mae = mean_absolute_error(y_train, y_tr_pred), mean_absolute_error(y_test, y_test_pred)\n",
    "median_mae"
   ]
  },
  {
   "cell_type": "markdown",
   "metadata": {},
   "source": [
    "This model is expected to estimate the aggregate crack srpread for a given refinery within $1.0/Bbl of the real crack spread value."
   ]
  },
  {
   "cell_type": "markdown",
   "metadata": {},
   "source": [
    "#### Mean Squared Error scores:"
   ]
  },
  {
   "cell_type": "code",
   "execution_count": 32,
   "metadata": {},
   "outputs": [
    {
     "data": {
      "text/plain": [
       "(1.2097681066201211, 1.558476606513198)"
      ]
     },
     "execution_count": 32,
     "metadata": {},
     "output_type": "execute_result"
    }
   ],
   "source": [
    "# Mean squared error scores on the train and test splits:\n",
    "median_mse = mean_squared_error(y_train, y_tr_pred), mean_squared_error(y_test, y_test_pred)\n",
    "median_mse"
   ]
  },
  {
   "cell_type": "code",
   "execution_count": 33,
   "metadata": {},
   "outputs": [
    {
     "data": {
      "text/plain": [
       "array([1.09989459, 1.24838961])"
      ]
     },
     "execution_count": 33,
     "metadata": {},
     "output_type": "execute_result"
    }
   ],
   "source": [
    "# a square root of the mse, for the root mean square error:\n",
    "# np.sqrt([mean_squared_error(y_train, y_tr_pred), mean_squared_error(y_test, y_test_pred)])\n",
    "np.sqrt(median_mse)"
   ]
  },
  {
   "cell_type": "markdown",
   "metadata": {},
   "source": [
    "#### Next, create a pipline, a single object for feature scaling and regression process steps"
   ]
  },
  {
   "cell_type": "markdown",
   "metadata": {},
   "source": [
    "## 4.4.2 Pipelines"
   ]
  },
  {
   "cell_type": "markdown",
   "metadata": {},
   "source": [
    "#### We will create a pipline that will define the same steps as above:\n",
    "- Scale the data to zero mean and unit variance\n",
    "- train a linear regression model\n",
    "- assess the model performance"
   ]
  },
  {
   "cell_type": "markdown",
   "metadata": {},
   "source": [
    "### 4.4.2.1 Define the pipeline:"
   ]
  },
  {
   "cell_type": "code",
   "execution_count": 34,
   "metadata": {},
   "outputs": [],
   "source": [
    "pipe = make_pipeline(\n",
    "    SimpleImputer(strategy='median'),\n",
    "    StandardScaler(),\n",
    "    LinearRegression()\n",
    ")"
   ]
  },
  {
   "cell_type": "markdown",
   "metadata": {},
   "source": [
    "### 4.4.2.2 Fit the pipeline:"
   ]
  },
  {
   "cell_type": "code",
   "execution_count": 35,
   "metadata": {},
   "outputs": [
    {
     "data": {
      "text/plain": [
       "Pipeline(steps=[('simpleimputer', SimpleImputer(strategy='median')),\n",
       "                ('standardscaler', StandardScaler()),\n",
       "                ('linearregression', LinearRegression())])"
      ]
     },
     "execution_count": 35,
     "metadata": {},
     "output_type": "execute_result"
    }
   ],
   "source": [
    "# Scaling: determine the mean to substract to get to zero, determine the variance to divide by to get to 1\n",
    "# Train the model\n",
    "pipe.fit(X_train, y_train)"
   ]
  },
  {
   "cell_type": "markdown",
   "metadata": {},
   "source": [
    "### 4.4.2.3 Make predictions on the train and test sets"
   ]
  },
  {
   "cell_type": "code",
   "execution_count": 36,
   "metadata": {},
   "outputs": [],
   "source": [
    "y_tr_pred = pipe.predict(X_train)\n",
    "y_test_pred = pipe.predict(X_test)"
   ]
  },
  {
   "cell_type": "markdown",
   "metadata": {},
   "source": [
    "### 4.4.2.4 Assess performance"
   ]
  },
  {
   "cell_type": "code",
   "execution_count": 37,
   "metadata": {},
   "outputs": [
    {
     "data": {
      "text/plain": [
       "('pipeline results: ',\n",
       " 0.9737099054205977,\n",
       " 0.9624671808356309,\n",
       " 'non-pipline results: ',\n",
       " (0.9737099054205977, 0.9624671808356309))"
      ]
     },
     "execution_count": 37,
     "metadata": {},
     "output_type": "execute_result"
    }
   ],
   "source": [
    "# R-squared scores on the training and test data - compare with previous 'non-pipeline' results:\n",
    "'pipeline results: ', r2_score(y_train, y_tr_pred), r2_score(y_test, y_test_pred), 'non-pipline results: ', median_r2"
   ]
  },
  {
   "cell_type": "code",
   "execution_count": 38,
   "metadata": {},
   "outputs": [
    {
     "data": {
      "text/plain": [
       "('pipeline results: ',\n",
       " 0.9194906683078388,\n",
       " 1.0491480402993367,\n",
       " 'non-pipeline results: ',\n",
       " (0.9194906683078388, 1.0491480402993367))"
      ]
     },
     "execution_count": 38,
     "metadata": {},
     "output_type": "execute_result"
    }
   ],
   "source": [
    "# Mean absolue error scores on the train and test splits - compare with previous 'non-pipeline' results::\n",
    "'pipeline results: ', mean_absolute_error(y_train, y_tr_pred), mean_absolute_error(y_test, y_test_pred), 'non-pipeline results: ', median_mae"
   ]
  },
  {
   "cell_type": "code",
   "execution_count": 39,
   "metadata": {},
   "outputs": [
    {
     "data": {
      "text/plain": [
       "('pipeline results: ',\n",
       " 1.2097681066201211,\n",
       " 1.558476606513198,\n",
       " 'non-pipeline results: ',\n",
       " (1.2097681066201211, 1.558476606513198))"
      ]
     },
     "execution_count": 39,
     "metadata": {},
     "output_type": "execute_result"
    }
   ],
   "source": [
    "# Mean squared error scores on the train and test splits - compare with previous 'non-pipeline' results:\n",
    "'pipeline results: ', mean_squared_error(y_train, y_tr_pred), mean_squared_error(y_test, y_test_pred), 'non-pipeline results: ', median_mse\n"
   ]
  },
  {
   "cell_type": "markdown",
   "metadata": {},
   "source": [
    "Pipeline results match with the earlier assessments"
   ]
  },
  {
   "cell_type": "markdown",
   "metadata": {},
   "source": [
    "# 4.5 Refine the model"
   ]
  },
  {
   "cell_type": "markdown",
   "metadata": {},
   "source": [
    "## 4.5.1 Re-define the pipeline"
   ]
  },
  {
   "cell_type": "markdown",
   "metadata": {},
   "source": [
    "### 4.5.1.1 Add a Feature selection function:"
   ]
  },
  {
   "cell_type": "markdown",
   "metadata": {},
   "source": [
    "Add a sklearn's SelectKBest feature selection function"
   ]
  },
  {
   "cell_type": "code",
   "execution_count": 40,
   "metadata": {},
   "outputs": [],
   "source": [
    "# Use the SelectKBest's default k=10\n",
    "pipe = make_pipeline(\n",
    "    SimpleImputer(strategy='median'),\n",
    "    StandardScaler(),\n",
    "    SelectKBest(f_regression, k=10),\n",
    "    LinearRegression()\n",
    ")"
   ]
  },
  {
   "cell_type": "markdown",
   "metadata": {},
   "source": [
    "### 4.5.1.2 Fit the pipeline"
   ]
  },
  {
   "cell_type": "code",
   "execution_count": 41,
   "metadata": {},
   "outputs": [
    {
     "data": {
      "text/plain": [
       "Pipeline(steps=[('simpleimputer', SimpleImputer(strategy='median')),\n",
       "                ('standardscaler', StandardScaler()),\n",
       "                ('selectkbest',\n",
       "                 SelectKBest(score_func=<function f_regression at 0x00000250C1530F70>)),\n",
       "                ('linearregression', LinearRegression())])"
      ]
     },
     "execution_count": 41,
     "metadata": {},
     "output_type": "execute_result"
    }
   ],
   "source": [
    "pipe.fit(X_train, y_train)"
   ]
  },
  {
   "cell_type": "markdown",
   "metadata": {},
   "source": [
    "### 4.5.1.3 Assess performance on the train and test sets"
   ]
  },
  {
   "cell_type": "code",
   "execution_count": 42,
   "metadata": {},
   "outputs": [],
   "source": [
    "y_tr_pred = pipe.predict(X_train)\n",
    "y_test_pred = pipe.predict(X_test)"
   ]
  },
  {
   "cell_type": "code",
   "execution_count": 43,
   "metadata": {},
   "outputs": [
    {
     "data": {
      "text/plain": [
       "(0.9224940455307427, 0.9114559432247322)"
      ]
     },
     "execution_count": 43,
     "metadata": {},
     "output_type": "execute_result"
    }
   ],
   "source": [
    "r2_score(y_train, y_tr_pred), r2_score(y_test, y_test_pred)"
   ]
  },
  {
   "cell_type": "code",
   "execution_count": 44,
   "metadata": {},
   "outputs": [
    {
     "data": {
      "text/plain": [
       "(1.5277648977859613, 1.537619581797629)"
      ]
     },
     "execution_count": 44,
     "metadata": {},
     "output_type": "execute_result"
    }
   ],
   "source": [
    "mean_absolute_error(y_train, y_tr_pred), mean_absolute_error(y_test, y_test_pred)"
   ]
  },
  {
   "cell_type": "markdown",
   "metadata": {},
   "source": [
    "Since the assessment results look worse than before adding the feature selection function (set at default k=10), we will try k=12"
   ]
  },
  {
   "cell_type": "markdown",
   "metadata": {},
   "source": [
    "### 4.5.1.4 Pipeline with a higher value k=12"
   ]
  },
  {
   "cell_type": "code",
   "execution_count": 45,
   "metadata": {},
   "outputs": [],
   "source": [
    "# Use k=12 for the SelectKBest\n",
    "pipe12 = make_pipeline(\n",
    "    SimpleImputer(strategy='median'),\n",
    "    StandardScaler(),\n",
    "    SelectKBest(f_regression, k=12),\n",
    "    LinearRegression()\n",
    ")"
   ]
  },
  {
   "cell_type": "markdown",
   "metadata": {},
   "source": [
    "### 4.5.1.5 Fit the pipeline"
   ]
  },
  {
   "cell_type": "code",
   "execution_count": 46,
   "metadata": {},
   "outputs": [
    {
     "data": {
      "text/plain": [
       "Pipeline(steps=[('simpleimputer', SimpleImputer(strategy='median')),\n",
       "                ('standardscaler', StandardScaler()),\n",
       "                ('selectkbest',\n",
       "                 SelectKBest(k=12,\n",
       "                             score_func=<function f_regression at 0x00000250C1530F70>)),\n",
       "                ('linearregression', LinearRegression())])"
      ]
     },
     "execution_count": 46,
     "metadata": {},
     "output_type": "execute_result"
    }
   ],
   "source": [
    "pipe12.fit(X_train, y_train)"
   ]
  },
  {
   "cell_type": "markdown",
   "metadata": {},
   "source": [
    "### 4.5.1.6 Assess performance on the train and test sets"
   ]
  },
  {
   "cell_type": "code",
   "execution_count": 47,
   "metadata": {
    "scrolled": true
   },
   "outputs": [],
   "source": [
    "y_tr_pred = pipe12.predict(X_train)\n",
    "y_test_pred = pipe12.predict(X_test)"
   ]
  },
  {
   "cell_type": "code",
   "execution_count": 48,
   "metadata": {},
   "outputs": [
    {
     "data": {
      "text/plain": [
       "(0.9615159844529582, 0.9546830905133749)"
      ]
     },
     "execution_count": 48,
     "metadata": {},
     "output_type": "execute_result"
    }
   ],
   "source": [
    "r2_score(y_train, y_tr_pred), r2_score(y_test, y_test_pred)"
   ]
  },
  {
   "cell_type": "code",
   "execution_count": 49,
   "metadata": {},
   "outputs": [
    {
     "data": {
      "text/plain": [
       "(1.1606977524466249, 1.2017949308932019)"
      ]
     },
     "execution_count": 49,
     "metadata": {},
     "output_type": "execute_result"
    }
   ],
   "source": [
    "mean_absolute_error(y_train, y_tr_pred), mean_absolute_error(y_test, y_test_pred)"
   ]
  },
  {
   "cell_type": "markdown",
   "metadata": {},
   "source": [
    "#### The performance has improved; however, we need the model to generalize to new data. We will use the cross-validation next."
   ]
  },
  {
   "cell_type": "markdown",
   "metadata": {},
   "source": [
    "## 4.5.2 Performance Assessment with Cross-Validation"
   ]
  },
  {
   "cell_type": "markdown",
   "metadata": {},
   "source": [
    "#### Use the previous pipeline steps and cross-validation folds cv=5"
   ]
  },
  {
   "cell_type": "code",
   "execution_count": 50,
   "metadata": {},
   "outputs": [],
   "source": [
    "cv_results = cross_validate(pipe12, X_train, y_train, cv=5)"
   ]
  },
  {
   "cell_type": "code",
   "execution_count": 51,
   "metadata": {},
   "outputs": [
    {
     "data": {
      "text/plain": [
       "array([0.95893218, 0.95601445, 0.95812815, 0.96074164, 0.96159587])"
      ]
     },
     "execution_count": 51,
     "metadata": {},
     "output_type": "execute_result"
    }
   ],
   "source": [
    "cv_scores = cv_results['test_score']\n",
    "cv_scores"
   ]
  },
  {
   "cell_type": "code",
   "execution_count": 52,
   "metadata": {},
   "outputs": [
    {
     "data": {
      "text/plain": [
       "(0.9590824573881628, 0.0019705866407289233)"
      ]
     },
     "execution_count": 52,
     "metadata": {},
     "output_type": "execute_result"
    }
   ],
   "source": [
    "np.mean(cv_scores), np.std(cv_scores)"
   ]
  },
  {
   "cell_type": "code",
   "execution_count": 53,
   "metadata": {},
   "outputs": [
    {
     "data": {
      "text/plain": [
       "array([0.96, 0.96])"
      ]
     },
     "execution_count": 53,
     "metadata": {},
     "output_type": "execute_result"
    }
   ],
   "source": [
    "np.round((np.mean(cv_scores) - 2 * np.std(cv_scores), np.mean(cv_scores) + 2 * np.std(cv_scores)), 2)"
   ]
  },
  {
   "cell_type": "markdown",
   "metadata": {},
   "source": [
    "## 4.5.3 Hyperparameter search using GridSearchCV"
   ]
  },
  {
   "cell_type": "markdown",
   "metadata": {},
   "source": [
    "We will now run the pipeline and cross-validation technique for multiple values of k to pick the best performance."
   ]
  },
  {
   "cell_type": "code",
   "execution_count": 54,
   "metadata": {},
   "outputs": [
    {
     "data": {
      "text/plain": [
       "dict_keys(['memory', 'steps', 'verbose', 'simpleimputer', 'standardscaler', 'selectkbest', 'linearregression', 'simpleimputer__add_indicator', 'simpleimputer__copy', 'simpleimputer__fill_value', 'simpleimputer__missing_values', 'simpleimputer__strategy', 'simpleimputer__verbose', 'standardscaler__copy', 'standardscaler__with_mean', 'standardscaler__with_std', 'selectkbest__k', 'selectkbest__score_func', 'linearregression__copy_X', 'linearregression__fit_intercept', 'linearregression__n_jobs', 'linearregression__normalize'])"
      ]
     },
     "execution_count": 54,
     "metadata": {},
     "output_type": "execute_result"
    }
   ],
   "source": [
    "# Get the dictionary of available parameters:\n",
    "pipe.get_params().keys()"
   ]
  },
  {
   "cell_type": "markdown",
   "metadata": {},
   "source": [
    "##### Caluclate the range of k to investigate:"
   ]
  },
  {
   "cell_type": "code",
   "execution_count": 55,
   "metadata": {},
   "outputs": [],
   "source": [
    "k = [k+1 for k in range(len(X_train.columns))]\n",
    "grid_params = {'selectkbest__k': k}"
   ]
  },
  {
   "cell_type": "markdown",
   "metadata": {},
   "source": [
    "##### Deterine the best value k:"
   ]
  },
  {
   "cell_type": "code",
   "execution_count": 56,
   "metadata": {},
   "outputs": [],
   "source": [
    "lr_grid_cv = GridSearchCV(pipe, param_grid=grid_params, cv=5, n_jobs=-1)"
   ]
  },
  {
   "cell_type": "code",
   "execution_count": 57,
   "metadata": {},
   "outputs": [
    {
     "data": {
      "text/plain": [
       "GridSearchCV(cv=5,\n",
       "             estimator=Pipeline(steps=[('simpleimputer',\n",
       "                                        SimpleImputer(strategy='median')),\n",
       "                                       ('standardscaler', StandardScaler()),\n",
       "                                       ('selectkbest',\n",
       "                                        SelectKBest(score_func=<function f_regression at 0x00000250C1530F70>)),\n",
       "                                       ('linearregression',\n",
       "                                        LinearRegression())]),\n",
       "             n_jobs=-1,\n",
       "             param_grid={'selectkbest__k': [1, 2, 3, 4, 5, 6, 7, 8, 9, 10, 11,\n",
       "                                            12, 13, 14, 15, 16, 17, 18, 19, 20,\n",
       "                                            21, 22, 23]})"
      ]
     },
     "execution_count": 57,
     "metadata": {},
     "output_type": "execute_result"
    }
   ],
   "source": [
    "lr_grid_cv.fit(X_train, y_train)"
   ]
  },
  {
   "cell_type": "code",
   "execution_count": 58,
   "metadata": {},
   "outputs": [],
   "source": [
    "score_mean = lr_grid_cv.cv_results_['mean_test_score']\n",
    "score_std = lr_grid_cv.cv_results_['std_test_score']\n",
    "cv_k = [k for k in lr_grid_cv.cv_results_['param_selectkbest__k']]"
   ]
  },
  {
   "cell_type": "code",
   "execution_count": 59,
   "metadata": {},
   "outputs": [
    {
     "data": {
      "text/plain": [
       "array([0.7490734 , 0.83168343, 0.84948829, 0.88028582, 0.90438727,\n",
       "       0.90713635, 0.90757281, 0.90749442, 0.90798026, 0.91759851,\n",
       "       0.93657169, 0.95908246, 0.96394521, 0.96399645, 0.96427955,\n",
       "       0.9639143 , 0.96399693, 0.96687844, 0.96825419, 0.97009622,\n",
       "       0.97045676, 0.97028124, 0.97028124])"
      ]
     },
     "execution_count": 59,
     "metadata": {},
     "output_type": "execute_result"
    }
   ],
   "source": [
    "score_mean"
   ]
  },
  {
   "cell_type": "code",
   "execution_count": 60,
   "metadata": {},
   "outputs": [
    {
     "data": {
      "text/plain": [
       "array([0.0241717 , 0.00857218, 0.01312895, 0.01007496, 0.01006245,\n",
       "       0.00980316, 0.00951613, 0.00769321, 0.00773203, 0.00694132,\n",
       "       0.01688837, 0.00197059, 0.00336503, 0.00331909, 0.00308829,\n",
       "       0.00359095, 0.003868  , 0.00346618, 0.00395001, 0.00187782,\n",
       "       0.00197173, 0.00196182, 0.00196182])"
      ]
     },
     "execution_count": 60,
     "metadata": {},
     "output_type": "execute_result"
    }
   ],
   "source": [
    "score_std"
   ]
  },
  {
   "cell_type": "code",
   "execution_count": 61,
   "metadata": {},
   "outputs": [
    {
     "data": {
      "text/plain": [
       "[1,\n",
       " 2,\n",
       " 3,\n",
       " 4,\n",
       " 5,\n",
       " 6,\n",
       " 7,\n",
       " 8,\n",
       " 9,\n",
       " 10,\n",
       " 11,\n",
       " 12,\n",
       " 13,\n",
       " 14,\n",
       " 15,\n",
       " 16,\n",
       " 17,\n",
       " 18,\n",
       " 19,\n",
       " 20,\n",
       " 21,\n",
       " 22,\n",
       " 23]"
      ]
     },
     "execution_count": 61,
     "metadata": {},
     "output_type": "execute_result"
    }
   ],
   "source": [
    "cv_k"
   ]
  },
  {
   "cell_type": "code",
   "execution_count": 62,
   "metadata": {},
   "outputs": [
    {
     "data": {
      "text/plain": [
       "{'selectkbest__k': 21}"
      ]
     },
     "execution_count": 62,
     "metadata": {},
     "output_type": "execute_result"
    }
   ],
   "source": [
    "lr_grid_cv.best_params_"
   ]
  },
  {
   "cell_type": "markdown",
   "metadata": {},
   "source": [
    "##### Assign the best value of k determined above to 'best_k' - plot the CV score against values of k:"
   ]
  },
  {
   "cell_type": "code",
   "execution_count": 63,
   "metadata": {},
   "outputs": [
    {
     "data": {
      "image/png": "[encoded data removed]",
      "text/plain": [
       "<Figure size 1080x360 with 1 Axes>"
      ]
     },
     "metadata": {
      "needs_background": "light"
     },
     "output_type": "display_data"
    }
   ],
   "source": [
    "best_k = lr_grid_cv.best_params_['selectkbest__k']\n",
    "plt.subplots(figsize=(15, 5))\n",
    "plt.errorbar(cv_k, score_mean, yerr=score_std)\n",
    "plt.axvline(x=best_k, c='r', ls='--', alpha=.5)\n",
    "plt.xlabel('k')\n",
    "plt.ylabel('CV score (r-squared)')\n",
    "plt.title('Pipeline mean CV score (error bars +/- 1sd)');"
   ]
  },
  {
   "cell_type": "markdown",
   "metadata": {},
   "source": [
    "The hyperparameter search has determined that the best value for k is 12. Let's look at which features were most useful."
   ]
  },
  {
   "cell_type": "code",
   "execution_count": 64,
   "metadata": {},
   "outputs": [
    {
     "data": {
      "text/plain": [
       "array([ True,  True, False,  True,  True,  True,  True,  True, False,\n",
       "        True,  True,  True,  True,  True,  True,  True,  True,  True,\n",
       "        True,  True,  True,  True,  True])"
      ]
     },
     "execution_count": 64,
     "metadata": {},
     "output_type": "execute_result"
    }
   ],
   "source": [
    "# logical mask of the selected features\n",
    "selected = lr_grid_cv.best_estimator_.named_steps.selectkbest.get_support()\n",
    "selected"
   ]
  },
  {
   "cell_type": "markdown",
   "metadata": {},
   "source": [
    "##### Access the named step of the model and its coefficients:"
   ]
  },
  {
   "cell_type": "code",
   "execution_count": 65,
   "metadata": {
    "scrolled": true
   },
   "outputs": [
    {
     "data": {
      "text/plain": [
       "Brent_Price        19.646932\n",
       "RESID_Yield_PAD     5.184752\n",
       "DSL_Yield_PAD       4.557513\n",
       "GSL_Yield_PAD       1.694680\n",
       "PAD-2-1             1.451130\n",
       "PAD-2-3             0.729682\n",
       "PAD-3-5             0.531510\n",
       "PAD-3-2             0.447656\n",
       "PAD-1-1             0.265657\n",
       "RFY_BPCD            0.028858\n",
       "BPD_DENS_SPECF     -0.043403\n",
       "PAD-2-2            -0.139015\n",
       "PAD-4              -0.186242\n",
       "PAD-5              -0.190866\n",
       "Brent_Diff         -0.324921\n",
       "Crude_API          -0.362464\n",
       "PAD-3-3            -0.485433\n",
       "PAD-1-2            -1.761482\n",
       "PAD-3-4            -1.838124\n",
       "WTI_Diff           -6.082690\n",
       "WTI_Price         -18.210838\n",
       "dtype: float64"
      ]
     },
     "execution_count": 65,
     "metadata": {},
     "output_type": "execute_result"
    }
   ],
   "source": [
    "coefs = lr_grid_cv.best_estimator_.named_steps.linearregression.coef_\n",
    "features = X_train.columns[selected]\n",
    "pd.Series(coefs, index=features).sort_values(ascending=False)"
   ]
  },
  {
   "cell_type": "markdown",
   "metadata": {},
   "source": [
    "The Linear Regression model indicates that the Net Crackspreads are mostly driven by:\n",
    "- Brent Price: maybe, it is - we see a highly negative correlation with the domestic WTI Price, so it could be that the cheaper imported crude does have a big impact on the refinery economics\n",
    "- Residue Yield - this is the heavier fraction and is in negative correlation with the lighter fractions, i.e. the Diesel and Gasoline yields\n",
    "- Diesel and Gasoline Yields - these are the light products, which are sought out most on the market and bring in the bulk of refineries profits\n",
    "- There's a strong negative correlation with domestic crude oil WTI price, as well as WTI price differential"
   ]
  },
  {
   "cell_type": "markdown",
   "metadata": {},
   "source": [
    "# 4.6 Random Forest Model"
   ]
  },
  {
   "cell_type": "markdown",
   "metadata": {},
   "source": [
    "## 4.6.1 Define the pipeline for Random Forest"
   ]
  },
  {
   "cell_type": "code",
   "execution_count": 66,
   "metadata": {},
   "outputs": [],
   "source": [
    "# Define a new pipeline for the  Random Forest model\n",
    "RF_pipe = make_pipeline(\n",
    "    SimpleImputer(strategy='median'),\n",
    "    StandardScaler(),\n",
    "    RandomForestRegressor(random_state=47)\n",
    ")"
   ]
  },
  {
   "cell_type": "markdown",
   "metadata": {},
   "source": [
    "## 4.6.2 Fit and assess performance using cross-validation"
   ]
  },
  {
   "cell_type": "code",
   "execution_count": 67,
   "metadata": {},
   "outputs": [],
   "source": [
    "# Call 'cross-validate' to assess the pipeline's performance\n",
    "# pass the random forest pipe object, 'X_train' and 'y_train' to the 'cross-validate method', using 5-fold cv\n",
    "rf_default_cv_results = cross_validate(RF_pipe, X_train, y_train, cv=5)"
   ]
  },
  {
   "cell_type": "code",
   "execution_count": 68,
   "metadata": {},
   "outputs": [
    {
     "data": {
      "text/plain": [
       "array([0.99877241, 0.99674376, 0.99822031, 0.98874243, 0.99451335])"
      ]
     },
     "execution_count": 68,
     "metadata": {},
     "output_type": "execute_result"
    }
   ],
   "source": [
    "rf_cv_scores = rf_default_cv_results['test_score']\n",
    "rf_cv_scores"
   ]
  },
  {
   "cell_type": "code",
   "execution_count": 69,
   "metadata": {},
   "outputs": [
    {
     "data": {
      "text/plain": [
       "(0.9953984525651727, 0.0036398459411809453)"
      ]
     },
     "execution_count": 69,
     "metadata": {},
     "output_type": "execute_result"
    }
   ],
   "source": [
    "np.mean(rf_cv_scores), np.std(rf_cv_scores)"
   ]
  },
  {
   "cell_type": "markdown",
   "metadata": {},
   "source": [
    "## 4.6.3 Hyperparameter search using GridSearchCV"
   ]
  },
  {
   "cell_type": "markdown",
   "metadata": {},
   "source": [
    "### 4.6.3.1 Run grid search cross-validation for Random Forest:"
   ]
  },
  {
   "cell_type": "code",
   "execution_count": 70,
   "metadata": {
    "scrolled": true
   },
   "outputs": [
    {
     "data": {
      "text/plain": [
       "{'randomforestregressor__n_estimators': [10,\n",
       "  12,\n",
       "  16,\n",
       "  20,\n",
       "  26,\n",
       "  33,\n",
       "  42,\n",
       "  54,\n",
       "  69,\n",
       "  88,\n",
       "  112,\n",
       "  143,\n",
       "  183,\n",
       "  233,\n",
       "  297,\n",
       "  379,\n",
       "  483,\n",
       "  615,\n",
       "  784,\n",
       "  1000],\n",
       " 'standardscaler': [StandardScaler(), None],\n",
       " 'simpleimputer__strategy': ['mean', 'median']}"
      ]
     },
     "execution_count": 70,
     "metadata": {},
     "output_type": "execute_result"
    }
   ],
   "source": [
    "n_est = [int(n) for n in np.logspace(start=1, stop=3, num=20)]\n",
    "grid_params = {\n",
    "        'randomforestregressor__n_estimators': n_est,\n",
    "        'standardscaler': [StandardScaler(), None],\n",
    "        'simpleimputer__strategy': ['mean', 'median']\n",
    "}\n",
    "grid_params"
   ]
  },
  {
   "cell_type": "code",
   "execution_count": 71,
   "metadata": {},
   "outputs": [],
   "source": [
    "# Call 'GridSearchCV' with the random forest pipeline, 'grid_params' dict, cv=5\n",
    "rf_grid_cv = GridSearchCV(RF_pipe, param_grid=grid_params, cv=5, n_jobs=-1)"
   ]
  },
  {
   "cell_type": "code",
   "execution_count": 72,
   "metadata": {},
   "outputs": [
    {
     "data": {
      "text/plain": [
       "GridSearchCV(cv=5,\n",
       "             estimator=Pipeline(steps=[('simpleimputer',\n",
       "                                        SimpleImputer(strategy='median')),\n",
       "                                       ('standardscaler', StandardScaler()),\n",
       "                                       ('randomforestregressor',\n",
       "                                        RandomForestRegressor(random_state=47))]),\n",
       "             n_jobs=-1,\n",
       "             param_grid={'randomforestregressor__n_estimators': [10, 12, 16, 20,\n",
       "                                                                 26, 33, 42, 54,\n",
       "                                                                 69, 88, 112,\n",
       "                                                                 143, 183, 233,\n",
       "                                                                 297, 379, 483,\n",
       "                                                                 615, 784,\n",
       "                                                                 1000],\n",
       "                         'simpleimputer__strategy': ['mean', 'median'],\n",
       "                         'standardscaler': [StandardScaler(), None]})"
      ]
     },
     "execution_count": 72,
     "metadata": {},
     "output_type": "execute_result"
    }
   ],
   "source": [
    "# Start the grid search:\n",
    "rf_grid_cv.fit(X_train, y_train)"
   ]
  },
  {
   "cell_type": "code",
   "execution_count": 73,
   "metadata": {},
   "outputs": [
    {
     "data": {
      "text/plain": [
       "{'randomforestregressor__n_estimators': 54,\n",
       " 'simpleimputer__strategy': 'mean',\n",
       " 'standardscaler': None}"
      ]
     },
     "execution_count": 73,
     "metadata": {},
     "output_type": "execute_result"
    }
   ],
   "source": [
    "# print the best params from the above grid search\n",
    "rf_grid_cv.best_params_"
   ]
  },
  {
   "cell_type": "code",
   "execution_count": 74,
   "metadata": {},
   "outputs": [
    {
     "data": {
      "text/plain": [
       "array([0.99879713, 0.99683619, 0.99780807, 0.99009297, 0.99496378])"
      ]
     },
     "execution_count": 74,
     "metadata": {},
     "output_type": "execute_result"
    }
   ],
   "source": [
    "rf_best_cv_results = cross_validate(rf_grid_cv.best_estimator_, X_train, y_train, cv=5)\n",
    "rf_best_scores = rf_best_cv_results['test_score']\n",
    "rf_best_scores"
   ]
  },
  {
   "cell_type": "code",
   "execution_count": 75,
   "metadata": {},
   "outputs": [
    {
     "data": {
      "text/plain": [
       "(0.9956996276100171, 0.003075966277224161)"
      ]
     },
     "execution_count": 75,
     "metadata": {},
     "output_type": "execute_result"
    }
   ],
   "source": [
    "np.mean(rf_best_scores), np.std(rf_best_scores)"
   ]
  },
  {
   "cell_type": "markdown",
   "metadata": {},
   "source": [
    "Not much of a difference"
   ]
  },
  {
   "cell_type": "markdown",
   "metadata": {},
   "source": [
    "##### Assign the 'feature_importances' attribue to 'imps' - plot the Importance against the feature column names:"
   ]
  },
  {
   "cell_type": "code",
   "execution_count": 76,
   "metadata": {},
   "outputs": [
    {
     "data": {
      "image/png": "[encoded data removed]",
      "text/plain": [
       "<Figure size 1080x360 with 1 Axes>"
      ]
     },
     "metadata": {
      "needs_background": "light"
     },
     "output_type": "display_data"
    }
   ],
   "source": [
    "plt.subplots(figsize=(15, 5))\n",
    "imps = rf_grid_cv.best_estimator_.named_steps.randomforestregressor.feature_importances_\n",
    "rf_feat_imps = pd.Series(imps, index=X_train.columns).sort_values(ascending=False)\n",
    "rf_feat_imps.plot(kind='bar')\n",
    "plt.xlabel('features')\n",
    "plt.ylabel('importance')\n",
    "plt.title('Best random forest regressor feature importances');"
   ]
  },
  {
   "cell_type": "markdown",
   "metadata": {},
   "source": [
    "The Random Forest returned a much more sensible ranking of the importance features than the linear model:\n",
    "* Brent_Diff - discount off/premium on the imported Brent crude oil, which does have effect on the domestic crude sales\n",
    "* WTI_Diff - discount/premimium for domestic WTI crude oil price\n",
    "* RESID_Yield_PAD - as opposed to the Linear Regression model, Random Forest model placed the Residue Yield as of a higher importance than Diesel and Gasoline yields. This makes sense, as the heavier fractions of products, refined frmo crude what indicates how much light product yields a refinery was able to extract\n",
    "* GSL_Yield_PAD - how much gasoline a given refinery could produce per each barrel of crude processed\n",
    "* DSL_Yield_PAD - how much diesel a given refinery could produce per each barrel of crude processed\n",
    "* Crude_API - quality of crude\n",
    "* WTI_Acq_Cost - actual crude oil price paid by refineries"
   ]
  },
  {
   "cell_type": "markdown",
   "metadata": {},
   "source": [
    "## 4.7 Model Selection"
   ]
  },
  {
   "cell_type": "markdown",
   "metadata": {},
   "source": [
    "## 4.7.1 Linear regression model performance"
   ]
  },
  {
   "cell_type": "code",
   "execution_count": 77,
   "metadata": {},
   "outputs": [],
   "source": [
    "# 'neg_mean_absolute_error' uses the (negative of) the mean absolute error\n",
    "lr_neg_mae = cross_validate(lr_grid_cv.best_estimator_, X_train, y_train, \n",
    "                            scoring='neg_mean_absolute_error', cv=5, n_jobs=-1)"
   ]
  },
  {
   "cell_type": "code",
   "execution_count": 78,
   "metadata": {},
   "outputs": [
    {
     "data": {
      "text/plain": [
       "(0.9667515898646842, 0.05328669132393239)"
      ]
     },
     "execution_count": 78,
     "metadata": {},
     "output_type": "execute_result"
    }
   ],
   "source": [
    "lr_mae_mean = np.mean(-1 * lr_neg_mae['test_score'])\n",
    "lr_mae_std = np.std(-1 * lr_neg_mae['test_score'])\n",
    "lr_mae_mean, lr_mae_std"
   ]
  },
  {
   "cell_type": "code",
   "execution_count": 79,
   "metadata": {},
   "outputs": [
    {
     "data": {
      "text/plain": [
       "1.0635026439075164"
      ]
     },
     "execution_count": 79,
     "metadata": {},
     "output_type": "execute_result"
    }
   ],
   "source": [
    "mean_absolute_error(y_test, lr_grid_cv.best_estimator_.predict(X_test))"
   ]
  },
  {
   "cell_type": "markdown",
   "metadata": {},
   "source": [
    "## 4.7.2 Random forest regression model performance"
   ]
  },
  {
   "cell_type": "code",
   "execution_count": 80,
   "metadata": {},
   "outputs": [],
   "source": [
    "rf_neg_mae = cross_validate(rf_grid_cv.best_estimator_, X_train, y_train, \n",
    "                            scoring='neg_mean_absolute_error', cv=5, n_jobs=-1)"
   ]
  },
  {
   "cell_type": "code",
   "execution_count": 81,
   "metadata": {},
   "outputs": [
    {
     "data": {
      "text/plain": [
       "(0.13504325308257895, 0.052202895747172025)"
      ]
     },
     "execution_count": 81,
     "metadata": {},
     "output_type": "execute_result"
    }
   ],
   "source": [
    "rf_mae_mean = np.mean(-1 * rf_neg_mae['test_score'])\n",
    "rf_mae_std = np.std(-1 * rf_neg_mae['test_score'])\n",
    "rf_mae_mean, rf_mae_std"
   ]
  },
  {
   "cell_type": "code",
   "execution_count": 82,
   "metadata": {},
   "outputs": [
    {
     "data": {
      "text/plain": [
       "0.07832461610179732"
      ]
     },
     "execution_count": 82,
     "metadata": {},
     "output_type": "execute_result"
    }
   ],
   "source": [
    "mean_absolute_error(y_test, rf_grid_cv.best_estimator_.predict(X_test))"
   ]
  },
  {
   "cell_type": "markdown",
   "metadata": {},
   "source": [
    "## 4.7.3 Conculsion"
   ]
  },
  {
   "cell_type": "markdown",
   "metadata": {},
   "source": [
    "Clearly, the random forest model shows a lot less variability and much lower cross-validation mean absolute error."
   ]
  },
  {
   "cell_type": "markdown",
   "metadata": {},
   "source": [
    "## 4.8 Data quality assessment"
   ]
  },
  {
   "cell_type": "markdown",
   "metadata": {},
   "source": [
    "Assess how much performance varies with differing data set sizes:"
   ]
  },
  {
   "cell_type": "code",
   "execution_count": 83,
   "metadata": {},
   "outputs": [
    {
     "name": "stderr",
     "output_type": "stream",
     "text": [
      "C:\\ProgramData\\Anaconda3\\lib\\site-packages\\sklearn\\feature_selection\\_univariate_selection.py:302: RuntimeWarning: invalid value encountered in true_divide\n",
      "  corr /= X_norms\n",
      "C:\\ProgramData\\Anaconda3\\lib\\site-packages\\scipy\\stats\\_distn_infrastructure.py:1932: RuntimeWarning: invalid value encountered in less_equal\n",
      "  cond2 = cond0 & (x <= _a)\n",
      "C:\\ProgramData\\Anaconda3\\lib\\site-packages\\sklearn\\feature_selection\\_univariate_selection.py:302: RuntimeWarning: invalid value encountered in true_divide\n",
      "  corr /= X_norms\n",
      "C:\\ProgramData\\Anaconda3\\lib\\site-packages\\scipy\\stats\\_distn_infrastructure.py:1932: RuntimeWarning: invalid value encountered in less_equal\n",
      "  cond2 = cond0 & (x <= _a)\n",
      "C:\\ProgramData\\Anaconda3\\lib\\site-packages\\sklearn\\feature_selection\\_univariate_selection.py:302: RuntimeWarning: invalid value encountered in true_divide\n",
      "  corr /= X_norms\n",
      "C:\\ProgramData\\Anaconda3\\lib\\site-packages\\scipy\\stats\\_distn_infrastructure.py:1932: RuntimeWarning: invalid value encountered in less_equal\n",
      "  cond2 = cond0 & (x <= _a)\n",
      "C:\\ProgramData\\Anaconda3\\lib\\site-packages\\sklearn\\feature_selection\\_univariate_selection.py:302: RuntimeWarning: invalid value encountered in true_divide\n",
      "  corr /= X_norms\n",
      "C:\\ProgramData\\Anaconda3\\lib\\site-packages\\scipy\\stats\\_distn_infrastructure.py:1932: RuntimeWarning: invalid value encountered in less_equal\n",
      "  cond2 = cond0 & (x <= _a)\n",
      "C:\\ProgramData\\Anaconda3\\lib\\site-packages\\sklearn\\feature_selection\\_univariate_selection.py:302: RuntimeWarning: invalid value encountered in true_divide\n",
      "  corr /= X_norms\n",
      "C:\\ProgramData\\Anaconda3\\lib\\site-packages\\scipy\\stats\\_distn_infrastructure.py:1932: RuntimeWarning: invalid value encountered in less_equal\n",
      "  cond2 = cond0 & (x <= _a)\n",
      "C:\\ProgramData\\Anaconda3\\lib\\site-packages\\sklearn\\feature_selection\\_univariate_selection.py:302: RuntimeWarning: invalid value encountered in true_divide\n",
      "  corr /= X_norms\n",
      "C:\\ProgramData\\Anaconda3\\lib\\site-packages\\scipy\\stats\\_distn_infrastructure.py:1932: RuntimeWarning: invalid value encountered in less_equal\n",
      "  cond2 = cond0 & (x <= _a)\n",
      "C:\\ProgramData\\Anaconda3\\lib\\site-packages\\sklearn\\feature_selection\\_univariate_selection.py:302: RuntimeWarning: invalid value encountered in true_divide\n",
      "  corr /= X_norms\n",
      "C:\\ProgramData\\Anaconda3\\lib\\site-packages\\scipy\\stats\\_distn_infrastructure.py:1932: RuntimeWarning: invalid value encountered in less_equal\n",
      "  cond2 = cond0 & (x <= _a)\n",
      "C:\\ProgramData\\Anaconda3\\lib\\site-packages\\sklearn\\feature_selection\\_univariate_selection.py:302: RuntimeWarning: invalid value encountered in true_divide\n",
      "  corr /= X_norms\n",
      "C:\\ProgramData\\Anaconda3\\lib\\site-packages\\scipy\\stats\\_distn_infrastructure.py:1932: RuntimeWarning: invalid value encountered in less_equal\n",
      "  cond2 = cond0 & (x <= _a)\n",
      "C:\\ProgramData\\Anaconda3\\lib\\site-packages\\sklearn\\feature_selection\\_univariate_selection.py:302: RuntimeWarning: invalid value encountered in true_divide\n",
      "  corr /= X_norms\n",
      "C:\\ProgramData\\Anaconda3\\lib\\site-packages\\scipy\\stats\\_distn_infrastructure.py:1932: RuntimeWarning: invalid value encountered in less_equal\n",
      "  cond2 = cond0 & (x <= _a)\n",
      "C:\\ProgramData\\Anaconda3\\lib\\site-packages\\sklearn\\feature_selection\\_univariate_selection.py:302: RuntimeWarning: invalid value encountered in true_divide\n",
      "  corr /= X_norms\n",
      "C:\\ProgramData\\Anaconda3\\lib\\site-packages\\scipy\\stats\\_distn_infrastructure.py:1932: RuntimeWarning: invalid value encountered in less_equal\n",
      "  cond2 = cond0 & (x <= _a)\n"
     ]
    }
   ],
   "source": [
    "fractions = [.2, .25, .3, .35, .4, .45, .5, .6, .75, .8, 1.0]\n",
    "train_size, train_scores, test_scores = learning_curve(pipe, X_train, y_train, train_sizes=fractions)\n",
    "train_scores_mean = np.mean(train_scores, axis=1)\n",
    "train_scores_std = np.std(train_scores, axis=1)\n",
    "test_scores_mean = np.mean(test_scores, axis=1)\n",
    "test_scores_std = np.std(test_scores, axis=1)"
   ]
  },
  {
   "cell_type": "code",
   "execution_count": 84,
   "metadata": {
    "scrolled": true
   },
   "outputs": [
    {
     "data": {
      "image/png": "[encoded data removed]",
      "text/plain": [
       "<Figure size 720x360 with 1 Axes>"
      ]
     },
     "metadata": {
      "needs_background": "light"
     },
     "output_type": "display_data"
    }
   ],
   "source": [
    "plt.subplots(figsize=(10, 5))\n",
    "plt.errorbar(train_size, test_scores_mean, yerr=test_scores_std)\n",
    "plt.xlabel('Training set size')\n",
    "plt.ylabel('CV scores')\n",
    "plt.title('Cross-validation score as training set size increases');"
   ]
  },
  {
   "cell_type": "markdown",
   "metadata": {},
   "source": [
    "The plot shows that the improvement of the model score performance starts flattening at around 250 sample size"
   ]
  },
  {
   "cell_type": "markdown",
   "metadata": {},
   "source": [
    "## 4.9 Save the best model object from pipeline"
   ]
  },
  {
   "cell_type": "code",
   "execution_count": 85,
   "metadata": {},
   "outputs": [],
   "source": [
    "# Get the basic information about the best model\n",
    "best_model = rf_grid_cv.best_estimator_\n",
    "best_model.version = ___\n",
    "best_model.pandas_version = pd.__version__\n",
    "best_model.numpy_version = np.__version__\n",
    "best_model.sklearn_version = sklearn_version\n",
    "best_model.X_columns = [col for col in X_train.columns]\n",
    "best_model.build_datetime = datetime.datetime.now()"
   ]
  },
  {
   "cell_type": "code",
   "execution_count": 86,
   "metadata": {},
   "outputs": [
    {
     "name": "stdout",
     "output_type": "stream",
     "text": [
      "Writing file.  \"../models\\refinery_crackspread_model_B.pkl\"\n"
     ]
    }
   ],
   "source": [
    "# Save the model\n",
    "modelpath = '../models'\n",
    "save_file(best_model, 'refinery_crackspread_model_B.pkl', modelpath)"
   ]
  },
  {
   "cell_type": "markdown",
   "metadata": {},
   "source": [
    "# 3.6 Summary"
   ]
  },
  {
   "cell_type": "code",
   "execution_count": 87,
   "metadata": {},
   "outputs": [
    {
     "data": {
      "text/plain": [
       "['RFY_BPCD',\n",
       " 'Crude_API',\n",
       " 'NG_Yield_PAD',\n",
       " 'GSL_Yield_PAD',\n",
       " 'DSL_Yield_PAD',\n",
       " 'RESID_Yield_PAD',\n",
       " 'WTI_Price',\n",
       " 'WTI_Diff',\n",
       " 'WTI_Acq_Cost',\n",
       " 'Brent_Price',\n",
       " 'Brent_Diff',\n",
       " 'BPD_DENS_SPECF',\n",
       " 'PAD-1-1',\n",
       " 'PAD-1-2',\n",
       " 'PAD-2-1',\n",
       " 'PAD-2-2',\n",
       " 'PAD-2-3',\n",
       " 'PAD-3-2',\n",
       " 'PAD-3-3',\n",
       " 'PAD-3-4',\n",
       " 'PAD-3-5',\n",
       " 'PAD-4',\n",
       " 'PAD-5']"
      ]
     },
     "execution_count": 87,
     "metadata": {},
     "output_type": "execute_result"
    }
   ],
   "source": [
    "best_model.X_columns"
   ]
  },
  {
   "cell_type": "code",
   "execution_count": null,
   "metadata": {},
   "outputs": [],
   "source": []
  }
 ],
 "metadata": {
  "kernelspec": {
   "display_name": "Python 3",
   "language": "python",
   "name": "python3"
  },
  "language_info": {
   "codemirror_mode": {
    "name": "ipython",
    "version": 3
   },
   "file_extension": ".py",
   "mimetype": "text/x-python",
   "name": "python",
   "nbconvert_exporter": "python",
   "pygments_lexer": "ipython3",
   "version": "3.8.3"
  }
 },
 "nbformat": 4,
 "nbformat_minor": 4
}
