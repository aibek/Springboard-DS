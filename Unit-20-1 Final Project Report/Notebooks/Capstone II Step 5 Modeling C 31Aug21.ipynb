{
 "cells": [
  {
   "cell_type": "markdown",
   "metadata": {},
   "source": [
    "# 5 Capstone II Modeling"
   ]
  },
  {
   "cell_type": "markdown",
   "metadata": {},
   "source": [
    "# 5.1 Imports"
   ]
  },
  {
   "cell_type": "code",
   "execution_count": 1,
   "metadata": {},
   "outputs": [],
   "source": [
    "import os\n",
    "from library.sb_utils import save_file\n",
    "\n",
    "import pandas as pd\n",
    "import numpy as np\n",
    "\n",
    "import pickle\n",
    "import matplotlib.pyplot as plt\n",
    "import seaborn as sns\n",
    "from sklearn import __version__ as sklearn_version\n",
    "from sklearn.model_selection import cross_validate"
   ]
  },
  {
   "cell_type": "markdown",
   "metadata": {},
   "source": [
    "# 5.2 Load Model"
   ]
  },
  {
   "cell_type": "code",
   "execution_count": 2,
   "metadata": {},
   "outputs": [
    {
     "name": "stdout",
     "output_type": "stream",
     "text": [
      "Expected model version doesn't match version loaded\n"
     ]
    }
   ],
   "source": [
    "expected_model_version = '1.0'\n",
    "model_path = '../models/refinery_crackspread_model_B.pkl'\n",
    "\n",
    "if os.path.exists(model_path):\n",
    "    with open(model_path, 'rb') as f:\n",
    "        model = pickle.load(f)\n",
    "    if model.version != expected_model_version:\n",
    "        print(\"Expected model version doesn't match version loaded\")\n",
    "    if model.sklearn_version != sklearn_version:\n",
    "        print(\"Warning: model created under different sklearn version\")\n",
    "else:\n",
    "    print(\"Expected model not found\")"
   ]
  },
  {
   "cell_type": "markdown",
   "metadata": {},
   "source": [
    "# 5.3 Load Data"
   ]
  },
  {
   "cell_type": "markdown",
   "metadata": {},
   "source": [
    "## 5.3.1 Profiles Data"
   ]
  },
  {
   "cell_type": "code",
   "execution_count": 244,
   "metadata": {},
   "outputs": [],
   "source": [
    "# Load the data\n",
    "data = pd.read_csv('../data/data_step3_features.csv')"
   ]
  },
  {
   "cell_type": "code",
   "execution_count": 245,
   "metadata": {
    "scrolled": true
   },
   "outputs": [
    {
     "name": "stdout",
     "output_type": "stream",
     "text": [
      "<class 'pandas.core.frame.DataFrame'>\n",
      "RangeIndex: 969 entries, 0 to 968\n",
      "Data columns (total 86 columns):\n",
      " #   Column              Non-Null Count  Dtype  \n",
      "---  ------              --------------  -----  \n",
      " 0   RFY-PADD            969 non-null    object \n",
      " 1   RFY-PAD-Sub         969 non-null    object \n",
      " 2   RFY-PAD-District    969 non-null    object \n",
      " 3   RFY_ID              969 non-null    object \n",
      " 4   RFY_BPCD            969 non-null    int64  \n",
      " 5   CATCRKRECYL         969 non-null    float64\n",
      " 6   CATHYDRCRCK         969 non-null    float64\n",
      " 7   CATHYDTRMT          969 non-null    float64\n",
      " 8   CATLREFORM          969 non-null    float64\n",
      " 9   CATLYTCRCK          969 non-null    float64\n",
      " 10  COKING              969 non-null    float64\n",
      " 11  FUELSOLDEASP        969 non-null    float64\n",
      " 12  THERMCRCK           969 non-null    float64\n",
      " 13  VACMDIST            969 non-null    float64\n",
      " 14  Crude_API           969 non-null    float64\n",
      " 15  NG_Yield_PAD        969 non-null    float64\n",
      " 16  GSL_Yield_PAD       969 non-null    float64\n",
      " 17  DSL_Yield_PAD       969 non-null    float64\n",
      " 18  RESID_Yield_PAD     969 non-null    float64\n",
      " 19  WTI_Price           969 non-null    float64\n",
      " 20  WTI_Diff            969 non-null    float64\n",
      " 21  WTI_Acq_Cost        969 non-null    float64\n",
      " 22  Brent_Price         969 non-null    float64\n",
      " 23  Brent_Diff          969 non-null    float64\n",
      " 24  CRCK_WTI_PAD-1A     969 non-null    float64\n",
      " 25  CRCK_WTI_PAD-1B     969 non-null    float64\n",
      " 26  CRCK_WTI_PAD-1C     969 non-null    float64\n",
      " 27  CRCK_WTI_PAD-2      969 non-null    float64\n",
      " 28  CRCK_WTI_PAD-3      969 non-null    float64\n",
      " 29  CRCK_WTI_PAD-4      969 non-null    float64\n",
      " 30  CRCK_WTI_PAD-5      969 non-null    float64\n",
      " 31  SPECF_CRCK_PAD-1A   969 non-null    float64\n",
      " 32  SPECF_CRCK_PAD-1B   969 non-null    float64\n",
      " 33  SPECF_CRCK_PAD-1C   969 non-null    float64\n",
      " 34  SPECF_CRCK_PAD-2    969 non-null    float64\n",
      " 35  SPECF_CRCK_PAD-3    969 non-null    float64\n",
      " 36  SPECF_CRCK_PAD-4    969 non-null    float64\n",
      " 37  SPECF_CRCK_PAD-5    969 non-null    float64\n",
      " 38  SPECF_RFY_CRCK      969 non-null    float64\n",
      " 39  Dist_PAD-1A         969 non-null    float64\n",
      " 40  Dist_PAD-1B         969 non-null    float64\n",
      " 41  Dist_PAD-1C         969 non-null    float64\n",
      " 42  Dist_PAD-2          969 non-null    float64\n",
      " 43  Dist_PAD-3          969 non-null    float64\n",
      " 44  Dist_PAD-4          969 non-null    float64\n",
      " 45  Dist_PAD-5          969 non-null    float64\n",
      " 46  RFY_Press_PAD-1A    969 non-null    float64\n",
      " 47  RFY_Press_PAD-1B    969 non-null    float64\n",
      " 48  RFY_Press_PAD-1C    969 non-null    float64\n",
      " 49  RFY_Press_PAD-2     969 non-null    float64\n",
      " 50  RFY_Press_PAD-3     969 non-null    float64\n",
      " 51  RFY_Press_PAD-4     969 non-null    float64\n",
      " 52  RFY_Press_PAD-5     969 non-null    float64\n",
      " 53  PAD-1-1             969 non-null    int64  \n",
      " 54  PAD-1-2             969 non-null    int64  \n",
      " 55  PAD-2-1             969 non-null    int64  \n",
      " 56  PAD-2-2             969 non-null    int64  \n",
      " 57  PAD-2-3             969 non-null    int64  \n",
      " 58  PAD-3-2             969 non-null    int64  \n",
      " 59  PAD-3-3             969 non-null    int64  \n",
      " 60  PAD-3-4             969 non-null    int64  \n",
      " 61  PAD-3-5             969 non-null    int64  \n",
      " 62  PAD-4               969 non-null    int64  \n",
      " 63  PAD-5               969 non-null    int64  \n",
      " 64  BPD_DENS_PAD-1A     969 non-null    float64\n",
      " 65  BPD_DENS_PAD-1B     969 non-null    float64\n",
      " 66  BPD_DENS_PAD-1C     969 non-null    float64\n",
      " 67  BPD_DENS_PAD-2      969 non-null    float64\n",
      " 68  BPD_DENS_PAD-3      969 non-null    float64\n",
      " 69  BPD_DENS_PAD-4      969 non-null    float64\n",
      " 70  BPD_DENS_PAD-5      969 non-null    float64\n",
      " 71  BPD_DENS_SPECF      969 non-null    float64\n",
      " 72  MRKT_RESIST_PAD-1A  969 non-null    float64\n",
      " 73  MRKT_RESIST_PAD-1B  969 non-null    float64\n",
      " 74  MRKT_RESIST_PAD-1C  969 non-null    float64\n",
      " 75  MRKT_RESIST_PAD-2   969 non-null    float64\n",
      " 76  MRKT_RESIST_PAD-3   969 non-null    float64\n",
      " 77  MRKT_RESIST_PAD-4   969 non-null    float64\n",
      " 78  MRKT_RESIST_PAD-5   969 non-null    float64\n",
      " 79  REVNUE_PAD-1A       969 non-null    float64\n",
      " 80  REVNUE_PAD-1B       969 non-null    float64\n",
      " 81  REVNUE_PAD-1C       969 non-null    float64\n",
      " 82  REVNUE_PAD-2        969 non-null    float64\n",
      " 83  REVNUE_PAD-3        969 non-null    float64\n",
      " 84  REVNUE_PAD-4        969 non-null    float64\n",
      " 85  REVNUE_PAD-5        969 non-null    float64\n",
      "dtypes: float64(70), int64(12), object(4)\n",
      "memory usage: 651.2+ KB\n"
     ]
    }
   ],
   "source": [
    "data.info()"
   ]
  },
  {
   "cell_type": "code",
   "execution_count": 275,
   "metadata": {},
   "outputs": [],
   "source": [
    "# Separate the fictional observations into its own dataframe\n",
    "falcon_data = data[data['RFY_ID'] == 'RFY-201']"
   ]
  },
  {
   "cell_type": "code",
   "execution_count": 276,
   "metadata": {
    "scrolled": true
   },
   "outputs": [
    {
     "data": {
      "text/html": [
       "<div>\n",
       "<style scoped>\n",
       "    .dataframe tbody tr th:only-of-type {\n",
       "        vertical-align: middle;\n",
       "    }\n",
       "\n",
       "    .dataframe tbody tr th {\n",
       "        vertical-align: top;\n",
       "    }\n",
       "\n",
       "    .dataframe thead th {\n",
       "        text-align: right;\n",
       "    }\n",
       "</style>\n",
       "<table border=\"1\" class=\"dataframe\">\n",
       "  <thead>\n",
       "    <tr style=\"text-align: right;\">\n",
       "      <th></th>\n",
       "      <th>Brent_Diff</th>\n",
       "      <th>WTI_Diff</th>\n",
       "      <th>Crude_API</th>\n",
       "      <th>RFY-PAD-District</th>\n",
       "      <th>RFY_BPCD</th>\n",
       "      <th>WTI_Price</th>\n",
       "      <th>PAD-2-2</th>\n",
       "      <th>PAD-3-3</th>\n",
       "      <th>PAD-4</th>\n",
       "      <th>SPECF_RFY_CRCK</th>\n",
       "    </tr>\n",
       "  </thead>\n",
       "  <tbody>\n",
       "    <tr>\n",
       "      <th>968</th>\n",
       "      <td>-2.078182</td>\n",
       "      <td>-6.049091</td>\n",
       "      <td>26.115455</td>\n",
       "      <td>PAD-2-2</td>\n",
       "      <td>50000</td>\n",
       "      <td>38.519091</td>\n",
       "      <td>1</td>\n",
       "      <td>0</td>\n",
       "      <td>0</td>\n",
       "      <td>26.480953</td>\n",
       "    </tr>\n",
       "  </tbody>\n",
       "</table>\n",
       "</div>"
      ],
      "text/plain": [
       "     Brent_Diff  WTI_Diff  Crude_API RFY-PAD-District  RFY_BPCD  WTI_Price  \\\n",
       "968   -2.078182 -6.049091  26.115455          PAD-2-2     50000  38.519091   \n",
       "\n",
       "     PAD-2-2  PAD-3-3  PAD-4  SPECF_RFY_CRCK  \n",
       "968        1        0      0       26.480953  "
      ]
     },
     "execution_count": 276,
     "metadata": {},
     "output_type": "execute_result"
    }
   ],
   "source": [
    "falcon_data.iloc[:,[23,20,14,2,4,19,56,59,62,38]]"
   ]
  },
  {
   "cell_type": "code",
   "execution_count": 7,
   "metadata": {},
   "outputs": [],
   "source": [
    "# Separate the actual observations into another dataframe\n",
    "rfy_data = data.iloc[np.r_[0:968], :]"
   ]
  },
  {
   "cell_type": "code",
   "execution_count": 8,
   "metadata": {},
   "outputs": [
    {
     "data": {
      "text/html": [
       "<div>\n",
       "<style scoped>\n",
       "    .dataframe tbody tr th:only-of-type {\n",
       "        vertical-align: middle;\n",
       "    }\n",
       "\n",
       "    .dataframe tbody tr th {\n",
       "        vertical-align: top;\n",
       "    }\n",
       "\n",
       "    .dataframe thead th {\n",
       "        text-align: right;\n",
       "    }\n",
       "</style>\n",
       "<table border=\"1\" class=\"dataframe\">\n",
       "  <thead>\n",
       "    <tr style=\"text-align: right;\">\n",
       "      <th></th>\n",
       "      <th>RFY-PADD</th>\n",
       "      <th>RFY-PAD-Sub</th>\n",
       "      <th>RFY-PAD-District</th>\n",
       "      <th>RFY_ID</th>\n",
       "      <th>RFY_BPCD</th>\n",
       "      <th>CATCRKRECYL</th>\n",
       "      <th>CATHYDRCRCK</th>\n",
       "      <th>CATHYDTRMT</th>\n",
       "      <th>CATLREFORM</th>\n",
       "      <th>CATLYTCRCK</th>\n",
       "      <th>...</th>\n",
       "      <th>MRKT_RESIST_PAD-3</th>\n",
       "      <th>MRKT_RESIST_PAD-4</th>\n",
       "      <th>MRKT_RESIST_PAD-5</th>\n",
       "      <th>REVNUE_PAD-1A</th>\n",
       "      <th>REVNUE_PAD-1B</th>\n",
       "      <th>REVNUE_PAD-1C</th>\n",
       "      <th>REVNUE_PAD-2</th>\n",
       "      <th>REVNUE_PAD-3</th>\n",
       "      <th>REVNUE_PAD-4</th>\n",
       "      <th>REVNUE_PAD-5</th>\n",
       "    </tr>\n",
       "  </thead>\n",
       "  <tbody>\n",
       "    <tr>\n",
       "      <th>967</th>\n",
       "      <td>PAD-4</td>\n",
       "      <td>PAD-4</td>\n",
       "      <td>PAD-4</td>\n",
       "      <td>RFY-132</td>\n",
       "      <td>3000</td>\n",
       "      <td>51762.720398</td>\n",
       "      <td>139.162137</td>\n",
       "      <td>4209.829462</td>\n",
       "      <td>42234.659531</td>\n",
       "      <td>8958.125484</td>\n",
       "      <td>...</td>\n",
       "      <td>0.15758</td>\n",
       "      <td>0.052905</td>\n",
       "      <td>0.154692</td>\n",
       "      <td>52.631535</td>\n",
       "      <td>57.25055</td>\n",
       "      <td>57.844057</td>\n",
       "      <td>57.129244</td>\n",
       "      <td>53.547274</td>\n",
       "      <td>58.936798</td>\n",
       "      <td>66.45891</td>\n",
       "    </tr>\n",
       "  </tbody>\n",
       "</table>\n",
       "<p>1 rows × 86 columns</p>\n",
       "</div>"
      ],
      "text/plain": [
       "    RFY-PADD RFY-PAD-Sub RFY-PAD-District   RFY_ID  RFY_BPCD   CATCRKRECYL  \\\n",
       "967    PAD-4       PAD-4            PAD-4  RFY-132      3000  51762.720398   \n",
       "\n",
       "     CATHYDRCRCK   CATHYDTRMT    CATLREFORM   CATLYTCRCK  ...  \\\n",
       "967   139.162137  4209.829462  42234.659531  8958.125484  ...   \n",
       "\n",
       "     MRKT_RESIST_PAD-3  MRKT_RESIST_PAD-4  MRKT_RESIST_PAD-5  REVNUE_PAD-1A  \\\n",
       "967            0.15758           0.052905           0.154692      52.631535   \n",
       "\n",
       "     REVNUE_PAD-1B  REVNUE_PAD-1C  REVNUE_PAD-2  REVNUE_PAD-3  REVNUE_PAD-4  \\\n",
       "967       57.25055      57.844057     57.129244     53.547274     58.936798   \n",
       "\n",
       "     REVNUE_PAD-5  \n",
       "967      66.45891  \n",
       "\n",
       "[1 rows x 86 columns]"
      ]
     },
     "execution_count": 8,
     "metadata": {},
     "output_type": "execute_result"
    }
   ],
   "source": [
    "# check the last observation to verify that the rfy_data does not include the Falcon Refinery data\n",
    "rfy_data.tail(1)"
   ]
  },
  {
   "cell_type": "markdown",
   "metadata": {},
   "source": [
    "### Dependent Variable"
   ]
  },
  {
   "cell_type": "code",
   "execution_count": 9,
   "metadata": {},
   "outputs": [
    {
     "data": {
      "image/png": "[encoded data removed]",
      "text/plain": [
       "<Figure size 432x288 with 1 Axes>"
      ]
     },
     "metadata": {
      "needs_background": "light"
     },
     "output_type": "display_data"
    }
   ],
   "source": [
    "_ = plt.hist(rfy_data['SPECF_RFY_CRCK'], bins=25)"
   ]
  },
  {
   "cell_type": "code",
   "execution_count": 10,
   "metadata": {},
   "outputs": [
    {
     "data": {
      "text/plain": [
       "count    968.000000\n",
       "mean      25.100242\n",
       "std        6.692318\n",
       "min        7.786307\n",
       "25%       21.839709\n",
       "50%       24.133443\n",
       "75%       26.428742\n",
       "max       42.940409\n",
       "Name: SPECF_RFY_CRCK, dtype: float64"
      ]
     },
     "execution_count": 10,
     "metadata": {},
     "output_type": "execute_result"
    }
   ],
   "source": [
    "rfy_data['SPECF_RFY_CRCK'].describe()"
   ]
  },
  {
   "cell_type": "code",
   "execution_count": 11,
   "metadata": {},
   "outputs": [
    {
     "data": {
      "text/plain": [
       "25.983769    5\n",
       "22.555106    5\n",
       "23.117531    5\n",
       "24.257179    5\n",
       "24.966581    5\n",
       "            ..\n",
       "25.339587    1\n",
       "33.695715    1\n",
       "24.983023    1\n",
       "24.276360    1\n",
       "38.878956    1\n",
       "Name: SPECF_RFY_CRCK, Length: 823, dtype: int64"
      ]
     },
     "execution_count": 11,
     "metadata": {},
     "output_type": "execute_result"
    }
   ],
   "source": [
    "rfy_data['SPECF_RFY_CRCK'].value_counts()"
   ]
  },
  {
   "cell_type": "code",
   "execution_count": 12,
   "metadata": {},
   "outputs": [
    {
     "data": {
      "image/png": "[encoded data removed]",
      "text/plain": [
       "<Figure size 864x504 with 1 Axes>"
      ]
     },
     "metadata": {
      "needs_background": "light"
     },
     "output_type": "display_data"
    }
   ],
   "source": [
    "plt.figure(figsize=(12,7))\n",
    "_ = sns.scatterplot(x='RFY-PAD-District', y='SPECF_RFY_CRCK', hue='Brent_Diff', data=rfy_data)"
   ]
  },
  {
   "cell_type": "code",
   "execution_count": 13,
   "metadata": {},
   "outputs": [
    {
     "data": {
      "image/png": "[encoded data removed]",
      "text/plain": [
       "<Figure size 864x504 with 1 Axes>"
      ]
     },
     "metadata": {
      "needs_background": "light"
     },
     "output_type": "display_data"
    }
   ],
   "source": [
    "plt.figure(figsize=(12,7))\n",
    "_ = sns.scatterplot(x='RFY-PAD-District', y='SPECF_RFY_CRCK', hue='WTI_Diff', data=rfy_data)"
   ]
  },
  {
   "cell_type": "code",
   "execution_count": 14,
   "metadata": {},
   "outputs": [
    {
     "data": {
      "text/plain": [
       "<matplotlib.axes._subplots.AxesSubplot at 0x1192ae36ca0>"
      ]
     },
     "execution_count": 14,
     "metadata": {},
     "output_type": "execute_result"
    },
    {
     "data": {
      "image/png": "[encoded data removed]",
      "text/plain": [
       "<Figure size 864x504 with 1 Axes>"
      ]
     },
     "metadata": {
      "needs_background": "light"
     },
     "output_type": "display_data"
    }
   ],
   "source": [
    "plt.figure(figsize=(12,7))\n",
    "sns.scatterplot(x='RFY-PAD-District', y='SPECF_RFY_CRCK', hue='RESID_Yield_PAD', data=rfy_data)"
   ]
  },
  {
   "cell_type": "code",
   "execution_count": 15,
   "metadata": {},
   "outputs": [
    {
     "data": {
      "text/plain": [
       "<matplotlib.axes._subplots.AxesSubplot at 0x1192b647c40>"
      ]
     },
     "execution_count": 15,
     "metadata": {},
     "output_type": "execute_result"
    },
    {
     "data": {
      "image/png": "[encoded data removed]",
      "text/plain": [
       "<Figure size 864x504 with 1 Axes>"
      ]
     },
     "metadata": {
      "needs_background": "light"
     },
     "output_type": "display_data"
    }
   ],
   "source": [
    "plt.figure(figsize=(12,7))\n",
    "sns.scatterplot(x='Brent_Diff', y='SPECF_RFY_CRCK', hue='Crude_API', data=rfy_data)"
   ]
  },
  {
   "cell_type": "code",
   "execution_count": 16,
   "metadata": {},
   "outputs": [
    {
     "data": {
      "text/plain": [
       "<matplotlib.axes._subplots.AxesSubplot at 0x1192b79ab50>"
      ]
     },
     "execution_count": 16,
     "metadata": {},
     "output_type": "execute_result"
    },
    {
     "data": {
      "image/png": "[encoded data removed]",
      "text/plain": [
       "<Figure size 864x504 with 1 Axes>"
      ]
     },
     "metadata": {
      "needs_background": "light"
     },
     "output_type": "display_data"
    }
   ],
   "source": [
    "plt.figure(figsize=(12,7))\n",
    "sns.scatterplot(x='WTI_Diff', y='SPECF_RFY_CRCK', hue='Crude_API', data=rfy_data)"
   ]
  },
  {
   "cell_type": "code",
   "execution_count": 17,
   "metadata": {},
   "outputs": [
    {
     "data": {
      "text/plain": [
       "<matplotlib.axes._subplots.AxesSubplot at 0x1192b96c1c0>"
      ]
     },
     "execution_count": 17,
     "metadata": {},
     "output_type": "execute_result"
    },
    {
     "data": {
      "image/png": "[encoded data removed]",
      "text/plain": [
       "<Figure size 864x504 with 1 Axes>"
      ]
     },
     "metadata": {
      "needs_background": "light"
     },
     "output_type": "display_data"
    }
   ],
   "source": [
    "plt.figure(figsize=(12,7))\n",
    "sns.scatterplot(x='RFY-PAD-District', y='RESID_Yield_PAD', hue='SPECF_RFY_CRCK', data=rfy_data)"
   ]
  },
  {
   "cell_type": "code",
   "execution_count": 18,
   "metadata": {
    "scrolled": false
   },
   "outputs": [
    {
     "data": {
      "text/plain": [
       "<matplotlib.axes._subplots.AxesSubplot at 0x1192bf1da30>"
      ]
     },
     "execution_count": 18,
     "metadata": {},
     "output_type": "execute_result"
    },
    {
     "data": {
      "image/png": "[encoded data removed]",
      "text/plain": [
       "<Figure size 864x504 with 1 Axes>"
      ]
     },
     "metadata": {
      "needs_background": "light"
     },
     "output_type": "display_data"
    }
   ],
   "source": [
    "plt.figure(figsize=(12,7))\n",
    "sns.scatterplot(x='BPD_DENS_SPECF', y='SPECF_RFY_CRCK', hue='RFY-PAD-District', data=rfy_data)"
   ]
  },
  {
   "cell_type": "markdown",
   "metadata": {},
   "source": [
    "The above chart show a pattern:\n",
    "- The bigger discounts are on either the imported Brent or domestic WTI Crude, the better things are for refineries, as they are able to purchase Crude Oil at a lower price and hence, make a bigger profit margin (Net Crack Spread)\n",
    "- The lower the Residue Yield (RESID_Yield_PAD) in a given refinery indicate that higher light product yields are achieved, leading to higher value sales, and ultimately - to a higher Net Crack Spread\n",
    "- Refineries with consistently high level profit margins are located in the following PAD Districts: PAD-4, PAD-2-3, PAD-2-1, and PAD-2-2 - in that descending order.\n",
    "- Lastly, the type of crude oil also plays a noticeable role in the refinery profit margins: the higher the API, the higher the light product yields. Combined with favorable refinery location, with close proximity to denser markets, the higher light product yields allow PAD-4, PAD-2-3, PAD-2-1, and PAD-2-2 to become more profitable than others."
   ]
  },
  {
   "cell_type": "markdown",
   "metadata": {},
   "source": [
    "## 5.3.2 Refit Model on All Refinery Data"
   ]
  },
  {
   "cell_type": "code",
   "execution_count": 19,
   "metadata": {
    "scrolled": false
   },
   "outputs": [],
   "source": [
    "X = data.loc[data['RFY_ID'] != 'RFY-201', model.X_columns]\n",
    "y = data.loc[data['RFY_ID'] != 'RFY-201', 'SPECF_RFY_CRCK']"
   ]
  },
  {
   "cell_type": "code",
   "execution_count": 20,
   "metadata": {},
   "outputs": [
    {
     "data": {
      "text/plain": [
       "(968, 968)"
      ]
     },
     "execution_count": 20,
     "metadata": {},
     "output_type": "execute_result"
    }
   ],
   "source": [
    "len(X), len(y)"
   ]
  },
  {
   "cell_type": "code",
   "execution_count": 21,
   "metadata": {},
   "outputs": [
    {
     "data": {
      "text/plain": [
       "Pipeline(steps=[('simpleimputer', SimpleImputer()), ('standardscaler', None),\n",
       "                ('randomforestregressor',\n",
       "                 RandomForestRegressor(n_estimators=54, random_state=47))])"
      ]
     },
     "execution_count": 21,
     "metadata": {},
     "output_type": "execute_result"
    }
   ],
   "source": [
    "model.fit(X, y)"
   ]
  },
  {
   "cell_type": "code",
   "execution_count": 22,
   "metadata": {},
   "outputs": [],
   "source": [
    "cv_results = cross_validate(model, X, y, scoring='neg_mean_absolute_error', cv=5, n_jobs=-1)"
   ]
  },
  {
   "cell_type": "code",
   "execution_count": 23,
   "metadata": {},
   "outputs": [
    {
     "data": {
      "text/plain": [
       "array([-1.7488155 , -1.15751301, -1.246086  , -3.25102506, -1.41993562])"
      ]
     },
     "execution_count": 23,
     "metadata": {},
     "output_type": "execute_result"
    }
   ],
   "source": [
    "cv_results['test_score']"
   ]
  },
  {
   "cell_type": "code",
   "execution_count": 24,
   "metadata": {},
   "outputs": [
    {
     "data": {
      "text/plain": [
       "(1.7646750371150433, 0.7701835494283248)"
      ]
     },
     "execution_count": 24,
     "metadata": {},
     "output_type": "execute_result"
    }
   ],
   "source": [
    "mae_mean, mae_std = np.mean(-1 * cv_results['test_score']), np.std(-1 * cv_results['test_score'])\n",
    "mae_mean, mae_std"
   ]
  },
  {
   "cell_type": "markdown",
   "metadata": {},
   "source": [
    "# 5.4 Calculate Expected Falcon crack spread"
   ]
  },
  {
   "cell_type": "code",
   "execution_count": 25,
   "metadata": {},
   "outputs": [],
   "source": [
    "X_falcon = data.loc[data['RFY_ID'] == 'RFY-201', model.X_columns]\n",
    "y_falcon = data.loc[data['RFY_ID'] == 'RFY-201', 'SPECF_RFY_CRCK']"
   ]
  },
  {
   "cell_type": "code",
   "execution_count": 26,
   "metadata": {},
   "outputs": [
    {
     "data": {
      "text/plain": [
       "(1, 1)"
      ]
     },
     "execution_count": 26,
     "metadata": {},
     "output_type": "execute_result"
    }
   ],
   "source": [
    "len(X_falcon), len(y_falcon)"
   ]
  },
  {
   "cell_type": "code",
   "execution_count": 27,
   "metadata": {},
   "outputs": [],
   "source": [
    "falcon_pred = model.predict(X_falcon).item()"
   ]
  },
  {
   "cell_type": "code",
   "execution_count": 28,
   "metadata": {},
   "outputs": [],
   "source": [
    "y_falcon = y_falcon.values.item()"
   ]
  },
  {
   "cell_type": "code",
   "execution_count": 29,
   "metadata": {},
   "outputs": [
    {
     "data": {
      "text/plain": [
       "(25.966974602057316, 26.480953001692168)"
      ]
     },
     "execution_count": 29,
     "metadata": {},
     "output_type": "execute_result"
    }
   ],
   "source": [
    "falcon_pred, y_falcon"
   ]
  },
  {
   "cell_type": "code",
   "execution_count": 30,
   "metadata": {},
   "outputs": [
    {
     "name": "stdout",
     "output_type": "stream",
     "text": [
      "Falcon Refinery 201 modeled crackspread is $25.97, actual crackspread is $26.48.\n",
      "The expected mean absolute error of $1.76, the model prediction pretty much matches the financial model target.\n"
     ]
    }
   ],
   "source": [
    "print(f'Falcon Refinery 201 modeled crackspread is ${falcon_pred:.2f}, actual crackspread is ${y_falcon:.2f}.')\n",
    "print(f'The expected mean absolute error of ${mae_mean:.2f}, the model prediction pretty much matches the financial model target.')"
   ]
  },
  {
   "cell_type": "markdown",
   "metadata": {},
   "source": [
    "## 5.4.1 Metrics"
   ]
  },
  {
   "cell_type": "code",
   "execution_count": 31,
   "metadata": {
    "scrolled": true
   },
   "outputs": [],
   "source": [
    "# Falcon Refinery 201 position in the distribution\n",
    "\n",
    "def plot_compare(feat_name, description, rfy_PAD_district=None, figsize=(7, 4)):\n",
    "    \"\"\"Graphically compare distributions of features.\n",
    "    \n",
    "    Plot histogram of values for all refineries and reference line to mark\n",
    "    the position of Falcon Refinery 201.\n",
    "    \n",
    "    Arguments:\n",
    "    feat_name - the feature column name in the data\n",
    "    description - text description of the feature\n",
    "    rfy_PAD_district - select a specific PAD District (None for all districts)\n",
    "    figsize - (optional) figure size\n",
    "    \"\"\"\n",
    "    \n",
    "    plt.subplots(figsize=figsize)\n",
    "    # quirk that hist sometimes objects to NaNs, sometimes doesn't\n",
    "    # filtering only for finite values tidies this up\n",
    "    \n",
    "    if rfy_PAD_district is None:\n",
    "        rfy_x = data[feat_name]\n",
    "    else:\n",
    "        rfy_x = data.loc[data['RFY-PAD-District'] == rfy_PAD_district, feat_name]\n",
    "    rfy_x = rfy_x[np.isfinite(rfy_x)]\n",
    "    plt.hist(rfy_x, bins=30)\n",
    "    plt.axvline(x=falcon_data[feat_name].values, c='r', ls='--', alpha=0.8, label='Falcon Refinery')\n",
    "    plt.xlabel(description)\n",
    "    plt.ylabel('frequency')\n",
    "    plt.title(description + ' distribution for refineries in market share')\n",
    "    plt.legend()"
   ]
  },
  {
   "cell_type": "markdown",
   "metadata": {},
   "source": [
    "### 5.4.1.1 Crack spread"
   ]
  },
  {
   "cell_type": "code",
   "execution_count": 32,
   "metadata": {
    "scrolled": false
   },
   "outputs": [
    {
     "data": {
      "image/png": "[encoded data removed]",
      "text/plain": [
       "<Figure size 504x288 with 1 Axes>"
      ]
     },
     "metadata": {
      "needs_background": "light"
     },
     "output_type": "display_data"
    }
   ],
   "source": [
    "plot_compare('SPECF_RFY_CRCK', 'Crack Spread ($/Bbl)')"
   ]
  },
  {
   "cell_type": "code",
   "execution_count": 33,
   "metadata": {
    "scrolled": true
   },
   "outputs": [
    {
     "data": {
      "image/png": "[encoded data removed]",
      "text/plain": [
       "<Figure size 504x288 with 1 Axes>"
      ]
     },
     "metadata": {
      "needs_background": "light"
     },
     "output_type": "display_data"
    }
   ],
   "source": [
    "plot_compare('SPECF_RFY_CRCK', 'Crack Spread ($/Bbl) - PAD-2-2', rfy_PAD_district='PAD-2-2')"
   ]
  },
  {
   "cell_type": "markdown",
   "metadata": {},
   "source": [
    "### 5.4.1.2 Brent Price Differential"
   ]
  },
  {
   "cell_type": "code",
   "execution_count": 34,
   "metadata": {},
   "outputs": [
    {
     "data": {
      "image/png": "[encoded data removed]",
      "text/plain": [
       "<Figure size 504x288 with 1 Axes>"
      ]
     },
     "metadata": {
      "needs_background": "light"
     },
     "output_type": "display_data"
    }
   ],
   "source": [
    "plot_compare('Brent_Diff', 'Brent Price Diff ($/Bbl)')"
   ]
  },
  {
   "cell_type": "markdown",
   "metadata": {},
   "source": [
    "### 5.4.1.3 WTI Price Differential"
   ]
  },
  {
   "cell_type": "code",
   "execution_count": 35,
   "metadata": {},
   "outputs": [
    {
     "data": {
      "image/png": "[encoded data removed]",
      "text/plain": [
       "<Figure size 504x288 with 1 Axes>"
      ]
     },
     "metadata": {
      "needs_background": "light"
     },
     "output_type": "display_data"
    }
   ],
   "source": [
    "plot_compare('WTI_Diff', 'WTI Price Diff ($/Bbl)')"
   ]
  },
  {
   "cell_type": "markdown",
   "metadata": {},
   "source": [
    "### 5.4.1.4 Residue Yield"
   ]
  },
  {
   "cell_type": "code",
   "execution_count": 36,
   "metadata": {},
   "outputs": [
    {
     "data": {
      "image/png": "[encoded data removed]",
      "text/plain": [
       "<Figure size 504x288 with 1 Axes>"
      ]
     },
     "metadata": {
      "needs_background": "light"
     },
     "output_type": "display_data"
    }
   ],
   "source": [
    "plot_compare('RESID_Yield_PAD', 'Residue Yields - all PAD Districts (% vol.)')"
   ]
  },
  {
   "cell_type": "markdown",
   "metadata": {},
   "source": [
    "### 5.4.1.5 Light Product Yields (Gasoline, Diesel, Residual)"
   ]
  },
  {
   "cell_type": "code",
   "execution_count": 37,
   "metadata": {},
   "outputs": [
    {
     "data": {
      "image/png": "[encoded data removed]",
      "text/plain": [
       "<Figure size 504x288 with 1 Axes>"
      ]
     },
     "metadata": {
      "needs_background": "light"
     },
     "output_type": "display_data"
    }
   ],
   "source": [
    "plot_compare('GSL_Yield_PAD', 'Gasoline Yield - all PAD Districts (% vol.)')"
   ]
  },
  {
   "cell_type": "code",
   "execution_count": 38,
   "metadata": {},
   "outputs": [
    {
     "data": {
      "image/png": "[encoded data removed]",
      "text/plain": [
       "<Figure size 504x288 with 1 Axes>"
      ]
     },
     "metadata": {
      "needs_background": "light"
     },
     "output_type": "display_data"
    }
   ],
   "source": [
    "plot_compare('DSL_Yield_PAD', 'Diesel Yield - all PAD Districts (% vol.)')"
   ]
  },
  {
   "cell_type": "code",
   "execution_count": 39,
   "metadata": {},
   "outputs": [
    {
     "data": {
      "image/png": "[encoded data removed]",
      "text/plain": [
       "<Figure size 504x288 with 1 Axes>"
      ]
     },
     "metadata": {
      "needs_background": "light"
     },
     "output_type": "display_data"
    }
   ],
   "source": [
    "plot_compare('RESID_Yield_PAD', 'Residue Yield in a given PAD District (% vol.)')"
   ]
  },
  {
   "cell_type": "markdown",
   "metadata": {},
   "source": [
    "### 5.4.1.6 Crude API"
   ]
  },
  {
   "cell_type": "code",
   "execution_count": 40,
   "metadata": {},
   "outputs": [
    {
     "data": {
      "image/png": "[encoded data removed]",
      "text/plain": [
       "<Figure size 504x288 with 1 Axes>"
      ]
     },
     "metadata": {
      "needs_background": "light"
     },
     "output_type": "display_data"
    }
   ],
   "source": [
    "plot_compare('Crude_API', 'Crude API a given PAD District')"
   ]
  },
  {
   "cell_type": "markdown",
   "metadata": {},
   "source": [
    "# 5.5. Models"
   ]
  },
  {
   "cell_type": "markdown",
   "metadata": {},
   "source": [
    "## 5.5.1 Modeling scenarios"
   ]
  },
  {
   "cell_type": "markdown",
   "metadata": {},
   "source": [
    "We will run several scenarios for the prospect refinery by changing key features:\n",
    "1. Change Brent Price Differntial - make the effective price lower, by increasing diff from USD(2.078)/Bbl to USD(5.50)/Bbl\n",
    "2. Change Crude API - make it lighter, from API 26 to API 39\n",
    "3. Change the refinery location - move from PAD-2-2 to PAD-4 District\n",
    "4. To conclude - run a combination of all three scenarios."
   ]
  },
  {
   "cell_type": "code",
   "execution_count": 41,
   "metadata": {},
   "outputs": [],
   "source": [
    "# Make a function for accepting variables for feature changes,\n",
    "# running a new prediction and comparing to the current prediction\n",
    "\n",
    "def predict_changes(features, changes):\n",
    "    falcon_changed = X_falcon.copy()\n",
    "    for f, d in zip(features, changes):\n",
    "        falcon_changed[features] = changes\n",
    "    return model.predict(falcon_changed).item() - model.predict(X_falcon).item()    "
   ]
  },
  {
   "cell_type": "markdown",
   "metadata": {},
   "source": [
    "### Random Forest Baseline Prediction\n",
    "***Confirm Predicted Falcon Refinery Crackspread***"
   ]
  },
  {
   "cell_type": "code",
   "execution_count": 277,
   "metadata": {},
   "outputs": [
    {
     "data": {
      "text/html": [
       "<div>\n",
       "<style scoped>\n",
       "    .dataframe tbody tr th:only-of-type {\n",
       "        vertical-align: middle;\n",
       "    }\n",
       "\n",
       "    .dataframe tbody tr th {\n",
       "        vertical-align: top;\n",
       "    }\n",
       "\n",
       "    .dataframe thead th {\n",
       "        text-align: right;\n",
       "    }\n",
       "</style>\n",
       "<table border=\"1\" class=\"dataframe\">\n",
       "  <thead>\n",
       "    <tr style=\"text-align: right;\">\n",
       "      <th></th>\n",
       "      <th>Brent_Diff</th>\n",
       "      <th>WTI_Diff</th>\n",
       "      <th>Crude_API</th>\n",
       "      <th>RFY-PAD-District</th>\n",
       "      <th>RFY_BPCD</th>\n",
       "      <th>WTI_Price</th>\n",
       "      <th>PAD-2-2</th>\n",
       "      <th>PAD-3-3</th>\n",
       "      <th>PAD-4</th>\n",
       "      <th>SPECF_RFY_CRCK</th>\n",
       "    </tr>\n",
       "  </thead>\n",
       "  <tbody>\n",
       "    <tr>\n",
       "      <th>968</th>\n",
       "      <td>-2.078182</td>\n",
       "      <td>-6.049091</td>\n",
       "      <td>26.115455</td>\n",
       "      <td>PAD-2-2</td>\n",
       "      <td>50000</td>\n",
       "      <td>38.519091</td>\n",
       "      <td>1</td>\n",
       "      <td>0</td>\n",
       "      <td>0</td>\n",
       "      <td>26.480953</td>\n",
       "    </tr>\n",
       "  </tbody>\n",
       "</table>\n",
       "</div>"
      ],
      "text/plain": [
       "     Brent_Diff  WTI_Diff  Crude_API RFY-PAD-District  RFY_BPCD  WTI_Price  \\\n",
       "968   -2.078182 -6.049091  26.115455          PAD-2-2     50000  38.519091   \n",
       "\n",
       "     PAD-2-2  PAD-3-3  PAD-4  SPECF_RFY_CRCK  \n",
       "968        1        0      0       26.480953  "
      ]
     },
     "execution_count": 277,
     "metadata": {},
     "output_type": "execute_result"
    }
   ],
   "source": [
    "falcon_data.iloc[:,[23,20,14,2,4,19,56,59,62,38]]"
   ]
  },
  {
   "cell_type": "code",
   "execution_count": 278,
   "metadata": {},
   "outputs": [],
   "source": [
    "# predict Falcon Refinery Crackspread:\n",
    "X_falcon = data.loc[data['RFY_ID'] == 'RFY-201', model.X_columns]\n",
    "y_falcon = data.loc[data['RFY_ID'] == 'RFY-201', 'SPECF_RFY_CRCK']"
   ]
  },
  {
   "cell_type": "code",
   "execution_count": 279,
   "metadata": {},
   "outputs": [],
   "source": [
    "# This is the Random Forest prediction results - use this as the base case comparing with outcomes from Scenario changes\n",
    "falcon_pred = model.predict(X_falcon).item()"
   ]
  },
  {
   "cell_type": "code",
   "execution_count": 280,
   "metadata": {},
   "outputs": [],
   "source": [
    "y_falcon = y_falcon.values.item()"
   ]
  },
  {
   "cell_type": "code",
   "execution_count": 281,
   "metadata": {},
   "outputs": [
    {
     "data": {
      "text/plain": [
       "(25.966974602057316, 26.480953001692168)"
      ]
     },
     "execution_count": 281,
     "metadata": {},
     "output_type": "execute_result"
    }
   ],
   "source": [
    "falcon_pred, y_falcon"
   ]
  },
  {
   "cell_type": "markdown",
   "metadata": {},
   "source": [
    "### Baseline RF dataset"
   ]
  },
  {
   "cell_type": "code",
   "execution_count": 282,
   "metadata": {},
   "outputs": [
    {
     "data": {
      "text/html": [
       "<div>\n",
       "<style scoped>\n",
       "    .dataframe tbody tr th:only-of-type {\n",
       "        vertical-align: middle;\n",
       "    }\n",
       "\n",
       "    .dataframe tbody tr th {\n",
       "        vertical-align: top;\n",
       "    }\n",
       "\n",
       "    .dataframe thead th {\n",
       "        text-align: right;\n",
       "    }\n",
       "</style>\n",
       "<table border=\"1\" class=\"dataframe\">\n",
       "  <thead>\n",
       "    <tr style=\"text-align: right;\">\n",
       "      <th></th>\n",
       "      <th>Brent_Diff</th>\n",
       "      <th>WTI_Diff</th>\n",
       "      <th>Crude_API</th>\n",
       "      <th>RFY-PAD-District</th>\n",
       "      <th>PAD-2-2</th>\n",
       "      <th>PAD-4</th>\n",
       "      <th>SPECF_RFY_CRCK</th>\n",
       "    </tr>\n",
       "  </thead>\n",
       "  <tbody>\n",
       "    <tr>\n",
       "      <th>968</th>\n",
       "      <td>-2.078182</td>\n",
       "      <td>-6.049091</td>\n",
       "      <td>26.115455</td>\n",
       "      <td>PAD-2-2</td>\n",
       "      <td>1</td>\n",
       "      <td>0</td>\n",
       "      <td>26.480953</td>\n",
       "    </tr>\n",
       "  </tbody>\n",
       "</table>\n",
       "</div>"
      ],
      "text/plain": [
       "     Brent_Diff  WTI_Diff  Crude_API RFY-PAD-District  PAD-2-2  PAD-4  \\\n",
       "968   -2.078182 -6.049091  26.115455          PAD-2-2        1      0   \n",
       "\n",
       "     SPECF_RFY_CRCK  \n",
       "968       26.480953  "
      ]
     },
     "execution_count": 282,
     "metadata": {},
     "output_type": "execute_result"
    }
   ],
   "source": [
    "# Financial model forecasted values\n",
    "falcon_data[['Brent_Diff', 'WTI_Diff', 'Crude_API','RFY-PAD-District', 'PAD-2-2','PAD-4','SPECF_RFY_CRCK']]"
   ]
  },
  {
   "cell_type": "code",
   "execution_count": 283,
   "metadata": {},
   "outputs": [
    {
     "data": {
      "text/html": [
       "<div>\n",
       "<style scoped>\n",
       "    .dataframe tbody tr th:only-of-type {\n",
       "        vertical-align: middle;\n",
       "    }\n",
       "\n",
       "    .dataframe tbody tr th {\n",
       "        vertical-align: top;\n",
       "    }\n",
       "\n",
       "    .dataframe thead th {\n",
       "        text-align: right;\n",
       "    }\n",
       "</style>\n",
       "<table border=\"1\" class=\"dataframe\">\n",
       "  <thead>\n",
       "    <tr style=\"text-align: right;\">\n",
       "      <th></th>\n",
       "      <th>Brent_Diff</th>\n",
       "      <th>WTI_Diff</th>\n",
       "      <th>Crude_API</th>\n",
       "      <th>RFY-PAD-District</th>\n",
       "      <th>RFY_BPCD</th>\n",
       "      <th>WTI_Price</th>\n",
       "      <th>PAD-2-2</th>\n",
       "      <th>PAD-3-3</th>\n",
       "      <th>PAD-4</th>\n",
       "      <th>SPECF_RFY_CRCK</th>\n",
       "    </tr>\n",
       "  </thead>\n",
       "  <tbody>\n",
       "    <tr>\n",
       "      <th>968</th>\n",
       "      <td>-2.078182</td>\n",
       "      <td>-6.049091</td>\n",
       "      <td>26.115455</td>\n",
       "      <td>PAD-2-2</td>\n",
       "      <td>50000</td>\n",
       "      <td>38.519091</td>\n",
       "      <td>1</td>\n",
       "      <td>0</td>\n",
       "      <td>0</td>\n",
       "      <td>25.966975</td>\n",
       "    </tr>\n",
       "  </tbody>\n",
       "</table>\n",
       "</div>"
      ],
      "text/plain": [
       "     Brent_Diff  WTI_Diff  Crude_API RFY-PAD-District  RFY_BPCD  WTI_Price  \\\n",
       "968   -2.078182 -6.049091  26.115455          PAD-2-2     50000  38.519091   \n",
       "\n",
       "     PAD-2-2  PAD-3-3  PAD-4  SPECF_RFY_CRCK  \n",
       "968        1        0      0       25.966975  "
      ]
     },
     "execution_count": 283,
     "metadata": {},
     "output_type": "execute_result"
    }
   ],
   "source": [
    "# The Baseline Random Forest predicted values\n",
    "Baseline_RF = falcon_data.copy()\n",
    "Baseline_RF[['SPECF_RFY_CRCK']] = falcon_pred\n",
    "Baseline_RF.iloc[:,[23,20,14,2,4,19,56,59,62,38]]"
   ]
  },
  {
   "cell_type": "markdown",
   "metadata": {},
   "source": [
    "### 5.5.1.1 Scenario 1"
   ]
  },
  {
   "cell_type": "markdown",
   "metadata": {},
   "source": [
    "#### Change Brent Price Differential "
   ]
  },
  {
   "cell_type": "code",
   "execution_count": 290,
   "metadata": {},
   "outputs": [
    {
     "data": {
      "text/plain": [
       "-2.078181818181811"
      ]
     },
     "execution_count": 290,
     "metadata": {},
     "output_type": "execute_result"
    }
   ],
   "source": [
    "# here's the current Brent_Diff value for Falcon\n",
    "Baseline_RF['Brent_Diff'].item()"
   ]
  },
  {
   "cell_type": "code",
   "execution_count": 291,
   "metadata": {},
   "outputs": [],
   "source": [
    "falcon_df_changed = Baseline_RF.copy()"
   ]
  },
  {
   "cell_type": "code",
   "execution_count": 377,
   "metadata": {},
   "outputs": [
    {
     "data": {
      "text/html": [
       "<div>\n",
       "<style scoped>\n",
       "    .dataframe tbody tr th:only-of-type {\n",
       "        vertical-align: middle;\n",
       "    }\n",
       "\n",
       "    .dataframe tbody tr th {\n",
       "        vertical-align: top;\n",
       "    }\n",
       "\n",
       "    .dataframe thead th {\n",
       "        text-align: right;\n",
       "    }\n",
       "</style>\n",
       "<table border=\"1\" class=\"dataframe\">\n",
       "  <thead>\n",
       "    <tr style=\"text-align: right;\">\n",
       "      <th></th>\n",
       "      <th>Brent_Diff</th>\n",
       "      <th>WTI_Diff</th>\n",
       "      <th>Crude_API</th>\n",
       "      <th>RFY-PAD-District</th>\n",
       "      <th>RFY_BPCD</th>\n",
       "      <th>WTI_Price</th>\n",
       "      <th>PAD-2-2</th>\n",
       "      <th>PAD-3-3</th>\n",
       "      <th>PAD-4</th>\n",
       "      <th>SPECF_RFY_CRCK</th>\n",
       "    </tr>\n",
       "  </thead>\n",
       "  <tbody>\n",
       "    <tr>\n",
       "      <th>968</th>\n",
       "      <td>-5.5</td>\n",
       "      <td>0</td>\n",
       "      <td>26.115455</td>\n",
       "      <td>PAD-2-2</td>\n",
       "      <td>50000</td>\n",
       "      <td>38.519091</td>\n",
       "      <td>1</td>\n",
       "      <td>0</td>\n",
       "      <td>0</td>\n",
       "      <td>25.966975</td>\n",
       "    </tr>\n",
       "  </tbody>\n",
       "</table>\n",
       "</div>"
      ],
      "text/plain": [
       "     Brent_Diff  WTI_Diff  Crude_API RFY-PAD-District  RFY_BPCD  WTI_Price  \\\n",
       "968        -5.5         0  26.115455          PAD-2-2     50000  38.519091   \n",
       "\n",
       "     PAD-2-2  PAD-3-3  PAD-4  SPECF_RFY_CRCK  \n",
       "968        1        0      0       25.966975  "
      ]
     },
     "execution_count": 377,
     "metadata": {},
     "output_type": "execute_result"
    }
   ],
   "source": [
    "falcon_df_changed['Brent_Diff'] = -5.5\n",
    "falcon_df_changed['WTI_Diff'] = 0\n",
    "falcon_df_changed.iloc[:,[23,20,14,2,4,19,56,59,62,38]]"
   ]
  },
  {
   "cell_type": "code",
   "execution_count": 378,
   "metadata": {},
   "outputs": [],
   "source": [
    "X_falcon_01 = falcon_df_changed.loc[falcon_df_changed['RFY_ID'] == 'RFY-201', model.X_columns]\n",
    "y_falcon_01 = falcon_df_changed.loc[falcon_df_changed['RFY_ID'] == 'RFY-201', 'SPECF_RFY_CRCK']"
   ]
  },
  {
   "cell_type": "code",
   "execution_count": 379,
   "metadata": {},
   "outputs": [
    {
     "data": {
      "text/plain": [
       "(1, 1)"
      ]
     },
     "execution_count": 379,
     "metadata": {},
     "output_type": "execute_result"
    }
   ],
   "source": [
    "len(X_falcon_01), len(y_falcon_01)"
   ]
  },
  {
   "cell_type": "code",
   "execution_count": 380,
   "metadata": {},
   "outputs": [],
   "source": [
    "falcon_pred_01 = model.predict(X_falcon_01).item()"
   ]
  },
  {
   "cell_type": "code",
   "execution_count": 381,
   "metadata": {},
   "outputs": [],
   "source": [
    "y_falcon_01 = y_falcon_01.values.item()"
   ]
  },
  {
   "cell_type": "code",
   "execution_count": 382,
   "metadata": {},
   "outputs": [
    {
     "data": {
      "text/plain": [
       "(34.663535773073846, 25.966974602057316)"
      ]
     },
     "execution_count": 382,
     "metadata": {},
     "output_type": "execute_result"
    }
   ],
   "source": [
    "falcon_pred_01, y_falcon_01"
   ]
  },
  {
   "cell_type": "markdown",
   "metadata": {},
   "source": [
    "### Scenario 1 Outcome:"
   ]
  },
  {
   "cell_type": "markdown",
   "metadata": {},
   "source": [
    "Lowering Brent Differential by 1.00/Bbl results in dropping of Net Crack from 25.97/Bbl to 22.99/Bbl"
   ]
  },
  {
   "cell_type": "code",
   "execution_count": 104,
   "metadata": {
    "scrolled": true
   },
   "outputs": [
    {
     "name": "stdout",
     "output_type": "stream",
     "text": [
      "Scenario 01 modeled crackspread is $22.99, currently assumed crackspread is $25.97.\n"
     ]
    }
   ],
   "source": [
    "print(f'Scenario 01 modeled crackspread is ${falcon_pred_01:.2f}, \\\n",
    "currently assumed crackspread is ${y_falcon_01:.2f}.')"
   ]
  },
  {
   "cell_type": "markdown",
   "metadata": {},
   "source": [
    "### 5.5.1.2 Scenario 2"
   ]
  },
  {
   "cell_type": "markdown",
   "metadata": {},
   "source": [
    "#### Change Crude API"
   ]
  },
  {
   "cell_type": "code",
   "execution_count": 418,
   "metadata": {},
   "outputs": [],
   "source": [
    "falcon_df_changed = Baseline_RF.copy()\n",
    "falcon_df_changed['Crude_API'] = 41"
   ]
  },
  {
   "cell_type": "code",
   "execution_count": 419,
   "metadata": {},
   "outputs": [
    {
     "data": {
      "text/html": [
       "<div>\n",
       "<style scoped>\n",
       "    .dataframe tbody tr th:only-of-type {\n",
       "        vertical-align: middle;\n",
       "    }\n",
       "\n",
       "    .dataframe tbody tr th {\n",
       "        vertical-align: top;\n",
       "    }\n",
       "\n",
       "    .dataframe thead th {\n",
       "        text-align: right;\n",
       "    }\n",
       "</style>\n",
       "<table border=\"1\" class=\"dataframe\">\n",
       "  <thead>\n",
       "    <tr style=\"text-align: right;\">\n",
       "      <th></th>\n",
       "      <th>Crude_API</th>\n",
       "      <th>SPECF_RFY_CRCK</th>\n",
       "    </tr>\n",
       "  </thead>\n",
       "  <tbody>\n",
       "    <tr>\n",
       "      <th>968</th>\n",
       "      <td>26.115455</td>\n",
       "      <td>25.966975</td>\n",
       "    </tr>\n",
       "  </tbody>\n",
       "</table>\n",
       "</div>"
      ],
      "text/plain": [
       "     Crude_API  SPECF_RFY_CRCK\n",
       "968  26.115455       25.966975"
      ]
     },
     "execution_count": 419,
     "metadata": {},
     "output_type": "execute_result"
    }
   ],
   "source": [
    "Baseline_RF[['Crude_API', 'SPECF_RFY_CRCK']]"
   ]
  },
  {
   "cell_type": "code",
   "execution_count": 420,
   "metadata": {},
   "outputs": [
    {
     "data": {
      "text/html": [
       "<div>\n",
       "<style scoped>\n",
       "    .dataframe tbody tr th:only-of-type {\n",
       "        vertical-align: middle;\n",
       "    }\n",
       "\n",
       "    .dataframe tbody tr th {\n",
       "        vertical-align: top;\n",
       "    }\n",
       "\n",
       "    .dataframe thead th {\n",
       "        text-align: right;\n",
       "    }\n",
       "</style>\n",
       "<table border=\"1\" class=\"dataframe\">\n",
       "  <thead>\n",
       "    <tr style=\"text-align: right;\">\n",
       "      <th></th>\n",
       "      <th>Crude_API</th>\n",
       "      <th>SPECF_RFY_CRCK</th>\n",
       "    </tr>\n",
       "  </thead>\n",
       "  <tbody>\n",
       "    <tr>\n",
       "      <th>968</th>\n",
       "      <td>41</td>\n",
       "      <td>25.966975</td>\n",
       "    </tr>\n",
       "  </tbody>\n",
       "</table>\n",
       "</div>"
      ],
      "text/plain": [
       "     Crude_API  SPECF_RFY_CRCK\n",
       "968         41       25.966975"
      ]
     },
     "execution_count": 420,
     "metadata": {},
     "output_type": "execute_result"
    }
   ],
   "source": [
    "falcon_df_changed[['Crude_API', 'SPECF_RFY_CRCK']]"
   ]
  },
  {
   "cell_type": "code",
   "execution_count": 421,
   "metadata": {},
   "outputs": [],
   "source": [
    "X_falcon_02 = falcon_df_changed.loc[falcon_df_changed['RFY_ID'] == 'RFY-201', model.X_columns]\n",
    "y_falcon_02 = falcon_df_changed.loc[falcon_df_changed['RFY_ID'] == 'RFY-201', 'SPECF_RFY_CRCK']"
   ]
  },
  {
   "cell_type": "code",
   "execution_count": 422,
   "metadata": {},
   "outputs": [],
   "source": [
    "falcon_pred_02 = model.predict(X_falcon_02).item()"
   ]
  },
  {
   "cell_type": "code",
   "execution_count": 423,
   "metadata": {},
   "outputs": [],
   "source": [
    "y_falcon_02 = y_falcon_02.values.item()"
   ]
  },
  {
   "cell_type": "code",
   "execution_count": 424,
   "metadata": {},
   "outputs": [
    {
     "data": {
      "text/plain": [
       "(26.02624332888902, 25.966974602057316)"
      ]
     },
     "execution_count": 424,
     "metadata": {},
     "output_type": "execute_result"
    }
   ],
   "source": [
    "falcon_pred_02, y_falcon_02"
   ]
  },
  {
   "cell_type": "markdown",
   "metadata": {},
   "source": [
    "### Scenario 2 Outcome:"
   ]
  },
  {
   "cell_type": "markdown",
   "metadata": {},
   "source": [
    "Changing Crude API from 26 to 39 has increased the Crack Spread - it went from 25.97/Bbl to 26.03/Bbl"
   ]
  },
  {
   "cell_type": "code",
   "execution_count": 113,
   "metadata": {
    "scrolled": true
   },
   "outputs": [
    {
     "name": "stdout",
     "output_type": "stream",
     "text": [
      "Scenario 02 modeled crackspread is $26.03, currently assumed crackspread is $25.97.\n"
     ]
    }
   ],
   "source": [
    "print(f'Scenario 02 modeled crackspread is ${falcon_pred_02:.2f}, \\\n",
    "currently assumed crackspread is ${y_falcon_02:.2f}.')"
   ]
  },
  {
   "cell_type": "markdown",
   "metadata": {},
   "source": [
    "### 5.5.1.3 Scenario 3"
   ]
  },
  {
   "cell_type": "markdown",
   "metadata": {},
   "source": [
    "#### Change Refinery Location"
   ]
  },
  {
   "cell_type": "code",
   "execution_count": 435,
   "metadata": {},
   "outputs": [
    {
     "data": {
      "text/html": [
       "<div>\n",
       "<style scoped>\n",
       "    .dataframe tbody tr th:only-of-type {\n",
       "        vertical-align: middle;\n",
       "    }\n",
       "\n",
       "    .dataframe tbody tr th {\n",
       "        vertical-align: top;\n",
       "    }\n",
       "\n",
       "    .dataframe thead th {\n",
       "        text-align: right;\n",
       "    }\n",
       "</style>\n",
       "<table border=\"1\" class=\"dataframe\">\n",
       "  <thead>\n",
       "    <tr style=\"text-align: right;\">\n",
       "      <th></th>\n",
       "      <th>Brent_Diff</th>\n",
       "      <th>WTI_Diff</th>\n",
       "      <th>Crude_API</th>\n",
       "      <th>RFY-PAD-District</th>\n",
       "      <th>RFY_BPCD</th>\n",
       "      <th>WTI_Price</th>\n",
       "      <th>PAD-2-2</th>\n",
       "      <th>PAD-3-3</th>\n",
       "      <th>PAD-4</th>\n",
       "      <th>SPECF_RFY_CRCK</th>\n",
       "    </tr>\n",
       "  </thead>\n",
       "  <tbody>\n",
       "    <tr>\n",
       "      <th>968</th>\n",
       "      <td>-2.078182</td>\n",
       "      <td>-6.049091</td>\n",
       "      <td>26.115455</td>\n",
       "      <td>PAD-2-2</td>\n",
       "      <td>50000</td>\n",
       "      <td>38.519091</td>\n",
       "      <td>1</td>\n",
       "      <td>0</td>\n",
       "      <td>0</td>\n",
       "      <td>25.966975</td>\n",
       "    </tr>\n",
       "  </tbody>\n",
       "</table>\n",
       "</div>"
      ],
      "text/plain": [
       "     Brent_Diff  WTI_Diff  Crude_API RFY-PAD-District  RFY_BPCD  WTI_Price  \\\n",
       "968   -2.078182 -6.049091  26.115455          PAD-2-2     50000  38.519091   \n",
       "\n",
       "     PAD-2-2  PAD-3-3  PAD-4  SPECF_RFY_CRCK  \n",
       "968        1        0      0       25.966975  "
      ]
     },
     "execution_count": 435,
     "metadata": {},
     "output_type": "execute_result"
    }
   ],
   "source": [
    "Baseline_RF.iloc[:,[23,20,14,2,4,19,56,59,62,38]]"
   ]
  },
  {
   "cell_type": "code",
   "execution_count": 436,
   "metadata": {
    "scrolled": true
   },
   "outputs": [
    {
     "data": {
      "text/plain": [
       "1"
      ]
     },
     "execution_count": 436,
     "metadata": {},
     "output_type": "execute_result"
    }
   ],
   "source": [
    "Baseline_RF['PAD-2-2'].item()"
   ]
  },
  {
   "cell_type": "code",
   "execution_count": 437,
   "metadata": {},
   "outputs": [],
   "source": [
    "falcon_df_changed = Baseline_RF.copy()\n",
    "\n",
    "# switch the location from PAD-2-2 to PAD-4\n",
    "falcon_df_changed['PAD-2-2'] = 0\n",
    "falcon_df_changed['PAD-3-3'] = 1\n",
    "falcon_df_changed['RFY-PAD-District'] = 'PAD-3-3'"
   ]
  },
  {
   "cell_type": "code",
   "execution_count": 438,
   "metadata": {},
   "outputs": [
    {
     "data": {
      "text/html": [
       "<div>\n",
       "<style scoped>\n",
       "    .dataframe tbody tr th:only-of-type {\n",
       "        vertical-align: middle;\n",
       "    }\n",
       "\n",
       "    .dataframe tbody tr th {\n",
       "        vertical-align: top;\n",
       "    }\n",
       "\n",
       "    .dataframe thead th {\n",
       "        text-align: right;\n",
       "    }\n",
       "</style>\n",
       "<table border=\"1\" class=\"dataframe\">\n",
       "  <thead>\n",
       "    <tr style=\"text-align: right;\">\n",
       "      <th></th>\n",
       "      <th>Brent_Diff</th>\n",
       "      <th>WTI_Diff</th>\n",
       "      <th>Crude_API</th>\n",
       "      <th>RFY-PAD-District</th>\n",
       "      <th>RFY_BPCD</th>\n",
       "      <th>WTI_Price</th>\n",
       "      <th>PAD-2-2</th>\n",
       "      <th>PAD-3-3</th>\n",
       "      <th>PAD-4</th>\n",
       "      <th>SPECF_RFY_CRCK</th>\n",
       "    </tr>\n",
       "  </thead>\n",
       "  <tbody>\n",
       "    <tr>\n",
       "      <th>968</th>\n",
       "      <td>-2.078182</td>\n",
       "      <td>-6.049091</td>\n",
       "      <td>26.115455</td>\n",
       "      <td>PAD-3-3</td>\n",
       "      <td>50000</td>\n",
       "      <td>38.519091</td>\n",
       "      <td>0</td>\n",
       "      <td>1</td>\n",
       "      <td>0</td>\n",
       "      <td>25.966975</td>\n",
       "    </tr>\n",
       "  </tbody>\n",
       "</table>\n",
       "</div>"
      ],
      "text/plain": [
       "     Brent_Diff  WTI_Diff  Crude_API RFY-PAD-District  RFY_BPCD  WTI_Price  \\\n",
       "968   -2.078182 -6.049091  26.115455          PAD-3-3     50000  38.519091   \n",
       "\n",
       "     PAD-2-2  PAD-3-3  PAD-4  SPECF_RFY_CRCK  \n",
       "968        0        1      0       25.966975  "
      ]
     },
     "execution_count": 438,
     "metadata": {},
     "output_type": "execute_result"
    }
   ],
   "source": [
    "falcon_df_changed.iloc[:,[23,20,14,2,4,19,56,59,62,38]]"
   ]
  },
  {
   "cell_type": "code",
   "execution_count": 439,
   "metadata": {},
   "outputs": [],
   "source": [
    "X_falcon_03 = falcon_df_changed.loc[falcon_df_changed['RFY_ID'] == 'RFY-201', model.X_columns]\n",
    "y_falcon_03 = falcon_df_changed.loc[falcon_df_changed['RFY_ID'] == 'RFY-201', 'SPECF_RFY_CRCK']"
   ]
  },
  {
   "cell_type": "code",
   "execution_count": 440,
   "metadata": {},
   "outputs": [],
   "source": [
    "falcon_pred_03 = model.predict(X_falcon_03).item()"
   ]
  },
  {
   "cell_type": "code",
   "execution_count": 441,
   "metadata": {},
   "outputs": [],
   "source": [
    "y_falcon_03 = y_falcon_03.values.item()"
   ]
  },
  {
   "cell_type": "code",
   "execution_count": 442,
   "metadata": {},
   "outputs": [
    {
     "data": {
      "text/plain": [
       "(25.99746726264609, 25.966974602057316)"
      ]
     },
     "execution_count": 442,
     "metadata": {},
     "output_type": "execute_result"
    }
   ],
   "source": [
    "falcon_pred_03, y_falcon_03"
   ]
  },
  {
   "cell_type": "markdown",
   "metadata": {},
   "source": [
    "### Scenario 3 Outcome:"
   ]
  },
  {
   "cell_type": "markdown",
   "metadata": {},
   "source": [
    "Changing Refinery 201 location from PAD-2-2 to PAD-4 has kept Net Crack pretty much the same - it went from 25.97/Bbl to 25.99/Bbl"
   ]
  },
  {
   "cell_type": "code",
   "execution_count": 127,
   "metadata": {},
   "outputs": [
    {
     "name": "stdout",
     "output_type": "stream",
     "text": [
      "Scenario 03 modeled crackspread is $25.99, currently assumed crackspread is $25.97.\n"
     ]
    }
   ],
   "source": [
    "print(f'Scenario 03 modeled crackspread is ${falcon_pred_03:.2f}, \\\n",
    "currently assumed crackspread is ${y_falcon_03:.2f}.')"
   ]
  },
  {
   "cell_type": "markdown",
   "metadata": {},
   "source": [
    "### 5.5.1.4 Scenario 4"
   ]
  },
  {
   "cell_type": "markdown",
   "metadata": {},
   "source": [
    "#### Now, let's combine several changes altogether:"
   ]
  },
  {
   "cell_type": "markdown",
   "metadata": {},
   "source": [
    "1. Change Brent_Diff from (2.078)/Bbl to (5.50)/Bbl\n",
    "2. Change Crude API - up from 26 to 39\n",
    "3. Change Location from PAD-2-2 to PAD-4"
   ]
  },
  {
   "cell_type": "markdown",
   "metadata": {},
   "source": [
    "#### Change some key parameters in the Baseline Random Forest predictions"
   ]
  },
  {
   "cell_type": "code",
   "execution_count": 443,
   "metadata": {},
   "outputs": [
    {
     "data": {
      "text/html": [
       "<div>\n",
       "<style scoped>\n",
       "    .dataframe tbody tr th:only-of-type {\n",
       "        vertical-align: middle;\n",
       "    }\n",
       "\n",
       "    .dataframe tbody tr th {\n",
       "        vertical-align: top;\n",
       "    }\n",
       "\n",
       "    .dataframe thead th {\n",
       "        text-align: right;\n",
       "    }\n",
       "</style>\n",
       "<table border=\"1\" class=\"dataframe\">\n",
       "  <thead>\n",
       "    <tr style=\"text-align: right;\">\n",
       "      <th></th>\n",
       "      <th>Brent_Diff</th>\n",
       "      <th>WTI_Diff</th>\n",
       "      <th>Crude_API</th>\n",
       "      <th>RFY-PAD-District</th>\n",
       "      <th>RFY_BPCD</th>\n",
       "      <th>WTI_Price</th>\n",
       "      <th>PAD-2-2</th>\n",
       "      <th>PAD-3-3</th>\n",
       "      <th>PAD-4</th>\n",
       "      <th>SPECF_RFY_CRCK</th>\n",
       "    </tr>\n",
       "  </thead>\n",
       "  <tbody>\n",
       "    <tr>\n",
       "      <th>968</th>\n",
       "      <td>-2.078182</td>\n",
       "      <td>-6.049091</td>\n",
       "      <td>26.115455</td>\n",
       "      <td>PAD-2-2</td>\n",
       "      <td>50000</td>\n",
       "      <td>38.519091</td>\n",
       "      <td>1</td>\n",
       "      <td>0</td>\n",
       "      <td>0</td>\n",
       "      <td>25.966975</td>\n",
       "    </tr>\n",
       "  </tbody>\n",
       "</table>\n",
       "</div>"
      ],
      "text/plain": [
       "     Brent_Diff  WTI_Diff  Crude_API RFY-PAD-District  RFY_BPCD  WTI_Price  \\\n",
       "968   -2.078182 -6.049091  26.115455          PAD-2-2     50000  38.519091   \n",
       "\n",
       "     PAD-2-2  PAD-3-3  PAD-4  SPECF_RFY_CRCK  \n",
       "968        1        0      0       25.966975  "
      ]
     },
     "execution_count": 443,
     "metadata": {},
     "output_type": "execute_result"
    }
   ],
   "source": [
    "Baseline_RF.iloc[:,[23,20,14,2,4,19,56,59,62,38]]"
   ]
  },
  {
   "cell_type": "code",
   "execution_count": 444,
   "metadata": {},
   "outputs": [],
   "source": [
    "# Change Brent_Diff, WTI_Diff, and Crude_API values\n",
    "falcon_df_changed = Baseline_RF.copy()\n",
    "#1 falcon_df_changed[['Brent_Diff', 'WTI_Diff', 'Crude_API',\n",
    "#                   'RFY-PAD-District','PAD-2-2','PAD-4']] = [[-5.5, -6.5, 39, 'PAD-4',0,1]]\n",
    "\n",
    "falcon_df_changed[['Brent_Diff','WTI_Diff', 'Crude_API', 'RFY-PAD-District', 'PAD-2-2','PAD-3-3','PAD-4']] = \\\n",
    "                 [[-2.07, -5.0, 41, 'PAD-2-2', 1, 0,0]]"
   ]
  },
  {
   "cell_type": "code",
   "execution_count": 445,
   "metadata": {},
   "outputs": [
    {
     "data": {
      "text/html": [
       "<div>\n",
       "<style scoped>\n",
       "    .dataframe tbody tr th:only-of-type {\n",
       "        vertical-align: middle;\n",
       "    }\n",
       "\n",
       "    .dataframe tbody tr th {\n",
       "        vertical-align: top;\n",
       "    }\n",
       "\n",
       "    .dataframe thead th {\n",
       "        text-align: right;\n",
       "    }\n",
       "</style>\n",
       "<table border=\"1\" class=\"dataframe\">\n",
       "  <thead>\n",
       "    <tr style=\"text-align: right;\">\n",
       "      <th></th>\n",
       "      <th>Brent_Diff</th>\n",
       "      <th>WTI_Diff</th>\n",
       "      <th>Crude_API</th>\n",
       "      <th>RFY-PAD-District</th>\n",
       "      <th>RFY_BPCD</th>\n",
       "      <th>WTI_Price</th>\n",
       "      <th>PAD-2-2</th>\n",
       "      <th>PAD-3-3</th>\n",
       "      <th>PAD-4</th>\n",
       "      <th>SPECF_RFY_CRCK</th>\n",
       "    </tr>\n",
       "  </thead>\n",
       "  <tbody>\n",
       "    <tr>\n",
       "      <th>968</th>\n",
       "      <td>-2.07</td>\n",
       "      <td>-5.0</td>\n",
       "      <td>41</td>\n",
       "      <td>PAD-2-2</td>\n",
       "      <td>50000</td>\n",
       "      <td>38.519091</td>\n",
       "      <td>1</td>\n",
       "      <td>0</td>\n",
       "      <td>0</td>\n",
       "      <td>25.966975</td>\n",
       "    </tr>\n",
       "  </tbody>\n",
       "</table>\n",
       "</div>"
      ],
      "text/plain": [
       "     Brent_Diff  WTI_Diff  Crude_API RFY-PAD-District  RFY_BPCD  WTI_Price  \\\n",
       "968       -2.07      -5.0         41          PAD-2-2     50000  38.519091   \n",
       "\n",
       "     PAD-2-2  PAD-3-3  PAD-4  SPECF_RFY_CRCK  \n",
       "968        1        0      0       25.966975  "
      ]
     },
     "execution_count": 445,
     "metadata": {},
     "output_type": "execute_result"
    }
   ],
   "source": [
    "falcon_df_changed.iloc[:,[23,20,14,2,4,19,56,59,62,38]]"
   ]
  },
  {
   "cell_type": "code",
   "execution_count": 446,
   "metadata": {},
   "outputs": [],
   "source": [
    "X_falcon = falcon_df_changed.loc[falcon_df_changed['RFY_ID'] == 'RFY-201', model.X_columns]\n",
    "y_falcon = falcon_df_changed.loc[falcon_df_changed['RFY_ID'] == 'RFY-201', 'SPECF_RFY_CRCK']"
   ]
  },
  {
   "cell_type": "code",
   "execution_count": 447,
   "metadata": {},
   "outputs": [],
   "source": [
    "falcon_pred = model.predict(X_falcon).item()"
   ]
  },
  {
   "cell_type": "code",
   "execution_count": 448,
   "metadata": {},
   "outputs": [],
   "source": [
    "y_falcon = y_falcon.values.item()"
   ]
  },
  {
   "cell_type": "code",
   "execution_count": 449,
   "metadata": {},
   "outputs": [],
   "source": [
    "falcon_df_changed[['SPECF_RFY_CRCK']]=falcon_pred"
   ]
  },
  {
   "cell_type": "code",
   "execution_count": 450,
   "metadata": {},
   "outputs": [
    {
     "data": {
      "text/html": [
       "<div>\n",
       "<style scoped>\n",
       "    .dataframe tbody tr th:only-of-type {\n",
       "        vertical-align: middle;\n",
       "    }\n",
       "\n",
       "    .dataframe tbody tr th {\n",
       "        vertical-align: top;\n",
       "    }\n",
       "\n",
       "    .dataframe thead th {\n",
       "        text-align: right;\n",
       "    }\n",
       "</style>\n",
       "<table border=\"1\" class=\"dataframe\">\n",
       "  <thead>\n",
       "    <tr style=\"text-align: right;\">\n",
       "      <th></th>\n",
       "      <th>Brent_Diff</th>\n",
       "      <th>WTI_Diff</th>\n",
       "      <th>Crude_API</th>\n",
       "      <th>RFY-PAD-District</th>\n",
       "      <th>RFY_BPCD</th>\n",
       "      <th>WTI_Price</th>\n",
       "      <th>PAD-2-2</th>\n",
       "      <th>PAD-3-3</th>\n",
       "      <th>PAD-4</th>\n",
       "      <th>SPECF_RFY_CRCK</th>\n",
       "    </tr>\n",
       "  </thead>\n",
       "  <tbody>\n",
       "    <tr>\n",
       "      <th>968</th>\n",
       "      <td>-2.07</td>\n",
       "      <td>-5.0</td>\n",
       "      <td>41</td>\n",
       "      <td>PAD-2-2</td>\n",
       "      <td>50000</td>\n",
       "      <td>38.519091</td>\n",
       "      <td>1</td>\n",
       "      <td>0</td>\n",
       "      <td>0</td>\n",
       "      <td>25.699608</td>\n",
       "    </tr>\n",
       "  </tbody>\n",
       "</table>\n",
       "</div>"
      ],
      "text/plain": [
       "     Brent_Diff  WTI_Diff  Crude_API RFY-PAD-District  RFY_BPCD  WTI_Price  \\\n",
       "968       -2.07      -5.0         41          PAD-2-2     50000  38.519091   \n",
       "\n",
       "     PAD-2-2  PAD-3-3  PAD-4  SPECF_RFY_CRCK  \n",
       "968        1        0      0       25.699608  "
      ]
     },
     "execution_count": 450,
     "metadata": {},
     "output_type": "execute_result"
    }
   ],
   "source": [
    "falcon_df_changed.iloc[:,[23,20,14,2,4,19,56,59,62,38]]"
   ]
  },
  {
   "cell_type": "code",
   "execution_count": 451,
   "metadata": {},
   "outputs": [
    {
     "name": "stdout",
     "output_type": "stream",
     "text": [
      "Scenario 04 modeled crackspread is $25.70, currently assumed crackspread is $25.97.\n"
     ]
    }
   ],
   "source": [
    "print(f'Scenario 04 modeled crackspread is ${falcon_pred:.2f}, \\\n",
    "currently assumed crackspread is ${y_falcon:.2f}.')"
   ]
  },
  {
   "cell_type": "markdown",
   "metadata": {},
   "source": [
    "### 5.5.1.5 Scenario 5 - Iterate Locations"
   ]
  },
  {
   "cell_type": "markdown",
   "metadata": {},
   "source": [
    "#### Iterate through PAD Locations and rank results:"
   ]
  },
  {
   "cell_type": "markdown",
   "metadata": {},
   "source": [
    "1. Set an instance of the Falcon Refinery with the key starting assumptions\n",
    "2. Iterate through the refinery locations, while keeping all initial assumptions same"
   ]
  },
  {
   "cell_type": "code",
   "execution_count": 74,
   "metadata": {
    "scrolled": true
   },
   "outputs": [
    {
     "data": {
      "text/html": [
       "<div>\n",
       "<style scoped>\n",
       "    .dataframe tbody tr th:only-of-type {\n",
       "        vertical-align: middle;\n",
       "    }\n",
       "\n",
       "    .dataframe tbody tr th {\n",
       "        vertical-align: top;\n",
       "    }\n",
       "\n",
       "    .dataframe thead th {\n",
       "        text-align: right;\n",
       "    }\n",
       "</style>\n",
       "<table border=\"1\" class=\"dataframe\">\n",
       "  <thead>\n",
       "    <tr style=\"text-align: right;\">\n",
       "      <th></th>\n",
       "      <th>RFY-PADD</th>\n",
       "      <th>RFY-PAD-Sub</th>\n",
       "      <th>RFY-PAD-District</th>\n",
       "      <th>RFY_ID</th>\n",
       "      <th>RFY_BPCD</th>\n",
       "      <th>CATCRKRECYL</th>\n",
       "      <th>CATHYDRCRCK</th>\n",
       "      <th>CATHYDTRMT</th>\n",
       "      <th>CATLREFORM</th>\n",
       "      <th>CATLYTCRCK</th>\n",
       "      <th>...</th>\n",
       "      <th>MRKT_RESIST_PAD-3</th>\n",
       "      <th>MRKT_RESIST_PAD-4</th>\n",
       "      <th>MRKT_RESIST_PAD-5</th>\n",
       "      <th>REVNUE_PAD-1A</th>\n",
       "      <th>REVNUE_PAD-1B</th>\n",
       "      <th>REVNUE_PAD-1C</th>\n",
       "      <th>REVNUE_PAD-2</th>\n",
       "      <th>REVNUE_PAD-3</th>\n",
       "      <th>REVNUE_PAD-4</th>\n",
       "      <th>REVNUE_PAD-5</th>\n",
       "    </tr>\n",
       "  </thead>\n",
       "  <tbody>\n",
       "    <tr>\n",
       "      <th>968</th>\n",
       "      <td>PAD-2</td>\n",
       "      <td>PAD-2</td>\n",
       "      <td>PAD-2-2</td>\n",
       "      <td>RFY-201</td>\n",
       "      <td>50000</td>\n",
       "      <td>1.549808e+06</td>\n",
       "      <td>5576.470588</td>\n",
       "      <td>134011.764706</td>\n",
       "      <td>1.435487e+06</td>\n",
       "      <td>317985.176471</td>\n",
       "      <td>...</td>\n",
       "      <td>0.153962</td>\n",
       "      <td>0.07911</td>\n",
       "      <td>0.158081</td>\n",
       "      <td>52.405468</td>\n",
       "      <td>58.958899</td>\n",
       "      <td>59.787404</td>\n",
       "      <td>59.230167</td>\n",
       "      <td>54.35743</td>\n",
       "      <td>59.805899</td>\n",
       "      <td>67.57249</td>\n",
       "    </tr>\n",
       "  </tbody>\n",
       "</table>\n",
       "<p>1 rows × 86 columns</p>\n",
       "</div>"
      ],
      "text/plain": [
       "    RFY-PADD RFY-PAD-Sub RFY-PAD-District   RFY_ID  RFY_BPCD   CATCRKRECYL  \\\n",
       "968    PAD-2       PAD-2          PAD-2-2  RFY-201     50000  1.549808e+06   \n",
       "\n",
       "     CATHYDRCRCK     CATHYDTRMT    CATLREFORM     CATLYTCRCK  ...  \\\n",
       "968  5576.470588  134011.764706  1.435487e+06  317985.176471  ...   \n",
       "\n",
       "     MRKT_RESIST_PAD-3  MRKT_RESIST_PAD-4  MRKT_RESIST_PAD-5  REVNUE_PAD-1A  \\\n",
       "968           0.153962            0.07911           0.158081      52.405468   \n",
       "\n",
       "     REVNUE_PAD-1B  REVNUE_PAD-1C  REVNUE_PAD-2  REVNUE_PAD-3  REVNUE_PAD-4  \\\n",
       "968      58.958899      59.787404     59.230167      54.35743     59.805899   \n",
       "\n",
       "     REVNUE_PAD-5  \n",
       "968      67.57249  \n",
       "\n",
       "[1 rows x 86 columns]"
      ]
     },
     "execution_count": 74,
     "metadata": {},
     "output_type": "execute_result"
    }
   ],
   "source": [
    "falcon_data.head()"
   ]
  },
  {
   "cell_type": "code",
   "execution_count": 76,
   "metadata": {},
   "outputs": [
    {
     "data": {
      "text/html": [
       "<div>\n",
       "<style scoped>\n",
       "    .dataframe tbody tr th:only-of-type {\n",
       "        vertical-align: middle;\n",
       "    }\n",
       "\n",
       "    .dataframe tbody tr th {\n",
       "        vertical-align: top;\n",
       "    }\n",
       "\n",
       "    .dataframe thead th {\n",
       "        text-align: right;\n",
       "    }\n",
       "</style>\n",
       "<table border=\"1\" class=\"dataframe\">\n",
       "  <thead>\n",
       "    <tr style=\"text-align: right;\">\n",
       "      <th></th>\n",
       "      <th>RFY-PADD</th>\n",
       "      <th>RFY-PAD-Sub</th>\n",
       "      <th>RFY-PAD-District</th>\n",
       "      <th>RFY_ID</th>\n",
       "      <th>RFY_BPCD</th>\n",
       "      <th>CATCRKRECYL</th>\n",
       "      <th>CATHYDRCRCK</th>\n",
       "      <th>CATHYDTRMT</th>\n",
       "      <th>CATLREFORM</th>\n",
       "      <th>CATLYTCRCK</th>\n",
       "      <th>...</th>\n",
       "      <th>MRKT_RESIST_PAD-3</th>\n",
       "      <th>MRKT_RESIST_PAD-4</th>\n",
       "      <th>MRKT_RESIST_PAD-5</th>\n",
       "      <th>REVNUE_PAD-1A</th>\n",
       "      <th>REVNUE_PAD-1B</th>\n",
       "      <th>REVNUE_PAD-1C</th>\n",
       "      <th>REVNUE_PAD-2</th>\n",
       "      <th>REVNUE_PAD-3</th>\n",
       "      <th>REVNUE_PAD-4</th>\n",
       "      <th>REVNUE_PAD-5</th>\n",
       "    </tr>\n",
       "  </thead>\n",
       "  <tbody>\n",
       "    <tr>\n",
       "      <th>968</th>\n",
       "      <td>PAD-2</td>\n",
       "      <td>PAD-2</td>\n",
       "      <td>PAD-2-2</td>\n",
       "      <td>RFY-201</td>\n",
       "      <td>50000</td>\n",
       "      <td>1.549808e+06</td>\n",
       "      <td>5576.470588</td>\n",
       "      <td>134011.764706</td>\n",
       "      <td>1.435487e+06</td>\n",
       "      <td>317985.176471</td>\n",
       "      <td>...</td>\n",
       "      <td>0.153962</td>\n",
       "      <td>0.07911</td>\n",
       "      <td>0.158081</td>\n",
       "      <td>52.405468</td>\n",
       "      <td>58.958899</td>\n",
       "      <td>59.787404</td>\n",
       "      <td>59.230167</td>\n",
       "      <td>54.35743</td>\n",
       "      <td>59.805899</td>\n",
       "      <td>67.57249</td>\n",
       "    </tr>\n",
       "  </tbody>\n",
       "</table>\n",
       "<p>1 rows × 86 columns</p>\n",
       "</div>"
      ],
      "text/plain": [
       "    RFY-PADD RFY-PAD-Sub RFY-PAD-District   RFY_ID  RFY_BPCD   CATCRKRECYL  \\\n",
       "968    PAD-2       PAD-2          PAD-2-2  RFY-201     50000  1.549808e+06   \n",
       "\n",
       "     CATHYDRCRCK     CATHYDTRMT    CATLREFORM     CATLYTCRCK  ...  \\\n",
       "968  5576.470588  134011.764706  1.435487e+06  317985.176471  ...   \n",
       "\n",
       "     MRKT_RESIST_PAD-3  MRKT_RESIST_PAD-4  MRKT_RESIST_PAD-5  REVNUE_PAD-1A  \\\n",
       "968           0.153962            0.07911           0.158081      52.405468   \n",
       "\n",
       "     REVNUE_PAD-1B  REVNUE_PAD-1C  REVNUE_PAD-2  REVNUE_PAD-3  REVNUE_PAD-4  \\\n",
       "968      58.958899      59.787404     59.230167      54.35743     59.805899   \n",
       "\n",
       "     REVNUE_PAD-5  \n",
       "968      67.57249  \n",
       "\n",
       "[1 rows x 86 columns]"
      ]
     },
     "execution_count": 76,
     "metadata": {},
     "output_type": "execute_result"
    }
   ],
   "source": [
    "falcon_data.tail(2)"
   ]
  },
  {
   "cell_type": "code",
   "execution_count": null,
   "metadata": {},
   "outputs": [],
   "source": []
  },
  {
   "cell_type": "markdown",
   "metadata": {},
   "source": [
    "### Conclusion"
   ]
  },
  {
   "cell_type": "markdown",
   "metadata": {},
   "source": [
    "The Random Forest Model has confirmed that selecting PAD Districts PAD-4, PAD-2-1, PAD-2-2, or PAD-2-3 would be most optimal, based on the following correlations, discovered during Exploratory Data Analysis:\n",
    "1. The higher Brent Price Differential (Discount), the lower is the cost of acquired crude oil, especially in the PAD Districts identified above\n",
    "2. The proximity to largest markets is important - for as long as the ratio between the Supply Pressure and Market Resistance is closer to the values, found in PADs 5, 4, 2\n",
    "3. The Crude API plays a role in determining the Net Crack Spread; however, it is not as high of a differntiator, as the above 2 factors. That is because most U.S. refineries are sufficiently equipped to have the capacity to refine both light and heavy crude oils and to maximize the extraction of the light products and further process heavy residues into lubricants and other easily marketable products."
   ]
  },
  {
   "cell_type": "code",
   "execution_count": null,
   "metadata": {},
   "outputs": [],
   "source": []
  }
 ],
 "metadata": {
  "kernelspec": {
   "display_name": "Python 3",
   "language": "python",
   "name": "python3"
  },
  "language_info": {
   "codemirror_mode": {
    "name": "ipython",
    "version": 3
   },
   "file_extension": ".py",
   "mimetype": "text/x-python",
   "name": "python",
   "nbconvert_exporter": "python",
   "pygments_lexer": "ipython3",
   "version": "3.8.3"
  }
 },
 "nbformat": 4,
 "nbformat_minor": 4
}
