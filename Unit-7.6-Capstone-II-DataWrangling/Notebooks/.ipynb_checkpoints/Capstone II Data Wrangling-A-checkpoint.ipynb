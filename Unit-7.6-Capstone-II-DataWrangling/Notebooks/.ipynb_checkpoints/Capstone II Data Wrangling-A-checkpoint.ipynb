{
 "cells": [
  {
   "cell_type": "markdown",
   "metadata": {},
   "source": [
    "## Capstone II Project - Unit 7.6 Data Wrangling"
   ]
  },
  {
   "cell_type": "markdown",
   "metadata": {},
   "source": [
    "## Contents<a id='Contents'></a>\n",
    "* [1. Data Sourcing and Loading](#1_Data_Sourcing_and_Loading)\n",
    "  * [1.1 Importing Libraries](#1.1_Importing_Libraries_and_functions)\n",
    "  * [1.2. Loading Data](#1.2_Loading_Data)\n",
    "    * [1.2.1 Loading Crude Oil Pricing Data](#1.2.1_Crude_Oil_Pricing)\n",
    "    * [1.2.2 Loading Crude Acquisition Cost by Refineries Data for 2013-2020](#1.2.2_Crude_Acquisition_Cost)\n",
    "    * [1.2.3 Loading Volumes_by_PAD for 2013-2020](#1.2.3_PAD_Product_Volumes)\n",
    "    * [1.2.4 Loading Refinery_Details](#1.2.4_Refineries_Details)\n",
    "    * [1.2.5 Loading Crude_API_by_PAD](#1.2.5_PAD_Crude_API)\n",
    "    * [1.2.6 Loading US_Census_Data](#1.2.6_US_Census_Data)\n",
    "* [2. Data Exploring](#2_Data_Exploring)\n",
    "  * [2.1 Audintg Data](#2.1_Audintg_Data)\n",
    "    * [2.1.1 Auditing WTI and Brent Price Index Data](#2.1.1_Audit_WTI_and_Brent_Data)\n",
    "    * [2.1.2 Auditing Crude Acquisition Cost Data ](#2.1.2_Audit_Refinery_Crude_Cost_Data)\n",
    "    * [2.1.3 Audit Petroleum Product Volume Data](#2.1.3_Audit_Product_Volume_Data)\n",
    "    * [2.1.4A Audit U.S. Refinery Profiles Data](#2.1.4A_Audit_Refinery_ProfilesData)\n",
    "    * [2.1.4B Audit US Refining Capacities by Process Types and PAD districts](#2.1.4B_Audit_Refinery_Capacity_Data)\n",
    "    * [2.1.4C Audit US Distance from US Refineries to cities with population > 300K](#2.1.4C_Audit_Refinery_to_Cities_Distances_Data)\n",
    "    * [2.1.5 Audit Crude API data grouped by PAD districts](#2.1.5_Audit_Crude_API_Data)\n",
    "    * [2.1.6A Audit Population data, grouped by PAD districts, states, and cities:](#2.1.6A_Audit_Population_Data)\n",
    "  * [2.2 Merging Data](#2.2_Merging_Data)\n",
    "    * [2.2.1 Merging WTI and Brent pricing data time series into one dataframe](#2.2.1_Merging_WTI_Brent_Time_Series)\n",
    "  * [2.3 Cleaning The Data](#2.3_Cleaning_Data)\n",
    "    * [2.3.1 Cleaning WTI and Brent Crude Pricing Data](#2.3.1_Cleaning_Crude_Pricing_Data)\n",
    "    * [2.3.2 Cleaning the data on Refineries' Crude Acquisition Costs by PAD](#2.3.2_Cleaning_Reiners_Crude_Cost_Data)\n",
    "    * [2.3.3 Cleaning the data on Petroleum Product Volume by PAD](#2.3.3_Cleaning_Product_Volume_Data)\n",
    "    * [2.3.4 Cleaning the U.S. Refinery Profiles Data](#2.3.4_Cleaning_Refinery_Profiles_Data)\n",
    "    * [2.3.5 Cleaning Crude API data](#2.3.5_Cleaning_Crude_API_Data)\n",
    "    * [2.3.6 Cleaning Cities Population data](#2.3.6_Cleaning_Population_Data)\n",
    "  * [2.4 Handling_Missing_Values](#2.4_Handling_Missing_Data)\n",
    "    * [2.4.1 Check if there are any zero or NaN values in the crude price data](#2.4.1_Missing_Values_Crude_Pricing_Data)  \n",
    "  * [2.5 Categorical Features](#2.5_Categorial_Features)\n",
    "    * [2.5.1 WTI and Brent Categories](#2.5.1_WTI_and_Brent_Categories)\n",
    "    * [2.5.2 Crude Acquisition Cost Categories](#2.5.2_Refinery_Crude_Cost_Categories)\n",
    "    * [2.5.3 Petroleum Product Volume Categories](#2.5.3_Audit_Product_Volume_Categories)\n",
    "    * [2.5.4A US Refinery Profiles Categories](#2.5.4A_Refinery_Profiles_Categories)\n",
    "    * [2.5.4B US Refining Capacity Categories](#2.5.4B_Refinery_Capacity_Categories)\n",
    "    * [2.5.4C Refinery to City Distances by PAD](#2.5.4C_Refinery_to_City_Distances_by_PAD)\n",
    "    * [2.5.5 Crude API Categories](#2.5.5_Audit_Crude_API_Categories)\n",
    "    * [2.5.6A Population Data Categories](#2.5.6A_Population_Data_Categories)\n",
    "  * [2.6 Numeric Features](#2.6_Numeric_Features)\n",
    "    * [2.6.4B US Refining Capacities](#2.6.4B_Refinery_Capacities)\n",
    "  * [3. Review Distributions](#3_Review_Distributions)\n",
    "  * [4. Target Features](#4_Target_Features)\n",
    "  * [5. Saving_Data_and_Summary](#5_Saving_Data_and_Summary)"
   ]
  },
  {
   "cell_type": "markdown",
   "metadata": {},
   "source": [
    "## 1. Data Sourcing and Loading<a id='1_Data_Sourcing_and_Loading'></a>"
   ]
  },
  {
   "cell_type": "markdown",
   "metadata": {},
   "source": [
    "### 1.1 Importing Libraries<a id='1.1_Importing_Libraries_and_functions'></a>"
   ]
  },
  {
   "cell_type": "code",
   "execution_count": 1,
   "metadata": {},
   "outputs": [],
   "source": [
    "# importing pandas and numpy libraries, matplotlab functions\n",
    "import pandas as pd\n",
    "import numpy as np\n",
    "import matplotlib.pyplot as plt\n",
    "import os"
   ]
  },
  {
   "cell_type": "markdown",
   "metadata": {},
   "source": [
    "### 1.2 Loading Data<a id='1.2_Loading_Data'></a>\n",
    "Let's start loading up some data."
   ]
  },
  {
   "cell_type": "markdown",
   "metadata": {},
   "source": [
    "#### 1.2.1 Loading Crude Oil Pricing data<a id='1.2.1_Crude_Oil_Pricing'></a>\n",
    "* WTI and Brent price indicies for period 2013-2020\n",
    "\n",
    "Source: EIA.gov website"
   ]
  },
  {
   "cell_type": "code",
   "execution_count": 2,
   "metadata": {},
   "outputs": [],
   "source": [
    "# load the Excel file with the crude oil pricing - West Texas Intermediate (WTI):\n",
    "WTI = pd.read_excel('../data/121A_WTI_prices_2013_2020.xlsx', header=0)\n",
    "\n",
    "# load the Excel file with the crude oil pricing - Brent European (Brent):\n",
    "Brent = pd.read_excel('../data/121B_Brent_prices_2013_2020.xlsx', header=0)"
   ]
  },
  {
   "cell_type": "code",
   "execution_count": null,
   "metadata": {},
   "outputs": [],
   "source": [
    "WTI.info(), Brent.info()"
   ]
  },
  {
   "cell_type": "code",
   "execution_count": null,
   "metadata": {},
   "outputs": [],
   "source": [
    "WTI.head(), Brent.tail()"
   ]
  },
  {
   "cell_type": "markdown",
   "metadata": {},
   "source": [
    "#### 1.2.2 Loading Crude Acquisition Cost by Refineries Data for 2013-2020<a id='1.2.2_Crude_Acquisition_Cost'></a>\n",
    "Source: EIA.gov website"
   ]
  },
  {
   "cell_type": "code",
   "execution_count": 3,
   "metadata": {},
   "outputs": [],
   "source": [
    "# load Excel file with the crude oil acquisition costs by refineries - US Domesitc crude:\n",
    "crude_us = pd.read_excel('../data/122A_US_crude_acq_cost_2013_2020.xlsx', header=0)\n",
    "\n",
    "# load Excel file with the crude oil acquisition costs by refineries - Imported crude:\n",
    "crude_imported = pd.read_excel('../data/122B_Import_crude_acq_cost_2013_2020.xlsx', header=0)"
   ]
  },
  {
   "cell_type": "code",
   "execution_count": null,
   "metadata": {},
   "outputs": [],
   "source": [
    "crude_us.info(), crude_imported.info()"
   ]
  },
  {
   "cell_type": "markdown",
   "metadata": {},
   "source": [
    "#### 1.2.3 Loading Volumes by PAD for 2013-2020<a id='1.2.3_PAD_Product_Volumes'></a>"
   ]
  },
  {
   "cell_type": "markdown",
   "metadata": {},
   "source": [
    "The source Excel file contains 2013-2020 product pricing time serires, aggregated by 2 Level territorieal groups: 1 - US, 2 - PAD district; the groups are presented in 6 Excel worksheets:\n",
    "Sheet 1 is for US, Sheets 2-6 are for PAD-1 through PAD-5\n",
    "* Let's load them into 6 separate dataframes:"
   ]
  },
  {
   "cell_type": "code",
   "execution_count": 4,
   "metadata": {},
   "outputs": [],
   "source": [
    "# load Excel worksheet with Refinery Sale Prices for Refined Products at the US level:\n",
    "prod_US_raw = pd.read_excel('../data/123_Prod_Prices_by_PAD_Jan2013_Feb2021.xlsx', sheet_name='US', header=0)"
   ]
  },
  {
   "cell_type": "code",
   "execution_count": 5,
   "metadata": {},
   "outputs": [],
   "source": [
    "# load Excel file with Refinery Sale Prices for Refined Products by PAD-1:\n",
    "prod_PAD_1_raw = pd.read_excel('../data/123_Prod_Prices_by_PAD_Jan2013_Feb2021.xlsx', sheet_name='PAD-1', header=0)"
   ]
  },
  {
   "cell_type": "code",
   "execution_count": 6,
   "metadata": {},
   "outputs": [],
   "source": [
    "# load Excel file with Refinery Sale Prices for Refined Products by PAD-2:\n",
    "prod_PAD_2_raw = pd.read_excel('../data/123_Prod_Prices_by_PAD_Jan2013_Feb2021.xlsx', sheet_name='PAD-2', header=0)"
   ]
  },
  {
   "cell_type": "code",
   "execution_count": 7,
   "metadata": {},
   "outputs": [],
   "source": [
    "# load Excel file with Refinery Sale Prices for Refined Products by PAD-3:\n",
    "prod_PAD_3_raw = pd.read_excel('../data/123_Prod_Prices_by_PAD_Jan2013_Feb2021.xlsx', sheet_name='PAD-3', header=0)"
   ]
  },
  {
   "cell_type": "code",
   "execution_count": 8,
   "metadata": {},
   "outputs": [],
   "source": [
    "# load Excel file with Refinery Sale Prices for Refined Products by PAD-4:\n",
    "prod_PAD_4_raw = pd.read_excel('../data/123_Prod_Prices_by_PAD_Jan2013_Feb2021.xlsx', sheet_name='PAD-4', header=0)"
   ]
  },
  {
   "cell_type": "code",
   "execution_count": 9,
   "metadata": {},
   "outputs": [],
   "source": [
    "# load Excel file with Refinery Sale Prices for Refined Products by PAD-5:\n",
    "prod_PAD_5_raw = pd.read_excel('../data/123_Prod_Prices_by_PAD_Jan2013_Feb2021.xlsx', sheet_name='PAD-5', header=0)"
   ]
  },
  {
   "cell_type": "markdown",
   "metadata": {},
   "source": [
    "#### 1.2.4 Loading Refinery_Details<a id='1.2.4_Refineries_Details'></a>"
   ]
  },
  {
   "cell_type": "code",
   "execution_count": 117,
   "metadata": {},
   "outputs": [],
   "source": [
    "# Load a List of U.S. Refineries by Capacities, Location, and PAD\n",
    "Refineries_List = pd.read_excel('../data/124A_Refineries_List.xlsx', header=0)"
   ]
  },
  {
   "cell_type": "code",
   "execution_count": 118,
   "metadata": {},
   "outputs": [],
   "source": [
    "# Load Refinery Processing Capacities by Type and PAD as of 2020\n",
    "Refinery_Cap_ByType = pd.read_excel('../data/124B_Refinery_Cap_ByTypes_ByPAD_2020.xlsx', header=0)"
   ]
  },
  {
   "cell_type": "code",
   "execution_count": 123,
   "metadata": {},
   "outputs": [],
   "source": [
    "# Load Data on distances between Refineries and cities with > 300K in population:\n",
    "Refinery_City300K_Distances = pd.read_excel('../data/124C_Refinery_MajorCity_Distance.xlsx', header=0)"
   ]
  },
  {
   "cell_type": "markdown",
   "metadata": {},
   "source": [
    "#### 1.2.5 Loading Crude_API_by_PAD<a id='1.2.5_PAD_Crude_API'></a>"
   ]
  },
  {
   "cell_type": "code",
   "execution_count": 41,
   "metadata": {},
   "outputs": [],
   "source": [
    "# Load data on Crude API by PADs\n",
    "API_by_PAD_raw = pd.read_excel('../data/125_Crude_API_by_PAD_Jan2013_Nov2020.xlsx', header=0)"
   ]
  },
  {
   "cell_type": "code",
   "execution_count": 43,
   "metadata": {},
   "outputs": [
    {
     "data": {
      "text/html": [
       "<div>\n",
       "<style scoped>\n",
       "    .dataframe tbody tr th:only-of-type {\n",
       "        vertical-align: middle;\n",
       "    }\n",
       "\n",
       "    .dataframe tbody tr th {\n",
       "        vertical-align: top;\n",
       "    }\n",
       "\n",
       "    .dataframe thead th {\n",
       "        text-align: right;\n",
       "    }\n",
       "</style>\n",
       "<table border=\"1\" class=\"dataframe\">\n",
       "  <thead>\n",
       "    <tr style=\"text-align: right;\">\n",
       "      <th></th>\n",
       "      <th>Date</th>\n",
       "      <th>U.S. API Gravity (Weighted Average) of Crude Oil Input to Refineries (Degrees)</th>\n",
       "      <th>East Coast (PADD 1) API Gravity (Weighted Average) of Crude Oil Input to Refineries (Degrees)</th>\n",
       "      <th>East Coast Refinery District API Gravity (Weighted Average) of Crude Oil Input to Refineries (Degrees)</th>\n",
       "      <th>Appalachian No. 1 Refinery District API Gravity (Weighted Average) of Crude Oil Input to Refineries (Degrees)</th>\n",
       "      <th>Midwest (PADD 2) API Gravity (Weighted Average) of Crude Oil Input to Refineries (Degrees)</th>\n",
       "      <th>Indiana, Illinois, Kentucky Refinery District API Gravity (Weighted Average) of Crude Oil Input to Refineries (Degrees)</th>\n",
       "      <th>Minnesota, Wisconsin, North and South Dakota Refinery District API Gravity (Weighted Average) of Crude Oil Input to Refineries (Degrees)</th>\n",
       "      <th>Oklahoma, Kansas, Missouri Refinery District API Gravity (Weighted Average) of Crude Oil Input to Refineries (Degrees)</th>\n",
       "      <th>Gulf Coast (PADD 3) API Gravity (Weighted Average) of Crude Oil Input to Refineries (Degrees)</th>\n",
       "      <th>Texas Inland Refinery District API Gravity (Weighted Average) of Crude Oil Input to Refineries (Degrees)</th>\n",
       "      <th>Texas Gulf Coast Refinery District API Gravity (Weighted Average) of Crude Oil Input to Refineries (Degrees)</th>\n",
       "      <th>Louisiana Gulf Coast Refinery District API Gravity (Weighted Average) of Crude Oil Input to Refineries (Degrees)</th>\n",
       "      <th>North Louisiana, Arkansas Refinery District API Gravity (Weighted Average) of Crude Oil Input to Refineries (Degrees)</th>\n",
       "      <th>New Mexico Refinery District API Gravity (Weighted Average) of Crude Oil Input to Refineries (Degrees)</th>\n",
       "      <th>Rocky Mountains (PADD 4) API Gravity (Weighted Average) of Crude Oil Input to Refineries (Degrees)</th>\n",
       "      <th>West Coast (PADD 5) API Gravity (Weighted Average) of Crude Oil Input to Refineries (Degrees)</th>\n",
       "    </tr>\n",
       "  </thead>\n",
       "  <tbody>\n",
       "    <tr>\n",
       "      <th>0</th>\n",
       "      <td>Date</td>\n",
       "      <td>USA</td>\n",
       "      <td>PAD-1</td>\n",
       "      <td>PAD-1-1</td>\n",
       "      <td>PAD-1-2</td>\n",
       "      <td>PAD-2</td>\n",
       "      <td>PAD-2-1</td>\n",
       "      <td>PAD-2-2</td>\n",
       "      <td>PAD-2-3</td>\n",
       "      <td>PAD-3</td>\n",
       "      <td>PAD-3-1</td>\n",
       "      <td>PAD-3-2</td>\n",
       "      <td>PAD-3-3</td>\n",
       "      <td>PAD-3-4</td>\n",
       "      <td>PAD-3-5</td>\n",
       "      <td>PAD-4</td>\n",
       "      <td>PAD-5</td>\n",
       "    </tr>\n",
       "    <tr>\n",
       "      <th>1</th>\n",
       "      <td>2013-01-15 00:00:00</td>\n",
       "      <td>30.75</td>\n",
       "      <td>33.99</td>\n",
       "      <td>34.21</td>\n",
       "      <td>31.62</td>\n",
       "      <td>32.79</td>\n",
       "      <td>32.31</td>\n",
       "      <td>28.68</td>\n",
       "      <td>36.58</td>\n",
       "      <td>30.33</td>\n",
       "      <td>36.65</td>\n",
       "      <td>29.34</td>\n",
       "      <td>29.88</td>\n",
       "      <td>30.69</td>\n",
       "      <td>39.13</td>\n",
       "      <td>32.7</td>\n",
       "      <td>27.24</td>\n",
       "    </tr>\n",
       "    <tr>\n",
       "      <th>2</th>\n",
       "      <td>2013-02-15 00:00:00</td>\n",
       "      <td>30.58</td>\n",
       "      <td>33.07</td>\n",
       "      <td>33.22</td>\n",
       "      <td>31.79</td>\n",
       "      <td>32.5</td>\n",
       "      <td>31.79</td>\n",
       "      <td>28.63</td>\n",
       "      <td>37.01</td>\n",
       "      <td>30.46</td>\n",
       "      <td>35.23</td>\n",
       "      <td>29.44</td>\n",
       "      <td>30.45</td>\n",
       "      <td>31.6</td>\n",
       "      <td>39.25</td>\n",
       "      <td>33.19</td>\n",
       "      <td>26.7</td>\n",
       "    </tr>\n",
       "  </tbody>\n",
       "</table>\n",
       "</div>"
      ],
      "text/plain": [
       "                  Date  \\\n",
       "0                 Date   \n",
       "1  2013-01-15 00:00:00   \n",
       "2  2013-02-15 00:00:00   \n",
       "\n",
       "  U.S. API Gravity (Weighted Average) of Crude Oil Input to Refineries (Degrees)  \\\n",
       "0                                                USA                               \n",
       "1                                              30.75                               \n",
       "2                                              30.58                               \n",
       "\n",
       "  East Coast (PADD 1) API Gravity (Weighted Average) of Crude Oil Input to Refineries (Degrees)   \\\n",
       "0                                              PAD-1                                               \n",
       "1                                              33.99                                               \n",
       "2                                              33.07                                               \n",
       "\n",
       "  East Coast Refinery District API Gravity (Weighted Average) of Crude Oil Input to Refineries (Degrees)  \\\n",
       "0                                            PAD-1-1                                                       \n",
       "1                                              34.21                                                       \n",
       "2                                              33.22                                                       \n",
       "\n",
       "  Appalachian No. 1 Refinery District API Gravity (Weighted Average) of Crude Oil Input to Refineries (Degrees)  \\\n",
       "0                                            PAD-1-2                                                              \n",
       "1                                              31.62                                                              \n",
       "2                                              31.79                                                              \n",
       "\n",
       "  Midwest (PADD 2) API Gravity (Weighted Average) of Crude Oil Input to Refineries (Degrees)  \\\n",
       "0                                              PAD-2                                           \n",
       "1                                              32.79                                           \n",
       "2                                               32.5                                           \n",
       "\n",
       "  Indiana, Illinois, Kentucky Refinery District API Gravity (Weighted Average) of Crude Oil Input to Refineries (Degrees)  \\\n",
       "0                                            PAD-2-1                                                                        \n",
       "1                                              32.31                                                                        \n",
       "2                                              31.79                                                                        \n",
       "\n",
       "  Minnesota, Wisconsin, North and South Dakota Refinery District API Gravity (Weighted Average) of Crude Oil Input to Refineries (Degrees)  \\\n",
       "0                                            PAD-2-2                                                                                         \n",
       "1                                              28.68                                                                                         \n",
       "2                                              28.63                                                                                         \n",
       "\n",
       "  Oklahoma, Kansas, Missouri Refinery District API Gravity (Weighted Average) of Crude Oil Input to Refineries (Degrees)  \\\n",
       "0                                            PAD-2-3                                                                       \n",
       "1                                              36.58                                                                       \n",
       "2                                              37.01                                                                       \n",
       "\n",
       "  Gulf Coast (PADD 3) API Gravity (Weighted Average) of Crude Oil Input to Refineries (Degrees)  \\\n",
       "0                                              PAD-3                                              \n",
       "1                                              30.33                                              \n",
       "2                                              30.46                                              \n",
       "\n",
       "  Texas Inland Refinery District API Gravity (Weighted Average) of Crude Oil Input to Refineries (Degrees)  \\\n",
       "0                                            PAD-3-1                                                         \n",
       "1                                              36.65                                                         \n",
       "2                                              35.23                                                         \n",
       "\n",
       "  Texas Gulf Coast Refinery District API Gravity (Weighted Average) of Crude Oil Input to Refineries (Degrees)  \\\n",
       "0                                            PAD-3-2                                                             \n",
       "1                                              29.34                                                             \n",
       "2                                              29.44                                                             \n",
       "\n",
       "  Louisiana Gulf Coast Refinery District API Gravity (Weighted Average) of Crude Oil Input to Refineries (Degrees)  \\\n",
       "0                                            PAD-3-3                                                                 \n",
       "1                                              29.88                                                                 \n",
       "2                                              30.45                                                                 \n",
       "\n",
       "  North Louisiana, Arkansas Refinery District API Gravity (Weighted Average) of Crude Oil Input to Refineries (Degrees)  \\\n",
       "0                                            PAD-3-4                                                                      \n",
       "1                                              30.69                                                                      \n",
       "2                                               31.6                                                                      \n",
       "\n",
       "  New Mexico Refinery District API Gravity (Weighted Average) of Crude Oil Input to Refineries (Degrees)  \\\n",
       "0                                            PAD-3-5                                                       \n",
       "1                                              39.13                                                       \n",
       "2                                              39.25                                                       \n",
       "\n",
       "  Rocky Mountains (PADD 4) API Gravity (Weighted Average) of Crude Oil Input to Refineries (Degrees)  \\\n",
       "0                                              PAD-4                                                   \n",
       "1                                               32.7                                                   \n",
       "2                                              33.19                                                   \n",
       "\n",
       "  West Coast (PADD 5) API Gravity (Weighted Average) of Crude Oil Input to Refineries (Degrees)  \n",
       "0                                              PAD-5                                             \n",
       "1                                              27.24                                             \n",
       "2                                               26.7                                             "
      ]
     },
     "execution_count": 43,
     "metadata": {},
     "output_type": "execute_result"
    }
   ],
   "source": [
    "API_by_PAD_raw.head(3)"
   ]
  },
  {
   "cell_type": "markdown",
   "metadata": {},
   "source": [
    "#### 1.2.6 Loading US_Census_Data<a id='1.2.6_US_Census_Data'></a>"
   ]
  },
  {
   "cell_type": "code",
   "execution_count": 106,
   "metadata": {},
   "outputs": [],
   "source": [
    "# Load Excel file with US Cities ranked by population for period Apr 2010-Jul 2019:\n",
    "Pop_by_Cities_raw = pd.read_excel('../data/126A_Population_by_City_Apr_2010_Jul_2019.xlsx', header=0)"
   ]
  },
  {
   "cell_type": "code",
   "execution_count": 17,
   "metadata": {},
   "outputs": [],
   "source": [
    "# Get population by state table from the URL below\n",
    "states_url = 'https://simple.wikipedia.org/w/index.php?title=List_of_U.S._states&oldid=7168473'\n",
    "usa_states = pd.read_html(states_url)"
   ]
  },
  {
   "cell_type": "markdown",
   "metadata": {},
   "source": [
    "## 2. Data Exploring<a id='2_Data_Exploring'></a>"
   ]
  },
  {
   "cell_type": "markdown",
   "metadata": {},
   "source": [
    "### 2.1 Auditing Data <a id='2.1_Audintg_Data'></a>"
   ]
  },
  {
   "cell_type": "markdown",
   "metadata": {},
   "source": [
    "#### 2.1.1 Auditing WTI and Brent Price Index Data <a id='2.1.1_Audit_WTI_and_Brent_Data'></a>"
   ]
  },
  {
   "cell_type": "markdown",
   "metadata": {},
   "source": [
    "##### Verify that the 'Date' columns in both the WTI and Brent dataframes match:"
   ]
  },
  {
   "cell_type": "code",
   "execution_count": 18,
   "metadata": {},
   "outputs": [
    {
     "data": {
      "text/plain": [
       "True    96\n",
       "Name: Date, dtype: int64"
      ]
     },
     "execution_count": 18,
     "metadata": {},
     "output_type": "execute_result"
    }
   ],
   "source": [
    "WTI['Date'].isin(Brent['Date']).value_counts()"
   ]
  },
  {
   "cell_type": "markdown",
   "metadata": {},
   "source": [
    "* There are 96 non-NULL records in both files; merge them into one dataframe"
   ]
  },
  {
   "cell_type": "markdown",
   "metadata": {},
   "source": [
    "#### 2.1.2 Auditing Crude Acquisition Cost Data <a id='2.1.2_Audit_Refinery_Crude_Cost_Data'></a>"
   ]
  },
  {
   "cell_type": "markdown",
   "metadata": {},
   "source": [
    "##### Verify that the 'Date' columns in both the Domestic Crude and Imported Crude dataframes match:"
   ]
  },
  {
   "cell_type": "code",
   "execution_count": 19,
   "metadata": {
    "scrolled": true
   },
   "outputs": [
    {
     "data": {
      "text/plain": [
       "True    96\n",
       "Name: Date, dtype: int64"
      ]
     },
     "execution_count": 19,
     "metadata": {},
     "output_type": "execute_result"
    }
   ],
   "source": [
    "crude_us['Date'].isin(crude_imported['Date']).value_counts()"
   ]
  },
  {
   "cell_type": "markdown",
   "metadata": {},
   "source": [
    "* Merge Domestic and Imported Crude data into one data frame on the 'Date' column"
   ]
  },
  {
   "cell_type": "markdown",
   "metadata": {},
   "source": [
    "#### 2.1.3 Audit Petroleum Product Pricing Data<a id='2.1.3_Audit_Product_Pricing_Data'></a>"
   ]
  },
  {
   "cell_type": "code",
   "execution_count": null,
   "metadata": {
    "scrolled": true
   },
   "outputs": [],
   "source": [
    "prod_US_raw.head()"
   ]
  },
  {
   "cell_type": "code",
   "execution_count": null,
   "metadata": {},
   "outputs": [],
   "source": [
    "prod_US_raw.describe()"
   ]
  },
  {
   "cell_type": "markdown",
   "metadata": {},
   "source": [
    "#### 2.1.4A Audit U.S. Refinery Profiles Data<a id='2.1.4A_Audit_Refinery_ProfilesData'></a>"
   ]
  },
  {
   "cell_type": "code",
   "execution_count": null,
   "metadata": {
    "scrolled": true
   },
   "outputs": [],
   "source": [
    "# We will start with the List of U.S. Refineries\n",
    "Refineries_List.info()"
   ]
  },
  {
   "cell_type": "markdown",
   "metadata": {},
   "source": [
    "* No missing values, 'Status' represents whether refinery is operating or closed, capacity is numeric data"
   ]
  },
  {
   "cell_type": "code",
   "execution_count": null,
   "metadata": {},
   "outputs": [],
   "source": [
    "Refineries_List.head().T"
   ]
  },
  {
   "cell_type": "markdown",
   "metadata": {},
   "source": [
    "* The Refinery List data looks good - it's categorized by PAD code and includes operating capacities"
   ]
  },
  {
   "cell_type": "markdown",
   "metadata": {},
   "source": [
    "#### 2.1.4B Audit US Refining Capacities by Process Types and PAD districts<a id='2.1.4B_Audit_Refinery_Capacity_Data'></a>"
   ]
  },
  {
   "cell_type": "code",
   "execution_count": 120,
   "metadata": {
    "scrolled": false
   },
   "outputs": [
    {
     "name": "stdout",
     "output_type": "stream",
     "text": [
      "<class 'pandas.core.frame.DataFrame'>\n",
      "RangeIndex: 460 entries, 0 to 459\n",
      "Data columns (total 13 columns):\n",
      " #   Column         Non-Null Count  Dtype         \n",
      "---  ------         --------------  -----         \n",
      " 0   Rec_ID         460 non-null    int64         \n",
      " 1   ID             460 non-null    object        \n",
      " 2   Description    460 non-null    object        \n",
      " 3   Type_Code      460 non-null    object        \n",
      " 4   US             460 non-null    object        \n",
      " 5   PADD           460 non-null    object        \n",
      " 6   State          460 non-null    object        \n",
      " 7   Date           460 non-null    datetime64[ns]\n",
      " 8   Year           460 non-null    int64         \n",
      " 9   Op_Cap_BPSD    414 non-null    float64       \n",
      " 10  Idle_Cap_BPSD  46 non-null     float64       \n",
      " 11  Cap_BPSD       46 non-null     float64       \n",
      " 12  Cap_BPCD       230 non-null    float64       \n",
      "dtypes: datetime64[ns](1), float64(4), int64(2), object(6)\n",
      "memory usage: 46.8+ KB\n"
     ]
    }
   ],
   "source": [
    "# Next, let's look at the process types and capacities of the U.S. refineries, grouped by PAD\n",
    "Refinery_Cap_ByType.info()"
   ]
  },
  {
   "cell_type": "markdown",
   "metadata": {},
   "source": [
    "There are more categorical data rows than the numeric ones. Let's further investigate"
   ]
  },
  {
   "cell_type": "code",
   "execution_count": 121,
   "metadata": {},
   "outputs": [
    {
     "data": {
      "text/plain": [
       "1104"
      ]
     },
     "execution_count": 121,
     "metadata": {},
     "output_type": "execute_result"
    }
   ],
   "source": [
    "np.count_nonzero(Refinery_Cap_ByType.isna())"
   ]
  },
  {
   "cell_type": "markdown",
   "metadata": {},
   "source": [
    "* There are a lot of null values"
   ]
  },
  {
   "cell_type": "code",
   "execution_count": 122,
   "metadata": {
    "scrolled": true
   },
   "outputs": [
    {
     "data": {
      "text/html": [
       "<div>\n",
       "<style scoped>\n",
       "    .dataframe tbody tr th:only-of-type {\n",
       "        vertical-align: middle;\n",
       "    }\n",
       "\n",
       "    .dataframe tbody tr th {\n",
       "        vertical-align: top;\n",
       "    }\n",
       "\n",
       "    .dataframe thead th {\n",
       "        text-align: right;\n",
       "    }\n",
       "</style>\n",
       "<table border=\"1\" class=\"dataframe\">\n",
       "  <thead>\n",
       "    <tr style=\"text-align: right;\">\n",
       "      <th></th>\n",
       "      <th>0</th>\n",
       "      <th>1</th>\n",
       "      <th>2</th>\n",
       "      <th>3</th>\n",
       "      <th>4</th>\n",
       "    </tr>\n",
       "  </thead>\n",
       "  <tbody>\n",
       "    <tr>\n",
       "      <th>Rec_ID</th>\n",
       "      <td>1</td>\n",
       "      <td>2</td>\n",
       "      <td>3</td>\n",
       "      <td>4</td>\n",
       "      <td>5</td>\n",
       "    </tr>\n",
       "    <tr>\n",
       "      <th>ID</th>\n",
       "      <td>ATMDIST-0001</td>\n",
       "      <td>ATMDIST-0002</td>\n",
       "      <td>ATMDIST-0003</td>\n",
       "      <td>ATMDIST-0004</td>\n",
       "      <td>ATMDIST-0005</td>\n",
       "    </tr>\n",
       "    <tr>\n",
       "      <th>Description</th>\n",
       "      <td>Annual Operable Atmospheric Crude Oil Distilla...</td>\n",
       "      <td>Annual Operable Atmospheric Crude Oil Distilla...</td>\n",
       "      <td>Annual Operable Atmospheric Crude Oil Distilla...</td>\n",
       "      <td>Annual Operable Atmospheric Crude Oil Distilla...</td>\n",
       "      <td>Annual Operable Atmospheric Crude Oil Distilla...</td>\n",
       "    </tr>\n",
       "    <tr>\n",
       "      <th>Type_Code</th>\n",
       "      <td>ATMDIST</td>\n",
       "      <td>ATMDIST</td>\n",
       "      <td>ATMDIST</td>\n",
       "      <td>ATMDIST</td>\n",
       "      <td>ATMDIST</td>\n",
       "    </tr>\n",
       "    <tr>\n",
       "      <th>US</th>\n",
       "      <td>US</td>\n",
       "      <td>US</td>\n",
       "      <td>US</td>\n",
       "      <td>US</td>\n",
       "      <td>US</td>\n",
       "    </tr>\n",
       "    <tr>\n",
       "      <th>PADD</th>\n",
       "      <td>US</td>\n",
       "      <td>PAD-1</td>\n",
       "      <td>PAD-1</td>\n",
       "      <td>PAD-1</td>\n",
       "      <td>PAD-1</td>\n",
       "    </tr>\n",
       "    <tr>\n",
       "      <th>State</th>\n",
       "      <td>US</td>\n",
       "      <td>PAD-1</td>\n",
       "      <td>Delaware</td>\n",
       "      <td>Florida</td>\n",
       "      <td>Georgia</td>\n",
       "    </tr>\n",
       "    <tr>\n",
       "      <th>Date</th>\n",
       "      <td>2020-06-30 00:00:00</td>\n",
       "      <td>2020-06-30 00:00:00</td>\n",
       "      <td>2020-06-30 00:00:00</td>\n",
       "      <td>2020-06-30 00:00:00</td>\n",
       "      <td>2020-06-30 00:00:00</td>\n",
       "    </tr>\n",
       "    <tr>\n",
       "      <th>Year</th>\n",
       "      <td>2020</td>\n",
       "      <td>2020</td>\n",
       "      <td>2020</td>\n",
       "      <td>2020</td>\n",
       "      <td>2020</td>\n",
       "    </tr>\n",
       "    <tr>\n",
       "      <th>Op_Cap_BPSD</th>\n",
       "      <td>1.96342e+07</td>\n",
       "      <td>941100</td>\n",
       "      <td>190200</td>\n",
       "      <td>0</td>\n",
       "      <td>0</td>\n",
       "    </tr>\n",
       "    <tr>\n",
       "      <th>Idle_Cap_BPSD</th>\n",
       "      <td>458000</td>\n",
       "      <td>350000</td>\n",
       "      <td>0</td>\n",
       "      <td>0</td>\n",
       "      <td>0</td>\n",
       "    </tr>\n",
       "    <tr>\n",
       "      <th>Cap_BPSD</th>\n",
       "      <td>2.00922e+07</td>\n",
       "      <td>1.2911e+06</td>\n",
       "      <td>190200</td>\n",
       "      <td>0</td>\n",
       "      <td>0</td>\n",
       "    </tr>\n",
       "    <tr>\n",
       "      <th>Cap_BPCD</th>\n",
       "      <td>1.89761e+07</td>\n",
       "      <td>1.224e+06</td>\n",
       "      <td>182200</td>\n",
       "      <td>0</td>\n",
       "      <td>0</td>\n",
       "    </tr>\n",
       "  </tbody>\n",
       "</table>\n",
       "</div>"
      ],
      "text/plain": [
       "                                                               0  \\\n",
       "Rec_ID                                                         1   \n",
       "ID                                                  ATMDIST-0001   \n",
       "Description    Annual Operable Atmospheric Crude Oil Distilla...   \n",
       "Type_Code                                                ATMDIST   \n",
       "US                                                            US   \n",
       "PADD                                                          US   \n",
       "State                                                         US   \n",
       "Date                                         2020-06-30 00:00:00   \n",
       "Year                                                        2020   \n",
       "Op_Cap_BPSD                                          1.96342e+07   \n",
       "Idle_Cap_BPSD                                             458000   \n",
       "Cap_BPSD                                             2.00922e+07   \n",
       "Cap_BPCD                                             1.89761e+07   \n",
       "\n",
       "                                                               1  \\\n",
       "Rec_ID                                                         2   \n",
       "ID                                                  ATMDIST-0002   \n",
       "Description    Annual Operable Atmospheric Crude Oil Distilla...   \n",
       "Type_Code                                                ATMDIST   \n",
       "US                                                            US   \n",
       "PADD                                                       PAD-1   \n",
       "State                                                      PAD-1   \n",
       "Date                                         2020-06-30 00:00:00   \n",
       "Year                                                        2020   \n",
       "Op_Cap_BPSD                                               941100   \n",
       "Idle_Cap_BPSD                                             350000   \n",
       "Cap_BPSD                                              1.2911e+06   \n",
       "Cap_BPCD                                               1.224e+06   \n",
       "\n",
       "                                                               2  \\\n",
       "Rec_ID                                                         3   \n",
       "ID                                                  ATMDIST-0003   \n",
       "Description    Annual Operable Atmospheric Crude Oil Distilla...   \n",
       "Type_Code                                                ATMDIST   \n",
       "US                                                            US   \n",
       "PADD                                                       PAD-1   \n",
       "State                                                   Delaware   \n",
       "Date                                         2020-06-30 00:00:00   \n",
       "Year                                                        2020   \n",
       "Op_Cap_BPSD                                               190200   \n",
       "Idle_Cap_BPSD                                                  0   \n",
       "Cap_BPSD                                                  190200   \n",
       "Cap_BPCD                                                  182200   \n",
       "\n",
       "                                                               3  \\\n",
       "Rec_ID                                                         4   \n",
       "ID                                                  ATMDIST-0004   \n",
       "Description    Annual Operable Atmospheric Crude Oil Distilla...   \n",
       "Type_Code                                                ATMDIST   \n",
       "US                                                            US   \n",
       "PADD                                                       PAD-1   \n",
       "State                                                    Florida   \n",
       "Date                                         2020-06-30 00:00:00   \n",
       "Year                                                        2020   \n",
       "Op_Cap_BPSD                                                    0   \n",
       "Idle_Cap_BPSD                                                  0   \n",
       "Cap_BPSD                                                       0   \n",
       "Cap_BPCD                                                       0   \n",
       "\n",
       "                                                               4  \n",
       "Rec_ID                                                         5  \n",
       "ID                                                  ATMDIST-0005  \n",
       "Description    Annual Operable Atmospheric Crude Oil Distilla...  \n",
       "Type_Code                                                ATMDIST  \n",
       "US                                                            US  \n",
       "PADD                                                       PAD-1  \n",
       "State                                                    Georgia  \n",
       "Date                                         2020-06-30 00:00:00  \n",
       "Year                                                        2020  \n",
       "Op_Cap_BPSD                                                    0  \n",
       "Idle_Cap_BPSD                                                  0  \n",
       "Cap_BPSD                                                       0  \n",
       "Cap_BPCD                                                       0  "
      ]
     },
     "execution_count": 122,
     "metadata": {},
     "output_type": "execute_result"
    }
   ],
   "source": [
    "Refinery_Cap_ByType.head().T"
   ]
  },
  {
   "cell_type": "markdown",
   "metadata": {},
   "source": [
    "##### The data is aggregated by Country (US), PAD district, and state:\n",
    "* we will have to separate the numeric data by corresponding categories as needed"
   ]
  },
  {
   "cell_type": "code",
   "execution_count": 21,
   "metadata": {},
   "outputs": [
    {
     "data": {
      "text/plain": [
       "CATHYDTRMT      46\n",
       "VACMDIST        46\n",
       "CATLYTCRCK      46\n",
       "COKING          46\n",
       "CATCRKRECYL     46\n",
       "CATHYDRCRCK     46\n",
       "ATMDIST         46\n",
       "THERMCRCK       46\n",
       "CATLREFORM      46\n",
       "FUELSOLDEASP    46\n",
       "Name: Type_Code, dtype: int64"
      ]
     },
     "execution_count": 21,
     "metadata": {},
     "output_type": "execute_result"
    }
   ],
   "source": [
    "Refinery_Cap_ByType[\"Type_Code\"].value_counts()"
   ]
  },
  {
   "cell_type": "code",
   "execution_count": null,
   "metadata": {},
   "outputs": [],
   "source": [
    "Refinery_Cap_ByType[\"US\"].value_counts()"
   ]
  },
  {
   "cell_type": "code",
   "execution_count": null,
   "metadata": {},
   "outputs": [],
   "source": [
    "Refinery_Cap_ByType[\"PADD\"].value_counts()"
   ]
  },
  {
   "cell_type": "code",
   "execution_count": null,
   "metadata": {},
   "outputs": [],
   "source": [
    "np.count_nonzero(Refinery_Cap_ByType[\"PADD\"].value_counts())"
   ]
  },
  {
   "cell_type": "code",
   "execution_count": null,
   "metadata": {},
   "outputs": [],
   "source": [
    "np.count_nonzero(Refinery_Cap_ByType[\"State\"].value_counts())"
   ]
  },
  {
   "cell_type": "markdown",
   "metadata": {},
   "source": [
    "* we find that the table includes 10 process types (will use it as one of data categories)\n",
    "* each row is represented by 46 location categories: 5 'PADD' and 41 'State' columns\n",
    "* our interest in numeric data is Operating capacities, presented in 'BPSD' units - it seems that for some process types some data is missing, so we will need to replace it with data deriving from the 'BPCD' alternatives (BPSD - \"barrels per streaming day\", BPCD = \"barrels per calendar day\""
   ]
  },
  {
   "cell_type": "markdown",
   "metadata": {},
   "source": [
    "#### 2.1.4C Audit US Distance from US Refineries to cities with population > 300K<a id='2.1.4C_Audit_Refinery_to_Cities_Distances_Data'></a>"
   ]
  },
  {
   "cell_type": "code",
   "execution_count": 124,
   "metadata": {},
   "outputs": [
    {
     "data": {
      "text/plain": [
       "(135, 137)"
      ]
     },
     "execution_count": 124,
     "metadata": {},
     "output_type": "execute_result"
    }
   ],
   "source": [
    "Refinery_City300K_Distances.shape"
   ]
  },
  {
   "cell_type": "markdown",
   "metadata": {},
   "source": [
    "* This table was composed using the list of U.S. refineries from EIA.gov\n",
    "  and cities with population > 300K, sourced from  the U.S. Census website;\n",
    "  However, when by calculating distances between the two, using Google APIs, we\n",
    "  hit the daily quota of 'free inquiries' and the table is left incomplete - it would take weeks to complete\n",
    "  further calculations at this rate. Thus, unless we find another way, we will limit the number\n",
    "  of cross-references from 66 cities (per 132 refineries) to a lower count, or higher population criteria"
   ]
  },
  {
   "cell_type": "code",
   "execution_count": 125,
   "metadata": {
    "scrolled": true
   },
   "outputs": [
    {
     "data": {
      "text/html": [
       "<div>\n",
       "<style scoped>\n",
       "    .dataframe tbody tr th:only-of-type {\n",
       "        vertical-align: middle;\n",
       "    }\n",
       "\n",
       "    .dataframe tbody tr th {\n",
       "        vertical-align: top;\n",
       "    }\n",
       "\n",
       "    .dataframe thead th {\n",
       "        text-align: right;\n",
       "    }\n",
       "</style>\n",
       "<table border=\"1\" class=\"dataframe\">\n",
       "  <thead>\n",
       "    <tr style=\"text-align: right;\">\n",
       "      <th></th>\n",
       "      <th>Refi_ID</th>\n",
       "      <th>Refinery_City</th>\n",
       "      <th>Major City</th>\n",
       "      <th>New York, New York</th>\n",
       "      <th>New York, New York Distance</th>\n",
       "      <th>Los Angeles, California</th>\n",
       "      <th>Los Angeles, California Distance</th>\n",
       "      <th>Chicago, Illinois</th>\n",
       "      <th>Chicago, Illinois Distance</th>\n",
       "      <th>Houston, Texas</th>\n",
       "      <th>...</th>\n",
       "      <th>Stockton, California</th>\n",
       "      <th>Stockton, California.1</th>\n",
       "      <th>Saint Paul, Minnesota</th>\n",
       "      <th>Saint Paul, Minnesota.1</th>\n",
       "      <th>Cincinnati, Ohio</th>\n",
       "      <th>Cincinnati, Ohio.1</th>\n",
       "      <th>St. Louis, Missouri</th>\n",
       "      <th>St. Louis, Missouri.1</th>\n",
       "      <th>Pittsburgh, Pennsylvania</th>\n",
       "      <th>Pittsburgh, Pennsylvania.1</th>\n",
       "    </tr>\n",
       "  </thead>\n",
       "  <tbody>\n",
       "    <tr>\n",
       "      <th>0</th>\n",
       "      <td>1.0</td>\n",
       "      <td>Saraland, Alabama</td>\n",
       "      <td>New York, New York</td>\n",
       "      <td>New York, New York</td>\n",
       "      <td>1,181 mi</td>\n",
       "      <td>Los Angeles, California</td>\n",
       "      <td>2,021 mi</td>\n",
       "      <td>Chicago, Illinois</td>\n",
       "      <td>906 mi</td>\n",
       "      <td>Houston, Texas</td>\n",
       "      <td>...</td>\n",
       "      <td>Stockton, California</td>\n",
       "      <td>NaN</td>\n",
       "      <td>Saint Paul, Minnesota</td>\n",
       "      <td>NaN</td>\n",
       "      <td>Cincinnati, Ohio</td>\n",
       "      <td>NaN</td>\n",
       "      <td>St. Louis, Missouri</td>\n",
       "      <td>NaN</td>\n",
       "      <td>Pittsburgh, Pennsylvania</td>\n",
       "      <td>NaN</td>\n",
       "    </tr>\n",
       "    <tr>\n",
       "      <th>1</th>\n",
       "      <td>2.0</td>\n",
       "      <td>Tuscaloosa, Alabama</td>\n",
       "      <td>Los Angeles, California</td>\n",
       "      <td>New York, New York</td>\n",
       "      <td>1,020 mi</td>\n",
       "      <td>Los Angeles, California</td>\n",
       "      <td>2,021 mi</td>\n",
       "      <td>Chicago, Illinois</td>\n",
       "      <td>716 mi</td>\n",
       "      <td>Houston, Texas</td>\n",
       "      <td>...</td>\n",
       "      <td>Stockton, California</td>\n",
       "      <td>NaN</td>\n",
       "      <td>Saint Paul, Minnesota</td>\n",
       "      <td>NaN</td>\n",
       "      <td>Cincinnati, Ohio</td>\n",
       "      <td>NaN</td>\n",
       "      <td>St. Louis, Missouri</td>\n",
       "      <td>NaN</td>\n",
       "      <td>Pittsburgh, Pennsylvania</td>\n",
       "      <td>NaN</td>\n",
       "    </tr>\n",
       "    <tr>\n",
       "      <th>2</th>\n",
       "      <td>3.0</td>\n",
       "      <td>Atmore, Alabama</td>\n",
       "      <td>Chicago, Illinois</td>\n",
       "      <td>New York, New York</td>\n",
       "      <td>1,143 mi</td>\n",
       "      <td>Los Angeles, California</td>\n",
       "      <td>2,061 mi</td>\n",
       "      <td>Chicago, Illinois</td>\n",
       "      <td>869 mi</td>\n",
       "      <td>Houston, Texas</td>\n",
       "      <td>...</td>\n",
       "      <td>Stockton, California</td>\n",
       "      <td>NaN</td>\n",
       "      <td>Saint Paul, Minnesota</td>\n",
       "      <td>NaN</td>\n",
       "      <td>Cincinnati, Ohio</td>\n",
       "      <td>NaN</td>\n",
       "      <td>St. Louis, Missouri</td>\n",
       "      <td>NaN</td>\n",
       "      <td>Pittsburgh, Pennsylvania</td>\n",
       "      <td>NaN</td>\n",
       "    </tr>\n",
       "    <tr>\n",
       "      <th>3</th>\n",
       "      <td>4.0</td>\n",
       "      <td>Kenai, Alaska</td>\n",
       "      <td>Houston, Texas</td>\n",
       "      <td>New York, New York</td>\n",
       "      <td>4,520 mi</td>\n",
       "      <td>Los Angeles, California</td>\n",
       "      <td>3,552 mi</td>\n",
       "      <td>Chicago, Illinois</td>\n",
       "      <td>3,732 mi</td>\n",
       "      <td>Houston, Texas</td>\n",
       "      <td>...</td>\n",
       "      <td>Stockton, California</td>\n",
       "      <td>NaN</td>\n",
       "      <td>Saint Paul, Minnesota</td>\n",
       "      <td>NaN</td>\n",
       "      <td>Cincinnati, Ohio</td>\n",
       "      <td>NaN</td>\n",
       "      <td>St. Louis, Missouri</td>\n",
       "      <td>NaN</td>\n",
       "      <td>Pittsburgh, Pennsylvania</td>\n",
       "      <td>NaN</td>\n",
       "    </tr>\n",
       "    <tr>\n",
       "      <th>4</th>\n",
       "      <td>5.0</td>\n",
       "      <td>Valdez, Alaska</td>\n",
       "      <td>Phoenix, Arizona</td>\n",
       "      <td>New York, New York</td>\n",
       "      <td>4,299 mi</td>\n",
       "      <td>Los Angeles, California</td>\n",
       "      <td>3,331 mi</td>\n",
       "      <td>Chicago, Illinois</td>\n",
       "      <td>3,511 mi</td>\n",
       "      <td>Houston, Texas</td>\n",
       "      <td>...</td>\n",
       "      <td>Stockton, California</td>\n",
       "      <td>NaN</td>\n",
       "      <td>Saint Paul, Minnesota</td>\n",
       "      <td>NaN</td>\n",
       "      <td>Cincinnati, Ohio</td>\n",
       "      <td>NaN</td>\n",
       "      <td>St. Louis, Missouri</td>\n",
       "      <td>NaN</td>\n",
       "      <td>Pittsburgh, Pennsylvania</td>\n",
       "      <td>NaN</td>\n",
       "    </tr>\n",
       "  </tbody>\n",
       "</table>\n",
       "<p>5 rows × 137 columns</p>\n",
       "</div>"
      ],
      "text/plain": [
       "   Refi_ID        Refinery_City               Major City  New York, New York  \\\n",
       "0      1.0    Saraland, Alabama       New York, New York  New York, New York   \n",
       "1      2.0  Tuscaloosa, Alabama  Los Angeles, California  New York, New York   \n",
       "2      3.0      Atmore, Alabama        Chicago, Illinois  New York, New York   \n",
       "3      4.0        Kenai, Alaska           Houston, Texas  New York, New York   \n",
       "4      5.0       Valdez, Alaska         Phoenix, Arizona  New York, New York   \n",
       "\n",
       "  New York, New York Distance  Los Angeles, California  \\\n",
       "0                    1,181 mi  Los Angeles, California   \n",
       "1                    1,020 mi  Los Angeles, California   \n",
       "2                    1,143 mi  Los Angeles, California   \n",
       "3                    4,520 mi  Los Angeles, California   \n",
       "4                    4,299 mi  Los Angeles, California   \n",
       "\n",
       "  Los Angeles, California Distance  Chicago, Illinois  \\\n",
       "0                         2,021 mi  Chicago, Illinois   \n",
       "1                         2,021 mi  Chicago, Illinois   \n",
       "2                         2,061 mi  Chicago, Illinois   \n",
       "3                         3,552 mi  Chicago, Illinois   \n",
       "4                         3,331 mi  Chicago, Illinois   \n",
       "\n",
       "  Chicago, Illinois Distance  Houston, Texas  ...  Stockton, California  \\\n",
       "0                     906 mi  Houston, Texas  ...  Stockton, California   \n",
       "1                     716 mi  Houston, Texas  ...  Stockton, California   \n",
       "2                     869 mi  Houston, Texas  ...  Stockton, California   \n",
       "3                   3,732 mi  Houston, Texas  ...  Stockton, California   \n",
       "4                   3,511 mi  Houston, Texas  ...  Stockton, California   \n",
       "\n",
       "  Stockton, California.1  Saint Paul, Minnesota Saint Paul, Minnesota.1  \\\n",
       "0                    NaN  Saint Paul, Minnesota                     NaN   \n",
       "1                    NaN  Saint Paul, Minnesota                     NaN   \n",
       "2                    NaN  Saint Paul, Minnesota                     NaN   \n",
       "3                    NaN  Saint Paul, Minnesota                     NaN   \n",
       "4                    NaN  Saint Paul, Minnesota                     NaN   \n",
       "\n",
       "   Cincinnati, Ohio Cincinnati, Ohio.1  St. Louis, Missouri  \\\n",
       "0  Cincinnati, Ohio                NaN  St. Louis, Missouri   \n",
       "1  Cincinnati, Ohio                NaN  St. Louis, Missouri   \n",
       "2  Cincinnati, Ohio                NaN  St. Louis, Missouri   \n",
       "3  Cincinnati, Ohio                NaN  St. Louis, Missouri   \n",
       "4  Cincinnati, Ohio                NaN  St. Louis, Missouri   \n",
       "\n",
       "  St. Louis, Missouri.1  Pittsburgh, Pennsylvania Pittsburgh, Pennsylvania.1  \n",
       "0                   NaN  Pittsburgh, Pennsylvania                        NaN  \n",
       "1                   NaN  Pittsburgh, Pennsylvania                        NaN  \n",
       "2                   NaN  Pittsburgh, Pennsylvania                        NaN  \n",
       "3                   NaN  Pittsburgh, Pennsylvania                        NaN  \n",
       "4                   NaN  Pittsburgh, Pennsylvania                        NaN  \n",
       "\n",
       "[5 rows x 137 columns]"
      ]
     },
     "execution_count": 125,
     "metadata": {},
     "output_type": "execute_result"
    }
   ],
   "source": [
    "# Distances between refineries and cities with population > 300K in the U.S.\n",
    "Refinery_City300K_Distances.head()"
   ]
  },
  {
   "cell_type": "code",
   "execution_count": 146,
   "metadata": {},
   "outputs": [
    {
     "data": {
      "text/html": [
       "<div>\n",
       "<style scoped>\n",
       "    .dataframe tbody tr th:only-of-type {\n",
       "        vertical-align: middle;\n",
       "    }\n",
       "\n",
       "    .dataframe tbody tr th {\n",
       "        vertical-align: top;\n",
       "    }\n",
       "\n",
       "    .dataframe thead th {\n",
       "        text-align: right;\n",
       "    }\n",
       "</style>\n",
       "<table border=\"1\" class=\"dataframe\">\n",
       "  <thead>\n",
       "    <tr style=\"text-align: right;\">\n",
       "      <th></th>\n",
       "      <th>St. Louis, Missouri</th>\n",
       "      <th>St. Louis, Missouri.1</th>\n",
       "      <th>Pittsburgh, Pennsylvania</th>\n",
       "      <th>Pittsburgh, Pennsylvania.1</th>\n",
       "    </tr>\n",
       "  </thead>\n",
       "  <tbody>\n",
       "    <tr>\n",
       "      <th>0</th>\n",
       "      <td>St. Louis, Missouri</td>\n",
       "      <td>NaN</td>\n",
       "      <td>Pittsburgh, Pennsylvania</td>\n",
       "      <td>NaN</td>\n",
       "    </tr>\n",
       "    <tr>\n",
       "      <th>1</th>\n",
       "      <td>St. Louis, Missouri</td>\n",
       "      <td>NaN</td>\n",
       "      <td>Pittsburgh, Pennsylvania</td>\n",
       "      <td>NaN</td>\n",
       "    </tr>\n",
       "    <tr>\n",
       "      <th>2</th>\n",
       "      <td>St. Louis, Missouri</td>\n",
       "      <td>NaN</td>\n",
       "      <td>Pittsburgh, Pennsylvania</td>\n",
       "      <td>NaN</td>\n",
       "    </tr>\n",
       "    <tr>\n",
       "      <th>3</th>\n",
       "      <td>St. Louis, Missouri</td>\n",
       "      <td>NaN</td>\n",
       "      <td>Pittsburgh, Pennsylvania</td>\n",
       "      <td>NaN</td>\n",
       "    </tr>\n",
       "    <tr>\n",
       "      <th>4</th>\n",
       "      <td>St. Louis, Missouri</td>\n",
       "      <td>NaN</td>\n",
       "      <td>Pittsburgh, Pennsylvania</td>\n",
       "      <td>NaN</td>\n",
       "    </tr>\n",
       "  </tbody>\n",
       "</table>\n",
       "</div>"
      ],
      "text/plain": [
       "   St. Louis, Missouri  St. Louis, Missouri.1  Pittsburgh, Pennsylvania  \\\n",
       "0  St. Louis, Missouri                    NaN  Pittsburgh, Pennsylvania   \n",
       "1  St. Louis, Missouri                    NaN  Pittsburgh, Pennsylvania   \n",
       "2  St. Louis, Missouri                    NaN  Pittsburgh, Pennsylvania   \n",
       "3  St. Louis, Missouri                    NaN  Pittsburgh, Pennsylvania   \n",
       "4  St. Louis, Missouri                    NaN  Pittsburgh, Pennsylvania   \n",
       "\n",
       "   Pittsburgh, Pennsylvania.1  \n",
       "0                         NaN  \n",
       "1                         NaN  \n",
       "2                         NaN  \n",
       "3                         NaN  \n",
       "4                         NaN  "
      ]
     },
     "execution_count": 146,
     "metadata": {},
     "output_type": "execute_result"
    }
   ],
   "source": [
    "Refinery_City300K_Distances.iloc[0:5,-4:]"
   ]
  },
  {
   "cell_type": "markdown",
   "metadata": {},
   "source": [
    "#### 2.1.5 Audit Crude API data grouped by PAD districts<a id='2.1.5_Audit_Crude_API_Data'></a>"
   ]
  },
  {
   "cell_type": "markdown",
   "metadata": {},
   "source": [
    "This dataset groups the crude oil types that U.S. refineries use as feedstock to produce petroleum products. We will concentrate on the API of the various crudes to link the quality features of specific type of feedstock refineries use, based on their design and processing type capacites. Put simply, different APIs on the input result in different type of products on the output."
   ]
  },
  {
   "cell_type": "code",
   "execution_count": 44,
   "metadata": {
    "scrolled": true
   },
   "outputs": [
    {
     "data": {
      "text/html": [
       "<div>\n",
       "<style scoped>\n",
       "    .dataframe tbody tr th:only-of-type {\n",
       "        vertical-align: middle;\n",
       "    }\n",
       "\n",
       "    .dataframe tbody tr th {\n",
       "        vertical-align: top;\n",
       "    }\n",
       "\n",
       "    .dataframe thead th {\n",
       "        text-align: right;\n",
       "    }\n",
       "</style>\n",
       "<table border=\"1\" class=\"dataframe\">\n",
       "  <thead>\n",
       "    <tr style=\"text-align: right;\">\n",
       "      <th></th>\n",
       "      <th>Date</th>\n",
       "      <th>U.S. API Gravity (Weighted Average) of Crude Oil Input to Refineries (Degrees)</th>\n",
       "      <th>East Coast (PADD 1) API Gravity (Weighted Average) of Crude Oil Input to Refineries (Degrees)</th>\n",
       "      <th>East Coast Refinery District API Gravity (Weighted Average) of Crude Oil Input to Refineries (Degrees)</th>\n",
       "      <th>Appalachian No. 1 Refinery District API Gravity (Weighted Average) of Crude Oil Input to Refineries (Degrees)</th>\n",
       "      <th>Midwest (PADD 2) API Gravity (Weighted Average) of Crude Oil Input to Refineries (Degrees)</th>\n",
       "      <th>Indiana, Illinois, Kentucky Refinery District API Gravity (Weighted Average) of Crude Oil Input to Refineries (Degrees)</th>\n",
       "      <th>Minnesota, Wisconsin, North and South Dakota Refinery District API Gravity (Weighted Average) of Crude Oil Input to Refineries (Degrees)</th>\n",
       "      <th>Oklahoma, Kansas, Missouri Refinery District API Gravity (Weighted Average) of Crude Oil Input to Refineries (Degrees)</th>\n",
       "      <th>Gulf Coast (PADD 3) API Gravity (Weighted Average) of Crude Oil Input to Refineries (Degrees)</th>\n",
       "      <th>Texas Inland Refinery District API Gravity (Weighted Average) of Crude Oil Input to Refineries (Degrees)</th>\n",
       "      <th>Texas Gulf Coast Refinery District API Gravity (Weighted Average) of Crude Oil Input to Refineries (Degrees)</th>\n",
       "      <th>Louisiana Gulf Coast Refinery District API Gravity (Weighted Average) of Crude Oil Input to Refineries (Degrees)</th>\n",
       "      <th>North Louisiana, Arkansas Refinery District API Gravity (Weighted Average) of Crude Oil Input to Refineries (Degrees)</th>\n",
       "      <th>New Mexico Refinery District API Gravity (Weighted Average) of Crude Oil Input to Refineries (Degrees)</th>\n",
       "      <th>Rocky Mountains (PADD 4) API Gravity (Weighted Average) of Crude Oil Input to Refineries (Degrees)</th>\n",
       "      <th>West Coast (PADD 5) API Gravity (Weighted Average) of Crude Oil Input to Refineries (Degrees)</th>\n",
       "    </tr>\n",
       "  </thead>\n",
       "  <tbody>\n",
       "    <tr>\n",
       "      <th>0</th>\n",
       "      <td>Date</td>\n",
       "      <td>USA</td>\n",
       "      <td>PAD-1</td>\n",
       "      <td>PAD-1-1</td>\n",
       "      <td>PAD-1-2</td>\n",
       "      <td>PAD-2</td>\n",
       "      <td>PAD-2-1</td>\n",
       "      <td>PAD-2-2</td>\n",
       "      <td>PAD-2-3</td>\n",
       "      <td>PAD-3</td>\n",
       "      <td>PAD-3-1</td>\n",
       "      <td>PAD-3-2</td>\n",
       "      <td>PAD-3-3</td>\n",
       "      <td>PAD-3-4</td>\n",
       "      <td>PAD-3-5</td>\n",
       "      <td>PAD-4</td>\n",
       "      <td>PAD-5</td>\n",
       "    </tr>\n",
       "    <tr>\n",
       "      <th>1</th>\n",
       "      <td>2013-01-15 00:00:00</td>\n",
       "      <td>30.75</td>\n",
       "      <td>33.99</td>\n",
       "      <td>34.21</td>\n",
       "      <td>31.62</td>\n",
       "      <td>32.79</td>\n",
       "      <td>32.31</td>\n",
       "      <td>28.68</td>\n",
       "      <td>36.58</td>\n",
       "      <td>30.33</td>\n",
       "      <td>36.65</td>\n",
       "      <td>29.34</td>\n",
       "      <td>29.88</td>\n",
       "      <td>30.69</td>\n",
       "      <td>39.13</td>\n",
       "      <td>32.7</td>\n",
       "      <td>27.24</td>\n",
       "    </tr>\n",
       "  </tbody>\n",
       "</table>\n",
       "</div>"
      ],
      "text/plain": [
       "                  Date  \\\n",
       "0                 Date   \n",
       "1  2013-01-15 00:00:00   \n",
       "\n",
       "  U.S. API Gravity (Weighted Average) of Crude Oil Input to Refineries (Degrees)  \\\n",
       "0                                                USA                               \n",
       "1                                              30.75                               \n",
       "\n",
       "  East Coast (PADD 1) API Gravity (Weighted Average) of Crude Oil Input to Refineries (Degrees)   \\\n",
       "0                                              PAD-1                                               \n",
       "1                                              33.99                                               \n",
       "\n",
       "  East Coast Refinery District API Gravity (Weighted Average) of Crude Oil Input to Refineries (Degrees)  \\\n",
       "0                                            PAD-1-1                                                       \n",
       "1                                              34.21                                                       \n",
       "\n",
       "  Appalachian No. 1 Refinery District API Gravity (Weighted Average) of Crude Oil Input to Refineries (Degrees)  \\\n",
       "0                                            PAD-1-2                                                              \n",
       "1                                              31.62                                                              \n",
       "\n",
       "  Midwest (PADD 2) API Gravity (Weighted Average) of Crude Oil Input to Refineries (Degrees)  \\\n",
       "0                                              PAD-2                                           \n",
       "1                                              32.79                                           \n",
       "\n",
       "  Indiana, Illinois, Kentucky Refinery District API Gravity (Weighted Average) of Crude Oil Input to Refineries (Degrees)  \\\n",
       "0                                            PAD-2-1                                                                        \n",
       "1                                              32.31                                                                        \n",
       "\n",
       "  Minnesota, Wisconsin, North and South Dakota Refinery District API Gravity (Weighted Average) of Crude Oil Input to Refineries (Degrees)  \\\n",
       "0                                            PAD-2-2                                                                                         \n",
       "1                                              28.68                                                                                         \n",
       "\n",
       "  Oklahoma, Kansas, Missouri Refinery District API Gravity (Weighted Average) of Crude Oil Input to Refineries (Degrees)  \\\n",
       "0                                            PAD-2-3                                                                       \n",
       "1                                              36.58                                                                       \n",
       "\n",
       "  Gulf Coast (PADD 3) API Gravity (Weighted Average) of Crude Oil Input to Refineries (Degrees)  \\\n",
       "0                                              PAD-3                                              \n",
       "1                                              30.33                                              \n",
       "\n",
       "  Texas Inland Refinery District API Gravity (Weighted Average) of Crude Oil Input to Refineries (Degrees)  \\\n",
       "0                                            PAD-3-1                                                         \n",
       "1                                              36.65                                                         \n",
       "\n",
       "  Texas Gulf Coast Refinery District API Gravity (Weighted Average) of Crude Oil Input to Refineries (Degrees)  \\\n",
       "0                                            PAD-3-2                                                             \n",
       "1                                              29.34                                                             \n",
       "\n",
       "  Louisiana Gulf Coast Refinery District API Gravity (Weighted Average) of Crude Oil Input to Refineries (Degrees)  \\\n",
       "0                                            PAD-3-3                                                                 \n",
       "1                                              29.88                                                                 \n",
       "\n",
       "  North Louisiana, Arkansas Refinery District API Gravity (Weighted Average) of Crude Oil Input to Refineries (Degrees)  \\\n",
       "0                                            PAD-3-4                                                                      \n",
       "1                                              30.69                                                                      \n",
       "\n",
       "  New Mexico Refinery District API Gravity (Weighted Average) of Crude Oil Input to Refineries (Degrees)  \\\n",
       "0                                            PAD-3-5                                                       \n",
       "1                                              39.13                                                       \n",
       "\n",
       "  Rocky Mountains (PADD 4) API Gravity (Weighted Average) of Crude Oil Input to Refineries (Degrees)  \\\n",
       "0                                              PAD-4                                                   \n",
       "1                                               32.7                                                   \n",
       "\n",
       "  West Coast (PADD 5) API Gravity (Weighted Average) of Crude Oil Input to Refineries (Degrees)  \n",
       "0                                              PAD-5                                             \n",
       "1                                              27.24                                             "
      ]
     },
     "execution_count": 44,
     "metadata": {},
     "output_type": "execute_result"
    }
   ],
   "source": [
    "# Audit Crude API data grouped by PAD districts:\n",
    "API_by_PAD_raw.head(2)"
   ]
  },
  {
   "cell_type": "markdown",
   "metadata": {},
   "source": [
    "* OK, a lot going on here it looks like; first off, the long text headings in the first row\n",
    "will need to go; we will leave the second row with the PAD codes and make it the columns names\n",
    "* However, there are more complications here: the district lables here include aggregate values, such as 'U.S' and 'PADD #', as well as the lower level detail, i.e. States\n",
    "* We are just interested in the PAD groupings, but at this point it's difficulat to say, whether having a further drilled down level, indicating the States would come handy; hence, we will add a secondary heading labels for the PAD and State for further maniuplation down the road as necessary"
   ]
  },
  {
   "cell_type": "markdown",
   "metadata": {},
   "source": [
    "#### 2.1.6A Audit Population data, grouped by PAD districts, states, and cities<a id='2.1.6A_Audit_Population_Data'></a>"
   ]
  },
  {
   "cell_type": "code",
   "execution_count": 113,
   "metadata": {},
   "outputs": [
    {
     "data": {
      "text/html": [
       "<div>\n",
       "<style scoped>\n",
       "    .dataframe tbody tr th:only-of-type {\n",
       "        vertical-align: middle;\n",
       "    }\n",
       "\n",
       "    .dataframe tbody tr th {\n",
       "        vertical-align: top;\n",
       "    }\n",
       "\n",
       "    .dataframe thead th {\n",
       "        text-align: right;\n",
       "    }\n",
       "</style>\n",
       "<table border=\"1\" class=\"dataframe\">\n",
       "  <thead>\n",
       "    <tr style=\"text-align: right;\">\n",
       "      <th></th>\n",
       "      <th>Rank</th>\n",
       "      <th>Geographic_Area</th>\n",
       "      <th>State</th>\n",
       "      <th>City</th>\n",
       "      <th>City_State</th>\n",
       "      <th>2010</th>\n",
       "      <th>2011</th>\n",
       "      <th>2012</th>\n",
       "      <th>2013</th>\n",
       "      <th>2014</th>\n",
       "      <th>2015</th>\n",
       "      <th>2016</th>\n",
       "      <th>2017</th>\n",
       "      <th>2018</th>\n",
       "      <th>2019</th>\n",
       "    </tr>\n",
       "  </thead>\n",
       "  <tbody>\n",
       "    <tr>\n",
       "      <th>0</th>\n",
       "      <td>1</td>\n",
       "      <td>New York city, New York</td>\n",
       "      <td>New York</td>\n",
       "      <td>New York</td>\n",
       "      <td>New York, New York</td>\n",
       "      <td>8190209</td>\n",
       "      <td>8272948</td>\n",
       "      <td>8346693</td>\n",
       "      <td>8396091</td>\n",
       "      <td>8433806</td>\n",
       "      <td>8463049</td>\n",
       "      <td>8469153</td>\n",
       "      <td>8437478</td>\n",
       "      <td>8390081</td>\n",
       "      <td>8336817</td>\n",
       "    </tr>\n",
       "    <tr>\n",
       "      <th>1</th>\n",
       "      <td>2</td>\n",
       "      <td>Los Angeles city, California</td>\n",
       "      <td>California</td>\n",
       "      <td>Los Angeles</td>\n",
       "      <td>Los Angeles, California</td>\n",
       "      <td>3795512</td>\n",
       "      <td>3820876</td>\n",
       "      <td>3851202</td>\n",
       "      <td>3881622</td>\n",
       "      <td>3909901</td>\n",
       "      <td>3938568</td>\n",
       "      <td>3963226</td>\n",
       "      <td>3975788</td>\n",
       "      <td>3977596</td>\n",
       "      <td>3979576</td>\n",
       "    </tr>\n",
       "    <tr>\n",
       "      <th>2</th>\n",
       "      <td>3</td>\n",
       "      <td>Chicago city, Illinois</td>\n",
       "      <td>Illinois</td>\n",
       "      <td>Chicago</td>\n",
       "      <td>Chicago, Illinois</td>\n",
       "      <td>2697477</td>\n",
       "      <td>2708114</td>\n",
       "      <td>2719141</td>\n",
       "      <td>2725731</td>\n",
       "      <td>2727066</td>\n",
       "      <td>2724344</td>\n",
       "      <td>2716723</td>\n",
       "      <td>2711069</td>\n",
       "      <td>2701423</td>\n",
       "      <td>2693976</td>\n",
       "    </tr>\n",
       "  </tbody>\n",
       "</table>\n",
       "</div>"
      ],
      "text/plain": [
       "   Rank               Geographic_Area       State         City  \\\n",
       "0     1       New York city, New York    New York     New York   \n",
       "1     2  Los Angeles city, California  California  Los Angeles   \n",
       "2     3        Chicago city, Illinois    Illinois      Chicago   \n",
       "\n",
       "                City_State     2010     2011     2012     2013     2014  \\\n",
       "0       New York, New York  8190209  8272948  8346693  8396091  8433806   \n",
       "1  Los Angeles, California  3795512  3820876  3851202  3881622  3909901   \n",
       "2        Chicago, Illinois  2697477  2708114  2719141  2725731  2727066   \n",
       "\n",
       "      2015     2016     2017     2018     2019  \n",
       "0  8463049  8469153  8437478  8390081  8336817  \n",
       "1  3938568  3963226  3975788  3977596  3979576  \n",
       "2  2724344  2716723  2711069  2701423  2693976  "
      ]
     },
     "execution_count": 113,
     "metadata": {},
     "output_type": "execute_result"
    }
   ],
   "source": [
    "# Audit the U.S. Cities Population Ranking:\n",
    "Pop_by_Cities_raw.head(3)"
   ]
  },
  {
   "cell_type": "code",
   "execution_count": 112,
   "metadata": {},
   "outputs": [
    {
     "name": "stdout",
     "output_type": "stream",
     "text": [
      "<class 'pandas.core.frame.DataFrame'>\n",
      "RangeIndex: 788 entries, 0 to 787\n",
      "Data columns (total 15 columns):\n",
      " #   Column           Non-Null Count  Dtype \n",
      "---  ------           --------------  ----- \n",
      " 0   Rank             788 non-null    int64 \n",
      " 1   Geographic_Area  788 non-null    object\n",
      " 2   State            788 non-null    object\n",
      " 3   City             788 non-null    object\n",
      " 4   City_State       788 non-null    object\n",
      " 5   2010             788 non-null    int64 \n",
      " 6   2011             788 non-null    int64 \n",
      " 7   2012             788 non-null    int64 \n",
      " 8   2013             788 non-null    int64 \n",
      " 9   2014             788 non-null    int64 \n",
      " 10  2015             788 non-null    int64 \n",
      " 11  2016             788 non-null    int64 \n",
      " 12  2017             788 non-null    int64 \n",
      " 13  2018             788 non-null    int64 \n",
      " 14  2019             788 non-null    int64 \n",
      "dtypes: int64(11), object(4)\n",
      "memory usage: 92.5+ KB\n"
     ]
    }
   ],
   "source": [
    "Pop_by_Cities_raw.info()"
   ]
  },
  {
   "cell_type": "markdown",
   "metadata": {},
   "source": [
    "* All looks good here; we will be adding PAD district labels later"
   ]
  },
  {
   "cell_type": "markdown",
   "metadata": {},
   "source": [
    "### 2.2 Merging Data<a id='2.2_Merging_Data'></a>"
   ]
  },
  {
   "cell_type": "markdown",
   "metadata": {},
   "source": [
    "### 2.2.1 Merging WTI and Brent pricing data time series into one dataframe <a id='2.2.1_Merging_WTI_Brent_Time_Series'></a>"
   ]
  },
  {
   "cell_type": "code",
   "execution_count": 22,
   "metadata": {},
   "outputs": [],
   "source": [
    "WTI_Brent = pd.merge(WTI, Brent, how='outer', on='Date')"
   ]
  },
  {
   "cell_type": "code",
   "execution_count": 23,
   "metadata": {},
   "outputs": [],
   "source": [
    "WTI_Brent.columns = ['Date', 'WTI', 'Brent']"
   ]
  },
  {
   "cell_type": "code",
   "execution_count": null,
   "metadata": {
    "scrolled": false
   },
   "outputs": [],
   "source": [
    "WTI_Brent.head(2)"
   ]
  },
  {
   "cell_type": "markdown",
   "metadata": {},
   "source": [
    "### 2.2.2 Merging Domesitc and Imported Crude data into one dataframe <a id='2.2.2_Merging_WTI_Brent_Time_Series'></a>"
   ]
  },
  {
   "cell_type": "code",
   "execution_count": 24,
   "metadata": {},
   "outputs": [],
   "source": [
    "crude_cost = pd.merge(crude_us, crude_imported, how='outer', on='Date')"
   ]
  },
  {
   "cell_type": "code",
   "execution_count": null,
   "metadata": {},
   "outputs": [],
   "source": [
    "crude_cost.head()"
   ]
  },
  {
   "cell_type": "markdown",
   "metadata": {},
   "source": [
    "### 2.3 Cleaning The Data <a id='2.3_Cleaning_Data'></a>"
   ]
  },
  {
   "cell_type": "markdown",
   "metadata": {},
   "source": [
    "#### 2.3.1 Cleaning WTI and Brent Crude Pricing Data <a id='2.3.1_Cleaning_Crude_Pricing_Data'></a>"
   ]
  },
  {
   "cell_type": "code",
   "execution_count": null,
   "metadata": {},
   "outputs": [],
   "source": [
    "WTI_Brent.head(2)"
   ]
  },
  {
   "cell_type": "markdown",
   "metadata": {},
   "source": [
    "* WTI and Brent merged dataframe looks good; no further cleaning is required here"
   ]
  },
  {
   "cell_type": "markdown",
   "metadata": {},
   "source": [
    "#### 2.3.2 Cleaning the data on Refineries' Crude Acquisition Costs by PAD<a id='2.3.2_Cleaning_Reiners_Crude_Cost_Data'></a>"
   ]
  },
  {
   "cell_type": "code",
   "execution_count": null,
   "metadata": {},
   "outputs": [],
   "source": [
    "crude_cost.info()"
   ]
  },
  {
   "cell_type": "code",
   "execution_count": null,
   "metadata": {
    "scrolled": true
   },
   "outputs": [],
   "source": [
    "crude_cost.head()"
   ]
  },
  {
   "cell_type": "markdown",
   "metadata": {},
   "source": [
    "* Yep, let's cleaning the column headings and replace them with sensible PAD codes"
   ]
  },
  {
   "cell_type": "code",
   "execution_count": 25,
   "metadata": {},
   "outputs": [],
   "source": [
    "# Rename the long column headings with PAD Codes:\n",
    "crude_cost.columns = ['Date', 'US Total', 'US PADD-1', 'US PADD-2', 'US PADD-3', 'US PADD-4', 'US PADD-5', 'Import Total',\n",
    "              'Imp PADD-1', 'Imp PADD-2', 'Imp PADD-3', 'Imp PADD-4', 'Imp PADD-5']"
   ]
  },
  {
   "cell_type": "code",
   "execution_count": null,
   "metadata": {
    "scrolled": true
   },
   "outputs": [],
   "source": [
    "crude_cost.head()"
   ]
  },
  {
   "cell_type": "markdown",
   "metadata": {},
   "source": [
    "#### 2.3.3 Cleaning the data on Petroleum Product Pricing by PAD<a id='2.3.3_Cleaning_Product_Pricing_Data'></a>"
   ]
  },
  {
   "cell_type": "markdown",
   "metadata": {},
   "source": [
    "Initial audit of Product Pricing Data revealed a messy two-row column headings; let's clean these up\n",
    "* we will start with the 'US' level data"
   ]
  },
  {
   "cell_type": "code",
   "execution_count": null,
   "metadata": {},
   "outputs": [],
   "source": [
    "prod_US_raw.head(3)"
   ]
  },
  {
   "cell_type": "code",
   "execution_count": 26,
   "metadata": {
    "scrolled": true
   },
   "outputs": [
    {
     "data": {
      "text/html": [
       "<div>\n",
       "<style scoped>\n",
       "    .dataframe tbody tr th:only-of-type {\n",
       "        vertical-align: middle;\n",
       "    }\n",
       "\n",
       "    .dataframe tbody tr th {\n",
       "        vertical-align: top;\n",
       "    }\n",
       "\n",
       "    .dataframe thead th {\n",
       "        text-align: right;\n",
       "    }\n",
       "</style>\n",
       "<table border=\"1\" class=\"dataframe\">\n",
       "  <thead>\n",
       "    <tr style=\"text-align: right;\">\n",
       "      <th></th>\n",
       "      <th>Date</th>\n",
       "      <th>GSL-ALL</th>\n",
       "      <th>GSL-NET</th>\n",
       "      <th>GSL-R</th>\n",
       "      <th>GSL-R-1</th>\n",
       "      <th>GSL-R-2</th>\n",
       "      <th>GSL-C</th>\n",
       "      <th>GSL-C-1</th>\n",
       "      <th>GSL-C-1-1</th>\n",
       "      <th>GSL-C-1-2</th>\n",
       "      <th>...</th>\n",
       "      <th>GSL-ADJ</th>\n",
       "      <th>KER</th>\n",
       "      <th>KER-Comm</th>\n",
       "      <th>KER-Milit</th>\n",
       "      <th>DSL</th>\n",
       "      <th>DSL-1</th>\n",
       "      <th>DSL-2</th>\n",
       "      <th>DSL-3</th>\n",
       "      <th>RSD</th>\n",
       "      <th>PPN</th>\n",
       "    </tr>\n",
       "  </thead>\n",
       "  <tbody>\n",
       "    <tr>\n",
       "      <th>0</th>\n",
       "      <td>Date</td>\n",
       "      <td>GSL-ALL</td>\n",
       "      <td>GSL-NET</td>\n",
       "      <td>GSL-R</td>\n",
       "      <td>GSL-R-1</td>\n",
       "      <td>GSL-R-2</td>\n",
       "      <td>GSL-C</td>\n",
       "      <td>GSL-C-1</td>\n",
       "      <td>GSL-C-1-1</td>\n",
       "      <td>GSL-C-1-2</td>\n",
       "      <td>...</td>\n",
       "      <td>GSL-ADJ</td>\n",
       "      <td>KER</td>\n",
       "      <td>KER-Comm</td>\n",
       "      <td>KER-Milit</td>\n",
       "      <td>DSL</td>\n",
       "      <td>DSL-1</td>\n",
       "      <td>DSL-2</td>\n",
       "      <td>DSL-3</td>\n",
       "      <td>RSD</td>\n",
       "      <td>PPN</td>\n",
       "    </tr>\n",
       "    <tr>\n",
       "      <th>1</th>\n",
       "      <td>2013-01-04 00:00:00</td>\n",
       "      <td>8385</td>\n",
       "      <td>8204</td>\n",
       "      <td>2586</td>\n",
       "      <td>2586</td>\n",
       "      <td>0</td>\n",
       "      <td>5618</td>\n",
       "      <td>4499</td>\n",
       "      <td>4498</td>\n",
       "      <td>1</td>\n",
       "      <td>...</td>\n",
       "      <td>181</td>\n",
       "      <td>1511</td>\n",
       "      <td>1374</td>\n",
       "      <td>137</td>\n",
       "      <td>4920</td>\n",
       "      <td>4474</td>\n",
       "      <td>116</td>\n",
       "      <td>331</td>\n",
       "      <td>425</td>\n",
       "      <td>1339</td>\n",
       "    </tr>\n",
       "    <tr>\n",
       "      <th>2</th>\n",
       "      <td>2013-01-11 00:00:00</td>\n",
       "      <td>8590</td>\n",
       "      <td>8591</td>\n",
       "      <td>2808</td>\n",
       "      <td>2808</td>\n",
       "      <td>0</td>\n",
       "      <td>5784</td>\n",
       "      <td>4935</td>\n",
       "      <td>4934</td>\n",
       "      <td>1</td>\n",
       "      <td>...</td>\n",
       "      <td>-1</td>\n",
       "      <td>1517</td>\n",
       "      <td>1376</td>\n",
       "      <td>141</td>\n",
       "      <td>4564</td>\n",
       "      <td>4142</td>\n",
       "      <td>84</td>\n",
       "      <td>338</td>\n",
       "      <td>415</td>\n",
       "      <td>1292</td>\n",
       "    </tr>\n",
       "  </tbody>\n",
       "</table>\n",
       "<p>3 rows × 21 columns</p>\n",
       "</div>"
      ],
      "text/plain": [
       "0                 Date  GSL-ALL  GSL-NET  GSL-R  GSL-R-1  GSL-R-2  GSL-C  \\\n",
       "0                 Date  GSL-ALL  GSL-NET  GSL-R  GSL-R-1  GSL-R-2  GSL-C   \n",
       "1  2013-01-04 00:00:00     8385     8204   2586     2586        0   5618   \n",
       "2  2013-01-11 00:00:00     8590     8591   2808     2808        0   5784   \n",
       "\n",
       "0  GSL-C-1  GSL-C-1-1  GSL-C-1-2  ...  GSL-ADJ   KER  KER-Comm  KER-Milit  \\\n",
       "0  GSL-C-1  GSL-C-1-1  GSL-C-1-2  ...  GSL-ADJ   KER  KER-Comm  KER-Milit   \n",
       "1     4499       4498          1  ...      181  1511      1374        137   \n",
       "2     4935       4934          1  ...       -1  1517      1376        141   \n",
       "\n",
       "0   DSL  DSL-1  DSL-2  DSL-3  RSD   PPN  \n",
       "0   DSL  DSL-1  DSL-2  DSL-3  RSD   PPN  \n",
       "1  4920   4474    116    331  425  1339  \n",
       "2  4564   4142     84    338  415  1292  \n",
       "\n",
       "[3 rows x 21 columns]"
      ]
     },
     "execution_count": 26,
     "metadata": {},
     "output_type": "execute_result"
    }
   ],
   "source": [
    "# The table with petroleum product prices has a two-row column headings.\n",
    "# We don't need the long text heading - the second coded heading is the useful one\n",
    "prod_US = prod_US_raw\n",
    "prod_US.reset_index()\n",
    "prod_US.columns = prod_US.iloc[0]\n",
    "prod_US.head(3)"
   ]
  },
  {
   "cell_type": "code",
   "execution_count": 27,
   "metadata": {
    "scrolled": true
   },
   "outputs": [
    {
     "data": {
      "text/html": [
       "<div>\n",
       "<style scoped>\n",
       "    .dataframe tbody tr th:only-of-type {\n",
       "        vertical-align: middle;\n",
       "    }\n",
       "\n",
       "    .dataframe tbody tr th {\n",
       "        vertical-align: top;\n",
       "    }\n",
       "\n",
       "    .dataframe thead th {\n",
       "        text-align: right;\n",
       "    }\n",
       "</style>\n",
       "<table border=\"1\" class=\"dataframe\">\n",
       "  <thead>\n",
       "    <tr style=\"text-align: right;\">\n",
       "      <th></th>\n",
       "      <th>Date</th>\n",
       "      <th>GSL-ALL</th>\n",
       "      <th>GSL-NET</th>\n",
       "      <th>GSL-R</th>\n",
       "      <th>GSL-R-1</th>\n",
       "      <th>GSL-R-2</th>\n",
       "      <th>GSL-C</th>\n",
       "      <th>GSL-C-1</th>\n",
       "      <th>GSL-C-1-1</th>\n",
       "      <th>GSL-C-1-2</th>\n",
       "      <th>...</th>\n",
       "      <th>GSL-ADJ</th>\n",
       "      <th>KER</th>\n",
       "      <th>KER-Comm</th>\n",
       "      <th>KER-Milit</th>\n",
       "      <th>DSL</th>\n",
       "      <th>DSL-1</th>\n",
       "      <th>DSL-2</th>\n",
       "      <th>DSL-3</th>\n",
       "      <th>RSD</th>\n",
       "      <th>PPN</th>\n",
       "    </tr>\n",
       "  </thead>\n",
       "  <tbody>\n",
       "    <tr>\n",
       "      <th>1</th>\n",
       "      <td>2013-01-04 00:00:00</td>\n",
       "      <td>8385</td>\n",
       "      <td>8204</td>\n",
       "      <td>2586</td>\n",
       "      <td>2586</td>\n",
       "      <td>0</td>\n",
       "      <td>5618</td>\n",
       "      <td>4499</td>\n",
       "      <td>4498</td>\n",
       "      <td>1</td>\n",
       "      <td>...</td>\n",
       "      <td>181</td>\n",
       "      <td>1511</td>\n",
       "      <td>1374</td>\n",
       "      <td>137</td>\n",
       "      <td>4920</td>\n",
       "      <td>4474</td>\n",
       "      <td>116</td>\n",
       "      <td>331</td>\n",
       "      <td>425</td>\n",
       "      <td>1339</td>\n",
       "    </tr>\n",
       "    <tr>\n",
       "      <th>2</th>\n",
       "      <td>2013-01-11 00:00:00</td>\n",
       "      <td>8590</td>\n",
       "      <td>8591</td>\n",
       "      <td>2808</td>\n",
       "      <td>2808</td>\n",
       "      <td>0</td>\n",
       "      <td>5784</td>\n",
       "      <td>4935</td>\n",
       "      <td>4934</td>\n",
       "      <td>1</td>\n",
       "      <td>...</td>\n",
       "      <td>-1</td>\n",
       "      <td>1517</td>\n",
       "      <td>1376</td>\n",
       "      <td>141</td>\n",
       "      <td>4564</td>\n",
       "      <td>4142</td>\n",
       "      <td>84</td>\n",
       "      <td>338</td>\n",
       "      <td>415</td>\n",
       "      <td>1292</td>\n",
       "    </tr>\n",
       "  </tbody>\n",
       "</table>\n",
       "<p>2 rows × 21 columns</p>\n",
       "</div>"
      ],
      "text/plain": [
       "0                 Date GSL-ALL GSL-NET GSL-R GSL-R-1 GSL-R-2 GSL-C GSL-C-1  \\\n",
       "1  2013-01-04 00:00:00    8385    8204  2586    2586       0  5618    4499   \n",
       "2  2013-01-11 00:00:00    8590    8591  2808    2808       0  5784    4935   \n",
       "\n",
       "0 GSL-C-1-1 GSL-C-1-2  ... GSL-ADJ   KER KER-Comm KER-Milit   DSL DSL-1 DSL-2  \\\n",
       "1      4498         1  ...     181  1511     1374       137  4920  4474   116   \n",
       "2      4934         1  ...      -1  1517     1376       141  4564  4142    84   \n",
       "\n",
       "0 DSL-3  RSD   PPN  \n",
       "1   331  425  1339  \n",
       "2   338  415  1292  \n",
       "\n",
       "[2 rows x 21 columns]"
      ]
     },
     "execution_count": 27,
     "metadata": {},
     "output_type": "execute_result"
    }
   ],
   "source": [
    "# Removing the long text heading and replacing it the coded row\n",
    "prod_US = prod_US.drop(0)\n",
    "prod_US.head(2)"
   ]
  },
  {
   "cell_type": "markdown",
   "metadata": {},
   "source": [
    "* Repeat the same to 5 PAD distric datasets: PAD-1, PAD-2, PAD-3, PAD-4, and PAD-5:"
   ]
  },
  {
   "cell_type": "code",
   "execution_count": 28,
   "metadata": {},
   "outputs": [],
   "source": [
    "# Removing the top row with long text heading from the two-row column heading\n",
    "# Replacing it with the second row and making it column name\n",
    "prod_PAD_1 = prod_PAD_1_raw\n",
    "prod_PAD_2 = prod_PAD_2_raw\n",
    "prod_PAD_3 = prod_PAD_3_raw\n",
    "prod_PAD_4 = prod_PAD_4_raw\n",
    "prod_PAD_5 = prod_PAD_5_raw\n",
    "\n",
    "prod_PAD_1.reset_index()\n",
    "prod_PAD_2.reset_index()\n",
    "prod_PAD_3.reset_index()\n",
    "prod_PAD_4.reset_index()\n",
    "prod_PAD_5.reset_index()\n",
    "\n",
    "prod_PAD_1.columns = prod_PAD_1.iloc[0]\n",
    "prod_PAD_2.columns = prod_PAD_2.iloc[0]\n",
    "prod_PAD_3.columns = prod_PAD_3.iloc[0]\n",
    "prod_PAD_4.columns = prod_PAD_4.iloc[0]\n",
    "prod_PAD_5.columns = prod_PAD_5.iloc[0]\n",
    "\n",
    "prod_PAD_1 = prod_PAD_1.drop(0)\n",
    "prod_PAD_2 = prod_PAD_2.drop(0)\n",
    "prod_PAD_3 = prod_PAD_3.drop(0)\n",
    "prod_PAD_4 = prod_PAD_4.drop(0)\n",
    "prod_PAD_5 = prod_PAD_5.drop(0)"
   ]
  },
  {
   "cell_type": "code",
   "execution_count": 29,
   "metadata": {},
   "outputs": [
    {
     "data": {
      "text/html": [
       "<div>\n",
       "<style scoped>\n",
       "    .dataframe tbody tr th:only-of-type {\n",
       "        vertical-align: middle;\n",
       "    }\n",
       "\n",
       "    .dataframe tbody tr th {\n",
       "        vertical-align: top;\n",
       "    }\n",
       "\n",
       "    .dataframe thead th {\n",
       "        text-align: right;\n",
       "    }\n",
       "</style>\n",
       "<table border=\"1\" class=\"dataframe\">\n",
       "  <thead>\n",
       "    <tr style=\"text-align: right;\">\n",
       "      <th></th>\n",
       "      <th>Date</th>\n",
       "      <th>GSL-NET</th>\n",
       "      <th>GSL-R</th>\n",
       "      <th>GSL-R-1</th>\n",
       "      <th>GSL-R-2</th>\n",
       "      <th>GSL-C</th>\n",
       "      <th>GSL-C-1</th>\n",
       "      <th>GSL-C-1-1</th>\n",
       "      <th>GSL-C-1-2</th>\n",
       "      <th>GSL-C-2</th>\n",
       "      <th>KER</th>\n",
       "      <th>KER-Comm</th>\n",
       "      <th>KER-Milit</th>\n",
       "      <th>DSL</th>\n",
       "      <th>DSL-1</th>\n",
       "      <th>DSL-2</th>\n",
       "      <th>DSL-3</th>\n",
       "      <th>RSD</th>\n",
       "      <th>PPN</th>\n",
       "    </tr>\n",
       "  </thead>\n",
       "  <tbody>\n",
       "    <tr>\n",
       "      <th>1</th>\n",
       "      <td>2013-01-04 00:00:00</td>\n",
       "      <td>1364</td>\n",
       "      <td>936</td>\n",
       "      <td>936</td>\n",
       "      <td>0</td>\n",
       "      <td>427</td>\n",
       "      <td>329</td>\n",
       "      <td>329</td>\n",
       "      <td>0</td>\n",
       "      <td>98</td>\n",
       "      <td>430</td>\n",
       "      <td>377</td>\n",
       "      <td>53</td>\n",
       "      <td>557</td>\n",
       "      <td>536</td>\n",
       "      <td>23</td>\n",
       "      <td>-1</td>\n",
       "      <td>111</td>\n",
       "      <td>NaN</td>\n",
       "    </tr>\n",
       "    <tr>\n",
       "      <th>2</th>\n",
       "      <td>2013-01-11 00:00:00</td>\n",
       "      <td>1496</td>\n",
       "      <td>1014</td>\n",
       "      <td>1014</td>\n",
       "      <td>0</td>\n",
       "      <td>482</td>\n",
       "      <td>352</td>\n",
       "      <td>352</td>\n",
       "      <td>0</td>\n",
       "      <td>129</td>\n",
       "      <td>424</td>\n",
       "      <td>373</td>\n",
       "      <td>51</td>\n",
       "      <td>526</td>\n",
       "      <td>501</td>\n",
       "      <td>10</td>\n",
       "      <td>15</td>\n",
       "      <td>103</td>\n",
       "      <td>NaN</td>\n",
       "    </tr>\n",
       "  </tbody>\n",
       "</table>\n",
       "</div>"
      ],
      "text/plain": [
       "0                 Date GSL-NET GSL-R GSL-R-1 GSL-R-2 GSL-C GSL-C-1 GSL-C-1-1  \\\n",
       "1  2013-01-04 00:00:00    1364   936     936       0   427     329       329   \n",
       "2  2013-01-11 00:00:00    1496  1014    1014       0   482     352       352   \n",
       "\n",
       "0 GSL-C-1-2 GSL-C-2  KER KER-Comm KER-Milit  DSL DSL-1 DSL-2 DSL-3  RSD  PPN  \n",
       "1         0      98  430      377        53  557   536    23    -1  111  NaN  \n",
       "2         0     129  424      373        51  526   501    10    15  103  NaN  "
      ]
     },
     "execution_count": 29,
     "metadata": {},
     "output_type": "execute_result"
    }
   ],
   "source": [
    "prod_PAD_5.head(2)"
   ]
  },
  {
   "cell_type": "markdown",
   "metadata": {},
   "source": [
    "* all looks good here"
   ]
  },
  {
   "cell_type": "markdown",
   "metadata": {},
   "source": [
    "#### 2.3.4 Cleaning U.S. refineries data - A, B, and C<a id='2.3.4_Cleaning_Refinery_Profiles_Data'></a>"
   ]
  },
  {
   "cell_type": "markdown",
   "metadata": {},
   "source": [
    "#### 2.3.4B Refinery Capacity Profiles Data\n",
    "Initial audit of refinery capacities data showed that we will need to separate the aggregated data columns from the underlying lower level values; we will need to extract all 3 levels separately: Top (1st) Level: 'US', Middle (2nd) Level: 'PADD', and Bottom (3rd) Level: 'State'"
   ]
  },
  {
   "cell_type": "markdown",
   "metadata": {},
   "source": [
    "#### Top Level - by country, i.e. 'US'"
   ]
  },
  {
   "cell_type": "code",
   "execution_count": 30,
   "metadata": {},
   "outputs": [
    {
     "data": {
      "text/plain": [
       "(460, 13)"
      ]
     },
     "execution_count": 30,
     "metadata": {},
     "output_type": "execute_result"
    }
   ],
   "source": [
    "# So, we are starting with 460 records in the 'Refinery_Cap_ByType' dataframe:\n",
    "Refinery_Cap_ByType.shape"
   ]
  },
  {
   "cell_type": "code",
   "execution_count": 31,
   "metadata": {
    "scrolled": false
   },
   "outputs": [],
   "source": [
    "# Extracting Top Level - Country Level:\n",
    "US_refinery_cap_by_type = Refinery_Cap_ByType[Refinery_Cap_ByType['State']=='US']"
   ]
  },
  {
   "cell_type": "code",
   "execution_count": 32,
   "metadata": {},
   "outputs": [
    {
     "data": {
      "text/plain": [
       "(10, 13)"
      ]
     },
     "execution_count": 32,
     "metadata": {},
     "output_type": "execute_result"
    }
   ],
   "source": [
    "# Check how many records exist at the Top Level:\n",
    "US_refinery_cap_by_type.shape"
   ]
  },
  {
   "cell_type": "markdown",
   "metadata": {},
   "source": [
    "* After extracting the Top level data, we end up with 10 rows\n",
    "* this is consistent with the count of refinery process types, as we have previously determined in the initial audit step"
   ]
  },
  {
   "cell_type": "markdown",
   "metadata": {},
   "source": [
    "#### Middle Level - by PAD District, i.e. filter the 'State' column by all 5 'PAD' categories: "
   ]
  },
  {
   "cell_type": "markdown",
   "metadata": {},
   "source": [
    "#### PAD-1:"
   ]
  },
  {
   "cell_type": "code",
   "execution_count": 33,
   "metadata": {},
   "outputs": [
    {
     "data": {
      "text/plain": [
       "(10, 13)"
      ]
     },
     "execution_count": 33,
     "metadata": {},
     "output_type": "execute_result"
    }
   ],
   "source": [
    "# Extracting Middle Levels - PAD-1:\n",
    "PAD_1_refinery_cap_by_type = Refinery_Cap_ByType[Refinery_Cap_ByType['State']=='PAD-1']\n",
    "# Check how many records exist at PAD-1 level (should be no more than 10):\n",
    "PAD_1_refinery_cap_by_type.shape"
   ]
  },
  {
   "cell_type": "markdown",
   "metadata": {},
   "source": [
    "#### PAD-2:"
   ]
  },
  {
   "cell_type": "code",
   "execution_count": 34,
   "metadata": {},
   "outputs": [
    {
     "data": {
      "text/plain": [
       "(10, 13)"
      ]
     },
     "execution_count": 34,
     "metadata": {},
     "output_type": "execute_result"
    }
   ],
   "source": [
    "# Extracting Middle Levels - PAD-2:\n",
    "PAD_2_refinery_cap_by_type = Refinery_Cap_ByType[Refinery_Cap_ByType['State']=='PAD-2']\n",
    "# Check how many records exist at PAD-2 level (should be no more than 10):\n",
    "PAD_2_refinery_cap_by_type.shape"
   ]
  },
  {
   "cell_type": "markdown",
   "metadata": {},
   "source": [
    "#### PAD-3:"
   ]
  },
  {
   "cell_type": "code",
   "execution_count": 35,
   "metadata": {},
   "outputs": [
    {
     "data": {
      "text/plain": [
       "(10, 13)"
      ]
     },
     "execution_count": 35,
     "metadata": {},
     "output_type": "execute_result"
    }
   ],
   "source": [
    "# Extracting Middle Levels - PAD-3:\n",
    "PAD_3_refinery_cap_by_type = Refinery_Cap_ByType[Refinery_Cap_ByType['State']=='PAD-3']\n",
    "# Check how many records exist at PAD-3 level (should be no more than 10):\n",
    "PAD_3_refinery_cap_by_type.shape"
   ]
  },
  {
   "cell_type": "markdown",
   "metadata": {},
   "source": [
    "#### PAD-4:"
   ]
  },
  {
   "cell_type": "code",
   "execution_count": 36,
   "metadata": {},
   "outputs": [
    {
     "data": {
      "text/plain": [
       "(10, 13)"
      ]
     },
     "execution_count": 36,
     "metadata": {},
     "output_type": "execute_result"
    }
   ],
   "source": [
    "# Extracting Middle Levels - PAD-4:\n",
    "PAD_4_refinery_cap_by_type = Refinery_Cap_ByType[Refinery_Cap_ByType['State']=='PAD-4']\n",
    "# Check how many records exist at PAD-4 level (should be no more than 10):\n",
    "PAD_4_refinery_cap_by_type.shape"
   ]
  },
  {
   "cell_type": "markdown",
   "metadata": {},
   "source": [
    "#### PAD-5:"
   ]
  },
  {
   "cell_type": "code",
   "execution_count": 37,
   "metadata": {},
   "outputs": [
    {
     "data": {
      "text/plain": [
       "(10, 13)"
      ]
     },
     "execution_count": 37,
     "metadata": {},
     "output_type": "execute_result"
    }
   ],
   "source": [
    "# Extracting Middle Levels - PAD-5:\n",
    "PAD_5_refinery_cap_by_type = Refinery_Cap_ByType[Refinery_Cap_ByType['State']=='PAD-5']\n",
    "# Check how many records exist at PAD-5 level (should be no more than 10):\n",
    "PAD_5_refinery_cap_by_type.shape"
   ]
  },
  {
   "cell_type": "markdown",
   "metadata": {},
   "source": [
    "#### Bottom Level - by State, i.e. filter out the 'US' and the 5 'PAD' labels from the 'State' column: "
   ]
  },
  {
   "cell_type": "code",
   "execution_count": 38,
   "metadata": {},
   "outputs": [
    {
     "data": {
      "text/plain": [
       "(400, 13)"
      ]
     },
     "execution_count": 38,
     "metadata": {},
     "output_type": "execute_result"
    }
   ],
   "source": [
    "# Extracting Bottom Leves - State Only:\n",
    "State_refinery_cap_by_type = Refinery_Cap_ByType[(Refinery_Cap_ByType['State']!='US')\n",
    "                                                 &(Refinery_Cap_ByType['State']!='PAD-1')\n",
    "                                                 &(Refinery_Cap_ByType['State']!='PAD-2')\n",
    "                                                 &(Refinery_Cap_ByType['State']!='PAD-3')\n",
    "                                                 &(Refinery_Cap_ByType['State']!='PAD-4')\n",
    "                                                 &(Refinery_Cap_ByType['State']!='PAD-5')]\n",
    "# Check how many records exist at state level (should be no more than 400):\n",
    "State_refinery_cap_by_type.shape"
   ]
  },
  {
   "cell_type": "markdown",
   "metadata": {},
   "source": [
    "#### 2.3.4C Refinery Distance to Cities\n",
    "Initial audit of data on distances (in miles) from refineries to cities with population over 300K showed that it contained too many NaN values. The NaN values were due to limited free access to Google's API, which capped at a certain maximum number of queries per day.\n",
    "We will continue to populate the table till we collect all distance values to make up a 132 x 66 matrix, where there are 132 Refinery locations and 66 cities with over 300K population"
   ]
  },
  {
   "cell_type": "markdown",
   "metadata": {},
   "source": [
    "* any cleaning will be subject to completion of this objective; if not met, we will drop this dataset and replace it with alternative, 'next best thing', such as going by PAD and State level population correlations"
   ]
  },
  {
   "cell_type": "code",
   "execution_count": 39,
   "metadata": {
    "scrolled": true
   },
   "outputs": [
    {
     "data": {
      "text/plain": [
       "Refi_ID                                   0\n",
       "Refinery_City                             0\n",
       "Major_City                                0\n",
       "New York, New York                        0\n",
       "New York, New York Distance               0\n",
       "                                       ... \n",
       "Casper, Wyoming, Wyoming Distance       132\n",
       "Newcastle, Wyoming, Wyoming               0\n",
       "Newcastle, Wyoming, Wyoming Distance    132\n",
       "Evanston, Wyoming, Wyoming                0\n",
       "Evanston, Wyoming, Wyoming Distance     132\n",
       "Length: 267, dtype: int64"
      ]
     },
     "execution_count": 39,
     "metadata": {},
     "output_type": "execute_result"
    }
   ],
   "source": [
    "# Distance between Refineries and U.S. cities with population >300K \n",
    "Refinery_City300K_Distances.isna().sum()"
   ]
  },
  {
   "cell_type": "markdown",
   "metadata": {},
   "source": [
    "#### 2.3.5 Cleaning Crude API data<a id='2.3.5_Cleaning_Crude_API_Data'></a>"
   ]
  },
  {
   "cell_type": "markdown",
   "metadata": {},
   "source": [
    "Earlier, at the Audit step, we have discovered that Crude API data set needs to be separated into location categories, similarly to what we did with the Product Pricing by PAD data.\n",
    "* The Crude API data is aggregated at 3 levels: 1 - Top (the U.S.), 2 - Middle (PAD district), 3 - Bottom (group of states).\n",
    "* Let's split them into 3 separate dataframes, as they would be most useful, when not mingled up with each other"
   ]
  },
  {
   "cell_type": "code",
   "execution_count": 70,
   "metadata": {},
   "outputs": [
    {
     "data": {
      "text/html": [
       "<div>\n",
       "<style scoped>\n",
       "    .dataframe tbody tr th:only-of-type {\n",
       "        vertical-align: middle;\n",
       "    }\n",
       "\n",
       "    .dataframe tbody tr th {\n",
       "        vertical-align: top;\n",
       "    }\n",
       "\n",
       "    .dataframe thead th {\n",
       "        text-align: right;\n",
       "    }\n",
       "</style>\n",
       "<table border=\"1\" class=\"dataframe\">\n",
       "  <thead>\n",
       "    <tr style=\"text-align: right;\">\n",
       "      <th></th>\n",
       "      <th>Date</th>\n",
       "      <th>U.S. API Gravity (Weighted Average) of Crude Oil Input to Refineries (Degrees)</th>\n",
       "      <th>East Coast (PADD 1) API Gravity (Weighted Average) of Crude Oil Input to Refineries (Degrees)</th>\n",
       "      <th>East Coast Refinery District API Gravity (Weighted Average) of Crude Oil Input to Refineries (Degrees)</th>\n",
       "      <th>Appalachian No. 1 Refinery District API Gravity (Weighted Average) of Crude Oil Input to Refineries (Degrees)</th>\n",
       "      <th>Midwest (PADD 2) API Gravity (Weighted Average) of Crude Oil Input to Refineries (Degrees)</th>\n",
       "      <th>Indiana, Illinois, Kentucky Refinery District API Gravity (Weighted Average) of Crude Oil Input to Refineries (Degrees)</th>\n",
       "      <th>Minnesota, Wisconsin, North and South Dakota Refinery District API Gravity (Weighted Average) of Crude Oil Input to Refineries (Degrees)</th>\n",
       "      <th>Oklahoma, Kansas, Missouri Refinery District API Gravity (Weighted Average) of Crude Oil Input to Refineries (Degrees)</th>\n",
       "      <th>Gulf Coast (PADD 3) API Gravity (Weighted Average) of Crude Oil Input to Refineries (Degrees)</th>\n",
       "      <th>Texas Inland Refinery District API Gravity (Weighted Average) of Crude Oil Input to Refineries (Degrees)</th>\n",
       "      <th>Texas Gulf Coast Refinery District API Gravity (Weighted Average) of Crude Oil Input to Refineries (Degrees)</th>\n",
       "      <th>Louisiana Gulf Coast Refinery District API Gravity (Weighted Average) of Crude Oil Input to Refineries (Degrees)</th>\n",
       "      <th>North Louisiana, Arkansas Refinery District API Gravity (Weighted Average) of Crude Oil Input to Refineries (Degrees)</th>\n",
       "      <th>New Mexico Refinery District API Gravity (Weighted Average) of Crude Oil Input to Refineries (Degrees)</th>\n",
       "      <th>Rocky Mountains (PADD 4) API Gravity (Weighted Average) of Crude Oil Input to Refineries (Degrees)</th>\n",
       "      <th>West Coast (PADD 5) API Gravity (Weighted Average) of Crude Oil Input to Refineries (Degrees)</th>\n",
       "    </tr>\n",
       "  </thead>\n",
       "  <tbody>\n",
       "    <tr>\n",
       "      <th>0</th>\n",
       "      <td>Date</td>\n",
       "      <td>USA</td>\n",
       "      <td>PAD-1</td>\n",
       "      <td>PAD-1-1</td>\n",
       "      <td>PAD-1-2</td>\n",
       "      <td>PAD-2</td>\n",
       "      <td>PAD-2-1</td>\n",
       "      <td>PAD-2-2</td>\n",
       "      <td>PAD-2-3</td>\n",
       "      <td>PAD-3</td>\n",
       "      <td>PAD-3-1</td>\n",
       "      <td>PAD-3-2</td>\n",
       "      <td>PAD-3-3</td>\n",
       "      <td>PAD-3-4</td>\n",
       "      <td>PAD-3-5</td>\n",
       "      <td>PAD-4</td>\n",
       "      <td>PAD-5</td>\n",
       "    </tr>\n",
       "    <tr>\n",
       "      <th>1</th>\n",
       "      <td>2013-01-15 00:00:00</td>\n",
       "      <td>30.75</td>\n",
       "      <td>33.99</td>\n",
       "      <td>34.21</td>\n",
       "      <td>31.62</td>\n",
       "      <td>32.79</td>\n",
       "      <td>32.31</td>\n",
       "      <td>28.68</td>\n",
       "      <td>36.58</td>\n",
       "      <td>30.33</td>\n",
       "      <td>36.65</td>\n",
       "      <td>29.34</td>\n",
       "      <td>29.88</td>\n",
       "      <td>30.69</td>\n",
       "      <td>39.13</td>\n",
       "      <td>32.7</td>\n",
       "      <td>27.24</td>\n",
       "    </tr>\n",
       "    <tr>\n",
       "      <th>2</th>\n",
       "      <td>2013-02-15 00:00:00</td>\n",
       "      <td>30.58</td>\n",
       "      <td>33.07</td>\n",
       "      <td>33.22</td>\n",
       "      <td>31.79</td>\n",
       "      <td>32.5</td>\n",
       "      <td>31.79</td>\n",
       "      <td>28.63</td>\n",
       "      <td>37.01</td>\n",
       "      <td>30.46</td>\n",
       "      <td>35.23</td>\n",
       "      <td>29.44</td>\n",
       "      <td>30.45</td>\n",
       "      <td>31.6</td>\n",
       "      <td>39.25</td>\n",
       "      <td>33.19</td>\n",
       "      <td>26.7</td>\n",
       "    </tr>\n",
       "  </tbody>\n",
       "</table>\n",
       "</div>"
      ],
      "text/plain": [
       "                  Date  \\\n",
       "0                 Date   \n",
       "1  2013-01-15 00:00:00   \n",
       "2  2013-02-15 00:00:00   \n",
       "\n",
       "  U.S. API Gravity (Weighted Average) of Crude Oil Input to Refineries (Degrees)  \\\n",
       "0                                                USA                               \n",
       "1                                              30.75                               \n",
       "2                                              30.58                               \n",
       "\n",
       "  East Coast (PADD 1) API Gravity (Weighted Average) of Crude Oil Input to Refineries (Degrees)   \\\n",
       "0                                              PAD-1                                               \n",
       "1                                              33.99                                               \n",
       "2                                              33.07                                               \n",
       "\n",
       "  East Coast Refinery District API Gravity (Weighted Average) of Crude Oil Input to Refineries (Degrees)  \\\n",
       "0                                            PAD-1-1                                                       \n",
       "1                                              34.21                                                       \n",
       "2                                              33.22                                                       \n",
       "\n",
       "  Appalachian No. 1 Refinery District API Gravity (Weighted Average) of Crude Oil Input to Refineries (Degrees)  \\\n",
       "0                                            PAD-1-2                                                              \n",
       "1                                              31.62                                                              \n",
       "2                                              31.79                                                              \n",
       "\n",
       "  Midwest (PADD 2) API Gravity (Weighted Average) of Crude Oil Input to Refineries (Degrees)  \\\n",
       "0                                              PAD-2                                           \n",
       "1                                              32.79                                           \n",
       "2                                               32.5                                           \n",
       "\n",
       "  Indiana, Illinois, Kentucky Refinery District API Gravity (Weighted Average) of Crude Oil Input to Refineries (Degrees)  \\\n",
       "0                                            PAD-2-1                                                                        \n",
       "1                                              32.31                                                                        \n",
       "2                                              31.79                                                                        \n",
       "\n",
       "  Minnesota, Wisconsin, North and South Dakota Refinery District API Gravity (Weighted Average) of Crude Oil Input to Refineries (Degrees)  \\\n",
       "0                                            PAD-2-2                                                                                         \n",
       "1                                              28.68                                                                                         \n",
       "2                                              28.63                                                                                         \n",
       "\n",
       "  Oklahoma, Kansas, Missouri Refinery District API Gravity (Weighted Average) of Crude Oil Input to Refineries (Degrees)  \\\n",
       "0                                            PAD-2-3                                                                       \n",
       "1                                              36.58                                                                       \n",
       "2                                              37.01                                                                       \n",
       "\n",
       "  Gulf Coast (PADD 3) API Gravity (Weighted Average) of Crude Oil Input to Refineries (Degrees)  \\\n",
       "0                                              PAD-3                                              \n",
       "1                                              30.33                                              \n",
       "2                                              30.46                                              \n",
       "\n",
       "  Texas Inland Refinery District API Gravity (Weighted Average) of Crude Oil Input to Refineries (Degrees)  \\\n",
       "0                                            PAD-3-1                                                         \n",
       "1                                              36.65                                                         \n",
       "2                                              35.23                                                         \n",
       "\n",
       "  Texas Gulf Coast Refinery District API Gravity (Weighted Average) of Crude Oil Input to Refineries (Degrees)  \\\n",
       "0                                            PAD-3-2                                                             \n",
       "1                                              29.34                                                             \n",
       "2                                              29.44                                                             \n",
       "\n",
       "  Louisiana Gulf Coast Refinery District API Gravity (Weighted Average) of Crude Oil Input to Refineries (Degrees)  \\\n",
       "0                                            PAD-3-3                                                                 \n",
       "1                                              29.88                                                                 \n",
       "2                                              30.45                                                                 \n",
       "\n",
       "  North Louisiana, Arkansas Refinery District API Gravity (Weighted Average) of Crude Oil Input to Refineries (Degrees)  \\\n",
       "0                                            PAD-3-4                                                                      \n",
       "1                                              30.69                                                                      \n",
       "2                                               31.6                                                                      \n",
       "\n",
       "  New Mexico Refinery District API Gravity (Weighted Average) of Crude Oil Input to Refineries (Degrees)  \\\n",
       "0                                            PAD-3-5                                                       \n",
       "1                                              39.13                                                       \n",
       "2                                              39.25                                                       \n",
       "\n",
       "  Rocky Mountains (PADD 4) API Gravity (Weighted Average) of Crude Oil Input to Refineries (Degrees)  \\\n",
       "0                                              PAD-4                                                   \n",
       "1                                               32.7                                                   \n",
       "2                                              33.19                                                   \n",
       "\n",
       "  West Coast (PADD 5) API Gravity (Weighted Average) of Crude Oil Input to Refineries (Degrees)  \n",
       "0                                              PAD-5                                             \n",
       "1                                              27.24                                             \n",
       "2                                               26.7                                             "
      ]
     },
     "execution_count": 70,
     "metadata": {},
     "output_type": "execute_result"
    }
   ],
   "source": [
    "API_by_PAD = API_by_PAD_raw\n",
    "API_by_PAD.head(3)"
   ]
  },
  {
   "cell_type": "markdown",
   "metadata": {},
   "source": [
    "First, let's extract the 'US' level data and store it in datafrae \"API_US\":"
   ]
  },
  {
   "cell_type": "code",
   "execution_count": 92,
   "metadata": {},
   "outputs": [
    {
     "data": {
      "text/html": [
       "<div>\n",
       "<style scoped>\n",
       "    .dataframe tbody tr th:only-of-type {\n",
       "        vertical-align: middle;\n",
       "    }\n",
       "\n",
       "    .dataframe tbody tr th {\n",
       "        vertical-align: top;\n",
       "    }\n",
       "\n",
       "    .dataframe thead th {\n",
       "        text-align: right;\n",
       "    }\n",
       "</style>\n",
       "<table border=\"1\" class=\"dataframe\">\n",
       "  <thead>\n",
       "    <tr style=\"text-align: right;\">\n",
       "      <th></th>\n",
       "      <th>Date</th>\n",
       "      <th>U.S. API Gravity (Weighted Average) of Crude Oil Input to Refineries (Degrees)</th>\n",
       "    </tr>\n",
       "  </thead>\n",
       "  <tbody>\n",
       "    <tr>\n",
       "      <th>0</th>\n",
       "      <td>Date</td>\n",
       "      <td>USA</td>\n",
       "    </tr>\n",
       "    <tr>\n",
       "      <th>1</th>\n",
       "      <td>2013-01-15 00:00:00</td>\n",
       "      <td>30.75</td>\n",
       "    </tr>\n",
       "    <tr>\n",
       "      <th>2</th>\n",
       "      <td>2013-02-15 00:00:00</td>\n",
       "      <td>30.58</td>\n",
       "    </tr>\n",
       "  </tbody>\n",
       "</table>\n",
       "</div>"
      ],
      "text/plain": [
       "                  Date  \\\n",
       "0                 Date   \n",
       "1  2013-01-15 00:00:00   \n",
       "2  2013-02-15 00:00:00   \n",
       "\n",
       "  U.S. API Gravity (Weighted Average) of Crude Oil Input to Refineries (Degrees)  \n",
       "0                                                USA                              \n",
       "1                                              30.75                              \n",
       "2                                              30.58                              "
      ]
     },
     "execution_count": 92,
     "metadata": {},
     "output_type": "execute_result"
    }
   ],
   "source": [
    "API_US = API_by_PAD.iloc[:, 0:2]\n",
    "API_US.head(3)"
   ]
  },
  {
   "cell_type": "markdown",
   "metadata": {},
   "source": [
    "Looks good. Second, now let's extract the 'PAD' distrcit level data and store it in dataframes API_PAD_1, API_PAD_2, API_PAD_3, API_PAD_4, and API_PAD_5:"
   ]
  },
  {
   "cell_type": "code",
   "execution_count": 98,
   "metadata": {
    "scrolled": true
   },
   "outputs": [
    {
     "data": {
      "text/html": [
       "<div>\n",
       "<style scoped>\n",
       "    .dataframe tbody tr th:only-of-type {\n",
       "        vertical-align: middle;\n",
       "    }\n",
       "\n",
       "    .dataframe tbody tr th {\n",
       "        vertical-align: top;\n",
       "    }\n",
       "\n",
       "    .dataframe thead th {\n",
       "        text-align: right;\n",
       "    }\n",
       "</style>\n",
       "<table border=\"1\" class=\"dataframe\">\n",
       "  <thead>\n",
       "    <tr style=\"text-align: right;\">\n",
       "      <th></th>\n",
       "      <th>Date</th>\n",
       "      <th>East Coast (PADD 1) API Gravity (Weighted Average) of Crude Oil Input to Refineries (Degrees)</th>\n",
       "    </tr>\n",
       "  </thead>\n",
       "  <tbody>\n",
       "    <tr>\n",
       "      <th>0</th>\n",
       "      <td>Date</td>\n",
       "      <td>PAD-1</td>\n",
       "    </tr>\n",
       "    <tr>\n",
       "      <th>1</th>\n",
       "      <td>2013-01-15 00:00:00</td>\n",
       "      <td>33.99</td>\n",
       "    </tr>\n",
       "    <tr>\n",
       "      <th>2</th>\n",
       "      <td>2013-02-15 00:00:00</td>\n",
       "      <td>33.07</td>\n",
       "    </tr>\n",
       "  </tbody>\n",
       "</table>\n",
       "</div>"
      ],
      "text/plain": [
       "                  Date  \\\n",
       "0                 Date   \n",
       "1  2013-01-15 00:00:00   \n",
       "2  2013-02-15 00:00:00   \n",
       "\n",
       "  East Coast (PADD 1) API Gravity (Weighted Average) of Crude Oil Input to Refineries (Degrees)   \n",
       "0                                              PAD-1                                              \n",
       "1                                              33.99                                              \n",
       "2                                              33.07                                              "
      ]
     },
     "execution_count": 98,
     "metadata": {},
     "output_type": "execute_result"
    }
   ],
   "source": [
    "API_PAD_1 = API_by_PAD.iloc[:, [0,2]] # PAD-1 subset\n",
    "API_PAD_2 = API_by_PAD.iloc[:, [0,5]] # PAD-2 subset\n",
    "API_PAD_3 = API_by_PAD.iloc[:, [0,9]] # PAD-3 subset\n",
    "API_PAD_4 = API_by_PAD.iloc[:, [0,15]] # PAD-4 subset\n",
    "API_PAD_5 = API_by_PAD.iloc[:, [0,16]] # PAD-5 subset\n",
    "\n",
    "API_PAD_1.head(3)"
   ]
  },
  {
   "cell_type": "markdown",
   "metadata": {},
   "source": [
    "* Finally, we will assign the remaining columns to separate dataframes with Crude APIs - for 10 groups of states in PAD districts 1, 2, and 3:\n",
    "* State Group for PAD-1: API_P1_East, API_PAD_1_Appalachian, \n",
    "* State Group for PAD-2: API_P2_IN_IL_KY, API_P2_MI_WI_ND_SD, API_P2_OK_KS_MO,\n",
    "* State Group for PAD-3: API_P3_TX_Inland, API_P3_TX_Gulf, API_P3_LA_Gulf, API_P3_LA_AR, API_P3_NM"
   ]
  },
  {
   "cell_type": "code",
   "execution_count": 104,
   "metadata": {},
   "outputs": [],
   "source": [
    "API_P1_East = API_by_PAD.iloc[:, [0,3]] # PAD-1 State Group: East Coast\n",
    "API_P1_Appalachian = API_by_PAD.iloc[:, [0,4]] # PAD-1 State Group: Appalachian\n",
    "\n",
    "API_P2_IN_IL_KY = API_by_PAD.iloc[:, [0,6]] # PAD-2 State Group: IN, IL, and KY\n",
    "API_P2_MI_WI_ND_SD = API_by_PAD.iloc[:, [0,7]] # PAD-2 State Group: WI, ND, and SD\n",
    "API_P2_OK_KS_MO = API_by_PAD.iloc[:, [0,8]] # PAD-2 State Group: OK, KS, and MO\n",
    "\n",
    "API_P3_TX_Inland = API_by_PAD.iloc[:, [0,10]] # PAD-3 State Group: TX Inland\n",
    "API_P3_TX_Gulf = API_by_PAD.iloc[:, [0,11]] # PAD-3 State Group: TX Gulf Coast\n",
    "API_P3_LA_Gulf = API_by_PAD.iloc[:, [0,12]] # PAD-3 State Group: LA Gulf Coast\n",
    "API_P3_LA_AR = API_by_PAD.iloc[:, [0,13]] # PAD-3 State Group: North LA, AR\n",
    "API_P3_NM = API_by_PAD.iloc[:, [0,14]] # PAD-3 State Group: NM"
   ]
  },
  {
   "cell_type": "code",
   "execution_count": 105,
   "metadata": {},
   "outputs": [
    {
     "data": {
      "text/html": [
       "<div>\n",
       "<style scoped>\n",
       "    .dataframe tbody tr th:only-of-type {\n",
       "        vertical-align: middle;\n",
       "    }\n",
       "\n",
       "    .dataframe tbody tr th {\n",
       "        vertical-align: top;\n",
       "    }\n",
       "\n",
       "    .dataframe thead th {\n",
       "        text-align: right;\n",
       "    }\n",
       "</style>\n",
       "<table border=\"1\" class=\"dataframe\">\n",
       "  <thead>\n",
       "    <tr style=\"text-align: right;\">\n",
       "      <th></th>\n",
       "      <th>Date</th>\n",
       "      <th>Texas Inland Refinery District API Gravity (Weighted Average) of Crude Oil Input to Refineries (Degrees)</th>\n",
       "    </tr>\n",
       "  </thead>\n",
       "  <tbody>\n",
       "    <tr>\n",
       "      <th>0</th>\n",
       "      <td>Date</td>\n",
       "      <td>PAD-3-1</td>\n",
       "    </tr>\n",
       "    <tr>\n",
       "      <th>1</th>\n",
       "      <td>2013-01-15 00:00:00</td>\n",
       "      <td>36.65</td>\n",
       "    </tr>\n",
       "    <tr>\n",
       "      <th>2</th>\n",
       "      <td>2013-02-15 00:00:00</td>\n",
       "      <td>35.23</td>\n",
       "    </tr>\n",
       "  </tbody>\n",
       "</table>\n",
       "</div>"
      ],
      "text/plain": [
       "                  Date  \\\n",
       "0                 Date   \n",
       "1  2013-01-15 00:00:00   \n",
       "2  2013-02-15 00:00:00   \n",
       "\n",
       "  Texas Inland Refinery District API Gravity (Weighted Average) of Crude Oil Input to Refineries (Degrees)  \n",
       "0                                            PAD-3-1                                                        \n",
       "1                                              36.65                                                        \n",
       "2                                              35.23                                                        "
      ]
     },
     "execution_count": 105,
     "metadata": {},
     "output_type": "execute_result"
    }
   ],
   "source": [
    "API_P3_TX_Inland.head(3)"
   ]
  },
  {
   "cell_type": "markdown",
   "metadata": {},
   "source": [
    "* Tested all 10 state groups, looks good."
   ]
  },
  {
   "cell_type": "markdown",
   "metadata": {},
   "source": [
    "#### 2.3.6 Cleaning Cities Population data<a id='2.3.6_Cleaning_Population_Data'></a>"
   ]
  },
  {
   "cell_type": "markdown",
   "metadata": {},
   "source": [
    "* No cleaning required on the U.S. cities population ranking data at this point."
   ]
  },
  {
   "cell_type": "markdown",
   "metadata": {},
   "source": [
    "### 2.4 Handling_Missing_Values<a id='2.4_Handling_Missing_Data'></a>"
   ]
  },
  {
   "cell_type": "markdown",
   "metadata": {},
   "source": [
    "#### 2.4.1 Check if there are any zero or NaN values in the crude price data<a id='2.4.1_Missing_Values_Crude_Pricing_Data'></a>"
   ]
  },
  {
   "cell_type": "code",
   "execution_count": 114,
   "metadata": {},
   "outputs": [
    {
     "data": {
      "text/plain": [
       "10"
      ]
     },
     "execution_count": 114,
     "metadata": {},
     "output_type": "execute_result"
    }
   ],
   "source": [
    "np.count_nonzero(crude_cost.isna())"
   ]
  },
  {
   "cell_type": "code",
   "execution_count": 115,
   "metadata": {
    "scrolled": true
   },
   "outputs": [
    {
     "data": {
      "text/html": [
       "<div>\n",
       "<style scoped>\n",
       "    .dataframe tbody tr th:only-of-type {\n",
       "        vertical-align: middle;\n",
       "    }\n",
       "\n",
       "    .dataframe tbody tr th {\n",
       "        vertical-align: top;\n",
       "    }\n",
       "\n",
       "    .dataframe thead th {\n",
       "        text-align: right;\n",
       "    }\n",
       "</style>\n",
       "<table border=\"1\" class=\"dataframe\">\n",
       "  <thead>\n",
       "    <tr style=\"text-align: right;\">\n",
       "      <th></th>\n",
       "      <th>Date</th>\n",
       "      <th>US Total</th>\n",
       "      <th>US PADD-1</th>\n",
       "      <th>US PADD-2</th>\n",
       "      <th>US PADD-3</th>\n",
       "      <th>US PADD-4</th>\n",
       "      <th>US PADD-5</th>\n",
       "      <th>Import Total</th>\n",
       "      <th>Imp PADD-1</th>\n",
       "      <th>Imp PADD-2</th>\n",
       "      <th>Imp PADD-3</th>\n",
       "      <th>Imp PADD-4</th>\n",
       "      <th>Imp PADD-5</th>\n",
       "    </tr>\n",
       "  </thead>\n",
       "  <tbody>\n",
       "    <tr>\n",
       "      <th>94</th>\n",
       "      <td>2020-11-15</td>\n",
       "      <td>41.56</td>\n",
       "      <td>45.02</td>\n",
       "      <td>41.68</td>\n",
       "      <td>41.47</td>\n",
       "      <td>39.61</td>\n",
       "      <td>41.92</td>\n",
       "      <td>38.72</td>\n",
       "      <td>43.61</td>\n",
       "      <td>35.9</td>\n",
       "      <td>39.91</td>\n",
       "      <td>36.01</td>\n",
       "      <td>42.82</td>\n",
       "    </tr>\n",
       "    <tr>\n",
       "      <th>95</th>\n",
       "      <td>2020-12-15</td>\n",
       "      <td>46.57</td>\n",
       "      <td>NaN</td>\n",
       "      <td>NaN</td>\n",
       "      <td>NaN</td>\n",
       "      <td>NaN</td>\n",
       "      <td>NaN</td>\n",
       "      <td>43.20</td>\n",
       "      <td>NaN</td>\n",
       "      <td>NaN</td>\n",
       "      <td>NaN</td>\n",
       "      <td>NaN</td>\n",
       "      <td>NaN</td>\n",
       "    </tr>\n",
       "  </tbody>\n",
       "</table>\n",
       "</div>"
      ],
      "text/plain": [
       "         Date  US Total  US PADD-1  US PADD-2  US PADD-3  US PADD-4  \\\n",
       "94 2020-11-15     41.56      45.02      41.68      41.47      39.61   \n",
       "95 2020-12-15     46.57        NaN        NaN        NaN        NaN   \n",
       "\n",
       "    US PADD-5  Import Total  Imp PADD-1  Imp PADD-2  Imp PADD-3  Imp PADD-4  \\\n",
       "94      41.92         38.72       43.61        35.9       39.91       36.01   \n",
       "95        NaN         43.20         NaN         NaN         NaN         NaN   \n",
       "\n",
       "    Imp PADD-5  \n",
       "94       42.82  \n",
       "95         NaN  "
      ]
     },
     "execution_count": 115,
     "metadata": {},
     "output_type": "execute_result"
    }
   ],
   "source": [
    "crude_cost.tail(2)"
   ]
  },
  {
   "cell_type": "markdown",
   "metadata": {},
   "source": [
    "##### It looks like it's just the last row that is missing price data for December 2020 - fill in the NaN with previous month data:"
   ]
  },
  {
   "cell_type": "code",
   "execution_count": 116,
   "metadata": {},
   "outputs": [
    {
     "data": {
      "text/html": [
       "<div>\n",
       "<style scoped>\n",
       "    .dataframe tbody tr th:only-of-type {\n",
       "        vertical-align: middle;\n",
       "    }\n",
       "\n",
       "    .dataframe tbody tr th {\n",
       "        vertical-align: top;\n",
       "    }\n",
       "\n",
       "    .dataframe thead th {\n",
       "        text-align: right;\n",
       "    }\n",
       "</style>\n",
       "<table border=\"1\" class=\"dataframe\">\n",
       "  <thead>\n",
       "    <tr style=\"text-align: right;\">\n",
       "      <th></th>\n",
       "      <th>Date</th>\n",
       "      <th>US Total</th>\n",
       "      <th>US PADD-1</th>\n",
       "      <th>US PADD-2</th>\n",
       "      <th>US PADD-3</th>\n",
       "      <th>US PADD-4</th>\n",
       "      <th>US PADD-5</th>\n",
       "      <th>Import Total</th>\n",
       "      <th>Imp PADD-1</th>\n",
       "      <th>Imp PADD-2</th>\n",
       "      <th>Imp PADD-3</th>\n",
       "      <th>Imp PADD-4</th>\n",
       "      <th>Imp PADD-5</th>\n",
       "    </tr>\n",
       "  </thead>\n",
       "  <tbody>\n",
       "    <tr>\n",
       "      <th>94</th>\n",
       "      <td>2020-11-15</td>\n",
       "      <td>41.56</td>\n",
       "      <td>45.02</td>\n",
       "      <td>41.68</td>\n",
       "      <td>41.47</td>\n",
       "      <td>39.61</td>\n",
       "      <td>41.92</td>\n",
       "      <td>38.72</td>\n",
       "      <td>43.61</td>\n",
       "      <td>35.9</td>\n",
       "      <td>39.91</td>\n",
       "      <td>36.01</td>\n",
       "      <td>42.82</td>\n",
       "    </tr>\n",
       "    <tr>\n",
       "      <th>95</th>\n",
       "      <td>2020-12-15</td>\n",
       "      <td>46.57</td>\n",
       "      <td>45.02</td>\n",
       "      <td>41.68</td>\n",
       "      <td>41.47</td>\n",
       "      <td>39.61</td>\n",
       "      <td>41.92</td>\n",
       "      <td>43.20</td>\n",
       "      <td>43.61</td>\n",
       "      <td>35.9</td>\n",
       "      <td>39.91</td>\n",
       "      <td>36.01</td>\n",
       "      <td>42.82</td>\n",
       "    </tr>\n",
       "  </tbody>\n",
       "</table>\n",
       "</div>"
      ],
      "text/plain": [
       "         Date  US Total  US PADD-1  US PADD-2  US PADD-3  US PADD-4  \\\n",
       "94 2020-11-15     41.56      45.02      41.68      41.47      39.61   \n",
       "95 2020-12-15     46.57      45.02      41.68      41.47      39.61   \n",
       "\n",
       "    US PADD-5  Import Total  Imp PADD-1  Imp PADD-2  Imp PADD-3  Imp PADD-4  \\\n",
       "94      41.92         38.72       43.61        35.9       39.91       36.01   \n",
       "95      41.92         43.20       43.61        35.9       39.91       36.01   \n",
       "\n",
       "    Imp PADD-5  \n",
       "94       42.82  \n",
       "95       42.82  "
      ]
     },
     "execution_count": 116,
     "metadata": {},
     "output_type": "execute_result"
    }
   ],
   "source": [
    "# Backfill the NaN in Dec 2020 with the previous ones from Nov 2020\n",
    "crude_cost.fillna(method='pad').tail(2)"
   ]
  },
  {
   "cell_type": "markdown",
   "metadata": {},
   "source": [
    "### 2.5 Categorical Features <a id='2.5_Categorial_Features'></a>"
   ]
  },
  {
   "cell_type": "markdown",
   "metadata": {},
   "source": [
    "#### 2.5.1 WTI and Brent Categories<a id='2.5.1_WTI_and_Brent_Categories'></a>"
   ]
  },
  {
   "cell_type": "code",
   "execution_count": 167,
   "metadata": {},
   "outputs": [
    {
     "data": {
      "text/html": [
       "<div>\n",
       "<style scoped>\n",
       "    .dataframe tbody tr th:only-of-type {\n",
       "        vertical-align: middle;\n",
       "    }\n",
       "\n",
       "    .dataframe tbody tr th {\n",
       "        vertical-align: top;\n",
       "    }\n",
       "\n",
       "    .dataframe thead th {\n",
       "        text-align: right;\n",
       "    }\n",
       "</style>\n",
       "<table border=\"1\" class=\"dataframe\">\n",
       "  <thead>\n",
       "    <tr style=\"text-align: right;\">\n",
       "      <th></th>\n",
       "      <th>Date</th>\n",
       "      <th>WTI</th>\n",
       "      <th>Brent</th>\n",
       "    </tr>\n",
       "  </thead>\n",
       "  <tbody>\n",
       "    <tr>\n",
       "      <th>0</th>\n",
       "      <td>2013-01-15</td>\n",
       "      <td>94.76</td>\n",
       "      <td>112.96</td>\n",
       "    </tr>\n",
       "    <tr>\n",
       "      <th>1</th>\n",
       "      <td>2013-02-15</td>\n",
       "      <td>95.31</td>\n",
       "      <td>116.05</td>\n",
       "    </tr>\n",
       "    <tr>\n",
       "      <th>2</th>\n",
       "      <td>2013-03-15</td>\n",
       "      <td>92.94</td>\n",
       "      <td>108.47</td>\n",
       "    </tr>\n",
       "  </tbody>\n",
       "</table>\n",
       "</div>"
      ],
      "text/plain": [
       "        Date    WTI   Brent\n",
       "0 2013-01-15  94.76  112.96\n",
       "1 2013-02-15  95.31  116.05\n",
       "2 2013-03-15  92.94  108.47"
      ]
     },
     "execution_count": 167,
     "metadata": {},
     "output_type": "execute_result"
    }
   ],
   "source": [
    "# Melt the combined WTI and Brent pricing data into Crude Oil prices labeled\n",
    "# by corresponding 'WTI' or 'Brent' categorical labels\n",
    "WTI_Brent_Melt = WTI_Brent\n",
    "WTI_Brent_Melt.head(3)"
   ]
  },
  {
   "cell_type": "code",
   "execution_count": 168,
   "metadata": {
    "scrolled": true
   },
   "outputs": [
    {
     "data": {
      "text/html": [
       "<div>\n",
       "<style scoped>\n",
       "    .dataframe tbody tr th:only-of-type {\n",
       "        vertical-align: middle;\n",
       "    }\n",
       "\n",
       "    .dataframe tbody tr th {\n",
       "        vertical-align: top;\n",
       "    }\n",
       "\n",
       "    .dataframe thead th {\n",
       "        text-align: right;\n",
       "    }\n",
       "</style>\n",
       "<table border=\"1\" class=\"dataframe\">\n",
       "  <thead>\n",
       "    <tr style=\"text-align: right;\">\n",
       "      <th></th>\n",
       "      <th>Date</th>\n",
       "      <th>Crude_Name</th>\n",
       "      <th>Price</th>\n",
       "    </tr>\n",
       "  </thead>\n",
       "  <tbody>\n",
       "    <tr>\n",
       "      <th>190</th>\n",
       "      <td>2020-11-15</td>\n",
       "      <td>Brent</td>\n",
       "      <td>42.69</td>\n",
       "    </tr>\n",
       "    <tr>\n",
       "      <th>191</th>\n",
       "      <td>2020-12-15</td>\n",
       "      <td>Brent</td>\n",
       "      <td>49.99</td>\n",
       "    </tr>\n",
       "  </tbody>\n",
       "</table>\n",
       "</div>"
      ],
      "text/plain": [
       "          Date Crude_Name  Price\n",
       "190 2020-11-15      Brent  42.69\n",
       "191 2020-12-15      Brent  49.99"
      ]
     },
     "execution_count": 168,
     "metadata": {},
     "output_type": "execute_result"
    }
   ],
   "source": [
    "WTI_Brent_Melt = pd.melt(WTI_Brent_Melt, id_vars=['Date'], var_name=['Crude_Name'], value_name='Price')\n",
    "WTI_Brent_Melt.head(2)"
   ]
  },
  {
   "cell_type": "code",
   "execution_count": 169,
   "metadata": {},
   "outputs": [
    {
     "data": {
      "text/html": [
       "<div>\n",
       "<style scoped>\n",
       "    .dataframe tbody tr th:only-of-type {\n",
       "        vertical-align: middle;\n",
       "    }\n",
       "\n",
       "    .dataframe tbody tr th {\n",
       "        vertical-align: top;\n",
       "    }\n",
       "\n",
       "    .dataframe thead th {\n",
       "        text-align: right;\n",
       "    }\n",
       "</style>\n",
       "<table border=\"1\" class=\"dataframe\">\n",
       "  <thead>\n",
       "    <tr style=\"text-align: right;\">\n",
       "      <th></th>\n",
       "      <th>Date</th>\n",
       "      <th>Crude_Name</th>\n",
       "      <th>Price</th>\n",
       "    </tr>\n",
       "  </thead>\n",
       "  <tbody>\n",
       "    <tr>\n",
       "      <th>190</th>\n",
       "      <td>2020-11-15</td>\n",
       "      <td>Brent</td>\n",
       "      <td>42.69</td>\n",
       "    </tr>\n",
       "    <tr>\n",
       "      <th>191</th>\n",
       "      <td>2020-12-15</td>\n",
       "      <td>Brent</td>\n",
       "      <td>49.99</td>\n",
       "    </tr>\n",
       "  </tbody>\n",
       "</table>\n",
       "</div>"
      ],
      "text/plain": [
       "          Date Crude_Name  Price\n",
       "190 2020-11-15      Brent  42.69\n",
       "191 2020-12-15      Brent  49.99"
      ]
     },
     "execution_count": 169,
     "metadata": {},
     "output_type": "execute_result"
    }
   ],
   "source": [
    "WTI_Brent_Melt.tail(2)"
   ]
  },
  {
   "cell_type": "markdown",
   "metadata": {},
   "source": [
    "#### 2.5.2 Crude Acquisition Cost Categories<a id='2.5.2_Refinery_Crude_Cost_Categories'></a>"
   ]
  },
  {
   "cell_type": "code",
   "execution_count": 187,
   "metadata": {},
   "outputs": [
    {
     "data": {
      "text/html": [
       "<div>\n",
       "<style scoped>\n",
       "    .dataframe tbody tr th:only-of-type {\n",
       "        vertical-align: middle;\n",
       "    }\n",
       "\n",
       "    .dataframe tbody tr th {\n",
       "        vertical-align: top;\n",
       "    }\n",
       "\n",
       "    .dataframe thead th {\n",
       "        text-align: right;\n",
       "    }\n",
       "</style>\n",
       "<table border=\"1\" class=\"dataframe\">\n",
       "  <thead>\n",
       "    <tr style=\"text-align: right;\">\n",
       "      <th></th>\n",
       "      <th>Date</th>\n",
       "      <th>US Total</th>\n",
       "      <th>US PADD-1</th>\n",
       "      <th>US PADD-2</th>\n",
       "      <th>US PADD-3</th>\n",
       "      <th>US PADD-4</th>\n",
       "      <th>US PADD-5</th>\n",
       "      <th>Import Total</th>\n",
       "      <th>Imp PADD-1</th>\n",
       "      <th>Imp PADD-2</th>\n",
       "      <th>Imp PADD-3</th>\n",
       "      <th>Imp PADD-4</th>\n",
       "      <th>Imp PADD-5</th>\n",
       "    </tr>\n",
       "  </thead>\n",
       "  <tbody>\n",
       "    <tr>\n",
       "      <th>0</th>\n",
       "      <td>2013-01-15</td>\n",
       "      <td>103.78</td>\n",
       "      <td>109.40</td>\n",
       "      <td>95.61</td>\n",
       "      <td>107.60</td>\n",
       "      <td>86.95</td>\n",
       "      <td>106.25</td>\n",
       "      <td>97.91</td>\n",
       "      <td>109.28</td>\n",
       "      <td>76.59</td>\n",
       "      <td>104.31</td>\n",
       "      <td>70.96</td>\n",
       "      <td>107.24</td>\n",
       "    </tr>\n",
       "    <tr>\n",
       "      <th>1</th>\n",
       "      <td>2013-02-15</td>\n",
       "      <td>103.75</td>\n",
       "      <td>113.15</td>\n",
       "      <td>97.03</td>\n",
       "      <td>106.64</td>\n",
       "      <td>86.94</td>\n",
       "      <td>107.11</td>\n",
       "      <td>99.23</td>\n",
       "      <td>113.32</td>\n",
       "      <td>77.83</td>\n",
       "      <td>108.15</td>\n",
       "      <td>70.15</td>\n",
       "      <td>106.95</td>\n",
       "    </tr>\n",
       "  </tbody>\n",
       "</table>\n",
       "</div>"
      ],
      "text/plain": [
       "        Date  US Total  US PADD-1  US PADD-2  US PADD-3  US PADD-4  US PADD-5  \\\n",
       "0 2013-01-15    103.78     109.40      95.61     107.60      86.95     106.25   \n",
       "1 2013-02-15    103.75     113.15      97.03     106.64      86.94     107.11   \n",
       "\n",
       "   Import Total  Imp PADD-1  Imp PADD-2  Imp PADD-3  Imp PADD-4  Imp PADD-5  \n",
       "0         97.91      109.28       76.59      104.31       70.96      107.24  \n",
       "1         99.23      113.32       77.83      108.15       70.15      106.95  "
      ]
     },
     "execution_count": 187,
     "metadata": {},
     "output_type": "execute_result"
    }
   ],
   "source": [
    "Crude_Cost_Melt = crude_cost\n",
    "Crude_Cost_Melt.head(2)"
   ]
  },
  {
   "cell_type": "code",
   "execution_count": 188,
   "metadata": {},
   "outputs": [],
   "source": [
    "# Melt the combined Product Pricing data into dataframes, labeled\n",
    "# by corresponding categorical labels, which also indicate US and PAD level groupings\n",
    "Crude_Cost_Melt = pd.melt(Crude_Cost_Melt, id_vars=['Date'],\n",
    "                          var_name=['Crude_Source'], value_name='Price')"
   ]
  },
  {
   "cell_type": "code",
   "execution_count": 189,
   "metadata": {},
   "outputs": [
    {
     "data": {
      "text/html": [
       "<div>\n",
       "<style scoped>\n",
       "    .dataframe tbody tr th:only-of-type {\n",
       "        vertical-align: middle;\n",
       "    }\n",
       "\n",
       "    .dataframe tbody tr th {\n",
       "        vertical-align: top;\n",
       "    }\n",
       "\n",
       "    .dataframe thead th {\n",
       "        text-align: right;\n",
       "    }\n",
       "</style>\n",
       "<table border=\"1\" class=\"dataframe\">\n",
       "  <thead>\n",
       "    <tr style=\"text-align: right;\">\n",
       "      <th></th>\n",
       "      <th>Date</th>\n",
       "      <th>Crude_Source</th>\n",
       "      <th>Price</th>\n",
       "    </tr>\n",
       "  </thead>\n",
       "  <tbody>\n",
       "    <tr>\n",
       "      <th>0</th>\n",
       "      <td>2013-01-15</td>\n",
       "      <td>US Total</td>\n",
       "      <td>103.78</td>\n",
       "    </tr>\n",
       "    <tr>\n",
       "      <th>1</th>\n",
       "      <td>2013-02-15</td>\n",
       "      <td>US Total</td>\n",
       "      <td>103.75</td>\n",
       "    </tr>\n",
       "  </tbody>\n",
       "</table>\n",
       "</div>"
      ],
      "text/plain": [
       "        Date Crude_Source   Price\n",
       "0 2013-01-15     US Total  103.78\n",
       "1 2013-02-15     US Total  103.75"
      ]
     },
     "execution_count": 189,
     "metadata": {},
     "output_type": "execute_result"
    }
   ],
   "source": [
    "Crude_Cost_Melt.head(2)"
   ]
  },
  {
   "cell_type": "code",
   "execution_count": 190,
   "metadata": {},
   "outputs": [
    {
     "data": {
      "text/html": [
       "<div>\n",
       "<style scoped>\n",
       "    .dataframe tbody tr th:only-of-type {\n",
       "        vertical-align: middle;\n",
       "    }\n",
       "\n",
       "    .dataframe tbody tr th {\n",
       "        vertical-align: top;\n",
       "    }\n",
       "\n",
       "    .dataframe thead th {\n",
       "        text-align: right;\n",
       "    }\n",
       "</style>\n",
       "<table border=\"1\" class=\"dataframe\">\n",
       "  <thead>\n",
       "    <tr style=\"text-align: right;\">\n",
       "      <th></th>\n",
       "      <th>Date</th>\n",
       "      <th>Crude_Source</th>\n",
       "      <th>Price</th>\n",
       "    </tr>\n",
       "  </thead>\n",
       "  <tbody>\n",
       "    <tr>\n",
       "      <th>1150</th>\n",
       "      <td>2020-11-15</td>\n",
       "      <td>Imp PADD-5</td>\n",
       "      <td>42.82</td>\n",
       "    </tr>\n",
       "    <tr>\n",
       "      <th>1151</th>\n",
       "      <td>2020-12-15</td>\n",
       "      <td>Imp PADD-5</td>\n",
       "      <td>NaN</td>\n",
       "    </tr>\n",
       "  </tbody>\n",
       "</table>\n",
       "</div>"
      ],
      "text/plain": [
       "           Date Crude_Source  Price\n",
       "1150 2020-11-15   Imp PADD-5  42.82\n",
       "1151 2020-12-15   Imp PADD-5    NaN"
      ]
     },
     "execution_count": 190,
     "metadata": {},
     "output_type": "execute_result"
    }
   ],
   "source": [
    "Crude_Cost_Melt.tail(2)"
   ]
  },
  {
   "cell_type": "markdown",
   "metadata": {},
   "source": [
    "#### 2.5.3 Petroleum Product Pricing Categories<a id='2.5.3_Audit_Product_Pricing_Categories'></a>"
   ]
  },
  {
   "cell_type": "code",
   "execution_count": 198,
   "metadata": {
    "scrolled": true
   },
   "outputs": [
    {
     "data": {
      "text/html": [
       "<div>\n",
       "<style scoped>\n",
       "    .dataframe tbody tr th:only-of-type {\n",
       "        vertical-align: middle;\n",
       "    }\n",
       "\n",
       "    .dataframe tbody tr th {\n",
       "        vertical-align: top;\n",
       "    }\n",
       "\n",
       "    .dataframe thead th {\n",
       "        text-align: right;\n",
       "    }\n",
       "</style>\n",
       "<table border=\"1\" class=\"dataframe\">\n",
       "  <thead>\n",
       "    <tr style=\"text-align: right;\">\n",
       "      <th></th>\n",
       "      <th>Date</th>\n",
       "      <th>GSL-ALL</th>\n",
       "      <th>GSL-NET</th>\n",
       "      <th>GSL-R</th>\n",
       "      <th>GSL-R-1</th>\n",
       "      <th>GSL-R-2</th>\n",
       "      <th>GSL-C</th>\n",
       "      <th>GSL-C-1</th>\n",
       "      <th>GSL-C-1-1</th>\n",
       "      <th>GSL-C-1-2</th>\n",
       "      <th>...</th>\n",
       "      <th>GSL-ADJ</th>\n",
       "      <th>KER</th>\n",
       "      <th>KER-Comm</th>\n",
       "      <th>KER-Milit</th>\n",
       "      <th>DSL</th>\n",
       "      <th>DSL-1</th>\n",
       "      <th>DSL-2</th>\n",
       "      <th>DSL-3</th>\n",
       "      <th>RSD</th>\n",
       "      <th>PPN</th>\n",
       "    </tr>\n",
       "  </thead>\n",
       "  <tbody>\n",
       "    <tr>\n",
       "      <th>1</th>\n",
       "      <td>2013-01-04 00:00:00</td>\n",
       "      <td>8385</td>\n",
       "      <td>8204</td>\n",
       "      <td>2586</td>\n",
       "      <td>2586</td>\n",
       "      <td>0</td>\n",
       "      <td>5618</td>\n",
       "      <td>4499</td>\n",
       "      <td>4498</td>\n",
       "      <td>1</td>\n",
       "      <td>...</td>\n",
       "      <td>181</td>\n",
       "      <td>1511</td>\n",
       "      <td>1374</td>\n",
       "      <td>137</td>\n",
       "      <td>4920</td>\n",
       "      <td>4474</td>\n",
       "      <td>116</td>\n",
       "      <td>331</td>\n",
       "      <td>425</td>\n",
       "      <td>1339</td>\n",
       "    </tr>\n",
       "    <tr>\n",
       "      <th>2</th>\n",
       "      <td>2013-01-11 00:00:00</td>\n",
       "      <td>8590</td>\n",
       "      <td>8591</td>\n",
       "      <td>2808</td>\n",
       "      <td>2808</td>\n",
       "      <td>0</td>\n",
       "      <td>5784</td>\n",
       "      <td>4935</td>\n",
       "      <td>4934</td>\n",
       "      <td>1</td>\n",
       "      <td>...</td>\n",
       "      <td>-1</td>\n",
       "      <td>1517</td>\n",
       "      <td>1376</td>\n",
       "      <td>141</td>\n",
       "      <td>4564</td>\n",
       "      <td>4142</td>\n",
       "      <td>84</td>\n",
       "      <td>338</td>\n",
       "      <td>415</td>\n",
       "      <td>1292</td>\n",
       "    </tr>\n",
       "  </tbody>\n",
       "</table>\n",
       "<p>2 rows × 21 columns</p>\n",
       "</div>"
      ],
      "text/plain": [
       "0                 Date GSL-ALL GSL-NET GSL-R GSL-R-1 GSL-R-2 GSL-C GSL-C-1  \\\n",
       "1  2013-01-04 00:00:00    8385    8204  2586    2586       0  5618    4499   \n",
       "2  2013-01-11 00:00:00    8590    8591  2808    2808       0  5784    4935   \n",
       "\n",
       "0 GSL-C-1-1 GSL-C-1-2  ... GSL-ADJ   KER KER-Comm KER-Milit   DSL DSL-1 DSL-2  \\\n",
       "1      4498         1  ...     181  1511     1374       137  4920  4474   116   \n",
       "2      4934         1  ...      -1  1517     1376       141  4564  4142    84   \n",
       "\n",
       "0 DSL-3  RSD   PPN  \n",
       "1   331  425  1339  \n",
       "2   338  415  1292  \n",
       "\n",
       "[2 rows x 21 columns]"
      ]
     },
     "execution_count": 198,
     "metadata": {},
     "output_type": "execute_result"
    }
   ],
   "source": [
    "prod_US.head(2)"
   ]
  },
  {
   "cell_type": "code",
   "execution_count": 194,
   "metadata": {},
   "outputs": [],
   "source": [
    "# Melt the combined Domestic and Imported Crude Oil data into dataframe, labeled\n",
    "# by categorical labels, representing type of product codes and market location,\n",
    "# e.g. 'GSL', 'DSL-1', etc. - for the U.S. and PAD district levels, total of 6 datasets\n",
    "prod_US_melt = prod_US\n",
    "prod_PAD_1_melt = prod_PAD_1\n",
    "prod_PAD_2_melt = prod_PAD_2\n",
    "prod_PAD_3_melt = prod_PAD_3\n",
    "prod_PAD_4_melt = prod_PAD_4\n",
    "prod_PAD_5_melt = prod_PAD_5\n",
    "\n",
    "prod_US_melt = pd.melt(prod_US_melt, id_vars=['Date'], var_name=['Product'], value_name='Price')\n",
    "prod_PAD_1_melt = pd.melt(prod_PAD_1_melt, id_vars=['Date'], var_name=['Product'], value_name='Price')\n",
    "prod_PAD_2_melt = pd.melt(prod_PAD_2_melt, id_vars=['Date'], var_name=['Product'], value_name='Price')\n",
    "prod_PAD_3_melt = pd.melt(prod_PAD_3_melt, id_vars=['Date'], var_name=['Product'], value_name='Price')\n",
    "prod_PAD_4_melt = pd.melt(prod_PAD_4_melt, id_vars=['Date'], var_name=['Product'], value_name='Price')\n",
    "prod_PAD_5_melt = pd.melt(prod_PAD_5_melt, id_vars=['Date'], var_name=['Product'], value_name='Price')"
   ]
  },
  {
   "cell_type": "code",
   "execution_count": 195,
   "metadata": {},
   "outputs": [
    {
     "data": {
      "text/html": [
       "<div>\n",
       "<style scoped>\n",
       "    .dataframe tbody tr th:only-of-type {\n",
       "        vertical-align: middle;\n",
       "    }\n",
       "\n",
       "    .dataframe tbody tr th {\n",
       "        vertical-align: top;\n",
       "    }\n",
       "\n",
       "    .dataframe thead th {\n",
       "        text-align: right;\n",
       "    }\n",
       "</style>\n",
       "<table border=\"1\" class=\"dataframe\">\n",
       "  <thead>\n",
       "    <tr style=\"text-align: right;\">\n",
       "      <th></th>\n",
       "      <th>Date</th>\n",
       "      <th>Product</th>\n",
       "      <th>Price</th>\n",
       "    </tr>\n",
       "  </thead>\n",
       "  <tbody>\n",
       "    <tr>\n",
       "      <th>0</th>\n",
       "      <td>2013-01-04</td>\n",
       "      <td>GSL-ALL</td>\n",
       "      <td>8385</td>\n",
       "    </tr>\n",
       "    <tr>\n",
       "      <th>1</th>\n",
       "      <td>2013-01-11</td>\n",
       "      <td>GSL-ALL</td>\n",
       "      <td>8590</td>\n",
       "    </tr>\n",
       "  </tbody>\n",
       "</table>\n",
       "</div>"
      ],
      "text/plain": [
       "        Date  Product Price\n",
       "0 2013-01-04  GSL-ALL  8385\n",
       "1 2013-01-11  GSL-ALL  8590"
      ]
     },
     "execution_count": 195,
     "metadata": {},
     "output_type": "execute_result"
    }
   ],
   "source": [
    "prod_US_melt.head(2)"
   ]
  },
  {
   "cell_type": "code",
   "execution_count": 196,
   "metadata": {},
   "outputs": [
    {
     "data": {
      "text/html": [
       "<div>\n",
       "<style scoped>\n",
       "    .dataframe tbody tr th:only-of-type {\n",
       "        vertical-align: middle;\n",
       "    }\n",
       "\n",
       "    .dataframe tbody tr th {\n",
       "        vertical-align: top;\n",
       "    }\n",
       "\n",
       "    .dataframe thead th {\n",
       "        text-align: right;\n",
       "    }\n",
       "</style>\n",
       "<table border=\"1\" class=\"dataframe\">\n",
       "  <thead>\n",
       "    <tr style=\"text-align: right;\">\n",
       "      <th></th>\n",
       "      <th>Date</th>\n",
       "      <th>Product</th>\n",
       "      <th>Price</th>\n",
       "    </tr>\n",
       "  </thead>\n",
       "  <tbody>\n",
       "    <tr>\n",
       "      <th>8498</th>\n",
       "      <td>2021-02-12</td>\n",
       "      <td>PPN</td>\n",
       "      <td>2344</td>\n",
       "    </tr>\n",
       "    <tr>\n",
       "      <th>8499</th>\n",
       "      <td>2021-02-19</td>\n",
       "      <td>PPN</td>\n",
       "      <td>1406</td>\n",
       "    </tr>\n",
       "  </tbody>\n",
       "</table>\n",
       "</div>"
      ],
      "text/plain": [
       "           Date Product Price\n",
       "8498 2021-02-12     PPN  2344\n",
       "8499 2021-02-19     PPN  1406"
      ]
     },
     "execution_count": 196,
     "metadata": {},
     "output_type": "execute_result"
    }
   ],
   "source": [
    "prod_US_melt.tail(2)"
   ]
  },
  {
   "cell_type": "code",
   "execution_count": 197,
   "metadata": {},
   "outputs": [
    {
     "data": {
      "text/html": [
       "<div>\n",
       "<style scoped>\n",
       "    .dataframe tbody tr th:only-of-type {\n",
       "        vertical-align: middle;\n",
       "    }\n",
       "\n",
       "    .dataframe tbody tr th {\n",
       "        vertical-align: top;\n",
       "    }\n",
       "\n",
       "    .dataframe thead th {\n",
       "        text-align: right;\n",
       "    }\n",
       "</style>\n",
       "<table border=\"1\" class=\"dataframe\">\n",
       "  <thead>\n",
       "    <tr style=\"text-align: right;\">\n",
       "      <th></th>\n",
       "      <th>Date</th>\n",
       "      <th>Product</th>\n",
       "      <th>Price</th>\n",
       "    </tr>\n",
       "  </thead>\n",
       "  <tbody>\n",
       "    <tr>\n",
       "      <th>0</th>\n",
       "      <td>2013-01-04</td>\n",
       "      <td>GSL-NET</td>\n",
       "      <td>2514</td>\n",
       "    </tr>\n",
       "    <tr>\n",
       "      <th>1</th>\n",
       "      <td>2013-01-11</td>\n",
       "      <td>GSL-NET</td>\n",
       "      <td>2792</td>\n",
       "    </tr>\n",
       "  </tbody>\n",
       "</table>\n",
       "</div>"
      ],
      "text/plain": [
       "        Date  Product Price\n",
       "0 2013-01-04  GSL-NET  2514\n",
       "1 2013-01-11  GSL-NET  2792"
      ]
     },
     "execution_count": 197,
     "metadata": {},
     "output_type": "execute_result"
    }
   ],
   "source": [
    "prod_PAD_1_melt.head(2)"
   ]
  },
  {
   "cell_type": "markdown",
   "metadata": {},
   "source": [
    "#### 2.5.4A US Refinery Profiles Categories<a id='2.5.4A_Refinery_Profiles_Categories'></a>"
   ]
  },
  {
   "cell_type": "code",
   "execution_count": null,
   "metadata": {},
   "outputs": [],
   "source": []
  },
  {
   "cell_type": "markdown",
   "metadata": {},
   "source": [
    "#### 2.5.4B US Refining Capacity Categories<a id='2.5.4B_Refinery_Capacity_Categories'></a>"
   ]
  },
  {
   "cell_type": "code",
   "execution_count": null,
   "metadata": {},
   "outputs": [],
   "source": []
  },
  {
   "cell_type": "markdown",
   "metadata": {},
   "source": [
    "#### 2.5.4C Refinery to City Distances by PAD<a id='2.5.4C_Refinery_to_City_Distances_by_PAD'></a>"
   ]
  },
  {
   "cell_type": "code",
   "execution_count": null,
   "metadata": {},
   "outputs": [],
   "source": []
  },
  {
   "cell_type": "markdown",
   "metadata": {},
   "source": [
    "#### 2.5.5 Crude API Categories<a id='2.5.5_Audit_Crude_API_Categories'></a>"
   ]
  },
  {
   "cell_type": "code",
   "execution_count": null,
   "metadata": {},
   "outputs": [],
   "source": []
  },
  {
   "cell_type": "markdown",
   "metadata": {},
   "source": [
    "#### 2.5.6A Population Data Categories<a id='2.5.6A_Population_Data_Categories'></a>"
   ]
  },
  {
   "cell_type": "code",
   "execution_count": null,
   "metadata": {},
   "outputs": [],
   "source": []
  },
  {
   "cell_type": "markdown",
   "metadata": {},
   "source": [
    "### 2.6 Numeric Features<a id='2.6_Numeric_Features'></a>"
   ]
  },
  {
   "cell_type": "markdown",
   "metadata": {},
   "source": [
    "#### 2.6.4B US Refining Capacities <a id='2.6.4B_Refinery_Capacities'></a>"
   ]
  },
  {
   "cell_type": "markdown",
   "metadata": {},
   "source": [
    "## 3. Review Distributions<a id='3_Review_Distributions'></a>"
   ]
  },
  {
   "cell_type": "markdown",
   "metadata": {},
   "source": [
    "## 4. Target Features <a id='4_Target_Features'></a>"
   ]
  },
  {
   "cell_type": "markdown",
   "metadata": {},
   "source": [
    "## 5. Saving_Data_and_Summary <a id='5_Saving_Data_and_Summary'></a>"
   ]
  },
  {
   "cell_type": "code",
   "execution_count": null,
   "metadata": {},
   "outputs": [],
   "source": []
  }
 ],
 "metadata": {
  "kernelspec": {
   "display_name": "Python 3",
   "language": "python",
   "name": "python3"
  },
  "language_info": {
   "codemirror_mode": {
    "name": "ipython",
    "version": 3
   },
   "file_extension": ".py",
   "mimetype": "text/x-python",
   "name": "python",
   "nbconvert_exporter": "python",
   "pygments_lexer": "ipython3",
   "version": "3.8.3"
  }
 },
 "nbformat": 4,
 "nbformat_minor": 4
}
