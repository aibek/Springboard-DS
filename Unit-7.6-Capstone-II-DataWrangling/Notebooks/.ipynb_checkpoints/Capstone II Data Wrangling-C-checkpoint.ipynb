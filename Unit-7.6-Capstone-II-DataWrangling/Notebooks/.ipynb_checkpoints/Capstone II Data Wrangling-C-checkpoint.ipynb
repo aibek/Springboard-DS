{
 "cells": [
  {
   "cell_type": "markdown",
   "metadata": {},
   "source": [
    "## Capstone II Project - Unit 7.6 Data Wrangling"
   ]
  },
  {
   "cell_type": "markdown",
   "metadata": {},
   "source": [
    "## Contents<a id='Contents'></a>\n",
    "* [1. Data Sourcing and Loading](#1_Data_Sourcing_and_Loading)\n",
    "  * [1.1 Importing Libraries](#1.1_Importing_Libraries_and_functions)\n",
    "  * [1.2. Loading Data](#1.2_Loading_Data)\n",
    "    * [1.2.1 Loading Crude Oil Pricing Data](#1.2.1_Crude_Oil_Pricing)\n",
    "    * [1.2.2 Loading Crude Acquisition Cost by Refineries Data for 2013-2020](#1.2.2_Crude_Acquisition_Cost)\n",
    "    * [1.2.3A Loading Product Volumes_by_PAD for 2013-2020](#1.2.3A_PAD_Product_Volumes)\n",
    "    * [1.2.3B Loading Product Prices by_PAD for 2013-2020](#1.2.3B_PAD_Product_Prices)\n",
    "    * [1.2.4 Loading Refinery_Details](#1.2.4_Refineries_Details)\n",
    "    * [1.2.5 Loading Crude_API_by_PAD](#1.2.5_PAD_Crude_API)\n",
    "    * [1.2.6 Loading US_Census_Data](#1.2.6_US_Census_Data)\n",
    "* [2. Data Exploring](#2_Data_Exploring)\n",
    "  * [2.1 Audintg Data](#2.1_Audintg_Data)\n",
    "    * [2.1.1 Auditing WTI and Brent Price Index Data](#2.1.1_Audit_WTI_and_Brent_Data)\n",
    "    * [2.1.2 Auditing Crude Acquisition Cost Data ](#2.1.2_Audit_Refinery_Crude_Cost_Data)\n",
    "    * [2.1.3A Audit Petroleum Product Volume Data](#2.1.3A_Audit_Product_Volume_Data)\n",
    "    * [2.1.3B Audit Petroleum Product Pricing Data](#2.1.3B_Audit_Product_Pricing_Data)\n",
    "    * [2.1.4A Audit U.S. Refinery Profiles Data](#2.1.4A_Audit_Refinery_ProfilesData)\n",
    "    * [2.1.4B Audit US Refining Capacities by Process Types and PAD districts](#2.1.4B_Audit_Refinery_Capacity_Data)\n",
    "    * [2.1.4C Audit US Distance from US Refineries to cities with population > 300K](#2.1.4C_Audit_Refinery_to_Cities_Distances_Data)\n",
    "    * [2.1.5 Audit Crude API data grouped by PAD districts](#2.1.5_Audit_Crude_API_Data)\n",
    "    * [2.1.6A Audit Population data, grouped by PAD districts, states, and cities:](#2.1.6A_Audit_Population_Data)\n",
    "  * [2.2 Merging Data](#2.2_Merging_Data)\n",
    "    * [2.2.1 Merging WTI and Brent pricing data time series into one dataframe](#2.2.1_Merging_WTI_Brent_Time_Series)\n",
    "  * [2.3 Cleaning The Data](#2.3_Cleaning_Data)\n",
    "    * [2.3.1 Cleaning WTI and Brent Crude Pricing Data](#2.3.1_Cleaning_Crude_Pricing_Data)\n",
    "    * [2.3.2 Cleaning the data on Refineries' Crude Acquisition Costs by PAD](#2.3.2_Cleaning_Reiners_Crude_Cost_Data)\n",
    "    * [2.3.3A Cleaning the data on Petroleum Product Volume by PAD](#2.3.3_Cleaning_Product_Volume_Data)\n",
    "    * [2.3.3B Cleaning the data on Petroleum Product Pricing by PAD](#2.3.3_Cleaning_Product_Pricing_Data)\n",
    "    * [2.3.4 Cleaning the U.S. Refinery Profiles Data](#2.3.4_Cleaning_Refinery_Profiles_Data)\n",
    "    * [2.3.5 Cleaning Crude API data](#2.3.5_Cleaning_Crude_API_Data)\n",
    "    * [2.3.6 Cleaning Cities Population data](#2.3.6_Cleaning_Population_Data)\n",
    "  * [2.4 Handling_Missing_Values](#2.4_Handling_Missing_Data)\n",
    "    * [2.4.1 Check if there are any zero or NaN values in the crude price data](#2.4.1_Missing_Values_Crude_Pricing_Data)  \n",
    "  * [2.5 Categorical Features](#2.5_Categorial_Features)\n",
    "    * [2.5.1 WTI and Brent Categories](#2.5.1_WTI_and_Brent_Categories)\n",
    "    * [2.5.2 Crude Acquisition Cost Categories](#2.5.2_Refinery_Crude_Cost_Categories)\n",
    "    * [2.5.3A Petroleum Product Volume Categories](#2.5.3A_Product_Volume_Categories)\n",
    "    * [2.5.3B Petroleum Product Pricing Categories](#2.5.3B_Product_Pricing_Categories)\n",
    "    * [2.5.4A US Refinery Profiles Categories](#2.5.4A_Refinery_Profiles_Categories)\n",
    "    * [2.5.4B US Refining Capacity Categories](#2.5.4B_Refinery_Capacity_Categories)\n",
    "    * [2.5.4C Refinery to City Distances by PAD](#2.5.4C_Refinery_to_City_Distances_by_PAD)\n",
    "    * [2.5.5 Crude API Categories](#2.5.5_Audit_Crude_API_Categories)\n",
    "    * [2.5.6A Population Data Categories](#2.5.6A_Population_Data_Categories)\n",
    "  * [2.6 Numeric Features](#2.6_Numeric_Features)\n",
    "    * [2.6.4B US Refining Capacities](#2.6.4B_Refinery_Capacities)\n",
    "  * [3. Review Distributions](#3_Review_Distributions)\n",
    "  * [4. Target Features](#4_Target_Features)\n",
    "  * [5. Saving_Data_and_Summary](#5_Saving_Data_and_Summary)"
   ]
  },
  {
   "cell_type": "markdown",
   "metadata": {},
   "source": [
    "## 1. Data Sourcing and Loading<a id='1_Data_Sourcing_and_Loading'></a>"
   ]
  },
  {
   "cell_type": "markdown",
   "metadata": {},
   "source": [
    "### 1.1 Importing Libraries<a id='1.1_Importing_Libraries_and_functions'></a>"
   ]
  },
  {
   "cell_type": "code",
   "execution_count": 1,
   "metadata": {},
   "outputs": [],
   "source": [
    "# importing pandas and numpy libraries, matplotlab functions\n",
    "import pandas as pd\n",
    "import numpy as np\n",
    "import matplotlib.pyplot as plt\n",
    "import os"
   ]
  },
  {
   "cell_type": "markdown",
   "metadata": {},
   "source": [
    "### 1.2 Loading Data<a id='1.2_Loading_Data'></a>\n",
    "Let's start loading up some data."
   ]
  },
  {
   "cell_type": "markdown",
   "metadata": {},
   "source": [
    "#### 1.2.1 Loading Crude Oil Pricing data<a id='1.2.1_Crude_Oil_Pricing'></a>\n",
    "* WTI and Brent price indicies for period 2013-2020\n",
    "\n",
    "Source: EIA.gov website"
   ]
  },
  {
   "cell_type": "code",
   "execution_count": 2,
   "metadata": {},
   "outputs": [],
   "source": [
    "# load the Excel file with the crude oil pricing - West Texas Intermediate (WTI):\n",
    "WTI = pd.read_excel('../data/121A_WTI_prices_2013_2020.xlsx', header=0)\n",
    "\n",
    "# load the Excel file with the crude oil pricing - Brent European (Brent):\n",
    "Brent = pd.read_excel('../data/121B_Brent_prices_2013_2020.xlsx', header=0)"
   ]
  },
  {
   "cell_type": "code",
   "execution_count": 3,
   "metadata": {},
   "outputs": [
    {
     "name": "stdout",
     "output_type": "stream",
     "text": [
      "<class 'pandas.core.frame.DataFrame'>\n",
      "RangeIndex: 96 entries, 0 to 95\n",
      "Data columns (total 2 columns):\n",
      " #   Column                                               Non-Null Count  Dtype         \n",
      "---  ------                                               --------------  -----         \n",
      " 0   Date                                                 96 non-null     datetime64[ns]\n",
      " 1   Cushing, OK WTI Spot Price FOB (Dollars per Barrel)  96 non-null     float64       \n",
      "dtypes: datetime64[ns](1), float64(1)\n",
      "memory usage: 1.6 KB\n",
      "<class 'pandas.core.frame.DataFrame'>\n",
      "RangeIndex: 96 entries, 0 to 95\n",
      "Data columns (total 2 columns):\n",
      " #   Column                                            Non-Null Count  Dtype         \n",
      "---  ------                                            --------------  -----         \n",
      " 0   Date                                              96 non-null     datetime64[ns]\n",
      " 1   Europe Brent Spot Price FOB (Dollars per Barrel)  96 non-null     float64       \n",
      "dtypes: datetime64[ns](1), float64(1)\n",
      "memory usage: 1.6 KB\n"
     ]
    },
    {
     "data": {
      "text/plain": [
       "(None, None)"
      ]
     },
     "execution_count": 3,
     "metadata": {},
     "output_type": "execute_result"
    }
   ],
   "source": [
    "WTI.info(), Brent.info()"
   ]
  },
  {
   "cell_type": "code",
   "execution_count": 4,
   "metadata": {},
   "outputs": [
    {
     "data": {
      "text/plain": [
       "(        Date  Cushing, OK WTI Spot Price FOB (Dollars per Barrel)\n",
       " 0 2013-01-15                                              94.76  \n",
       " 1 2013-02-15                                              95.31  \n",
       " 2 2013-03-15                                              92.94  \n",
       " 3 2013-04-15                                              92.02  \n",
       " 4 2013-05-15                                              94.51  ,\n",
       "          Date  Europe Brent Spot Price FOB (Dollars per Barrel)\n",
       " 91 2020-08-15                                             44.74\n",
       " 92 2020-09-15                                             40.91\n",
       " 93 2020-10-15                                             40.19\n",
       " 94 2020-11-15                                             42.69\n",
       " 95 2020-12-15                                             49.99)"
      ]
     },
     "execution_count": 4,
     "metadata": {},
     "output_type": "execute_result"
    }
   ],
   "source": [
    "WTI.head(), Brent.tail()"
   ]
  },
  {
   "cell_type": "markdown",
   "metadata": {},
   "source": [
    "#### 1.2.2 Loading Crude Acquisition Cost by Refineries Data for 2013-2020<a id='1.2.2_Crude_Acquisition_Cost'></a>\n",
    "Source: EIA.gov website"
   ]
  },
  {
   "cell_type": "code",
   "execution_count": 5,
   "metadata": {},
   "outputs": [],
   "source": [
    "# load Excel file with the crude oil acquisition costs by refineries - US Domesitc crude:\n",
    "crude_us = pd.read_excel('../data/122A_US_crude_acq_cost_2013_2020.xlsx', header=0)\n",
    "\n",
    "# load Excel file with the crude oil acquisition costs by refineries - Imported crude:\n",
    "crude_imported = pd.read_excel('../data/122B_Import_crude_acq_cost_2013_2020.xlsx', header=0)"
   ]
  },
  {
   "cell_type": "code",
   "execution_count": 6,
   "metadata": {},
   "outputs": [
    {
     "name": "stdout",
     "output_type": "stream",
     "text": [
      "<class 'pandas.core.frame.DataFrame'>\n",
      "RangeIndex: 96 entries, 0 to 95\n",
      "Data columns (total 7 columns):\n",
      " #   Column                                                                                        Non-Null Count  Dtype         \n",
      "---  ------                                                                                        --------------  -----         \n",
      " 0   Date                                                                                          96 non-null     datetime64[ns]\n",
      " 1   U.S. Crude Oil Domestic Acquisition Cost by Refiners (Dollars per Barrel)                     96 non-null     float64       \n",
      " 2   East Coast (PADD 1) Crude Oil Domestic Acquisition Cost by Refiners (Dollars per Barrel)      95 non-null     float64       \n",
      " 3   Midwest (PADD 2) Crude Oil Domestic Acquisition Cost by Refiners (Dollars per Barrel)         95 non-null     float64       \n",
      " 4   Gulf Coast (PADD 3) Crude Oil Domestic Acquisition Cost by Refiners (Dollars per Barrel)      95 non-null     float64       \n",
      " 5   Rocky Mountain (PADD 4) Crude Oil Domestic Acquisition Cost by Refiners (Dollars per Barrel)  95 non-null     float64       \n",
      " 6   West Coast (PADD 5) Crude Oil Domestic Acquisition Cost by Refiners (Dollars per Barrel)      95 non-null     float64       \n",
      "dtypes: datetime64[ns](1), float64(6)\n",
      "memory usage: 5.4 KB\n",
      "<class 'pandas.core.frame.DataFrame'>\n",
      "RangeIndex: 96 entries, 0 to 95\n",
      "Data columns (total 7 columns):\n",
      " #   Column                                                                                        Non-Null Count  Dtype         \n",
      "---  ------                                                                                        --------------  -----         \n",
      " 0   Date                                                                                          96 non-null     datetime64[ns]\n",
      " 1   U.S. Crude Oil Imported Acquisition Cost by Refiners (Dollars per Barrel)                     96 non-null     float64       \n",
      " 2   East Coast (PADD 1) Crude Oil Imported Acquisition Cost by Refiners (Dollars per Barrel)      95 non-null     float64       \n",
      " 3   Midwest (PADD 2) Crude Oil Imported Acquisition Cost by Refiners (Dollars per Barrel)         95 non-null     float64       \n",
      " 4   Gulf Coast (PADD 3) Crude Oil Imported Acquisition Cost by Refiners (Dollars per Barrel)      95 non-null     float64       \n",
      " 5   Rocky Mountain (PADD 4) Crude Oil Imported Acquisition Cost by Refiners (Dollars per Barrel)  95 non-null     float64       \n",
      " 6   West Coast (PADD 5) Crude Oil Imported Acquisition Cost by Refiners (Dollars per Barrel)      95 non-null     float64       \n",
      "dtypes: datetime64[ns](1), float64(6)\n",
      "memory usage: 5.4 KB\n"
     ]
    },
    {
     "data": {
      "text/plain": [
       "(None, None)"
      ]
     },
     "execution_count": 6,
     "metadata": {},
     "output_type": "execute_result"
    }
   ],
   "source": [
    "crude_us.info(), crude_imported.info()"
   ]
  },
  {
   "cell_type": "markdown",
   "metadata": {},
   "source": [
    "#### 1.2.3A Loading Product Volumes by PAD for 2013-2020<a id='1.2.3A_PAD_Product_Volumes'></a>"
   ]
  },
  {
   "cell_type": "markdown",
   "metadata": {},
   "source": [
    "The source Excel file contains 2013-2020 product pricing time serires, aggregated by 2 Level territorieal groups: 1 - US, 2 - PAD district; the groups are presented in 6 Excel worksheets:\n",
    "Sheet 1 is for US, Sheets 2-6 are for PAD-1 through PAD-5\n",
    "* Let's load them into 6 separate dataframes:"
   ]
  },
  {
   "cell_type": "code",
   "execution_count": 7,
   "metadata": {},
   "outputs": [],
   "source": [
    "# load Excel worksheet with Refined Product Volumes at the US level:\n",
    "prod_US_raw = pd.read_excel('../data/123_Prod_Volumes_by_PAD_Jan2013_Feb2021.xlsx', sheet_name='US', header=0)"
   ]
  },
  {
   "cell_type": "code",
   "execution_count": 8,
   "metadata": {},
   "outputs": [],
   "source": [
    "# load Excel file with Refined Product Volumes for PAD-1:\n",
    "prod_PAD_1_raw = pd.read_excel('../data/123_Prod_Volumes_by_PAD_Jan2013_Feb2021.xlsx', sheet_name='PAD-1', header=0)"
   ]
  },
  {
   "cell_type": "code",
   "execution_count": 9,
   "metadata": {},
   "outputs": [],
   "source": [
    "# load Excel file with Refined Product Volumes for PAD-2:\n",
    "prod_PAD_2_raw = pd.read_excel('../data/123_Prod_Volumes_by_PAD_Jan2013_Feb2021.xlsx', sheet_name='PAD-2', header=0)"
   ]
  },
  {
   "cell_type": "code",
   "execution_count": 10,
   "metadata": {},
   "outputs": [],
   "source": [
    "# load Excel file with Refined Product Volumess for PAD-3:\n",
    "prod_PAD_3_raw = pd.read_excel('../data/123_Prod_Volumes_by_PAD_Jan2013_Feb2021.xlsx', sheet_name='PAD-3', header=0)"
   ]
  },
  {
   "cell_type": "code",
   "execution_count": 11,
   "metadata": {},
   "outputs": [],
   "source": [
    "# load Excel file with Refined Product Volumes for PAD-4:\n",
    "prod_PAD_4_raw = pd.read_excel('../data/123_Prod_Volumes_by_PAD_Jan2013_Feb2021.xlsx', sheet_name='PAD-4', header=0)"
   ]
  },
  {
   "cell_type": "code",
   "execution_count": 12,
   "metadata": {},
   "outputs": [],
   "source": [
    "# load Excel file with Refined Product Volumes for PAD-5:\n",
    "prod_PAD_5_raw = pd.read_excel('../data/123_Prod_Volumes_by_PAD_Jan2013_Feb2021.xlsx', sheet_name='PAD-5', header=0)"
   ]
  },
  {
   "cell_type": "markdown",
   "metadata": {},
   "source": [
    "#### 1.2.3B Loading Product Prices by PAD for 2013-2020<a id='1.2.3B_PAD_Product_Prices'></a>"
   ]
  },
  {
   "cell_type": "code",
   "execution_count": 13,
   "metadata": {},
   "outputs": [],
   "source": [
    "# load Excel worksheet with Refined Product Prices, labeled by US, PAD, and Sub-PAD levels:\n",
    "prod_prices_raw = pd.read_excel('../data/123_Prod_Prices_by_PAD_Jan2013_Nov2020.xlsx',\n",
    "                            sheet_name='Refinery Resale Prices', header=0)"
   ]
  },
  {
   "cell_type": "markdown",
   "metadata": {},
   "source": [
    "#### 1.2.4 Loading Refinery_Details<a id='1.2.4_Refineries_Details'></a>"
   ]
  },
  {
   "cell_type": "code",
   "execution_count": 14,
   "metadata": {},
   "outputs": [],
   "source": [
    "# Load a List of U.S. Refineries by Capacities, Location, and PAD\n",
    "Refineries_List = pd.read_excel('../data/124A_Refineries_List.xlsx', header=0)"
   ]
  },
  {
   "cell_type": "code",
   "execution_count": 15,
   "metadata": {},
   "outputs": [],
   "source": [
    "# Load Refinery Processing Capacities by Type and PAD as of 2020\n",
    "Refinery_Cap_ByType = pd.read_excel('../data/124B_Refinery_Cap_ByTypes_ByPAD_2020.xlsx', header=0)"
   ]
  },
  {
   "cell_type": "code",
   "execution_count": 16,
   "metadata": {},
   "outputs": [],
   "source": [
    "# Load Data on distances between Refineries and cities with > 300K in population:\n",
    "Refinery_City300K_Distances = pd.read_excel('../data/124C_Refinery_MajorCity_Distance.xlsx', header=0)"
   ]
  },
  {
   "cell_type": "markdown",
   "metadata": {},
   "source": [
    "#### 1.2.5 Loading Crude_API_by_PAD<a id='1.2.5_PAD_Crude_API'></a>"
   ]
  },
  {
   "cell_type": "code",
   "execution_count": 17,
   "metadata": {},
   "outputs": [],
   "source": [
    "# Load data on Crude API by PADs\n",
    "API_by_PAD_raw = pd.read_excel('../data/125_Crude_API_by_PAD_Jan2013_Nov2020.xlsx', header=0)"
   ]
  },
  {
   "cell_type": "code",
   "execution_count": 18,
   "metadata": {},
   "outputs": [
    {
     "data": {
      "text/html": [
       "<div>\n",
       "<style scoped>\n",
       "    .dataframe tbody tr th:only-of-type {\n",
       "        vertical-align: middle;\n",
       "    }\n",
       "\n",
       "    .dataframe tbody tr th {\n",
       "        vertical-align: top;\n",
       "    }\n",
       "\n",
       "    .dataframe thead th {\n",
       "        text-align: right;\n",
       "    }\n",
       "</style>\n",
       "<table border=\"1\" class=\"dataframe\">\n",
       "  <thead>\n",
       "    <tr style=\"text-align: right;\">\n",
       "      <th></th>\n",
       "      <th>Date</th>\n",
       "      <th>U.S. API Gravity (Weighted Average) of Crude Oil Input to Refineries (Degrees)</th>\n",
       "      <th>East Coast (PADD 1) API Gravity (Weighted Average) of Crude Oil Input to Refineries (Degrees)</th>\n",
       "      <th>East Coast Refinery District API Gravity (Weighted Average) of Crude Oil Input to Refineries (Degrees)</th>\n",
       "      <th>Appalachian No. 1 Refinery District API Gravity (Weighted Average) of Crude Oil Input to Refineries (Degrees)</th>\n",
       "      <th>Midwest (PADD 2) API Gravity (Weighted Average) of Crude Oil Input to Refineries (Degrees)</th>\n",
       "      <th>Indiana, Illinois, Kentucky Refinery District API Gravity (Weighted Average) of Crude Oil Input to Refineries (Degrees)</th>\n",
       "      <th>Minnesota, Wisconsin, North and South Dakota Refinery District API Gravity (Weighted Average) of Crude Oil Input to Refineries (Degrees)</th>\n",
       "      <th>Oklahoma, Kansas, Missouri Refinery District API Gravity (Weighted Average) of Crude Oil Input to Refineries (Degrees)</th>\n",
       "      <th>Gulf Coast (PADD 3) API Gravity (Weighted Average) of Crude Oil Input to Refineries (Degrees)</th>\n",
       "      <th>Texas Inland Refinery District API Gravity (Weighted Average) of Crude Oil Input to Refineries (Degrees)</th>\n",
       "      <th>Texas Gulf Coast Refinery District API Gravity (Weighted Average) of Crude Oil Input to Refineries (Degrees)</th>\n",
       "      <th>Louisiana Gulf Coast Refinery District API Gravity (Weighted Average) of Crude Oil Input to Refineries (Degrees)</th>\n",
       "      <th>North Louisiana, Arkansas Refinery District API Gravity (Weighted Average) of Crude Oil Input to Refineries (Degrees)</th>\n",
       "      <th>New Mexico Refinery District API Gravity (Weighted Average) of Crude Oil Input to Refineries (Degrees)</th>\n",
       "      <th>Rocky Mountains (PADD 4) API Gravity (Weighted Average) of Crude Oil Input to Refineries (Degrees)</th>\n",
       "      <th>West Coast (PADD 5) API Gravity (Weighted Average) of Crude Oil Input to Refineries (Degrees)</th>\n",
       "    </tr>\n",
       "  </thead>\n",
       "  <tbody>\n",
       "    <tr>\n",
       "      <th>0</th>\n",
       "      <td>Date</td>\n",
       "      <td>USA</td>\n",
       "      <td>PAD-1</td>\n",
       "      <td>PAD-1-1</td>\n",
       "      <td>PAD-1-2</td>\n",
       "      <td>PAD-2</td>\n",
       "      <td>PAD-2-1</td>\n",
       "      <td>PAD-2-2</td>\n",
       "      <td>PAD-2-3</td>\n",
       "      <td>PAD-3</td>\n",
       "      <td>PAD-3-1</td>\n",
       "      <td>PAD-3-2</td>\n",
       "      <td>PAD-3-3</td>\n",
       "      <td>PAD-3-4</td>\n",
       "      <td>PAD-3-5</td>\n",
       "      <td>PAD-4</td>\n",
       "      <td>PAD-5</td>\n",
       "    </tr>\n",
       "    <tr>\n",
       "      <th>1</th>\n",
       "      <td>2013-01-15 00:00:00</td>\n",
       "      <td>30.75</td>\n",
       "      <td>33.99</td>\n",
       "      <td>34.21</td>\n",
       "      <td>31.62</td>\n",
       "      <td>32.79</td>\n",
       "      <td>32.31</td>\n",
       "      <td>28.68</td>\n",
       "      <td>36.58</td>\n",
       "      <td>30.33</td>\n",
       "      <td>36.65</td>\n",
       "      <td>29.34</td>\n",
       "      <td>29.88</td>\n",
       "      <td>30.69</td>\n",
       "      <td>39.13</td>\n",
       "      <td>32.7</td>\n",
       "      <td>27.24</td>\n",
       "    </tr>\n",
       "  </tbody>\n",
       "</table>\n",
       "</div>"
      ],
      "text/plain": [
       "                  Date  \\\n",
       "0                 Date   \n",
       "1  2013-01-15 00:00:00   \n",
       "\n",
       "  U.S. API Gravity (Weighted Average) of Crude Oil Input to Refineries (Degrees)  \\\n",
       "0                                                USA                               \n",
       "1                                              30.75                               \n",
       "\n",
       "  East Coast (PADD 1) API Gravity (Weighted Average) of Crude Oil Input to Refineries (Degrees)   \\\n",
       "0                                              PAD-1                                               \n",
       "1                                              33.99                                               \n",
       "\n",
       "  East Coast Refinery District API Gravity (Weighted Average) of Crude Oil Input to Refineries (Degrees)  \\\n",
       "0                                            PAD-1-1                                                       \n",
       "1                                              34.21                                                       \n",
       "\n",
       "  Appalachian No. 1 Refinery District API Gravity (Weighted Average) of Crude Oil Input to Refineries (Degrees)  \\\n",
       "0                                            PAD-1-2                                                              \n",
       "1                                              31.62                                                              \n",
       "\n",
       "  Midwest (PADD 2) API Gravity (Weighted Average) of Crude Oil Input to Refineries (Degrees)  \\\n",
       "0                                              PAD-2                                           \n",
       "1                                              32.79                                           \n",
       "\n",
       "  Indiana, Illinois, Kentucky Refinery District API Gravity (Weighted Average) of Crude Oil Input to Refineries (Degrees)  \\\n",
       "0                                            PAD-2-1                                                                        \n",
       "1                                              32.31                                                                        \n",
       "\n",
       "  Minnesota, Wisconsin, North and South Dakota Refinery District API Gravity (Weighted Average) of Crude Oil Input to Refineries (Degrees)  \\\n",
       "0                                            PAD-2-2                                                                                         \n",
       "1                                              28.68                                                                                         \n",
       "\n",
       "  Oklahoma, Kansas, Missouri Refinery District API Gravity (Weighted Average) of Crude Oil Input to Refineries (Degrees)  \\\n",
       "0                                            PAD-2-3                                                                       \n",
       "1                                              36.58                                                                       \n",
       "\n",
       "  Gulf Coast (PADD 3) API Gravity (Weighted Average) of Crude Oil Input to Refineries (Degrees)  \\\n",
       "0                                              PAD-3                                              \n",
       "1                                              30.33                                              \n",
       "\n",
       "  Texas Inland Refinery District API Gravity (Weighted Average) of Crude Oil Input to Refineries (Degrees)  \\\n",
       "0                                            PAD-3-1                                                         \n",
       "1                                              36.65                                                         \n",
       "\n",
       "  Texas Gulf Coast Refinery District API Gravity (Weighted Average) of Crude Oil Input to Refineries (Degrees)  \\\n",
       "0                                            PAD-3-2                                                             \n",
       "1                                              29.34                                                             \n",
       "\n",
       "  Louisiana Gulf Coast Refinery District API Gravity (Weighted Average) of Crude Oil Input to Refineries (Degrees)  \\\n",
       "0                                            PAD-3-3                                                                 \n",
       "1                                              29.88                                                                 \n",
       "\n",
       "  North Louisiana, Arkansas Refinery District API Gravity (Weighted Average) of Crude Oil Input to Refineries (Degrees)  \\\n",
       "0                                            PAD-3-4                                                                      \n",
       "1                                              30.69                                                                      \n",
       "\n",
       "  New Mexico Refinery District API Gravity (Weighted Average) of Crude Oil Input to Refineries (Degrees)  \\\n",
       "0                                            PAD-3-5                                                       \n",
       "1                                              39.13                                                       \n",
       "\n",
       "  Rocky Mountains (PADD 4) API Gravity (Weighted Average) of Crude Oil Input to Refineries (Degrees)  \\\n",
       "0                                              PAD-4                                                   \n",
       "1                                               32.7                                                   \n",
       "\n",
       "  West Coast (PADD 5) API Gravity (Weighted Average) of Crude Oil Input to Refineries (Degrees)  \n",
       "0                                              PAD-5                                             \n",
       "1                                              27.24                                             "
      ]
     },
     "execution_count": 18,
     "metadata": {},
     "output_type": "execute_result"
    }
   ],
   "source": [
    "API_by_PAD_raw.head(2)"
   ]
  },
  {
   "cell_type": "markdown",
   "metadata": {},
   "source": [
    "#### 1.2.6 Loading US_Census_Data<a id='1.2.6_US_Census_Data'></a>"
   ]
  },
  {
   "cell_type": "code",
   "execution_count": 19,
   "metadata": {},
   "outputs": [],
   "source": [
    "# Load Excel file with US Cities ranked by population for period Apr 2010-Jul 2019:\n",
    "Pop_by_Cities_raw = pd.read_excel('../data/126A_Population_by_City_Apr_2010_Jul_2019.xlsx', header=0)"
   ]
  },
  {
   "cell_type": "code",
   "execution_count": 20,
   "metadata": {},
   "outputs": [],
   "source": [
    "# Get population by state table from the URL below\n",
    "states_url = 'https://simple.wikipedia.org/w/index.php?title=List_of_U.S._states&oldid=7168473'\n",
    "usa_states = pd.read_html(states_url)"
   ]
  },
  {
   "cell_type": "markdown",
   "metadata": {},
   "source": [
    "## 2. Data Exploring<a id='2_Data_Exploring'></a>"
   ]
  },
  {
   "cell_type": "markdown",
   "metadata": {},
   "source": [
    "### 2.1 Auditing Data <a id='2.1_Audintg_Data'></a>"
   ]
  },
  {
   "cell_type": "markdown",
   "metadata": {},
   "source": [
    "#### 2.1.1 Auditing WTI and Brent Price Index Data <a id='2.1.1_Audit_WTI_and_Brent_Data'></a>"
   ]
  },
  {
   "cell_type": "markdown",
   "metadata": {},
   "source": [
    "##### Verify that the 'Date' columns in both the WTI and Brent dataframes match:"
   ]
  },
  {
   "cell_type": "code",
   "execution_count": 21,
   "metadata": {},
   "outputs": [
    {
     "data": {
      "text/plain": [
       "True    96\n",
       "Name: Date, dtype: int64"
      ]
     },
     "execution_count": 21,
     "metadata": {},
     "output_type": "execute_result"
    }
   ],
   "source": [
    "WTI['Date'].isin(Brent['Date']).value_counts()"
   ]
  },
  {
   "cell_type": "markdown",
   "metadata": {},
   "source": [
    "* There are 96 non-NULL records in both files; merge them into one dataframe"
   ]
  },
  {
   "cell_type": "markdown",
   "metadata": {},
   "source": [
    "#### 2.1.2 Auditing Crude Acquisition Cost Data <a id='2.1.2_Audit_Refinery_Crude_Cost_Data'></a>"
   ]
  },
  {
   "cell_type": "markdown",
   "metadata": {},
   "source": [
    "##### Verify that the 'Date' columns in both the Domestic Crude and Imported Crude dataframes match:"
   ]
  },
  {
   "cell_type": "code",
   "execution_count": 22,
   "metadata": {
    "scrolled": true
   },
   "outputs": [
    {
     "data": {
      "text/plain": [
       "True    96\n",
       "Name: Date, dtype: int64"
      ]
     },
     "execution_count": 22,
     "metadata": {},
     "output_type": "execute_result"
    }
   ],
   "source": [
    "crude_us['Date'].isin(crude_imported['Date']).value_counts()"
   ]
  },
  {
   "cell_type": "markdown",
   "metadata": {},
   "source": [
    "* Merge Domestic and Imported Crude data into one data frame on the 'Date' column"
   ]
  },
  {
   "cell_type": "markdown",
   "metadata": {},
   "source": [
    "#### 2.1.3A Audit Petroleum Product Volume Data<a id='2.1.3A_Audit_Product_Volume_Data'></a>"
   ]
  },
  {
   "cell_type": "code",
   "execution_count": 23,
   "metadata": {
    "scrolled": true
   },
   "outputs": [
    {
     "data": {
      "text/html": [
       "<div>\n",
       "<style scoped>\n",
       "    .dataframe tbody tr th:only-of-type {\n",
       "        vertical-align: middle;\n",
       "    }\n",
       "\n",
       "    .dataframe tbody tr th {\n",
       "        vertical-align: top;\n",
       "    }\n",
       "\n",
       "    .dataframe thead th {\n",
       "        text-align: right;\n",
       "    }\n",
       "</style>\n",
       "<table border=\"1\" class=\"dataframe\">\n",
       "  <thead>\n",
       "    <tr style=\"text-align: right;\">\n",
       "      <th></th>\n",
       "      <th>Date</th>\n",
       "      <th>Weekly U.S. Refiner and Blender Adjusted Net Production of Finished Motor Gasoline  (Thousand Barrels per Day)</th>\n",
       "      <th>Weekly U.S. Refiner and Blender Net Production of Finished Motor Gasoline  (Thousand Barrels per Day)</th>\n",
       "      <th>Weekly U.S. Refiner and Blender Net Production of Reformulated Motor Gasoline  (Thousand Barrels per Day)</th>\n",
       "      <th>Weekly U.S. Refiner and Blender Net Production of Finished Reformulated Motor Gasoline with Ethanol  (Thousand Barrels per Day)</th>\n",
       "      <th>Weekly U.S. Refiner and Blender Net Production of Other Finished Reformulated Motor Gasoline  (Thousand Barrels per Day)</th>\n",
       "      <th>Weekly U.S. Refiner and Blender Net Production of Conventional Motor Gasoline  (Thousand Barrels per Day)</th>\n",
       "      <th>Weekly U.S. Refiner and Blender Net Production of Finished Conventional Motor Gasoline with Ethanol  (Thousand Barrels per Day)</th>\n",
       "      <th>Weekly U.S. Refiner and Blender Net Production of Finished Conventional Motor Gasoline, Ed 55 and Lower  (Thousand Barrels per Day)</th>\n",
       "      <th>Weekly U.S. Refiner and Blender Net Production of Finished Conventional Motor Gasoline, Greater than Ed 55  (Thousand Barrels per Day)</th>\n",
       "      <th>...</th>\n",
       "      <th>Weekly U.S. Supply Adjustment of Finished Motor Gasoline  (Thousand Barrels per Day)</th>\n",
       "      <th>Weekly U.S. Refiner and Blender Net Production of Kerosene-Type Jet Fuel  (Thousand Barrels per Day)</th>\n",
       "      <th>Weekly U.S.  Refiner and Blender Net Production of Commercial Kerosene-Type Jet Fuel  (Thousand Barrels per Day)</th>\n",
       "      <th>Weekly U.S.  Refiner and Blender Net Production of Military Kerosene-Type Jet Fuel  (Thousand Barrels per Day)</th>\n",
       "      <th>Weekly U.S. Refiner and Blender Net Production of Distillate Fuel Oil  (Thousand Barrels per Day)</th>\n",
       "      <th>Weekly U.S. Refiner and Blender Net Production of Distillate Fuel Oil, 0 to 15 ppm Sulfur  (Thousand Barrels per Day)</th>\n",
       "      <th>Weekly U.S. Production of Distillate Fuel Oil, Greater than 15 to 500 ppm Sulfur  (Thousand Barrels per Day)</th>\n",
       "      <th>Weekly U.S.  Refiner and Blender Net Production of Distillate Fuel Oil Greater than 500 ppm Sulfur  (Thousand Barrels per Day)</th>\n",
       "      <th>Weekly U.S. Refiner and Blender Net Production of Residual Fuel Oil  (Thousand Barrels per Day)</th>\n",
       "      <th>Weekly U.S. Refiner, Blender, and Gas Plant Net Production of Propane and Propylene  (Thousand Barrels per Day)</th>\n",
       "    </tr>\n",
       "  </thead>\n",
       "  <tbody>\n",
       "    <tr>\n",
       "      <th>0</th>\n",
       "      <td>Date</td>\n",
       "      <td>GSL-ALL</td>\n",
       "      <td>GSL-NET</td>\n",
       "      <td>GSL-R</td>\n",
       "      <td>GSL-R-1</td>\n",
       "      <td>GSL-R-2</td>\n",
       "      <td>GSL-C</td>\n",
       "      <td>GSL-C-1</td>\n",
       "      <td>GSL-C-1-1</td>\n",
       "      <td>GSL-C-1-2</td>\n",
       "      <td>...</td>\n",
       "      <td>GSL-ADJ</td>\n",
       "      <td>KER</td>\n",
       "      <td>KER-Comm</td>\n",
       "      <td>KER-Milit</td>\n",
       "      <td>DSL</td>\n",
       "      <td>DSL-1</td>\n",
       "      <td>DSL-2</td>\n",
       "      <td>DSL-3</td>\n",
       "      <td>RSD</td>\n",
       "      <td>PPN</td>\n",
       "    </tr>\n",
       "    <tr>\n",
       "      <th>1</th>\n",
       "      <td>2013-01-04 00:00:00</td>\n",
       "      <td>8385</td>\n",
       "      <td>8204</td>\n",
       "      <td>2586</td>\n",
       "      <td>2586</td>\n",
       "      <td>0</td>\n",
       "      <td>5618</td>\n",
       "      <td>4499</td>\n",
       "      <td>4498</td>\n",
       "      <td>1</td>\n",
       "      <td>...</td>\n",
       "      <td>181</td>\n",
       "      <td>1511</td>\n",
       "      <td>1374</td>\n",
       "      <td>137</td>\n",
       "      <td>4920</td>\n",
       "      <td>4474</td>\n",
       "      <td>116</td>\n",
       "      <td>331</td>\n",
       "      <td>425</td>\n",
       "      <td>1339</td>\n",
       "    </tr>\n",
       "    <tr>\n",
       "      <th>2</th>\n",
       "      <td>2013-01-11 00:00:00</td>\n",
       "      <td>8590</td>\n",
       "      <td>8591</td>\n",
       "      <td>2808</td>\n",
       "      <td>2808</td>\n",
       "      <td>0</td>\n",
       "      <td>5784</td>\n",
       "      <td>4935</td>\n",
       "      <td>4934</td>\n",
       "      <td>1</td>\n",
       "      <td>...</td>\n",
       "      <td>-1</td>\n",
       "      <td>1517</td>\n",
       "      <td>1376</td>\n",
       "      <td>141</td>\n",
       "      <td>4564</td>\n",
       "      <td>4142</td>\n",
       "      <td>84</td>\n",
       "      <td>338</td>\n",
       "      <td>415</td>\n",
       "      <td>1292</td>\n",
       "    </tr>\n",
       "    <tr>\n",
       "      <th>3</th>\n",
       "      <td>2013-01-18 00:00:00</td>\n",
       "      <td>8908</td>\n",
       "      <td>8668</td>\n",
       "      <td>2865</td>\n",
       "      <td>2865</td>\n",
       "      <td>0</td>\n",
       "      <td>5802</td>\n",
       "      <td>4933</td>\n",
       "      <td>4932</td>\n",
       "      <td>1</td>\n",
       "      <td>...</td>\n",
       "      <td>240</td>\n",
       "      <td>1386</td>\n",
       "      <td>1261</td>\n",
       "      <td>126</td>\n",
       "      <td>4311</td>\n",
       "      <td>3908</td>\n",
       "      <td>59</td>\n",
       "      <td>344</td>\n",
       "      <td>352</td>\n",
       "      <td>1212</td>\n",
       "    </tr>\n",
       "    <tr>\n",
       "      <th>4</th>\n",
       "      <td>2013-01-25 00:00:00</td>\n",
       "      <td>9064</td>\n",
       "      <td>8885</td>\n",
       "      <td>2901</td>\n",
       "      <td>2901</td>\n",
       "      <td>0</td>\n",
       "      <td>5985</td>\n",
       "      <td>4985</td>\n",
       "      <td>4984</td>\n",
       "      <td>1</td>\n",
       "      <td>...</td>\n",
       "      <td>179</td>\n",
       "      <td>1394</td>\n",
       "      <td>1260</td>\n",
       "      <td>134</td>\n",
       "      <td>4263</td>\n",
       "      <td>3798</td>\n",
       "      <td>100</td>\n",
       "      <td>366</td>\n",
       "      <td>408</td>\n",
       "      <td>1238</td>\n",
       "    </tr>\n",
       "  </tbody>\n",
       "</table>\n",
       "<p>5 rows × 21 columns</p>\n",
       "</div>"
      ],
      "text/plain": [
       "                  Date  \\\n",
       "0                 Date   \n",
       "1  2013-01-04 00:00:00   \n",
       "2  2013-01-11 00:00:00   \n",
       "3  2013-01-18 00:00:00   \n",
       "4  2013-01-25 00:00:00   \n",
       "\n",
       "  Weekly U.S. Refiner and Blender Adjusted Net Production of Finished Motor Gasoline  (Thousand Barrels per Day)  \\\n",
       "0                                            GSL-ALL                                                               \n",
       "1                                               8385                                                               \n",
       "2                                               8590                                                               \n",
       "3                                               8908                                                               \n",
       "4                                               9064                                                               \n",
       "\n",
       "  Weekly U.S. Refiner and Blender Net Production of Finished Motor Gasoline  (Thousand Barrels per Day)  \\\n",
       "0                                            GSL-NET                                                      \n",
       "1                                               8204                                                      \n",
       "2                                               8591                                                      \n",
       "3                                               8668                                                      \n",
       "4                                               8885                                                      \n",
       "\n",
       "  Weekly U.S. Refiner and Blender Net Production of Reformulated Motor Gasoline  (Thousand Barrels per Day)  \\\n",
       "0                                              GSL-R                                                          \n",
       "1                                               2586                                                          \n",
       "2                                               2808                                                          \n",
       "3                                               2865                                                          \n",
       "4                                               2901                                                          \n",
       "\n",
       "  Weekly U.S. Refiner and Blender Net Production of Finished Reformulated Motor Gasoline with Ethanol  (Thousand Barrels per Day)  \\\n",
       "0                                            GSL-R-1                                                                                \n",
       "1                                               2586                                                                                \n",
       "2                                               2808                                                                                \n",
       "3                                               2865                                                                                \n",
       "4                                               2901                                                                                \n",
       "\n",
       "  Weekly U.S. Refiner and Blender Net Production of Other Finished Reformulated Motor Gasoline  (Thousand Barrels per Day)  \\\n",
       "0                                            GSL-R-2                                                                         \n",
       "1                                                  0                                                                         \n",
       "2                                                  0                                                                         \n",
       "3                                                  0                                                                         \n",
       "4                                                  0                                                                         \n",
       "\n",
       "  Weekly U.S. Refiner and Blender Net Production of Conventional Motor Gasoline  (Thousand Barrels per Day)  \\\n",
       "0                                              GSL-C                                                          \n",
       "1                                               5618                                                          \n",
       "2                                               5784                                                          \n",
       "3                                               5802                                                          \n",
       "4                                               5985                                                          \n",
       "\n",
       "  Weekly U.S. Refiner and Blender Net Production of Finished Conventional Motor Gasoline with Ethanol  (Thousand Barrels per Day)  \\\n",
       "0                                            GSL-C-1                                                                                \n",
       "1                                               4499                                                                                \n",
       "2                                               4935                                                                                \n",
       "3                                               4933                                                                                \n",
       "4                                               4985                                                                                \n",
       "\n",
       "  Weekly U.S. Refiner and Blender Net Production of Finished Conventional Motor Gasoline, Ed 55 and Lower  (Thousand Barrels per Day)  \\\n",
       "0                                          GSL-C-1-1                                                                                    \n",
       "1                                               4498                                                                                    \n",
       "2                                               4934                                                                                    \n",
       "3                                               4932                                                                                    \n",
       "4                                               4984                                                                                    \n",
       "\n",
       "  Weekly U.S. Refiner and Blender Net Production of Finished Conventional Motor Gasoline, Greater than Ed 55  (Thousand Barrels per Day)  \\\n",
       "0                                          GSL-C-1-2                                                                                       \n",
       "1                                                  1                                                                                       \n",
       "2                                                  1                                                                                       \n",
       "3                                                  1                                                                                       \n",
       "4                                                  1                                                                                       \n",
       "\n",
       "   ...  \\\n",
       "0  ...   \n",
       "1  ...   \n",
       "2  ...   \n",
       "3  ...   \n",
       "4  ...   \n",
       "\n",
       "  Weekly U.S. Supply Adjustment of Finished Motor Gasoline  (Thousand Barrels per Day)  \\\n",
       "0                                            GSL-ADJ                                     \n",
       "1                                                181                                     \n",
       "2                                                 -1                                     \n",
       "3                                                240                                     \n",
       "4                                                179                                     \n",
       "\n",
       "  Weekly U.S. Refiner and Blender Net Production of Kerosene-Type Jet Fuel  (Thousand Barrels per Day)  \\\n",
       "0                                                KER                                                     \n",
       "1                                               1511                                                     \n",
       "2                                               1517                                                     \n",
       "3                                               1386                                                     \n",
       "4                                               1394                                                     \n",
       "\n",
       "  Weekly U.S.  Refiner and Blender Net Production of Commercial Kerosene-Type Jet Fuel  (Thousand Barrels per Day)  \\\n",
       "0                                           KER-Comm                                                                 \n",
       "1                                               1374                                                                 \n",
       "2                                               1376                                                                 \n",
       "3                                               1261                                                                 \n",
       "4                                               1260                                                                 \n",
       "\n",
       "  Weekly U.S.  Refiner and Blender Net Production of Military Kerosene-Type Jet Fuel  (Thousand Barrels per Day)  \\\n",
       "0                                          KER-Milit                                                               \n",
       "1                                                137                                                               \n",
       "2                                                141                                                               \n",
       "3                                                126                                                               \n",
       "4                                                134                                                               \n",
       "\n",
       "  Weekly U.S. Refiner and Blender Net Production of Distillate Fuel Oil  (Thousand Barrels per Day)  \\\n",
       "0                                                DSL                                                  \n",
       "1                                               4920                                                  \n",
       "2                                               4564                                                  \n",
       "3                                               4311                                                  \n",
       "4                                               4263                                                  \n",
       "\n",
       "  Weekly U.S. Refiner and Blender Net Production of Distillate Fuel Oil, 0 to 15 ppm Sulfur  (Thousand Barrels per Day)  \\\n",
       "0                                              DSL-1                                                                      \n",
       "1                                               4474                                                                      \n",
       "2                                               4142                                                                      \n",
       "3                                               3908                                                                      \n",
       "4                                               3798                                                                      \n",
       "\n",
       "  Weekly U.S. Production of Distillate Fuel Oil, Greater than 15 to 500 ppm Sulfur  (Thousand Barrels per Day)  \\\n",
       "0                                              DSL-2                                                             \n",
       "1                                                116                                                             \n",
       "2                                                 84                                                             \n",
       "3                                                 59                                                             \n",
       "4                                                100                                                             \n",
       "\n",
       "  Weekly U.S.  Refiner and Blender Net Production of Distillate Fuel Oil Greater than 500 ppm Sulfur  (Thousand Barrels per Day)  \\\n",
       "0                                              DSL-3                                                                               \n",
       "1                                                331                                                                               \n",
       "2                                                338                                                                               \n",
       "3                                                344                                                                               \n",
       "4                                                366                                                                               \n",
       "\n",
       "  Weekly U.S. Refiner and Blender Net Production of Residual Fuel Oil  (Thousand Barrels per Day)  \\\n",
       "0                                                RSD                                                \n",
       "1                                                425                                                \n",
       "2                                                415                                                \n",
       "3                                                352                                                \n",
       "4                                                408                                                \n",
       "\n",
       "  Weekly U.S. Refiner, Blender, and Gas Plant Net Production of Propane and Propylene  (Thousand Barrels per Day)  \n",
       "0                                                PPN                                                               \n",
       "1                                               1339                                                               \n",
       "2                                               1292                                                               \n",
       "3                                               1212                                                               \n",
       "4                                               1238                                                               \n",
       "\n",
       "[5 rows x 21 columns]"
      ]
     },
     "execution_count": 23,
     "metadata": {},
     "output_type": "execute_result"
    }
   ],
   "source": [
    "prod_US_raw.head()"
   ]
  },
  {
   "cell_type": "code",
   "execution_count": 24,
   "metadata": {},
   "outputs": [
    {
     "data": {
      "text/html": [
       "<div>\n",
       "<style scoped>\n",
       "    .dataframe tbody tr th:only-of-type {\n",
       "        vertical-align: middle;\n",
       "    }\n",
       "\n",
       "    .dataframe tbody tr th {\n",
       "        vertical-align: top;\n",
       "    }\n",
       "\n",
       "    .dataframe thead th {\n",
       "        text-align: right;\n",
       "    }\n",
       "</style>\n",
       "<table border=\"1\" class=\"dataframe\">\n",
       "  <thead>\n",
       "    <tr style=\"text-align: right;\">\n",
       "      <th></th>\n",
       "      <th>Date</th>\n",
       "      <th>Weekly U.S. Refiner and Blender Adjusted Net Production of Finished Motor Gasoline  (Thousand Barrels per Day)</th>\n",
       "      <th>Weekly U.S. Refiner and Blender Net Production of Finished Motor Gasoline  (Thousand Barrels per Day)</th>\n",
       "      <th>Weekly U.S. Refiner and Blender Net Production of Reformulated Motor Gasoline  (Thousand Barrels per Day)</th>\n",
       "      <th>Weekly U.S. Refiner and Blender Net Production of Finished Reformulated Motor Gasoline with Ethanol  (Thousand Barrels per Day)</th>\n",
       "      <th>Weekly U.S. Refiner and Blender Net Production of Other Finished Reformulated Motor Gasoline  (Thousand Barrels per Day)</th>\n",
       "      <th>Weekly U.S. Refiner and Blender Net Production of Conventional Motor Gasoline  (Thousand Barrels per Day)</th>\n",
       "      <th>Weekly U.S. Refiner and Blender Net Production of Finished Conventional Motor Gasoline with Ethanol  (Thousand Barrels per Day)</th>\n",
       "      <th>Weekly U.S. Refiner and Blender Net Production of Finished Conventional Motor Gasoline, Ed 55 and Lower  (Thousand Barrels per Day)</th>\n",
       "      <th>Weekly U.S. Refiner and Blender Net Production of Finished Conventional Motor Gasoline, Greater than Ed 55  (Thousand Barrels per Day)</th>\n",
       "      <th>...</th>\n",
       "      <th>Weekly U.S. Supply Adjustment of Finished Motor Gasoline  (Thousand Barrels per Day)</th>\n",
       "      <th>Weekly U.S. Refiner and Blender Net Production of Kerosene-Type Jet Fuel  (Thousand Barrels per Day)</th>\n",
       "      <th>Weekly U.S.  Refiner and Blender Net Production of Commercial Kerosene-Type Jet Fuel  (Thousand Barrels per Day)</th>\n",
       "      <th>Weekly U.S.  Refiner and Blender Net Production of Military Kerosene-Type Jet Fuel  (Thousand Barrels per Day)</th>\n",
       "      <th>Weekly U.S. Refiner and Blender Net Production of Distillate Fuel Oil  (Thousand Barrels per Day)</th>\n",
       "      <th>Weekly U.S. Refiner and Blender Net Production of Distillate Fuel Oil, 0 to 15 ppm Sulfur  (Thousand Barrels per Day)</th>\n",
       "      <th>Weekly U.S. Production of Distillate Fuel Oil, Greater than 15 to 500 ppm Sulfur  (Thousand Barrels per Day)</th>\n",
       "      <th>Weekly U.S.  Refiner and Blender Net Production of Distillate Fuel Oil Greater than 500 ppm Sulfur  (Thousand Barrels per Day)</th>\n",
       "      <th>Weekly U.S. Refiner and Blender Net Production of Residual Fuel Oil  (Thousand Barrels per Day)</th>\n",
       "      <th>Weekly U.S. Refiner, Blender, and Gas Plant Net Production of Propane and Propylene  (Thousand Barrels per Day)</th>\n",
       "    </tr>\n",
       "  </thead>\n",
       "  <tbody>\n",
       "    <tr>\n",
       "      <th>count</th>\n",
       "      <td>426</td>\n",
       "      <td>426</td>\n",
       "      <td>426</td>\n",
       "      <td>426</td>\n",
       "      <td>426</td>\n",
       "      <td>426</td>\n",
       "      <td>426</td>\n",
       "      <td>426</td>\n",
       "      <td>426</td>\n",
       "      <td>426</td>\n",
       "      <td>...</td>\n",
       "      <td>426</td>\n",
       "      <td>426</td>\n",
       "      <td>426</td>\n",
       "      <td>426</td>\n",
       "      <td>426</td>\n",
       "      <td>426</td>\n",
       "      <td>426</td>\n",
       "      <td>426</td>\n",
       "      <td>426</td>\n",
       "      <td>426</td>\n",
       "    </tr>\n",
       "    <tr>\n",
       "      <th>unique</th>\n",
       "      <td>426</td>\n",
       "      <td>382</td>\n",
       "      <td>377</td>\n",
       "      <td>315</td>\n",
       "      <td>315</td>\n",
       "      <td>2</td>\n",
       "      <td>361</td>\n",
       "      <td>357</td>\n",
       "      <td>353</td>\n",
       "      <td>9</td>\n",
       "      <td>...</td>\n",
       "      <td>342</td>\n",
       "      <td>314</td>\n",
       "      <td>322</td>\n",
       "      <td>114</td>\n",
       "      <td>352</td>\n",
       "      <td>356</td>\n",
       "      <td>146</td>\n",
       "      <td>206</td>\n",
       "      <td>228</td>\n",
       "      <td>357</td>\n",
       "    </tr>\n",
       "    <tr>\n",
       "      <th>top</th>\n",
       "      <td>2019-12-06 00:00:00</td>\n",
       "      <td>10173</td>\n",
       "      <td>9273</td>\n",
       "      <td>3250</td>\n",
       "      <td>3250</td>\n",
       "      <td>0</td>\n",
       "      <td>6590</td>\n",
       "      <td>5839</td>\n",
       "      <td>5469</td>\n",
       "      <td>2</td>\n",
       "      <td>...</td>\n",
       "      <td>-1</td>\n",
       "      <td>1722</td>\n",
       "      <td>1592</td>\n",
       "      <td>73</td>\n",
       "      <td>4613</td>\n",
       "      <td>4741</td>\n",
       "      <td>121</td>\n",
       "      <td>229</td>\n",
       "      <td>425</td>\n",
       "      <td>1652</td>\n",
       "    </tr>\n",
       "    <tr>\n",
       "      <th>freq</th>\n",
       "      <td>1</td>\n",
       "      <td>3</td>\n",
       "      <td>4</td>\n",
       "      <td>6</td>\n",
       "      <td>6</td>\n",
       "      <td>425</td>\n",
       "      <td>4</td>\n",
       "      <td>3</td>\n",
       "      <td>3</td>\n",
       "      <td>109</td>\n",
       "      <td>...</td>\n",
       "      <td>3</td>\n",
       "      <td>4</td>\n",
       "      <td>4</td>\n",
       "      <td>15</td>\n",
       "      <td>4</td>\n",
       "      <td>4</td>\n",
       "      <td>10</td>\n",
       "      <td>9</td>\n",
       "      <td>7</td>\n",
       "      <td>4</td>\n",
       "    </tr>\n",
       "  </tbody>\n",
       "</table>\n",
       "<p>4 rows × 21 columns</p>\n",
       "</div>"
      ],
      "text/plain": [
       "                       Date  \\\n",
       "count                   426   \n",
       "unique                  426   \n",
       "top     2019-12-06 00:00:00   \n",
       "freq                      1   \n",
       "\n",
       "        Weekly U.S. Refiner and Blender Adjusted Net Production of Finished Motor Gasoline  (Thousand Barrels per Day)  \\\n",
       "count                                                 426                                                                \n",
       "unique                                                382                                                                \n",
       "top                                                 10173                                                                \n",
       "freq                                                    3                                                                \n",
       "\n",
       "        Weekly U.S. Refiner and Blender Net Production of Finished Motor Gasoline  (Thousand Barrels per Day)  \\\n",
       "count                                                 426                                                       \n",
       "unique                                                377                                                       \n",
       "top                                                  9273                                                       \n",
       "freq                                                    4                                                       \n",
       "\n",
       "        Weekly U.S. Refiner and Blender Net Production of Reformulated Motor Gasoline  (Thousand Barrels per Day)  \\\n",
       "count                                                 426                                                           \n",
       "unique                                                315                                                           \n",
       "top                                                  3250                                                           \n",
       "freq                                                    6                                                           \n",
       "\n",
       "        Weekly U.S. Refiner and Blender Net Production of Finished Reformulated Motor Gasoline with Ethanol  (Thousand Barrels per Day)  \\\n",
       "count                                                 426                                                                                 \n",
       "unique                                                315                                                                                 \n",
       "top                                                  3250                                                                                 \n",
       "freq                                                    6                                                                                 \n",
       "\n",
       "        Weekly U.S. Refiner and Blender Net Production of Other Finished Reformulated Motor Gasoline  (Thousand Barrels per Day)  \\\n",
       "count                                                 426                                                                          \n",
       "unique                                                  2                                                                          \n",
       "top                                                     0                                                                          \n",
       "freq                                                  425                                                                          \n",
       "\n",
       "        Weekly U.S. Refiner and Blender Net Production of Conventional Motor Gasoline  (Thousand Barrels per Day)  \\\n",
       "count                                                 426                                                           \n",
       "unique                                                361                                                           \n",
       "top                                                  6590                                                           \n",
       "freq                                                    4                                                           \n",
       "\n",
       "        Weekly U.S. Refiner and Blender Net Production of Finished Conventional Motor Gasoline with Ethanol  (Thousand Barrels per Day)  \\\n",
       "count                                                 426                                                                                 \n",
       "unique                                                357                                                                                 \n",
       "top                                                  5839                                                                                 \n",
       "freq                                                    3                                                                                 \n",
       "\n",
       "        Weekly U.S. Refiner and Blender Net Production of Finished Conventional Motor Gasoline, Ed 55 and Lower  (Thousand Barrels per Day)  \\\n",
       "count                                                 426                                                                                     \n",
       "unique                                                353                                                                                     \n",
       "top                                                  5469                                                                                     \n",
       "freq                                                    3                                                                                     \n",
       "\n",
       "        Weekly U.S. Refiner and Blender Net Production of Finished Conventional Motor Gasoline, Greater than Ed 55  (Thousand Barrels per Day)  \\\n",
       "count                                                 426                                                                                        \n",
       "unique                                                  9                                                                                        \n",
       "top                                                     2                                                                                        \n",
       "freq                                                  109                                                                                        \n",
       "\n",
       "        ...  \\\n",
       "count   ...   \n",
       "unique  ...   \n",
       "top     ...   \n",
       "freq    ...   \n",
       "\n",
       "        Weekly U.S. Supply Adjustment of Finished Motor Gasoline  (Thousand Barrels per Day)  \\\n",
       "count                                                 426                                      \n",
       "unique                                                342                                      \n",
       "top                                                    -1                                      \n",
       "freq                                                    3                                      \n",
       "\n",
       "        Weekly U.S. Refiner and Blender Net Production of Kerosene-Type Jet Fuel  (Thousand Barrels per Day)  \\\n",
       "count                                                 426                                                      \n",
       "unique                                                314                                                      \n",
       "top                                                  1722                                                      \n",
       "freq                                                    4                                                      \n",
       "\n",
       "        Weekly U.S.  Refiner and Blender Net Production of Commercial Kerosene-Type Jet Fuel  (Thousand Barrels per Day)  \\\n",
       "count                                                 426                                                                  \n",
       "unique                                                322                                                                  \n",
       "top                                                  1592                                                                  \n",
       "freq                                                    4                                                                  \n",
       "\n",
       "        Weekly U.S.  Refiner and Blender Net Production of Military Kerosene-Type Jet Fuel  (Thousand Barrels per Day)  \\\n",
       "count                                                 426                                                                \n",
       "unique                                                114                                                                \n",
       "top                                                    73                                                                \n",
       "freq                                                   15                                                                \n",
       "\n",
       "        Weekly U.S. Refiner and Blender Net Production of Distillate Fuel Oil  (Thousand Barrels per Day)  \\\n",
       "count                                                 426                                                   \n",
       "unique                                                352                                                   \n",
       "top                                                  4613                                                   \n",
       "freq                                                    4                                                   \n",
       "\n",
       "        Weekly U.S. Refiner and Blender Net Production of Distillate Fuel Oil, 0 to 15 ppm Sulfur  (Thousand Barrels per Day)  \\\n",
       "count                                                 426                                                                       \n",
       "unique                                                356                                                                       \n",
       "top                                                  4741                                                                       \n",
       "freq                                                    4                                                                       \n",
       "\n",
       "        Weekly U.S. Production of Distillate Fuel Oil, Greater than 15 to 500 ppm Sulfur  (Thousand Barrels per Day)  \\\n",
       "count                                                 426                                                              \n",
       "unique                                                146                                                              \n",
       "top                                                   121                                                              \n",
       "freq                                                   10                                                              \n",
       "\n",
       "        Weekly U.S.  Refiner and Blender Net Production of Distillate Fuel Oil Greater than 500 ppm Sulfur  (Thousand Barrels per Day)  \\\n",
       "count                                                 426                                                                                \n",
       "unique                                                206                                                                                \n",
       "top                                                   229                                                                                \n",
       "freq                                                    9                                                                                \n",
       "\n",
       "        Weekly U.S. Refiner and Blender Net Production of Residual Fuel Oil  (Thousand Barrels per Day)  \\\n",
       "count                                                 426                                                 \n",
       "unique                                                228                                                 \n",
       "top                                                   425                                                 \n",
       "freq                                                    7                                                 \n",
       "\n",
       "        Weekly U.S. Refiner, Blender, and Gas Plant Net Production of Propane and Propylene  (Thousand Barrels per Day)  \n",
       "count                                                 426                                                                \n",
       "unique                                                357                                                                \n",
       "top                                                  1652                                                                \n",
       "freq                                                    4                                                                \n",
       "\n",
       "[4 rows x 21 columns]"
      ]
     },
     "execution_count": 24,
     "metadata": {},
     "output_type": "execute_result"
    }
   ],
   "source": [
    "prod_US_raw.describe()"
   ]
  },
  {
   "cell_type": "markdown",
   "metadata": {},
   "source": [
    "#### 2.1.3B Audit Petroleum Product Pricing Data<a id='2.1.3B_Audit_Product_Pricing_Data'></a>"
   ]
  },
  {
   "cell_type": "code",
   "execution_count": 25,
   "metadata": {
    "scrolled": true
   },
   "outputs": [
    {
     "data": {
      "text/html": [
       "<div>\n",
       "<style scoped>\n",
       "    .dataframe tbody tr th:only-of-type {\n",
       "        vertical-align: middle;\n",
       "    }\n",
       "\n",
       "    .dataframe tbody tr th {\n",
       "        vertical-align: top;\n",
       "    }\n",
       "\n",
       "    .dataframe thead th {\n",
       "        text-align: right;\n",
       "    }\n",
       "</style>\n",
       "<table border=\"1\" class=\"dataframe\">\n",
       "  <thead>\n",
       "    <tr style=\"text-align: right;\">\n",
       "      <th></th>\n",
       "      <th>Country</th>\n",
       "      <th>PAD</th>\n",
       "      <th>Sub-PAD</th>\n",
       "      <th>Sub-PAD Name</th>\n",
       "      <th>PERIOD</th>\n",
       "      <th>Date</th>\n",
       "      <th>Total Gasoline Wholesale/Resale Price by Refiners (Dollars per Gallon)</th>\n",
       "      <th>No 2 Distillate Wholesale/Resale Price by Refiners (Dollars per Gallon)</th>\n",
       "      <th>No 2 Diesel Wholesale/Resale Price by Refiners (Dollars per Gallon)</th>\n",
       "      <th>No. 2 Fuel Oil Wholesale/Resale Price by Refiners (Dollars per Gallon)</th>\n",
       "      <th>Residual Fuel Oil Wholesale/Resale Price by Refiners (Dollars per Gallon)</th>\n",
       "    </tr>\n",
       "  </thead>\n",
       "  <tbody>\n",
       "    <tr>\n",
       "      <th>0</th>\n",
       "      <td>Country</td>\n",
       "      <td>PAD</td>\n",
       "      <td>Sub-PAD</td>\n",
       "      <td>Sub-PAD Name</td>\n",
       "      <td>PERIOD</td>\n",
       "      <td>Date</td>\n",
       "      <td>GSL</td>\n",
       "      <td>DSL-A</td>\n",
       "      <td>DSL-B</td>\n",
       "      <td>HFL</td>\n",
       "      <td>RSD</td>\n",
       "    </tr>\n",
       "    <tr>\n",
       "      <th>1</th>\n",
       "      <td>US</td>\n",
       "      <td>US</td>\n",
       "      <td>US</td>\n",
       "      <td>US</td>\n",
       "      <td>01-2013</td>\n",
       "      <td>2013-01-15 00:00:00</td>\n",
       "      <td>2.676</td>\n",
       "      <td>3.048</td>\n",
       "      <td>3.046</td>\n",
       "      <td>3.069</td>\n",
       "      <td>2.388</td>\n",
       "    </tr>\n",
       "    <tr>\n",
       "      <th>2</th>\n",
       "      <td>US</td>\n",
       "      <td>US</td>\n",
       "      <td>US</td>\n",
       "      <td>US</td>\n",
       "      <td>02-2013</td>\n",
       "      <td>2013-02-15 00:00:00</td>\n",
       "      <td>3.02</td>\n",
       "      <td>3.25</td>\n",
       "      <td>3.259</td>\n",
       "      <td>3.168</td>\n",
       "      <td>2.415</td>\n",
       "    </tr>\n",
       "  </tbody>\n",
       "</table>\n",
       "</div>"
      ],
      "text/plain": [
       "   Country  PAD  Sub-PAD  Sub-PAD Name   PERIOD                 Date  \\\n",
       "0  Country  PAD  Sub-PAD  Sub-PAD Name   PERIOD                 Date   \n",
       "1       US   US       US            US  01-2013  2013-01-15 00:00:00   \n",
       "2       US   US       US            US  02-2013  2013-02-15 00:00:00   \n",
       "\n",
       "  Total Gasoline Wholesale/Resale Price by Refiners (Dollars per Gallon)  \\\n",
       "0                                                GSL                       \n",
       "1                                              2.676                       \n",
       "2                                               3.02                       \n",
       "\n",
       "  No 2 Distillate Wholesale/Resale Price by Refiners (Dollars per Gallon)  \\\n",
       "0                                              DSL-A                        \n",
       "1                                              3.048                        \n",
       "2                                               3.25                        \n",
       "\n",
       "  No 2 Diesel Wholesale/Resale Price by Refiners (Dollars per Gallon)  \\\n",
       "0                                              DSL-B                    \n",
       "1                                              3.046                    \n",
       "2                                              3.259                    \n",
       "\n",
       "  No. 2 Fuel Oil Wholesale/Resale Price by Refiners (Dollars per Gallon)  \\\n",
       "0                                                HFL                       \n",
       "1                                              3.069                       \n",
       "2                                              3.168                       \n",
       "\n",
       "  Residual Fuel Oil Wholesale/Resale Price by Refiners (Dollars per Gallon)  \n",
       "0                                                RSD                         \n",
       "1                                              2.388                         \n",
       "2                                              2.415                         "
      ]
     },
     "execution_count": 25,
     "metadata": {},
     "output_type": "execute_result"
    }
   ],
   "source": [
    "prod_prices_raw.head(3)"
   ]
  },
  {
   "cell_type": "markdown",
   "metadata": {},
   "source": [
    "* OK, it looks like both the Volume and Pricing data for petroleum products will need some cleaning up: there are two-row column headings; the coded labels need to move from the data area and into column names.\n",
    "* Another task would be to sort out categorization by location levels, i.e. country level (US), PAD district level, and sub-PAD district level"
   ]
  },
  {
   "cell_type": "markdown",
   "metadata": {},
   "source": [
    "#### 2.1.4A Audit U.S. Refinery Profiles Data<a id='2.1.4A_Audit_Refinery_ProfilesData'></a>"
   ]
  },
  {
   "cell_type": "code",
   "execution_count": 26,
   "metadata": {
    "scrolled": true
   },
   "outputs": [
    {
     "name": "stdout",
     "output_type": "stream",
     "text": [
      "<class 'pandas.core.frame.DataFrame'>\n",
      "RangeIndex: 132 entries, 0 to 131\n",
      "Data columns (total 11 columns):\n",
      " #   Column          Non-Null Count  Dtype \n",
      "---  ------          --------------  ----- \n",
      " 0   Site_ID         132 non-null    int64 \n",
      " 1   Corporation     132 non-null    object\n",
      " 2   Company         132 non-null    object\n",
      " 3   Site_Name       132 non-null    object\n",
      " 4   PAD_Code        132 non-null    object\n",
      " 5   State           132 non-null    object\n",
      " 6   County          132 non-null    object\n",
      " 7   City            132 non-null    object\n",
      " 8   Zip_Code        132 non-null    int64 \n",
      " 9   Status          132 non-null    int64 \n",
      " 10  Optg_Capty_BPD  132 non-null    int64 \n",
      "dtypes: int64(4), object(7)\n",
      "memory usage: 11.5+ KB\n"
     ]
    }
   ],
   "source": [
    "# We will start with the List of U.S. Refineries\n",
    "Refineries_List.info()"
   ]
  },
  {
   "cell_type": "markdown",
   "metadata": {},
   "source": [
    "* No missing values, 'Status' represents whether refinery is operating or closed, capacity is numeric data"
   ]
  },
  {
   "cell_type": "code",
   "execution_count": 27,
   "metadata": {},
   "outputs": [
    {
     "data": {
      "text/html": [
       "<div>\n",
       "<style scoped>\n",
       "    .dataframe tbody tr th:only-of-type {\n",
       "        vertical-align: middle;\n",
       "    }\n",
       "\n",
       "    .dataframe tbody tr th {\n",
       "        vertical-align: top;\n",
       "    }\n",
       "\n",
       "    .dataframe thead th {\n",
       "        text-align: right;\n",
       "    }\n",
       "</style>\n",
       "<table border=\"1\" class=\"dataframe\">\n",
       "  <thead>\n",
       "    <tr style=\"text-align: right;\">\n",
       "      <th></th>\n",
       "      <th>0</th>\n",
       "      <th>1</th>\n",
       "      <th>2</th>\n",
       "      <th>3</th>\n",
       "      <th>4</th>\n",
       "    </tr>\n",
       "  </thead>\n",
       "  <tbody>\n",
       "    <tr>\n",
       "      <th>Site_ID</th>\n",
       "      <td>70</td>\n",
       "      <td>97</td>\n",
       "      <td>130</td>\n",
       "      <td>85</td>\n",
       "      <td>94</td>\n",
       "    </tr>\n",
       "    <tr>\n",
       "      <th>Corporation</th>\n",
       "      <td>Royal Dutch/Shell Group</td>\n",
       "      <td>Hunt Consolidated Inc</td>\n",
       "      <td>Goodway Refining LLC</td>\n",
       "      <td>Marathon Petroleum Corp</td>\n",
       "      <td>Arctic Slope Regional Corp</td>\n",
       "    </tr>\n",
       "    <tr>\n",
       "      <th>Company</th>\n",
       "      <td>Shell Chemical LP</td>\n",
       "      <td>Hunt Refining Co</td>\n",
       "      <td>Goodway Refining LLC</td>\n",
       "      <td>Tesoro Alaska Company LLC</td>\n",
       "      <td>Petro Star Inc</td>\n",
       "    </tr>\n",
       "    <tr>\n",
       "      <th>Site_Name</th>\n",
       "      <td>Saraland</td>\n",
       "      <td>Tuscaloosa</td>\n",
       "      <td>Atmore</td>\n",
       "      <td>Kenai</td>\n",
       "      <td>Valdez</td>\n",
       "    </tr>\n",
       "    <tr>\n",
       "      <th>PAD_Code</th>\n",
       "      <td>PAD-3</td>\n",
       "      <td>PAD-3</td>\n",
       "      <td>PAD-3</td>\n",
       "      <td>PAD-5</td>\n",
       "      <td>PAD-5</td>\n",
       "    </tr>\n",
       "    <tr>\n",
       "      <th>State</th>\n",
       "      <td>Alabama</td>\n",
       "      <td>Alabama</td>\n",
       "      <td>Alabama</td>\n",
       "      <td>Alaska</td>\n",
       "      <td>Alaska</td>\n",
       "    </tr>\n",
       "    <tr>\n",
       "      <th>County</th>\n",
       "      <td>Mobile</td>\n",
       "      <td>Tuscaloosa County</td>\n",
       "      <td>Escambia</td>\n",
       "      <td>Kenai Peninsula Borough</td>\n",
       "      <td>Valdez-Cordova Census Area</td>\n",
       "    </tr>\n",
       "    <tr>\n",
       "      <th>City</th>\n",
       "      <td>Saraland</td>\n",
       "      <td>Tuscaloosa</td>\n",
       "      <td>Atmore</td>\n",
       "      <td>Kenai</td>\n",
       "      <td>Valdez</td>\n",
       "    </tr>\n",
       "    <tr>\n",
       "      <th>Zip_Code</th>\n",
       "      <td>36571</td>\n",
       "      <td>35401</td>\n",
       "      <td>36502</td>\n",
       "      <td>99611</td>\n",
       "      <td>99686</td>\n",
       "    </tr>\n",
       "    <tr>\n",
       "      <th>Status</th>\n",
       "      <td>1</td>\n",
       "      <td>1</td>\n",
       "      <td>1</td>\n",
       "      <td>1</td>\n",
       "      <td>1</td>\n",
       "    </tr>\n",
       "    <tr>\n",
       "      <th>Optg_Capty_BPD</th>\n",
       "      <td>87500</td>\n",
       "      <td>48000</td>\n",
       "      <td>4100</td>\n",
       "      <td>68000</td>\n",
       "      <td>55000</td>\n",
       "    </tr>\n",
       "  </tbody>\n",
       "</table>\n",
       "</div>"
      ],
      "text/plain": [
       "                                      0                      1  \\\n",
       "Site_ID                              70                     97   \n",
       "Corporation     Royal Dutch/Shell Group  Hunt Consolidated Inc   \n",
       "Company               Shell Chemical LP       Hunt Refining Co   \n",
       "Site_Name                      Saraland             Tuscaloosa   \n",
       "PAD_Code                          PAD-3                  PAD-3   \n",
       "State                           Alabama                Alabama   \n",
       "County                           Mobile      Tuscaloosa County   \n",
       "City                           Saraland             Tuscaloosa   \n",
       "Zip_Code                          36571                  35401   \n",
       "Status                                1                      1   \n",
       "Optg_Capty_BPD                    87500                  48000   \n",
       "\n",
       "                                   2                          3  \\\n",
       "Site_ID                          130                         85   \n",
       "Corporation     Goodway Refining LLC    Marathon Petroleum Corp   \n",
       "Company         Goodway Refining LLC  Tesoro Alaska Company LLC   \n",
       "Site_Name                     Atmore                      Kenai   \n",
       "PAD_Code                       PAD-3                      PAD-5   \n",
       "State                        Alabama                     Alaska   \n",
       "County                      Escambia    Kenai Peninsula Borough   \n",
       "City                          Atmore                      Kenai   \n",
       "Zip_Code                       36502                      99611   \n",
       "Status                             1                          1   \n",
       "Optg_Capty_BPD                  4100                      68000   \n",
       "\n",
       "                                         4  \n",
       "Site_ID                                 94  \n",
       "Corporation     Arctic Slope Regional Corp  \n",
       "Company                     Petro Star Inc  \n",
       "Site_Name                           Valdez  \n",
       "PAD_Code                             PAD-5  \n",
       "State                               Alaska  \n",
       "County          Valdez-Cordova Census Area  \n",
       "City                                Valdez  \n",
       "Zip_Code                             99686  \n",
       "Status                                   1  \n",
       "Optg_Capty_BPD                       55000  "
      ]
     },
     "execution_count": 27,
     "metadata": {},
     "output_type": "execute_result"
    }
   ],
   "source": [
    "Refineries_List.head().T"
   ]
  },
  {
   "cell_type": "markdown",
   "metadata": {},
   "source": [
    "* The Refinery List data looks good - it's categorized by PAD code and includes operating capacities"
   ]
  },
  {
   "cell_type": "markdown",
   "metadata": {},
   "source": [
    "#### 2.1.4B Audit US Refining Capacities by Process Types and PAD districts<a id='2.1.4B_Audit_Refinery_Capacity_Data'></a>"
   ]
  },
  {
   "cell_type": "code",
   "execution_count": 28,
   "metadata": {
    "scrolled": false
   },
   "outputs": [
    {
     "name": "stdout",
     "output_type": "stream",
     "text": [
      "<class 'pandas.core.frame.DataFrame'>\n",
      "RangeIndex: 460 entries, 0 to 459\n",
      "Data columns (total 13 columns):\n",
      " #   Column         Non-Null Count  Dtype         \n",
      "---  ------         --------------  -----         \n",
      " 0   Rec_ID         460 non-null    int64         \n",
      " 1   ID             460 non-null    object        \n",
      " 2   Description    460 non-null    object        \n",
      " 3   Type_Code      460 non-null    object        \n",
      " 4   US             460 non-null    object        \n",
      " 5   PADD           460 non-null    object        \n",
      " 6   State          460 non-null    object        \n",
      " 7   Date           460 non-null    datetime64[ns]\n",
      " 8   Year           460 non-null    int64         \n",
      " 9   Op_Cap_BPSD    414 non-null    float64       \n",
      " 10  Idle_Cap_BPSD  46 non-null     float64       \n",
      " 11  Cap_BPSD       46 non-null     float64       \n",
      " 12  Cap_BPCD       230 non-null    float64       \n",
      "dtypes: datetime64[ns](1), float64(4), int64(2), object(6)\n",
      "memory usage: 46.8+ KB\n"
     ]
    }
   ],
   "source": [
    "# Next, let's look at the process types and capacities of the U.S. refineries, grouped by PAD\n",
    "Refinery_Cap_ByType.info()"
   ]
  },
  {
   "cell_type": "markdown",
   "metadata": {},
   "source": [
    "There are more categorical data rows than the numeric ones. Let's further investigate"
   ]
  },
  {
   "cell_type": "code",
   "execution_count": 29,
   "metadata": {},
   "outputs": [
    {
     "data": {
      "text/plain": [
       "1104"
      ]
     },
     "execution_count": 29,
     "metadata": {},
     "output_type": "execute_result"
    }
   ],
   "source": [
    "np.count_nonzero(Refinery_Cap_ByType.isna())"
   ]
  },
  {
   "cell_type": "markdown",
   "metadata": {},
   "source": [
    "* There are a lot of null values"
   ]
  },
  {
   "cell_type": "code",
   "execution_count": 30,
   "metadata": {
    "scrolled": true
   },
   "outputs": [
    {
     "data": {
      "text/html": [
       "<div>\n",
       "<style scoped>\n",
       "    .dataframe tbody tr th:only-of-type {\n",
       "        vertical-align: middle;\n",
       "    }\n",
       "\n",
       "    .dataframe tbody tr th {\n",
       "        vertical-align: top;\n",
       "    }\n",
       "\n",
       "    .dataframe thead th {\n",
       "        text-align: right;\n",
       "    }\n",
       "</style>\n",
       "<table border=\"1\" class=\"dataframe\">\n",
       "  <thead>\n",
       "    <tr style=\"text-align: right;\">\n",
       "      <th></th>\n",
       "      <th>0</th>\n",
       "      <th>1</th>\n",
       "      <th>2</th>\n",
       "      <th>3</th>\n",
       "      <th>4</th>\n",
       "    </tr>\n",
       "  </thead>\n",
       "  <tbody>\n",
       "    <tr>\n",
       "      <th>Rec_ID</th>\n",
       "      <td>1</td>\n",
       "      <td>2</td>\n",
       "      <td>3</td>\n",
       "      <td>4</td>\n",
       "      <td>5</td>\n",
       "    </tr>\n",
       "    <tr>\n",
       "      <th>ID</th>\n",
       "      <td>ATMDIST-0001</td>\n",
       "      <td>ATMDIST-0002</td>\n",
       "      <td>ATMDIST-0003</td>\n",
       "      <td>ATMDIST-0004</td>\n",
       "      <td>ATMDIST-0005</td>\n",
       "    </tr>\n",
       "    <tr>\n",
       "      <th>Description</th>\n",
       "      <td>Annual Operable Atmospheric Crude Oil Distilla...</td>\n",
       "      <td>Annual Operable Atmospheric Crude Oil Distilla...</td>\n",
       "      <td>Annual Operable Atmospheric Crude Oil Distilla...</td>\n",
       "      <td>Annual Operable Atmospheric Crude Oil Distilla...</td>\n",
       "      <td>Annual Operable Atmospheric Crude Oil Distilla...</td>\n",
       "    </tr>\n",
       "    <tr>\n",
       "      <th>Type_Code</th>\n",
       "      <td>ATMDIST</td>\n",
       "      <td>ATMDIST</td>\n",
       "      <td>ATMDIST</td>\n",
       "      <td>ATMDIST</td>\n",
       "      <td>ATMDIST</td>\n",
       "    </tr>\n",
       "    <tr>\n",
       "      <th>US</th>\n",
       "      <td>US</td>\n",
       "      <td>US</td>\n",
       "      <td>US</td>\n",
       "      <td>US</td>\n",
       "      <td>US</td>\n",
       "    </tr>\n",
       "    <tr>\n",
       "      <th>PADD</th>\n",
       "      <td>US</td>\n",
       "      <td>PAD-1</td>\n",
       "      <td>PAD-1</td>\n",
       "      <td>PAD-1</td>\n",
       "      <td>PAD-1</td>\n",
       "    </tr>\n",
       "    <tr>\n",
       "      <th>State</th>\n",
       "      <td>US</td>\n",
       "      <td>PAD-1</td>\n",
       "      <td>Delaware</td>\n",
       "      <td>Florida</td>\n",
       "      <td>Georgia</td>\n",
       "    </tr>\n",
       "    <tr>\n",
       "      <th>Date</th>\n",
       "      <td>2020-06-30 00:00:00</td>\n",
       "      <td>2020-06-30 00:00:00</td>\n",
       "      <td>2020-06-30 00:00:00</td>\n",
       "      <td>2020-06-30 00:00:00</td>\n",
       "      <td>2020-06-30 00:00:00</td>\n",
       "    </tr>\n",
       "    <tr>\n",
       "      <th>Year</th>\n",
       "      <td>2020</td>\n",
       "      <td>2020</td>\n",
       "      <td>2020</td>\n",
       "      <td>2020</td>\n",
       "      <td>2020</td>\n",
       "    </tr>\n",
       "    <tr>\n",
       "      <th>Op_Cap_BPSD</th>\n",
       "      <td>1.96342e+07</td>\n",
       "      <td>941100</td>\n",
       "      <td>190200</td>\n",
       "      <td>0</td>\n",
       "      <td>0</td>\n",
       "    </tr>\n",
       "    <tr>\n",
       "      <th>Idle_Cap_BPSD</th>\n",
       "      <td>458000</td>\n",
       "      <td>350000</td>\n",
       "      <td>0</td>\n",
       "      <td>0</td>\n",
       "      <td>0</td>\n",
       "    </tr>\n",
       "    <tr>\n",
       "      <th>Cap_BPSD</th>\n",
       "      <td>2.00922e+07</td>\n",
       "      <td>1.2911e+06</td>\n",
       "      <td>190200</td>\n",
       "      <td>0</td>\n",
       "      <td>0</td>\n",
       "    </tr>\n",
       "    <tr>\n",
       "      <th>Cap_BPCD</th>\n",
       "      <td>1.89761e+07</td>\n",
       "      <td>1.224e+06</td>\n",
       "      <td>182200</td>\n",
       "      <td>0</td>\n",
       "      <td>0</td>\n",
       "    </tr>\n",
       "  </tbody>\n",
       "</table>\n",
       "</div>"
      ],
      "text/plain": [
       "                                                               0  \\\n",
       "Rec_ID                                                         1   \n",
       "ID                                                  ATMDIST-0001   \n",
       "Description    Annual Operable Atmospheric Crude Oil Distilla...   \n",
       "Type_Code                                                ATMDIST   \n",
       "US                                                            US   \n",
       "PADD                                                          US   \n",
       "State                                                         US   \n",
       "Date                                         2020-06-30 00:00:00   \n",
       "Year                                                        2020   \n",
       "Op_Cap_BPSD                                          1.96342e+07   \n",
       "Idle_Cap_BPSD                                             458000   \n",
       "Cap_BPSD                                             2.00922e+07   \n",
       "Cap_BPCD                                             1.89761e+07   \n",
       "\n",
       "                                                               1  \\\n",
       "Rec_ID                                                         2   \n",
       "ID                                                  ATMDIST-0002   \n",
       "Description    Annual Operable Atmospheric Crude Oil Distilla...   \n",
       "Type_Code                                                ATMDIST   \n",
       "US                                                            US   \n",
       "PADD                                                       PAD-1   \n",
       "State                                                      PAD-1   \n",
       "Date                                         2020-06-30 00:00:00   \n",
       "Year                                                        2020   \n",
       "Op_Cap_BPSD                                               941100   \n",
       "Idle_Cap_BPSD                                             350000   \n",
       "Cap_BPSD                                              1.2911e+06   \n",
       "Cap_BPCD                                               1.224e+06   \n",
       "\n",
       "                                                               2  \\\n",
       "Rec_ID                                                         3   \n",
       "ID                                                  ATMDIST-0003   \n",
       "Description    Annual Operable Atmospheric Crude Oil Distilla...   \n",
       "Type_Code                                                ATMDIST   \n",
       "US                                                            US   \n",
       "PADD                                                       PAD-1   \n",
       "State                                                   Delaware   \n",
       "Date                                         2020-06-30 00:00:00   \n",
       "Year                                                        2020   \n",
       "Op_Cap_BPSD                                               190200   \n",
       "Idle_Cap_BPSD                                                  0   \n",
       "Cap_BPSD                                                  190200   \n",
       "Cap_BPCD                                                  182200   \n",
       "\n",
       "                                                               3  \\\n",
       "Rec_ID                                                         4   \n",
       "ID                                                  ATMDIST-0004   \n",
       "Description    Annual Operable Atmospheric Crude Oil Distilla...   \n",
       "Type_Code                                                ATMDIST   \n",
       "US                                                            US   \n",
       "PADD                                                       PAD-1   \n",
       "State                                                    Florida   \n",
       "Date                                         2020-06-30 00:00:00   \n",
       "Year                                                        2020   \n",
       "Op_Cap_BPSD                                                    0   \n",
       "Idle_Cap_BPSD                                                  0   \n",
       "Cap_BPSD                                                       0   \n",
       "Cap_BPCD                                                       0   \n",
       "\n",
       "                                                               4  \n",
       "Rec_ID                                                         5  \n",
       "ID                                                  ATMDIST-0005  \n",
       "Description    Annual Operable Atmospheric Crude Oil Distilla...  \n",
       "Type_Code                                                ATMDIST  \n",
       "US                                                            US  \n",
       "PADD                                                       PAD-1  \n",
       "State                                                    Georgia  \n",
       "Date                                         2020-06-30 00:00:00  \n",
       "Year                                                        2020  \n",
       "Op_Cap_BPSD                                                    0  \n",
       "Idle_Cap_BPSD                                                  0  \n",
       "Cap_BPSD                                                       0  \n",
       "Cap_BPCD                                                       0  "
      ]
     },
     "execution_count": 30,
     "metadata": {},
     "output_type": "execute_result"
    }
   ],
   "source": [
    "Refinery_Cap_ByType.head().T"
   ]
  },
  {
   "cell_type": "markdown",
   "metadata": {},
   "source": [
    "##### The data is aggregated by Country (US), PAD district, and state:\n",
    "* we will have to separate the numeric data by corresponding categories as needed"
   ]
  },
  {
   "cell_type": "code",
   "execution_count": 31,
   "metadata": {},
   "outputs": [
    {
     "data": {
      "text/plain": [
       "CATCRKRECYL     46\n",
       "CATHYDRCRCK     46\n",
       "VACMDIST        46\n",
       "COKING          46\n",
       "ATMDIST         46\n",
       "CATLREFORM      46\n",
       "CATHYDTRMT      46\n",
       "THERMCRCK       46\n",
       "FUELSOLDEASP    46\n",
       "CATLYTCRCK      46\n",
       "Name: Type_Code, dtype: int64"
      ]
     },
     "execution_count": 31,
     "metadata": {},
     "output_type": "execute_result"
    }
   ],
   "source": [
    "Refinery_Cap_ByType[\"Type_Code\"].value_counts()"
   ]
  },
  {
   "cell_type": "code",
   "execution_count": 32,
   "metadata": {},
   "outputs": [
    {
     "data": {
      "text/plain": [
       "US    460\n",
       "Name: US, dtype: int64"
      ]
     },
     "execution_count": 32,
     "metadata": {},
     "output_type": "execute_result"
    }
   ],
   "source": [
    "Refinery_Cap_ByType[\"US\"].value_counts()"
   ]
  },
  {
   "cell_type": "code",
   "execution_count": 33,
   "metadata": {},
   "outputs": [
    {
     "data": {
      "text/plain": [
       "PAD-2    140\n",
       "PAD-1    110\n",
       "PAD-5     80\n",
       "PAD-3     70\n",
       "PAD-4     50\n",
       "US        10\n",
       "Name: PADD, dtype: int64"
      ]
     },
     "execution_count": 33,
     "metadata": {},
     "output_type": "execute_result"
    }
   ],
   "source": [
    "Refinery_Cap_ByType[\"PADD\"].value_counts()"
   ]
  },
  {
   "cell_type": "code",
   "execution_count": 34,
   "metadata": {},
   "outputs": [
    {
     "data": {
      "text/plain": [
       "6"
      ]
     },
     "execution_count": 34,
     "metadata": {},
     "output_type": "execute_result"
    }
   ],
   "source": [
    "np.count_nonzero(Refinery_Cap_ByType[\"PADD\"].value_counts())"
   ]
  },
  {
   "cell_type": "code",
   "execution_count": 35,
   "metadata": {},
   "outputs": [
    {
     "data": {
      "text/plain": [
       "46"
      ]
     },
     "execution_count": 35,
     "metadata": {},
     "output_type": "execute_result"
    }
   ],
   "source": [
    "np.count_nonzero(Refinery_Cap_ByType[\"State\"].value_counts())"
   ]
  },
  {
   "cell_type": "markdown",
   "metadata": {},
   "source": [
    "* we find that the table includes 10 process types (will use it as one of data categories)\n",
    "* each row is represented by 46 location categories: 5 'PADD' and 41 'State' columns\n",
    "* our interest in numeric data is Operating capacities, presented in 'BPSD' units - it seems that for some process types some data is missing, so we will need to replace it with data deriving from the 'BPCD' alternatives (BPSD - \"barrels per streaming day\", BPCD = \"barrels per calendar day\""
   ]
  },
  {
   "cell_type": "markdown",
   "metadata": {},
   "source": [
    "#### 2.1.4C Audit US Distance from US Refineries to cities with population > 300K<a id='2.1.4C_Audit_Refinery_to_Cities_Distances_Data'></a>"
   ]
  },
  {
   "cell_type": "code",
   "execution_count": 36,
   "metadata": {},
   "outputs": [
    {
     "data": {
      "text/plain": [
       "(135, 137)"
      ]
     },
     "execution_count": 36,
     "metadata": {},
     "output_type": "execute_result"
    }
   ],
   "source": [
    "Refinery_City300K_Distances.shape"
   ]
  },
  {
   "cell_type": "markdown",
   "metadata": {},
   "source": [
    "* This table was composed using the list of U.S. refineries from EIA.gov\n",
    "  and cities with population > 300K, sourced from  the U.S. Census website;\n",
    "  However, when by calculating distances between the two, using Google APIs, we\n",
    "  hit the daily quota of 'free inquiries' and the table is left incomplete - it would take weeks to complete\n",
    "  further calculations at this rate. Thus, unless we find another way, we will limit the number\n",
    "  of cross-references from 66 cities (per 132 refineries) to a lower count, or higher population criteria"
   ]
  },
  {
   "cell_type": "code",
   "execution_count": 37,
   "metadata": {
    "scrolled": true
   },
   "outputs": [
    {
     "data": {
      "text/html": [
       "<div>\n",
       "<style scoped>\n",
       "    .dataframe tbody tr th:only-of-type {\n",
       "        vertical-align: middle;\n",
       "    }\n",
       "\n",
       "    .dataframe tbody tr th {\n",
       "        vertical-align: top;\n",
       "    }\n",
       "\n",
       "    .dataframe thead th {\n",
       "        text-align: right;\n",
       "    }\n",
       "</style>\n",
       "<table border=\"1\" class=\"dataframe\">\n",
       "  <thead>\n",
       "    <tr style=\"text-align: right;\">\n",
       "      <th></th>\n",
       "      <th>Refi_ID</th>\n",
       "      <th>Refinery_City</th>\n",
       "      <th>Major City</th>\n",
       "      <th>New York, New York</th>\n",
       "      <th>New York, New York Distance</th>\n",
       "      <th>Los Angeles, California</th>\n",
       "      <th>Los Angeles, California Distance</th>\n",
       "      <th>Chicago, Illinois</th>\n",
       "      <th>Chicago, Illinois Distance</th>\n",
       "      <th>Houston, Texas</th>\n",
       "      <th>...</th>\n",
       "      <th>Stockton, California</th>\n",
       "      <th>Stockton, California.1</th>\n",
       "      <th>Saint Paul, Minnesota</th>\n",
       "      <th>Saint Paul, Minnesota.1</th>\n",
       "      <th>Cincinnati, Ohio</th>\n",
       "      <th>Cincinnati, Ohio.1</th>\n",
       "      <th>St. Louis, Missouri</th>\n",
       "      <th>St. Louis, Missouri.1</th>\n",
       "      <th>Pittsburgh, Pennsylvania</th>\n",
       "      <th>Pittsburgh, Pennsylvania.1</th>\n",
       "    </tr>\n",
       "  </thead>\n",
       "  <tbody>\n",
       "    <tr>\n",
       "      <th>0</th>\n",
       "      <td>1.0</td>\n",
       "      <td>Saraland, Alabama</td>\n",
       "      <td>New York, New York</td>\n",
       "      <td>New York, New York</td>\n",
       "      <td>1,181 mi</td>\n",
       "      <td>Los Angeles, California</td>\n",
       "      <td>2,021 mi</td>\n",
       "      <td>Chicago, Illinois</td>\n",
       "      <td>906 mi</td>\n",
       "      <td>Houston, Texas</td>\n",
       "      <td>...</td>\n",
       "      <td>Stockton, California</td>\n",
       "      <td>NaN</td>\n",
       "      <td>Saint Paul, Minnesota</td>\n",
       "      <td>NaN</td>\n",
       "      <td>Cincinnati, Ohio</td>\n",
       "      <td>NaN</td>\n",
       "      <td>St. Louis, Missouri</td>\n",
       "      <td>NaN</td>\n",
       "      <td>Pittsburgh, Pennsylvania</td>\n",
       "      <td>NaN</td>\n",
       "    </tr>\n",
       "    <tr>\n",
       "      <th>1</th>\n",
       "      <td>2.0</td>\n",
       "      <td>Tuscaloosa, Alabama</td>\n",
       "      <td>Los Angeles, California</td>\n",
       "      <td>New York, New York</td>\n",
       "      <td>1,020 mi</td>\n",
       "      <td>Los Angeles, California</td>\n",
       "      <td>2,021 mi</td>\n",
       "      <td>Chicago, Illinois</td>\n",
       "      <td>716 mi</td>\n",
       "      <td>Houston, Texas</td>\n",
       "      <td>...</td>\n",
       "      <td>Stockton, California</td>\n",
       "      <td>NaN</td>\n",
       "      <td>Saint Paul, Minnesota</td>\n",
       "      <td>NaN</td>\n",
       "      <td>Cincinnati, Ohio</td>\n",
       "      <td>NaN</td>\n",
       "      <td>St. Louis, Missouri</td>\n",
       "      <td>NaN</td>\n",
       "      <td>Pittsburgh, Pennsylvania</td>\n",
       "      <td>NaN</td>\n",
       "    </tr>\n",
       "    <tr>\n",
       "      <th>2</th>\n",
       "      <td>3.0</td>\n",
       "      <td>Atmore, Alabama</td>\n",
       "      <td>Chicago, Illinois</td>\n",
       "      <td>New York, New York</td>\n",
       "      <td>1,143 mi</td>\n",
       "      <td>Los Angeles, California</td>\n",
       "      <td>2,061 mi</td>\n",
       "      <td>Chicago, Illinois</td>\n",
       "      <td>869 mi</td>\n",
       "      <td>Houston, Texas</td>\n",
       "      <td>...</td>\n",
       "      <td>Stockton, California</td>\n",
       "      <td>NaN</td>\n",
       "      <td>Saint Paul, Minnesota</td>\n",
       "      <td>NaN</td>\n",
       "      <td>Cincinnati, Ohio</td>\n",
       "      <td>NaN</td>\n",
       "      <td>St. Louis, Missouri</td>\n",
       "      <td>NaN</td>\n",
       "      <td>Pittsburgh, Pennsylvania</td>\n",
       "      <td>NaN</td>\n",
       "    </tr>\n",
       "    <tr>\n",
       "      <th>3</th>\n",
       "      <td>4.0</td>\n",
       "      <td>Kenai, Alaska</td>\n",
       "      <td>Houston, Texas</td>\n",
       "      <td>New York, New York</td>\n",
       "      <td>4,520 mi</td>\n",
       "      <td>Los Angeles, California</td>\n",
       "      <td>3,552 mi</td>\n",
       "      <td>Chicago, Illinois</td>\n",
       "      <td>3,732 mi</td>\n",
       "      <td>Houston, Texas</td>\n",
       "      <td>...</td>\n",
       "      <td>Stockton, California</td>\n",
       "      <td>NaN</td>\n",
       "      <td>Saint Paul, Minnesota</td>\n",
       "      <td>NaN</td>\n",
       "      <td>Cincinnati, Ohio</td>\n",
       "      <td>NaN</td>\n",
       "      <td>St. Louis, Missouri</td>\n",
       "      <td>NaN</td>\n",
       "      <td>Pittsburgh, Pennsylvania</td>\n",
       "      <td>NaN</td>\n",
       "    </tr>\n",
       "    <tr>\n",
       "      <th>4</th>\n",
       "      <td>5.0</td>\n",
       "      <td>Valdez, Alaska</td>\n",
       "      <td>Phoenix, Arizona</td>\n",
       "      <td>New York, New York</td>\n",
       "      <td>4,299 mi</td>\n",
       "      <td>Los Angeles, California</td>\n",
       "      <td>3,331 mi</td>\n",
       "      <td>Chicago, Illinois</td>\n",
       "      <td>3,511 mi</td>\n",
       "      <td>Houston, Texas</td>\n",
       "      <td>...</td>\n",
       "      <td>Stockton, California</td>\n",
       "      <td>NaN</td>\n",
       "      <td>Saint Paul, Minnesota</td>\n",
       "      <td>NaN</td>\n",
       "      <td>Cincinnati, Ohio</td>\n",
       "      <td>NaN</td>\n",
       "      <td>St. Louis, Missouri</td>\n",
       "      <td>NaN</td>\n",
       "      <td>Pittsburgh, Pennsylvania</td>\n",
       "      <td>NaN</td>\n",
       "    </tr>\n",
       "  </tbody>\n",
       "</table>\n",
       "<p>5 rows × 137 columns</p>\n",
       "</div>"
      ],
      "text/plain": [
       "   Refi_ID        Refinery_City               Major City  New York, New York  \\\n",
       "0      1.0    Saraland, Alabama       New York, New York  New York, New York   \n",
       "1      2.0  Tuscaloosa, Alabama  Los Angeles, California  New York, New York   \n",
       "2      3.0      Atmore, Alabama        Chicago, Illinois  New York, New York   \n",
       "3      4.0        Kenai, Alaska           Houston, Texas  New York, New York   \n",
       "4      5.0       Valdez, Alaska         Phoenix, Arizona  New York, New York   \n",
       "\n",
       "  New York, New York Distance  Los Angeles, California  \\\n",
       "0                    1,181 mi  Los Angeles, California   \n",
       "1                    1,020 mi  Los Angeles, California   \n",
       "2                    1,143 mi  Los Angeles, California   \n",
       "3                    4,520 mi  Los Angeles, California   \n",
       "4                    4,299 mi  Los Angeles, California   \n",
       "\n",
       "  Los Angeles, California Distance  Chicago, Illinois  \\\n",
       "0                         2,021 mi  Chicago, Illinois   \n",
       "1                         2,021 mi  Chicago, Illinois   \n",
       "2                         2,061 mi  Chicago, Illinois   \n",
       "3                         3,552 mi  Chicago, Illinois   \n",
       "4                         3,331 mi  Chicago, Illinois   \n",
       "\n",
       "  Chicago, Illinois Distance  Houston, Texas  ...  Stockton, California  \\\n",
       "0                     906 mi  Houston, Texas  ...  Stockton, California   \n",
       "1                     716 mi  Houston, Texas  ...  Stockton, California   \n",
       "2                     869 mi  Houston, Texas  ...  Stockton, California   \n",
       "3                   3,732 mi  Houston, Texas  ...  Stockton, California   \n",
       "4                   3,511 mi  Houston, Texas  ...  Stockton, California   \n",
       "\n",
       "  Stockton, California.1  Saint Paul, Minnesota Saint Paul, Minnesota.1  \\\n",
       "0                    NaN  Saint Paul, Minnesota                     NaN   \n",
       "1                    NaN  Saint Paul, Minnesota                     NaN   \n",
       "2                    NaN  Saint Paul, Minnesota                     NaN   \n",
       "3                    NaN  Saint Paul, Minnesota                     NaN   \n",
       "4                    NaN  Saint Paul, Minnesota                     NaN   \n",
       "\n",
       "   Cincinnati, Ohio Cincinnati, Ohio.1  St. Louis, Missouri  \\\n",
       "0  Cincinnati, Ohio                NaN  St. Louis, Missouri   \n",
       "1  Cincinnati, Ohio                NaN  St. Louis, Missouri   \n",
       "2  Cincinnati, Ohio                NaN  St. Louis, Missouri   \n",
       "3  Cincinnati, Ohio                NaN  St. Louis, Missouri   \n",
       "4  Cincinnati, Ohio                NaN  St. Louis, Missouri   \n",
       "\n",
       "  St. Louis, Missouri.1  Pittsburgh, Pennsylvania Pittsburgh, Pennsylvania.1  \n",
       "0                   NaN  Pittsburgh, Pennsylvania                        NaN  \n",
       "1                   NaN  Pittsburgh, Pennsylvania                        NaN  \n",
       "2                   NaN  Pittsburgh, Pennsylvania                        NaN  \n",
       "3                   NaN  Pittsburgh, Pennsylvania                        NaN  \n",
       "4                   NaN  Pittsburgh, Pennsylvania                        NaN  \n",
       "\n",
       "[5 rows x 137 columns]"
      ]
     },
     "execution_count": 37,
     "metadata": {},
     "output_type": "execute_result"
    }
   ],
   "source": [
    "# Distances between refineries and cities with population > 300K in the U.S.\n",
    "Refinery_City300K_Distances.head()"
   ]
  },
  {
   "cell_type": "code",
   "execution_count": 38,
   "metadata": {},
   "outputs": [
    {
     "data": {
      "text/html": [
       "<div>\n",
       "<style scoped>\n",
       "    .dataframe tbody tr th:only-of-type {\n",
       "        vertical-align: middle;\n",
       "    }\n",
       "\n",
       "    .dataframe tbody tr th {\n",
       "        vertical-align: top;\n",
       "    }\n",
       "\n",
       "    .dataframe thead th {\n",
       "        text-align: right;\n",
       "    }\n",
       "</style>\n",
       "<table border=\"1\" class=\"dataframe\">\n",
       "  <thead>\n",
       "    <tr style=\"text-align: right;\">\n",
       "      <th></th>\n",
       "      <th>St. Louis, Missouri</th>\n",
       "      <th>St. Louis, Missouri.1</th>\n",
       "      <th>Pittsburgh, Pennsylvania</th>\n",
       "      <th>Pittsburgh, Pennsylvania.1</th>\n",
       "    </tr>\n",
       "  </thead>\n",
       "  <tbody>\n",
       "    <tr>\n",
       "      <th>0</th>\n",
       "      <td>St. Louis, Missouri</td>\n",
       "      <td>NaN</td>\n",
       "      <td>Pittsburgh, Pennsylvania</td>\n",
       "      <td>NaN</td>\n",
       "    </tr>\n",
       "    <tr>\n",
       "      <th>1</th>\n",
       "      <td>St. Louis, Missouri</td>\n",
       "      <td>NaN</td>\n",
       "      <td>Pittsburgh, Pennsylvania</td>\n",
       "      <td>NaN</td>\n",
       "    </tr>\n",
       "    <tr>\n",
       "      <th>2</th>\n",
       "      <td>St. Louis, Missouri</td>\n",
       "      <td>NaN</td>\n",
       "      <td>Pittsburgh, Pennsylvania</td>\n",
       "      <td>NaN</td>\n",
       "    </tr>\n",
       "    <tr>\n",
       "      <th>3</th>\n",
       "      <td>St. Louis, Missouri</td>\n",
       "      <td>NaN</td>\n",
       "      <td>Pittsburgh, Pennsylvania</td>\n",
       "      <td>NaN</td>\n",
       "    </tr>\n",
       "    <tr>\n",
       "      <th>4</th>\n",
       "      <td>St. Louis, Missouri</td>\n",
       "      <td>NaN</td>\n",
       "      <td>Pittsburgh, Pennsylvania</td>\n",
       "      <td>NaN</td>\n",
       "    </tr>\n",
       "  </tbody>\n",
       "</table>\n",
       "</div>"
      ],
      "text/plain": [
       "   St. Louis, Missouri  St. Louis, Missouri.1  Pittsburgh, Pennsylvania  \\\n",
       "0  St. Louis, Missouri                    NaN  Pittsburgh, Pennsylvania   \n",
       "1  St. Louis, Missouri                    NaN  Pittsburgh, Pennsylvania   \n",
       "2  St. Louis, Missouri                    NaN  Pittsburgh, Pennsylvania   \n",
       "3  St. Louis, Missouri                    NaN  Pittsburgh, Pennsylvania   \n",
       "4  St. Louis, Missouri                    NaN  Pittsburgh, Pennsylvania   \n",
       "\n",
       "   Pittsburgh, Pennsylvania.1  \n",
       "0                         NaN  \n",
       "1                         NaN  \n",
       "2                         NaN  \n",
       "3                         NaN  \n",
       "4                         NaN  "
      ]
     },
     "execution_count": 38,
     "metadata": {},
     "output_type": "execute_result"
    }
   ],
   "source": [
    "Refinery_City300K_Distances.iloc[0:5,-4:]"
   ]
  },
  {
   "cell_type": "markdown",
   "metadata": {},
   "source": [
    "#### 2.1.5 Audit Crude API data grouped by PAD districts<a id='2.1.5_Audit_Crude_API_Data'></a>"
   ]
  },
  {
   "cell_type": "markdown",
   "metadata": {},
   "source": [
    "This dataset groups the crude oil types that U.S. refineries use as feedstock to produce petroleum products. We will concentrate on the API of the various crudes to link the quality features of specific type of feedstock refineries use, based on their design and processing type capacites. Put simply, different APIs on the input result in different type of products on the output."
   ]
  },
  {
   "cell_type": "code",
   "execution_count": 39,
   "metadata": {
    "scrolled": true
   },
   "outputs": [
    {
     "data": {
      "text/html": [
       "<div>\n",
       "<style scoped>\n",
       "    .dataframe tbody tr th:only-of-type {\n",
       "        vertical-align: middle;\n",
       "    }\n",
       "\n",
       "    .dataframe tbody tr th {\n",
       "        vertical-align: top;\n",
       "    }\n",
       "\n",
       "    .dataframe thead th {\n",
       "        text-align: right;\n",
       "    }\n",
       "</style>\n",
       "<table border=\"1\" class=\"dataframe\">\n",
       "  <thead>\n",
       "    <tr style=\"text-align: right;\">\n",
       "      <th></th>\n",
       "      <th>Date</th>\n",
       "      <th>U.S. API Gravity (Weighted Average) of Crude Oil Input to Refineries (Degrees)</th>\n",
       "      <th>East Coast (PADD 1) API Gravity (Weighted Average) of Crude Oil Input to Refineries (Degrees)</th>\n",
       "      <th>East Coast Refinery District API Gravity (Weighted Average) of Crude Oil Input to Refineries (Degrees)</th>\n",
       "      <th>Appalachian No. 1 Refinery District API Gravity (Weighted Average) of Crude Oil Input to Refineries (Degrees)</th>\n",
       "      <th>Midwest (PADD 2) API Gravity (Weighted Average) of Crude Oil Input to Refineries (Degrees)</th>\n",
       "      <th>Indiana, Illinois, Kentucky Refinery District API Gravity (Weighted Average) of Crude Oil Input to Refineries (Degrees)</th>\n",
       "      <th>Minnesota, Wisconsin, North and South Dakota Refinery District API Gravity (Weighted Average) of Crude Oil Input to Refineries (Degrees)</th>\n",
       "      <th>Oklahoma, Kansas, Missouri Refinery District API Gravity (Weighted Average) of Crude Oil Input to Refineries (Degrees)</th>\n",
       "      <th>Gulf Coast (PADD 3) API Gravity (Weighted Average) of Crude Oil Input to Refineries (Degrees)</th>\n",
       "      <th>Texas Inland Refinery District API Gravity (Weighted Average) of Crude Oil Input to Refineries (Degrees)</th>\n",
       "      <th>Texas Gulf Coast Refinery District API Gravity (Weighted Average) of Crude Oil Input to Refineries (Degrees)</th>\n",
       "      <th>Louisiana Gulf Coast Refinery District API Gravity (Weighted Average) of Crude Oil Input to Refineries (Degrees)</th>\n",
       "      <th>North Louisiana, Arkansas Refinery District API Gravity (Weighted Average) of Crude Oil Input to Refineries (Degrees)</th>\n",
       "      <th>New Mexico Refinery District API Gravity (Weighted Average) of Crude Oil Input to Refineries (Degrees)</th>\n",
       "      <th>Rocky Mountains (PADD 4) API Gravity (Weighted Average) of Crude Oil Input to Refineries (Degrees)</th>\n",
       "      <th>West Coast (PADD 5) API Gravity (Weighted Average) of Crude Oil Input to Refineries (Degrees)</th>\n",
       "    </tr>\n",
       "  </thead>\n",
       "  <tbody>\n",
       "    <tr>\n",
       "      <th>0</th>\n",
       "      <td>Date</td>\n",
       "      <td>USA</td>\n",
       "      <td>PAD-1</td>\n",
       "      <td>PAD-1-1</td>\n",
       "      <td>PAD-1-2</td>\n",
       "      <td>PAD-2</td>\n",
       "      <td>PAD-2-1</td>\n",
       "      <td>PAD-2-2</td>\n",
       "      <td>PAD-2-3</td>\n",
       "      <td>PAD-3</td>\n",
       "      <td>PAD-3-1</td>\n",
       "      <td>PAD-3-2</td>\n",
       "      <td>PAD-3-3</td>\n",
       "      <td>PAD-3-4</td>\n",
       "      <td>PAD-3-5</td>\n",
       "      <td>PAD-4</td>\n",
       "      <td>PAD-5</td>\n",
       "    </tr>\n",
       "    <tr>\n",
       "      <th>1</th>\n",
       "      <td>2013-01-15 00:00:00</td>\n",
       "      <td>30.75</td>\n",
       "      <td>33.99</td>\n",
       "      <td>34.21</td>\n",
       "      <td>31.62</td>\n",
       "      <td>32.79</td>\n",
       "      <td>32.31</td>\n",
       "      <td>28.68</td>\n",
       "      <td>36.58</td>\n",
       "      <td>30.33</td>\n",
       "      <td>36.65</td>\n",
       "      <td>29.34</td>\n",
       "      <td>29.88</td>\n",
       "      <td>30.69</td>\n",
       "      <td>39.13</td>\n",
       "      <td>32.7</td>\n",
       "      <td>27.24</td>\n",
       "    </tr>\n",
       "  </tbody>\n",
       "</table>\n",
       "</div>"
      ],
      "text/plain": [
       "                  Date  \\\n",
       "0                 Date   \n",
       "1  2013-01-15 00:00:00   \n",
       "\n",
       "  U.S. API Gravity (Weighted Average) of Crude Oil Input to Refineries (Degrees)  \\\n",
       "0                                                USA                               \n",
       "1                                              30.75                               \n",
       "\n",
       "  East Coast (PADD 1) API Gravity (Weighted Average) of Crude Oil Input to Refineries (Degrees)   \\\n",
       "0                                              PAD-1                                               \n",
       "1                                              33.99                                               \n",
       "\n",
       "  East Coast Refinery District API Gravity (Weighted Average) of Crude Oil Input to Refineries (Degrees)  \\\n",
       "0                                            PAD-1-1                                                       \n",
       "1                                              34.21                                                       \n",
       "\n",
       "  Appalachian No. 1 Refinery District API Gravity (Weighted Average) of Crude Oil Input to Refineries (Degrees)  \\\n",
       "0                                            PAD-1-2                                                              \n",
       "1                                              31.62                                                              \n",
       "\n",
       "  Midwest (PADD 2) API Gravity (Weighted Average) of Crude Oil Input to Refineries (Degrees)  \\\n",
       "0                                              PAD-2                                           \n",
       "1                                              32.79                                           \n",
       "\n",
       "  Indiana, Illinois, Kentucky Refinery District API Gravity (Weighted Average) of Crude Oil Input to Refineries (Degrees)  \\\n",
       "0                                            PAD-2-1                                                                        \n",
       "1                                              32.31                                                                        \n",
       "\n",
       "  Minnesota, Wisconsin, North and South Dakota Refinery District API Gravity (Weighted Average) of Crude Oil Input to Refineries (Degrees)  \\\n",
       "0                                            PAD-2-2                                                                                         \n",
       "1                                              28.68                                                                                         \n",
       "\n",
       "  Oklahoma, Kansas, Missouri Refinery District API Gravity (Weighted Average) of Crude Oil Input to Refineries (Degrees)  \\\n",
       "0                                            PAD-2-3                                                                       \n",
       "1                                              36.58                                                                       \n",
       "\n",
       "  Gulf Coast (PADD 3) API Gravity (Weighted Average) of Crude Oil Input to Refineries (Degrees)  \\\n",
       "0                                              PAD-3                                              \n",
       "1                                              30.33                                              \n",
       "\n",
       "  Texas Inland Refinery District API Gravity (Weighted Average) of Crude Oil Input to Refineries (Degrees)  \\\n",
       "0                                            PAD-3-1                                                         \n",
       "1                                              36.65                                                         \n",
       "\n",
       "  Texas Gulf Coast Refinery District API Gravity (Weighted Average) of Crude Oil Input to Refineries (Degrees)  \\\n",
       "0                                            PAD-3-2                                                             \n",
       "1                                              29.34                                                             \n",
       "\n",
       "  Louisiana Gulf Coast Refinery District API Gravity (Weighted Average) of Crude Oil Input to Refineries (Degrees)  \\\n",
       "0                                            PAD-3-3                                                                 \n",
       "1                                              29.88                                                                 \n",
       "\n",
       "  North Louisiana, Arkansas Refinery District API Gravity (Weighted Average) of Crude Oil Input to Refineries (Degrees)  \\\n",
       "0                                            PAD-3-4                                                                      \n",
       "1                                              30.69                                                                      \n",
       "\n",
       "  New Mexico Refinery District API Gravity (Weighted Average) of Crude Oil Input to Refineries (Degrees)  \\\n",
       "0                                            PAD-3-5                                                       \n",
       "1                                              39.13                                                       \n",
       "\n",
       "  Rocky Mountains (PADD 4) API Gravity (Weighted Average) of Crude Oil Input to Refineries (Degrees)  \\\n",
       "0                                              PAD-4                                                   \n",
       "1                                               32.7                                                   \n",
       "\n",
       "  West Coast (PADD 5) API Gravity (Weighted Average) of Crude Oil Input to Refineries (Degrees)  \n",
       "0                                              PAD-5                                             \n",
       "1                                              27.24                                             "
      ]
     },
     "execution_count": 39,
     "metadata": {},
     "output_type": "execute_result"
    }
   ],
   "source": [
    "# Audit Crude API data grouped by PAD districts:\n",
    "API_by_PAD_raw.head(2)"
   ]
  },
  {
   "cell_type": "markdown",
   "metadata": {},
   "source": [
    "* OK, a lot going on here it looks like; first off, the long text headings in the first row\n",
    "will need to go; we will leave the second row with the PAD codes and make it the columns names\n",
    "* However, there are more complications here: the district lables here include aggregate values, such as 'U.S' and 'PADD #', as well as the lower level detail, i.e. States\n",
    "* We are just interested in the PAD groupings, but at this point it's difficulat to say, whether having a further drilled down level, indicating the States would come handy; hence, we will add a secondary heading labels for the PAD and State for further maniuplation down the road as necessary"
   ]
  },
  {
   "cell_type": "markdown",
   "metadata": {},
   "source": [
    "#### 2.1.6A Audit Population data, grouped by PAD districts, states, and cities<a id='2.1.6A_Audit_Population_Data'></a>"
   ]
  },
  {
   "cell_type": "code",
   "execution_count": 40,
   "metadata": {},
   "outputs": [
    {
     "data": {
      "text/html": [
       "<div>\n",
       "<style scoped>\n",
       "    .dataframe tbody tr th:only-of-type {\n",
       "        vertical-align: middle;\n",
       "    }\n",
       "\n",
       "    .dataframe tbody tr th {\n",
       "        vertical-align: top;\n",
       "    }\n",
       "\n",
       "    .dataframe thead th {\n",
       "        text-align: right;\n",
       "    }\n",
       "</style>\n",
       "<table border=\"1\" class=\"dataframe\">\n",
       "  <thead>\n",
       "    <tr style=\"text-align: right;\">\n",
       "      <th></th>\n",
       "      <th>PAD_ID</th>\n",
       "      <th>PAD_SUB_ID</th>\n",
       "      <th>Rank</th>\n",
       "      <th>Geographic_Area</th>\n",
       "      <th>State</th>\n",
       "      <th>City</th>\n",
       "      <th>City_State</th>\n",
       "      <th>2010</th>\n",
       "      <th>2011</th>\n",
       "      <th>2012</th>\n",
       "      <th>2013</th>\n",
       "      <th>2014</th>\n",
       "      <th>2015</th>\n",
       "      <th>2016</th>\n",
       "      <th>2017</th>\n",
       "      <th>2018</th>\n",
       "      <th>2019</th>\n",
       "    </tr>\n",
       "  </thead>\n",
       "  <tbody>\n",
       "    <tr>\n",
       "      <th>0</th>\n",
       "      <td>PAD-1</td>\n",
       "      <td>PAD-1B</td>\n",
       "      <td>1</td>\n",
       "      <td>New York city, New York</td>\n",
       "      <td>New York</td>\n",
       "      <td>New York</td>\n",
       "      <td>New York, New York</td>\n",
       "      <td>8190209</td>\n",
       "      <td>8272948</td>\n",
       "      <td>8346693</td>\n",
       "      <td>8396091</td>\n",
       "      <td>8433806</td>\n",
       "      <td>8463049</td>\n",
       "      <td>8469153</td>\n",
       "      <td>8437478</td>\n",
       "      <td>8390081</td>\n",
       "      <td>8336817</td>\n",
       "    </tr>\n",
       "    <tr>\n",
       "      <th>1</th>\n",
       "      <td>PAD-5</td>\n",
       "      <td>PAD-5</td>\n",
       "      <td>2</td>\n",
       "      <td>Los Angeles city, California</td>\n",
       "      <td>California</td>\n",
       "      <td>Los Angeles</td>\n",
       "      <td>Los Angeles, California</td>\n",
       "      <td>3795512</td>\n",
       "      <td>3820876</td>\n",
       "      <td>3851202</td>\n",
       "      <td>3881622</td>\n",
       "      <td>3909901</td>\n",
       "      <td>3938568</td>\n",
       "      <td>3963226</td>\n",
       "      <td>3975788</td>\n",
       "      <td>3977596</td>\n",
       "      <td>3979576</td>\n",
       "    </tr>\n",
       "    <tr>\n",
       "      <th>2</th>\n",
       "      <td>PAD-2</td>\n",
       "      <td>PAD-2</td>\n",
       "      <td>3</td>\n",
       "      <td>Chicago city, Illinois</td>\n",
       "      <td>Illinois</td>\n",
       "      <td>Chicago</td>\n",
       "      <td>Chicago, Illinois</td>\n",
       "      <td>2697477</td>\n",
       "      <td>2708114</td>\n",
       "      <td>2719141</td>\n",
       "      <td>2725731</td>\n",
       "      <td>2727066</td>\n",
       "      <td>2724344</td>\n",
       "      <td>2716723</td>\n",
       "      <td>2711069</td>\n",
       "      <td>2701423</td>\n",
       "      <td>2693976</td>\n",
       "    </tr>\n",
       "  </tbody>\n",
       "</table>\n",
       "</div>"
      ],
      "text/plain": [
       "  PAD_ID PAD_SUB_ID  Rank               Geographic_Area       State  \\\n",
       "0  PAD-1     PAD-1B     1       New York city, New York    New York   \n",
       "1  PAD-5      PAD-5     2  Los Angeles city, California  California   \n",
       "2  PAD-2      PAD-2     3        Chicago city, Illinois    Illinois   \n",
       "\n",
       "          City               City_State     2010     2011     2012     2013  \\\n",
       "0     New York       New York, New York  8190209  8272948  8346693  8396091   \n",
       "1  Los Angeles  Los Angeles, California  3795512  3820876  3851202  3881622   \n",
       "2      Chicago        Chicago, Illinois  2697477  2708114  2719141  2725731   \n",
       "\n",
       "      2014     2015     2016     2017     2018     2019  \n",
       "0  8433806  8463049  8469153  8437478  8390081  8336817  \n",
       "1  3909901  3938568  3963226  3975788  3977596  3979576  \n",
       "2  2727066  2724344  2716723  2711069  2701423  2693976  "
      ]
     },
     "execution_count": 40,
     "metadata": {},
     "output_type": "execute_result"
    }
   ],
   "source": [
    "# Audit the U.S. Cities Population Ranking:\n",
    "Pop_by_Cities_raw.head(3)"
   ]
  },
  {
   "cell_type": "code",
   "execution_count": 41,
   "metadata": {},
   "outputs": [
    {
     "name": "stdout",
     "output_type": "stream",
     "text": [
      "<class 'pandas.core.frame.DataFrame'>\n",
      "RangeIndex: 788 entries, 0 to 787\n",
      "Data columns (total 17 columns):\n",
      " #   Column           Non-Null Count  Dtype \n",
      "---  ------           --------------  ----- \n",
      " 0   PAD_ID           787 non-null    object\n",
      " 1   PAD_SUB_ID       787 non-null    object\n",
      " 2   Rank             788 non-null    int64 \n",
      " 3   Geographic_Area  788 non-null    object\n",
      " 4   State            788 non-null    object\n",
      " 5   City             788 non-null    object\n",
      " 6   City_State       788 non-null    object\n",
      " 7   2010             788 non-null    int64 \n",
      " 8   2011             788 non-null    int64 \n",
      " 9   2012             788 non-null    int64 \n",
      " 10  2013             788 non-null    int64 \n",
      " 11  2014             788 non-null    int64 \n",
      " 12  2015             788 non-null    int64 \n",
      " 13  2016             788 non-null    int64 \n",
      " 14  2017             788 non-null    int64 \n",
      " 15  2018             788 non-null    int64 \n",
      " 16  2019             788 non-null    int64 \n",
      "dtypes: int64(11), object(6)\n",
      "memory usage: 104.8+ KB\n"
     ]
    }
   ],
   "source": [
    "Pop_by_Cities_raw.info()"
   ]
  },
  {
   "cell_type": "markdown",
   "metadata": {},
   "source": [
    "* All looks good here"
   ]
  },
  {
   "cell_type": "markdown",
   "metadata": {},
   "source": [
    "### 2.2 Merging Data<a id='2.2_Merging_Data'></a>"
   ]
  },
  {
   "cell_type": "markdown",
   "metadata": {},
   "source": [
    "### 2.2.1 Merging WTI and Brent pricing data time series into one dataframe <a id='2.2.1_Merging_WTI_Brent_Time_Series'></a>"
   ]
  },
  {
   "cell_type": "code",
   "execution_count": 42,
   "metadata": {},
   "outputs": [],
   "source": [
    "WTI_Brent = pd.merge(WTI, Brent, how='outer', on='Date')"
   ]
  },
  {
   "cell_type": "code",
   "execution_count": 43,
   "metadata": {},
   "outputs": [],
   "source": [
    "WTI_Brent.columns = ['Date', 'WTI', 'Brent']"
   ]
  },
  {
   "cell_type": "code",
   "execution_count": 44,
   "metadata": {
    "scrolled": false
   },
   "outputs": [
    {
     "data": {
      "text/html": [
       "<div>\n",
       "<style scoped>\n",
       "    .dataframe tbody tr th:only-of-type {\n",
       "        vertical-align: middle;\n",
       "    }\n",
       "\n",
       "    .dataframe tbody tr th {\n",
       "        vertical-align: top;\n",
       "    }\n",
       "\n",
       "    .dataframe thead th {\n",
       "        text-align: right;\n",
       "    }\n",
       "</style>\n",
       "<table border=\"1\" class=\"dataframe\">\n",
       "  <thead>\n",
       "    <tr style=\"text-align: right;\">\n",
       "      <th></th>\n",
       "      <th>Date</th>\n",
       "      <th>WTI</th>\n",
       "      <th>Brent</th>\n",
       "    </tr>\n",
       "  </thead>\n",
       "  <tbody>\n",
       "    <tr>\n",
       "      <th>0</th>\n",
       "      <td>2013-01-15</td>\n",
       "      <td>94.76</td>\n",
       "      <td>112.96</td>\n",
       "    </tr>\n",
       "    <tr>\n",
       "      <th>1</th>\n",
       "      <td>2013-02-15</td>\n",
       "      <td>95.31</td>\n",
       "      <td>116.05</td>\n",
       "    </tr>\n",
       "  </tbody>\n",
       "</table>\n",
       "</div>"
      ],
      "text/plain": [
       "        Date    WTI   Brent\n",
       "0 2013-01-15  94.76  112.96\n",
       "1 2013-02-15  95.31  116.05"
      ]
     },
     "execution_count": 44,
     "metadata": {},
     "output_type": "execute_result"
    }
   ],
   "source": [
    "WTI_Brent.head(2)"
   ]
  },
  {
   "cell_type": "markdown",
   "metadata": {},
   "source": [
    "### 2.2.2 Merging Domesitc and Imported Crude data into one dataframe <a id='2.2.2_Merging_WTI_Brent_Time_Series'></a>"
   ]
  },
  {
   "cell_type": "code",
   "execution_count": 45,
   "metadata": {},
   "outputs": [],
   "source": [
    "crude_cost = pd.merge(crude_us, crude_imported, how='outer', on='Date')"
   ]
  },
  {
   "cell_type": "code",
   "execution_count": 46,
   "metadata": {},
   "outputs": [
    {
     "data": {
      "text/html": [
       "<div>\n",
       "<style scoped>\n",
       "    .dataframe tbody tr th:only-of-type {\n",
       "        vertical-align: middle;\n",
       "    }\n",
       "\n",
       "    .dataframe tbody tr th {\n",
       "        vertical-align: top;\n",
       "    }\n",
       "\n",
       "    .dataframe thead th {\n",
       "        text-align: right;\n",
       "    }\n",
       "</style>\n",
       "<table border=\"1\" class=\"dataframe\">\n",
       "  <thead>\n",
       "    <tr style=\"text-align: right;\">\n",
       "      <th></th>\n",
       "      <th>Date</th>\n",
       "      <th>U.S. Crude Oil Domestic Acquisition Cost by Refiners (Dollars per Barrel)</th>\n",
       "      <th>East Coast (PADD 1) Crude Oil Domestic Acquisition Cost by Refiners (Dollars per Barrel)</th>\n",
       "      <th>Midwest (PADD 2) Crude Oil Domestic Acquisition Cost by Refiners (Dollars per Barrel)</th>\n",
       "      <th>Gulf Coast (PADD 3) Crude Oil Domestic Acquisition Cost by Refiners (Dollars per Barrel)</th>\n",
       "      <th>Rocky Mountain (PADD 4) Crude Oil Domestic Acquisition Cost by Refiners (Dollars per Barrel)</th>\n",
       "      <th>West Coast (PADD 5) Crude Oil Domestic Acquisition Cost by Refiners (Dollars per Barrel)</th>\n",
       "      <th>U.S. Crude Oil Imported Acquisition Cost by Refiners (Dollars per Barrel)</th>\n",
       "      <th>East Coast (PADD 1) Crude Oil Imported Acquisition Cost by Refiners (Dollars per Barrel)</th>\n",
       "      <th>Midwest (PADD 2) Crude Oil Imported Acquisition Cost by Refiners (Dollars per Barrel)</th>\n",
       "      <th>Gulf Coast (PADD 3) Crude Oil Imported Acquisition Cost by Refiners (Dollars per Barrel)</th>\n",
       "      <th>Rocky Mountain (PADD 4) Crude Oil Imported Acquisition Cost by Refiners (Dollars per Barrel)</th>\n",
       "      <th>West Coast (PADD 5) Crude Oil Imported Acquisition Cost by Refiners (Dollars per Barrel)</th>\n",
       "    </tr>\n",
       "  </thead>\n",
       "  <tbody>\n",
       "    <tr>\n",
       "      <th>0</th>\n",
       "      <td>2013-01-15</td>\n",
       "      <td>103.78</td>\n",
       "      <td>109.40</td>\n",
       "      <td>95.61</td>\n",
       "      <td>107.60</td>\n",
       "      <td>86.95</td>\n",
       "      <td>106.25</td>\n",
       "      <td>97.91</td>\n",
       "      <td>109.28</td>\n",
       "      <td>76.59</td>\n",
       "      <td>104.31</td>\n",
       "      <td>70.96</td>\n",
       "      <td>107.24</td>\n",
       "    </tr>\n",
       "    <tr>\n",
       "      <th>1</th>\n",
       "      <td>2013-02-15</td>\n",
       "      <td>103.75</td>\n",
       "      <td>113.15</td>\n",
       "      <td>97.03</td>\n",
       "      <td>106.64</td>\n",
       "      <td>86.94</td>\n",
       "      <td>107.11</td>\n",
       "      <td>99.23</td>\n",
       "      <td>113.32</td>\n",
       "      <td>77.83</td>\n",
       "      <td>108.15</td>\n",
       "      <td>70.15</td>\n",
       "      <td>106.95</td>\n",
       "    </tr>\n",
       "  </tbody>\n",
       "</table>\n",
       "</div>"
      ],
      "text/plain": [
       "        Date  \\\n",
       "0 2013-01-15   \n",
       "1 2013-02-15   \n",
       "\n",
       "   U.S. Crude Oil Domestic Acquisition Cost by Refiners (Dollars per Barrel)  \\\n",
       "0                                             103.78                           \n",
       "1                                             103.75                           \n",
       "\n",
       "   East Coast (PADD 1) Crude Oil Domestic Acquisition Cost by Refiners (Dollars per Barrel)  \\\n",
       "0                                             109.40                                          \n",
       "1                                             113.15                                          \n",
       "\n",
       "   Midwest (PADD 2) Crude Oil Domestic Acquisition Cost by Refiners (Dollars per Barrel)  \\\n",
       "0                                              95.61                                       \n",
       "1                                              97.03                                       \n",
       "\n",
       "   Gulf Coast (PADD 3) Crude Oil Domestic Acquisition Cost by Refiners (Dollars per Barrel)  \\\n",
       "0                                             107.60                                          \n",
       "1                                             106.64                                          \n",
       "\n",
       "   Rocky Mountain (PADD 4) Crude Oil Domestic Acquisition Cost by Refiners (Dollars per Barrel)  \\\n",
       "0                                              86.95                                              \n",
       "1                                              86.94                                              \n",
       "\n",
       "   West Coast (PADD 5) Crude Oil Domestic Acquisition Cost by Refiners (Dollars per Barrel)  \\\n",
       "0                                             106.25                                          \n",
       "1                                             107.11                                          \n",
       "\n",
       "   U.S. Crude Oil Imported Acquisition Cost by Refiners (Dollars per Barrel)  \\\n",
       "0                                              97.91                           \n",
       "1                                              99.23                           \n",
       "\n",
       "   East Coast (PADD 1) Crude Oil Imported Acquisition Cost by Refiners (Dollars per Barrel)  \\\n",
       "0                                             109.28                                          \n",
       "1                                             113.32                                          \n",
       "\n",
       "   Midwest (PADD 2) Crude Oil Imported Acquisition Cost by Refiners (Dollars per Barrel)  \\\n",
       "0                                              76.59                                       \n",
       "1                                              77.83                                       \n",
       "\n",
       "   Gulf Coast (PADD 3) Crude Oil Imported Acquisition Cost by Refiners (Dollars per Barrel)  \\\n",
       "0                                             104.31                                          \n",
       "1                                             108.15                                          \n",
       "\n",
       "   Rocky Mountain (PADD 4) Crude Oil Imported Acquisition Cost by Refiners (Dollars per Barrel)  \\\n",
       "0                                              70.96                                              \n",
       "1                                              70.15                                              \n",
       "\n",
       "   West Coast (PADD 5) Crude Oil Imported Acquisition Cost by Refiners (Dollars per Barrel)  \n",
       "0                                             107.24                                         \n",
       "1                                             106.95                                         "
      ]
     },
     "execution_count": 46,
     "metadata": {},
     "output_type": "execute_result"
    }
   ],
   "source": [
    "crude_cost.head(2)"
   ]
  },
  {
   "cell_type": "markdown",
   "metadata": {},
   "source": [
    "### 2.3 Cleaning The Data <a id='2.3_Cleaning_Data'></a>"
   ]
  },
  {
   "cell_type": "markdown",
   "metadata": {},
   "source": [
    "#### 2.3.1 Cleaning WTI and Brent Crude Pricing Data <a id='2.3.1_Cleaning_Crude_Pricing_Data'></a>"
   ]
  },
  {
   "cell_type": "code",
   "execution_count": 47,
   "metadata": {},
   "outputs": [
    {
     "data": {
      "text/html": [
       "<div>\n",
       "<style scoped>\n",
       "    .dataframe tbody tr th:only-of-type {\n",
       "        vertical-align: middle;\n",
       "    }\n",
       "\n",
       "    .dataframe tbody tr th {\n",
       "        vertical-align: top;\n",
       "    }\n",
       "\n",
       "    .dataframe thead th {\n",
       "        text-align: right;\n",
       "    }\n",
       "</style>\n",
       "<table border=\"1\" class=\"dataframe\">\n",
       "  <thead>\n",
       "    <tr style=\"text-align: right;\">\n",
       "      <th></th>\n",
       "      <th>Date</th>\n",
       "      <th>WTI</th>\n",
       "      <th>Brent</th>\n",
       "    </tr>\n",
       "  </thead>\n",
       "  <tbody>\n",
       "    <tr>\n",
       "      <th>0</th>\n",
       "      <td>2013-01-15</td>\n",
       "      <td>94.76</td>\n",
       "      <td>112.96</td>\n",
       "    </tr>\n",
       "    <tr>\n",
       "      <th>1</th>\n",
       "      <td>2013-02-15</td>\n",
       "      <td>95.31</td>\n",
       "      <td>116.05</td>\n",
       "    </tr>\n",
       "  </tbody>\n",
       "</table>\n",
       "</div>"
      ],
      "text/plain": [
       "        Date    WTI   Brent\n",
       "0 2013-01-15  94.76  112.96\n",
       "1 2013-02-15  95.31  116.05"
      ]
     },
     "execution_count": 47,
     "metadata": {},
     "output_type": "execute_result"
    }
   ],
   "source": [
    "WTI_Brent.head(2)"
   ]
  },
  {
   "cell_type": "markdown",
   "metadata": {},
   "source": [
    "* WTI and Brent merged dataframe looks good; no further cleaning is required here"
   ]
  },
  {
   "cell_type": "markdown",
   "metadata": {},
   "source": [
    "#### 2.3.2 Cleaning the data on Refineries' Crude Acquisition Costs by PAD<a id='2.3.2_Cleaning_Reiners_Crude_Cost_Data'></a>"
   ]
  },
  {
   "cell_type": "code",
   "execution_count": 48,
   "metadata": {},
   "outputs": [
    {
     "name": "stdout",
     "output_type": "stream",
     "text": [
      "<class 'pandas.core.frame.DataFrame'>\n",
      "Int64Index: 96 entries, 0 to 95\n",
      "Data columns (total 13 columns):\n",
      " #   Column                                                                                        Non-Null Count  Dtype         \n",
      "---  ------                                                                                        --------------  -----         \n",
      " 0   Date                                                                                          96 non-null     datetime64[ns]\n",
      " 1   U.S. Crude Oil Domestic Acquisition Cost by Refiners (Dollars per Barrel)                     96 non-null     float64       \n",
      " 2   East Coast (PADD 1) Crude Oil Domestic Acquisition Cost by Refiners (Dollars per Barrel)      95 non-null     float64       \n",
      " 3   Midwest (PADD 2) Crude Oil Domestic Acquisition Cost by Refiners (Dollars per Barrel)         95 non-null     float64       \n",
      " 4   Gulf Coast (PADD 3) Crude Oil Domestic Acquisition Cost by Refiners (Dollars per Barrel)      95 non-null     float64       \n",
      " 5   Rocky Mountain (PADD 4) Crude Oil Domestic Acquisition Cost by Refiners (Dollars per Barrel)  95 non-null     float64       \n",
      " 6   West Coast (PADD 5) Crude Oil Domestic Acquisition Cost by Refiners (Dollars per Barrel)      95 non-null     float64       \n",
      " 7   U.S. Crude Oil Imported Acquisition Cost by Refiners (Dollars per Barrel)                     96 non-null     float64       \n",
      " 8   East Coast (PADD 1) Crude Oil Imported Acquisition Cost by Refiners (Dollars per Barrel)      95 non-null     float64       \n",
      " 9   Midwest (PADD 2) Crude Oil Imported Acquisition Cost by Refiners (Dollars per Barrel)         95 non-null     float64       \n",
      " 10  Gulf Coast (PADD 3) Crude Oil Imported Acquisition Cost by Refiners (Dollars per Barrel)      95 non-null     float64       \n",
      " 11  Rocky Mountain (PADD 4) Crude Oil Imported Acquisition Cost by Refiners (Dollars per Barrel)  95 non-null     float64       \n",
      " 12  West Coast (PADD 5) Crude Oil Imported Acquisition Cost by Refiners (Dollars per Barrel)      95 non-null     float64       \n",
      "dtypes: datetime64[ns](1), float64(12)\n",
      "memory usage: 10.5 KB\n"
     ]
    }
   ],
   "source": [
    "crude_cost.info()"
   ]
  },
  {
   "cell_type": "code",
   "execution_count": 49,
   "metadata": {
    "scrolled": true
   },
   "outputs": [
    {
     "data": {
      "text/html": [
       "<div>\n",
       "<style scoped>\n",
       "    .dataframe tbody tr th:only-of-type {\n",
       "        vertical-align: middle;\n",
       "    }\n",
       "\n",
       "    .dataframe tbody tr th {\n",
       "        vertical-align: top;\n",
       "    }\n",
       "\n",
       "    .dataframe thead th {\n",
       "        text-align: right;\n",
       "    }\n",
       "</style>\n",
       "<table border=\"1\" class=\"dataframe\">\n",
       "  <thead>\n",
       "    <tr style=\"text-align: right;\">\n",
       "      <th></th>\n",
       "      <th>Date</th>\n",
       "      <th>U.S. Crude Oil Domestic Acquisition Cost by Refiners (Dollars per Barrel)</th>\n",
       "      <th>East Coast (PADD 1) Crude Oil Domestic Acquisition Cost by Refiners (Dollars per Barrel)</th>\n",
       "      <th>Midwest (PADD 2) Crude Oil Domestic Acquisition Cost by Refiners (Dollars per Barrel)</th>\n",
       "      <th>Gulf Coast (PADD 3) Crude Oil Domestic Acquisition Cost by Refiners (Dollars per Barrel)</th>\n",
       "      <th>Rocky Mountain (PADD 4) Crude Oil Domestic Acquisition Cost by Refiners (Dollars per Barrel)</th>\n",
       "      <th>West Coast (PADD 5) Crude Oil Domestic Acquisition Cost by Refiners (Dollars per Barrel)</th>\n",
       "      <th>U.S. Crude Oil Imported Acquisition Cost by Refiners (Dollars per Barrel)</th>\n",
       "      <th>East Coast (PADD 1) Crude Oil Imported Acquisition Cost by Refiners (Dollars per Barrel)</th>\n",
       "      <th>Midwest (PADD 2) Crude Oil Imported Acquisition Cost by Refiners (Dollars per Barrel)</th>\n",
       "      <th>Gulf Coast (PADD 3) Crude Oil Imported Acquisition Cost by Refiners (Dollars per Barrel)</th>\n",
       "      <th>Rocky Mountain (PADD 4) Crude Oil Imported Acquisition Cost by Refiners (Dollars per Barrel)</th>\n",
       "      <th>West Coast (PADD 5) Crude Oil Imported Acquisition Cost by Refiners (Dollars per Barrel)</th>\n",
       "    </tr>\n",
       "  </thead>\n",
       "  <tbody>\n",
       "    <tr>\n",
       "      <th>0</th>\n",
       "      <td>2013-01-15</td>\n",
       "      <td>103.78</td>\n",
       "      <td>109.40</td>\n",
       "      <td>95.61</td>\n",
       "      <td>107.60</td>\n",
       "      <td>86.95</td>\n",
       "      <td>106.25</td>\n",
       "      <td>97.91</td>\n",
       "      <td>109.28</td>\n",
       "      <td>76.59</td>\n",
       "      <td>104.31</td>\n",
       "      <td>70.96</td>\n",
       "      <td>107.24</td>\n",
       "    </tr>\n",
       "    <tr>\n",
       "      <th>1</th>\n",
       "      <td>2013-02-15</td>\n",
       "      <td>103.75</td>\n",
       "      <td>113.15</td>\n",
       "      <td>97.03</td>\n",
       "      <td>106.64</td>\n",
       "      <td>86.94</td>\n",
       "      <td>107.11</td>\n",
       "      <td>99.23</td>\n",
       "      <td>113.32</td>\n",
       "      <td>77.83</td>\n",
       "      <td>108.15</td>\n",
       "      <td>70.15</td>\n",
       "      <td>106.95</td>\n",
       "    </tr>\n",
       "    <tr>\n",
       "      <th>2</th>\n",
       "      <td>2013-03-15</td>\n",
       "      <td>103.45</td>\n",
       "      <td>107.76</td>\n",
       "      <td>97.12</td>\n",
       "      <td>107.22</td>\n",
       "      <td>83.69</td>\n",
       "      <td>105.30</td>\n",
       "      <td>99.11</td>\n",
       "      <td>103.30</td>\n",
       "      <td>81.41</td>\n",
       "      <td>106.38</td>\n",
       "      <td>73.24</td>\n",
       "      <td>107.00</td>\n",
       "    </tr>\n",
       "    <tr>\n",
       "      <th>3</th>\n",
       "      <td>2013-04-15</td>\n",
       "      <td>102.53</td>\n",
       "      <td>102.49</td>\n",
       "      <td>97.25</td>\n",
       "      <td>106.51</td>\n",
       "      <td>85.32</td>\n",
       "      <td>102.91</td>\n",
       "      <td>96.45</td>\n",
       "      <td>103.14</td>\n",
       "      <td>81.97</td>\n",
       "      <td>101.42</td>\n",
       "      <td>76.67</td>\n",
       "      <td>104.09</td>\n",
       "    </tr>\n",
       "    <tr>\n",
       "      <th>4</th>\n",
       "      <td>2013-05-15</td>\n",
       "      <td>101.98</td>\n",
       "      <td>102.42</td>\n",
       "      <td>99.19</td>\n",
       "      <td>104.31</td>\n",
       "      <td>89.02</td>\n",
       "      <td>102.43</td>\n",
       "      <td>98.50</td>\n",
       "      <td>102.56</td>\n",
       "      <td>87.97</td>\n",
       "      <td>100.77</td>\n",
       "      <td>84.74</td>\n",
       "      <td>105.09</td>\n",
       "    </tr>\n",
       "  </tbody>\n",
       "</table>\n",
       "</div>"
      ],
      "text/plain": [
       "        Date  \\\n",
       "0 2013-01-15   \n",
       "1 2013-02-15   \n",
       "2 2013-03-15   \n",
       "3 2013-04-15   \n",
       "4 2013-05-15   \n",
       "\n",
       "   U.S. Crude Oil Domestic Acquisition Cost by Refiners (Dollars per Barrel)  \\\n",
       "0                                             103.78                           \n",
       "1                                             103.75                           \n",
       "2                                             103.45                           \n",
       "3                                             102.53                           \n",
       "4                                             101.98                           \n",
       "\n",
       "   East Coast (PADD 1) Crude Oil Domestic Acquisition Cost by Refiners (Dollars per Barrel)  \\\n",
       "0                                             109.40                                          \n",
       "1                                             113.15                                          \n",
       "2                                             107.76                                          \n",
       "3                                             102.49                                          \n",
       "4                                             102.42                                          \n",
       "\n",
       "   Midwest (PADD 2) Crude Oil Domestic Acquisition Cost by Refiners (Dollars per Barrel)  \\\n",
       "0                                              95.61                                       \n",
       "1                                              97.03                                       \n",
       "2                                              97.12                                       \n",
       "3                                              97.25                                       \n",
       "4                                              99.19                                       \n",
       "\n",
       "   Gulf Coast (PADD 3) Crude Oil Domestic Acquisition Cost by Refiners (Dollars per Barrel)  \\\n",
       "0                                             107.60                                          \n",
       "1                                             106.64                                          \n",
       "2                                             107.22                                          \n",
       "3                                             106.51                                          \n",
       "4                                             104.31                                          \n",
       "\n",
       "   Rocky Mountain (PADD 4) Crude Oil Domestic Acquisition Cost by Refiners (Dollars per Barrel)  \\\n",
       "0                                              86.95                                              \n",
       "1                                              86.94                                              \n",
       "2                                              83.69                                              \n",
       "3                                              85.32                                              \n",
       "4                                              89.02                                              \n",
       "\n",
       "   West Coast (PADD 5) Crude Oil Domestic Acquisition Cost by Refiners (Dollars per Barrel)  \\\n",
       "0                                             106.25                                          \n",
       "1                                             107.11                                          \n",
       "2                                             105.30                                          \n",
       "3                                             102.91                                          \n",
       "4                                             102.43                                          \n",
       "\n",
       "   U.S. Crude Oil Imported Acquisition Cost by Refiners (Dollars per Barrel)  \\\n",
       "0                                              97.91                           \n",
       "1                                              99.23                           \n",
       "2                                              99.11                           \n",
       "3                                              96.45                           \n",
       "4                                              98.50                           \n",
       "\n",
       "   East Coast (PADD 1) Crude Oil Imported Acquisition Cost by Refiners (Dollars per Barrel)  \\\n",
       "0                                             109.28                                          \n",
       "1                                             113.32                                          \n",
       "2                                             103.30                                          \n",
       "3                                             103.14                                          \n",
       "4                                             102.56                                          \n",
       "\n",
       "   Midwest (PADD 2) Crude Oil Imported Acquisition Cost by Refiners (Dollars per Barrel)  \\\n",
       "0                                              76.59                                       \n",
       "1                                              77.83                                       \n",
       "2                                              81.41                                       \n",
       "3                                              81.97                                       \n",
       "4                                              87.97                                       \n",
       "\n",
       "   Gulf Coast (PADD 3) Crude Oil Imported Acquisition Cost by Refiners (Dollars per Barrel)  \\\n",
       "0                                             104.31                                          \n",
       "1                                             108.15                                          \n",
       "2                                             106.38                                          \n",
       "3                                             101.42                                          \n",
       "4                                             100.77                                          \n",
       "\n",
       "   Rocky Mountain (PADD 4) Crude Oil Imported Acquisition Cost by Refiners (Dollars per Barrel)  \\\n",
       "0                                              70.96                                              \n",
       "1                                              70.15                                              \n",
       "2                                              73.24                                              \n",
       "3                                              76.67                                              \n",
       "4                                              84.74                                              \n",
       "\n",
       "   West Coast (PADD 5) Crude Oil Imported Acquisition Cost by Refiners (Dollars per Barrel)  \n",
       "0                                             107.24                                         \n",
       "1                                             106.95                                         \n",
       "2                                             107.00                                         \n",
       "3                                             104.09                                         \n",
       "4                                             105.09                                         "
      ]
     },
     "execution_count": 49,
     "metadata": {},
     "output_type": "execute_result"
    }
   ],
   "source": [
    "crude_cost.head()"
   ]
  },
  {
   "cell_type": "markdown",
   "metadata": {},
   "source": [
    "* Yep, let's cleaning the column headings and replace them with sensible PAD codes"
   ]
  },
  {
   "cell_type": "code",
   "execution_count": 50,
   "metadata": {},
   "outputs": [],
   "source": [
    "# Rename the long column headings with PAD Codes:\n",
    "crude_cost.columns = ['Date', 'US Total', 'US PADD-1', 'US PADD-2', 'US PADD-3', 'US PADD-4', 'US PADD-5', 'Import Total',\n",
    "              'Imp PADD-1', 'Imp PADD-2', 'Imp PADD-3', 'Imp PADD-4', 'Imp PADD-5']"
   ]
  },
  {
   "cell_type": "code",
   "execution_count": 51,
   "metadata": {
    "scrolled": true
   },
   "outputs": [
    {
     "data": {
      "text/html": [
       "<div>\n",
       "<style scoped>\n",
       "    .dataframe tbody tr th:only-of-type {\n",
       "        vertical-align: middle;\n",
       "    }\n",
       "\n",
       "    .dataframe tbody tr th {\n",
       "        vertical-align: top;\n",
       "    }\n",
       "\n",
       "    .dataframe thead th {\n",
       "        text-align: right;\n",
       "    }\n",
       "</style>\n",
       "<table border=\"1\" class=\"dataframe\">\n",
       "  <thead>\n",
       "    <tr style=\"text-align: right;\">\n",
       "      <th></th>\n",
       "      <th>Date</th>\n",
       "      <th>US Total</th>\n",
       "      <th>US PADD-1</th>\n",
       "      <th>US PADD-2</th>\n",
       "      <th>US PADD-3</th>\n",
       "      <th>US PADD-4</th>\n",
       "      <th>US PADD-5</th>\n",
       "      <th>Import Total</th>\n",
       "      <th>Imp PADD-1</th>\n",
       "      <th>Imp PADD-2</th>\n",
       "      <th>Imp PADD-3</th>\n",
       "      <th>Imp PADD-4</th>\n",
       "      <th>Imp PADD-5</th>\n",
       "    </tr>\n",
       "  </thead>\n",
       "  <tbody>\n",
       "    <tr>\n",
       "      <th>0</th>\n",
       "      <td>2013-01-15</td>\n",
       "      <td>103.78</td>\n",
       "      <td>109.40</td>\n",
       "      <td>95.61</td>\n",
       "      <td>107.60</td>\n",
       "      <td>86.95</td>\n",
       "      <td>106.25</td>\n",
       "      <td>97.91</td>\n",
       "      <td>109.28</td>\n",
       "      <td>76.59</td>\n",
       "      <td>104.31</td>\n",
       "      <td>70.96</td>\n",
       "      <td>107.24</td>\n",
       "    </tr>\n",
       "    <tr>\n",
       "      <th>1</th>\n",
       "      <td>2013-02-15</td>\n",
       "      <td>103.75</td>\n",
       "      <td>113.15</td>\n",
       "      <td>97.03</td>\n",
       "      <td>106.64</td>\n",
       "      <td>86.94</td>\n",
       "      <td>107.11</td>\n",
       "      <td>99.23</td>\n",
       "      <td>113.32</td>\n",
       "      <td>77.83</td>\n",
       "      <td>108.15</td>\n",
       "      <td>70.15</td>\n",
       "      <td>106.95</td>\n",
       "    </tr>\n",
       "    <tr>\n",
       "      <th>2</th>\n",
       "      <td>2013-03-15</td>\n",
       "      <td>103.45</td>\n",
       "      <td>107.76</td>\n",
       "      <td>97.12</td>\n",
       "      <td>107.22</td>\n",
       "      <td>83.69</td>\n",
       "      <td>105.30</td>\n",
       "      <td>99.11</td>\n",
       "      <td>103.30</td>\n",
       "      <td>81.41</td>\n",
       "      <td>106.38</td>\n",
       "      <td>73.24</td>\n",
       "      <td>107.00</td>\n",
       "    </tr>\n",
       "  </tbody>\n",
       "</table>\n",
       "</div>"
      ],
      "text/plain": [
       "        Date  US Total  US PADD-1  US PADD-2  US PADD-3  US PADD-4  US PADD-5  \\\n",
       "0 2013-01-15    103.78     109.40      95.61     107.60      86.95     106.25   \n",
       "1 2013-02-15    103.75     113.15      97.03     106.64      86.94     107.11   \n",
       "2 2013-03-15    103.45     107.76      97.12     107.22      83.69     105.30   \n",
       "\n",
       "   Import Total  Imp PADD-1  Imp PADD-2  Imp PADD-3  Imp PADD-4  Imp PADD-5  \n",
       "0         97.91      109.28       76.59      104.31       70.96      107.24  \n",
       "1         99.23      113.32       77.83      108.15       70.15      106.95  \n",
       "2         99.11      103.30       81.41      106.38       73.24      107.00  "
      ]
     },
     "execution_count": 51,
     "metadata": {},
     "output_type": "execute_result"
    }
   ],
   "source": [
    "crude_cost.head(3)"
   ]
  },
  {
   "cell_type": "markdown",
   "metadata": {},
   "source": [
    "#### 2.3.3 Cleaning the data on Petroleum Product Volume by PAD<a id='2.3.3_Cleaning_Product_Volume_Data'></a>"
   ]
  },
  {
   "cell_type": "markdown",
   "metadata": {},
   "source": [
    "Initial audit of Product Pricing Data revealed a messy two-row column headings; let's clean these up\n",
    "* we will start with the 'US' level data"
   ]
  },
  {
   "cell_type": "code",
   "execution_count": 52,
   "metadata": {},
   "outputs": [
    {
     "data": {
      "text/html": [
       "<div>\n",
       "<style scoped>\n",
       "    .dataframe tbody tr th:only-of-type {\n",
       "        vertical-align: middle;\n",
       "    }\n",
       "\n",
       "    .dataframe tbody tr th {\n",
       "        vertical-align: top;\n",
       "    }\n",
       "\n",
       "    .dataframe thead th {\n",
       "        text-align: right;\n",
       "    }\n",
       "</style>\n",
       "<table border=\"1\" class=\"dataframe\">\n",
       "  <thead>\n",
       "    <tr style=\"text-align: right;\">\n",
       "      <th></th>\n",
       "      <th>Date</th>\n",
       "      <th>Weekly U.S. Refiner and Blender Adjusted Net Production of Finished Motor Gasoline  (Thousand Barrels per Day)</th>\n",
       "      <th>Weekly U.S. Refiner and Blender Net Production of Finished Motor Gasoline  (Thousand Barrels per Day)</th>\n",
       "      <th>Weekly U.S. Refiner and Blender Net Production of Reformulated Motor Gasoline  (Thousand Barrels per Day)</th>\n",
       "      <th>Weekly U.S. Refiner and Blender Net Production of Finished Reformulated Motor Gasoline with Ethanol  (Thousand Barrels per Day)</th>\n",
       "      <th>Weekly U.S. Refiner and Blender Net Production of Other Finished Reformulated Motor Gasoline  (Thousand Barrels per Day)</th>\n",
       "      <th>Weekly U.S. Refiner and Blender Net Production of Conventional Motor Gasoline  (Thousand Barrels per Day)</th>\n",
       "      <th>Weekly U.S. Refiner and Blender Net Production of Finished Conventional Motor Gasoline with Ethanol  (Thousand Barrels per Day)</th>\n",
       "      <th>Weekly U.S. Refiner and Blender Net Production of Finished Conventional Motor Gasoline, Ed 55 and Lower  (Thousand Barrels per Day)</th>\n",
       "      <th>Weekly U.S. Refiner and Blender Net Production of Finished Conventional Motor Gasoline, Greater than Ed 55  (Thousand Barrels per Day)</th>\n",
       "      <th>...</th>\n",
       "      <th>Weekly U.S. Supply Adjustment of Finished Motor Gasoline  (Thousand Barrels per Day)</th>\n",
       "      <th>Weekly U.S. Refiner and Blender Net Production of Kerosene-Type Jet Fuel  (Thousand Barrels per Day)</th>\n",
       "      <th>Weekly U.S.  Refiner and Blender Net Production of Commercial Kerosene-Type Jet Fuel  (Thousand Barrels per Day)</th>\n",
       "      <th>Weekly U.S.  Refiner and Blender Net Production of Military Kerosene-Type Jet Fuel  (Thousand Barrels per Day)</th>\n",
       "      <th>Weekly U.S. Refiner and Blender Net Production of Distillate Fuel Oil  (Thousand Barrels per Day)</th>\n",
       "      <th>Weekly U.S. Refiner and Blender Net Production of Distillate Fuel Oil, 0 to 15 ppm Sulfur  (Thousand Barrels per Day)</th>\n",
       "      <th>Weekly U.S. Production of Distillate Fuel Oil, Greater than 15 to 500 ppm Sulfur  (Thousand Barrels per Day)</th>\n",
       "      <th>Weekly U.S.  Refiner and Blender Net Production of Distillate Fuel Oil Greater than 500 ppm Sulfur  (Thousand Barrels per Day)</th>\n",
       "      <th>Weekly U.S. Refiner and Blender Net Production of Residual Fuel Oil  (Thousand Barrels per Day)</th>\n",
       "      <th>Weekly U.S. Refiner, Blender, and Gas Plant Net Production of Propane and Propylene  (Thousand Barrels per Day)</th>\n",
       "    </tr>\n",
       "  </thead>\n",
       "  <tbody>\n",
       "    <tr>\n",
       "      <th>0</th>\n",
       "      <td>Date</td>\n",
       "      <td>GSL-ALL</td>\n",
       "      <td>GSL-NET</td>\n",
       "      <td>GSL-R</td>\n",
       "      <td>GSL-R-1</td>\n",
       "      <td>GSL-R-2</td>\n",
       "      <td>GSL-C</td>\n",
       "      <td>GSL-C-1</td>\n",
       "      <td>GSL-C-1-1</td>\n",
       "      <td>GSL-C-1-2</td>\n",
       "      <td>...</td>\n",
       "      <td>GSL-ADJ</td>\n",
       "      <td>KER</td>\n",
       "      <td>KER-Comm</td>\n",
       "      <td>KER-Milit</td>\n",
       "      <td>DSL</td>\n",
       "      <td>DSL-1</td>\n",
       "      <td>DSL-2</td>\n",
       "      <td>DSL-3</td>\n",
       "      <td>RSD</td>\n",
       "      <td>PPN</td>\n",
       "    </tr>\n",
       "    <tr>\n",
       "      <th>1</th>\n",
       "      <td>2013-01-04 00:00:00</td>\n",
       "      <td>8385</td>\n",
       "      <td>8204</td>\n",
       "      <td>2586</td>\n",
       "      <td>2586</td>\n",
       "      <td>0</td>\n",
       "      <td>5618</td>\n",
       "      <td>4499</td>\n",
       "      <td>4498</td>\n",
       "      <td>1</td>\n",
       "      <td>...</td>\n",
       "      <td>181</td>\n",
       "      <td>1511</td>\n",
       "      <td>1374</td>\n",
       "      <td>137</td>\n",
       "      <td>4920</td>\n",
       "      <td>4474</td>\n",
       "      <td>116</td>\n",
       "      <td>331</td>\n",
       "      <td>425</td>\n",
       "      <td>1339</td>\n",
       "    </tr>\n",
       "    <tr>\n",
       "      <th>2</th>\n",
       "      <td>2013-01-11 00:00:00</td>\n",
       "      <td>8590</td>\n",
       "      <td>8591</td>\n",
       "      <td>2808</td>\n",
       "      <td>2808</td>\n",
       "      <td>0</td>\n",
       "      <td>5784</td>\n",
       "      <td>4935</td>\n",
       "      <td>4934</td>\n",
       "      <td>1</td>\n",
       "      <td>...</td>\n",
       "      <td>-1</td>\n",
       "      <td>1517</td>\n",
       "      <td>1376</td>\n",
       "      <td>141</td>\n",
       "      <td>4564</td>\n",
       "      <td>4142</td>\n",
       "      <td>84</td>\n",
       "      <td>338</td>\n",
       "      <td>415</td>\n",
       "      <td>1292</td>\n",
       "    </tr>\n",
       "  </tbody>\n",
       "</table>\n",
       "<p>3 rows × 21 columns</p>\n",
       "</div>"
      ],
      "text/plain": [
       "                  Date  \\\n",
       "0                 Date   \n",
       "1  2013-01-04 00:00:00   \n",
       "2  2013-01-11 00:00:00   \n",
       "\n",
       "  Weekly U.S. Refiner and Blender Adjusted Net Production of Finished Motor Gasoline  (Thousand Barrels per Day)  \\\n",
       "0                                            GSL-ALL                                                               \n",
       "1                                               8385                                                               \n",
       "2                                               8590                                                               \n",
       "\n",
       "  Weekly U.S. Refiner and Blender Net Production of Finished Motor Gasoline  (Thousand Barrels per Day)  \\\n",
       "0                                            GSL-NET                                                      \n",
       "1                                               8204                                                      \n",
       "2                                               8591                                                      \n",
       "\n",
       "  Weekly U.S. Refiner and Blender Net Production of Reformulated Motor Gasoline  (Thousand Barrels per Day)  \\\n",
       "0                                              GSL-R                                                          \n",
       "1                                               2586                                                          \n",
       "2                                               2808                                                          \n",
       "\n",
       "  Weekly U.S. Refiner and Blender Net Production of Finished Reformulated Motor Gasoline with Ethanol  (Thousand Barrels per Day)  \\\n",
       "0                                            GSL-R-1                                                                                \n",
       "1                                               2586                                                                                \n",
       "2                                               2808                                                                                \n",
       "\n",
       "  Weekly U.S. Refiner and Blender Net Production of Other Finished Reformulated Motor Gasoline  (Thousand Barrels per Day)  \\\n",
       "0                                            GSL-R-2                                                                         \n",
       "1                                                  0                                                                         \n",
       "2                                                  0                                                                         \n",
       "\n",
       "  Weekly U.S. Refiner and Blender Net Production of Conventional Motor Gasoline  (Thousand Barrels per Day)  \\\n",
       "0                                              GSL-C                                                          \n",
       "1                                               5618                                                          \n",
       "2                                               5784                                                          \n",
       "\n",
       "  Weekly U.S. Refiner and Blender Net Production of Finished Conventional Motor Gasoline with Ethanol  (Thousand Barrels per Day)  \\\n",
       "0                                            GSL-C-1                                                                                \n",
       "1                                               4499                                                                                \n",
       "2                                               4935                                                                                \n",
       "\n",
       "  Weekly U.S. Refiner and Blender Net Production of Finished Conventional Motor Gasoline, Ed 55 and Lower  (Thousand Barrels per Day)  \\\n",
       "0                                          GSL-C-1-1                                                                                    \n",
       "1                                               4498                                                                                    \n",
       "2                                               4934                                                                                    \n",
       "\n",
       "  Weekly U.S. Refiner and Blender Net Production of Finished Conventional Motor Gasoline, Greater than Ed 55  (Thousand Barrels per Day)  \\\n",
       "0                                          GSL-C-1-2                                                                                       \n",
       "1                                                  1                                                                                       \n",
       "2                                                  1                                                                                       \n",
       "\n",
       "   ...  \\\n",
       "0  ...   \n",
       "1  ...   \n",
       "2  ...   \n",
       "\n",
       "  Weekly U.S. Supply Adjustment of Finished Motor Gasoline  (Thousand Barrels per Day)  \\\n",
       "0                                            GSL-ADJ                                     \n",
       "1                                                181                                     \n",
       "2                                                 -1                                     \n",
       "\n",
       "  Weekly U.S. Refiner and Blender Net Production of Kerosene-Type Jet Fuel  (Thousand Barrels per Day)  \\\n",
       "0                                                KER                                                     \n",
       "1                                               1511                                                     \n",
       "2                                               1517                                                     \n",
       "\n",
       "  Weekly U.S.  Refiner and Blender Net Production of Commercial Kerosene-Type Jet Fuel  (Thousand Barrels per Day)  \\\n",
       "0                                           KER-Comm                                                                 \n",
       "1                                               1374                                                                 \n",
       "2                                               1376                                                                 \n",
       "\n",
       "  Weekly U.S.  Refiner and Blender Net Production of Military Kerosene-Type Jet Fuel  (Thousand Barrels per Day)  \\\n",
       "0                                          KER-Milit                                                               \n",
       "1                                                137                                                               \n",
       "2                                                141                                                               \n",
       "\n",
       "  Weekly U.S. Refiner and Blender Net Production of Distillate Fuel Oil  (Thousand Barrels per Day)  \\\n",
       "0                                                DSL                                                  \n",
       "1                                               4920                                                  \n",
       "2                                               4564                                                  \n",
       "\n",
       "  Weekly U.S. Refiner and Blender Net Production of Distillate Fuel Oil, 0 to 15 ppm Sulfur  (Thousand Barrels per Day)  \\\n",
       "0                                              DSL-1                                                                      \n",
       "1                                               4474                                                                      \n",
       "2                                               4142                                                                      \n",
       "\n",
       "  Weekly U.S. Production of Distillate Fuel Oil, Greater than 15 to 500 ppm Sulfur  (Thousand Barrels per Day)  \\\n",
       "0                                              DSL-2                                                             \n",
       "1                                                116                                                             \n",
       "2                                                 84                                                             \n",
       "\n",
       "  Weekly U.S.  Refiner and Blender Net Production of Distillate Fuel Oil Greater than 500 ppm Sulfur  (Thousand Barrels per Day)  \\\n",
       "0                                              DSL-3                                                                               \n",
       "1                                                331                                                                               \n",
       "2                                                338                                                                               \n",
       "\n",
       "  Weekly U.S. Refiner and Blender Net Production of Residual Fuel Oil  (Thousand Barrels per Day)  \\\n",
       "0                                                RSD                                                \n",
       "1                                                425                                                \n",
       "2                                                415                                                \n",
       "\n",
       "  Weekly U.S. Refiner, Blender, and Gas Plant Net Production of Propane and Propylene  (Thousand Barrels per Day)  \n",
       "0                                                PPN                                                               \n",
       "1                                               1339                                                               \n",
       "2                                               1292                                                               \n",
       "\n",
       "[3 rows x 21 columns]"
      ]
     },
     "execution_count": 52,
     "metadata": {},
     "output_type": "execute_result"
    }
   ],
   "source": [
    "prod_US_raw.head(3)"
   ]
  },
  {
   "cell_type": "code",
   "execution_count": 53,
   "metadata": {
    "scrolled": true
   },
   "outputs": [
    {
     "data": {
      "text/html": [
       "<div>\n",
       "<style scoped>\n",
       "    .dataframe tbody tr th:only-of-type {\n",
       "        vertical-align: middle;\n",
       "    }\n",
       "\n",
       "    .dataframe tbody tr th {\n",
       "        vertical-align: top;\n",
       "    }\n",
       "\n",
       "    .dataframe thead th {\n",
       "        text-align: right;\n",
       "    }\n",
       "</style>\n",
       "<table border=\"1\" class=\"dataframe\">\n",
       "  <thead>\n",
       "    <tr style=\"text-align: right;\">\n",
       "      <th></th>\n",
       "      <th>Date</th>\n",
       "      <th>GSL-ALL</th>\n",
       "      <th>GSL-NET</th>\n",
       "      <th>GSL-R</th>\n",
       "      <th>GSL-R-1</th>\n",
       "      <th>GSL-R-2</th>\n",
       "      <th>GSL-C</th>\n",
       "      <th>GSL-C-1</th>\n",
       "      <th>GSL-C-1-1</th>\n",
       "      <th>GSL-C-1-2</th>\n",
       "      <th>...</th>\n",
       "      <th>GSL-ADJ</th>\n",
       "      <th>KER</th>\n",
       "      <th>KER-Comm</th>\n",
       "      <th>KER-Milit</th>\n",
       "      <th>DSL</th>\n",
       "      <th>DSL-1</th>\n",
       "      <th>DSL-2</th>\n",
       "      <th>DSL-3</th>\n",
       "      <th>RSD</th>\n",
       "      <th>PPN</th>\n",
       "    </tr>\n",
       "  </thead>\n",
       "  <tbody>\n",
       "    <tr>\n",
       "      <th>0</th>\n",
       "      <td>Date</td>\n",
       "      <td>GSL-ALL</td>\n",
       "      <td>GSL-NET</td>\n",
       "      <td>GSL-R</td>\n",
       "      <td>GSL-R-1</td>\n",
       "      <td>GSL-R-2</td>\n",
       "      <td>GSL-C</td>\n",
       "      <td>GSL-C-1</td>\n",
       "      <td>GSL-C-1-1</td>\n",
       "      <td>GSL-C-1-2</td>\n",
       "      <td>...</td>\n",
       "      <td>GSL-ADJ</td>\n",
       "      <td>KER</td>\n",
       "      <td>KER-Comm</td>\n",
       "      <td>KER-Milit</td>\n",
       "      <td>DSL</td>\n",
       "      <td>DSL-1</td>\n",
       "      <td>DSL-2</td>\n",
       "      <td>DSL-3</td>\n",
       "      <td>RSD</td>\n",
       "      <td>PPN</td>\n",
       "    </tr>\n",
       "    <tr>\n",
       "      <th>1</th>\n",
       "      <td>2013-01-04 00:00:00</td>\n",
       "      <td>8385</td>\n",
       "      <td>8204</td>\n",
       "      <td>2586</td>\n",
       "      <td>2586</td>\n",
       "      <td>0</td>\n",
       "      <td>5618</td>\n",
       "      <td>4499</td>\n",
       "      <td>4498</td>\n",
       "      <td>1</td>\n",
       "      <td>...</td>\n",
       "      <td>181</td>\n",
       "      <td>1511</td>\n",
       "      <td>1374</td>\n",
       "      <td>137</td>\n",
       "      <td>4920</td>\n",
       "      <td>4474</td>\n",
       "      <td>116</td>\n",
       "      <td>331</td>\n",
       "      <td>425</td>\n",
       "      <td>1339</td>\n",
       "    </tr>\n",
       "    <tr>\n",
       "      <th>2</th>\n",
       "      <td>2013-01-11 00:00:00</td>\n",
       "      <td>8590</td>\n",
       "      <td>8591</td>\n",
       "      <td>2808</td>\n",
       "      <td>2808</td>\n",
       "      <td>0</td>\n",
       "      <td>5784</td>\n",
       "      <td>4935</td>\n",
       "      <td>4934</td>\n",
       "      <td>1</td>\n",
       "      <td>...</td>\n",
       "      <td>-1</td>\n",
       "      <td>1517</td>\n",
       "      <td>1376</td>\n",
       "      <td>141</td>\n",
       "      <td>4564</td>\n",
       "      <td>4142</td>\n",
       "      <td>84</td>\n",
       "      <td>338</td>\n",
       "      <td>415</td>\n",
       "      <td>1292</td>\n",
       "    </tr>\n",
       "  </tbody>\n",
       "</table>\n",
       "<p>3 rows × 21 columns</p>\n",
       "</div>"
      ],
      "text/plain": [
       "0                 Date  GSL-ALL  GSL-NET  GSL-R  GSL-R-1  GSL-R-2  GSL-C  \\\n",
       "0                 Date  GSL-ALL  GSL-NET  GSL-R  GSL-R-1  GSL-R-2  GSL-C   \n",
       "1  2013-01-04 00:00:00     8385     8204   2586     2586        0   5618   \n",
       "2  2013-01-11 00:00:00     8590     8591   2808     2808        0   5784   \n",
       "\n",
       "0  GSL-C-1  GSL-C-1-1  GSL-C-1-2  ...  GSL-ADJ   KER  KER-Comm  KER-Milit  \\\n",
       "0  GSL-C-1  GSL-C-1-1  GSL-C-1-2  ...  GSL-ADJ   KER  KER-Comm  KER-Milit   \n",
       "1     4499       4498          1  ...      181  1511      1374        137   \n",
       "2     4935       4934          1  ...       -1  1517      1376        141   \n",
       "\n",
       "0   DSL  DSL-1  DSL-2  DSL-3  RSD   PPN  \n",
       "0   DSL  DSL-1  DSL-2  DSL-3  RSD   PPN  \n",
       "1  4920   4474    116    331  425  1339  \n",
       "2  4564   4142     84    338  415  1292  \n",
       "\n",
       "[3 rows x 21 columns]"
      ]
     },
     "execution_count": 53,
     "metadata": {},
     "output_type": "execute_result"
    }
   ],
   "source": [
    "# The table with petroleum product prices has a two-row column headings.\n",
    "# We don't need the long text heading - the second coded heading is the useful one\n",
    "prod_US = prod_US_raw\n",
    "prod_US.reset_index()\n",
    "prod_US.columns = prod_US.iloc[0]\n",
    "prod_US.head(3)"
   ]
  },
  {
   "cell_type": "code",
   "execution_count": 54,
   "metadata": {
    "scrolled": true
   },
   "outputs": [
    {
     "data": {
      "text/html": [
       "<div>\n",
       "<style scoped>\n",
       "    .dataframe tbody tr th:only-of-type {\n",
       "        vertical-align: middle;\n",
       "    }\n",
       "\n",
       "    .dataframe tbody tr th {\n",
       "        vertical-align: top;\n",
       "    }\n",
       "\n",
       "    .dataframe thead th {\n",
       "        text-align: right;\n",
       "    }\n",
       "</style>\n",
       "<table border=\"1\" class=\"dataframe\">\n",
       "  <thead>\n",
       "    <tr style=\"text-align: right;\">\n",
       "      <th></th>\n",
       "      <th>Date</th>\n",
       "      <th>GSL-ALL</th>\n",
       "      <th>GSL-NET</th>\n",
       "      <th>GSL-R</th>\n",
       "      <th>GSL-R-1</th>\n",
       "      <th>GSL-R-2</th>\n",
       "      <th>GSL-C</th>\n",
       "      <th>GSL-C-1</th>\n",
       "      <th>GSL-C-1-1</th>\n",
       "      <th>GSL-C-1-2</th>\n",
       "      <th>...</th>\n",
       "      <th>GSL-ADJ</th>\n",
       "      <th>KER</th>\n",
       "      <th>KER-Comm</th>\n",
       "      <th>KER-Milit</th>\n",
       "      <th>DSL</th>\n",
       "      <th>DSL-1</th>\n",
       "      <th>DSL-2</th>\n",
       "      <th>DSL-3</th>\n",
       "      <th>RSD</th>\n",
       "      <th>PPN</th>\n",
       "    </tr>\n",
       "  </thead>\n",
       "  <tbody>\n",
       "    <tr>\n",
       "      <th>1</th>\n",
       "      <td>2013-01-04 00:00:00</td>\n",
       "      <td>8385</td>\n",
       "      <td>8204</td>\n",
       "      <td>2586</td>\n",
       "      <td>2586</td>\n",
       "      <td>0</td>\n",
       "      <td>5618</td>\n",
       "      <td>4499</td>\n",
       "      <td>4498</td>\n",
       "      <td>1</td>\n",
       "      <td>...</td>\n",
       "      <td>181</td>\n",
       "      <td>1511</td>\n",
       "      <td>1374</td>\n",
       "      <td>137</td>\n",
       "      <td>4920</td>\n",
       "      <td>4474</td>\n",
       "      <td>116</td>\n",
       "      <td>331</td>\n",
       "      <td>425</td>\n",
       "      <td>1339</td>\n",
       "    </tr>\n",
       "    <tr>\n",
       "      <th>2</th>\n",
       "      <td>2013-01-11 00:00:00</td>\n",
       "      <td>8590</td>\n",
       "      <td>8591</td>\n",
       "      <td>2808</td>\n",
       "      <td>2808</td>\n",
       "      <td>0</td>\n",
       "      <td>5784</td>\n",
       "      <td>4935</td>\n",
       "      <td>4934</td>\n",
       "      <td>1</td>\n",
       "      <td>...</td>\n",
       "      <td>-1</td>\n",
       "      <td>1517</td>\n",
       "      <td>1376</td>\n",
       "      <td>141</td>\n",
       "      <td>4564</td>\n",
       "      <td>4142</td>\n",
       "      <td>84</td>\n",
       "      <td>338</td>\n",
       "      <td>415</td>\n",
       "      <td>1292</td>\n",
       "    </tr>\n",
       "  </tbody>\n",
       "</table>\n",
       "<p>2 rows × 21 columns</p>\n",
       "</div>"
      ],
      "text/plain": [
       "0                 Date GSL-ALL GSL-NET GSL-R GSL-R-1 GSL-R-2 GSL-C GSL-C-1  \\\n",
       "1  2013-01-04 00:00:00    8385    8204  2586    2586       0  5618    4499   \n",
       "2  2013-01-11 00:00:00    8590    8591  2808    2808       0  5784    4935   \n",
       "\n",
       "0 GSL-C-1-1 GSL-C-1-2  ... GSL-ADJ   KER KER-Comm KER-Milit   DSL DSL-1 DSL-2  \\\n",
       "1      4498         1  ...     181  1511     1374       137  4920  4474   116   \n",
       "2      4934         1  ...      -1  1517     1376       141  4564  4142    84   \n",
       "\n",
       "0 DSL-3  RSD   PPN  \n",
       "1   331  425  1339  \n",
       "2   338  415  1292  \n",
       "\n",
       "[2 rows x 21 columns]"
      ]
     },
     "execution_count": 54,
     "metadata": {},
     "output_type": "execute_result"
    }
   ],
   "source": [
    "# Removing the long text heading and replacing it the coded row\n",
    "prod_US = prod_US.drop(0)\n",
    "prod_US.head(2)"
   ]
  },
  {
   "cell_type": "markdown",
   "metadata": {},
   "source": [
    "* Repeat the same to 5 PAD distric datasets: PAD-1, PAD-2, PAD-3, PAD-4, and PAD-5:"
   ]
  },
  {
   "cell_type": "code",
   "execution_count": 55,
   "metadata": {},
   "outputs": [],
   "source": [
    "# Removing the top row with long text heading from the two-row column heading\n",
    "# Replacing it with the second row and making it column name\n",
    "prod_PAD_1 = prod_PAD_1_raw\n",
    "prod_PAD_2 = prod_PAD_2_raw\n",
    "prod_PAD_3 = prod_PAD_3_raw\n",
    "prod_PAD_4 = prod_PAD_4_raw\n",
    "prod_PAD_5 = prod_PAD_5_raw\n",
    "\n",
    "prod_PAD_1.reset_index()\n",
    "prod_PAD_2.reset_index()\n",
    "prod_PAD_3.reset_index()\n",
    "prod_PAD_4.reset_index()\n",
    "prod_PAD_5.reset_index()\n",
    "\n",
    "prod_PAD_1.columns = prod_PAD_1.iloc[0]\n",
    "prod_PAD_2.columns = prod_PAD_2.iloc[0]\n",
    "prod_PAD_3.columns = prod_PAD_3.iloc[0]\n",
    "prod_PAD_4.columns = prod_PAD_4.iloc[0]\n",
    "prod_PAD_5.columns = prod_PAD_5.iloc[0]\n",
    "\n",
    "prod_PAD_1 = prod_PAD_1.drop(0)\n",
    "prod_PAD_2 = prod_PAD_2.drop(0)\n",
    "prod_PAD_3 = prod_PAD_3.drop(0)\n",
    "prod_PAD_4 = prod_PAD_4.drop(0)\n",
    "prod_PAD_5 = prod_PAD_5.drop(0)"
   ]
  },
  {
   "cell_type": "code",
   "execution_count": 56,
   "metadata": {},
   "outputs": [
    {
     "data": {
      "text/html": [
       "<div>\n",
       "<style scoped>\n",
       "    .dataframe tbody tr th:only-of-type {\n",
       "        vertical-align: middle;\n",
       "    }\n",
       "\n",
       "    .dataframe tbody tr th {\n",
       "        vertical-align: top;\n",
       "    }\n",
       "\n",
       "    .dataframe thead th {\n",
       "        text-align: right;\n",
       "    }\n",
       "</style>\n",
       "<table border=\"1\" class=\"dataframe\">\n",
       "  <thead>\n",
       "    <tr style=\"text-align: right;\">\n",
       "      <th></th>\n",
       "      <th>Date</th>\n",
       "      <th>GSL-NET</th>\n",
       "      <th>GSL-R</th>\n",
       "      <th>GSL-R-1</th>\n",
       "      <th>GSL-R-2</th>\n",
       "      <th>GSL-C</th>\n",
       "      <th>GSL-C-1</th>\n",
       "      <th>GSL-C-1-1</th>\n",
       "      <th>GSL-C-1-2</th>\n",
       "      <th>GSL-C-2</th>\n",
       "      <th>KER</th>\n",
       "      <th>KER-Comm</th>\n",
       "      <th>KER-Milit</th>\n",
       "      <th>DSL</th>\n",
       "      <th>DSL-1</th>\n",
       "      <th>DSL-2</th>\n",
       "      <th>DSL-3</th>\n",
       "      <th>RSD</th>\n",
       "      <th>PPN</th>\n",
       "    </tr>\n",
       "  </thead>\n",
       "  <tbody>\n",
       "    <tr>\n",
       "      <th>1</th>\n",
       "      <td>2013-01-04 00:00:00</td>\n",
       "      <td>1364</td>\n",
       "      <td>936</td>\n",
       "      <td>936</td>\n",
       "      <td>0</td>\n",
       "      <td>427</td>\n",
       "      <td>329</td>\n",
       "      <td>329</td>\n",
       "      <td>0</td>\n",
       "      <td>98</td>\n",
       "      <td>430</td>\n",
       "      <td>377</td>\n",
       "      <td>53</td>\n",
       "      <td>557</td>\n",
       "      <td>536</td>\n",
       "      <td>23</td>\n",
       "      <td>-1</td>\n",
       "      <td>111</td>\n",
       "      <td>NaN</td>\n",
       "    </tr>\n",
       "    <tr>\n",
       "      <th>2</th>\n",
       "      <td>2013-01-11 00:00:00</td>\n",
       "      <td>1496</td>\n",
       "      <td>1014</td>\n",
       "      <td>1014</td>\n",
       "      <td>0</td>\n",
       "      <td>482</td>\n",
       "      <td>352</td>\n",
       "      <td>352</td>\n",
       "      <td>0</td>\n",
       "      <td>129</td>\n",
       "      <td>424</td>\n",
       "      <td>373</td>\n",
       "      <td>51</td>\n",
       "      <td>526</td>\n",
       "      <td>501</td>\n",
       "      <td>10</td>\n",
       "      <td>15</td>\n",
       "      <td>103</td>\n",
       "      <td>NaN</td>\n",
       "    </tr>\n",
       "  </tbody>\n",
       "</table>\n",
       "</div>"
      ],
      "text/plain": [
       "0                 Date GSL-NET GSL-R GSL-R-1 GSL-R-2 GSL-C GSL-C-1 GSL-C-1-1  \\\n",
       "1  2013-01-04 00:00:00    1364   936     936       0   427     329       329   \n",
       "2  2013-01-11 00:00:00    1496  1014    1014       0   482     352       352   \n",
       "\n",
       "0 GSL-C-1-2 GSL-C-2  KER KER-Comm KER-Milit  DSL DSL-1 DSL-2 DSL-3  RSD  PPN  \n",
       "1         0      98  430      377        53  557   536    23    -1  111  NaN  \n",
       "2         0     129  424      373        51  526   501    10    15  103  NaN  "
      ]
     },
     "execution_count": 56,
     "metadata": {},
     "output_type": "execute_result"
    }
   ],
   "source": [
    "prod_PAD_5.head(2)"
   ]
  },
  {
   "cell_type": "markdown",
   "metadata": {},
   "source": [
    "* all looks good here"
   ]
  },
  {
   "cell_type": "markdown",
   "metadata": {},
   "source": [
    "#### 2.3.3B Cleaning the data on Petroleum Product Pricing by PAD<a id='2.3.3_Cleaning_Product_Pricing_Data'></a>"
   ]
  },
  {
   "cell_type": "markdown",
   "metadata": {},
   "source": [
    "Let's start with removing first row heading and replacing it with the pre-coded labels and make it a column name heading"
   ]
  },
  {
   "cell_type": "code",
   "execution_count": 57,
   "metadata": {},
   "outputs": [
    {
     "data": {
      "text/html": [
       "<div>\n",
       "<style scoped>\n",
       "    .dataframe tbody tr th:only-of-type {\n",
       "        vertical-align: middle;\n",
       "    }\n",
       "\n",
       "    .dataframe tbody tr th {\n",
       "        vertical-align: top;\n",
       "    }\n",
       "\n",
       "    .dataframe thead th {\n",
       "        text-align: right;\n",
       "    }\n",
       "</style>\n",
       "<table border=\"1\" class=\"dataframe\">\n",
       "  <thead>\n",
       "    <tr style=\"text-align: right;\">\n",
       "      <th></th>\n",
       "      <th>Country</th>\n",
       "      <th>PAD</th>\n",
       "      <th>Sub-PAD</th>\n",
       "      <th>Sub-PAD Name</th>\n",
       "      <th>PERIOD</th>\n",
       "      <th>Date</th>\n",
       "      <th>Total Gasoline Wholesale/Resale Price by Refiners (Dollars per Gallon)</th>\n",
       "      <th>No 2 Distillate Wholesale/Resale Price by Refiners (Dollars per Gallon)</th>\n",
       "      <th>No 2 Diesel Wholesale/Resale Price by Refiners (Dollars per Gallon)</th>\n",
       "      <th>No. 2 Fuel Oil Wholesale/Resale Price by Refiners (Dollars per Gallon)</th>\n",
       "      <th>Residual Fuel Oil Wholesale/Resale Price by Refiners (Dollars per Gallon)</th>\n",
       "    </tr>\n",
       "  </thead>\n",
       "  <tbody>\n",
       "    <tr>\n",
       "      <th>0</th>\n",
       "      <td>Country</td>\n",
       "      <td>PAD</td>\n",
       "      <td>Sub-PAD</td>\n",
       "      <td>Sub-PAD Name</td>\n",
       "      <td>PERIOD</td>\n",
       "      <td>Date</td>\n",
       "      <td>GSL</td>\n",
       "      <td>DSL-A</td>\n",
       "      <td>DSL-B</td>\n",
       "      <td>HFL</td>\n",
       "      <td>RSD</td>\n",
       "    </tr>\n",
       "    <tr>\n",
       "      <th>1</th>\n",
       "      <td>US</td>\n",
       "      <td>US</td>\n",
       "      <td>US</td>\n",
       "      <td>US</td>\n",
       "      <td>01-2013</td>\n",
       "      <td>2013-01-15 00:00:00</td>\n",
       "      <td>2.676</td>\n",
       "      <td>3.048</td>\n",
       "      <td>3.046</td>\n",
       "      <td>3.069</td>\n",
       "      <td>2.388</td>\n",
       "    </tr>\n",
       "  </tbody>\n",
       "</table>\n",
       "</div>"
      ],
      "text/plain": [
       "   Country  PAD  Sub-PAD  Sub-PAD Name   PERIOD                 Date  \\\n",
       "0  Country  PAD  Sub-PAD  Sub-PAD Name   PERIOD                 Date   \n",
       "1       US   US       US            US  01-2013  2013-01-15 00:00:00   \n",
       "\n",
       "  Total Gasoline Wholesale/Resale Price by Refiners (Dollars per Gallon)  \\\n",
       "0                                                GSL                       \n",
       "1                                              2.676                       \n",
       "\n",
       "  No 2 Distillate Wholesale/Resale Price by Refiners (Dollars per Gallon)  \\\n",
       "0                                              DSL-A                        \n",
       "1                                              3.048                        \n",
       "\n",
       "  No 2 Diesel Wholesale/Resale Price by Refiners (Dollars per Gallon)  \\\n",
       "0                                              DSL-B                    \n",
       "1                                              3.046                    \n",
       "\n",
       "  No. 2 Fuel Oil Wholesale/Resale Price by Refiners (Dollars per Gallon)  \\\n",
       "0                                                HFL                       \n",
       "1                                              3.069                       \n",
       "\n",
       "  Residual Fuel Oil Wholesale/Resale Price by Refiners (Dollars per Gallon)  \n",
       "0                                                RSD                         \n",
       "1                                              2.388                         "
      ]
     },
     "execution_count": 57,
     "metadata": {},
     "output_type": "execute_result"
    }
   ],
   "source": [
    "prod_prices_raw.head(2)"
   ]
  },
  {
   "cell_type": "code",
   "execution_count": 58,
   "metadata": {
    "scrolled": true
   },
   "outputs": [],
   "source": [
    "# Replacing the column heading names with the useful coded ones\n",
    "prod_prices = prod_prices_raw\n",
    "prod_prices.reset_index()\n",
    "prod_prices.columns = prod_prices.iloc[0] # assign 1st row coded labels as column names\n",
    "prod_prices = prod_prices.drop(0) # drop the 1st row label"
   ]
  },
  {
   "cell_type": "code",
   "execution_count": 59,
   "metadata": {},
   "outputs": [
    {
     "data": {
      "text/html": [
       "<div>\n",
       "<style scoped>\n",
       "    .dataframe tbody tr th:only-of-type {\n",
       "        vertical-align: middle;\n",
       "    }\n",
       "\n",
       "    .dataframe tbody tr th {\n",
       "        vertical-align: top;\n",
       "    }\n",
       "\n",
       "    .dataframe thead th {\n",
       "        text-align: right;\n",
       "    }\n",
       "</style>\n",
       "<table border=\"1\" class=\"dataframe\">\n",
       "  <thead>\n",
       "    <tr style=\"text-align: right;\">\n",
       "      <th></th>\n",
       "      <th>Country</th>\n",
       "      <th>PAD</th>\n",
       "      <th>Sub-PAD</th>\n",
       "      <th>Sub-PAD Name</th>\n",
       "      <th>PERIOD</th>\n",
       "      <th>Date</th>\n",
       "      <th>GSL</th>\n",
       "      <th>DSL-A</th>\n",
       "      <th>DSL-B</th>\n",
       "      <th>HFL</th>\n",
       "      <th>RSD</th>\n",
       "    </tr>\n",
       "  </thead>\n",
       "  <tbody>\n",
       "    <tr>\n",
       "      <th>1</th>\n",
       "      <td>US</td>\n",
       "      <td>US</td>\n",
       "      <td>US</td>\n",
       "      <td>US</td>\n",
       "      <td>01-2013</td>\n",
       "      <td>2013-01-15 00:00:00</td>\n",
       "      <td>2.676</td>\n",
       "      <td>3.048</td>\n",
       "      <td>3.046</td>\n",
       "      <td>3.069</td>\n",
       "      <td>2.388</td>\n",
       "    </tr>\n",
       "    <tr>\n",
       "      <th>2</th>\n",
       "      <td>US</td>\n",
       "      <td>US</td>\n",
       "      <td>US</td>\n",
       "      <td>US</td>\n",
       "      <td>02-2013</td>\n",
       "      <td>2013-02-15 00:00:00</td>\n",
       "      <td>3.02</td>\n",
       "      <td>3.25</td>\n",
       "      <td>3.259</td>\n",
       "      <td>3.168</td>\n",
       "      <td>2.415</td>\n",
       "    </tr>\n",
       "  </tbody>\n",
       "</table>\n",
       "</div>"
      ],
      "text/plain": [
       "0 Country PAD Sub-PAD Sub-PAD Name   PERIOD                 Date    GSL  \\\n",
       "1      US  US      US           US  01-2013  2013-01-15 00:00:00  2.676   \n",
       "2      US  US      US           US  02-2013  2013-02-15 00:00:00   3.02   \n",
       "\n",
       "0  DSL-A  DSL-B    HFL    RSD  \n",
       "1  3.048  3.046  3.069  2.388  \n",
       "2   3.25  3.259  3.168  2.415  "
      ]
     },
     "execution_count": 59,
     "metadata": {},
     "output_type": "execute_result"
    }
   ],
   "source": [
    "prod_prices.head(2)"
   ]
  },
  {
   "cell_type": "markdown",
   "metadata": {},
   "source": [
    "* looks good, let's move on"
   ]
  },
  {
   "cell_type": "markdown",
   "metadata": {},
   "source": [
    "#### 2.3.4 Cleaning U.S. refineries data - A, B, and C<a id='2.3.4_Cleaning_Refinery_Profiles_Data'></a>"
   ]
  },
  {
   "cell_type": "markdown",
   "metadata": {},
   "source": [
    "#### 2.3.4B Refinery Capacity Profiles Data\n",
    "Initial audit of refinery capacities data showed that we will need to separate the aggregated data columns from the underlying lower level values; we will need to extract all 3 levels separately: Top (1st) Level: 'US', Middle (2nd) Level: 'PADD', and Bottom (3rd) Level: 'State'"
   ]
  },
  {
   "cell_type": "markdown",
   "metadata": {},
   "source": [
    "#### Top Level - by country, i.e. 'US'"
   ]
  },
  {
   "cell_type": "code",
   "execution_count": 60,
   "metadata": {},
   "outputs": [
    {
     "data": {
      "text/plain": [
       "(460, 13)"
      ]
     },
     "execution_count": 60,
     "metadata": {},
     "output_type": "execute_result"
    }
   ],
   "source": [
    "# So, we are starting with 460 records in the 'Refinery_Cap_ByType' dataframe:\n",
    "Refinery_Cap_ByType.shape"
   ]
  },
  {
   "cell_type": "code",
   "execution_count": 61,
   "metadata": {
    "scrolled": false
   },
   "outputs": [],
   "source": [
    "# Extracting Top Level - Country Level:\n",
    "US_refinery_cap_by_type = Refinery_Cap_ByType[Refinery_Cap_ByType['State']=='US']"
   ]
  },
  {
   "cell_type": "code",
   "execution_count": 62,
   "metadata": {},
   "outputs": [
    {
     "data": {
      "text/plain": [
       "(10, 13)"
      ]
     },
     "execution_count": 62,
     "metadata": {},
     "output_type": "execute_result"
    }
   ],
   "source": [
    "# Check how many records exist at the Top Level:\n",
    "US_refinery_cap_by_type.shape"
   ]
  },
  {
   "cell_type": "markdown",
   "metadata": {},
   "source": [
    "* After extracting the Top level data, we end up with 10 rows\n",
    "* this is consistent with the count of refinery process types, as we have previously determined in the initial audit step"
   ]
  },
  {
   "cell_type": "markdown",
   "metadata": {},
   "source": [
    "#### Middle Level - by PAD District, i.e. filter the 'State' column by all 5 'PAD' categories: "
   ]
  },
  {
   "cell_type": "markdown",
   "metadata": {},
   "source": [
    "#### PAD-1:"
   ]
  },
  {
   "cell_type": "code",
   "execution_count": 63,
   "metadata": {},
   "outputs": [
    {
     "data": {
      "text/plain": [
       "(10, 13)"
      ]
     },
     "execution_count": 63,
     "metadata": {},
     "output_type": "execute_result"
    }
   ],
   "source": [
    "# Extracting Middle Levels - PAD-1:\n",
    "PAD_1_refinery_cap_by_type = Refinery_Cap_ByType[Refinery_Cap_ByType['State']=='PAD-1']\n",
    "# Check how many records exist at PAD-1 level (should be no more than 10):\n",
    "PAD_1_refinery_cap_by_type.shape"
   ]
  },
  {
   "cell_type": "markdown",
   "metadata": {},
   "source": [
    "#### PAD-2:"
   ]
  },
  {
   "cell_type": "code",
   "execution_count": 64,
   "metadata": {},
   "outputs": [
    {
     "data": {
      "text/plain": [
       "(10, 13)"
      ]
     },
     "execution_count": 64,
     "metadata": {},
     "output_type": "execute_result"
    }
   ],
   "source": [
    "# Extracting Middle Levels - PAD-2:\n",
    "PAD_2_refinery_cap_by_type = Refinery_Cap_ByType[Refinery_Cap_ByType['State']=='PAD-2']\n",
    "# Check how many records exist at PAD-2 level (should be no more than 10):\n",
    "PAD_2_refinery_cap_by_type.shape"
   ]
  },
  {
   "cell_type": "markdown",
   "metadata": {},
   "source": [
    "#### PAD-3:"
   ]
  },
  {
   "cell_type": "code",
   "execution_count": 65,
   "metadata": {},
   "outputs": [
    {
     "data": {
      "text/plain": [
       "(10, 13)"
      ]
     },
     "execution_count": 65,
     "metadata": {},
     "output_type": "execute_result"
    }
   ],
   "source": [
    "# Extracting Middle Levels - PAD-3:\n",
    "PAD_3_refinery_cap_by_type = Refinery_Cap_ByType[Refinery_Cap_ByType['State']=='PAD-3']\n",
    "# Check how many records exist at PAD-3 level (should be no more than 10):\n",
    "PAD_3_refinery_cap_by_type.shape"
   ]
  },
  {
   "cell_type": "markdown",
   "metadata": {},
   "source": [
    "#### PAD-4:"
   ]
  },
  {
   "cell_type": "code",
   "execution_count": 66,
   "metadata": {},
   "outputs": [
    {
     "data": {
      "text/plain": [
       "(10, 13)"
      ]
     },
     "execution_count": 66,
     "metadata": {},
     "output_type": "execute_result"
    }
   ],
   "source": [
    "# Extracting Middle Levels - PAD-4:\n",
    "PAD_4_refinery_cap_by_type = Refinery_Cap_ByType[Refinery_Cap_ByType['State']=='PAD-4']\n",
    "# Check how many records exist at PAD-4 level (should be no more than 10):\n",
    "PAD_4_refinery_cap_by_type.shape"
   ]
  },
  {
   "cell_type": "markdown",
   "metadata": {},
   "source": [
    "#### PAD-5:"
   ]
  },
  {
   "cell_type": "code",
   "execution_count": 67,
   "metadata": {},
   "outputs": [
    {
     "data": {
      "text/plain": [
       "(10, 13)"
      ]
     },
     "execution_count": 67,
     "metadata": {},
     "output_type": "execute_result"
    }
   ],
   "source": [
    "# Extracting Middle Levels - PAD-5:\n",
    "PAD_5_refinery_cap_by_type = Refinery_Cap_ByType[Refinery_Cap_ByType['State']=='PAD-5']\n",
    "# Check how many records exist at PAD-5 level (should be no more than 10):\n",
    "PAD_5_refinery_cap_by_type.shape"
   ]
  },
  {
   "cell_type": "markdown",
   "metadata": {},
   "source": [
    "#### Bottom Level - by State, i.e. filter out the 'US' and the 5 'PAD' labels from the 'State' column: "
   ]
  },
  {
   "cell_type": "code",
   "execution_count": 68,
   "metadata": {},
   "outputs": [
    {
     "data": {
      "text/plain": [
       "(400, 13)"
      ]
     },
     "execution_count": 68,
     "metadata": {},
     "output_type": "execute_result"
    }
   ],
   "source": [
    "# Extracting Bottom Leves - State Only:\n",
    "State_refinery_cap_by_type = Refinery_Cap_ByType[(Refinery_Cap_ByType['State']!='US')\n",
    "                                                 &(Refinery_Cap_ByType['State']!='PAD-1')\n",
    "                                                 &(Refinery_Cap_ByType['State']!='PAD-2')\n",
    "                                                 &(Refinery_Cap_ByType['State']!='PAD-3')\n",
    "                                                 &(Refinery_Cap_ByType['State']!='PAD-4')\n",
    "                                                 &(Refinery_Cap_ByType['State']!='PAD-5')]\n",
    "# Check how many records exist at state level (should be no more than 400):\n",
    "State_refinery_cap_by_type.shape"
   ]
  },
  {
   "cell_type": "markdown",
   "metadata": {},
   "source": [
    "#### 2.3.4C Refinery Distance to Cities\n",
    "Initial audit of data on distances (in miles) from refineries to cities with population over 300K showed that it contained too many NaN values. The NaN values were due to limited free access to Google's API, which capped at a certain maximum number of queries per day.\n",
    "We will continue to populate the table till we collect all distance values to make up a 132 x 66 matrix, where there are 132 Refinery locations and 66 cities with over 300K population"
   ]
  },
  {
   "cell_type": "markdown",
   "metadata": {},
   "source": [
    "* any cleaning will be subject to completion of this objective; if not met, we will drop this dataset and replace it with alternative, 'next best thing', such as going by PAD and State level population correlations"
   ]
  },
  {
   "cell_type": "code",
   "execution_count": 69,
   "metadata": {
    "scrolled": true
   },
   "outputs": [
    {
     "data": {
      "text/plain": [
       "Refi_ID                          3\n",
       "Refinery_City                    3\n",
       "Major City                      68\n",
       "New York, New York               2\n",
       "New York, New York Distance      2\n",
       "                              ... \n",
       "Cincinnati, Ohio.1             134\n",
       "St. Louis, Missouri              2\n",
       "St. Louis, Missouri.1          134\n",
       "Pittsburgh, Pennsylvania         2\n",
       "Pittsburgh, Pennsylvania.1     134\n",
       "Length: 137, dtype: int64"
      ]
     },
     "execution_count": 69,
     "metadata": {},
     "output_type": "execute_result"
    }
   ],
   "source": [
    "# Distance between Refineries and U.S. cities with population >300K \n",
    "Refinery_City300K_Distances.isna().sum()"
   ]
  },
  {
   "cell_type": "markdown",
   "metadata": {},
   "source": [
    "#### 2.3.5 Cleaning Crude API data<a id='2.3.5_Cleaning_Crude_API_Data'></a>"
   ]
  },
  {
   "cell_type": "markdown",
   "metadata": {},
   "source": [
    "Earlier, at the Audit step, we have discovered that Crude API data set needs to be separated into location categories, similarly to what we did with the Product Pricing by PAD data.\n",
    "* The Crude API data is aggregated at 3 levels: 1 - Top (the U.S.), 2 - Middle (PAD district), 3 - Bottom (group of states).\n",
    "* Let's split them into 3 separate dataframes, as they would be most useful, when not mingled up with each other"
   ]
  },
  {
   "cell_type": "code",
   "execution_count": 70,
   "metadata": {},
   "outputs": [
    {
     "data": {
      "text/html": [
       "<div>\n",
       "<style scoped>\n",
       "    .dataframe tbody tr th:only-of-type {\n",
       "        vertical-align: middle;\n",
       "    }\n",
       "\n",
       "    .dataframe tbody tr th {\n",
       "        vertical-align: top;\n",
       "    }\n",
       "\n",
       "    .dataframe thead th {\n",
       "        text-align: right;\n",
       "    }\n",
       "</style>\n",
       "<table border=\"1\" class=\"dataframe\">\n",
       "  <thead>\n",
       "    <tr style=\"text-align: right;\">\n",
       "      <th></th>\n",
       "      <th>Date</th>\n",
       "      <th>U.S. API Gravity (Weighted Average) of Crude Oil Input to Refineries (Degrees)</th>\n",
       "      <th>East Coast (PADD 1) API Gravity (Weighted Average) of Crude Oil Input to Refineries (Degrees)</th>\n",
       "      <th>East Coast Refinery District API Gravity (Weighted Average) of Crude Oil Input to Refineries (Degrees)</th>\n",
       "      <th>Appalachian No. 1 Refinery District API Gravity (Weighted Average) of Crude Oil Input to Refineries (Degrees)</th>\n",
       "      <th>Midwest (PADD 2) API Gravity (Weighted Average) of Crude Oil Input to Refineries (Degrees)</th>\n",
       "      <th>Indiana, Illinois, Kentucky Refinery District API Gravity (Weighted Average) of Crude Oil Input to Refineries (Degrees)</th>\n",
       "      <th>Minnesota, Wisconsin, North and South Dakota Refinery District API Gravity (Weighted Average) of Crude Oil Input to Refineries (Degrees)</th>\n",
       "      <th>Oklahoma, Kansas, Missouri Refinery District API Gravity (Weighted Average) of Crude Oil Input to Refineries (Degrees)</th>\n",
       "      <th>Gulf Coast (PADD 3) API Gravity (Weighted Average) of Crude Oil Input to Refineries (Degrees)</th>\n",
       "      <th>Texas Inland Refinery District API Gravity (Weighted Average) of Crude Oil Input to Refineries (Degrees)</th>\n",
       "      <th>Texas Gulf Coast Refinery District API Gravity (Weighted Average) of Crude Oil Input to Refineries (Degrees)</th>\n",
       "      <th>Louisiana Gulf Coast Refinery District API Gravity (Weighted Average) of Crude Oil Input to Refineries (Degrees)</th>\n",
       "      <th>North Louisiana, Arkansas Refinery District API Gravity (Weighted Average) of Crude Oil Input to Refineries (Degrees)</th>\n",
       "      <th>New Mexico Refinery District API Gravity (Weighted Average) of Crude Oil Input to Refineries (Degrees)</th>\n",
       "      <th>Rocky Mountains (PADD 4) API Gravity (Weighted Average) of Crude Oil Input to Refineries (Degrees)</th>\n",
       "      <th>West Coast (PADD 5) API Gravity (Weighted Average) of Crude Oil Input to Refineries (Degrees)</th>\n",
       "    </tr>\n",
       "  </thead>\n",
       "  <tbody>\n",
       "    <tr>\n",
       "      <th>0</th>\n",
       "      <td>Date</td>\n",
       "      <td>USA</td>\n",
       "      <td>PAD-1</td>\n",
       "      <td>PAD-1-1</td>\n",
       "      <td>PAD-1-2</td>\n",
       "      <td>PAD-2</td>\n",
       "      <td>PAD-2-1</td>\n",
       "      <td>PAD-2-2</td>\n",
       "      <td>PAD-2-3</td>\n",
       "      <td>PAD-3</td>\n",
       "      <td>PAD-3-1</td>\n",
       "      <td>PAD-3-2</td>\n",
       "      <td>PAD-3-3</td>\n",
       "      <td>PAD-3-4</td>\n",
       "      <td>PAD-3-5</td>\n",
       "      <td>PAD-4</td>\n",
       "      <td>PAD-5</td>\n",
       "    </tr>\n",
       "    <tr>\n",
       "      <th>1</th>\n",
       "      <td>2013-01-15 00:00:00</td>\n",
       "      <td>30.75</td>\n",
       "      <td>33.99</td>\n",
       "      <td>34.21</td>\n",
       "      <td>31.62</td>\n",
       "      <td>32.79</td>\n",
       "      <td>32.31</td>\n",
       "      <td>28.68</td>\n",
       "      <td>36.58</td>\n",
       "      <td>30.33</td>\n",
       "      <td>36.65</td>\n",
       "      <td>29.34</td>\n",
       "      <td>29.88</td>\n",
       "      <td>30.69</td>\n",
       "      <td>39.13</td>\n",
       "      <td>32.7</td>\n",
       "      <td>27.24</td>\n",
       "    </tr>\n",
       "    <tr>\n",
       "      <th>2</th>\n",
       "      <td>2013-02-15 00:00:00</td>\n",
       "      <td>30.58</td>\n",
       "      <td>33.07</td>\n",
       "      <td>33.22</td>\n",
       "      <td>31.79</td>\n",
       "      <td>32.5</td>\n",
       "      <td>31.79</td>\n",
       "      <td>28.63</td>\n",
       "      <td>37.01</td>\n",
       "      <td>30.46</td>\n",
       "      <td>35.23</td>\n",
       "      <td>29.44</td>\n",
       "      <td>30.45</td>\n",
       "      <td>31.6</td>\n",
       "      <td>39.25</td>\n",
       "      <td>33.19</td>\n",
       "      <td>26.7</td>\n",
       "    </tr>\n",
       "  </tbody>\n",
       "</table>\n",
       "</div>"
      ],
      "text/plain": [
       "                  Date  \\\n",
       "0                 Date   \n",
       "1  2013-01-15 00:00:00   \n",
       "2  2013-02-15 00:00:00   \n",
       "\n",
       "  U.S. API Gravity (Weighted Average) of Crude Oil Input to Refineries (Degrees)  \\\n",
       "0                                                USA                               \n",
       "1                                              30.75                               \n",
       "2                                              30.58                               \n",
       "\n",
       "  East Coast (PADD 1) API Gravity (Weighted Average) of Crude Oil Input to Refineries (Degrees)   \\\n",
       "0                                              PAD-1                                               \n",
       "1                                              33.99                                               \n",
       "2                                              33.07                                               \n",
       "\n",
       "  East Coast Refinery District API Gravity (Weighted Average) of Crude Oil Input to Refineries (Degrees)  \\\n",
       "0                                            PAD-1-1                                                       \n",
       "1                                              34.21                                                       \n",
       "2                                              33.22                                                       \n",
       "\n",
       "  Appalachian No. 1 Refinery District API Gravity (Weighted Average) of Crude Oil Input to Refineries (Degrees)  \\\n",
       "0                                            PAD-1-2                                                              \n",
       "1                                              31.62                                                              \n",
       "2                                              31.79                                                              \n",
       "\n",
       "  Midwest (PADD 2) API Gravity (Weighted Average) of Crude Oil Input to Refineries (Degrees)  \\\n",
       "0                                              PAD-2                                           \n",
       "1                                              32.79                                           \n",
       "2                                               32.5                                           \n",
       "\n",
       "  Indiana, Illinois, Kentucky Refinery District API Gravity (Weighted Average) of Crude Oil Input to Refineries (Degrees)  \\\n",
       "0                                            PAD-2-1                                                                        \n",
       "1                                              32.31                                                                        \n",
       "2                                              31.79                                                                        \n",
       "\n",
       "  Minnesota, Wisconsin, North and South Dakota Refinery District API Gravity (Weighted Average) of Crude Oil Input to Refineries (Degrees)  \\\n",
       "0                                            PAD-2-2                                                                                         \n",
       "1                                              28.68                                                                                         \n",
       "2                                              28.63                                                                                         \n",
       "\n",
       "  Oklahoma, Kansas, Missouri Refinery District API Gravity (Weighted Average) of Crude Oil Input to Refineries (Degrees)  \\\n",
       "0                                            PAD-2-3                                                                       \n",
       "1                                              36.58                                                                       \n",
       "2                                              37.01                                                                       \n",
       "\n",
       "  Gulf Coast (PADD 3) API Gravity (Weighted Average) of Crude Oil Input to Refineries (Degrees)  \\\n",
       "0                                              PAD-3                                              \n",
       "1                                              30.33                                              \n",
       "2                                              30.46                                              \n",
       "\n",
       "  Texas Inland Refinery District API Gravity (Weighted Average) of Crude Oil Input to Refineries (Degrees)  \\\n",
       "0                                            PAD-3-1                                                         \n",
       "1                                              36.65                                                         \n",
       "2                                              35.23                                                         \n",
       "\n",
       "  Texas Gulf Coast Refinery District API Gravity (Weighted Average) of Crude Oil Input to Refineries (Degrees)  \\\n",
       "0                                            PAD-3-2                                                             \n",
       "1                                              29.34                                                             \n",
       "2                                              29.44                                                             \n",
       "\n",
       "  Louisiana Gulf Coast Refinery District API Gravity (Weighted Average) of Crude Oil Input to Refineries (Degrees)  \\\n",
       "0                                            PAD-3-3                                                                 \n",
       "1                                              29.88                                                                 \n",
       "2                                              30.45                                                                 \n",
       "\n",
       "  North Louisiana, Arkansas Refinery District API Gravity (Weighted Average) of Crude Oil Input to Refineries (Degrees)  \\\n",
       "0                                            PAD-3-4                                                                      \n",
       "1                                              30.69                                                                      \n",
       "2                                               31.6                                                                      \n",
       "\n",
       "  New Mexico Refinery District API Gravity (Weighted Average) of Crude Oil Input to Refineries (Degrees)  \\\n",
       "0                                            PAD-3-5                                                       \n",
       "1                                              39.13                                                       \n",
       "2                                              39.25                                                       \n",
       "\n",
       "  Rocky Mountains (PADD 4) API Gravity (Weighted Average) of Crude Oil Input to Refineries (Degrees)  \\\n",
       "0                                              PAD-4                                                   \n",
       "1                                               32.7                                                   \n",
       "2                                              33.19                                                   \n",
       "\n",
       "  West Coast (PADD 5) API Gravity (Weighted Average) of Crude Oil Input to Refineries (Degrees)  \n",
       "0                                              PAD-5                                             \n",
       "1                                              27.24                                             \n",
       "2                                               26.7                                             "
      ]
     },
     "execution_count": 70,
     "metadata": {},
     "output_type": "execute_result"
    }
   ],
   "source": [
    "API_by_PAD = API_by_PAD_raw\n",
    "API_by_PAD.head(3)"
   ]
  },
  {
   "cell_type": "markdown",
   "metadata": {},
   "source": [
    "First, let's extract the 'US' level data and store it in datafrae \"API_US\":"
   ]
  },
  {
   "cell_type": "code",
   "execution_count": 71,
   "metadata": {},
   "outputs": [
    {
     "data": {
      "text/html": [
       "<div>\n",
       "<style scoped>\n",
       "    .dataframe tbody tr th:only-of-type {\n",
       "        vertical-align: middle;\n",
       "    }\n",
       "\n",
       "    .dataframe tbody tr th {\n",
       "        vertical-align: top;\n",
       "    }\n",
       "\n",
       "    .dataframe thead th {\n",
       "        text-align: right;\n",
       "    }\n",
       "</style>\n",
       "<table border=\"1\" class=\"dataframe\">\n",
       "  <thead>\n",
       "    <tr style=\"text-align: right;\">\n",
       "      <th></th>\n",
       "      <th>Date</th>\n",
       "      <th>U.S. API Gravity (Weighted Average) of Crude Oil Input to Refineries (Degrees)</th>\n",
       "    </tr>\n",
       "  </thead>\n",
       "  <tbody>\n",
       "    <tr>\n",
       "      <th>0</th>\n",
       "      <td>Date</td>\n",
       "      <td>USA</td>\n",
       "    </tr>\n",
       "    <tr>\n",
       "      <th>1</th>\n",
       "      <td>2013-01-15 00:00:00</td>\n",
       "      <td>30.75</td>\n",
       "    </tr>\n",
       "    <tr>\n",
       "      <th>2</th>\n",
       "      <td>2013-02-15 00:00:00</td>\n",
       "      <td>30.58</td>\n",
       "    </tr>\n",
       "  </tbody>\n",
       "</table>\n",
       "</div>"
      ],
      "text/plain": [
       "                  Date  \\\n",
       "0                 Date   \n",
       "1  2013-01-15 00:00:00   \n",
       "2  2013-02-15 00:00:00   \n",
       "\n",
       "  U.S. API Gravity (Weighted Average) of Crude Oil Input to Refineries (Degrees)  \n",
       "0                                                USA                              \n",
       "1                                              30.75                              \n",
       "2                                              30.58                              "
      ]
     },
     "execution_count": 71,
     "metadata": {},
     "output_type": "execute_result"
    }
   ],
   "source": [
    "API_US = API_by_PAD.iloc[:, 0:2]\n",
    "API_US.head(3)"
   ]
  },
  {
   "cell_type": "markdown",
   "metadata": {},
   "source": [
    "Looks good. Second, now let's extract the 'PAD' distrcit level data and store it in dataframes API_PAD_1, API_PAD_2, API_PAD_3, API_PAD_4, and API_PAD_5:"
   ]
  },
  {
   "cell_type": "code",
   "execution_count": 72,
   "metadata": {
    "scrolled": true
   },
   "outputs": [
    {
     "data": {
      "text/html": [
       "<div>\n",
       "<style scoped>\n",
       "    .dataframe tbody tr th:only-of-type {\n",
       "        vertical-align: middle;\n",
       "    }\n",
       "\n",
       "    .dataframe tbody tr th {\n",
       "        vertical-align: top;\n",
       "    }\n",
       "\n",
       "    .dataframe thead th {\n",
       "        text-align: right;\n",
       "    }\n",
       "</style>\n",
       "<table border=\"1\" class=\"dataframe\">\n",
       "  <thead>\n",
       "    <tr style=\"text-align: right;\">\n",
       "      <th></th>\n",
       "      <th>Date</th>\n",
       "      <th>East Coast (PADD 1) API Gravity (Weighted Average) of Crude Oil Input to Refineries (Degrees)</th>\n",
       "    </tr>\n",
       "  </thead>\n",
       "  <tbody>\n",
       "    <tr>\n",
       "      <th>0</th>\n",
       "      <td>Date</td>\n",
       "      <td>PAD-1</td>\n",
       "    </tr>\n",
       "    <tr>\n",
       "      <th>1</th>\n",
       "      <td>2013-01-15 00:00:00</td>\n",
       "      <td>33.99</td>\n",
       "    </tr>\n",
       "    <tr>\n",
       "      <th>2</th>\n",
       "      <td>2013-02-15 00:00:00</td>\n",
       "      <td>33.07</td>\n",
       "    </tr>\n",
       "  </tbody>\n",
       "</table>\n",
       "</div>"
      ],
      "text/plain": [
       "                  Date  \\\n",
       "0                 Date   \n",
       "1  2013-01-15 00:00:00   \n",
       "2  2013-02-15 00:00:00   \n",
       "\n",
       "  East Coast (PADD 1) API Gravity (Weighted Average) of Crude Oil Input to Refineries (Degrees)   \n",
       "0                                              PAD-1                                              \n",
       "1                                              33.99                                              \n",
       "2                                              33.07                                              "
      ]
     },
     "execution_count": 72,
     "metadata": {},
     "output_type": "execute_result"
    }
   ],
   "source": [
    "API_PAD_1 = API_by_PAD.iloc[:, [0,2]] # PAD-1 subset\n",
    "API_PAD_2 = API_by_PAD.iloc[:, [0,5]] # PAD-2 subset\n",
    "API_PAD_3 = API_by_PAD.iloc[:, [0,9]] # PAD-3 subset\n",
    "API_PAD_4 = API_by_PAD.iloc[:, [0,15]] # PAD-4 subset\n",
    "API_PAD_5 = API_by_PAD.iloc[:, [0,16]] # PAD-5 subset\n",
    "\n",
    "API_PAD_1.head(3)"
   ]
  },
  {
   "cell_type": "markdown",
   "metadata": {},
   "source": [
    "* Finally, we will assign the remaining columns to separate dataframes with Crude APIs - for 10 groups of states in PAD districts 1, 2, and 3:\n",
    "* State Group for PAD-1: API_P1_East, API_PAD_1_Appalachian, \n",
    "* State Group for PAD-2: API_P2_IN_IL_KY, API_P2_MI_WI_ND_SD, API_P2_OK_KS_MO,\n",
    "* State Group for PAD-3: API_P3_TX_Inland, API_P3_TX_Gulf, API_P3_LA_Gulf, API_P3_LA_AR, API_P3_NM"
   ]
  },
  {
   "cell_type": "code",
   "execution_count": 73,
   "metadata": {},
   "outputs": [],
   "source": [
    "API_P1_East = API_by_PAD.iloc[:, [0,3]] # PAD-1 State Group: East Coast\n",
    "API_P1_Appalachian = API_by_PAD.iloc[:, [0,4]] # PAD-1 State Group: Appalachian\n",
    "\n",
    "API_P2_IN_IL_KY = API_by_PAD.iloc[:, [0,6]] # PAD-2 State Group: IN, IL, and KY\n",
    "API_P2_MI_WI_ND_SD = API_by_PAD.iloc[:, [0,7]] # PAD-2 State Group: WI, ND, and SD\n",
    "API_P2_OK_KS_MO = API_by_PAD.iloc[:, [0,8]] # PAD-2 State Group: OK, KS, and MO\n",
    "\n",
    "API_P3_TX_Inland = API_by_PAD.iloc[:, [0,10]] # PAD-3 State Group: TX Inland\n",
    "API_P3_TX_Gulf = API_by_PAD.iloc[:, [0,11]] # PAD-3 State Group: TX Gulf Coast\n",
    "API_P3_LA_Gulf = API_by_PAD.iloc[:, [0,12]] # PAD-3 State Group: LA Gulf Coast\n",
    "API_P3_LA_AR = API_by_PAD.iloc[:, [0,13]] # PAD-3 State Group: North LA, AR\n",
    "API_P3_NM = API_by_PAD.iloc[:, [0,14]] # PAD-3 State Group: NM"
   ]
  },
  {
   "cell_type": "code",
   "execution_count": 74,
   "metadata": {},
   "outputs": [
    {
     "data": {
      "text/html": [
       "<div>\n",
       "<style scoped>\n",
       "    .dataframe tbody tr th:only-of-type {\n",
       "        vertical-align: middle;\n",
       "    }\n",
       "\n",
       "    .dataframe tbody tr th {\n",
       "        vertical-align: top;\n",
       "    }\n",
       "\n",
       "    .dataframe thead th {\n",
       "        text-align: right;\n",
       "    }\n",
       "</style>\n",
       "<table border=\"1\" class=\"dataframe\">\n",
       "  <thead>\n",
       "    <tr style=\"text-align: right;\">\n",
       "      <th></th>\n",
       "      <th>Date</th>\n",
       "      <th>Texas Inland Refinery District API Gravity (Weighted Average) of Crude Oil Input to Refineries (Degrees)</th>\n",
       "    </tr>\n",
       "  </thead>\n",
       "  <tbody>\n",
       "    <tr>\n",
       "      <th>0</th>\n",
       "      <td>Date</td>\n",
       "      <td>PAD-3-1</td>\n",
       "    </tr>\n",
       "    <tr>\n",
       "      <th>1</th>\n",
       "      <td>2013-01-15 00:00:00</td>\n",
       "      <td>36.65</td>\n",
       "    </tr>\n",
       "    <tr>\n",
       "      <th>2</th>\n",
       "      <td>2013-02-15 00:00:00</td>\n",
       "      <td>35.23</td>\n",
       "    </tr>\n",
       "  </tbody>\n",
       "</table>\n",
       "</div>"
      ],
      "text/plain": [
       "                  Date  \\\n",
       "0                 Date   \n",
       "1  2013-01-15 00:00:00   \n",
       "2  2013-02-15 00:00:00   \n",
       "\n",
       "  Texas Inland Refinery District API Gravity (Weighted Average) of Crude Oil Input to Refineries (Degrees)  \n",
       "0                                            PAD-3-1                                                        \n",
       "1                                              36.65                                                        \n",
       "2                                              35.23                                                        "
      ]
     },
     "execution_count": 74,
     "metadata": {},
     "output_type": "execute_result"
    }
   ],
   "source": [
    "API_P3_TX_Inland.head(3)"
   ]
  },
  {
   "cell_type": "markdown",
   "metadata": {},
   "source": [
    "* Tested all 10 state groups, looks good."
   ]
  },
  {
   "cell_type": "markdown",
   "metadata": {},
   "source": [
    "#### 2.3.6 Cleaning Cities Population data<a id='2.3.6_Cleaning_Population_Data'></a>"
   ]
  },
  {
   "cell_type": "markdown",
   "metadata": {},
   "source": [
    "* No cleaning required on the U.S. cities population ranking data at this point."
   ]
  },
  {
   "cell_type": "markdown",
   "metadata": {},
   "source": [
    "### 2.4 Handling_Missing_Values<a id='2.4_Handling_Missing_Data'></a>"
   ]
  },
  {
   "cell_type": "markdown",
   "metadata": {},
   "source": [
    "#### 2.4.1 Check if there are any zero or NaN values in the crude price data<a id='2.4.1_Missing_Values_Crude_Pricing_Data'></a>"
   ]
  },
  {
   "cell_type": "code",
   "execution_count": 75,
   "metadata": {},
   "outputs": [
    {
     "data": {
      "text/plain": [
       "10"
      ]
     },
     "execution_count": 75,
     "metadata": {},
     "output_type": "execute_result"
    }
   ],
   "source": [
    "np.count_nonzero(crude_cost.isna())"
   ]
  },
  {
   "cell_type": "code",
   "execution_count": 76,
   "metadata": {
    "scrolled": true
   },
   "outputs": [
    {
     "data": {
      "text/html": [
       "<div>\n",
       "<style scoped>\n",
       "    .dataframe tbody tr th:only-of-type {\n",
       "        vertical-align: middle;\n",
       "    }\n",
       "\n",
       "    .dataframe tbody tr th {\n",
       "        vertical-align: top;\n",
       "    }\n",
       "\n",
       "    .dataframe thead th {\n",
       "        text-align: right;\n",
       "    }\n",
       "</style>\n",
       "<table border=\"1\" class=\"dataframe\">\n",
       "  <thead>\n",
       "    <tr style=\"text-align: right;\">\n",
       "      <th></th>\n",
       "      <th>Date</th>\n",
       "      <th>US Total</th>\n",
       "      <th>US PADD-1</th>\n",
       "      <th>US PADD-2</th>\n",
       "      <th>US PADD-3</th>\n",
       "      <th>US PADD-4</th>\n",
       "      <th>US PADD-5</th>\n",
       "      <th>Import Total</th>\n",
       "      <th>Imp PADD-1</th>\n",
       "      <th>Imp PADD-2</th>\n",
       "      <th>Imp PADD-3</th>\n",
       "      <th>Imp PADD-4</th>\n",
       "      <th>Imp PADD-5</th>\n",
       "    </tr>\n",
       "  </thead>\n",
       "  <tbody>\n",
       "    <tr>\n",
       "      <th>94</th>\n",
       "      <td>2020-11-15</td>\n",
       "      <td>41.56</td>\n",
       "      <td>45.02</td>\n",
       "      <td>41.68</td>\n",
       "      <td>41.47</td>\n",
       "      <td>39.61</td>\n",
       "      <td>41.92</td>\n",
       "      <td>38.72</td>\n",
       "      <td>43.61</td>\n",
       "      <td>35.9</td>\n",
       "      <td>39.91</td>\n",
       "      <td>36.01</td>\n",
       "      <td>42.82</td>\n",
       "    </tr>\n",
       "    <tr>\n",
       "      <th>95</th>\n",
       "      <td>2020-12-15</td>\n",
       "      <td>46.57</td>\n",
       "      <td>NaN</td>\n",
       "      <td>NaN</td>\n",
       "      <td>NaN</td>\n",
       "      <td>NaN</td>\n",
       "      <td>NaN</td>\n",
       "      <td>43.20</td>\n",
       "      <td>NaN</td>\n",
       "      <td>NaN</td>\n",
       "      <td>NaN</td>\n",
       "      <td>NaN</td>\n",
       "      <td>NaN</td>\n",
       "    </tr>\n",
       "  </tbody>\n",
       "</table>\n",
       "</div>"
      ],
      "text/plain": [
       "         Date  US Total  US PADD-1  US PADD-2  US PADD-3  US PADD-4  \\\n",
       "94 2020-11-15     41.56      45.02      41.68      41.47      39.61   \n",
       "95 2020-12-15     46.57        NaN        NaN        NaN        NaN   \n",
       "\n",
       "    US PADD-5  Import Total  Imp PADD-1  Imp PADD-2  Imp PADD-3  Imp PADD-4  \\\n",
       "94      41.92         38.72       43.61        35.9       39.91       36.01   \n",
       "95        NaN         43.20         NaN         NaN         NaN         NaN   \n",
       "\n",
       "    Imp PADD-5  \n",
       "94       42.82  \n",
       "95         NaN  "
      ]
     },
     "execution_count": 76,
     "metadata": {},
     "output_type": "execute_result"
    }
   ],
   "source": [
    "crude_cost.tail(2)"
   ]
  },
  {
   "cell_type": "markdown",
   "metadata": {},
   "source": [
    "##### It looks like it's just the last row that is missing price data for December 2020 - fill in the NaN with previous month data:"
   ]
  },
  {
   "cell_type": "code",
   "execution_count": 77,
   "metadata": {},
   "outputs": [
    {
     "data": {
      "text/html": [
       "<div>\n",
       "<style scoped>\n",
       "    .dataframe tbody tr th:only-of-type {\n",
       "        vertical-align: middle;\n",
       "    }\n",
       "\n",
       "    .dataframe tbody tr th {\n",
       "        vertical-align: top;\n",
       "    }\n",
       "\n",
       "    .dataframe thead th {\n",
       "        text-align: right;\n",
       "    }\n",
       "</style>\n",
       "<table border=\"1\" class=\"dataframe\">\n",
       "  <thead>\n",
       "    <tr style=\"text-align: right;\">\n",
       "      <th></th>\n",
       "      <th>Date</th>\n",
       "      <th>US Total</th>\n",
       "      <th>US PADD-1</th>\n",
       "      <th>US PADD-2</th>\n",
       "      <th>US PADD-3</th>\n",
       "      <th>US PADD-4</th>\n",
       "      <th>US PADD-5</th>\n",
       "      <th>Import Total</th>\n",
       "      <th>Imp PADD-1</th>\n",
       "      <th>Imp PADD-2</th>\n",
       "      <th>Imp PADD-3</th>\n",
       "      <th>Imp PADD-4</th>\n",
       "      <th>Imp PADD-5</th>\n",
       "    </tr>\n",
       "  </thead>\n",
       "  <tbody>\n",
       "    <tr>\n",
       "      <th>94</th>\n",
       "      <td>2020-11-15</td>\n",
       "      <td>41.56</td>\n",
       "      <td>45.02</td>\n",
       "      <td>41.68</td>\n",
       "      <td>41.47</td>\n",
       "      <td>39.61</td>\n",
       "      <td>41.92</td>\n",
       "      <td>38.72</td>\n",
       "      <td>43.61</td>\n",
       "      <td>35.9</td>\n",
       "      <td>39.91</td>\n",
       "      <td>36.01</td>\n",
       "      <td>42.82</td>\n",
       "    </tr>\n",
       "    <tr>\n",
       "      <th>95</th>\n",
       "      <td>2020-12-15</td>\n",
       "      <td>46.57</td>\n",
       "      <td>45.02</td>\n",
       "      <td>41.68</td>\n",
       "      <td>41.47</td>\n",
       "      <td>39.61</td>\n",
       "      <td>41.92</td>\n",
       "      <td>43.20</td>\n",
       "      <td>43.61</td>\n",
       "      <td>35.9</td>\n",
       "      <td>39.91</td>\n",
       "      <td>36.01</td>\n",
       "      <td>42.82</td>\n",
       "    </tr>\n",
       "  </tbody>\n",
       "</table>\n",
       "</div>"
      ],
      "text/plain": [
       "         Date  US Total  US PADD-1  US PADD-2  US PADD-3  US PADD-4  \\\n",
       "94 2020-11-15     41.56      45.02      41.68      41.47      39.61   \n",
       "95 2020-12-15     46.57      45.02      41.68      41.47      39.61   \n",
       "\n",
       "    US PADD-5  Import Total  Imp PADD-1  Imp PADD-2  Imp PADD-3  Imp PADD-4  \\\n",
       "94      41.92         38.72       43.61        35.9       39.91       36.01   \n",
       "95      41.92         43.20       43.61        35.9       39.91       36.01   \n",
       "\n",
       "    Imp PADD-5  \n",
       "94       42.82  \n",
       "95       42.82  "
      ]
     },
     "execution_count": 77,
     "metadata": {},
     "output_type": "execute_result"
    }
   ],
   "source": [
    "# Backfill the NaN in Dec 2020 with the previous ones from Nov 2020\n",
    "crude_cost.fillna(method='pad').tail(2)"
   ]
  },
  {
   "cell_type": "markdown",
   "metadata": {},
   "source": [
    "### 2.5 Categorical Features <a id='2.5_Categorial_Features'></a>"
   ]
  },
  {
   "cell_type": "markdown",
   "metadata": {},
   "source": [
    "#### 2.5.1 WTI and Brent Categories<a id='2.5.1_WTI_and_Brent_Categories'></a>"
   ]
  },
  {
   "cell_type": "code",
   "execution_count": 78,
   "metadata": {},
   "outputs": [
    {
     "data": {
      "text/html": [
       "<div>\n",
       "<style scoped>\n",
       "    .dataframe tbody tr th:only-of-type {\n",
       "        vertical-align: middle;\n",
       "    }\n",
       "\n",
       "    .dataframe tbody tr th {\n",
       "        vertical-align: top;\n",
       "    }\n",
       "\n",
       "    .dataframe thead th {\n",
       "        text-align: right;\n",
       "    }\n",
       "</style>\n",
       "<table border=\"1\" class=\"dataframe\">\n",
       "  <thead>\n",
       "    <tr style=\"text-align: right;\">\n",
       "      <th></th>\n",
       "      <th>Date</th>\n",
       "      <th>WTI</th>\n",
       "      <th>Brent</th>\n",
       "    </tr>\n",
       "  </thead>\n",
       "  <tbody>\n",
       "    <tr>\n",
       "      <th>0</th>\n",
       "      <td>2013-01-15</td>\n",
       "      <td>94.76</td>\n",
       "      <td>112.96</td>\n",
       "    </tr>\n",
       "    <tr>\n",
       "      <th>1</th>\n",
       "      <td>2013-02-15</td>\n",
       "      <td>95.31</td>\n",
       "      <td>116.05</td>\n",
       "    </tr>\n",
       "    <tr>\n",
       "      <th>2</th>\n",
       "      <td>2013-03-15</td>\n",
       "      <td>92.94</td>\n",
       "      <td>108.47</td>\n",
       "    </tr>\n",
       "  </tbody>\n",
       "</table>\n",
       "</div>"
      ],
      "text/plain": [
       "        Date    WTI   Brent\n",
       "0 2013-01-15  94.76  112.96\n",
       "1 2013-02-15  95.31  116.05\n",
       "2 2013-03-15  92.94  108.47"
      ]
     },
     "execution_count": 78,
     "metadata": {},
     "output_type": "execute_result"
    }
   ],
   "source": [
    "# Melt the combined WTI and Brent pricing data into Crude Oil prices labeled\n",
    "# by corresponding 'WTI' or 'Brent' categorical labels\n",
    "WTI_Brent_Melt = WTI_Brent\n",
    "WTI_Brent_Melt.head(3)"
   ]
  },
  {
   "cell_type": "code",
   "execution_count": 79,
   "metadata": {
    "scrolled": true
   },
   "outputs": [
    {
     "data": {
      "text/html": [
       "<div>\n",
       "<style scoped>\n",
       "    .dataframe tbody tr th:only-of-type {\n",
       "        vertical-align: middle;\n",
       "    }\n",
       "\n",
       "    .dataframe tbody tr th {\n",
       "        vertical-align: top;\n",
       "    }\n",
       "\n",
       "    .dataframe thead th {\n",
       "        text-align: right;\n",
       "    }\n",
       "</style>\n",
       "<table border=\"1\" class=\"dataframe\">\n",
       "  <thead>\n",
       "    <tr style=\"text-align: right;\">\n",
       "      <th></th>\n",
       "      <th>Date</th>\n",
       "      <th>Crude_Name</th>\n",
       "      <th>Price</th>\n",
       "    </tr>\n",
       "  </thead>\n",
       "  <tbody>\n",
       "    <tr>\n",
       "      <th>0</th>\n",
       "      <td>2013-01-15</td>\n",
       "      <td>WTI</td>\n",
       "      <td>94.76</td>\n",
       "    </tr>\n",
       "    <tr>\n",
       "      <th>1</th>\n",
       "      <td>2013-02-15</td>\n",
       "      <td>WTI</td>\n",
       "      <td>95.31</td>\n",
       "    </tr>\n",
       "  </tbody>\n",
       "</table>\n",
       "</div>"
      ],
      "text/plain": [
       "        Date Crude_Name  Price\n",
       "0 2013-01-15        WTI  94.76\n",
       "1 2013-02-15        WTI  95.31"
      ]
     },
     "execution_count": 79,
     "metadata": {},
     "output_type": "execute_result"
    }
   ],
   "source": [
    "WTI_Brent_Melt = pd.melt(WTI_Brent_Melt, id_vars=['Date'], var_name=['Crude_Name'], value_name='Price')\n",
    "WTI_Brent_Melt.head(2)"
   ]
  },
  {
   "cell_type": "code",
   "execution_count": 80,
   "metadata": {},
   "outputs": [
    {
     "data": {
      "text/html": [
       "<div>\n",
       "<style scoped>\n",
       "    .dataframe tbody tr th:only-of-type {\n",
       "        vertical-align: middle;\n",
       "    }\n",
       "\n",
       "    .dataframe tbody tr th {\n",
       "        vertical-align: top;\n",
       "    }\n",
       "\n",
       "    .dataframe thead th {\n",
       "        text-align: right;\n",
       "    }\n",
       "</style>\n",
       "<table border=\"1\" class=\"dataframe\">\n",
       "  <thead>\n",
       "    <tr style=\"text-align: right;\">\n",
       "      <th></th>\n",
       "      <th>Date</th>\n",
       "      <th>Crude_Name</th>\n",
       "      <th>Price</th>\n",
       "    </tr>\n",
       "  </thead>\n",
       "  <tbody>\n",
       "    <tr>\n",
       "      <th>190</th>\n",
       "      <td>2020-11-15</td>\n",
       "      <td>Brent</td>\n",
       "      <td>42.69</td>\n",
       "    </tr>\n",
       "    <tr>\n",
       "      <th>191</th>\n",
       "      <td>2020-12-15</td>\n",
       "      <td>Brent</td>\n",
       "      <td>49.99</td>\n",
       "    </tr>\n",
       "  </tbody>\n",
       "</table>\n",
       "</div>"
      ],
      "text/plain": [
       "          Date Crude_Name  Price\n",
       "190 2020-11-15      Brent  42.69\n",
       "191 2020-12-15      Brent  49.99"
      ]
     },
     "execution_count": 80,
     "metadata": {},
     "output_type": "execute_result"
    }
   ],
   "source": [
    "WTI_Brent_Melt.tail(2)"
   ]
  },
  {
   "cell_type": "markdown",
   "metadata": {},
   "source": [
    "#### 2.5.2 Crude Acquisition Cost Categories<a id='2.5.2_Refinery_Crude_Cost_Categories'></a>"
   ]
  },
  {
   "cell_type": "code",
   "execution_count": 81,
   "metadata": {},
   "outputs": [
    {
     "data": {
      "text/html": [
       "<div>\n",
       "<style scoped>\n",
       "    .dataframe tbody tr th:only-of-type {\n",
       "        vertical-align: middle;\n",
       "    }\n",
       "\n",
       "    .dataframe tbody tr th {\n",
       "        vertical-align: top;\n",
       "    }\n",
       "\n",
       "    .dataframe thead th {\n",
       "        text-align: right;\n",
       "    }\n",
       "</style>\n",
       "<table border=\"1\" class=\"dataframe\">\n",
       "  <thead>\n",
       "    <tr style=\"text-align: right;\">\n",
       "      <th></th>\n",
       "      <th>Date</th>\n",
       "      <th>US Total</th>\n",
       "      <th>US PADD-1</th>\n",
       "      <th>US PADD-2</th>\n",
       "      <th>US PADD-3</th>\n",
       "      <th>US PADD-4</th>\n",
       "      <th>US PADD-5</th>\n",
       "      <th>Import Total</th>\n",
       "      <th>Imp PADD-1</th>\n",
       "      <th>Imp PADD-2</th>\n",
       "      <th>Imp PADD-3</th>\n",
       "      <th>Imp PADD-4</th>\n",
       "      <th>Imp PADD-5</th>\n",
       "    </tr>\n",
       "  </thead>\n",
       "  <tbody>\n",
       "    <tr>\n",
       "      <th>0</th>\n",
       "      <td>2013-01-15</td>\n",
       "      <td>103.78</td>\n",
       "      <td>109.40</td>\n",
       "      <td>95.61</td>\n",
       "      <td>107.60</td>\n",
       "      <td>86.95</td>\n",
       "      <td>106.25</td>\n",
       "      <td>97.91</td>\n",
       "      <td>109.28</td>\n",
       "      <td>76.59</td>\n",
       "      <td>104.31</td>\n",
       "      <td>70.96</td>\n",
       "      <td>107.24</td>\n",
       "    </tr>\n",
       "    <tr>\n",
       "      <th>1</th>\n",
       "      <td>2013-02-15</td>\n",
       "      <td>103.75</td>\n",
       "      <td>113.15</td>\n",
       "      <td>97.03</td>\n",
       "      <td>106.64</td>\n",
       "      <td>86.94</td>\n",
       "      <td>107.11</td>\n",
       "      <td>99.23</td>\n",
       "      <td>113.32</td>\n",
       "      <td>77.83</td>\n",
       "      <td>108.15</td>\n",
       "      <td>70.15</td>\n",
       "      <td>106.95</td>\n",
       "    </tr>\n",
       "  </tbody>\n",
       "</table>\n",
       "</div>"
      ],
      "text/plain": [
       "        Date  US Total  US PADD-1  US PADD-2  US PADD-3  US PADD-4  US PADD-5  \\\n",
       "0 2013-01-15    103.78     109.40      95.61     107.60      86.95     106.25   \n",
       "1 2013-02-15    103.75     113.15      97.03     106.64      86.94     107.11   \n",
       "\n",
       "   Import Total  Imp PADD-1  Imp PADD-2  Imp PADD-3  Imp PADD-4  Imp PADD-5  \n",
       "0         97.91      109.28       76.59      104.31       70.96      107.24  \n",
       "1         99.23      113.32       77.83      108.15       70.15      106.95  "
      ]
     },
     "execution_count": 81,
     "metadata": {},
     "output_type": "execute_result"
    }
   ],
   "source": [
    "Crude_Cost_Melt = crude_cost\n",
    "Crude_Cost_Melt.head(2)"
   ]
  },
  {
   "cell_type": "code",
   "execution_count": 82,
   "metadata": {},
   "outputs": [],
   "source": [
    "# Melt the combined Product Pricing data into dataframes, labeled\n",
    "# by corresponding categorical labels, which also indicate US and PAD level groupings\n",
    "Crude_Cost_Melt = pd.melt(Crude_Cost_Melt, id_vars=['Date'],\n",
    "                          var_name=['Crude_Source'], value_name='Price')"
   ]
  },
  {
   "cell_type": "code",
   "execution_count": 83,
   "metadata": {},
   "outputs": [
    {
     "data": {
      "text/html": [
       "<div>\n",
       "<style scoped>\n",
       "    .dataframe tbody tr th:only-of-type {\n",
       "        vertical-align: middle;\n",
       "    }\n",
       "\n",
       "    .dataframe tbody tr th {\n",
       "        vertical-align: top;\n",
       "    }\n",
       "\n",
       "    .dataframe thead th {\n",
       "        text-align: right;\n",
       "    }\n",
       "</style>\n",
       "<table border=\"1\" class=\"dataframe\">\n",
       "  <thead>\n",
       "    <tr style=\"text-align: right;\">\n",
       "      <th></th>\n",
       "      <th>Date</th>\n",
       "      <th>Crude_Source</th>\n",
       "      <th>Price</th>\n",
       "    </tr>\n",
       "  </thead>\n",
       "  <tbody>\n",
       "    <tr>\n",
       "      <th>0</th>\n",
       "      <td>2013-01-15</td>\n",
       "      <td>US Total</td>\n",
       "      <td>103.78</td>\n",
       "    </tr>\n",
       "    <tr>\n",
       "      <th>1</th>\n",
       "      <td>2013-02-15</td>\n",
       "      <td>US Total</td>\n",
       "      <td>103.75</td>\n",
       "    </tr>\n",
       "  </tbody>\n",
       "</table>\n",
       "</div>"
      ],
      "text/plain": [
       "        Date Crude_Source   Price\n",
       "0 2013-01-15     US Total  103.78\n",
       "1 2013-02-15     US Total  103.75"
      ]
     },
     "execution_count": 83,
     "metadata": {},
     "output_type": "execute_result"
    }
   ],
   "source": [
    "Crude_Cost_Melt.head(2)"
   ]
  },
  {
   "cell_type": "code",
   "execution_count": 84,
   "metadata": {},
   "outputs": [
    {
     "data": {
      "text/html": [
       "<div>\n",
       "<style scoped>\n",
       "    .dataframe tbody tr th:only-of-type {\n",
       "        vertical-align: middle;\n",
       "    }\n",
       "\n",
       "    .dataframe tbody tr th {\n",
       "        vertical-align: top;\n",
       "    }\n",
       "\n",
       "    .dataframe thead th {\n",
       "        text-align: right;\n",
       "    }\n",
       "</style>\n",
       "<table border=\"1\" class=\"dataframe\">\n",
       "  <thead>\n",
       "    <tr style=\"text-align: right;\">\n",
       "      <th></th>\n",
       "      <th>Date</th>\n",
       "      <th>Crude_Source</th>\n",
       "      <th>Price</th>\n",
       "    </tr>\n",
       "  </thead>\n",
       "  <tbody>\n",
       "    <tr>\n",
       "      <th>1150</th>\n",
       "      <td>2020-11-15</td>\n",
       "      <td>Imp PADD-5</td>\n",
       "      <td>42.82</td>\n",
       "    </tr>\n",
       "    <tr>\n",
       "      <th>1151</th>\n",
       "      <td>2020-12-15</td>\n",
       "      <td>Imp PADD-5</td>\n",
       "      <td>NaN</td>\n",
       "    </tr>\n",
       "  </tbody>\n",
       "</table>\n",
       "</div>"
      ],
      "text/plain": [
       "           Date Crude_Source  Price\n",
       "1150 2020-11-15   Imp PADD-5  42.82\n",
       "1151 2020-12-15   Imp PADD-5    NaN"
      ]
     },
     "execution_count": 84,
     "metadata": {},
     "output_type": "execute_result"
    }
   ],
   "source": [
    "Crude_Cost_Melt.tail(2)"
   ]
  },
  {
   "cell_type": "markdown",
   "metadata": {},
   "source": [
    "#### 2.5.3A Petroleum Product Volume Categories<a id='2.5.3A_Product_Volume_Categories'></a>"
   ]
  },
  {
   "cell_type": "code",
   "execution_count": 85,
   "metadata": {
    "scrolled": true
   },
   "outputs": [
    {
     "data": {
      "text/html": [
       "<div>\n",
       "<style scoped>\n",
       "    .dataframe tbody tr th:only-of-type {\n",
       "        vertical-align: middle;\n",
       "    }\n",
       "\n",
       "    .dataframe tbody tr th {\n",
       "        vertical-align: top;\n",
       "    }\n",
       "\n",
       "    .dataframe thead th {\n",
       "        text-align: right;\n",
       "    }\n",
       "</style>\n",
       "<table border=\"1\" class=\"dataframe\">\n",
       "  <thead>\n",
       "    <tr style=\"text-align: right;\">\n",
       "      <th></th>\n",
       "      <th>Date</th>\n",
       "      <th>GSL-ALL</th>\n",
       "      <th>GSL-NET</th>\n",
       "      <th>GSL-R</th>\n",
       "      <th>GSL-R-1</th>\n",
       "      <th>GSL-R-2</th>\n",
       "      <th>GSL-C</th>\n",
       "      <th>GSL-C-1</th>\n",
       "      <th>GSL-C-1-1</th>\n",
       "      <th>GSL-C-1-2</th>\n",
       "      <th>...</th>\n",
       "      <th>GSL-ADJ</th>\n",
       "      <th>KER</th>\n",
       "      <th>KER-Comm</th>\n",
       "      <th>KER-Milit</th>\n",
       "      <th>DSL</th>\n",
       "      <th>DSL-1</th>\n",
       "      <th>DSL-2</th>\n",
       "      <th>DSL-3</th>\n",
       "      <th>RSD</th>\n",
       "      <th>PPN</th>\n",
       "    </tr>\n",
       "  </thead>\n",
       "  <tbody>\n",
       "    <tr>\n",
       "      <th>1</th>\n",
       "      <td>2013-01-04 00:00:00</td>\n",
       "      <td>8385</td>\n",
       "      <td>8204</td>\n",
       "      <td>2586</td>\n",
       "      <td>2586</td>\n",
       "      <td>0</td>\n",
       "      <td>5618</td>\n",
       "      <td>4499</td>\n",
       "      <td>4498</td>\n",
       "      <td>1</td>\n",
       "      <td>...</td>\n",
       "      <td>181</td>\n",
       "      <td>1511</td>\n",
       "      <td>1374</td>\n",
       "      <td>137</td>\n",
       "      <td>4920</td>\n",
       "      <td>4474</td>\n",
       "      <td>116</td>\n",
       "      <td>331</td>\n",
       "      <td>425</td>\n",
       "      <td>1339</td>\n",
       "    </tr>\n",
       "    <tr>\n",
       "      <th>2</th>\n",
       "      <td>2013-01-11 00:00:00</td>\n",
       "      <td>8590</td>\n",
       "      <td>8591</td>\n",
       "      <td>2808</td>\n",
       "      <td>2808</td>\n",
       "      <td>0</td>\n",
       "      <td>5784</td>\n",
       "      <td>4935</td>\n",
       "      <td>4934</td>\n",
       "      <td>1</td>\n",
       "      <td>...</td>\n",
       "      <td>-1</td>\n",
       "      <td>1517</td>\n",
       "      <td>1376</td>\n",
       "      <td>141</td>\n",
       "      <td>4564</td>\n",
       "      <td>4142</td>\n",
       "      <td>84</td>\n",
       "      <td>338</td>\n",
       "      <td>415</td>\n",
       "      <td>1292</td>\n",
       "    </tr>\n",
       "  </tbody>\n",
       "</table>\n",
       "<p>2 rows × 21 columns</p>\n",
       "</div>"
      ],
      "text/plain": [
       "0                 Date GSL-ALL GSL-NET GSL-R GSL-R-1 GSL-R-2 GSL-C GSL-C-1  \\\n",
       "1  2013-01-04 00:00:00    8385    8204  2586    2586       0  5618    4499   \n",
       "2  2013-01-11 00:00:00    8590    8591  2808    2808       0  5784    4935   \n",
       "\n",
       "0 GSL-C-1-1 GSL-C-1-2  ... GSL-ADJ   KER KER-Comm KER-Milit   DSL DSL-1 DSL-2  \\\n",
       "1      4498         1  ...     181  1511     1374       137  4920  4474   116   \n",
       "2      4934         1  ...      -1  1517     1376       141  4564  4142    84   \n",
       "\n",
       "0 DSL-3  RSD   PPN  \n",
       "1   331  425  1339  \n",
       "2   338  415  1292  \n",
       "\n",
       "[2 rows x 21 columns]"
      ]
     },
     "execution_count": 85,
     "metadata": {},
     "output_type": "execute_result"
    }
   ],
   "source": [
    "prod_US.head(2)"
   ]
  },
  {
   "cell_type": "code",
   "execution_count": 86,
   "metadata": {},
   "outputs": [],
   "source": [
    "# Melt the combined Domestic and Imported Crude Oil data into dataframe, labeled\n",
    "# by categorical labels, representing type of product codes and market location,\n",
    "# e.g. 'GSL', 'DSL-1', etc. - for the U.S. and PAD district levels, total of 6 datasets\n",
    "prod_US_melt = prod_US\n",
    "prod_PAD_1_melt = prod_PAD_1\n",
    "prod_PAD_2_melt = prod_PAD_2\n",
    "prod_PAD_3_melt = prod_PAD_3\n",
    "prod_PAD_4_melt = prod_PAD_4\n",
    "prod_PAD_5_melt = prod_PAD_5\n",
    "\n",
    "prod_US_melt = pd.melt(prod_US_melt, id_vars=['Date'], var_name=['Product'], value_name='Volume_BPD')\n",
    "prod_PAD_1_melt = pd.melt(prod_PAD_1_melt, id_vars=['Date'], var_name=['Product'], value_name='Volume_BPD')\n",
    "prod_PAD_2_melt = pd.melt(prod_PAD_2_melt, id_vars=['Date'], var_name=['Product'], value_name='Volume_BPD')\n",
    "prod_PAD_3_melt = pd.melt(prod_PAD_3_melt, id_vars=['Date'], var_name=['Product'], value_name='Volume_BPD')\n",
    "prod_PAD_4_melt = pd.melt(prod_PAD_4_melt, id_vars=['Date'], var_name=['Product'], value_name='Volume_BPD')\n",
    "prod_PAD_5_melt = pd.melt(prod_PAD_5_melt, id_vars=['Date'], var_name=['Product'], value_name='Volume_BPD')"
   ]
  },
  {
   "cell_type": "code",
   "execution_count": 87,
   "metadata": {},
   "outputs": [
    {
     "data": {
      "text/html": [
       "<div>\n",
       "<style scoped>\n",
       "    .dataframe tbody tr th:only-of-type {\n",
       "        vertical-align: middle;\n",
       "    }\n",
       "\n",
       "    .dataframe tbody tr th {\n",
       "        vertical-align: top;\n",
       "    }\n",
       "\n",
       "    .dataframe thead th {\n",
       "        text-align: right;\n",
       "    }\n",
       "</style>\n",
       "<table border=\"1\" class=\"dataframe\">\n",
       "  <thead>\n",
       "    <tr style=\"text-align: right;\">\n",
       "      <th></th>\n",
       "      <th>Date</th>\n",
       "      <th>Product</th>\n",
       "      <th>Volume_BPD</th>\n",
       "    </tr>\n",
       "  </thead>\n",
       "  <tbody>\n",
       "    <tr>\n",
       "      <th>0</th>\n",
       "      <td>2013-01-04</td>\n",
       "      <td>GSL-ALL</td>\n",
       "      <td>8385</td>\n",
       "    </tr>\n",
       "    <tr>\n",
       "      <th>1</th>\n",
       "      <td>2013-01-11</td>\n",
       "      <td>GSL-ALL</td>\n",
       "      <td>8590</td>\n",
       "    </tr>\n",
       "  </tbody>\n",
       "</table>\n",
       "</div>"
      ],
      "text/plain": [
       "        Date  Product Volume_BPD\n",
       "0 2013-01-04  GSL-ALL       8385\n",
       "1 2013-01-11  GSL-ALL       8590"
      ]
     },
     "execution_count": 87,
     "metadata": {},
     "output_type": "execute_result"
    }
   ],
   "source": [
    "prod_US_melt.head(2)"
   ]
  },
  {
   "cell_type": "code",
   "execution_count": 88,
   "metadata": {},
   "outputs": [
    {
     "data": {
      "text/html": [
       "<div>\n",
       "<style scoped>\n",
       "    .dataframe tbody tr th:only-of-type {\n",
       "        vertical-align: middle;\n",
       "    }\n",
       "\n",
       "    .dataframe tbody tr th {\n",
       "        vertical-align: top;\n",
       "    }\n",
       "\n",
       "    .dataframe thead th {\n",
       "        text-align: right;\n",
       "    }\n",
       "</style>\n",
       "<table border=\"1\" class=\"dataframe\">\n",
       "  <thead>\n",
       "    <tr style=\"text-align: right;\">\n",
       "      <th></th>\n",
       "      <th>Date</th>\n",
       "      <th>Product</th>\n",
       "      <th>Volume_BPD</th>\n",
       "    </tr>\n",
       "  </thead>\n",
       "  <tbody>\n",
       "    <tr>\n",
       "      <th>8498</th>\n",
       "      <td>2021-02-12</td>\n",
       "      <td>PPN</td>\n",
       "      <td>2344</td>\n",
       "    </tr>\n",
       "    <tr>\n",
       "      <th>8499</th>\n",
       "      <td>2021-02-19</td>\n",
       "      <td>PPN</td>\n",
       "      <td>1406</td>\n",
       "    </tr>\n",
       "  </tbody>\n",
       "</table>\n",
       "</div>"
      ],
      "text/plain": [
       "           Date Product Volume_BPD\n",
       "8498 2021-02-12     PPN       2344\n",
       "8499 2021-02-19     PPN       1406"
      ]
     },
     "execution_count": 88,
     "metadata": {},
     "output_type": "execute_result"
    }
   ],
   "source": [
    "prod_US_melt.tail(2)"
   ]
  },
  {
   "cell_type": "code",
   "execution_count": 89,
   "metadata": {},
   "outputs": [
    {
     "data": {
      "text/html": [
       "<div>\n",
       "<style scoped>\n",
       "    .dataframe tbody tr th:only-of-type {\n",
       "        vertical-align: middle;\n",
       "    }\n",
       "\n",
       "    .dataframe tbody tr th {\n",
       "        vertical-align: top;\n",
       "    }\n",
       "\n",
       "    .dataframe thead th {\n",
       "        text-align: right;\n",
       "    }\n",
       "</style>\n",
       "<table border=\"1\" class=\"dataframe\">\n",
       "  <thead>\n",
       "    <tr style=\"text-align: right;\">\n",
       "      <th></th>\n",
       "      <th>Date</th>\n",
       "      <th>Product</th>\n",
       "      <th>Volume_BPD</th>\n",
       "    </tr>\n",
       "  </thead>\n",
       "  <tbody>\n",
       "    <tr>\n",
       "      <th>0</th>\n",
       "      <td>2013-01-04</td>\n",
       "      <td>GSL-NET</td>\n",
       "      <td>2514</td>\n",
       "    </tr>\n",
       "    <tr>\n",
       "      <th>1</th>\n",
       "      <td>2013-01-11</td>\n",
       "      <td>GSL-NET</td>\n",
       "      <td>2792</td>\n",
       "    </tr>\n",
       "  </tbody>\n",
       "</table>\n",
       "</div>"
      ],
      "text/plain": [
       "        Date  Product Volume_BPD\n",
       "0 2013-01-04  GSL-NET       2514\n",
       "1 2013-01-11  GSL-NET       2792"
      ]
     },
     "execution_count": 89,
     "metadata": {},
     "output_type": "execute_result"
    }
   ],
   "source": [
    "prod_PAD_1_melt.head(2)"
   ]
  },
  {
   "cell_type": "markdown",
   "metadata": {},
   "source": [
    "#### 2.5.3B Petroleum Product Pricing Categories<a id='2.5.3B_Product_Pricing_Categories'></a>"
   ]
  },
  {
   "cell_type": "code",
   "execution_count": 90,
   "metadata": {},
   "outputs": [
    {
     "data": {
      "text/html": [
       "<div>\n",
       "<style scoped>\n",
       "    .dataframe tbody tr th:only-of-type {\n",
       "        vertical-align: middle;\n",
       "    }\n",
       "\n",
       "    .dataframe tbody tr th {\n",
       "        vertical-align: top;\n",
       "    }\n",
       "\n",
       "    .dataframe thead th {\n",
       "        text-align: right;\n",
       "    }\n",
       "</style>\n",
       "<table border=\"1\" class=\"dataframe\">\n",
       "  <thead>\n",
       "    <tr style=\"text-align: right;\">\n",
       "      <th></th>\n",
       "      <th>Country</th>\n",
       "      <th>PAD</th>\n",
       "      <th>Sub-PAD</th>\n",
       "      <th>Sub-PAD Name</th>\n",
       "      <th>PERIOD</th>\n",
       "      <th>Date</th>\n",
       "      <th>GSL</th>\n",
       "      <th>DSL-A</th>\n",
       "      <th>DSL-B</th>\n",
       "      <th>HFL</th>\n",
       "      <th>RSD</th>\n",
       "    </tr>\n",
       "  </thead>\n",
       "  <tbody>\n",
       "    <tr>\n",
       "      <th>1</th>\n",
       "      <td>US</td>\n",
       "      <td>US</td>\n",
       "      <td>US</td>\n",
       "      <td>US</td>\n",
       "      <td>01-2013</td>\n",
       "      <td>2013-01-15 00:00:00</td>\n",
       "      <td>2.676</td>\n",
       "      <td>3.048</td>\n",
       "      <td>3.046</td>\n",
       "      <td>3.069</td>\n",
       "      <td>2.388</td>\n",
       "    </tr>\n",
       "    <tr>\n",
       "      <th>2</th>\n",
       "      <td>US</td>\n",
       "      <td>US</td>\n",
       "      <td>US</td>\n",
       "      <td>US</td>\n",
       "      <td>02-2013</td>\n",
       "      <td>2013-02-15 00:00:00</td>\n",
       "      <td>3.02</td>\n",
       "      <td>3.25</td>\n",
       "      <td>3.259</td>\n",
       "      <td>3.168</td>\n",
       "      <td>2.415</td>\n",
       "    </tr>\n",
       "  </tbody>\n",
       "</table>\n",
       "</div>"
      ],
      "text/plain": [
       "0 Country PAD Sub-PAD Sub-PAD Name   PERIOD                 Date    GSL  \\\n",
       "1      US  US      US           US  01-2013  2013-01-15 00:00:00  2.676   \n",
       "2      US  US      US           US  02-2013  2013-02-15 00:00:00   3.02   \n",
       "\n",
       "0  DSL-A  DSL-B    HFL    RSD  \n",
       "1  3.048  3.046  3.069  2.388  \n",
       "2   3.25  3.259  3.168  2.415  "
      ]
     },
     "execution_count": 90,
     "metadata": {},
     "output_type": "execute_result"
    }
   ],
   "source": [
    "prod_prices.head(2)"
   ]
  },
  {
   "cell_type": "markdown",
   "metadata": {},
   "source": [
    "* No melting needed with this one"
   ]
  },
  {
   "cell_type": "markdown",
   "metadata": {},
   "source": [
    "#### 2.5.4A US Refinery Profiles Categories<a id='2.5.4A_Refinery_Profiles_Categories'></a>"
   ]
  },
  {
   "cell_type": "code",
   "execution_count": 91,
   "metadata": {
    "scrolled": true
   },
   "outputs": [
    {
     "data": {
      "text/html": [
       "<div>\n",
       "<style scoped>\n",
       "    .dataframe tbody tr th:only-of-type {\n",
       "        vertical-align: middle;\n",
       "    }\n",
       "\n",
       "    .dataframe tbody tr th {\n",
       "        vertical-align: top;\n",
       "    }\n",
       "\n",
       "    .dataframe thead th {\n",
       "        text-align: right;\n",
       "    }\n",
       "</style>\n",
       "<table border=\"1\" class=\"dataframe\">\n",
       "  <thead>\n",
       "    <tr style=\"text-align: right;\">\n",
       "      <th></th>\n",
       "      <th>Site_ID</th>\n",
       "      <th>Corporation</th>\n",
       "      <th>Company</th>\n",
       "      <th>Site_Name</th>\n",
       "      <th>PAD_Code</th>\n",
       "      <th>State</th>\n",
       "      <th>County</th>\n",
       "      <th>City</th>\n",
       "      <th>Zip_Code</th>\n",
       "      <th>Status</th>\n",
       "      <th>Optg_Capty_BPD</th>\n",
       "    </tr>\n",
       "  </thead>\n",
       "  <tbody>\n",
       "    <tr>\n",
       "      <th>0</th>\n",
       "      <td>70</td>\n",
       "      <td>Royal Dutch/Shell Group</td>\n",
       "      <td>Shell Chemical LP</td>\n",
       "      <td>Saraland</td>\n",
       "      <td>PAD-3</td>\n",
       "      <td>Alabama</td>\n",
       "      <td>Mobile</td>\n",
       "      <td>Saraland</td>\n",
       "      <td>36571</td>\n",
       "      <td>1</td>\n",
       "      <td>87500</td>\n",
       "    </tr>\n",
       "    <tr>\n",
       "      <th>1</th>\n",
       "      <td>97</td>\n",
       "      <td>Hunt Consolidated Inc</td>\n",
       "      <td>Hunt Refining Co</td>\n",
       "      <td>Tuscaloosa</td>\n",
       "      <td>PAD-3</td>\n",
       "      <td>Alabama</td>\n",
       "      <td>Tuscaloosa County</td>\n",
       "      <td>Tuscaloosa</td>\n",
       "      <td>35401</td>\n",
       "      <td>1</td>\n",
       "      <td>48000</td>\n",
       "    </tr>\n",
       "  </tbody>\n",
       "</table>\n",
       "</div>"
      ],
      "text/plain": [
       "   Site_ID              Corporation            Company   Site_Name PAD_Code  \\\n",
       "0       70  Royal Dutch/Shell Group  Shell Chemical LP    Saraland    PAD-3   \n",
       "1       97    Hunt Consolidated Inc   Hunt Refining Co  Tuscaloosa    PAD-3   \n",
       "\n",
       "     State             County        City  Zip_Code  Status  Optg_Capty_BPD  \n",
       "0  Alabama             Mobile    Saraland     36571       1           87500  \n",
       "1  Alabama  Tuscaloosa County  Tuscaloosa     35401       1           48000  "
      ]
     },
     "execution_count": 91,
     "metadata": {},
     "output_type": "execute_result"
    }
   ],
   "source": [
    "Refineries_List.head(2)"
   ]
  },
  {
   "cell_type": "markdown",
   "metadata": {},
   "source": [
    "* Categorial feature that we will be using in this dataframe is the PAD_Code"
   ]
  },
  {
   "cell_type": "markdown",
   "metadata": {},
   "source": [
    "#### 2.5.4B US Refining Capacity Categories<a id='2.5.4B_Refinery_Capacity_Categories'></a>"
   ]
  },
  {
   "cell_type": "markdown",
   "metadata": {},
   "source": [
    "There are 6 dataframes on refinery capacities and process types: 1 at country level (US), and 6 at PAD district level (PAD-1 through PAD-5). The common categorical feature across them are the Process type ('Type_Code' column) and the lowest level location info ('State' column)"
   ]
  },
  {
   "cell_type": "code",
   "execution_count": 92,
   "metadata": {},
   "outputs": [
    {
     "data": {
      "text/html": [
       "<div>\n",
       "<style scoped>\n",
       "    .dataframe tbody tr th:only-of-type {\n",
       "        vertical-align: middle;\n",
       "    }\n",
       "\n",
       "    .dataframe tbody tr th {\n",
       "        vertical-align: top;\n",
       "    }\n",
       "\n",
       "    .dataframe thead th {\n",
       "        text-align: right;\n",
       "    }\n",
       "</style>\n",
       "<table border=\"1\" class=\"dataframe\">\n",
       "  <thead>\n",
       "    <tr style=\"text-align: right;\">\n",
       "      <th></th>\n",
       "      <th>Rec_ID</th>\n",
       "      <th>ID</th>\n",
       "      <th>Description</th>\n",
       "      <th>Type_Code</th>\n",
       "      <th>US</th>\n",
       "      <th>PADD</th>\n",
       "      <th>State</th>\n",
       "      <th>Date</th>\n",
       "      <th>Year</th>\n",
       "      <th>Op_Cap_BPSD</th>\n",
       "      <th>Idle_Cap_BPSD</th>\n",
       "      <th>Cap_BPSD</th>\n",
       "      <th>Cap_BPCD</th>\n",
       "    </tr>\n",
       "  </thead>\n",
       "  <tbody>\n",
       "    <tr>\n",
       "      <th>0</th>\n",
       "      <td>1</td>\n",
       "      <td>ATMDIST-0001</td>\n",
       "      <td>Annual Operable Atmospheric Crude Oil Distilla...</td>\n",
       "      <td>ATMDIST</td>\n",
       "      <td>US</td>\n",
       "      <td>US</td>\n",
       "      <td>US</td>\n",
       "      <td>2020-06-30</td>\n",
       "      <td>2020</td>\n",
       "      <td>19634219.0</td>\n",
       "      <td>458000.0</td>\n",
       "      <td>20092219.0</td>\n",
       "      <td>18976085.0</td>\n",
       "    </tr>\n",
       "    <tr>\n",
       "      <th>46</th>\n",
       "      <td>47</td>\n",
       "      <td>VACMDIST-0047</td>\n",
       "      <td>Vacuum Distillation (BPSD)</td>\n",
       "      <td>VACMDIST</td>\n",
       "      <td>US</td>\n",
       "      <td>US</td>\n",
       "      <td>US</td>\n",
       "      <td>2020-06-30</td>\n",
       "      <td>2020</td>\n",
       "      <td>9170843.0</td>\n",
       "      <td>NaN</td>\n",
       "      <td>NaN</td>\n",
       "      <td>NaN</td>\n",
       "    </tr>\n",
       "  </tbody>\n",
       "</table>\n",
       "</div>"
      ],
      "text/plain": [
       "    Rec_ID             ID                                        Description  \\\n",
       "0        1   ATMDIST-0001  Annual Operable Atmospheric Crude Oil Distilla...   \n",
       "46      47  VACMDIST-0047                         Vacuum Distillation (BPSD)   \n",
       "\n",
       "   Type_Code  US PADD State       Date  Year  Op_Cap_BPSD  Idle_Cap_BPSD  \\\n",
       "0    ATMDIST  US   US    US 2020-06-30  2020   19634219.0       458000.0   \n",
       "46  VACMDIST  US   US    US 2020-06-30  2020    9170843.0            NaN   \n",
       "\n",
       "      Cap_BPSD    Cap_BPCD  \n",
       "0   20092219.0  18976085.0  \n",
       "46         NaN         NaN  "
      ]
     },
     "execution_count": 92,
     "metadata": {},
     "output_type": "execute_result"
    }
   ],
   "source": [
    "US_refinery_cap_by_type.head(2)"
   ]
  },
  {
   "cell_type": "markdown",
   "metadata": {},
   "source": [
    "Here's an instance of Process Type - using country level ('US') dataset:"
   ]
  },
  {
   "cell_type": "code",
   "execution_count": 93,
   "metadata": {
    "scrolled": true
   },
   "outputs": [
    {
     "data": {
      "text/plain": [
       "CATCRKRECYL     1\n",
       "CATLREFORM      1\n",
       "CATHYDTRMT      1\n",
       "COKING          1\n",
       "THERMCRCK       1\n",
       "CATLYTCRCK      1\n",
       "CATHYDRCRCK     1\n",
       "FUELSOLDEASP    1\n",
       "ATMDIST         1\n",
       "VACMDIST        1\n",
       "Name: Type_Code, dtype: int64"
      ]
     },
     "execution_count": 93,
     "metadata": {},
     "output_type": "execute_result"
    }
   ],
   "source": [
    "US_refinery_cap_by_type[\"Type_Code\"].value_counts()"
   ]
  },
  {
   "cell_type": "markdown",
   "metadata": {},
   "source": [
    "And here's and instance of location categorization - using 'PAD-1' as an example:"
   ]
  },
  {
   "cell_type": "code",
   "execution_count": 94,
   "metadata": {},
   "outputs": [
    {
     "data": {
      "text/plain": [
       "PAD-1    10\n",
       "Name: State, dtype: int64"
      ]
     },
     "execution_count": 94,
     "metadata": {},
     "output_type": "execute_result"
    }
   ],
   "source": [
    "PAD_1_refinery_cap_by_type[\"State\"].value_counts()"
   ]
  },
  {
   "cell_type": "markdown",
   "metadata": {},
   "source": [
    "#### 2.5.4C Refinery to City Distances by PAD<a id='2.5.4C_Refinery_to_City_Distances_by_PAD'></a>"
   ]
  },
  {
   "cell_type": "markdown",
   "metadata": {},
   "source": [
    "As earlier noted, we are continuing to populate this dataset and making progress - we have collected distance data using Google's free (but daily capped) API for  17 out of target 66 destination cities. However, we can already determine by looking at the structure that the useful categorical feature would be the 'State' label, which we can then cross-reference with the PAD district category in the Refinery Profile data sets."
   ]
  },
  {
   "cell_type": "code",
   "execution_count": 95,
   "metadata": {},
   "outputs": [
    {
     "data": {
      "text/html": [
       "<div>\n",
       "<style scoped>\n",
       "    .dataframe tbody tr th:only-of-type {\n",
       "        vertical-align: middle;\n",
       "    }\n",
       "\n",
       "    .dataframe tbody tr th {\n",
       "        vertical-align: top;\n",
       "    }\n",
       "\n",
       "    .dataframe thead th {\n",
       "        text-align: right;\n",
       "    }\n",
       "</style>\n",
       "<table border=\"1\" class=\"dataframe\">\n",
       "  <thead>\n",
       "    <tr style=\"text-align: right;\">\n",
       "      <th></th>\n",
       "      <th>Refi_ID</th>\n",
       "      <th>Refinery_City</th>\n",
       "      <th>Major City</th>\n",
       "      <th>New York, New York</th>\n",
       "      <th>New York, New York Distance</th>\n",
       "      <th>Los Angeles, California</th>\n",
       "      <th>Los Angeles, California Distance</th>\n",
       "      <th>Chicago, Illinois</th>\n",
       "      <th>Chicago, Illinois Distance</th>\n",
       "      <th>Houston, Texas</th>\n",
       "      <th>...</th>\n",
       "      <th>Stockton, California</th>\n",
       "      <th>Stockton, California.1</th>\n",
       "      <th>Saint Paul, Minnesota</th>\n",
       "      <th>Saint Paul, Minnesota.1</th>\n",
       "      <th>Cincinnati, Ohio</th>\n",
       "      <th>Cincinnati, Ohio.1</th>\n",
       "      <th>St. Louis, Missouri</th>\n",
       "      <th>St. Louis, Missouri.1</th>\n",
       "      <th>Pittsburgh, Pennsylvania</th>\n",
       "      <th>Pittsburgh, Pennsylvania.1</th>\n",
       "    </tr>\n",
       "  </thead>\n",
       "  <tbody>\n",
       "    <tr>\n",
       "      <th>0</th>\n",
       "      <td>1.0</td>\n",
       "      <td>Saraland, Alabama</td>\n",
       "      <td>New York, New York</td>\n",
       "      <td>New York, New York</td>\n",
       "      <td>1,181 mi</td>\n",
       "      <td>Los Angeles, California</td>\n",
       "      <td>2,021 mi</td>\n",
       "      <td>Chicago, Illinois</td>\n",
       "      <td>906 mi</td>\n",
       "      <td>Houston, Texas</td>\n",
       "      <td>...</td>\n",
       "      <td>Stockton, California</td>\n",
       "      <td>NaN</td>\n",
       "      <td>Saint Paul, Minnesota</td>\n",
       "      <td>NaN</td>\n",
       "      <td>Cincinnati, Ohio</td>\n",
       "      <td>NaN</td>\n",
       "      <td>St. Louis, Missouri</td>\n",
       "      <td>NaN</td>\n",
       "      <td>Pittsburgh, Pennsylvania</td>\n",
       "      <td>NaN</td>\n",
       "    </tr>\n",
       "    <tr>\n",
       "      <th>1</th>\n",
       "      <td>2.0</td>\n",
       "      <td>Tuscaloosa, Alabama</td>\n",
       "      <td>Los Angeles, California</td>\n",
       "      <td>New York, New York</td>\n",
       "      <td>1,020 mi</td>\n",
       "      <td>Los Angeles, California</td>\n",
       "      <td>2,021 mi</td>\n",
       "      <td>Chicago, Illinois</td>\n",
       "      <td>716 mi</td>\n",
       "      <td>Houston, Texas</td>\n",
       "      <td>...</td>\n",
       "      <td>Stockton, California</td>\n",
       "      <td>NaN</td>\n",
       "      <td>Saint Paul, Minnesota</td>\n",
       "      <td>NaN</td>\n",
       "      <td>Cincinnati, Ohio</td>\n",
       "      <td>NaN</td>\n",
       "      <td>St. Louis, Missouri</td>\n",
       "      <td>NaN</td>\n",
       "      <td>Pittsburgh, Pennsylvania</td>\n",
       "      <td>NaN</td>\n",
       "    </tr>\n",
       "  </tbody>\n",
       "</table>\n",
       "<p>2 rows × 137 columns</p>\n",
       "</div>"
      ],
      "text/plain": [
       "   Refi_ID        Refinery_City               Major City  New York, New York  \\\n",
       "0      1.0    Saraland, Alabama       New York, New York  New York, New York   \n",
       "1      2.0  Tuscaloosa, Alabama  Los Angeles, California  New York, New York   \n",
       "\n",
       "  New York, New York Distance  Los Angeles, California  \\\n",
       "0                    1,181 mi  Los Angeles, California   \n",
       "1                    1,020 mi  Los Angeles, California   \n",
       "\n",
       "  Los Angeles, California Distance  Chicago, Illinois  \\\n",
       "0                         2,021 mi  Chicago, Illinois   \n",
       "1                         2,021 mi  Chicago, Illinois   \n",
       "\n",
       "  Chicago, Illinois Distance  Houston, Texas  ...  Stockton, California  \\\n",
       "0                     906 mi  Houston, Texas  ...  Stockton, California   \n",
       "1                     716 mi  Houston, Texas  ...  Stockton, California   \n",
       "\n",
       "  Stockton, California.1  Saint Paul, Minnesota Saint Paul, Minnesota.1  \\\n",
       "0                    NaN  Saint Paul, Minnesota                     NaN   \n",
       "1                    NaN  Saint Paul, Minnesota                     NaN   \n",
       "\n",
       "   Cincinnati, Ohio Cincinnati, Ohio.1  St. Louis, Missouri  \\\n",
       "0  Cincinnati, Ohio                NaN  St. Louis, Missouri   \n",
       "1  Cincinnati, Ohio                NaN  St. Louis, Missouri   \n",
       "\n",
       "  St. Louis, Missouri.1  Pittsburgh, Pennsylvania Pittsburgh, Pennsylvania.1  \n",
       "0                   NaN  Pittsburgh, Pennsylvania                        NaN  \n",
       "1                   NaN  Pittsburgh, Pennsylvania                        NaN  \n",
       "\n",
       "[2 rows x 137 columns]"
      ]
     },
     "execution_count": 95,
     "metadata": {},
     "output_type": "execute_result"
    }
   ],
   "source": [
    "Refinery_City300K_Distances.head(2)"
   ]
  },
  {
   "cell_type": "markdown",
   "metadata": {},
   "source": [
    "#### 2.5.5 Crude API Categories<a id='2.5.5_Audit_Crude_API_Categories'></a>"
   ]
  },
  {
   "cell_type": "markdown",
   "metadata": {},
   "source": [
    "Similarly to refinery profile datasets, there are 6 dataframes on Crude API types: 1 at country level (US), and 6 at PAD district level (PAD-1 through PAD-5). The common categorical feature across them are the Process type ('Type_Code' column) and the lowest level location info ('State' column)"
   ]
  },
  {
   "cell_type": "code",
   "execution_count": 96,
   "metadata": {},
   "outputs": [
    {
     "data": {
      "text/html": [
       "<div>\n",
       "<style scoped>\n",
       "    .dataframe tbody tr th:only-of-type {\n",
       "        vertical-align: middle;\n",
       "    }\n",
       "\n",
       "    .dataframe tbody tr th {\n",
       "        vertical-align: top;\n",
       "    }\n",
       "\n",
       "    .dataframe thead th {\n",
       "        text-align: right;\n",
       "    }\n",
       "</style>\n",
       "<table border=\"1\" class=\"dataframe\">\n",
       "  <thead>\n",
       "    <tr style=\"text-align: right;\">\n",
       "      <th></th>\n",
       "      <th>Date</th>\n",
       "      <th>U.S. API Gravity (Weighted Average) of Crude Oil Input to Refineries (Degrees)</th>\n",
       "    </tr>\n",
       "  </thead>\n",
       "  <tbody>\n",
       "    <tr>\n",
       "      <th>0</th>\n",
       "      <td>Date</td>\n",
       "      <td>USA</td>\n",
       "    </tr>\n",
       "    <tr>\n",
       "      <th>1</th>\n",
       "      <td>2013-01-15 00:00:00</td>\n",
       "      <td>30.75</td>\n",
       "    </tr>\n",
       "  </tbody>\n",
       "</table>\n",
       "</div>"
      ],
      "text/plain": [
       "                  Date  \\\n",
       "0                 Date   \n",
       "1  2013-01-15 00:00:00   \n",
       "\n",
       "  U.S. API Gravity (Weighted Average) of Crude Oil Input to Refineries (Degrees)  \n",
       "0                                                USA                              \n",
       "1                                              30.75                              "
      ]
     },
     "execution_count": 96,
     "metadata": {},
     "output_type": "execute_result"
    }
   ],
   "source": [
    "API_US.head(2)"
   ]
  },
  {
   "cell_type": "markdown",
   "metadata": {},
   "source": [
    "On a second though, maybe separating the Crude API data sets into separate dataframes was not such a good idea. Let's just merge them all back and then melt, so that the Categorical feature for location (PAD) will actually become useful."
   ]
  },
  {
   "cell_type": "code",
   "execution_count": 97,
   "metadata": {},
   "outputs": [],
   "source": [
    "API_ALL = pd.concat([API_US, API_PAD_1, API_PAD_2, API_PAD_3, API_PAD_4, API_PAD_5], axis=1)"
   ]
  },
  {
   "cell_type": "code",
   "execution_count": 98,
   "metadata": {},
   "outputs": [
    {
     "data": {
      "text/html": [
       "<div>\n",
       "<style scoped>\n",
       "    .dataframe tbody tr th:only-of-type {\n",
       "        vertical-align: middle;\n",
       "    }\n",
       "\n",
       "    .dataframe tbody tr th {\n",
       "        vertical-align: top;\n",
       "    }\n",
       "\n",
       "    .dataframe thead th {\n",
       "        text-align: right;\n",
       "    }\n",
       "</style>\n",
       "<table border=\"1\" class=\"dataframe\">\n",
       "  <thead>\n",
       "    <tr style=\"text-align: right;\">\n",
       "      <th></th>\n",
       "      <th>Date</th>\n",
       "      <th>U.S. API Gravity (Weighted Average) of Crude Oil Input to Refineries (Degrees)</th>\n",
       "      <th>Date</th>\n",
       "      <th>East Coast (PADD 1) API Gravity (Weighted Average) of Crude Oil Input to Refineries (Degrees)</th>\n",
       "      <th>Date</th>\n",
       "      <th>Midwest (PADD 2) API Gravity (Weighted Average) of Crude Oil Input to Refineries (Degrees)</th>\n",
       "      <th>Date</th>\n",
       "      <th>Gulf Coast (PADD 3) API Gravity (Weighted Average) of Crude Oil Input to Refineries (Degrees)</th>\n",
       "      <th>Date</th>\n",
       "      <th>Rocky Mountains (PADD 4) API Gravity (Weighted Average) of Crude Oil Input to Refineries (Degrees)</th>\n",
       "      <th>Date</th>\n",
       "      <th>West Coast (PADD 5) API Gravity (Weighted Average) of Crude Oil Input to Refineries (Degrees)</th>\n",
       "    </tr>\n",
       "  </thead>\n",
       "  <tbody>\n",
       "    <tr>\n",
       "      <th>0</th>\n",
       "      <td>Date</td>\n",
       "      <td>USA</td>\n",
       "      <td>Date</td>\n",
       "      <td>PAD-1</td>\n",
       "      <td>Date</td>\n",
       "      <td>PAD-2</td>\n",
       "      <td>Date</td>\n",
       "      <td>PAD-3</td>\n",
       "      <td>Date</td>\n",
       "      <td>PAD-4</td>\n",
       "      <td>Date</td>\n",
       "      <td>PAD-5</td>\n",
       "    </tr>\n",
       "    <tr>\n",
       "      <th>1</th>\n",
       "      <td>2013-01-15 00:00:00</td>\n",
       "      <td>30.75</td>\n",
       "      <td>2013-01-15 00:00:00</td>\n",
       "      <td>33.99</td>\n",
       "      <td>2013-01-15 00:00:00</td>\n",
       "      <td>32.79</td>\n",
       "      <td>2013-01-15 00:00:00</td>\n",
       "      <td>30.33</td>\n",
       "      <td>2013-01-15 00:00:00</td>\n",
       "      <td>32.7</td>\n",
       "      <td>2013-01-15 00:00:00</td>\n",
       "      <td>27.24</td>\n",
       "    </tr>\n",
       "  </tbody>\n",
       "</table>\n",
       "</div>"
      ],
      "text/plain": [
       "                  Date  \\\n",
       "0                 Date   \n",
       "1  2013-01-15 00:00:00   \n",
       "\n",
       "  U.S. API Gravity (Weighted Average) of Crude Oil Input to Refineries (Degrees)  \\\n",
       "0                                                USA                               \n",
       "1                                              30.75                               \n",
       "\n",
       "                  Date  \\\n",
       "0                 Date   \n",
       "1  2013-01-15 00:00:00   \n",
       "\n",
       "  East Coast (PADD 1) API Gravity (Weighted Average) of Crude Oil Input to Refineries (Degrees)   \\\n",
       "0                                              PAD-1                                               \n",
       "1                                              33.99                                               \n",
       "\n",
       "                  Date  \\\n",
       "0                 Date   \n",
       "1  2013-01-15 00:00:00   \n",
       "\n",
       "  Midwest (PADD 2) API Gravity (Weighted Average) of Crude Oil Input to Refineries (Degrees)  \\\n",
       "0                                              PAD-2                                           \n",
       "1                                              32.79                                           \n",
       "\n",
       "                  Date  \\\n",
       "0                 Date   \n",
       "1  2013-01-15 00:00:00   \n",
       "\n",
       "  Gulf Coast (PADD 3) API Gravity (Weighted Average) of Crude Oil Input to Refineries (Degrees)  \\\n",
       "0                                              PAD-3                                              \n",
       "1                                              30.33                                              \n",
       "\n",
       "                  Date  \\\n",
       "0                 Date   \n",
       "1  2013-01-15 00:00:00   \n",
       "\n",
       "  Rocky Mountains (PADD 4) API Gravity (Weighted Average) of Crude Oil Input to Refineries (Degrees)  \\\n",
       "0                                              PAD-4                                                   \n",
       "1                                               32.7                                                   \n",
       "\n",
       "                  Date  \\\n",
       "0                 Date   \n",
       "1  2013-01-15 00:00:00   \n",
       "\n",
       "  West Coast (PADD 5) API Gravity (Weighted Average) of Crude Oil Input to Refineries (Degrees)  \n",
       "0                                              PAD-5                                             \n",
       "1                                              27.24                                             "
      ]
     },
     "execution_count": 98,
     "metadata": {},
     "output_type": "execute_result"
    }
   ],
   "source": [
    "API_ALL.head(2)"
   ]
  },
  {
   "cell_type": "markdown",
   "metadata": {},
   "source": [
    "Get rid of duplicate 'Date' columns:"
   ]
  },
  {
   "cell_type": "code",
   "execution_count": 99,
   "metadata": {},
   "outputs": [],
   "source": [
    "API_ALL = API_ALL.iloc[:,[0,1,3,5,7,9,11]]"
   ]
  },
  {
   "cell_type": "code",
   "execution_count": 100,
   "metadata": {},
   "outputs": [
    {
     "data": {
      "text/html": [
       "<div>\n",
       "<style scoped>\n",
       "    .dataframe tbody tr th:only-of-type {\n",
       "        vertical-align: middle;\n",
       "    }\n",
       "\n",
       "    .dataframe tbody tr th {\n",
       "        vertical-align: top;\n",
       "    }\n",
       "\n",
       "    .dataframe thead th {\n",
       "        text-align: right;\n",
       "    }\n",
       "</style>\n",
       "<table border=\"1\" class=\"dataframe\">\n",
       "  <thead>\n",
       "    <tr style=\"text-align: right;\">\n",
       "      <th></th>\n",
       "      <th>Date</th>\n",
       "      <th>U.S. API Gravity (Weighted Average) of Crude Oil Input to Refineries (Degrees)</th>\n",
       "      <th>East Coast (PADD 1) API Gravity (Weighted Average) of Crude Oil Input to Refineries (Degrees)</th>\n",
       "      <th>Midwest (PADD 2) API Gravity (Weighted Average) of Crude Oil Input to Refineries (Degrees)</th>\n",
       "      <th>Gulf Coast (PADD 3) API Gravity (Weighted Average) of Crude Oil Input to Refineries (Degrees)</th>\n",
       "      <th>Rocky Mountains (PADD 4) API Gravity (Weighted Average) of Crude Oil Input to Refineries (Degrees)</th>\n",
       "      <th>West Coast (PADD 5) API Gravity (Weighted Average) of Crude Oil Input to Refineries (Degrees)</th>\n",
       "    </tr>\n",
       "  </thead>\n",
       "  <tbody>\n",
       "    <tr>\n",
       "      <th>0</th>\n",
       "      <td>Date</td>\n",
       "      <td>USA</td>\n",
       "      <td>PAD-1</td>\n",
       "      <td>PAD-2</td>\n",
       "      <td>PAD-3</td>\n",
       "      <td>PAD-4</td>\n",
       "      <td>PAD-5</td>\n",
       "    </tr>\n",
       "    <tr>\n",
       "      <th>1</th>\n",
       "      <td>2013-01-15 00:00:00</td>\n",
       "      <td>30.75</td>\n",
       "      <td>33.99</td>\n",
       "      <td>32.79</td>\n",
       "      <td>30.33</td>\n",
       "      <td>32.7</td>\n",
       "      <td>27.24</td>\n",
       "    </tr>\n",
       "  </tbody>\n",
       "</table>\n",
       "</div>"
      ],
      "text/plain": [
       "                  Date  \\\n",
       "0                 Date   \n",
       "1  2013-01-15 00:00:00   \n",
       "\n",
       "  U.S. API Gravity (Weighted Average) of Crude Oil Input to Refineries (Degrees)  \\\n",
       "0                                                USA                               \n",
       "1                                              30.75                               \n",
       "\n",
       "  East Coast (PADD 1) API Gravity (Weighted Average) of Crude Oil Input to Refineries (Degrees)   \\\n",
       "0                                              PAD-1                                               \n",
       "1                                              33.99                                               \n",
       "\n",
       "  Midwest (PADD 2) API Gravity (Weighted Average) of Crude Oil Input to Refineries (Degrees)  \\\n",
       "0                                              PAD-2                                           \n",
       "1                                              32.79                                           \n",
       "\n",
       "  Gulf Coast (PADD 3) API Gravity (Weighted Average) of Crude Oil Input to Refineries (Degrees)  \\\n",
       "0                                              PAD-3                                              \n",
       "1                                              30.33                                              \n",
       "\n",
       "  Rocky Mountains (PADD 4) API Gravity (Weighted Average) of Crude Oil Input to Refineries (Degrees)  \\\n",
       "0                                              PAD-4                                                   \n",
       "1                                               32.7                                                   \n",
       "\n",
       "  West Coast (PADD 5) API Gravity (Weighted Average) of Crude Oil Input to Refineries (Degrees)  \n",
       "0                                              PAD-5                                             \n",
       "1                                              27.24                                             "
      ]
     },
     "execution_count": 100,
     "metadata": {},
     "output_type": "execute_result"
    }
   ],
   "source": [
    "API_ALL.head(2)"
   ]
  },
  {
   "cell_type": "code",
   "execution_count": 101,
   "metadata": {},
   "outputs": [],
   "source": [
    "API_ALL.columns = ['Date', 'US', 'PAD-1', 'PAD-2', 'PAD-3', 'PAD-4', 'PAD-5']\n",
    "API_ALL = API_ALL.drop(0)"
   ]
  },
  {
   "cell_type": "code",
   "execution_count": 102,
   "metadata": {},
   "outputs": [
    {
     "data": {
      "text/html": [
       "<div>\n",
       "<style scoped>\n",
       "    .dataframe tbody tr th:only-of-type {\n",
       "        vertical-align: middle;\n",
       "    }\n",
       "\n",
       "    .dataframe tbody tr th {\n",
       "        vertical-align: top;\n",
       "    }\n",
       "\n",
       "    .dataframe thead th {\n",
       "        text-align: right;\n",
       "    }\n",
       "</style>\n",
       "<table border=\"1\" class=\"dataframe\">\n",
       "  <thead>\n",
       "    <tr style=\"text-align: right;\">\n",
       "      <th></th>\n",
       "      <th>Date</th>\n",
       "      <th>US</th>\n",
       "      <th>PAD-1</th>\n",
       "      <th>PAD-2</th>\n",
       "      <th>PAD-3</th>\n",
       "      <th>PAD-4</th>\n",
       "      <th>PAD-5</th>\n",
       "    </tr>\n",
       "  </thead>\n",
       "  <tbody>\n",
       "    <tr>\n",
       "      <th>1</th>\n",
       "      <td>2013-01-15 00:00:00</td>\n",
       "      <td>30.75</td>\n",
       "      <td>33.99</td>\n",
       "      <td>32.79</td>\n",
       "      <td>30.33</td>\n",
       "      <td>32.7</td>\n",
       "      <td>27.24</td>\n",
       "    </tr>\n",
       "    <tr>\n",
       "      <th>2</th>\n",
       "      <td>2013-02-15 00:00:00</td>\n",
       "      <td>30.58</td>\n",
       "      <td>33.07</td>\n",
       "      <td>32.5</td>\n",
       "      <td>30.46</td>\n",
       "      <td>33.19</td>\n",
       "      <td>26.7</td>\n",
       "    </tr>\n",
       "  </tbody>\n",
       "</table>\n",
       "</div>"
      ],
      "text/plain": [
       "                  Date     US  PAD-1  PAD-2  PAD-3  PAD-4  PAD-5\n",
       "1  2013-01-15 00:00:00  30.75  33.99  32.79  30.33   32.7  27.24\n",
       "2  2013-02-15 00:00:00  30.58  33.07   32.5  30.46  33.19   26.7"
      ]
     },
     "execution_count": 102,
     "metadata": {},
     "output_type": "execute_result"
    }
   ],
   "source": [
    "API_ALL.head(2)"
   ]
  },
  {
   "cell_type": "markdown",
   "metadata": {},
   "source": [
    "That's more like it. Now melt it to produce a two-column datafeame with location label as a categorical feature for the Crude API data:"
   ]
  },
  {
   "cell_type": "code",
   "execution_count": 103,
   "metadata": {},
   "outputs": [],
   "source": [
    "# Melt the API_ALL dataframe into Crude API data labeled\n",
    "# by corresponding Location Category, i.e. at Country ('US') and PAD District level:\n",
    "API_ALL_melted = API_ALL\n",
    "API_ALL_melted = pd.melt(API_ALL_melted, id_vars=['Date'], var_name=['PAD Group'], value_name='API')"
   ]
  },
  {
   "cell_type": "code",
   "execution_count": 104,
   "metadata": {},
   "outputs": [
    {
     "data": {
      "text/html": [
       "<div>\n",
       "<style scoped>\n",
       "    .dataframe tbody tr th:only-of-type {\n",
       "        vertical-align: middle;\n",
       "    }\n",
       "\n",
       "    .dataframe tbody tr th {\n",
       "        vertical-align: top;\n",
       "    }\n",
       "\n",
       "    .dataframe thead th {\n",
       "        text-align: right;\n",
       "    }\n",
       "</style>\n",
       "<table border=\"1\" class=\"dataframe\">\n",
       "  <thead>\n",
       "    <tr style=\"text-align: right;\">\n",
       "      <th></th>\n",
       "      <th>Date</th>\n",
       "      <th>PAD Group</th>\n",
       "      <th>API</th>\n",
       "    </tr>\n",
       "  </thead>\n",
       "  <tbody>\n",
       "    <tr>\n",
       "      <th>0</th>\n",
       "      <td>2013-01-15</td>\n",
       "      <td>US</td>\n",
       "      <td>30.75</td>\n",
       "    </tr>\n",
       "    <tr>\n",
       "      <th>1</th>\n",
       "      <td>2013-02-15</td>\n",
       "      <td>US</td>\n",
       "      <td>30.58</td>\n",
       "    </tr>\n",
       "  </tbody>\n",
       "</table>\n",
       "</div>"
      ],
      "text/plain": [
       "        Date PAD Group    API\n",
       "0 2013-01-15        US  30.75\n",
       "1 2013-02-15        US  30.58"
      ]
     },
     "execution_count": 104,
     "metadata": {},
     "output_type": "execute_result"
    }
   ],
   "source": [
    "API_ALL_melted.head(2)"
   ]
  },
  {
   "cell_type": "code",
   "execution_count": 105,
   "metadata": {},
   "outputs": [
    {
     "data": {
      "text/plain": [
       "PAD-4    95\n",
       "PAD-1    95\n",
       "US       95\n",
       "PAD-2    95\n",
       "PAD-3    95\n",
       "PAD-5    95\n",
       "Name: PAD Group, dtype: int64"
      ]
     },
     "execution_count": 105,
     "metadata": {},
     "output_type": "execute_result"
    }
   ],
   "source": [
    "API_ALL_melted[\"PAD Group\"].value_counts()"
   ]
  },
  {
   "cell_type": "markdown",
   "metadata": {},
   "source": [
    "* this looks good."
   ]
  },
  {
   "cell_type": "markdown",
   "metadata": {},
   "source": [
    "#### 2.5.6A Population Data Categories<a id='2.5.6A_Population_Data_Categories'></a>"
   ]
  },
  {
   "cell_type": "code",
   "execution_count": 106,
   "metadata": {},
   "outputs": [
    {
     "data": {
      "text/html": [
       "<div>\n",
       "<style scoped>\n",
       "    .dataframe tbody tr th:only-of-type {\n",
       "        vertical-align: middle;\n",
       "    }\n",
       "\n",
       "    .dataframe tbody tr th {\n",
       "        vertical-align: top;\n",
       "    }\n",
       "\n",
       "    .dataframe thead th {\n",
       "        text-align: right;\n",
       "    }\n",
       "</style>\n",
       "<table border=\"1\" class=\"dataframe\">\n",
       "  <thead>\n",
       "    <tr style=\"text-align: right;\">\n",
       "      <th></th>\n",
       "      <th>PAD_ID</th>\n",
       "      <th>PAD_SUB_ID</th>\n",
       "      <th>Rank</th>\n",
       "      <th>Geographic_Area</th>\n",
       "      <th>State</th>\n",
       "      <th>City</th>\n",
       "      <th>City_State</th>\n",
       "      <th>2010</th>\n",
       "      <th>2011</th>\n",
       "      <th>2012</th>\n",
       "      <th>2013</th>\n",
       "      <th>2014</th>\n",
       "      <th>2015</th>\n",
       "      <th>2016</th>\n",
       "      <th>2017</th>\n",
       "      <th>2018</th>\n",
       "      <th>2019</th>\n",
       "    </tr>\n",
       "  </thead>\n",
       "  <tbody>\n",
       "    <tr>\n",
       "      <th>0</th>\n",
       "      <td>PAD-1</td>\n",
       "      <td>PAD-1B</td>\n",
       "      <td>1</td>\n",
       "      <td>New York city, New York</td>\n",
       "      <td>New York</td>\n",
       "      <td>New York</td>\n",
       "      <td>New York, New York</td>\n",
       "      <td>8190209</td>\n",
       "      <td>8272948</td>\n",
       "      <td>8346693</td>\n",
       "      <td>8396091</td>\n",
       "      <td>8433806</td>\n",
       "      <td>8463049</td>\n",
       "      <td>8469153</td>\n",
       "      <td>8437478</td>\n",
       "      <td>8390081</td>\n",
       "      <td>8336817</td>\n",
       "    </tr>\n",
       "    <tr>\n",
       "      <th>1</th>\n",
       "      <td>PAD-5</td>\n",
       "      <td>PAD-5</td>\n",
       "      <td>2</td>\n",
       "      <td>Los Angeles city, California</td>\n",
       "      <td>California</td>\n",
       "      <td>Los Angeles</td>\n",
       "      <td>Los Angeles, California</td>\n",
       "      <td>3795512</td>\n",
       "      <td>3820876</td>\n",
       "      <td>3851202</td>\n",
       "      <td>3881622</td>\n",
       "      <td>3909901</td>\n",
       "      <td>3938568</td>\n",
       "      <td>3963226</td>\n",
       "      <td>3975788</td>\n",
       "      <td>3977596</td>\n",
       "      <td>3979576</td>\n",
       "    </tr>\n",
       "  </tbody>\n",
       "</table>\n",
       "</div>"
      ],
      "text/plain": [
       "  PAD_ID PAD_SUB_ID  Rank               Geographic_Area       State  \\\n",
       "0  PAD-1     PAD-1B     1       New York city, New York    New York   \n",
       "1  PAD-5      PAD-5     2  Los Angeles city, California  California   \n",
       "\n",
       "          City               City_State     2010     2011     2012     2013  \\\n",
       "0     New York       New York, New York  8190209  8272948  8346693  8396091   \n",
       "1  Los Angeles  Los Angeles, California  3795512  3820876  3851202  3881622   \n",
       "\n",
       "      2014     2015     2016     2017     2018     2019  \n",
       "0  8433806  8463049  8469153  8437478  8390081  8336817  \n",
       "1  3909901  3938568  3963226  3975788  3977596  3979576  "
      ]
     },
     "execution_count": 106,
     "metadata": {},
     "output_type": "execute_result"
    }
   ],
   "source": [
    "Pop_by_Cities_raw.head(2)"
   ]
  },
  {
   "cell_type": "markdown",
   "metadata": {},
   "source": [
    "* Same as with product prices data, city population ranking data is already properly labeled with location (PAD district) identifiers, which is the useful categorical feature of this dataset."
   ]
  },
  {
   "cell_type": "markdown",
   "metadata": {},
   "source": [
    "### 2.6 Numeric Features<a id='2.6_Numeric_Features'></a>"
   ]
  },
  {
   "cell_type": "markdown",
   "metadata": {},
   "source": [
    "Let's review numeric features of the following datasets that we will make up the resulting dataset for the modeling later."
   ]
  },
  {
   "cell_type": "markdown",
   "metadata": {},
   "source": [
    "#### 2.6.4B US Refining Capacities <a id='2.6.4B_Refinery_Capacities'></a>"
   ]
  },
  {
   "cell_type": "markdown",
   "metadata": {},
   "source": [
    "##### Refinery Profile Data:"
   ]
  },
  {
   "cell_type": "code",
   "execution_count": 107,
   "metadata": {},
   "outputs": [
    {
     "data": {
      "text/html": [
       "<div>\n",
       "<style scoped>\n",
       "    .dataframe tbody tr th:only-of-type {\n",
       "        vertical-align: middle;\n",
       "    }\n",
       "\n",
       "    .dataframe tbody tr th {\n",
       "        vertical-align: top;\n",
       "    }\n",
       "\n",
       "    .dataframe thead th {\n",
       "        text-align: right;\n",
       "    }\n",
       "</style>\n",
       "<table border=\"1\" class=\"dataframe\">\n",
       "  <thead>\n",
       "    <tr style=\"text-align: right;\">\n",
       "      <th></th>\n",
       "      <th>count</th>\n",
       "      <th>mean</th>\n",
       "      <th>std</th>\n",
       "      <th>min</th>\n",
       "      <th>25%</th>\n",
       "      <th>50%</th>\n",
       "      <th>75%</th>\n",
       "      <th>max</th>\n",
       "    </tr>\n",
       "  </thead>\n",
       "  <tbody>\n",
       "    <tr>\n",
       "      <th>Rec_ID</th>\n",
       "      <td>10.0</td>\n",
       "      <td>2.080000e+02</td>\n",
       "      <td>1.392719e+02</td>\n",
       "      <td>1.0</td>\n",
       "      <td>104.5</td>\n",
       "      <td>208.0</td>\n",
       "      <td>311.5</td>\n",
       "      <td>415.0</td>\n",
       "    </tr>\n",
       "    <tr>\n",
       "      <th>Year</th>\n",
       "      <td>10.0</td>\n",
       "      <td>2.020000e+03</td>\n",
       "      <td>0.000000e+00</td>\n",
       "      <td>2020.0</td>\n",
       "      <td>2020.0</td>\n",
       "      <td>2020.0</td>\n",
       "      <td>2020.0</td>\n",
       "      <td>2020.0</td>\n",
       "    </tr>\n",
       "    <tr>\n",
       "      <th>Op_Cap_BPSD</th>\n",
       "      <td>9.0</td>\n",
       "      <td>6.951088e+06</td>\n",
       "      <td>7.265480e+06</td>\n",
       "      <td>61890.0</td>\n",
       "      <td>2505000.0</td>\n",
       "      <td>3809028.0</td>\n",
       "      <td>9170843.0</td>\n",
       "      <td>19634219.0</td>\n",
       "    </tr>\n",
       "    <tr>\n",
       "      <th>Idle_Cap_BPSD</th>\n",
       "      <td>1.0</td>\n",
       "      <td>4.580000e+05</td>\n",
       "      <td>NaN</td>\n",
       "      <td>458000.0</td>\n",
       "      <td>458000.0</td>\n",
       "      <td>458000.0</td>\n",
       "      <td>458000.0</td>\n",
       "      <td>458000.0</td>\n",
       "    </tr>\n",
       "    <tr>\n",
       "      <th>Cap_BPSD</th>\n",
       "      <td>1.0</td>\n",
       "      <td>2.009222e+07</td>\n",
       "      <td>NaN</td>\n",
       "      <td>20092219.0</td>\n",
       "      <td>20092219.0</td>\n",
       "      <td>20092219.0</td>\n",
       "      <td>20092219.0</td>\n",
       "      <td>20092219.0</td>\n",
       "    </tr>\n",
       "    <tr>\n",
       "      <th>Cap_BPCD</th>\n",
       "      <td>5.0</td>\n",
       "      <td>6.629658e+06</td>\n",
       "      <td>7.013966e+06</td>\n",
       "      <td>2296131.0</td>\n",
       "      <td>2793506.0</td>\n",
       "      <td>3509171.0</td>\n",
       "      <td>5573398.0</td>\n",
       "      <td>18976085.0</td>\n",
       "    </tr>\n",
       "  </tbody>\n",
       "</table>\n",
       "</div>"
      ],
      "text/plain": [
       "               count          mean           std         min         25%  \\\n",
       "Rec_ID          10.0  2.080000e+02  1.392719e+02         1.0       104.5   \n",
       "Year            10.0  2.020000e+03  0.000000e+00      2020.0      2020.0   \n",
       "Op_Cap_BPSD      9.0  6.951088e+06  7.265480e+06     61890.0   2505000.0   \n",
       "Idle_Cap_BPSD    1.0  4.580000e+05           NaN    458000.0    458000.0   \n",
       "Cap_BPSD         1.0  2.009222e+07           NaN  20092219.0  20092219.0   \n",
       "Cap_BPCD         5.0  6.629658e+06  7.013966e+06   2296131.0   2793506.0   \n",
       "\n",
       "                      50%         75%         max  \n",
       "Rec_ID              208.0       311.5       415.0  \n",
       "Year               2020.0      2020.0      2020.0  \n",
       "Op_Cap_BPSD     3809028.0   9170843.0  19634219.0  \n",
       "Idle_Cap_BPSD    458000.0    458000.0    458000.0  \n",
       "Cap_BPSD       20092219.0  20092219.0  20092219.0  \n",
       "Cap_BPCD        3509171.0   5573398.0  18976085.0  "
      ]
     },
     "execution_count": 107,
     "metadata": {},
     "output_type": "execute_result"
    }
   ],
   "source": [
    "US_refinery_cap_by_type.describe().T"
   ]
  },
  {
   "cell_type": "code",
   "execution_count": 108,
   "metadata": {},
   "outputs": [
    {
     "name": "stdout",
     "output_type": "stream",
     "text": [
      "<class 'pandas.core.frame.DataFrame'>\n",
      "Int64Index: 10 entries, 0 to 414\n",
      "Data columns (total 13 columns):\n",
      " #   Column         Non-Null Count  Dtype         \n",
      "---  ------         --------------  -----         \n",
      " 0   Rec_ID         10 non-null     int64         \n",
      " 1   ID             10 non-null     object        \n",
      " 2   Description    10 non-null     object        \n",
      " 3   Type_Code      10 non-null     object        \n",
      " 4   US             10 non-null     object        \n",
      " 5   PADD           10 non-null     object        \n",
      " 6   State          10 non-null     object        \n",
      " 7   Date           10 non-null     datetime64[ns]\n",
      " 8   Year           10 non-null     int64         \n",
      " 9   Op_Cap_BPSD    9 non-null      float64       \n",
      " 10  Idle_Cap_BPSD  1 non-null      float64       \n",
      " 11  Cap_BPSD       1 non-null      float64       \n",
      " 12  Cap_BPCD       5 non-null      float64       \n",
      "dtypes: datetime64[ns](1), float64(4), int64(2), object(6)\n",
      "memory usage: 1.1+ KB\n"
     ]
    }
   ],
   "source": [
    "US_refinery_cap_by_type.info()"
   ]
  },
  {
   "cell_type": "code",
   "execution_count": 109,
   "metadata": {},
   "outputs": [
    {
     "data": {
      "text/plain": [
       "Rec_ID           0\n",
       "ID               0\n",
       "Description      0\n",
       "Type_Code        0\n",
       "US               0\n",
       "PADD             0\n",
       "State            0\n",
       "Date             0\n",
       "Year             0\n",
       "Op_Cap_BPSD      0\n",
       "Idle_Cap_BPSD    4\n",
       "Cap_BPSD         4\n",
       "Cap_BPCD         3\n",
       "dtype: int64"
      ]
     },
     "execution_count": 109,
     "metadata": {},
     "output_type": "execute_result"
    }
   ],
   "source": [
    "US_refinery_cap_by_type.head().isna().sum()"
   ]
  },
  {
   "cell_type": "code",
   "execution_count": 110,
   "metadata": {},
   "outputs": [
    {
     "data": {
      "text/html": [
       "<div>\n",
       "<style scoped>\n",
       "    .dataframe tbody tr th:only-of-type {\n",
       "        vertical-align: middle;\n",
       "    }\n",
       "\n",
       "    .dataframe tbody tr th {\n",
       "        vertical-align: top;\n",
       "    }\n",
       "\n",
       "    .dataframe thead th {\n",
       "        text-align: right;\n",
       "    }\n",
       "</style>\n",
       "<table border=\"1\" class=\"dataframe\">\n",
       "  <thead>\n",
       "    <tr style=\"text-align: right;\">\n",
       "      <th></th>\n",
       "      <th>Rec_ID</th>\n",
       "      <th>ID</th>\n",
       "      <th>Description</th>\n",
       "      <th>Op_Cap_BPSD</th>\n",
       "      <th>Idle_Cap_BPSD</th>\n",
       "      <th>Cap_BPSD</th>\n",
       "      <th>Cap_BPCD</th>\n",
       "    </tr>\n",
       "  </thead>\n",
       "  <tbody>\n",
       "    <tr>\n",
       "      <th>0</th>\n",
       "      <td>1</td>\n",
       "      <td>ATMDIST-0001</td>\n",
       "      <td>Annual Operable Atmospheric Crude Oil Distilla...</td>\n",
       "      <td>19634219.0</td>\n",
       "      <td>458000.0</td>\n",
       "      <td>20092219.0</td>\n",
       "      <td>18976085.0</td>\n",
       "    </tr>\n",
       "    <tr>\n",
       "      <th>46</th>\n",
       "      <td>47</td>\n",
       "      <td>VACMDIST-0047</td>\n",
       "      <td>Vacuum Distillation (BPSD)</td>\n",
       "      <td>9170843.0</td>\n",
       "      <td>NaN</td>\n",
       "      <td>NaN</td>\n",
       "      <td>NaN</td>\n",
       "    </tr>\n",
       "    <tr>\n",
       "      <th>92</th>\n",
       "      <td>93</td>\n",
       "      <td>THERMCRCK-0093</td>\n",
       "      <td>THERMAL CRACKING (BPSD)</td>\n",
       "      <td>3069062.0</td>\n",
       "      <td>NaN</td>\n",
       "      <td>NaN</td>\n",
       "      <td>NaN</td>\n",
       "    </tr>\n",
       "    <tr>\n",
       "      <th>138</th>\n",
       "      <td>139</td>\n",
       "      <td>CATLYTCRCK-0139</td>\n",
       "      <td>Catalytic Cracking Fresh Feed</td>\n",
       "      <td>5988485.0</td>\n",
       "      <td>NaN</td>\n",
       "      <td>NaN</td>\n",
       "      <td>5573398.0</td>\n",
       "    </tr>\n",
       "    <tr>\n",
       "      <th>184</th>\n",
       "      <td>185</td>\n",
       "      <td>CATCRKRECYL-0185</td>\n",
       "      <td>Catalytic Cracking Recycle Feed Downstream Cha...</td>\n",
       "      <td>61890.0</td>\n",
       "      <td>NaN</td>\n",
       "      <td>NaN</td>\n",
       "      <td>NaN</td>\n",
       "    </tr>\n",
       "    <tr>\n",
       "      <th>230</th>\n",
       "      <td>231</td>\n",
       "      <td>CATHYDRCRCK-0231</td>\n",
       "      <td>Catalytic Hydrocracking</td>\n",
       "      <td>2505000.0</td>\n",
       "      <td>NaN</td>\n",
       "      <td>NaN</td>\n",
       "      <td>2296131.0</td>\n",
       "    </tr>\n",
       "    <tr>\n",
       "      <th>276</th>\n",
       "      <td>277</td>\n",
       "      <td>CATLREFORM-0277</td>\n",
       "      <td>Catalytic Reforming</td>\n",
       "      <td>3809028.0</td>\n",
       "      <td>NaN</td>\n",
       "      <td>NaN</td>\n",
       "      <td>3509171.0</td>\n",
       "    </tr>\n",
       "    <tr>\n",
       "      <th>322</th>\n",
       "      <td>323</td>\n",
       "      <td>CATHYDTRMT-0323</td>\n",
       "      <td>Catalytic Hydrotreating/Desulfurization (BPSD)</td>\n",
       "      <td>17925514.0</td>\n",
       "      <td>NaN</td>\n",
       "      <td>NaN</td>\n",
       "      <td>NaN</td>\n",
       "    </tr>\n",
       "    <tr>\n",
       "      <th>368</th>\n",
       "      <td>369</td>\n",
       "      <td>FUELSOLDEASP-0369</td>\n",
       "      <td>Fuels Solvent Deasphalting  (BPSD)</td>\n",
       "      <td>395750.0</td>\n",
       "      <td>NaN</td>\n",
       "      <td>NaN</td>\n",
       "      <td>NaN</td>\n",
       "    </tr>\n",
       "    <tr>\n",
       "      <th>414</th>\n",
       "      <td>415</td>\n",
       "      <td>COKING-0415</td>\n",
       "      <td>Coking (Barrels per Calendar Day)</td>\n",
       "      <td>NaN</td>\n",
       "      <td>NaN</td>\n",
       "      <td>NaN</td>\n",
       "      <td>2793506.0</td>\n",
       "    </tr>\n",
       "  </tbody>\n",
       "</table>\n",
       "</div>"
      ],
      "text/plain": [
       "     Rec_ID                 ID  \\\n",
       "0         1       ATMDIST-0001   \n",
       "46       47      VACMDIST-0047   \n",
       "92       93     THERMCRCK-0093   \n",
       "138     139    CATLYTCRCK-0139   \n",
       "184     185   CATCRKRECYL-0185   \n",
       "230     231   CATHYDRCRCK-0231   \n",
       "276     277    CATLREFORM-0277   \n",
       "322     323    CATHYDTRMT-0323   \n",
       "368     369  FUELSOLDEASP-0369   \n",
       "414     415        COKING-0415   \n",
       "\n",
       "                                           Description  Op_Cap_BPSD  \\\n",
       "0    Annual Operable Atmospheric Crude Oil Distilla...   19634219.0   \n",
       "46                          Vacuum Distillation (BPSD)    9170843.0   \n",
       "92                             THERMAL CRACKING (BPSD)    3069062.0   \n",
       "138                      Catalytic Cracking Fresh Feed    5988485.0   \n",
       "184  Catalytic Cracking Recycle Feed Downstream Cha...      61890.0   \n",
       "230                            Catalytic Hydrocracking    2505000.0   \n",
       "276                                Catalytic Reforming    3809028.0   \n",
       "322     Catalytic Hydrotreating/Desulfurization (BPSD)   17925514.0   \n",
       "368                 Fuels Solvent Deasphalting  (BPSD)     395750.0   \n",
       "414                 Coking (Barrels per Calendar Day)           NaN   \n",
       "\n",
       "     Idle_Cap_BPSD    Cap_BPSD    Cap_BPCD  \n",
       "0         458000.0  20092219.0  18976085.0  \n",
       "46             NaN         NaN         NaN  \n",
       "92             NaN         NaN         NaN  \n",
       "138            NaN         NaN   5573398.0  \n",
       "184            NaN         NaN         NaN  \n",
       "230            NaN         NaN   2296131.0  \n",
       "276            NaN         NaN   3509171.0  \n",
       "322            NaN         NaN         NaN  \n",
       "368            NaN         NaN         NaN  \n",
       "414            NaN         NaN   2793506.0  "
      ]
     },
     "execution_count": 110,
     "metadata": {},
     "output_type": "execute_result"
    }
   ],
   "source": [
    "US_refinery_cap_by_type.iloc[:,[0,1,2,9,10,11,12]]"
   ]
  },
  {
   "cell_type": "markdown",
   "metadata": {},
   "source": [
    "When we audited Refinery Profiles and have looked at their categorical features, we have seen that that are 132 refineries and 10 process type categories. We know (from prior domain research) that not a given refinery is not limited to just one process type and may have several. A given process might be just one of a chain of others, meaning the noted capacities per process type are not meant to add up to the actual total production capacity per refinery.\n",
    "\n",
    "Hence, some processes consist of mostly null values in a capacity category, depending whether it's considered a total operating, idle, or intermediate process capacity.\n",
    "\n",
    "Now that we are examing the numeric features, it is obvious that we will need to combine some portions of capacity data to arrive at the total numer that closer reflects the actual throughut volumes across refineries."
   ]
  },
  {
   "cell_type": "markdown",
   "metadata": {},
   "source": [
    "## 3. Review Distributions<a id='3_Review_Distributions'></a>"
   ]
  },
  {
   "cell_type": "code",
   "execution_count": 111,
   "metadata": {},
   "outputs": [
    {
     "data": {
      "text/html": [
       "<div>\n",
       "<style scoped>\n",
       "    .dataframe tbody tr th:only-of-type {\n",
       "        vertical-align: middle;\n",
       "    }\n",
       "\n",
       "    .dataframe tbody tr th {\n",
       "        vertical-align: top;\n",
       "    }\n",
       "\n",
       "    .dataframe thead th {\n",
       "        text-align: right;\n",
       "    }\n",
       "</style>\n",
       "<table border=\"1\" class=\"dataframe\">\n",
       "  <thead>\n",
       "    <tr style=\"text-align: right;\">\n",
       "      <th></th>\n",
       "      <th>Rec_ID</th>\n",
       "      <th>ID</th>\n",
       "      <th>Description</th>\n",
       "      <th>Type_Code</th>\n",
       "      <th>US</th>\n",
       "      <th>PADD</th>\n",
       "      <th>State</th>\n",
       "      <th>Date</th>\n",
       "      <th>Year</th>\n",
       "      <th>Op_Cap_BPSD</th>\n",
       "      <th>Idle_Cap_BPSD</th>\n",
       "      <th>Cap_BPSD</th>\n",
       "      <th>Cap_BPCD</th>\n",
       "    </tr>\n",
       "  </thead>\n",
       "  <tbody>\n",
       "    <tr>\n",
       "      <th>0</th>\n",
       "      <td>1</td>\n",
       "      <td>ATMDIST-0001</td>\n",
       "      <td>Annual Operable Atmospheric Crude Oil Distilla...</td>\n",
       "      <td>ATMDIST</td>\n",
       "      <td>US</td>\n",
       "      <td>US</td>\n",
       "      <td>US</td>\n",
       "      <td>2020-06-30</td>\n",
       "      <td>2020</td>\n",
       "      <td>19634219.0</td>\n",
       "      <td>458000.0</td>\n",
       "      <td>20092219.0</td>\n",
       "      <td>18976085.0</td>\n",
       "    </tr>\n",
       "    <tr>\n",
       "      <th>1</th>\n",
       "      <td>2</td>\n",
       "      <td>ATMDIST-0002</td>\n",
       "      <td>Annual Operable Atmospheric Crude Oil Distilla...</td>\n",
       "      <td>ATMDIST</td>\n",
       "      <td>US</td>\n",
       "      <td>PAD-1</td>\n",
       "      <td>PAD-1</td>\n",
       "      <td>2020-06-30</td>\n",
       "      <td>2020</td>\n",
       "      <td>941100.0</td>\n",
       "      <td>350000.0</td>\n",
       "      <td>1291100.0</td>\n",
       "      <td>1224000.0</td>\n",
       "    </tr>\n",
       "  </tbody>\n",
       "</table>\n",
       "</div>"
      ],
      "text/plain": [
       "   Rec_ID            ID                                        Description  \\\n",
       "0       1  ATMDIST-0001  Annual Operable Atmospheric Crude Oil Distilla...   \n",
       "1       2  ATMDIST-0002  Annual Operable Atmospheric Crude Oil Distilla...   \n",
       "\n",
       "  Type_Code  US   PADD  State       Date  Year  Op_Cap_BPSD  Idle_Cap_BPSD  \\\n",
       "0   ATMDIST  US     US     US 2020-06-30  2020   19634219.0       458000.0   \n",
       "1   ATMDIST  US  PAD-1  PAD-1 2020-06-30  2020     941100.0       350000.0   \n",
       "\n",
       "     Cap_BPSD    Cap_BPCD  \n",
       "0  20092219.0  18976085.0  \n",
       "1   1291100.0   1224000.0  "
      ]
     },
     "execution_count": 111,
     "metadata": {},
     "output_type": "execute_result"
    }
   ],
   "source": [
    "Refinery_Cap_ByType.head(2)"
   ]
  },
  {
   "cell_type": "code",
   "execution_count": 112,
   "metadata": {},
   "outputs": [
    {
     "data": {
      "text/html": [
       "<div>\n",
       "<style scoped>\n",
       "    .dataframe tbody tr th:only-of-type {\n",
       "        vertical-align: middle;\n",
       "    }\n",
       "\n",
       "    .dataframe tbody tr th {\n",
       "        vertical-align: top;\n",
       "    }\n",
       "\n",
       "    .dataframe thead th {\n",
       "        text-align: right;\n",
       "    }\n",
       "</style>\n",
       "<table border=\"1\" class=\"dataframe\">\n",
       "  <thead>\n",
       "    <tr style=\"text-align: right;\">\n",
       "      <th></th>\n",
       "      <th>Type_Code</th>\n",
       "      <th>PADD</th>\n",
       "      <th>Date</th>\n",
       "      <th>Op_Cap_BPSD</th>\n",
       "    </tr>\n",
       "  </thead>\n",
       "  <tbody>\n",
       "    <tr>\n",
       "      <th>1</th>\n",
       "      <td>ATMDIST</td>\n",
       "      <td>PAD-1</td>\n",
       "      <td>2020-06-30</td>\n",
       "      <td>941100.0</td>\n",
       "    </tr>\n",
       "    <tr>\n",
       "      <th>2</th>\n",
       "      <td>ATMDIST</td>\n",
       "      <td>PAD-1</td>\n",
       "      <td>2020-06-30</td>\n",
       "      <td>190200.0</td>\n",
       "    </tr>\n",
       "    <tr>\n",
       "      <th>3</th>\n",
       "      <td>ATMDIST</td>\n",
       "      <td>PAD-1</td>\n",
       "      <td>2020-06-30</td>\n",
       "      <td>0.0</td>\n",
       "    </tr>\n",
       "    <tr>\n",
       "      <th>4</th>\n",
       "      <td>ATMDIST</td>\n",
       "      <td>PAD-1</td>\n",
       "      <td>2020-06-30</td>\n",
       "      <td>0.0</td>\n",
       "    </tr>\n",
       "    <tr>\n",
       "      <th>5</th>\n",
       "      <td>ATMDIST</td>\n",
       "      <td>PAD-1</td>\n",
       "      <td>2020-06-30</td>\n",
       "      <td>0.0</td>\n",
       "    </tr>\n",
       "  </tbody>\n",
       "</table>\n",
       "</div>"
      ],
      "text/plain": [
       "  Type_Code   PADD       Date  Op_Cap_BPSD\n",
       "1   ATMDIST  PAD-1 2020-06-30     941100.0\n",
       "2   ATMDIST  PAD-1 2020-06-30     190200.0\n",
       "3   ATMDIST  PAD-1 2020-06-30          0.0\n",
       "4   ATMDIST  PAD-1 2020-06-30          0.0\n",
       "5   ATMDIST  PAD-1 2020-06-30          0.0"
      ]
     },
     "execution_count": 112,
     "metadata": {},
     "output_type": "execute_result"
    }
   ],
   "source": [
    "Refinery_CAP_hist = Refinery_Cap_ByType.iloc[:,[3,5,7,9]]\n",
    "Refinery_CAP_hist = Refinery_CAP_hist.loc[Refinery_CAP_hist.PADD!='US']\n",
    "Refinery_CAP_hist.head()"
   ]
  },
  {
   "cell_type": "code",
   "execution_count": 113,
   "metadata": {},
   "outputs": [
    {
     "data": {
      "image/png": "[encoded data removed]",
      "text/plain": [
       "<Figure size 432x288 with 1 Axes>"
      ]
     },
     "metadata": {
      "needs_background": "light"
     },
     "output_type": "display_data"
    }
   ],
   "source": [
    "# Refinery Capacities by Processing Type\n",
    "Refinery_CAP_hist.plot(x='Op_Cap_BPSD', y='Type_Code', kind='scatter');"
   ]
  },
  {
   "cell_type": "code",
   "execution_count": 114,
   "metadata": {},
   "outputs": [
    {
     "data": {
      "image/png": "[encoded data removed]",
      "text/plain": [
       "<Figure size 432x288 with 1 Axes>"
      ]
     },
     "metadata": {
      "needs_background": "light"
     },
     "output_type": "display_data"
    }
   ],
   "source": [
    "# Distribuion of Refinery capacities by PAD district\n",
    "Refinery_CAP_hist.PADD.hist(bins=30)\n",
    "plt.xlabel('PADD')\n",
    "plt.ylabel('Count')\n",
    "plt.title('Capacity Distribution by PAD District');"
   ]
  },
  {
   "cell_type": "code",
   "execution_count": 115,
   "metadata": {},
   "outputs": [
    {
     "data": {
      "image/png": "[encoded data removed]",
      "text/plain": [
       "<Figure size 1080x720 with 12 Axes>"
      ]
     },
     "metadata": {
      "needs_background": "light"
     },
     "output_type": "display_data"
    }
   ],
   "source": [
    "# Crude acuisition costs (USD/Bbl) distribution by PAD district and source (Domestic or Imported)\n",
    "crude_cost.hist(figsize=(15,10))\n",
    "plt.subplots_adjust(hspace=0.5);"
   ]
  },
  {
   "cell_type": "code",
   "execution_count": null,
   "metadata": {},
   "outputs": [],
   "source": []
  }
 ],
 "metadata": {
  "kernelspec": {
   "display_name": "Python 3",
   "language": "python",
   "name": "python3"
  },
  "language_info": {
   "codemirror_mode": {
    "name": "ipython",
    "version": 3
   },
   "file_extension": ".py",
   "mimetype": "text/x-python",
   "name": "python",
   "nbconvert_exporter": "python",
   "pygments_lexer": "ipython3",
   "version": "3.8.3"
  }
 },
 "nbformat": 4,
 "nbformat_minor": 4
}
