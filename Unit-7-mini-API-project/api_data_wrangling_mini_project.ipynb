{
 "cells": [
  {
   "cell_type": "markdown",
   "metadata": {},
   "source": [
    "This exercise will require you to pull some data from the Qunadl API. Qaundl is currently the most widely used aggregator of financial market data."
   ]
  },
  {
   "cell_type": "markdown",
   "metadata": {},
   "source": [
    "As a first step, you will need to register a free account on the http://www.quandl.com website."
   ]
  },
  {
   "cell_type": "markdown",
   "metadata": {},
   "source": [
    "After you register, you will be provided with a unique API key, that you should store:"
   ]
  },
  {
   "cell_type": "code",
   "execution_count": 1,
   "metadata": {},
   "outputs": [],
   "source": [
    "# Store the API key as a string - according to PEP8, constants are always named in all upper case\n",
    "API_KEY = 'AIBEK_URAIMOV_API_KEY'"
   ]
  },
  {
   "cell_type": "markdown",
   "metadata": {},
   "source": [
    "Qaundl has a large number of data sources, but, unfortunately, most of them require a Premium subscription. Still, there are also a good number of free datasets."
   ]
  },
  {
   "cell_type": "markdown",
   "metadata": {},
   "source": [
    "For this mini project, we will focus on equities data from the Frankfurt Stock Exhange (FSE), which is available for free. We'll try and analyze the stock prices of a company called Carl Zeiss Meditec, which manufactures tools for eye examinations, as well as medical lasers for laser eye surgery: https://www.zeiss.com/meditec/int/home.html. The company is listed under the stock ticker AFX_X."
   ]
  },
  {
   "cell_type": "markdown",
   "metadata": {},
   "source": [
    "### Note:\n",
    "***\n",
    "The AFX_X stock price data off the Frankfurt Stock Exchange is no longer available for free; upon discussing with Srjdan (my mentor), we have agreed that I would pick a different stock ticker / another exchange that is still available for free.\n",
    "***"
   ]
  },
  {
   "cell_type": "markdown",
   "metadata": {},
   "source": [
    "You can find the detailed Quandl API instructions here: https://docs.quandl.com/docs/time-series"
   ]
  },
  {
   "cell_type": "markdown",
   "metadata": {},
   "source": [
    "While there is a dedicated Python package for connecting to the Quandl API, we would prefer that you use the *requests* package, which can be easily downloaded using *pip* or *conda*. You can find the documentation for the package here: http://docs.python-requests.org/en/master/ "
   ]
  },
  {
   "cell_type": "markdown",
   "metadata": {},
   "source": [
    "Finally, apart from the *requests* package, you are encouraged to not use any third party Python packages, such as *pandas*, and instead focus on what's available in the Python Standard Library (the *collections* module might come in handy: https://pymotw.com/3/collections/ ).\n",
    "Also, since you won't have access to DataFrames, you are encouraged to us Python's native data structures - preferably dictionaries, though some questions can also be answered using lists.\n",
    "You can read more on these data structures here: https://docs.python.org/3/tutorial/datastructures.html"
   ]
  },
  {
   "cell_type": "markdown",
   "metadata": {},
   "source": [
    "Keep in mind that the JSON responses you will be getting from the API map almost one-to-one to Python's dictionaries. Unfortunately, they can be very nested, so make sure you read up on indexing dictionaries in the documentation provided above."
   ]
  },
  {
   "cell_type": "code",
   "execution_count": 2,
   "metadata": {},
   "outputs": [],
   "source": [
    "# First, import the relevant modules\n",
    "import requests\n",
    "import json"
   ]
  },
  {
   "cell_type": "code",
   "execution_count": 3,
   "metadata": {},
   "outputs": [],
   "source": [
    "# Now, call the Quandl API and pull out a small sample of the data (only one day) to get a glimpse\n",
    "# into the JSON structure that will be returned\n",
    "url = f\"https://www.quandl.com/api/v3/datasets/EURONEXT/ADYEN?start_date=2021-01-01&end_date=2021-01-28&api_key={API_KEY}\"\n",
    "r = requests.get(url)\n",
    "json_data = r.json()"
   ]
  },
  {
   "cell_type": "markdown",
   "metadata": {},
   "source": [
    "## QUANDL API Calls:\n",
    "***\n",
    "### Definition:\n",
    "GET https://www.quandl.com/api/v3/datasets/{database_code}/{dataset_code}/data.{return_format}\n",
    "\n",
    "### Get time-series data:\n",
    "curl \"https://www.quandl.com/api/v3/datasets/WIKI/FB/data.json?api_key=YOURAPIKEY\"\n",
    "\n",
    "### Get filtered time-series data:\n",
    "curl \"https://www.quandl.com/api/v3/datasets/WIKI/FB.json?column_index=4&start_date=2014-01-01&end_date=2014-12-31&collapse=monthly&transform=rdiff&api_key=YOURAPIKEY\"\n",
    "***"
   ]
  },
  {
   "cell_type": "code",
   "execution_count": 4,
   "metadata": {},
   "outputs": [
    {
     "name": "stdout",
     "output_type": "stream",
     "text": [
      "dataset: {'id': 43895417, 'dataset_code': 'ADYEN', 'database_code': 'EURONEXT', 'name': 'ADYEN (ADYEN)', 'description': 'Stock Prices for ADYEN from the Euronext Stock Exchange<br><br>Market: Euronext Amsterdam (XAMS)<br><br>ISIN: NL0012969182<br><br>Currency: EUR', 'refreshed_at': '2021-02-05T02:35:09.047Z', 'newest_available_date': '2021-02-04', 'oldest_available_date': '2018-06-13', 'column_names': ['Date', 'Open', 'High', 'Low', 'Last', 'Volume', 'Turnover'], 'frequency': 'daily', 'type': 'Time Series', 'premium': False, 'limit': None, 'transform': None, 'column_index': None, 'start_date': '2021-01-01', 'end_date': '2021-01-28', 'data': [['2021-01-28', 1764.0, 1806.0, 1739.5, 1760.0, 113344.0, 200908271.0], ['2021-01-27', 1850.0, 1852.0, 1738.5, 1775.0, 126986.0, 225447761.0], ['2021-01-26', 1863.5, 1895.5, 1850.0, 1856.5, 64790.0, 120942766.0], ['2021-01-25', 1925.0, 1942.0, 1863.5, 1875.0, 89751.0, 170437026.0], ['2021-01-22', 1906.0, 1923.5, 1887.5, 1919.0, 75158.0, 143341018.0], ['2021-01-21', 1896.5, 1920.0, 1887.5, 1913.0, 76734.0, 146159683.0], ['2021-01-20', 1798.0, 1885.5, 1789.0, 1876.0, 108493.0, 201754487.0], ['2021-01-19', 1800.0, 1801.0, 1770.5, 1785.0, 59415.0, 106027451.0], ['2021-01-18', 1786.0, 1810.5, 1770.0, 1791.5, 43202.0, 77297880.0], ['2021-01-15', 1767.5, 1795.0, 1761.5, 1789.0, 95263.0, 168729852.0], ['2021-01-14', 1794.0, 1805.5, 1757.0, 1777.5, 85160.0, 151592237.0], ['2021-01-13', 1757.5, 1791.0, 1744.5, 1791.0, 75828.0, 134547294.0], ['2021-01-12', 1753.0, 1771.5, 1744.0, 1758.5, 83263.0, 146426620.0], ['2021-01-11', 1760.0, 1783.5, 1739.5, 1744.5, 63817.0, 112075241.0], ['2021-01-08', 1730.0, 1764.5, 1715.0, 1756.5, 97176.0, 169381241.0], ['2021-01-07', 1735.0, 1754.0, 1708.5, 1714.5, 90183.0, 155205648.0], ['2021-01-06', 1822.0, 1824.0, 1706.5, 1733.0, 156844.0, 273566731.0], ['2021-01-05', 1848.5, 1857.0, 1814.0, 1829.0, 86256.0, 158449584.0], ['2021-01-04', 1900.0, 1921.5, 1856.0, 1859.5, 99408.0, 186545318.0]], 'collapse': None, 'order': None, 'database_id': 5628}\n"
     ]
    }
   ],
   "source": [
    "# Inspect the JSON structure of the object you created, and take note of how nested it is,\n",
    "# as well as the overall structure\n",
    "for key, value in json_data.items():\n",
    "    print(key + ':', value)"
   ]
  },
  {
   "cell_type": "code",
   "execution_count": 5,
   "metadata": {},
   "outputs": [
    {
     "name": "stdout",
     "output_type": "stream",
     "text": [
      "[['2021-01-28', 1764.0, 1806.0, 1739.5, 1760.0, 113344.0, 200908271.0], ['2021-01-27', 1850.0, 1852.0, 1738.5, 1775.0, 126986.0, 225447761.0], ['2021-01-26', 1863.5, 1895.5, 1850.0, 1856.5, 64790.0, 120942766.0], ['2021-01-25', 1925.0, 1942.0, 1863.5, 1875.0, 89751.0, 170437026.0], ['2021-01-22', 1906.0, 1923.5, 1887.5, 1919.0, 75158.0, 143341018.0], ['2021-01-21', 1896.5, 1920.0, 1887.5, 1913.0, 76734.0, 146159683.0], ['2021-01-20', 1798.0, 1885.5, 1789.0, 1876.0, 108493.0, 201754487.0], ['2021-01-19', 1800.0, 1801.0, 1770.5, 1785.0, 59415.0, 106027451.0], ['2021-01-18', 1786.0, 1810.5, 1770.0, 1791.5, 43202.0, 77297880.0], ['2021-01-15', 1767.5, 1795.0, 1761.5, 1789.0, 95263.0, 168729852.0], ['2021-01-14', 1794.0, 1805.5, 1757.0, 1777.5, 85160.0, 151592237.0], ['2021-01-13', 1757.5, 1791.0, 1744.5, 1791.0, 75828.0, 134547294.0], ['2021-01-12', 1753.0, 1771.5, 1744.0, 1758.5, 83263.0, 146426620.0], ['2021-01-11', 1760.0, 1783.5, 1739.5, 1744.5, 63817.0, 112075241.0], ['2021-01-08', 1730.0, 1764.5, 1715.0, 1756.5, 97176.0, 169381241.0], ['2021-01-07', 1735.0, 1754.0, 1708.5, 1714.5, 90183.0, 155205648.0], ['2021-01-06', 1822.0, 1824.0, 1706.5, 1733.0, 156844.0, 273566731.0], ['2021-01-05', 1848.5, 1857.0, 1814.0, 1829.0, 86256.0, 158449584.0], ['2021-01-04', 1900.0, 1921.5, 1856.0, 1859.5, 99408.0, 186545318.0]]\n"
     ]
    }
   ],
   "source": [
    "print(json_data['dataset']['data'])"
   ]
  },
  {
   "cell_type": "code",
   "execution_count": 6,
   "metadata": {},
   "outputs": [
    {
     "data": {
      "text/plain": [
       "list"
      ]
     },
     "execution_count": 6,
     "metadata": {},
     "output_type": "execute_result"
    }
   ],
   "source": [
    "type(json_data['dataset']['data'])"
   ]
  },
  {
   "cell_type": "code",
   "execution_count": 7,
   "metadata": {},
   "outputs": [],
   "source": [
    "json_list = list(json_data['dataset']['data'])"
   ]
  },
  {
   "cell_type": "code",
   "execution_count": 8,
   "metadata": {},
   "outputs": [
    {
     "name": "stdout",
     "output_type": "stream",
     "text": [
      "1764.0\n"
     ]
    }
   ],
   "source": [
    "print(json_list[0][1])"
   ]
  },
  {
   "cell_type": "markdown",
   "metadata": {},
   "source": [
    "These are your tasks for this mini project:\n",
    "\n",
    "1. Collect data from the Franfurt Stock Exchange, for the ticker AFX_X, for the whole year 2017 (keep in mind that the date format is YYYY-MM-DD).\n",
    "2. Convert the returned JSON object into a Python dictionary.\n",
    "3. Calculate what the highest and lowest opening prices were for the stock in this period.\n",
    "4. What was the largest change in any one day (based on High and Low price)?\n",
    "5. What was the largest change between any two days (based on Closing Price)?\n",
    "6. What was the average daily trading volume during this year?\n",
    "7. (Optional) What was the median trading volume during this year. (Note: you may need to implement your own function for calculating the median.)"
   ]
  },
  {
   "cell_type": "code",
   "execution_count": 9,
   "metadata": {},
   "outputs": [
    {
     "name": "stdout",
     "output_type": "stream",
     "text": [
      "1730.0\n",
      "1925.0\n"
     ]
    }
   ],
   "source": [
    "# Task 3\n",
    "\n",
    "open_prices = []\n",
    "\n",
    "for item in json_list:\n",
    "    open_prices.append(item[1])\n",
    "    \n",
    "print(min(open_prices))\n",
    "print(max(open_prices))"
   ]
  },
  {
   "cell_type": "code",
   "execution_count": 10,
   "metadata": {},
   "outputs": [
    {
     "name": "stdout",
     "output_type": "stream",
     "text": [
      "117.5\n"
     ]
    }
   ],
   "source": [
    "# Task 4\n",
    "\n",
    "price_deltas = []\n",
    "\n",
    "for item in json_list:\n",
    "    price_deltas.append(item[2] - item[3])\n",
    "    \n",
    "print(max(price_deltas))"
   ]
  },
  {
   "cell_type": "code",
   "execution_count": 11,
   "metadata": {},
   "outputs": [
    {
     "name": "stdout",
     "output_type": "stream",
     "text": [
      "96.0\n"
     ]
    }
   ],
   "source": [
    "# Task 5\n",
    "\n",
    "close_prices = []\n",
    "price_diffs = []\n",
    "\n",
    "for item in json_list:\n",
    "    close_prices.append(item[4])\n",
    "    \n",
    "for i in range(len(close_prices)-1):\n",
    "    price_diffs.append(close_prices[i+1]-close_prices[i])\n",
    "    \n",
    "# print(close_prices)\n",
    "print(max(price_diffs))"
   ]
  },
  {
   "cell_type": "code",
   "execution_count": 12,
   "metadata": {},
   "outputs": [
    {
     "name": "stdout",
     "output_type": "stream",
     "text": [
      "89003.73684210527\n"
     ]
    }
   ],
   "source": [
    "# Task 6\n",
    "\n",
    "volumes = []\n",
    "\n",
    "for item in json_list:\n",
    "    volumes.append(item[5])\n",
    "    \n",
    "print(sum(volumes)/len(volumes))"
   ]
  },
  {
   "cell_type": "code",
   "execution_count": null,
   "metadata": {},
   "outputs": [],
   "source": []
  }
 ],
 "metadata": {
  "kernelspec": {
   "display_name": "Python 3",
   "language": "python",
   "name": "python3"
  },
  "language_info": {
   "codemirror_mode": {
    "name": "ipython",
    "version": 3
   },
   "file_extension": ".py",
   "mimetype": "text/x-python",
   "name": "python",
   "nbconvert_exporter": "python",
   "pygments_lexer": "ipython3",
   "version": "3.8.3"
  }
 },
 "nbformat": 4,
 "nbformat_minor": 2
}
