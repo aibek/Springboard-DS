{
 "cells": [
  {
   "cell_type": "markdown",
   "metadata": {},
   "source": [
    "# Capstone III - Loading Yelp Datasets"
   ]
  },
  {
   "cell_type": "code",
   "execution_count": 1,
   "metadata": {},
   "outputs": [],
   "source": [
    "import pandas as pd"
   ]
  },
  {
   "cell_type": "markdown",
   "metadata": {},
   "source": [
    "# Load Data"
   ]
  },
  {
   "cell_type": "markdown",
   "metadata": {},
   "source": [
    "### Load Yelp Datasets from JSON to Pandas Dataframes"
   ]
  },
  {
   "cell_type": "markdown",
   "metadata": {},
   "source": [
    "#### Load Businesses dataset"
   ]
  },
  {
   "cell_type": "code",
   "execution_count": 20,
   "metadata": {},
   "outputs": [],
   "source": [
    "business_json_path = 'yelp_dataset/yelp_academic_dataset_business.json'\n",
    "df_bsn = pd.read_json(business_json_path, lines=True)"
   ]
  },
  {
   "cell_type": "markdown",
   "metadata": {},
   "source": [
    "#### Load Review dataset"
   ]
  },
  {
   "cell_type": "code",
   "execution_count": 26,
   "metadata": {},
   "outputs": [],
   "source": [
    "review_json_path =  'yelp_dataset/yelp_academic_dataset_review.json'"
   ]
  },
  {
   "cell_type": "code",
   "execution_count": 27,
   "metadata": {},
   "outputs": [],
   "source": [
    "# Set chunk size to 1,000,000 lines:\n",
    "size = 1000000\n",
    "\n",
    "# Setting up column data types, using Yelp documentation:\n",
    "review = pd.read_json(review_json_path, lines=True,\n",
    "                      dtype={'review_id':str,'user_id':str,\n",
    "                             'business_id':str,'stars':int,\n",
    "                             'date':str,'text':str,'useful':int,\n",
    "                             'funny':int,'cool':int},\n",
    "                      chunksize=size)"
   ]
  },
  {
   "cell_type": "markdown",
   "metadata": {},
   "source": [
    "# Convert Data"
   ]
  },
  {
   "cell_type": "code",
   "execution_count": 21,
   "metadata": {},
   "outputs": [
    {
     "data": {
      "text/html": [
       "<div>\n",
       "<style scoped>\n",
       "    .dataframe tbody tr th:only-of-type {\n",
       "        vertical-align: middle;\n",
       "    }\n",
       "\n",
       "    .dataframe tbody tr th {\n",
       "        vertical-align: top;\n",
       "    }\n",
       "\n",
       "    .dataframe thead th {\n",
       "        text-align: right;\n",
       "    }\n",
       "</style>\n",
       "<table border=\"1\" class=\"dataframe\">\n",
       "  <thead>\n",
       "    <tr style=\"text-align: right;\">\n",
       "      <th></th>\n",
       "      <th>0</th>\n",
       "      <th>1</th>\n",
       "      <th>2</th>\n",
       "      <th>3</th>\n",
       "      <th>4</th>\n",
       "    </tr>\n",
       "  </thead>\n",
       "  <tbody>\n",
       "    <tr>\n",
       "      <th>business_id</th>\n",
       "      <td>6iYb2HFDywm3zjuRg0shjw</td>\n",
       "      <td>tCbdrRPZA0oiIYSmHG3J0w</td>\n",
       "      <td>bvN78flM8NLprQ1a1y5dRg</td>\n",
       "      <td>oaepsyvc0J17qwi8cfrOWg</td>\n",
       "      <td>PE9uqAjdw0E4-8mjGl3wVA</td>\n",
       "    </tr>\n",
       "    <tr>\n",
       "      <th>name</th>\n",
       "      <td>Oskar Blues Taproom</td>\n",
       "      <td>Flying Elephants at PDX</td>\n",
       "      <td>The Reclaimory</td>\n",
       "      <td>Great Clips</td>\n",
       "      <td>Crossfit Terminus</td>\n",
       "    </tr>\n",
       "    <tr>\n",
       "      <th>address</th>\n",
       "      <td>921 Pearl St</td>\n",
       "      <td>7000 NE Airport Way</td>\n",
       "      <td>4720 Hawthorne Ave</td>\n",
       "      <td>2566 Enterprise Rd</td>\n",
       "      <td>1046 Memorial Dr SE</td>\n",
       "    </tr>\n",
       "    <tr>\n",
       "      <th>city</th>\n",
       "      <td>Boulder</td>\n",
       "      <td>Portland</td>\n",
       "      <td>Portland</td>\n",
       "      <td>Orange City</td>\n",
       "      <td>Atlanta</td>\n",
       "    </tr>\n",
       "    <tr>\n",
       "      <th>state</th>\n",
       "      <td>CO</td>\n",
       "      <td>OR</td>\n",
       "      <td>OR</td>\n",
       "      <td>FL</td>\n",
       "      <td>GA</td>\n",
       "    </tr>\n",
       "    <tr>\n",
       "      <th>postal_code</th>\n",
       "      <td>80302</td>\n",
       "      <td>97218</td>\n",
       "      <td>97214</td>\n",
       "      <td>32763</td>\n",
       "      <td>30316</td>\n",
       "    </tr>\n",
       "    <tr>\n",
       "      <th>latitude</th>\n",
       "      <td>40.0175</td>\n",
       "      <td>45.5889</td>\n",
       "      <td>45.5119</td>\n",
       "      <td>28.9145</td>\n",
       "      <td>33.747</td>\n",
       "    </tr>\n",
       "    <tr>\n",
       "      <th>longitude</th>\n",
       "      <td>-105.283</td>\n",
       "      <td>-122.593</td>\n",
       "      <td>-122.614</td>\n",
       "      <td>-81.296</td>\n",
       "      <td>-84.3534</td>\n",
       "    </tr>\n",
       "    <tr>\n",
       "      <th>stars</th>\n",
       "      <td>4</td>\n",
       "      <td>4</td>\n",
       "      <td>4.5</td>\n",
       "      <td>3</td>\n",
       "      <td>4</td>\n",
       "    </tr>\n",
       "    <tr>\n",
       "      <th>review_count</th>\n",
       "      <td>86</td>\n",
       "      <td>126</td>\n",
       "      <td>13</td>\n",
       "      <td>8</td>\n",
       "      <td>14</td>\n",
       "    </tr>\n",
       "    <tr>\n",
       "      <th>is_open</th>\n",
       "      <td>1</td>\n",
       "      <td>1</td>\n",
       "      <td>1</td>\n",
       "      <td>1</td>\n",
       "      <td>1</td>\n",
       "    </tr>\n",
       "    <tr>\n",
       "      <th>attributes</th>\n",
       "      <td>{'RestaurantsTableService': 'True', 'WiFi': 'u...</td>\n",
       "      <td>{'RestaurantsTakeOut': 'True', 'RestaurantsAtt...</td>\n",
       "      <td>{'BusinessAcceptsCreditCards': 'True', 'Restau...</td>\n",
       "      <td>{'RestaurantsPriceRange2': '1', 'BusinessAccep...</td>\n",
       "      <td>{'GoodForKids': 'False', 'BusinessParking': '{...</td>\n",
       "    </tr>\n",
       "    <tr>\n",
       "      <th>categories</th>\n",
       "      <td>Gastropubs, Food, Beer Gardens, Restaurants, B...</td>\n",
       "      <td>Salad, Soup, Sandwiches, Delis, Restaurants, C...</td>\n",
       "      <td>Antiques, Fashion, Used, Vintage &amp; Consignment...</td>\n",
       "      <td>Beauty &amp; Spas, Hair Salons</td>\n",
       "      <td>Gyms, Active Life, Interval Training Gyms, Fit...</td>\n",
       "    </tr>\n",
       "    <tr>\n",
       "      <th>hours</th>\n",
       "      <td>{'Monday': '11:0-23:0', 'Tuesday': '11:0-23:0'...</td>\n",
       "      <td>{'Monday': '5:0-18:0', 'Tuesday': '5:0-17:0', ...</td>\n",
       "      <td>{'Thursday': '11:0-18:0', 'Friday': '11:0-18:0...</td>\n",
       "      <td>None</td>\n",
       "      <td>{'Monday': '16:0-19:0', 'Tuesday': '16:0-19:0'...</td>\n",
       "    </tr>\n",
       "  </tbody>\n",
       "</table>\n",
       "</div>"
      ],
      "text/plain": [
       "                                                              0  \\\n",
       "business_id                              6iYb2HFDywm3zjuRg0shjw   \n",
       "name                                        Oskar Blues Taproom   \n",
       "address                                            921 Pearl St   \n",
       "city                                                    Boulder   \n",
       "state                                                        CO   \n",
       "postal_code                                               80302   \n",
       "latitude                                                40.0175   \n",
       "longitude                                              -105.283   \n",
       "stars                                                         4   \n",
       "review_count                                                 86   \n",
       "is_open                                                       1   \n",
       "attributes    {'RestaurantsTableService': 'True', 'WiFi': 'u...   \n",
       "categories    Gastropubs, Food, Beer Gardens, Restaurants, B...   \n",
       "hours         {'Monday': '11:0-23:0', 'Tuesday': '11:0-23:0'...   \n",
       "\n",
       "                                                              1  \\\n",
       "business_id                              tCbdrRPZA0oiIYSmHG3J0w   \n",
       "name                                    Flying Elephants at PDX   \n",
       "address                                     7000 NE Airport Way   \n",
       "city                                                   Portland   \n",
       "state                                                        OR   \n",
       "postal_code                                               97218   \n",
       "latitude                                                45.5889   \n",
       "longitude                                              -122.593   \n",
       "stars                                                         4   \n",
       "review_count                                                126   \n",
       "is_open                                                       1   \n",
       "attributes    {'RestaurantsTakeOut': 'True', 'RestaurantsAtt...   \n",
       "categories    Salad, Soup, Sandwiches, Delis, Restaurants, C...   \n",
       "hours         {'Monday': '5:0-18:0', 'Tuesday': '5:0-17:0', ...   \n",
       "\n",
       "                                                              2  \\\n",
       "business_id                              bvN78flM8NLprQ1a1y5dRg   \n",
       "name                                             The Reclaimory   \n",
       "address                                      4720 Hawthorne Ave   \n",
       "city                                                   Portland   \n",
       "state                                                        OR   \n",
       "postal_code                                               97214   \n",
       "latitude                                                45.5119   \n",
       "longitude                                              -122.614   \n",
       "stars                                                       4.5   \n",
       "review_count                                                 13   \n",
       "is_open                                                       1   \n",
       "attributes    {'BusinessAcceptsCreditCards': 'True', 'Restau...   \n",
       "categories    Antiques, Fashion, Used, Vintage & Consignment...   \n",
       "hours         {'Thursday': '11:0-18:0', 'Friday': '11:0-18:0...   \n",
       "\n",
       "                                                              3  \\\n",
       "business_id                              oaepsyvc0J17qwi8cfrOWg   \n",
       "name                                                Great Clips   \n",
       "address                                      2566 Enterprise Rd   \n",
       "city                                                Orange City   \n",
       "state                                                        FL   \n",
       "postal_code                                               32763   \n",
       "latitude                                                28.9145   \n",
       "longitude                                               -81.296   \n",
       "stars                                                         3   \n",
       "review_count                                                  8   \n",
       "is_open                                                       1   \n",
       "attributes    {'RestaurantsPriceRange2': '1', 'BusinessAccep...   \n",
       "categories                           Beauty & Spas, Hair Salons   \n",
       "hours                                                      None   \n",
       "\n",
       "                                                              4  \n",
       "business_id                              PE9uqAjdw0E4-8mjGl3wVA  \n",
       "name                                          Crossfit Terminus  \n",
       "address                                     1046 Memorial Dr SE  \n",
       "city                                                    Atlanta  \n",
       "state                                                        GA  \n",
       "postal_code                                               30316  \n",
       "latitude                                                 33.747  \n",
       "longitude                                              -84.3534  \n",
       "stars                                                         4  \n",
       "review_count                                                 14  \n",
       "is_open                                                       1  \n",
       "attributes    {'GoodForKids': 'False', 'BusinessParking': '{...  \n",
       "categories    Gyms, Active Life, Interval Training Gyms, Fit...  \n",
       "hours         {'Monday': '16:0-19:0', 'Tuesday': '16:0-19:0'...  "
      ]
     },
     "execution_count": 21,
     "metadata": {},
     "output_type": "execute_result"
    }
   ],
   "source": [
    "df_bsn.head().T"
   ]
  },
  {
   "cell_type": "code",
   "execution_count": 25,
   "metadata": {},
   "outputs": [
    {
     "name": "stdout",
     "output_type": "stream",
     "text": [
      "<class 'pandas.core.frame.DataFrame'>\n",
      "RangeIndex: 160585 entries, 0 to 160584\n",
      "Data columns (total 14 columns):\n",
      " #   Column        Non-Null Count   Dtype  \n",
      "---  ------        --------------   -----  \n",
      " 0   business_id   160585 non-null  object \n",
      " 1   name          160585 non-null  object \n",
      " 2   address       160585 non-null  object \n",
      " 3   city          160585 non-null  object \n",
      " 4   state         160585 non-null  object \n",
      " 5   postal_code   160585 non-null  object \n",
      " 6   latitude      160585 non-null  float64\n",
      " 7   longitude     160585 non-null  float64\n",
      " 8   stars         160585 non-null  float64\n",
      " 9   review_count  160585 non-null  int64  \n",
      " 10  is_open       160585 non-null  int64  \n",
      " 11  attributes    145593 non-null  object \n",
      " 12  categories    160470 non-null  object \n",
      " 13  hours         133244 non-null  object \n",
      "dtypes: float64(3), int64(2), object(9)\n",
      "memory usage: 17.2+ MB\n"
     ]
    }
   ],
   "source": [
    "df_bsn.info()"
   ]
  },
  {
   "cell_type": "code",
   "execution_count": 22,
   "metadata": {},
   "outputs": [],
   "source": [
    "bsn_rstnt = df_bsn[df_bsn['categories'].str.contains('Restaurants', na=False)]"
   ]
  },
  {
   "cell_type": "code",
   "execution_count": 23,
   "metadata": {},
   "outputs": [
    {
     "name": "stdout",
     "output_type": "stream",
     "text": [
      "<class 'pandas.core.frame.DataFrame'>\n",
      "Int64Index: 50763 entries, 0 to 160584\n",
      "Data columns (total 14 columns):\n",
      " #   Column        Non-Null Count  Dtype  \n",
      "---  ------        --------------  -----  \n",
      " 0   business_id   50763 non-null  object \n",
      " 1   name          50763 non-null  object \n",
      " 2   address       50763 non-null  object \n",
      " 3   city          50763 non-null  object \n",
      " 4   state         50763 non-null  object \n",
      " 5   postal_code   50763 non-null  object \n",
      " 6   latitude      50763 non-null  float64\n",
      " 7   longitude     50763 non-null  float64\n",
      " 8   stars         50763 non-null  float64\n",
      " 9   review_count  50763 non-null  int64  \n",
      " 10  is_open       50763 non-null  int64  \n",
      " 11  attributes    50314 non-null  object \n",
      " 12  categories    50763 non-null  object \n",
      " 13  hours         42875 non-null  object \n",
      "dtypes: float64(3), int64(2), object(9)\n",
      "memory usage: 5.8+ MB\n"
     ]
    }
   ],
   "source": [
    "bsn_rstnt.info()"
   ]
  },
  {
   "cell_type": "markdown",
   "metadata": {},
   "source": [
    "### Merge Review.json and Business.json files"
   ]
  },
  {
   "cell_type": "code",
   "execution_count": 30,
   "metadata": {},
   "outputs": [
    {
     "name": "stdout",
     "output_type": "stream",
     "text": [
      "644786 out of 1,000,000 related reviews\n",
      "651022 out of 1,000,000 related reviews\n",
      "643531 out of 1,000,000 related reviews\n",
      "631384 out of 1,000,000 related reviews\n",
      "642933 out of 1,000,000 related reviews\n",
      "649318 out of 1,000,000 related reviews\n",
      "651717 out of 1,000,000 related reviews\n",
      "406437 out of 1,000,000 related reviews\n"
     ]
    }
   ],
   "source": [
    "chunk_list = []\n",
    "\n",
    "for chunk_review in review:\n",
    "    \n",
    "    # Drop columns that aren't needed\n",
    "    chunk_review = chunk_review.drop(['review_id','useful'], axis=1)\n",
    "    \n",
    "    # Renaming column name to avoid conflict with business overall star rating\n",
    "    chunk_review = chunk_review.rename(columns={'stars': 'review_stars'})\n",
    "    \n",
    "    # Inner merge with edited business file so only reviews related to the business remain\n",
    "    chunk_merged = pd.merge(bsn_rstnt, chunk_review, on='business_id', how='inner')\n",
    "\n",
    "    # Show feedback on progress\n",
    "    print(f\"{chunk_merged.shape[0]} out of {size:,} related reviews\")\n",
    "    chunk_list.append(chunk_merged)\n",
    "\n",
    "# After trimming down the review file, concatenate all relevant data back to one dataframe\n",
    "df = pd.concat(chunk_list, ignore_index=True, join='outer', axis=0)"
   ]
  },
  {
   "cell_type": "markdown",
   "metadata": {},
   "source": [
    "### Convert the merged dataset into a CSV file"
   ]
  },
  {
   "cell_type": "code",
   "execution_count": 31,
   "metadata": {},
   "outputs": [],
   "source": [
    "csv_name = \"yelp_Restaurant_reviews.csv\"\n",
    "df.to_csv(csv_name, index=False)"
   ]
  }
 ],
 "metadata": {
  "kernelspec": {
   "display_name": "Python 3",
   "language": "python",
   "name": "python3"
  },
  "language_info": {
   "codemirror_mode": {
    "name": "ipython",
    "version": 3
   },
   "file_extension": ".py",
   "mimetype": "text/x-python",
   "name": "python",
   "nbconvert_exporter": "python",
   "pygments_lexer": "ipython3",
   "version": "3.8.3"
  }
 },
 "nbformat": 4,
 "nbformat_minor": 4
}
