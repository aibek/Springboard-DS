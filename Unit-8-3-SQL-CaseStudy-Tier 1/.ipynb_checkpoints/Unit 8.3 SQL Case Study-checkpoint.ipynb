{
 "cells": [
  {
   "cell_type": "code",
   "execution_count": 136,
   "metadata": {},
   "outputs": [
    {
     "name": "stdout",
     "output_type": "stream",
     "text": [
      "2.6.0\n",
      "2. Query all tasks\n",
      "(0, 'Tennis Court 1', 5, 25, 10000, 200)\n",
      "(1, 'Tennis Court 2', 5, 25, 8000, 200)\n",
      "(2, 'Badminton Court', 0, 15.5, 4000, 50)\n",
      "(3, 'Table Tennis', 0, 5, 320, 10)\n",
      "(4, 'Massage Room 1', 9.9, 80, 4000, 3000)\n",
      "(5, 'Massage Room 2', 9.9, 80, 4000, 3000)\n",
      "(6, 'Squash Court', 3.5, 17.5, 5000, 80)\n",
      "(7, 'Snooker Table', 0, 5, 450, 15)\n",
      "(8, 'Pool Table', 0, 5, 400, 15)\n"
     ]
    }
   ],
   "source": [
    "import sqlite3\n",
    "from sqlite3 import Error\n",
    "\n",
    " \n",
    "def create_connection(db_file):\n",
    "    \"\"\" create a database connection to the SQLite database\n",
    "        specified by the db_file\n",
    "    :param db_file: database file\n",
    "    :return: Connection object or None\n",
    "    \"\"\"\n",
    "    conn = None\n",
    "    try:\n",
    "        conn = sqlite3.connect(db_file)\n",
    "        print(sqlite3.version)\n",
    "    except Error as e:\n",
    "        print(e)\n",
    " \n",
    "    return conn\n",
    "\n",
    " \n",
    "def select_all_tasks(conn):\n",
    "    \"\"\"\n",
    "    Query all rows in the tasks table\n",
    "    :param conn: the Connection object\n",
    "    :return:\n",
    "    \"\"\"\n",
    "    cur = conn.cursor()\n",
    "    \n",
    "    query1 = \"\"\"\n",
    "        SELECT *\n",
    "        FROM FACILITIES\n",
    "        \"\"\"\n",
    "    cur.execute(query1)\n",
    " \n",
    "    rows = cur.fetchall()\n",
    " \n",
    "    for row in rows:\n",
    "        print(row)\n",
    "\n",
    "\n",
    "def main():\n",
    "    database = \"sqlite_db_pythonsqlite.db\"\n",
    " \n",
    "    # create a database connection\n",
    "    conn = create_connection(database)\n",
    "    with conn: \n",
    "        print(\"2. Query all tasks\")\n",
    "        select_all_tasks(conn)\n",
    " \n",
    " \n",
    "if __name__ == '__main__':\n",
    "    main()"
   ]
  },
  {
   "cell_type": "markdown",
   "metadata": {},
   "source": [
    "### Q10: Produce a list of facilities with a total revenue less than 1000.\n",
    "         The output of facility name and total revenue sorted by revenue.\n",
    "         Remember that there is a different cost for guests and members!"
   ]
  },
  {
   "cell_type": "code",
   "execution_count": 137,
   "metadata": {
    "scrolled": true
   },
   "outputs": [
    {
     "name": "stdout",
     "output_type": "stream",
     "text": [
      "2.6.0\n",
      "Question 10 Query\n",
      "b.id|b.facid|f.Name|f_revenue \n",
      "('Pool Table', 270)\n",
      "('Snooker Table', 240)\n",
      "('Table Tennis', 180)\n"
     ]
    }
   ],
   "source": [
    "def Q10_task (conn):\n",
    "    \"\"\"\n",
    "    Query to answer Question 10 of the Case Study\n",
    "    :param conn: the Connection object\n",
    "    :return:\n",
    "    \"\"\"\n",
    "    cur = conn.cursor()\n",
    "    \n",
    "    query1 = \"\"\"\n",
    "        WITH f_rev_list AS (\n",
    "        SELECT f.name,\n",
    "            CASE WHEN b.memid=0 THEN b.slots*f.guestcost\n",
    "                 WHEN b.memid!=0 THEN b.slots*f.membercost\n",
    "                 END AS f_revenue\n",
    "        FROM BOOKINGS AS b\n",
    "        LEFT JOIN FACILITIES AS f\n",
    "        ON b.facid = f.facid)\n",
    "        \n",
    "        SELECT f_rev_list.name, SUM(f_revenue)\n",
    "        FROM f_rev_list\n",
    "        GROUP BY f_rev_list.name\n",
    "        HAVING SUM(f_revenue) < 1000\n",
    "        ORDER BY f_revenue;\n",
    "        \"\"\"\n",
    "    cur.execute(query1)\n",
    "    rows = cur.fetchall()\n",
    "    for row in rows:\n",
    "        print(row)\n",
    "\n",
    "def Q10_execute ():\n",
    "    database = \"sqlite_db_pythonsqlite.db\"\n",
    "    # create a database connection\n",
    "    conn = create_connection(database)\n",
    "    with conn: \n",
    "        print(\"Question 10 Query\")\n",
    "        print(\"b.id|b.facid|f.Name|f_revenue \")\n",
    "        Q10_task(conn)\n",
    "        \n",
    "Q10_execute()"
   ]
  },
  {
   "cell_type": "markdown",
   "metadata": {},
   "source": [
    "### Q11: Produce a report of members and who recommended them in alphabetic surname, firstname order"
   ]
  },
  {
   "cell_type": "code",
   "execution_count": 149,
   "metadata": {},
   "outputs": [
    {
     "name": "stdout",
     "output_type": "stream",
     "text": [
      "2.6.0\n",
      "Question 11 Query\n",
      "('Bader Florence', 'Stibbons Ponder')\n",
      "('Baker Anne', 'Stibbons Ponder')\n",
      "('Baker Timothy', 'Farrell Jemima')\n",
      "('Boothe Tim', 'Rownam Tim')\n",
      "('Butters Gerald', 'Smith Darren')\n",
      "('Coplin Joan', 'Baker Timothy')\n",
      "('Crumpet Erica', 'Smith Tracy')\n",
      "('Dare Nancy', 'Joplette Janice')\n",
      "('Genting Matthew', 'Butters Gerald')\n",
      "('Hunt John', 'Purview Millicent')\n",
      "('Jones David', 'Joplette Janice')\n",
      "('Jones Douglas', 'Jones David')\n",
      "('Joplette Janice', 'Smith Darren')\n",
      "('Mackenzie Anna', 'Smith Darren')\n",
      "('Owen Charles', 'Smith Darren')\n",
      "('Pinker David', 'Farrell Jemima')\n",
      "('Purview Millicent', 'Smith Tracy')\n",
      "('Rumney Henrietta', 'Genting Matthew')\n",
      "('Sarwin Ramnaresh', 'Bader Florence')\n",
      "('Smith Jack', 'Smith Darren')\n",
      "('Stibbons Ponder', 'Tracy Burton')\n",
      "('Worthington-Smyth Henry', 'Smith Tracy')\n"
     ]
    }
   ],
   "source": [
    "'The outcome of this query excludes members, who were not referred by anyone'\n",
    "\n",
    "def Q11_task (conn):\n",
    "    \"\"\"\n",
    "    Query to answer Question 11 of the Case Study\n",
    "    :param conn: the Connection object\n",
    "    :return:\n",
    "    \"\"\"\n",
    "    cur = conn.cursor()\n",
    "    \n",
    "    query1 = \"\"\"\n",
    "        SELECT\n",
    "            (m1.surname || ' ' || m1.firstname) AS Member_Name,\n",
    "            (m2.surname || ' ' || m2.firstname) AS Recommended_By_Name\n",
    "        FROM\n",
    "            MEMBERS AS m1, MEMBERS AS m2\n",
    "        WHERE\n",
    "            m1.recommendedby = m2.memid\n",
    "        ORDER BY Member_Name, Recommended_By_Name\n",
    "        \"\"\"\n",
    "    cur.execute(query1)\n",
    "    rows = cur.fetchall()\n",
    "    for row in rows:\n",
    "        print(row)\n",
    "\n",
    "def Q11_execute ():\n",
    "    database = \"sqlite_db_pythonsqlite.db\"\n",
    "    # create a database connection\n",
    "    conn = create_connection(database)\n",
    "    with conn: \n",
    "        print(\"Question 11 Query\")\n",
    "        Q11_task(conn)\n",
    "        \n",
    "Q11_execute()"
   ]
  },
  {
   "cell_type": "markdown",
   "metadata": {},
   "source": [
    "### Q12: Find the facilities with their usage by member, but not guests"
   ]
  },
  {
   "cell_type": "code",
   "execution_count": 150,
   "metadata": {},
   "outputs": [
    {
     "name": "stdout",
     "output_type": "stream",
     "text": [
      "2.6.0\n",
      "Question 12 Query\n",
      "(0, 'Tennis Court 1', 308)\n",
      "(1, 'Tennis Court 2', 276)\n",
      "(2, 'Badminton Court', 344)\n",
      "(3, 'Table Tennis', 385)\n",
      "(4, 'Massage Room 1', 421)\n",
      "(5, 'Massage Room 2', 27)\n",
      "(6, 'Squash Court', 195)\n",
      "(7, 'Snooker Table', 421)\n",
      "(8, 'Pool Table', 783)\n"
     ]
    }
   ],
   "source": [
    "def Q12_task (conn):\n",
    "    \"\"\"\n",
    "    Query to answer Question 12 of the Case Study\n",
    "    :param conn: the Connection object\n",
    "    :return:\n",
    "    \"\"\"\n",
    "    cur = conn.cursor()\n",
    "    \n",
    "    query1 = \"\"\"\n",
    "        SELECT b.facid, f.name,\n",
    "            COUNT(CASE WHEN b.memid!=0 THEN 0 END) AS Member_Usage\n",
    "        FROM Bookings AS b\n",
    "        LEFT JOIN Facilities AS f\n",
    "        ON b.facid = f.facid\n",
    "        GROUP BY b.facid\n",
    "        \"\"\"\n",
    "    cur.execute(query1)\n",
    "    rows = cur.fetchall()\n",
    "    for row in rows:\n",
    "        print(row)\n",
    "\n",
    "def Q12_execute ():\n",
    "    database = \"sqlite_db_pythonsqlite.db\"\n",
    "    # create a database connection\n",
    "    conn = create_connection(database)\n",
    "    with conn: \n",
    "        print(\"Question 12 Query\")\n",
    "        Q12_task(conn)\n",
    "        \n",
    "Q12_execute()"
   ]
  },
  {
   "cell_type": "code",
   "execution_count": null,
   "metadata": {},
   "outputs": [],
   "source": []
  }
 ],
 "metadata": {
  "kernelspec": {
   "display_name": "Python 3",
   "language": "python",
   "name": "python3"
  },
  "language_info": {
   "codemirror_mode": {
    "name": "ipython",
    "version": 3
   },
   "file_extension": ".py",
   "mimetype": "text/x-python",
   "name": "python",
   "nbconvert_exporter": "python",
   "pygments_lexer": "ipython3",
   "version": "3.8.3"
  }
 },
 "nbformat": 4,
 "nbformat_minor": 4
}
