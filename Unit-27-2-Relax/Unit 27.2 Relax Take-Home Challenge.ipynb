{
 "cells": [
  {
   "cell_type": "markdown",
   "metadata": {},
   "source": [
    "## Unit 27.2 Relax Take-Home Challenge"
   ]
  },
  {
   "cell_type": "code",
   "execution_count": 1,
   "metadata": {},
   "outputs": [],
   "source": [
    "import pandas as pd\n",
    "import matplotlib.pyplot as plt\n",
    "import seaborn as sns\n",
    "import numpy as np"
   ]
  },
  {
   "cell_type": "markdown",
   "metadata": {},
   "source": [
    "# Part I - EDA"
   ]
  },
  {
   "cell_type": "markdown",
   "metadata": {},
   "source": [
    "## Load Data"
   ]
  },
  {
   "cell_type": "markdown",
   "metadata": {},
   "source": [
    "#### Encoding Issue"
   ]
  },
  {
   "cell_type": "markdown",
   "metadata": {},
   "source": [
    "When trying to load the user data file, we have encountered an error, which was due to encoding of the source file.\n",
    "Hence, we will determine the encoding and explicitly include it in the pd.read_csv()"
   ]
  },
  {
   "cell_type": "code",
   "execution_count": 2,
   "metadata": {},
   "outputs": [
    {
     "name": "stdout",
     "output_type": "stream",
     "text": [
      "user data file encoding:  {'encoding': 'ISO-8859-1', 'confidence': 0.729463066092256, 'language': ''}\n",
      "user engagement file encoding:  {'encoding': 'ascii', 'confidence': 1.0, 'language': ''}\n"
     ]
    }
   ],
   "source": [
    "import chardet\n",
    "with open('takehome_users.csv', 'rb') as rawdata:\n",
    "    result = chardet.detect(rawdata.read(100000))\n",
    "print('user data file encoding: ', result)\n",
    "\n",
    "with open('takehome_user_engagement.csv', 'rb') as rawdata:\n",
    "    result = chardet.detect(rawdata.read(100000))\n",
    "print('user engagement file encoding: ', result)"
   ]
  },
  {
   "cell_type": "code",
   "execution_count": 3,
   "metadata": {},
   "outputs": [],
   "source": [
    "# load user data, using 'ISO-8859-1' encoding\n",
    "users = pd.read_csv('takehome_users.csv', encoding='ISO-8859-1')\n",
    "\n",
    "# Load User engagement data\n",
    "user_activity = pd.read_csv('takehome_user_engagement.csv')"
   ]
  },
  {
   "cell_type": "code",
   "execution_count": 4,
   "metadata": {},
   "outputs": [
    {
     "data": {
      "text/html": [
       "<div>\n",
       "<style scoped>\n",
       "    .dataframe tbody tr th:only-of-type {\n",
       "        vertical-align: middle;\n",
       "    }\n",
       "\n",
       "    .dataframe tbody tr th {\n",
       "        vertical-align: top;\n",
       "    }\n",
       "\n",
       "    .dataframe thead th {\n",
       "        text-align: right;\n",
       "    }\n",
       "</style>\n",
       "<table border=\"1\" class=\"dataframe\">\n",
       "  <thead>\n",
       "    <tr style=\"text-align: right;\">\n",
       "      <th></th>\n",
       "      <th>0</th>\n",
       "      <th>1</th>\n",
       "      <th>2</th>\n",
       "    </tr>\n",
       "  </thead>\n",
       "  <tbody>\n",
       "    <tr>\n",
       "      <th>object_id</th>\n",
       "      <td>1</td>\n",
       "      <td>2</td>\n",
       "      <td>3</td>\n",
       "    </tr>\n",
       "    <tr>\n",
       "      <th>creation_time</th>\n",
       "      <td>4/22/2014 3:53</td>\n",
       "      <td>11/15/2013 3:45</td>\n",
       "      <td>3/19/2013 23:14</td>\n",
       "    </tr>\n",
       "    <tr>\n",
       "      <th>name</th>\n",
       "      <td>Clausen August</td>\n",
       "      <td>Poole Matthew</td>\n",
       "      <td>Bottrill Mitchell</td>\n",
       "    </tr>\n",
       "    <tr>\n",
       "      <th>email</th>\n",
       "      <td>AugustCClausen@yahoo.com</td>\n",
       "      <td>MatthewPoole@gustr.com</td>\n",
       "      <td>MitchellBottrill@gustr.com</td>\n",
       "    </tr>\n",
       "    <tr>\n",
       "      <th>creation_source</th>\n",
       "      <td>GUEST_INVITE</td>\n",
       "      <td>ORG_INVITE</td>\n",
       "      <td>ORG_INVITE</td>\n",
       "    </tr>\n",
       "    <tr>\n",
       "      <th>last_session_creation_time</th>\n",
       "      <td>1.39814e+09</td>\n",
       "      <td>1.39624e+09</td>\n",
       "      <td>1.36373e+09</td>\n",
       "    </tr>\n",
       "    <tr>\n",
       "      <th>opted_in_to_mailing_list</th>\n",
       "      <td>1</td>\n",
       "      <td>0</td>\n",
       "      <td>0</td>\n",
       "    </tr>\n",
       "    <tr>\n",
       "      <th>enabled_for_marketing_drip</th>\n",
       "      <td>0</td>\n",
       "      <td>0</td>\n",
       "      <td>0</td>\n",
       "    </tr>\n",
       "    <tr>\n",
       "      <th>org_id</th>\n",
       "      <td>11</td>\n",
       "      <td>1</td>\n",
       "      <td>94</td>\n",
       "    </tr>\n",
       "    <tr>\n",
       "      <th>invited_by_user_id</th>\n",
       "      <td>10803</td>\n",
       "      <td>316</td>\n",
       "      <td>1525</td>\n",
       "    </tr>\n",
       "  </tbody>\n",
       "</table>\n",
       "</div>"
      ],
      "text/plain": [
       "                                                   0                       1  \\\n",
       "object_id                                          1                       2   \n",
       "creation_time                         4/22/2014 3:53         11/15/2013 3:45   \n",
       "name                                  Clausen August           Poole Matthew   \n",
       "email                       AugustCClausen@yahoo.com  MatthewPoole@gustr.com   \n",
       "creation_source                         GUEST_INVITE              ORG_INVITE   \n",
       "last_session_creation_time               1.39814e+09             1.39624e+09   \n",
       "opted_in_to_mailing_list                           1                       0   \n",
       "enabled_for_marketing_drip                         0                       0   \n",
       "org_id                                            11                       1   \n",
       "invited_by_user_id                             10803                     316   \n",
       "\n",
       "                                                     2  \n",
       "object_id                                            3  \n",
       "creation_time                          3/19/2013 23:14  \n",
       "name                                 Bottrill Mitchell  \n",
       "email                       MitchellBottrill@gustr.com  \n",
       "creation_source                             ORG_INVITE  \n",
       "last_session_creation_time                 1.36373e+09  \n",
       "opted_in_to_mailing_list                             0  \n",
       "enabled_for_marketing_drip                           0  \n",
       "org_id                                              94  \n",
       "invited_by_user_id                                1525  "
      ]
     },
     "execution_count": 4,
     "metadata": {},
     "output_type": "execute_result"
    }
   ],
   "source": [
    "users.head(3).T"
   ]
  },
  {
   "cell_type": "code",
   "execution_count": 5,
   "metadata": {},
   "outputs": [
    {
     "data": {
      "text/html": [
       "<div>\n",
       "<style scoped>\n",
       "    .dataframe tbody tr th:only-of-type {\n",
       "        vertical-align: middle;\n",
       "    }\n",
       "\n",
       "    .dataframe tbody tr th {\n",
       "        vertical-align: top;\n",
       "    }\n",
       "\n",
       "    .dataframe thead th {\n",
       "        text-align: right;\n",
       "    }\n",
       "</style>\n",
       "<table border=\"1\" class=\"dataframe\">\n",
       "  <thead>\n",
       "    <tr style=\"text-align: right;\">\n",
       "      <th></th>\n",
       "      <th>0</th>\n",
       "      <th>1</th>\n",
       "      <th>2</th>\n",
       "    </tr>\n",
       "  </thead>\n",
       "  <tbody>\n",
       "    <tr>\n",
       "      <th>time_stamp</th>\n",
       "      <td>4/22/2014 3:53</td>\n",
       "      <td>11/15/2013 3:45</td>\n",
       "      <td>11/29/2013 3:45</td>\n",
       "    </tr>\n",
       "    <tr>\n",
       "      <th>user_id</th>\n",
       "      <td>1</td>\n",
       "      <td>2</td>\n",
       "      <td>2</td>\n",
       "    </tr>\n",
       "    <tr>\n",
       "      <th>visited</th>\n",
       "      <td>1</td>\n",
       "      <td>1</td>\n",
       "      <td>1</td>\n",
       "    </tr>\n",
       "  </tbody>\n",
       "</table>\n",
       "</div>"
      ],
      "text/plain": [
       "                         0                1                2\n",
       "time_stamp  4/22/2014 3:53  11/15/2013 3:45  11/29/2013 3:45\n",
       "user_id                  1                2                2\n",
       "visited                  1                1                1"
      ]
     },
     "execution_count": 5,
     "metadata": {},
     "output_type": "execute_result"
    }
   ],
   "source": [
    "user_activity.head(3).T"
   ]
  },
  {
   "cell_type": "markdown",
   "metadata": {},
   "source": [
    "## Data Wrangling"
   ]
  },
  {
   "cell_type": "markdown",
   "metadata": {},
   "source": [
    "OK, the datasets are now loaded in. We see that we could merge the two datasets on the user_id ('object_id'). First, let's check both datasets."
   ]
  },
  {
   "cell_type": "markdown",
   "metadata": {},
   "source": [
    "Let's look at each data set, before being merged"
   ]
  },
  {
   "cell_type": "code",
   "execution_count": 6,
   "metadata": {},
   "outputs": [
    {
     "name": "stdout",
     "output_type": "stream",
     "text": [
      "<class 'pandas.core.frame.DataFrame'>\n",
      "RangeIndex: 207917 entries, 0 to 207916\n",
      "Data columns (total 3 columns):\n",
      " #   Column      Non-Null Count   Dtype \n",
      "---  ------      --------------   ----- \n",
      " 0   time_stamp  207917 non-null  object\n",
      " 1   user_id     207917 non-null  int64 \n",
      " 2   visited     207917 non-null  int64 \n",
      "dtypes: int64(2), object(1)\n",
      "memory usage: 4.8+ MB\n"
     ]
    }
   ],
   "source": [
    "user_activity.info()"
   ]
  },
  {
   "cell_type": "markdown",
   "metadata": {},
   "source": [
    "All looks good with the user activity data set, no missing values here"
   ]
  },
  {
   "cell_type": "code",
   "execution_count": 7,
   "metadata": {},
   "outputs": [
    {
     "name": "stdout",
     "output_type": "stream",
     "text": [
      "0     4/22/2014 3:53\n",
      "1    11/15/2013 3:45\n",
      "2    11/29/2013 3:45\n",
      "Name: time_stamp, dtype: object\n"
     ]
    }
   ],
   "source": [
    "# Before conversion:\n",
    "print(user_activity['time_stamp'].head(3))"
   ]
  },
  {
   "cell_type": "code",
   "execution_count": 8,
   "metadata": {},
   "outputs": [],
   "source": [
    "user_activity['time_stamp'] = pd.to_datetime(user_activity['time_stamp'])"
   ]
  },
  {
   "cell_type": "code",
   "execution_count": 9,
   "metadata": {},
   "outputs": [
    {
     "name": "stdout",
     "output_type": "stream",
     "text": [
      "0   2014-04-22 03:53:00\n",
      "1   2013-11-15 03:45:00\n",
      "2   2013-11-29 03:45:00\n",
      "Name: time_stamp, dtype: datetime64[ns]\n"
     ]
    }
   ],
   "source": [
    "# After conversion:\n",
    "print(user_activity['time_stamp'].head(3))"
   ]
  },
  {
   "cell_type": "markdown",
   "metadata": {},
   "source": [
    "### Some Data Wrangling"
   ]
  },
  {
   "cell_type": "code",
   "execution_count": 10,
   "metadata": {},
   "outputs": [
    {
     "data": {
      "text/html": [
       "<div>\n",
       "<style scoped>\n",
       "    .dataframe tbody tr th:only-of-type {\n",
       "        vertical-align: middle;\n",
       "    }\n",
       "\n",
       "    .dataframe tbody tr th {\n",
       "        vertical-align: top;\n",
       "    }\n",
       "\n",
       "    .dataframe thead th {\n",
       "        text-align: right;\n",
       "    }\n",
       "</style>\n",
       "<table border=\"1\" class=\"dataframe\">\n",
       "  <thead>\n",
       "    <tr style=\"text-align: right;\">\n",
       "      <th></th>\n",
       "      <th>time_stamp</th>\n",
       "      <th>user_id</th>\n",
       "      <th>visited</th>\n",
       "    </tr>\n",
       "  </thead>\n",
       "  <tbody>\n",
       "    <tr>\n",
       "      <th>0</th>\n",
       "      <td>2014-04-22 03:53:00</td>\n",
       "      <td>1</td>\n",
       "      <td>1</td>\n",
       "    </tr>\n",
       "    <tr>\n",
       "      <th>1</th>\n",
       "      <td>2013-11-15 03:45:00</td>\n",
       "      <td>2</td>\n",
       "      <td>1</td>\n",
       "    </tr>\n",
       "  </tbody>\n",
       "</table>\n",
       "</div>"
      ],
      "text/plain": [
       "           time_stamp  user_id  visited\n",
       "0 2014-04-22 03:53:00        1        1\n",
       "1 2013-11-15 03:45:00        2        1"
      ]
     },
     "execution_count": 10,
     "metadata": {},
     "output_type": "execute_result"
    }
   ],
   "source": [
    "user_activity.head(2)"
   ]
  },
  {
   "cell_type": "code",
   "execution_count": 11,
   "metadata": {},
   "outputs": [],
   "source": [
    "# Move 'time_stamp' into dataframe index\n",
    "user_activity.set_index('time_stamp', inplace=True)\n",
    "user_activity.sort_index(ascending=True, inplace=True)"
   ]
  },
  {
   "cell_type": "code",
   "execution_count": 12,
   "metadata": {},
   "outputs": [
    {
     "data": {
      "text/html": [
       "<div>\n",
       "<style scoped>\n",
       "    .dataframe tbody tr th:only-of-type {\n",
       "        vertical-align: middle;\n",
       "    }\n",
       "\n",
       "    .dataframe tbody tr th {\n",
       "        vertical-align: top;\n",
       "    }\n",
       "\n",
       "    .dataframe thead th {\n",
       "        text-align: right;\n",
       "    }\n",
       "</style>\n",
       "<table border=\"1\" class=\"dataframe\">\n",
       "  <thead>\n",
       "    <tr style=\"text-align: right;\">\n",
       "      <th></th>\n",
       "      <th>user_id</th>\n",
       "      <th>visited</th>\n",
       "    </tr>\n",
       "    <tr>\n",
       "      <th>time_stamp</th>\n",
       "      <th></th>\n",
       "      <th></th>\n",
       "    </tr>\n",
       "  </thead>\n",
       "  <tbody>\n",
       "    <tr>\n",
       "      <th>2012-05-31 08:20:00</th>\n",
       "      <td>10012</td>\n",
       "      <td>1</td>\n",
       "    </tr>\n",
       "    <tr>\n",
       "      <th>2012-05-31 15:47:00</th>\n",
       "      <td>3428</td>\n",
       "      <td>1</td>\n",
       "    </tr>\n",
       "    <tr>\n",
       "      <th>2012-05-31 17:19:00</th>\n",
       "      <td>9899</td>\n",
       "      <td>1</td>\n",
       "    </tr>\n",
       "  </tbody>\n",
       "</table>\n",
       "</div>"
      ],
      "text/plain": [
       "                     user_id  visited\n",
       "time_stamp                           \n",
       "2012-05-31 08:20:00    10012        1\n",
       "2012-05-31 15:47:00     3428        1\n",
       "2012-05-31 17:19:00     9899        1"
      ]
     },
     "execution_count": 12,
     "metadata": {},
     "output_type": "execute_result"
    }
   ],
   "source": [
    "user_activity.head(3)"
   ]
  },
  {
   "cell_type": "markdown",
   "metadata": {},
   "source": [
    "Let's add a counter field to count visits per user"
   ]
  },
  {
   "cell_type": "code",
   "execution_count": 13,
   "metadata": {},
   "outputs": [],
   "source": [
    "user_activity['Visit Counts'] = 1"
   ]
  },
  {
   "cell_type": "code",
   "execution_count": 14,
   "metadata": {},
   "outputs": [
    {
     "data": {
      "text/plain": [
       "time_stamp\n",
       "2012-05-31 08:20:00    1\n",
       "2012-05-31 15:47:00    1\n",
       "Name: Visit Counts, dtype: int64"
      ]
     },
     "execution_count": 14,
     "metadata": {},
     "output_type": "execute_result"
    }
   ],
   "source": [
    "user_activity['Visit Counts'].head(2)"
   ]
  },
  {
   "cell_type": "code",
   "execution_count": 15,
   "metadata": {},
   "outputs": [
    {
     "data": {
      "text/plain": [
       "time_stamp\n",
       "2014-06-04 23:56:00    1\n",
       "2014-06-06 14:58:00    1\n",
       "Name: Visit Counts, dtype: int64"
      ]
     },
     "execution_count": 15,
     "metadata": {},
     "output_type": "execute_result"
    }
   ],
   "source": [
    "user_activity['Visit Counts'].tail(2)"
   ]
  },
  {
   "cell_type": "markdown",
   "metadata": {},
   "source": [
    "OK, so we're looking at a time series for the period from 31-May-2012 through 06-Jun-2014"
   ]
  },
  {
   "cell_type": "markdown",
   "metadata": {},
   "source": [
    "### Aggregate user visits count in user activity data on a weekly period"
   ]
  },
  {
   "cell_type": "code",
   "execution_count": 16,
   "metadata": {},
   "outputs": [],
   "source": [
    "def visit_count(df, days=7, logins=3):\n",
    "    from datetime import timedelta\n",
    "    df['date'] = df.index\n",
    "    df = df.drop_duplicates(subset='date').sort_values('date')\n",
    "    interval_days = df['date'].diff(periods=logins-1)\n",
    "    return any(interval_days <= timedelta(days=days))"
   ]
  },
  {
   "cell_type": "code",
   "execution_count": 17,
   "metadata": {
    "scrolled": false
   },
   "outputs": [],
   "source": [
    "# Aggregate visits on a 7-day interval and count to see if there are at least 3 separate day logins\n",
    "logs_weekly = user_activity.groupby('user_id').apply(visit_count)"
   ]
  },
  {
   "cell_type": "code",
   "execution_count": 18,
   "metadata": {},
   "outputs": [
    {
     "name": "stdout",
     "output_type": "stream",
     "text": [
      "total active user accounts is:  8823\n",
      "total adopted user accounts is:  1656\n"
     ]
    }
   ],
   "source": [
    "print('total active user accounts is: ', len(logs_weekly))\n",
    "print('total adopted user accounts is: ', sum(logs_weekly))"
   ]
  },
  {
   "cell_type": "code",
   "execution_count": 19,
   "metadata": {},
   "outputs": [
    {
     "data": {
      "text/plain": [
       "user_id\n",
       "1        False\n",
       "2         True\n",
       "3        False\n",
       "4        False\n",
       "5        False\n",
       "         ...  \n",
       "11996    False\n",
       "11997    False\n",
       "11998    False\n",
       "11999    False\n",
       "12000    False\n",
       "Length: 8823, dtype: bool"
      ]
     },
     "execution_count": 19,
     "metadata": {},
     "output_type": "execute_result"
    }
   ],
   "source": [
    "# we will use the boolean Series to label User Accounts as either 'Adopted User' or not\n",
    "logs_weekly"
   ]
  },
  {
   "cell_type": "markdown",
   "metadata": {},
   "source": [
    "### Any missing data?"
   ]
  },
  {
   "cell_type": "markdown",
   "metadata": {},
   "source": [
    "Now, let's look at the User Profile Data"
   ]
  },
  {
   "cell_type": "code",
   "execution_count": 20,
   "metadata": {},
   "outputs": [
    {
     "name": "stdout",
     "output_type": "stream",
     "text": [
      "<class 'pandas.core.frame.DataFrame'>\n",
      "RangeIndex: 12000 entries, 0 to 11999\n",
      "Data columns (total 10 columns):\n",
      " #   Column                      Non-Null Count  Dtype  \n",
      "---  ------                      --------------  -----  \n",
      " 0   object_id                   12000 non-null  int64  \n",
      " 1   creation_time               12000 non-null  object \n",
      " 2   name                        12000 non-null  object \n",
      " 3   email                       12000 non-null  object \n",
      " 4   creation_source             12000 non-null  object \n",
      " 5   last_session_creation_time  8823 non-null   float64\n",
      " 6   opted_in_to_mailing_list    12000 non-null  int64  \n",
      " 7   enabled_for_marketing_drip  12000 non-null  int64  \n",
      " 8   org_id                      12000 non-null  int64  \n",
      " 9   invited_by_user_id          6417 non-null   float64\n",
      "dtypes: float64(2), int64(4), object(4)\n",
      "memory usage: 937.6+ KB\n"
     ]
    }
   ],
   "source": [
    "users.info()"
   ]
  },
  {
   "cell_type": "markdown",
   "metadata": {},
   "source": [
    "Theare are 3,177 missing values in the 'last_session_creation_time' in the Users dataset"
   ]
  },
  {
   "cell_type": "markdown",
   "metadata": {},
   "source": [
    "### Filter for users, who have ever logged in"
   ]
  },
  {
   "cell_type": "code",
   "execution_count": 21,
   "metadata": {},
   "outputs": [],
   "source": [
    "# This means, filer out rows with 3,177 missing values in the 'last_session_creation_time' columns\n",
    "users.dropna(how='any', subset=['last_session_creation_time'], inplace=True)"
   ]
  },
  {
   "cell_type": "code",
   "execution_count": 22,
   "metadata": {},
   "outputs": [
    {
     "name": "stdout",
     "output_type": "stream",
     "text": [
      "<class 'pandas.core.frame.DataFrame'>\n",
      "Int64Index: 8823 entries, 0 to 11999\n",
      "Data columns (total 10 columns):\n",
      " #   Column                      Non-Null Count  Dtype  \n",
      "---  ------                      --------------  -----  \n",
      " 0   object_id                   8823 non-null   int64  \n",
      " 1   creation_time               8823 non-null   object \n",
      " 2   name                        8823 non-null   object \n",
      " 3   email                       8823 non-null   object \n",
      " 4   creation_source             8823 non-null   object \n",
      " 5   last_session_creation_time  8823 non-null   float64\n",
      " 6   opted_in_to_mailing_list    8823 non-null   int64  \n",
      " 7   enabled_for_marketing_drip  8823 non-null   int64  \n",
      " 8   org_id                      8823 non-null   int64  \n",
      " 9   invited_by_user_id          4776 non-null   float64\n",
      "dtypes: float64(2), int64(4), object(4)\n",
      "memory usage: 758.2+ KB\n"
     ]
    }
   ],
   "source": [
    "users.info()"
   ]
  },
  {
   "cell_type": "markdown",
   "metadata": {},
   "source": [
    "### Label self-signups vs sign-ups by invitation"
   ]
  },
  {
   "cell_type": "markdown",
   "metadata": {},
   "source": [
    "We notice that out of 8,823 activated user accounts, 4,047 were self-signups, while the balance 4,776 were invited by someone else. Let's label them accordingly - this might serve as a useful feature later on."
   ]
  },
  {
   "cell_type": "code",
   "execution_count": 23,
   "metadata": {},
   "outputs": [],
   "source": [
    "# Label the null/blank 'invited_by_user_id' values as 'SELF', and 'SOMEONE' otherwise - add a field\n",
    "users['Who_invited'] = np.where(users['invited_by_user_id'].isnull(), 'SELF', 'SOMEONE')"
   ]
  },
  {
   "cell_type": "code",
   "execution_count": 24,
   "metadata": {},
   "outputs": [
    {
     "data": {
      "text/html": [
       "<div>\n",
       "<style scoped>\n",
       "    .dataframe tbody tr th:only-of-type {\n",
       "        vertical-align: middle;\n",
       "    }\n",
       "\n",
       "    .dataframe tbody tr th {\n",
       "        vertical-align: top;\n",
       "    }\n",
       "\n",
       "    .dataframe thead th {\n",
       "        text-align: right;\n",
       "    }\n",
       "</style>\n",
       "<table border=\"1\" class=\"dataframe\">\n",
       "  <thead>\n",
       "    <tr style=\"text-align: right;\">\n",
       "      <th></th>\n",
       "      <th>invited_by_user_id</th>\n",
       "      <th>Who_invited</th>\n",
       "    </tr>\n",
       "  </thead>\n",
       "  <tbody>\n",
       "    <tr>\n",
       "      <th>0</th>\n",
       "      <td>10803.0</td>\n",
       "      <td>SOMEONE</td>\n",
       "    </tr>\n",
       "    <tr>\n",
       "      <th>1</th>\n",
       "      <td>316.0</td>\n",
       "      <td>SOMEONE</td>\n",
       "    </tr>\n",
       "    <tr>\n",
       "      <th>2</th>\n",
       "      <td>1525.0</td>\n",
       "      <td>SOMEONE</td>\n",
       "    </tr>\n",
       "    <tr>\n",
       "      <th>3</th>\n",
       "      <td>5151.0</td>\n",
       "      <td>SOMEONE</td>\n",
       "    </tr>\n",
       "    <tr>\n",
       "      <th>4</th>\n",
       "      <td>5240.0</td>\n",
       "      <td>SOMEONE</td>\n",
       "    </tr>\n",
       "    <tr>\n",
       "      <th>5</th>\n",
       "      <td>11241.0</td>\n",
       "      <td>SOMEONE</td>\n",
       "    </tr>\n",
       "    <tr>\n",
       "      <th>6</th>\n",
       "      <td>NaN</td>\n",
       "      <td>SELF</td>\n",
       "    </tr>\n",
       "  </tbody>\n",
       "</table>\n",
       "</div>"
      ],
      "text/plain": [
       "   invited_by_user_id Who_invited\n",
       "0             10803.0     SOMEONE\n",
       "1               316.0     SOMEONE\n",
       "2              1525.0     SOMEONE\n",
       "3              5151.0     SOMEONE\n",
       "4              5240.0     SOMEONE\n",
       "5             11241.0     SOMEONE\n",
       "6                 NaN        SELF"
      ]
     },
     "execution_count": 24,
     "metadata": {},
     "output_type": "execute_result"
    }
   ],
   "source": [
    "users[['invited_by_user_id', 'Who_invited']].head(7)"
   ]
  },
  {
   "cell_type": "markdown",
   "metadata": {},
   "source": [
    "### Add 'Adopted User' column, using the 'logs_weekly' series from the 'user activity' df"
   ]
  },
  {
   "cell_type": "markdown",
   "metadata": {},
   "source": [
    "\"Adopted User\" is a user, who has logged into the product on 3 separate days, in at least one 7-day period."
   ]
  },
  {
   "cell_type": "code",
   "execution_count": 25,
   "metadata": {},
   "outputs": [],
   "source": [
    "# Assign 'adopted user' label to user accounts, based on 3+ logs_weekly counts within any 7-day period\n",
    "users['Adopted User'] = logs_weekly"
   ]
  },
  {
   "cell_type": "code",
   "execution_count": 26,
   "metadata": {},
   "outputs": [
    {
     "data": {
      "text/html": [
       "<div>\n",
       "<style scoped>\n",
       "    .dataframe tbody tr th:only-of-type {\n",
       "        vertical-align: middle;\n",
       "    }\n",
       "\n",
       "    .dataframe tbody tr th {\n",
       "        vertical-align: top;\n",
       "    }\n",
       "\n",
       "    .dataframe thead th {\n",
       "        text-align: right;\n",
       "    }\n",
       "</style>\n",
       "<table border=\"1\" class=\"dataframe\">\n",
       "  <thead>\n",
       "    <tr style=\"text-align: right;\">\n",
       "      <th></th>\n",
       "      <th>object_id</th>\n",
       "      <th>creation_time</th>\n",
       "      <th>name</th>\n",
       "      <th>email</th>\n",
       "      <th>creation_source</th>\n",
       "      <th>last_session_creation_time</th>\n",
       "      <th>opted_in_to_mailing_list</th>\n",
       "      <th>enabled_for_marketing_drip</th>\n",
       "      <th>org_id</th>\n",
       "      <th>invited_by_user_id</th>\n",
       "      <th>Who_invited</th>\n",
       "      <th>Adopted User</th>\n",
       "    </tr>\n",
       "  </thead>\n",
       "  <tbody>\n",
       "    <tr>\n",
       "      <th>0</th>\n",
       "      <td>1</td>\n",
       "      <td>4/22/2014 3:53</td>\n",
       "      <td>Clausen August</td>\n",
       "      <td>AugustCClausen@yahoo.com</td>\n",
       "      <td>GUEST_INVITE</td>\n",
       "      <td>1.398139e+09</td>\n",
       "      <td>1</td>\n",
       "      <td>0</td>\n",
       "      <td>11</td>\n",
       "      <td>10803.0</td>\n",
       "      <td>SOMEONE</td>\n",
       "      <td>NaN</td>\n",
       "    </tr>\n",
       "    <tr>\n",
       "      <th>1</th>\n",
       "      <td>2</td>\n",
       "      <td>11/15/2013 3:45</td>\n",
       "      <td>Poole Matthew</td>\n",
       "      <td>MatthewPoole@gustr.com</td>\n",
       "      <td>ORG_INVITE</td>\n",
       "      <td>1.396238e+09</td>\n",
       "      <td>0</td>\n",
       "      <td>0</td>\n",
       "      <td>1</td>\n",
       "      <td>316.0</td>\n",
       "      <td>SOMEONE</td>\n",
       "      <td>False</td>\n",
       "    </tr>\n",
       "    <tr>\n",
       "      <th>2</th>\n",
       "      <td>3</td>\n",
       "      <td>3/19/2013 23:14</td>\n",
       "      <td>Bottrill Mitchell</td>\n",
       "      <td>MitchellBottrill@gustr.com</td>\n",
       "      <td>ORG_INVITE</td>\n",
       "      <td>1.363735e+09</td>\n",
       "      <td>0</td>\n",
       "      <td>0</td>\n",
       "      <td>94</td>\n",
       "      <td>1525.0</td>\n",
       "      <td>SOMEONE</td>\n",
       "      <td>True</td>\n",
       "    </tr>\n",
       "    <tr>\n",
       "      <th>3</th>\n",
       "      <td>4</td>\n",
       "      <td>5/21/2013 8:09</td>\n",
       "      <td>Clausen Nicklas</td>\n",
       "      <td>NicklasSClausen@yahoo.com</td>\n",
       "      <td>GUEST_INVITE</td>\n",
       "      <td>1.369210e+09</td>\n",
       "      <td>0</td>\n",
       "      <td>0</td>\n",
       "      <td>1</td>\n",
       "      <td>5151.0</td>\n",
       "      <td>SOMEONE</td>\n",
       "      <td>False</td>\n",
       "    </tr>\n",
       "    <tr>\n",
       "      <th>4</th>\n",
       "      <td>5</td>\n",
       "      <td>1/17/2013 10:14</td>\n",
       "      <td>Raw Grace</td>\n",
       "      <td>GraceRaw@yahoo.com</td>\n",
       "      <td>GUEST_INVITE</td>\n",
       "      <td>1.358850e+09</td>\n",
       "      <td>0</td>\n",
       "      <td>0</td>\n",
       "      <td>193</td>\n",
       "      <td>5240.0</td>\n",
       "      <td>SOMEONE</td>\n",
       "      <td>False</td>\n",
       "    </tr>\n",
       "    <tr>\n",
       "      <th>5</th>\n",
       "      <td>6</td>\n",
       "      <td>12/17/2013 3:37</td>\n",
       "      <td>Cunha Eduardo</td>\n",
       "      <td>EduardoPereiraCunha@yahoo.com</td>\n",
       "      <td>GUEST_INVITE</td>\n",
       "      <td>1.387424e+09</td>\n",
       "      <td>0</td>\n",
       "      <td>0</td>\n",
       "      <td>197</td>\n",
       "      <td>11241.0</td>\n",
       "      <td>SOMEONE</td>\n",
       "      <td>False</td>\n",
       "    </tr>\n",
       "    <tr>\n",
       "      <th>6</th>\n",
       "      <td>7</td>\n",
       "      <td>12/16/2012 13:24</td>\n",
       "      <td>Sewell Tyler</td>\n",
       "      <td>TylerSewell@jourrapide.com</td>\n",
       "      <td>SIGNUP</td>\n",
       "      <td>1.356010e+09</td>\n",
       "      <td>0</td>\n",
       "      <td>1</td>\n",
       "      <td>37</td>\n",
       "      <td>NaN</td>\n",
       "      <td>SELF</td>\n",
       "      <td>False</td>\n",
       "    </tr>\n",
       "  </tbody>\n",
       "</table>\n",
       "</div>"
      ],
      "text/plain": [
       "   object_id     creation_time               name  \\\n",
       "0          1    4/22/2014 3:53     Clausen August   \n",
       "1          2   11/15/2013 3:45      Poole Matthew   \n",
       "2          3   3/19/2013 23:14  Bottrill Mitchell   \n",
       "3          4    5/21/2013 8:09    Clausen Nicklas   \n",
       "4          5   1/17/2013 10:14          Raw Grace   \n",
       "5          6   12/17/2013 3:37      Cunha Eduardo   \n",
       "6          7  12/16/2012 13:24       Sewell Tyler   \n",
       "\n",
       "                           email creation_source  last_session_creation_time  \\\n",
       "0       AugustCClausen@yahoo.com    GUEST_INVITE                1.398139e+09   \n",
       "1         MatthewPoole@gustr.com      ORG_INVITE                1.396238e+09   \n",
       "2     MitchellBottrill@gustr.com      ORG_INVITE                1.363735e+09   \n",
       "3      NicklasSClausen@yahoo.com    GUEST_INVITE                1.369210e+09   \n",
       "4             GraceRaw@yahoo.com    GUEST_INVITE                1.358850e+09   \n",
       "5  EduardoPereiraCunha@yahoo.com    GUEST_INVITE                1.387424e+09   \n",
       "6     TylerSewell@jourrapide.com          SIGNUP                1.356010e+09   \n",
       "\n",
       "   opted_in_to_mailing_list  enabled_for_marketing_drip  org_id  \\\n",
       "0                         1                           0      11   \n",
       "1                         0                           0       1   \n",
       "2                         0                           0      94   \n",
       "3                         0                           0       1   \n",
       "4                         0                           0     193   \n",
       "5                         0                           0     197   \n",
       "6                         0                           1      37   \n",
       "\n",
       "   invited_by_user_id Who_invited Adopted User  \n",
       "0             10803.0     SOMEONE          NaN  \n",
       "1               316.0     SOMEONE        False  \n",
       "2              1525.0     SOMEONE         True  \n",
       "3              5151.0     SOMEONE        False  \n",
       "4              5240.0     SOMEONE        False  \n",
       "5             11241.0     SOMEONE        False  \n",
       "6                 NaN        SELF        False  "
      ]
     },
     "execution_count": 26,
     "metadata": {},
     "output_type": "execute_result"
    }
   ],
   "source": [
    "users.head(7)"
   ]
  },
  {
   "cell_type": "code",
   "execution_count": 27,
   "metadata": {},
   "outputs": [
    {
     "name": "stdout",
     "output_type": "stream",
     "text": [
      "<class 'pandas.core.frame.DataFrame'>\n",
      "Int64Index: 8823 entries, 0 to 11999\n",
      "Data columns (total 12 columns):\n",
      " #   Column                      Non-Null Count  Dtype  \n",
      "---  ------                      --------------  -----  \n",
      " 0   object_id                   8823 non-null   int64  \n",
      " 1   creation_time               8823 non-null   object \n",
      " 2   name                        8823 non-null   object \n",
      " 3   email                       8823 non-null   object \n",
      " 4   creation_source             8823 non-null   object \n",
      " 5   last_session_creation_time  8823 non-null   float64\n",
      " 6   opted_in_to_mailing_list    8823 non-null   int64  \n",
      " 7   enabled_for_marketing_drip  8823 non-null   int64  \n",
      " 8   org_id                      8823 non-null   int64  \n",
      " 9   invited_by_user_id          4776 non-null   float64\n",
      " 10  Who_invited                 8823 non-null   object \n",
      " 11  Adopted User                6473 non-null   object \n",
      "dtypes: float64(2), int64(4), object(6)\n",
      "memory usage: 896.1+ KB\n"
     ]
    }
   ],
   "source": [
    "users.info()"
   ]
  },
  {
   "cell_type": "markdown",
   "metadata": {},
   "source": [
    "There are missing values in the 'Adopted User' column - let's impute with '0's"
   ]
  },
  {
   "cell_type": "code",
   "execution_count": 28,
   "metadata": {},
   "outputs": [],
   "source": [
    "users['Adopted User'].fillna(value=0, inplace=True)"
   ]
  },
  {
   "cell_type": "code",
   "execution_count": 29,
   "metadata": {},
   "outputs": [
    {
     "name": "stdout",
     "output_type": "stream",
     "text": [
      "<class 'pandas.core.frame.DataFrame'>\n",
      "Int64Index: 8823 entries, 0 to 11999\n",
      "Data columns (total 12 columns):\n",
      " #   Column                      Non-Null Count  Dtype  \n",
      "---  ------                      --------------  -----  \n",
      " 0   object_id                   8823 non-null   int64  \n",
      " 1   creation_time               8823 non-null   object \n",
      " 2   name                        8823 non-null   object \n",
      " 3   email                       8823 non-null   object \n",
      " 4   creation_source             8823 non-null   object \n",
      " 5   last_session_creation_time  8823 non-null   float64\n",
      " 6   opted_in_to_mailing_list    8823 non-null   int64  \n",
      " 7   enabled_for_marketing_drip  8823 non-null   int64  \n",
      " 8   org_id                      8823 non-null   int64  \n",
      " 9   invited_by_user_id          4776 non-null   float64\n",
      " 10  Who_invited                 8823 non-null   object \n",
      " 11  Adopted User                8823 non-null   object \n",
      "dtypes: float64(2), int64(4), object(6)\n",
      "memory usage: 896.1+ KB\n"
     ]
    }
   ],
   "source": [
    "users.info()"
   ]
  },
  {
   "cell_type": "markdown",
   "metadata": {},
   "source": [
    "### Merge"
   ]
  },
  {
   "cell_type": "code",
   "execution_count": 30,
   "metadata": {},
   "outputs": [],
   "source": [
    "# first rename 'object_id' to 'user_id' in the Users dataframe\n",
    "users.rename(columns={\"object_id\": \"user_id\"}, inplace=True)"
   ]
  },
  {
   "cell_type": "code",
   "execution_count": 31,
   "metadata": {},
   "outputs": [
    {
     "data": {
      "text/html": [
       "<div>\n",
       "<style scoped>\n",
       "    .dataframe tbody tr th:only-of-type {\n",
       "        vertical-align: middle;\n",
       "    }\n",
       "\n",
       "    .dataframe tbody tr th {\n",
       "        vertical-align: top;\n",
       "    }\n",
       "\n",
       "    .dataframe thead th {\n",
       "        text-align: right;\n",
       "    }\n",
       "</style>\n",
       "<table border=\"1\" class=\"dataframe\">\n",
       "  <thead>\n",
       "    <tr style=\"text-align: right;\">\n",
       "      <th></th>\n",
       "      <th>user_id</th>\n",
       "      <th>creation_time</th>\n",
       "      <th>name</th>\n",
       "      <th>email</th>\n",
       "      <th>creation_source</th>\n",
       "      <th>last_session_creation_time</th>\n",
       "      <th>opted_in_to_mailing_list</th>\n",
       "      <th>enabled_for_marketing_drip</th>\n",
       "      <th>org_id</th>\n",
       "      <th>invited_by_user_id</th>\n",
       "      <th>Who_invited</th>\n",
       "      <th>Adopted User</th>\n",
       "    </tr>\n",
       "  </thead>\n",
       "  <tbody>\n",
       "    <tr>\n",
       "      <th>0</th>\n",
       "      <td>1</td>\n",
       "      <td>4/22/2014 3:53</td>\n",
       "      <td>Clausen August</td>\n",
       "      <td>AugustCClausen@yahoo.com</td>\n",
       "      <td>GUEST_INVITE</td>\n",
       "      <td>1.398139e+09</td>\n",
       "      <td>1</td>\n",
       "      <td>0</td>\n",
       "      <td>11</td>\n",
       "      <td>10803.0</td>\n",
       "      <td>SOMEONE</td>\n",
       "      <td>0</td>\n",
       "    </tr>\n",
       "    <tr>\n",
       "      <th>1</th>\n",
       "      <td>2</td>\n",
       "      <td>11/15/2013 3:45</td>\n",
       "      <td>Poole Matthew</td>\n",
       "      <td>MatthewPoole@gustr.com</td>\n",
       "      <td>ORG_INVITE</td>\n",
       "      <td>1.396238e+09</td>\n",
       "      <td>0</td>\n",
       "      <td>0</td>\n",
       "      <td>1</td>\n",
       "      <td>316.0</td>\n",
       "      <td>SOMEONE</td>\n",
       "      <td>False</td>\n",
       "    </tr>\n",
       "    <tr>\n",
       "      <th>2</th>\n",
       "      <td>3</td>\n",
       "      <td>3/19/2013 23:14</td>\n",
       "      <td>Bottrill Mitchell</td>\n",
       "      <td>MitchellBottrill@gustr.com</td>\n",
       "      <td>ORG_INVITE</td>\n",
       "      <td>1.363735e+09</td>\n",
       "      <td>0</td>\n",
       "      <td>0</td>\n",
       "      <td>94</td>\n",
       "      <td>1525.0</td>\n",
       "      <td>SOMEONE</td>\n",
       "      <td>True</td>\n",
       "    </tr>\n",
       "  </tbody>\n",
       "</table>\n",
       "</div>"
      ],
      "text/plain": [
       "   user_id    creation_time               name                       email  \\\n",
       "0        1   4/22/2014 3:53     Clausen August    AugustCClausen@yahoo.com   \n",
       "1        2  11/15/2013 3:45      Poole Matthew      MatthewPoole@gustr.com   \n",
       "2        3  3/19/2013 23:14  Bottrill Mitchell  MitchellBottrill@gustr.com   \n",
       "\n",
       "  creation_source  last_session_creation_time  opted_in_to_mailing_list  \\\n",
       "0    GUEST_INVITE                1.398139e+09                         1   \n",
       "1      ORG_INVITE                1.396238e+09                         0   \n",
       "2      ORG_INVITE                1.363735e+09                         0   \n",
       "\n",
       "   enabled_for_marketing_drip  org_id  invited_by_user_id Who_invited  \\\n",
       "0                           0      11             10803.0     SOMEONE   \n",
       "1                           0       1               316.0     SOMEONE   \n",
       "2                           0      94              1525.0     SOMEONE   \n",
       "\n",
       "  Adopted User  \n",
       "0            0  \n",
       "1        False  \n",
       "2         True  "
      ]
     },
     "execution_count": 31,
     "metadata": {},
     "output_type": "execute_result"
    }
   ],
   "source": [
    "users.head(3)"
   ]
  },
  {
   "cell_type": "code",
   "execution_count": 32,
   "metadata": {},
   "outputs": [],
   "source": [
    "# Now, merge the two on 'user_id'\n",
    "user_logs = user_activity.merge(users, on='user_id', how='left')"
   ]
  },
  {
   "cell_type": "code",
   "execution_count": 33,
   "metadata": {
    "scrolled": false
   },
   "outputs": [
    {
     "data": {
      "text/html": [
       "<div>\n",
       "<style scoped>\n",
       "    .dataframe tbody tr th:only-of-type {\n",
       "        vertical-align: middle;\n",
       "    }\n",
       "\n",
       "    .dataframe tbody tr th {\n",
       "        vertical-align: top;\n",
       "    }\n",
       "\n",
       "    .dataframe thead th {\n",
       "        text-align: right;\n",
       "    }\n",
       "</style>\n",
       "<table border=\"1\" class=\"dataframe\">\n",
       "  <thead>\n",
       "    <tr style=\"text-align: right;\">\n",
       "      <th></th>\n",
       "      <th>0</th>\n",
       "      <th>1</th>\n",
       "      <th>2</th>\n",
       "    </tr>\n",
       "  </thead>\n",
       "  <tbody>\n",
       "    <tr>\n",
       "      <th>user_id</th>\n",
       "      <td>10012</td>\n",
       "      <td>3428</td>\n",
       "      <td>9899</td>\n",
       "    </tr>\n",
       "    <tr>\n",
       "      <th>visited</th>\n",
       "      <td>1</td>\n",
       "      <td>1</td>\n",
       "      <td>1</td>\n",
       "    </tr>\n",
       "    <tr>\n",
       "      <th>Visit Counts</th>\n",
       "      <td>1</td>\n",
       "      <td>1</td>\n",
       "      <td>1</td>\n",
       "    </tr>\n",
       "    <tr>\n",
       "      <th>creation_time</th>\n",
       "      <td>5/31/2012 8:20</td>\n",
       "      <td>5/31/2012 15:47</td>\n",
       "      <td>5/31/2012 17:19</td>\n",
       "    </tr>\n",
       "    <tr>\n",
       "      <th>name</th>\n",
       "      <td>Spikes Danille</td>\n",
       "      <td>Spears Arthur</td>\n",
       "      <td>Jørgensen Sofie</td>\n",
       "    </tr>\n",
       "    <tr>\n",
       "      <th>email</th>\n",
       "      <td>DanilleJSpikes@hotmail.com</td>\n",
       "      <td>ArthurJSpears@gmail.com</td>\n",
       "      <td>SofieNJrgensen@yahoo.com</td>\n",
       "    </tr>\n",
       "    <tr>\n",
       "      <th>creation_source</th>\n",
       "      <td>ORG_INVITE</td>\n",
       "      <td>SIGNUP_GOOGLE_AUTH</td>\n",
       "      <td>ORG_INVITE</td>\n",
       "    </tr>\n",
       "    <tr>\n",
       "      <th>last_session_creation_time</th>\n",
       "      <td>1.33845e+09</td>\n",
       "      <td>1.35282e+09</td>\n",
       "      <td>1.33848e+09</td>\n",
       "    </tr>\n",
       "    <tr>\n",
       "      <th>opted_in_to_mailing_list</th>\n",
       "      <td>0</td>\n",
       "      <td>1</td>\n",
       "      <td>0</td>\n",
       "    </tr>\n",
       "    <tr>\n",
       "      <th>enabled_for_marketing_drip</th>\n",
       "      <td>1</td>\n",
       "      <td>0</td>\n",
       "      <td>0</td>\n",
       "    </tr>\n",
       "    <tr>\n",
       "      <th>org_id</th>\n",
       "      <td>225</td>\n",
       "      <td>166</td>\n",
       "      <td>138</td>\n",
       "    </tr>\n",
       "    <tr>\n",
       "      <th>invited_by_user_id</th>\n",
       "      <td>7104</td>\n",
       "      <td>NaN</td>\n",
       "      <td>9899</td>\n",
       "    </tr>\n",
       "    <tr>\n",
       "      <th>Who_invited</th>\n",
       "      <td>SOMEONE</td>\n",
       "      <td>SELF</td>\n",
       "      <td>SOMEONE</td>\n",
       "    </tr>\n",
       "    <tr>\n",
       "      <th>Adopted User</th>\n",
       "      <td>True</td>\n",
       "      <td>False</td>\n",
       "      <td>False</td>\n",
       "    </tr>\n",
       "  </tbody>\n",
       "</table>\n",
       "</div>"
      ],
      "text/plain": [
       "                                                     0  \\\n",
       "user_id                                          10012   \n",
       "visited                                              1   \n",
       "Visit Counts                                         1   \n",
       "creation_time                           5/31/2012 8:20   \n",
       "name                                    Spikes Danille   \n",
       "email                       DanilleJSpikes@hotmail.com   \n",
       "creation_source                             ORG_INVITE   \n",
       "last_session_creation_time                 1.33845e+09   \n",
       "opted_in_to_mailing_list                             0   \n",
       "enabled_for_marketing_drip                           1   \n",
       "org_id                                             225   \n",
       "invited_by_user_id                                7104   \n",
       "Who_invited                                    SOMEONE   \n",
       "Adopted User                                      True   \n",
       "\n",
       "                                                  1                         2  \n",
       "user_id                                        3428                      9899  \n",
       "visited                                           1                         1  \n",
       "Visit Counts                                      1                         1  \n",
       "creation_time                       5/31/2012 15:47           5/31/2012 17:19  \n",
       "name                                  Spears Arthur           Jørgensen Sofie  \n",
       "email                       ArthurJSpears@gmail.com  SofieNJrgensen@yahoo.com  \n",
       "creation_source                  SIGNUP_GOOGLE_AUTH                ORG_INVITE  \n",
       "last_session_creation_time              1.35282e+09               1.33848e+09  \n",
       "opted_in_to_mailing_list                          1                         0  \n",
       "enabled_for_marketing_drip                        0                         0  \n",
       "org_id                                          166                       138  \n",
       "invited_by_user_id                              NaN                      9899  \n",
       "Who_invited                                    SELF                   SOMEONE  \n",
       "Adopted User                                  False                     False  "
      ]
     },
     "execution_count": 33,
     "metadata": {},
     "output_type": "execute_result"
    }
   ],
   "source": [
    "user_logs.head(3).T"
   ]
  },
  {
   "cell_type": "markdown",
   "metadata": {},
   "source": [
    "#### Convert date fields, including UNIX Timestamp into pandas datetime format"
   ]
  },
  {
   "cell_type": "code",
   "execution_count": 34,
   "metadata": {},
   "outputs": [
    {
     "name": "stdout",
     "output_type": "stream",
     "text": [
      "0     5/31/2012 8:20\n",
      "1    5/31/2012 15:47\n",
      "2    5/31/2012 17:19\n",
      "Name: creation_time, dtype: object\n",
      "0    1.338452e+09\n",
      "1    1.352822e+09\n",
      "2    1.338485e+09\n",
      "Name: last_session_creation_time, dtype: float64\n"
     ]
    }
   ],
   "source": [
    "# Before conversion:\n",
    "print(user_logs['creation_time'].head(3))\n",
    "print(user_logs['last_session_creation_time'].head(3))"
   ]
  },
  {
   "cell_type": "code",
   "execution_count": 35,
   "metadata": {},
   "outputs": [],
   "source": [
    "user_logs['creation_time'] = pd.to_datetime(user_logs['creation_time'])\n",
    "\n",
    "user_logs['last_session_creation_time'] = pd.to_datetime(user_logs['last_session_creation_time'],\n",
    "                                                         unit='s')"
   ]
  },
  {
   "cell_type": "code",
   "execution_count": 36,
   "metadata": {},
   "outputs": [
    {
     "name": "stdout",
     "output_type": "stream",
     "text": [
      "0   2012-05-31 08:20:00\n",
      "1   2012-05-31 15:47:00\n",
      "2   2012-05-31 17:19:00\n",
      "Name: creation_time, dtype: datetime64[ns]\n",
      "0   2012-05-31 08:20:06\n",
      "1   2012-11-13 15:47:36\n",
      "2   2012-05-31 17:19:37\n",
      "Name: last_session_creation_time, dtype: datetime64[ns]\n"
     ]
    }
   ],
   "source": [
    "# After conversion:\n",
    "print(user_logs['creation_time'].head(3))\n",
    "print(user_logs['last_session_creation_time'].head(3))"
   ]
  },
  {
   "cell_type": "code",
   "execution_count": 37,
   "metadata": {},
   "outputs": [
    {
     "name": "stdout",
     "output_type": "stream",
     "text": [
      "<class 'pandas.core.frame.DataFrame'>\n",
      "Int64Index: 207917 entries, 0 to 207916\n",
      "Data columns (total 14 columns):\n",
      " #   Column                      Non-Null Count   Dtype         \n",
      "---  ------                      --------------   -----         \n",
      " 0   user_id                     207917 non-null  int64         \n",
      " 1   visited                     207917 non-null  int64         \n",
      " 2   Visit Counts                207917 non-null  int64         \n",
      " 3   creation_time               207917 non-null  datetime64[ns]\n",
      " 4   name                        207917 non-null  object        \n",
      " 5   email                       207917 non-null  object        \n",
      " 6   creation_source             207917 non-null  object        \n",
      " 7   last_session_creation_time  207917 non-null  datetime64[ns]\n",
      " 8   opted_in_to_mailing_list    207917 non-null  int64         \n",
      " 9   enabled_for_marketing_drip  207917 non-null  int64         \n",
      " 10  org_id                      207917 non-null  int64         \n",
      " 11  invited_by_user_id          116887 non-null  float64       \n",
      " 12  Who_invited                 207917 non-null  object        \n",
      " 13  Adopted User                207917 non-null  object        \n",
      "dtypes: datetime64[ns](2), float64(1), int64(6), object(5)\n",
      "memory usage: 23.8+ MB\n"
     ]
    }
   ],
   "source": [
    "user_logs.info()"
   ]
  },
  {
   "cell_type": "markdown",
   "metadata": {},
   "source": [
    "## Exploratory Analysis"
   ]
  },
  {
   "cell_type": "code",
   "execution_count": null,
   "metadata": {},
   "outputs": [],
   "source": []
  },
  {
   "cell_type": "code",
   "execution_count": null,
   "metadata": {},
   "outputs": [],
   "source": []
  },
  {
   "cell_type": "code",
   "execution_count": null,
   "metadata": {},
   "outputs": [],
   "source": []
  },
  {
   "cell_type": "code",
   "execution_count": null,
   "metadata": {},
   "outputs": [],
   "source": []
  },
  {
   "cell_type": "markdown",
   "metadata": {},
   "source": [
    "## Visualization and Feature Engineering"
   ]
  },
  {
   "cell_type": "markdown",
   "metadata": {},
   "source": [
    "### Useful Features"
   ]
  },
  {
   "cell_type": "code",
   "execution_count": 38,
   "metadata": {},
   "outputs": [],
   "source": [
    "# Add Age from account creation through Last Login:\n",
    "user_logs['Account_Age'] = user_logs.iloc[:,7]-user_logs.iloc[:,3]"
   ]
  },
  {
   "cell_type": "code",
   "execution_count": 39,
   "metadata": {},
   "outputs": [
    {
     "name": "stdout",
     "output_type": "stream",
     "text": [
      "<class 'pandas.core.frame.DataFrame'>\n",
      "Int64Index: 207917 entries, 0 to 207916\n",
      "Data columns (total 15 columns):\n",
      " #   Column                      Non-Null Count   Dtype          \n",
      "---  ------                      --------------   -----          \n",
      " 0   user_id                     207917 non-null  int64          \n",
      " 1   visited                     207917 non-null  int64          \n",
      " 2   Visit Counts                207917 non-null  int64          \n",
      " 3   creation_time               207917 non-null  datetime64[ns] \n",
      " 4   name                        207917 non-null  object         \n",
      " 5   email                       207917 non-null  object         \n",
      " 6   creation_source             207917 non-null  object         \n",
      " 7   last_session_creation_time  207917 non-null  datetime64[ns] \n",
      " 8   opted_in_to_mailing_list    207917 non-null  int64          \n",
      " 9   enabled_for_marketing_drip  207917 non-null  int64          \n",
      " 10  org_id                      207917 non-null  int64          \n",
      " 11  invited_by_user_id          116887 non-null  float64        \n",
      " 12  Who_invited                 207917 non-null  object         \n",
      " 13  Adopted User                207917 non-null  object         \n",
      " 14  Account_Age                 207917 non-null  timedelta64[ns]\n",
      "dtypes: datetime64[ns](2), float64(1), int64(6), object(5), timedelta64[ns](1)\n",
      "memory usage: 25.4+ MB\n"
     ]
    }
   ],
   "source": [
    "user_logs.info()"
   ]
  },
  {
   "cell_type": "markdown",
   "metadata": {},
   "source": [
    "### Drop non-useful fields"
   ]
  },
  {
   "cell_type": "code",
   "execution_count": 40,
   "metadata": {},
   "outputs": [],
   "source": [
    "user_adoption = user_logs.iloc[:, np.r_[6,8,10,12:15]]"
   ]
  },
  {
   "cell_type": "code",
   "execution_count": 41,
   "metadata": {},
   "outputs": [
    {
     "data": {
      "text/html": [
       "<div>\n",
       "<style scoped>\n",
       "    .dataframe tbody tr th:only-of-type {\n",
       "        vertical-align: middle;\n",
       "    }\n",
       "\n",
       "    .dataframe tbody tr th {\n",
       "        vertical-align: top;\n",
       "    }\n",
       "\n",
       "    .dataframe thead th {\n",
       "        text-align: right;\n",
       "    }\n",
       "</style>\n",
       "<table border=\"1\" class=\"dataframe\">\n",
       "  <thead>\n",
       "    <tr style=\"text-align: right;\">\n",
       "      <th></th>\n",
       "      <th>creation_source</th>\n",
       "      <th>opted_in_to_mailing_list</th>\n",
       "      <th>org_id</th>\n",
       "      <th>Who_invited</th>\n",
       "      <th>Adopted User</th>\n",
       "      <th>Account_Age</th>\n",
       "    </tr>\n",
       "  </thead>\n",
       "  <tbody>\n",
       "    <tr>\n",
       "      <th>0</th>\n",
       "      <td>ORG_INVITE</td>\n",
       "      <td>0</td>\n",
       "      <td>225</td>\n",
       "      <td>SOMEONE</td>\n",
       "      <td>True</td>\n",
       "      <td>0 days 00:00:06</td>\n",
       "    </tr>\n",
       "    <tr>\n",
       "      <th>1</th>\n",
       "      <td>SIGNUP_GOOGLE_AUTH</td>\n",
       "      <td>1</td>\n",
       "      <td>166</td>\n",
       "      <td>SELF</td>\n",
       "      <td>False</td>\n",
       "      <td>166 days 00:00:36</td>\n",
       "    </tr>\n",
       "    <tr>\n",
       "      <th>2</th>\n",
       "      <td>ORG_INVITE</td>\n",
       "      <td>0</td>\n",
       "      <td>138</td>\n",
       "      <td>SOMEONE</td>\n",
       "      <td>False</td>\n",
       "      <td>0 days 00:00:37</td>\n",
       "    </tr>\n",
       "    <tr>\n",
       "      <th>3</th>\n",
       "      <td>SIGNUP_GOOGLE_AUTH</td>\n",
       "      <td>0</td>\n",
       "      <td>50</td>\n",
       "      <td>SELF</td>\n",
       "      <td>False</td>\n",
       "      <td>711 days 00:00:33</td>\n",
       "    </tr>\n",
       "    <tr>\n",
       "      <th>4</th>\n",
       "      <td>ORG_INVITE</td>\n",
       "      <td>0</td>\n",
       "      <td>34</td>\n",
       "      <td>SOMEONE</td>\n",
       "      <td>False</td>\n",
       "      <td>14 days 00:00:30</td>\n",
       "    </tr>\n",
       "  </tbody>\n",
       "</table>\n",
       "</div>"
      ],
      "text/plain": [
       "      creation_source  opted_in_to_mailing_list  org_id Who_invited  \\\n",
       "0          ORG_INVITE                         0     225     SOMEONE   \n",
       "1  SIGNUP_GOOGLE_AUTH                         1     166        SELF   \n",
       "2          ORG_INVITE                         0     138     SOMEONE   \n",
       "3  SIGNUP_GOOGLE_AUTH                         0      50        SELF   \n",
       "4          ORG_INVITE                         0      34     SOMEONE   \n",
       "\n",
       "  Adopted User       Account_Age  \n",
       "0         True   0 days 00:00:06  \n",
       "1        False 166 days 00:00:36  \n",
       "2        False   0 days 00:00:37  \n",
       "3        False 711 days 00:00:33  \n",
       "4        False  14 days 00:00:30  "
      ]
     },
     "execution_count": 41,
     "metadata": {},
     "output_type": "execute_result"
    }
   ],
   "source": [
    "user_adoption.head()"
   ]
  },
  {
   "cell_type": "code",
   "execution_count": 42,
   "metadata": {},
   "outputs": [
    {
     "name": "stdout",
     "output_type": "stream",
     "text": [
      "<class 'pandas.core.frame.DataFrame'>\n",
      "Int64Index: 207917 entries, 0 to 207916\n",
      "Data columns (total 6 columns):\n",
      " #   Column                    Non-Null Count   Dtype          \n",
      "---  ------                    --------------   -----          \n",
      " 0   creation_source           207917 non-null  object         \n",
      " 1   opted_in_to_mailing_list  207917 non-null  int64          \n",
      " 2   org_id                    207917 non-null  int64          \n",
      " 3   Who_invited               207917 non-null  object         \n",
      " 4   Adopted User              207917 non-null  object         \n",
      " 5   Account_Age               207917 non-null  timedelta64[ns]\n",
      "dtypes: int64(2), object(3), timedelta64[ns](1)\n",
      "memory usage: 11.1+ MB\n"
     ]
    }
   ],
   "source": [
    "user_adoption.info()"
   ]
  },
  {
   "cell_type": "markdown",
   "metadata": {},
   "source": [
    "#### One-hot encode categorical features"
   ]
  },
  {
   "cell_type": "code",
   "execution_count": 43,
   "metadata": {},
   "outputs": [
    {
     "data": {
      "text/plain": [
       "['creation_source', 'Who_invited', 'Adopted User']"
      ]
     },
     "execution_count": 43,
     "metadata": {},
     "output_type": "execute_result"
    }
   ],
   "source": [
    "# Get categorical features from the user_adoption dataframe\n",
    "df_objects_list = list(user_adoption.select_dtypes(include=['object']))\n",
    "df_objects_list"
   ]
  },
  {
   "cell_type": "code",
   "execution_count": 44,
   "metadata": {},
   "outputs": [
    {
     "data": {
      "text/plain": [
       "['creation_source', 'Who_invited']"
      ]
     },
     "execution_count": 44,
     "metadata": {},
     "output_type": "execute_result"
    }
   ],
   "source": [
    "# remove 'Adopted User' from the categorical feature list, to be hot-one encoded\n",
    "df_objects_list.remove('Adopted User')\n",
    "df_objects_list"
   ]
  },
  {
   "cell_type": "code",
   "execution_count": 45,
   "metadata": {},
   "outputs": [],
   "source": [
    "# create dummy features/indicator variables from the categorical features\n",
    "df_dummies = pd.get_dummies(user_adoption[df_objects_list])"
   ]
  },
  {
   "cell_type": "code",
   "execution_count": 46,
   "metadata": {},
   "outputs": [
    {
     "data": {
      "text/html": [
       "<div>\n",
       "<style scoped>\n",
       "    .dataframe tbody tr th:only-of-type {\n",
       "        vertical-align: middle;\n",
       "    }\n",
       "\n",
       "    .dataframe tbody tr th {\n",
       "        vertical-align: top;\n",
       "    }\n",
       "\n",
       "    .dataframe thead th {\n",
       "        text-align: right;\n",
       "    }\n",
       "</style>\n",
       "<table border=\"1\" class=\"dataframe\">\n",
       "  <thead>\n",
       "    <tr style=\"text-align: right;\">\n",
       "      <th></th>\n",
       "      <th>0</th>\n",
       "      <th>1</th>\n",
       "      <th>2</th>\n",
       "      <th>3</th>\n",
       "      <th>4</th>\n",
       "    </tr>\n",
       "  </thead>\n",
       "  <tbody>\n",
       "    <tr>\n",
       "      <th>creation_source_GUEST_INVITE</th>\n",
       "      <td>0</td>\n",
       "      <td>0</td>\n",
       "      <td>0</td>\n",
       "      <td>0</td>\n",
       "      <td>0</td>\n",
       "    </tr>\n",
       "    <tr>\n",
       "      <th>creation_source_ORG_INVITE</th>\n",
       "      <td>1</td>\n",
       "      <td>0</td>\n",
       "      <td>1</td>\n",
       "      <td>0</td>\n",
       "      <td>1</td>\n",
       "    </tr>\n",
       "    <tr>\n",
       "      <th>creation_source_PERSONAL_PROJECTS</th>\n",
       "      <td>0</td>\n",
       "      <td>0</td>\n",
       "      <td>0</td>\n",
       "      <td>0</td>\n",
       "      <td>0</td>\n",
       "    </tr>\n",
       "    <tr>\n",
       "      <th>creation_source_SIGNUP</th>\n",
       "      <td>0</td>\n",
       "      <td>0</td>\n",
       "      <td>0</td>\n",
       "      <td>0</td>\n",
       "      <td>0</td>\n",
       "    </tr>\n",
       "    <tr>\n",
       "      <th>creation_source_SIGNUP_GOOGLE_AUTH</th>\n",
       "      <td>0</td>\n",
       "      <td>1</td>\n",
       "      <td>0</td>\n",
       "      <td>1</td>\n",
       "      <td>0</td>\n",
       "    </tr>\n",
       "    <tr>\n",
       "      <th>Who_invited_SELF</th>\n",
       "      <td>0</td>\n",
       "      <td>1</td>\n",
       "      <td>0</td>\n",
       "      <td>1</td>\n",
       "      <td>0</td>\n",
       "    </tr>\n",
       "    <tr>\n",
       "      <th>Who_invited_SOMEONE</th>\n",
       "      <td>1</td>\n",
       "      <td>0</td>\n",
       "      <td>1</td>\n",
       "      <td>0</td>\n",
       "      <td>1</td>\n",
       "    </tr>\n",
       "  </tbody>\n",
       "</table>\n",
       "</div>"
      ],
      "text/plain": [
       "                                    0  1  2  3  4\n",
       "creation_source_GUEST_INVITE        0  0  0  0  0\n",
       "creation_source_ORG_INVITE          1  0  1  0  1\n",
       "creation_source_PERSONAL_PROJECTS   0  0  0  0  0\n",
       "creation_source_SIGNUP              0  0  0  0  0\n",
       "creation_source_SIGNUP_GOOGLE_AUTH  0  1  0  1  0\n",
       "Who_invited_SELF                    0  1  0  1  0\n",
       "Who_invited_SOMEONE                 1  0  1  0  1"
      ]
     },
     "execution_count": 46,
     "metadata": {},
     "output_type": "execute_result"
    }
   ],
   "source": [
    "df_dummies.head().T"
   ]
  },
  {
   "cell_type": "code",
   "execution_count": 47,
   "metadata": {},
   "outputs": [],
   "source": [
    "# drop columns, which were hot-one encoded from the 'user_adoption' dataframe\n",
    "user_adoption = pd.DataFrame(user_adoption.drop(df_objects_list, axis=1))"
   ]
  },
  {
   "cell_type": "code",
   "execution_count": 48,
   "metadata": {},
   "outputs": [],
   "source": [
    "# add the dummy features to the 'user_adoption' dataframe\n",
    "user_adoption = user_adoption.merge(df_dummies, left_index=True, right_index=True)"
   ]
  },
  {
   "cell_type": "code",
   "execution_count": 49,
   "metadata": {},
   "outputs": [
    {
     "data": {
      "text/html": [
       "<div>\n",
       "<style scoped>\n",
       "    .dataframe tbody tr th:only-of-type {\n",
       "        vertical-align: middle;\n",
       "    }\n",
       "\n",
       "    .dataframe tbody tr th {\n",
       "        vertical-align: top;\n",
       "    }\n",
       "\n",
       "    .dataframe thead th {\n",
       "        text-align: right;\n",
       "    }\n",
       "</style>\n",
       "<table border=\"1\" class=\"dataframe\">\n",
       "  <thead>\n",
       "    <tr style=\"text-align: right;\">\n",
       "      <th></th>\n",
       "      <th>0</th>\n",
       "      <th>1</th>\n",
       "      <th>2</th>\n",
       "    </tr>\n",
       "  </thead>\n",
       "  <tbody>\n",
       "    <tr>\n",
       "      <th>opted_in_to_mailing_list</th>\n",
       "      <td>0</td>\n",
       "      <td>1</td>\n",
       "      <td>0</td>\n",
       "    </tr>\n",
       "    <tr>\n",
       "      <th>org_id</th>\n",
       "      <td>225</td>\n",
       "      <td>166</td>\n",
       "      <td>138</td>\n",
       "    </tr>\n",
       "    <tr>\n",
       "      <th>Adopted User</th>\n",
       "      <td>True</td>\n",
       "      <td>False</td>\n",
       "      <td>False</td>\n",
       "    </tr>\n",
       "    <tr>\n",
       "      <th>Account_Age</th>\n",
       "      <td>0 days 00:00:06</td>\n",
       "      <td>166 days 00:00:36</td>\n",
       "      <td>0 days 00:00:37</td>\n",
       "    </tr>\n",
       "    <tr>\n",
       "      <th>creation_source_GUEST_INVITE</th>\n",
       "      <td>0</td>\n",
       "      <td>0</td>\n",
       "      <td>0</td>\n",
       "    </tr>\n",
       "    <tr>\n",
       "      <th>creation_source_ORG_INVITE</th>\n",
       "      <td>1</td>\n",
       "      <td>0</td>\n",
       "      <td>1</td>\n",
       "    </tr>\n",
       "    <tr>\n",
       "      <th>creation_source_PERSONAL_PROJECTS</th>\n",
       "      <td>0</td>\n",
       "      <td>0</td>\n",
       "      <td>0</td>\n",
       "    </tr>\n",
       "    <tr>\n",
       "      <th>creation_source_SIGNUP</th>\n",
       "      <td>0</td>\n",
       "      <td>0</td>\n",
       "      <td>0</td>\n",
       "    </tr>\n",
       "    <tr>\n",
       "      <th>creation_source_SIGNUP_GOOGLE_AUTH</th>\n",
       "      <td>0</td>\n",
       "      <td>1</td>\n",
       "      <td>0</td>\n",
       "    </tr>\n",
       "    <tr>\n",
       "      <th>Who_invited_SELF</th>\n",
       "      <td>0</td>\n",
       "      <td>1</td>\n",
       "      <td>0</td>\n",
       "    </tr>\n",
       "    <tr>\n",
       "      <th>Who_invited_SOMEONE</th>\n",
       "      <td>1</td>\n",
       "      <td>0</td>\n",
       "      <td>1</td>\n",
       "    </tr>\n",
       "  </tbody>\n",
       "</table>\n",
       "</div>"
      ],
      "text/plain": [
       "                                                  0                  1  \\\n",
       "opted_in_to_mailing_list                          0                  1   \n",
       "org_id                                          225                166   \n",
       "Adopted User                                   True              False   \n",
       "Account_Age                         0 days 00:00:06  166 days 00:00:36   \n",
       "creation_source_GUEST_INVITE                      0                  0   \n",
       "creation_source_ORG_INVITE                        1                  0   \n",
       "creation_source_PERSONAL_PROJECTS                 0                  0   \n",
       "creation_source_SIGNUP                            0                  0   \n",
       "creation_source_SIGNUP_GOOGLE_AUTH                0                  1   \n",
       "Who_invited_SELF                                  0                  1   \n",
       "Who_invited_SOMEONE                               1                  0   \n",
       "\n",
       "                                                  2  \n",
       "opted_in_to_mailing_list                          0  \n",
       "org_id                                          138  \n",
       "Adopted User                                  False  \n",
       "Account_Age                         0 days 00:00:37  \n",
       "creation_source_GUEST_INVITE                      0  \n",
       "creation_source_ORG_INVITE                        1  \n",
       "creation_source_PERSONAL_PROJECTS                 0  \n",
       "creation_source_SIGNUP                            0  \n",
       "creation_source_SIGNUP_GOOGLE_AUTH                0  \n",
       "Who_invited_SELF                                  0  \n",
       "Who_invited_SOMEONE                               1  "
      ]
     },
     "execution_count": 49,
     "metadata": {},
     "output_type": "execute_result"
    }
   ],
   "source": [
    "user_adoption.head(3).T"
   ]
  },
  {
   "cell_type": "markdown",
   "metadata": {},
   "source": [
    "#### Convert column datatype"
   ]
  },
  {
   "cell_type": "code",
   "execution_count": 50,
   "metadata": {},
   "outputs": [
    {
     "name": "stdout",
     "output_type": "stream",
     "text": [
      "<class 'pandas.core.frame.DataFrame'>\n",
      "Int64Index: 207917 entries, 0 to 207916\n",
      "Data columns (total 11 columns):\n",
      " #   Column                              Non-Null Count   Dtype          \n",
      "---  ------                              --------------   -----          \n",
      " 0   opted_in_to_mailing_list            207917 non-null  int64          \n",
      " 1   org_id                              207917 non-null  int64          \n",
      " 2   Adopted User                        207917 non-null  object         \n",
      " 3   Account_Age                         207917 non-null  timedelta64[ns]\n",
      " 4   creation_source_GUEST_INVITE        207917 non-null  uint8          \n",
      " 5   creation_source_ORG_INVITE          207917 non-null  uint8          \n",
      " 6   creation_source_PERSONAL_PROJECTS   207917 non-null  uint8          \n",
      " 7   creation_source_SIGNUP              207917 non-null  uint8          \n",
      " 8   creation_source_SIGNUP_GOOGLE_AUTH  207917 non-null  uint8          \n",
      " 9   Who_invited_SELF                    207917 non-null  uint8          \n",
      " 10  Who_invited_SOMEONE                 207917 non-null  uint8          \n",
      "dtypes: int64(2), object(1), timedelta64[ns](1), uint8(7)\n",
      "memory usage: 19.3+ MB\n"
     ]
    }
   ],
   "source": [
    "user_adoption.info()"
   ]
  },
  {
   "cell_type": "code",
   "execution_count": 62,
   "metadata": {},
   "outputs": [],
   "source": [
    "user_adoption['Adopted User'] = user_adoption['Adopted User'].astype('int64')\n",
    "user_adoption['Account_Age'] = user_adoption['Account_Age'].astype('int64')"
   ]
  },
  {
   "cell_type": "markdown",
   "metadata": {},
   "source": [
    "### Correlation of Features"
   ]
  },
  {
   "cell_type": "code",
   "execution_count": 63,
   "metadata": {},
   "outputs": [],
   "source": [
    "df_corr = user_adoption.iloc[:, np.r_[2, 0:2, 3:11]]\n",
    "\n",
    "corr_mtrx = df_corr.corr()"
   ]
  },
  {
   "cell_type": "code",
   "execution_count": 64,
   "metadata": {},
   "outputs": [
    {
     "data": {
      "image/png": "[encoded data removed]",
      "text/plain": [
       "<Figure size 1080x648 with 2 Axes>"
      ]
     },
     "metadata": {
      "needs_background": "light"
     },
     "output_type": "display_data"
    }
   ],
   "source": [
    "# Plot all feature correlation\n",
    "fig, ax = plt.subplots(figsize=(15,9))\n",
    "hmap = sns.heatmap(corr_mtrx, annot=True, ax=ax, cmap='coolwarm',\n",
    "                  fmt='.2f', linewidth=.05)\n",
    "fig.subplots_adjust(top=0.93)\n",
    "title = fig.suptitle('Feature Correlation with User Adoption', fontsize=14)"
   ]
  },
  {
   "cell_type": "markdown",
   "metadata": {},
   "source": [
    "#### Correlations\n",
    "\n",
    "The following features are most correlated with User Adoption:\n",
    "- Sign-up was by Invitation rather than a self-signup\n",
    "- Invitation source was a Guest Invite, rather than an Organization Invite\n",
    "- Of the self-signons, Personal Projects was ranked 3rd after a Guest and Organization Invites"
   ]
  },
  {
   "cell_type": "markdown",
   "metadata": {},
   "source": [
    "# Model"
   ]
  },
  {
   "cell_type": "code",
   "execution_count": 55,
   "metadata": {},
   "outputs": [],
   "source": [
    "# Imports\n",
    "# import scipy\n",
    "from sklearn import preprocessing\n",
    "from sklearn.model_selection import train_test_split\n",
    "\n",
    "from sklearn.ensemble import GradientBoostingClassifier\n",
    "from sklearn.metrics import classification_report, confusion_matrix, roc_curve, auc\n",
    "from sklearn.metrics import plot_confusion_matrix"
   ]
  },
  {
   "cell_type": "code",
   "execution_count": 65,
   "metadata": {},
   "outputs": [
    {
     "name": "stdout",
     "output_type": "stream",
     "text": [
      "<class 'pandas.core.frame.DataFrame'>\n",
      "Int64Index: 207917 entries, 0 to 207916\n",
      "Data columns (total 11 columns):\n",
      " #   Column                              Non-Null Count   Dtype\n",
      "---  ------                              --------------   -----\n",
      " 0   opted_in_to_mailing_list            207917 non-null  int64\n",
      " 1   org_id                              207917 non-null  int64\n",
      " 2   Adopted User                        207917 non-null  int64\n",
      " 3   Account_Age                         207917 non-null  int64\n",
      " 4   creation_source_GUEST_INVITE        207917 non-null  uint8\n",
      " 5   creation_source_ORG_INVITE          207917 non-null  uint8\n",
      " 6   creation_source_PERSONAL_PROJECTS   207917 non-null  uint8\n",
      " 7   creation_source_SIGNUP              207917 non-null  uint8\n",
      " 8   creation_source_SIGNUP_GOOGLE_AUTH  207917 non-null  uint8\n",
      " 9   Who_invited_SELF                    207917 non-null  uint8\n",
      " 10  Who_invited_SOMEONE                 207917 non-null  uint8\n",
      "dtypes: int64(4), uint8(7)\n",
      "memory usage: 19.3 MB\n"
     ]
    }
   ],
   "source": [
    "user_adoption.info()"
   ]
  },
  {
   "cell_type": "code",
   "execution_count": 66,
   "metadata": {},
   "outputs": [],
   "source": [
    "# Create X matrix:\n",
    "X = user_adoption.iloc[:, np.r_[0:2, 3:11]]"
   ]
  },
  {
   "cell_type": "code",
   "execution_count": 67,
   "metadata": {},
   "outputs": [
    {
     "data": {
      "text/plain": [
       "0    1\n",
       "1    0\n",
       "Name: Adopted User, dtype: int64"
      ]
     },
     "execution_count": 67,
     "metadata": {},
     "output_type": "execute_result"
    }
   ],
   "source": [
    "# Create y matrix:\n",
    "y = user_adoption['Adopted User']\n",
    "y.head(2)"
   ]
  },
  {
   "cell_type": "code",
   "execution_count": 68,
   "metadata": {},
   "outputs": [
    {
     "data": {
      "text/plain": [
       "opted_in_to_mailing_list              0\n",
       "org_id                                0\n",
       "Adopted User                          0\n",
       "Account_Age                           0\n",
       "creation_source_GUEST_INVITE          0\n",
       "creation_source_ORG_INVITE            0\n",
       "creation_source_PERSONAL_PROJECTS     0\n",
       "creation_source_SIGNUP                0\n",
       "creation_source_SIGNUP_GOOGLE_AUTH    0\n",
       "Who_invited_SELF                      0\n",
       "Who_invited_SOMEONE                   0\n",
       "dtype: int64"
      ]
     },
     "execution_count": 68,
     "metadata": {},
     "output_type": "execute_result"
    }
   ],
   "source": [
    "user_adoption.isna().sum()"
   ]
  },
  {
   "cell_type": "markdown",
   "metadata": {},
   "source": [
    "**<font color='teal'>Apply standard scaler to the X matrix</font>***"
   ]
  },
  {
   "cell_type": "code",
   "execution_count": 69,
   "metadata": {},
   "outputs": [],
   "source": [
    "scaler = preprocessing.StandardScaler().fit(X)\n",
    "X_scaled = scaler.transform(X)"
   ]
  },
  {
   "cell_type": "markdown",
   "metadata": {},
   "source": [
    "**<font color='teal'>Split X_scaled and y into 75/25 Training and Test data subsets</font>**"
   ]
  },
  {
   "cell_type": "code",
   "execution_count": 70,
   "metadata": {},
   "outputs": [],
   "source": [
    "X_train, X_test, y_train, y_test = train_test_split(X_scaled, y, test_size=0.25, random_state=100)"
   ]
  },
  {
   "cell_type": "code",
   "execution_count": 71,
   "metadata": {},
   "outputs": [
    {
     "data": {
      "text/plain": [
       "((155937, 10), (51980, 10), (155937,), (51980,))"
      ]
     },
     "execution_count": 71,
     "metadata": {},
     "output_type": "execute_result"
    }
   ],
   "source": [
    "X_train.shape, X_test.shape, y_train.shape, y_test.shape"
   ]
  },
  {
   "cell_type": "markdown",
   "metadata": {},
   "source": [
    "**<font color='teal'>Test 6 learning rates in the gradient boosting classifier</font>**"
   ]
  },
  {
   "cell_type": "code",
   "execution_count": 72,
   "metadata": {},
   "outputs": [
    {
     "name": "stdout",
     "output_type": "stream",
     "text": [
      "Learning Rate:  0.05\n",
      "Accuracy score (training): 0.867\n",
      "Accuracy score (validation): 0.867\n",
      "\n",
      "Learning Rate:  0.1\n",
      "Accuracy score (training): 0.871\n",
      "Accuracy score (validation): 0.870\n",
      "\n",
      "Learning Rate:  0.25\n",
      "Accuracy score (training): 0.871\n",
      "Accuracy score (validation): 0.870\n",
      "\n",
      "Learning Rate:  0.5\n",
      "Accuracy score (training): 0.878\n",
      "Accuracy score (validation): 0.879\n",
      "\n",
      "Learning Rate:  0.75\n",
      "Accuracy score (training): 0.877\n",
      "Accuracy score (validation): 0.876\n",
      "\n",
      "Learning Rate:  1\n",
      "Accuracy score (training): 0.875\n",
      "Accuracy score (validation): 0.874\n",
      "\n"
     ]
    }
   ],
   "source": [
    "learning_rates = [0.05, 0.1, 0.25, 0.5, 0.75, 1]\n",
    "for a_learning_rate in learning_rates:\n",
    "    gb = GradientBoostingClassifier(n_estimators=20, learning_rate=a_learning_rate,\n",
    "                                   max_features=2, max_depth=2, random_state=0)\n",
    "    gb.fit(X_train, y_train)\n",
    "    print('Learning Rate: ', a_learning_rate)\n",
    "    print('Accuracy score (training): {0:.3f}'.format(gb.score(X_train, y_train)))\n",
    "    print('Accuracy score (validation): {0:.3f}'.format(gb.score(X_test, y_test)))\n",
    "    print('')"
   ]
  },
  {
   "cell_type": "markdown",
   "metadata": {},
   "source": [
    "**<font color='teal'>Apply the best learning rate to the model fit and predict on the testing set.</font>**"
   ]
  },
  {
   "cell_type": "code",
   "execution_count": 74,
   "metadata": {},
   "outputs": [],
   "source": [
    "# assign class labels\n",
    "class_names = ['Adopted', 'Not Adopted']"
   ]
  },
  {
   "cell_type": "code",
   "execution_count": 75,
   "metadata": {},
   "outputs": [],
   "source": [
    "gb = GradientBoostingClassifier(n_estimators=20, learning_rate=0.5,\n",
    "                               max_features=2, max_depth=2, random_state=0)\n",
    "gb.fit(X_train, y_train)\n",
    "\n",
    "y_pred = gb.predict(X_test)\n",
    "cm = confusion_matrix(y_test, y_pred)\n",
    "np.set_printoptions(precision=2)"
   ]
  },
  {
   "cell_type": "markdown",
   "metadata": {},
   "source": [
    "**<font color='teal'>Print out the confusion matrix and the classification report to review the model performance.</font>**"
   ]
  },
  {
   "cell_type": "code",
   "execution_count": 76,
   "metadata": {},
   "outputs": [
    {
     "data": {
      "text/plain": [
       "([<matplotlib.axis.YTick at 0x27c8c80c5e0>,\n",
       "  <matplotlib.axis.YTick at 0x27c8c80c220>],\n",
       " [Text(0, 0, 'Adopted'), Text(0, 0, 'Not Adopted')])"
      ]
     },
     "execution_count": 76,
     "metadata": {},
     "output_type": "execute_result"
    },
    {
     "data": {
      "image/png": "[encoded data removed]",
      "text/plain": [
       "<Figure size 432x288 with 2 Axes>"
      ]
     },
     "metadata": {
      "needs_background": "light"
     },
     "output_type": "display_data"
    }
   ],
   "source": [
    "classes = class_names\n",
    "\n",
    "plt.figure()\n",
    "plt.imshow(cm, interpolation='nearest', cmap=plt.cm.Blues)\n",
    "plt.title('Confusion Matrix')\n",
    "plt.colorbar()\n",
    "\n",
    "tick_marks = np.arange(len(classes))\n",
    "plt.xticks(tick_marks, classes, rotation=45)\n",
    "plt.yticks(tick_marks, classes)"
   ]
  },
  {
   "cell_type": "code",
   "execution_count": 77,
   "metadata": {},
   "outputs": [],
   "source": [
    "df_cm = pd.DataFrame(data=cm, index=classes, columns=classes)\n",
    "df_cm.index.name = 'TRUE'\n",
    "df_cm.columns.name = 'PREDICTION'\n",
    "df_cm.loc['Total'] = df_cm.sum()\n",
    "df_cm['Total'] = df_cm.sum(axis=1)"
   ]
  },
  {
   "cell_type": "code",
   "execution_count": 78,
   "metadata": {},
   "outputs": [
    {
     "name": "stdout",
     "output_type": "stream",
     "text": [
      "PREDICTION   Adopted  Not Adopted  Total\n",
      "TRUE                                    \n",
      "Adopted        44988           66  45054\n",
      "Not Adopted     6243          683   6926\n",
      "Total          51231          749  51980\n"
     ]
    }
   ],
   "source": [
    "print(df_cm)"
   ]
  },
  {
   "cell_type": "code",
   "execution_count": 79,
   "metadata": {},
   "outputs": [
    {
     "name": "stdout",
     "output_type": "stream",
     "text": [
      "              precision    recall  f1-score   support\n",
      "\n",
      "           0       0.88      1.00      0.93     45054\n",
      "           1       0.91      0.10      0.18      6926\n",
      "\n",
      "    accuracy                           0.88     51980\n",
      "   macro avg       0.90      0.55      0.56     51980\n",
      "weighted avg       0.88      0.88      0.83     51980\n",
      "\n"
     ]
    }
   ],
   "source": [
    "print(classification_report(y_test, y_pred))"
   ]
  },
  {
   "cell_type": "markdown",
   "metadata": {},
   "source": [
    "**<font color='teal'>Calculate the ROC for the model.</font>**"
   ]
  },
  {
   "cell_type": "code",
   "execution_count": 80,
   "metadata": {},
   "outputs": [
    {
     "data": {
      "text/plain": [
       "[<matplotlib.lines.Line2D at 0x27c8fec2490>]"
      ]
     },
     "execution_count": 80,
     "metadata": {},
     "output_type": "execute_result"
    },
    {
     "data": {
      "image/png": "[encoded data removed]",
      "text/plain": [
       "<Figure size 432x288 with 1 Axes>"
      ]
     },
     "metadata": {
      "needs_background": "light"
     },
     "output_type": "display_data"
    }
   ],
   "source": [
    "y_pred_prob = gb.predict_proba(X_test)\n",
    "fpr, tpr, thers = roc_curve(y_test, y_pred_prob[:,1])\n",
    "plt.plot(fpr, tpr, linestyle='-')"
   ]
  },
  {
   "cell_type": "code",
   "execution_count": 81,
   "metadata": {},
   "outputs": [
    {
     "data": {
      "text/html": [
       "<div>\n",
       "<style scoped>\n",
       "    .dataframe tbody tr th:only-of-type {\n",
       "        vertical-align: middle;\n",
       "    }\n",
       "\n",
       "    .dataframe tbody tr th {\n",
       "        vertical-align: top;\n",
       "    }\n",
       "\n",
       "    .dataframe thead th {\n",
       "        text-align: right;\n",
       "    }\n",
       "</style>\n",
       "<table border=\"1\" class=\"dataframe\">\n",
       "  <thead>\n",
       "    <tr style=\"text-align: right;\">\n",
       "      <th></th>\n",
       "      <th>importance</th>\n",
       "    </tr>\n",
       "  </thead>\n",
       "  <tbody>\n",
       "    <tr>\n",
       "      <th>Account_Age</th>\n",
       "      <td>0.651870</td>\n",
       "    </tr>\n",
       "    <tr>\n",
       "      <th>org_id</th>\n",
       "      <td>0.225256</td>\n",
       "    </tr>\n",
       "    <tr>\n",
       "      <th>Who_invited_SOMEONE</th>\n",
       "      <td>0.046351</td>\n",
       "    </tr>\n",
       "    <tr>\n",
       "      <th>creation_source_SIGNUP_GOOGLE_AUTH</th>\n",
       "      <td>0.024113</td>\n",
       "    </tr>\n",
       "    <tr>\n",
       "      <th>creation_source_GUEST_INVITE</th>\n",
       "      <td>0.015021</td>\n",
       "    </tr>\n",
       "    <tr>\n",
       "      <th>creation_source_SIGNUP</th>\n",
       "      <td>0.014792</td>\n",
       "    </tr>\n",
       "    <tr>\n",
       "      <th>opted_in_to_mailing_list</th>\n",
       "      <td>0.009860</td>\n",
       "    </tr>\n",
       "    <tr>\n",
       "      <th>Who_invited_SELF</th>\n",
       "      <td>0.005830</td>\n",
       "    </tr>\n",
       "    <tr>\n",
       "      <th>creation_source_PERSONAL_PROJECTS</th>\n",
       "      <td>0.004071</td>\n",
       "    </tr>\n",
       "    <tr>\n",
       "      <th>creation_source_ORG_INVITE</th>\n",
       "      <td>0.002837</td>\n",
       "    </tr>\n",
       "  </tbody>\n",
       "</table>\n",
       "</div>"
      ],
      "text/plain": [
       "                                    importance\n",
       "Account_Age                           0.651870\n",
       "org_id                                0.225256\n",
       "Who_invited_SOMEONE                   0.046351\n",
       "creation_source_SIGNUP_GOOGLE_AUTH    0.024113\n",
       "creation_source_GUEST_INVITE          0.015021\n",
       "creation_source_SIGNUP                0.014792\n",
       "opted_in_to_mailing_list              0.009860\n",
       "Who_invited_SELF                      0.005830\n",
       "creation_source_PERSONAL_PROJECTS     0.004071\n",
       "creation_source_ORG_INVITE            0.002837"
      ]
     },
     "execution_count": 81,
     "metadata": {},
     "output_type": "execute_result"
    }
   ],
   "source": [
    "pd.DataFrame(gb.feature_importances_, index=X.columns,\n",
    "             columns = ['importance']).sort_values('importance', ascending=False)"
   ]
  },
  {
   "cell_type": "markdown",
   "metadata": {},
   "source": [
    "# Part II - Conclusions"
   ]
  },
  {
   "cell_type": "markdown",
   "metadata": {},
   "source": [
    "Gradient Boosting Classifier results in classification accuracy of 88%.\n",
    "\n",
    "The features that have the highest impact on User Adoption rate are:\n",
    "- Account Age\n",
    "- Organization Id\n",
    "- Being invited, ratther than a self-signup"
   ]
  },
  {
   "cell_type": "code",
   "execution_count": null,
   "metadata": {},
   "outputs": [],
   "source": []
  }
 ],
 "metadata": {
  "kernelspec": {
   "display_name": "Python 3",
   "language": "python",
   "name": "python3"
  },
  "language_info": {
   "codemirror_mode": {
    "name": "ipython",
    "version": 3
   },
   "file_extension": ".py",
   "mimetype": "text/x-python",
   "name": "python",
   "nbconvert_exporter": "python",
   "pygments_lexer": "ipython3",
   "version": "3.8.3"
  }
 },
 "nbformat": 4,
 "nbformat_minor": 4
}
